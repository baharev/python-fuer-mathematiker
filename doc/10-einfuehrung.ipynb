{
 "metadata": {
  "name": "",
  "signature": "sha256:b54a2d14025680f053f80c5cf83041015458131c99fe3715d831839c4d425fad"
 },
 "nbformat": 3,
 "nbformat_minor": 0,
 "worksheets": [
  {
   "cells": [
    {
     "cell_type": "markdown",
     "metadata": {},
     "source": [
      "[INDEX](00-index.ipynb)"
     ]
    },
    {
     "cell_type": "markdown",
     "metadata": {},
     "source": [
      "# Python Kurzeinf\u00fchrung\n",
      "\n",
      "Der beste Weg Python kennen zu lernen ist ein Sprung ins kalte Wasser.\n",
      "Die folgenden Beispiele zeigen anschauliche Beispiele,\n",
      "die einen ersten groben Umriss um die Funktionalit\u00e4t Python's liefert.\n",
      "Davon neugierig gemacht, werden in der Folge die darin versteckten Grundprinzipien erkl\u00e4rt."
     ]
    },
    {
     "cell_type": "markdown",
     "metadata": {
      "slideshow": {
       "slide_type": "slide"
      }
     },
     "source": [
      "Keine Scheu, kopiere einzelne Zellen in ein neues IPython Notebook und fange an zu experimentieren!"
     ]
    },
    {
     "cell_type": "code",
     "collapsed": false,
     "input": [
      "14 + 3 * (8 - 1)"
     ],
     "language": "python",
     "metadata": {},
     "outputs": [
      {
       "metadata": {},
       "output_type": "pyout",
       "prompt_number": 1,
       "text": [
        "35"
       ]
      }
     ],
     "prompt_number": 1
    },
    {
     "cell_type": "code",
     "collapsed": false,
     "input": [
      "banane = 3**2 + 1\n",
      "print(banane)"
     ],
     "language": "python",
     "metadata": {},
     "outputs": [
      {
       "output_type": "stream",
       "stream": "stdout",
       "text": [
        "10\n"
       ]
      }
     ],
     "prompt_number": 2
    },
    {
     "cell_type": "code",
     "collapsed": false,
     "input": [
      "apfel = 8.41\n",
      "print(2 * banane + apfel)"
     ],
     "language": "python",
     "metadata": {},
     "outputs": [
      {
       "output_type": "stream",
       "stream": "stdout",
       "text": [
        "28.41\n"
       ]
      }
     ],
     "prompt_number": 3
    },
    {
     "cell_type": "code",
     "collapsed": false,
     "input": [
      "from math import sin\n",
      "sin(3.14)"
     ],
     "language": "python",
     "metadata": {},
     "outputs": [
      {
       "metadata": {},
       "output_type": "pyout",
       "prompt_number": 4,
       "text": [
        "0.0015926529164868282"
       ]
      }
     ],
     "prompt_number": 4
    },
    {
     "cell_type": "code",
     "collapsed": false,
     "input": [
      "from sympy import sin, latex"
     ],
     "language": "python",
     "metadata": {},
     "outputs": [],
     "prompt_number": 5
    },
    {
     "cell_type": "code",
     "collapsed": false,
     "input": [
      "from sympy.abc import x\n",
      "f = 2 * x / (x - sin(x))\n",
      "print f\n",
      "f_dash = f.diff(x).simplify()\n",
      "print f_dash"
     ],
     "language": "python",
     "metadata": {},
     "outputs": [
      {
       "output_type": "stream",
       "stream": "stdout",
       "text": [
        "2*x/(x - sin(x))\n",
        "2*(x*cos(x) - sin(x))/(x - sin(x))**2"
       ]
      },
      {
       "output_type": "stream",
       "stream": "stdout",
       "text": [
        "\n"
       ]
      }
     ],
     "prompt_number": 6
    },
    {
     "cell_type": "code",
     "collapsed": false,
     "input": [
      "from IPython.display import display, Math\n",
      "def pretty(formula):\n",
      "    display(Math(latex(formula)))"
     ],
     "language": "python",
     "metadata": {},
     "outputs": [],
     "prompt_number": 7
    },
    {
     "cell_type": "code",
     "collapsed": false,
     "input": [
      "pretty(f)"
     ],
     "language": "python",
     "metadata": {},
     "outputs": [
      {
       "latex": [
        "$$\\frac{2 x}{x - \\sin{\\left (x \\right )}}$$"
       ],
       "metadata": {},
       "output_type": "display_data",
       "text": [
        "<IPython.core.display.Math at 0x2a397d0>"
       ]
      }
     ],
     "prompt_number": 8
    },
    {
     "cell_type": "code",
     "collapsed": false,
     "input": [
      "pretty(f_dash)"
     ],
     "language": "python",
     "metadata": {},
     "outputs": [
      {
       "latex": [
        "$$\\frac{2 x \\cos{\\left (x \\right )} - 2 \\sin{\\left (x \\right )}}{\\left(x - \\sin{\\left (x \\right )}\\right)^{2}}$$"
       ],
       "metadata": {},
       "output_type": "display_data",
       "text": [
        "<IPython.core.display.Math at 0x2a39a10>"
       ]
      }
     ],
     "prompt_number": 9
    },
    {
     "cell_type": "code",
     "collapsed": false,
     "input": [
      "%matplotlib inline\n",
      "import matplotlib.pyplot as plt\n",
      "\n",
      "xx = [20, 15,  11, 9.6,  13,  20,  25, 20]\n",
      "yy = [3, 2.5, 2.3,   3, 3.1, 2.3, 2.6, 3]\n",
      "\n",
      "plt.plot(xx, yy, \"o-\")"
     ],
     "language": "python",
     "metadata": {},
     "outputs": [
      {
       "metadata": {},
       "output_type": "pyout",
       "prompt_number": 14,
       "text": [
        "[<matplotlib.lines.Line2D at 0x57758d0>]"
       ]
      },
      {
       "metadata": {},
       "output_type": "display_data",
       "png": "[encoded data removed]",
       "text": [
        "<matplotlib.figure.Figure at 0x53f58d0>"
       ]
      }
     ],
     "prompt_number": 14
    },
    {
     "cell_type": "code",
     "collapsed": false,
     "input": [
      "from IPython.html.widgets import interact\n",
      "%matplotlib inline\n",
      "import matplotlib.pyplot as plt\n",
      "import numpy as np\n",
      "\n",
      "@interact(a = (0, 20, .1), b = (0, 3, .1))\n",
      "def damped_oscillation(a = 10, b = .5):\n",
      "    xx = np.linspace(0, 10, 1000)\n",
      "    yy = a * np.exp(-b * xx) * np.cos(a * xx) / a\n",
      "    plt.ylim(-1, 1)\n",
      "    plt.plot(xx, yy)"
     ],
     "language": "python",
     "metadata": {},
     "outputs": [
      {
       "metadata": {},
       "output_type": "display_data",
       "png": "[encoded data removed]",
       "text": [
        "<matplotlib.figure.Figure at 0x5119250>"
       ]
      }
     ],
     "prompt_number": 11
    }
   ],
   "metadata": {}
  }
 ]
}
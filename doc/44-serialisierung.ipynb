{
 "metadata": {
  "name": "",
  "signature": "sha256:a2335b77c7900c854187d3fbcb4155b935c1bb8fa2b553202058ed63a0e5a731"
 },
 "nbformat": 3,
 "nbformat_minor": 0,
 "worksheets": [
  {
   "cells": [
    {
     "cell_type": "heading",
     "level": 1,
     "metadata": {},
     "source": [
      "Daten, Formate und Persistenz"
     ]
    },
    {
     "cell_type": "markdown",
     "metadata": {},
     "source": [
      "Ein Computerprogramm l\u00e4uft ausschlie\u00dflich im Arbeitsspeicher.\n",
      "Das ist ein schneller, aber verg\u00e4nglicher Ort um Daten abzulegen.\n",
      "M\u00f6chte man \n",
      "\n",
      "* Ergebnisse einer Berechnung speichern,\n",
      "* existierende Daten einlesen,\n",
      "* oder Berechnungen zwischenspeichern\n",
      "\n",
      "braucht es weiterer Technologien, um die Daten aus dem Arbeitsspeicher z.B. auf die Festplatte oder in eine Datenbank zu speichern bzw. von dort wieder einzulesen.\n",
      "\n",
      "Der \u00dcberbegriff f\u00fcr jegliches Speichern von Daten in einer Datei ist [Serialisierung](http://de.wikipedia.org/wiki/Serialisierung).\n",
      "Die Daten des Programmes werden hierbei kodiert und als lineare Sequenz von Bits&Bytes abgelegt.\n",
      "Im folgenden werden einige solcher Formate vorgestellt und kurz erkl\u00e4rt,\n",
      "wie sie mit Python gelesen bzw. geschrieben werden k\u00f6nnen."
     ]
    },
    {
     "cell_type": "code",
     "collapsed": false,
     "input": [],
     "language": "python",
     "metadata": {},
     "outputs": []
    }
   ],
   "metadata": {}
  }
 ]
}
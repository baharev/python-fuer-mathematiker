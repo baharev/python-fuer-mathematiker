{
 "metadata": {
  "name": "",
  "signature": "sha256:736dd46d240c12493618da88ebef5354aa5571b1af488056859d459e182fb825"
 },
 "nbformat": 3,
 "nbformat_minor": 0,
 "worksheets": [
  {
   "cells": [
    {
     "cell_type": "heading",
     "level": 1,
     "metadata": {},
     "source": [
      "Daten, Dateiformate und Persistenz"
     ]
    },
    {
     "cell_type": "markdown",
     "metadata": {},
     "source": [
      "Ein Computerprogramm l\u00e4uft ausschlie\u00dflich im Arbeitsspeicher.\n",
      "Das ist ein schneller, aber verg\u00e4nglicher Ort um Daten abzulegen.\n",
      "M\u00f6chte man \n",
      "\n",
      "* Ergebnisse einer Berechnung speichern,\n",
      "* existierende Daten einlesen,\n",
      "* oder Berechnungen zwischenspeichern\n",
      "\n",
      "braucht es weiterer Technologien, um die Daten aus dem Arbeitsspeicher z.B. auf die Festplatte oder in eine Datenbank zu speichern bzw. von dort wieder einzulesen.\n",
      "\n",
      "Der \u00dcberbegriff f\u00fcr jegliches Speichern von Daten in einer Datei ist [Serialisierung](http://de.wikipedia.org/wiki/Serialisierung).\n",
      "Die Daten des Programmes werden hierbei kodiert und als lineare Sequenz von Bits&Bytes abgelegt.\n",
      "Im folgenden werden einige solcher Formate vorgestellt und kurz erkl\u00e4rt,\n",
      "wie sie mit Python gelesen bzw. geschrieben werden k\u00f6nnen."
     ]
    },
    {
     "cell_type": "code",
     "collapsed": false,
     "input": [],
     "language": "python",
     "metadata": {},
     "outputs": []
    }
   ],
   "metadata": {}
  }
 ]
}
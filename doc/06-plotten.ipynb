{
 "metadata": {
  "name": "",
  "signature": "sha256:fe0818d239bf3c66364bf7d3c5fd5fe388c1772d71c0e374272c79bd8383e89f"
 },
 "nbformat": 3,
 "nbformat_minor": 0,
 "worksheets": [
  {
   "cells": [
    {
     "cell_type": "markdown",
     "metadata": {},
     "source": [
      "# Plotten und grafische Darstellungen"
     ]
    },
    {
     "cell_type": "code",
     "collapsed": false,
     "input": [],
     "language": "python",
     "metadata": {},
     "outputs": []
    }
   ],
   "metadata": {}
  }
 ]
}
{
 "metadata": {
  "name": "",
  "signature": "sha256:7fc3c8da9307123b8cbe834b477540fbc702f08dcd20805f4ffc3d751623472c"
 },
 "nbformat": 3,
 "nbformat_minor": 0,
 "worksheets": [
  {
   "cells": [
    {
     "cell_type": "heading",
     "level": 1,
     "metadata": {},
     "source": [
      "Daten, Dateiformate und Persistenz"
     ]
    },
    {
     "cell_type": "markdown",
     "metadata": {},
     "source": [
      "Ein Computerprogramm l\u00e4uft ausschlie\u00dflich im Arbeitsspeicher.\n",
      "Das ist ein schneller, aber verg\u00e4nglicher Ort um Daten abzulegen.\n",
      "M\u00f6chte man \n",
      "\n",
      "* Ergebnisse einer Berechnung speichern,\n",
      "* existierende Daten einlesen,\n",
      "* oder Berechnungen zwischenspeichern\n",
      "\n",
      "braucht es weiterer Technologien, um die Daten aus dem Arbeitsspeicher z.B. auf die Festplatte oder in eine Datenbank zu speichern bzw. von dort wieder einzulesen.\n",
      "\n",
      "Der \u00dcberbegriff f\u00fcr jegliches Speichern von Daten in einer Datei ist [Serialisierung](http://de.wikipedia.org/wiki/Serialisierung).\n",
      "Die Daten des Programmes werden hierbei kodiert und als lineare Sequenz von Bits&Bytes abgelegt.\n",
      "Im folgenden werden einige solcher Formate vorgestellt und kurz erkl\u00e4rt,\n",
      "wie sie mit Python gelesen bzw. geschrieben werden k\u00f6nnen."
     ]
    },
    {
     "cell_type": "markdown",
     "metadata": {},
     "source": [
      "## Python Pickle\n",
      "\n",
      "[Python Pickles](https://docs.python.org/2/library/pickle.html) sind Python's interne Art,\n",
      "Daten eines Objektes zu speichern.\n",
      "Der Vorteil ist, dass es sehr schnell und speicherplatsparend funktioniert.\n",
      "Die Nachteile sind, dass dies eine rein Python spezifische L\u00f6sung ist und\n",
      "zum Laden des pickles wird genau die richtige Klasse (mit derselben Struktur) ben\u00f6tigt."
     ]
    },
    {
     "cell_type": "code",
     "collapsed": false,
     "input": [
      "from os.path import join\n",
      "try:\n",
      "    import cPickle as pickle\n",
      "finally:\n",
      "    import pickle"
     ],
     "language": "python",
     "metadata": {},
     "outputs": [],
     "prompt_number": 1
    },
    {
     "cell_type": "code",
     "collapsed": false,
     "input": [
      "class Data(object):\n",
      "    def __init__(self, a, b):\n",
      "        self.a = a\n",
      "        self.b = b\n",
      "d1 = Data(a = \"this is value a\", b = [2, 2, 31])\n",
      "print(id(d1))"
     ],
     "language": "python",
     "metadata": {},
     "outputs": [
      {
       "output_type": "stream",
       "stream": "stdout",
       "text": [
        "30683408\n"
       ]
      }
     ],
     "prompt_number": 2
    },
    {
     "cell_type": "markdown",
     "metadata": {},
     "source": [
      "Es ist immer eine gute Idee, das Protokoll auf die aktuellste Version zu stellen.\n",
      "Standardm\u00e4\u00dfig wird immer die niedrigste (und viel schlechtere) Variante genommen,\n",
      "um r\u00fcckw\u00e4rskompatibel zu sein."
     ]
    },
    {
     "cell_type": "code",
     "collapsed": false,
     "input": [
      "pickle_fn = join(\"res\", \"data.pickle\")\n",
      "with open(pickle_fn, \"wb\") as  pickle_file:\n",
      "    pickle.dump(d1, pickle_file, protocol=pickle.HIGHEST_PROTOCOL)"
     ],
     "language": "python",
     "metadata": {},
     "outputs": [],
     "prompt_number": 3
    },
    {
     "cell_type": "markdown",
     "metadata": {},
     "source": [
      "Nun wird die Klasse wieder geladen, in `d2` statt `d1`, und gelesen.\n",
      "Man sieht, die Klasse ist rekonstruiert worden, die Daten sind verf\u00fcgbar, und die Speicheradresse ist eine andere."
     ]
    },
    {
     "cell_type": "code",
     "collapsed": false,
     "input": [
      "d2 = pickle.load(open(pickle_fn))\n",
      "print(type(d2), id(d2))\n",
      "d2.a, d2.b"
     ],
     "language": "python",
     "metadata": {},
     "outputs": [
      {
       "output_type": "stream",
       "stream": "stdout",
       "text": [
        "(<class '__main__.Data'>, 30614992)\n"
       ]
      },
      {
       "metadata": {},
       "output_type": "pyout",
       "prompt_number": 4,
       "text": [
        "('this is value a', [2, 2, 31])"
       ]
      }
     ],
     "prompt_number": 4
    },
    {
     "cell_type": "markdown",
     "metadata": {},
     "source": [
      "## CSV: Comma-Separated-Values\n",
      "\n",
      "Dies ist ein sehr einfaches, rein textbasiertes Format.\n",
      "Es handelt sich um spatenweise angeordnete Daten in Form einer Tabelle,\n",
      "wobei Spaten durch \"`,`\" oder \"`;`\" getrennt werden.\n",
      "Die erste Zeile ist \u00fcblicherweise eine Beschriftung der Spalten,\n",
      "darunter ein Eintrag pro Zeile.\n",
      "Strings werden \u00fcblicherweise in Anf\u00fchrungszeichen gestellt,\n",
      "insbesondere um Verwechslungen mit dem trennenden Zeichen zu vermeiden.\n",
      "Achtung, es gibt keine Typeninformation!"
     ]
    },
    {
     "cell_type": "code",
     "collapsed": false,
     "input": [
      "flugzeit_csv= join(\"res\", \"flugzeit.csv\")"
     ],
     "language": "python",
     "metadata": {},
     "outputs": [],
     "prompt_number": 5
    },
    {
     "cell_type": "code",
     "collapsed": false,
     "input": [
      "%%writefile $flugzeit_csv\n",
      "origin;destination;time;distance\n",
      "VIE;LHR;2:30;1100\n",
      "VIE;JFK;8:59;6823\n",
      "JFK;ZCL;4:39;3346\n",
      "SFO;JFK;5:30;4162\n",
      "PEK;ZRH;10:55;7993\n",
      "HNL;YOW;10:08;7758\n",
      "VIE;BER;1:09;676\n",
      "CDG;TIP;3:01;2019\n",
      "CDG;ATZ;4:47;3453\n",
      "CDG;FCO;1:52;1102\n",
      "VIE;FCO;1:28;780\n",
      "LIS;AMM;5:39;4138\n",
      "LIS;BER;3:22;2307\n",
      "LIS;WAW;3:55;2754\n",
      "PEK;SVO;7:43;5811\n",
      "BRN;HUU;13:20;10331"
     ],
     "language": "python",
     "metadata": {},
     "outputs": [
      {
       "output_type": "stream",
       "stream": "stdout",
       "text": [
        "Overwriting res/flugzeit.csv\n"
       ]
      }
     ],
     "prompt_number": 6
    },
    {
     "cell_type": "code",
     "collapsed": false,
     "input": [
      "import csv\n",
      "for line in csv.reader(open(flugzeit_csv), delimiter=\";\"):\n",
      "    print line"
     ],
     "language": "python",
     "metadata": {},
     "outputs": [
      {
       "output_type": "stream",
       "stream": "stdout",
       "text": [
        "['origin', 'destination', 'time', 'distance']\n",
        "['VIE', 'LHR', '2:30', '1100']\n",
        "['VIE', 'JFK', '8:59', '6823']\n",
        "['JFK', 'ZCL', '4:39', '3346']\n",
        "['SFO', 'JFK', '5:30', '4162']\n",
        "['PEK', 'ZRH', '10:55', '7993']\n",
        "['HNL', 'YOW', '10:08', '7758']\n",
        "['VIE', 'BER', '1:09', '676']\n",
        "['CDG', 'TIP', '3:01', '2019']\n",
        "['CDG', 'ATZ', '4:47', '3453']\n",
        "['CDG', 'FCO', '1:52', '1102']\n",
        "['VIE', 'FCO', '1:28', '780']\n",
        "['LIS', 'AMM', '5:39', '4138']\n",
        "['LIS', 'BER', '3:22', '2307']\n",
        "['LIS', 'WAW', '3:55', '2754']\n",
        "['PEK', 'SVO', '7:43', '5811']\n",
        "['BRN', 'HUU', '13:20', '10331']\n"
       ]
      }
     ],
     "prompt_number": 7
    },
    {
     "cell_type": "markdown",
     "metadata": {},
     "source": [
      "Wie man sieht, Python's `csv` modul hat die Datei m\u00fchelos lesen k\u00f6nnen.\n",
      "Einzig das Trennzeichen musste gesetzt werden.\n",
      "Alle Eintr\u00e4ge sind jedoch Strings.\n",
      "Die Zahlen m\u00fcssten f\u00fcr eine weitere Verarbeitung umgewandelt werden."
     ]
    },
    {
     "cell_type": "markdown",
     "metadata": {},
     "source": [
      "### CSV mittels Pandas\n",
      "\n",
      "Pandas kann DatenFrames von CSV Tabellen einlesen.\n",
      "Dabei werden die Datentypen (wenn m\u00f6glich) automatisch konvertiert\n",
      "und es lassen sich Header und Indices genauer angeben.\n",
      "\n",
      "In diesem gegebenen Fall wird wieder der Strichpunkt als Trennzeichen angegeben\n",
      "und keiner der Spalten als Index definiert."
     ]
    },
    {
     "cell_type": "code",
     "collapsed": false,
     "input": [
      "import pandas as pd\n",
      "flighttimes = pd.DataFrame.from_csv(flugzeit_csv, sep=\";\", index_col=None)\n",
      "flighttimes"
     ],
     "language": "python",
     "metadata": {},
     "outputs": [
      {
       "html": [
        "<div style=\"max-height:1000px;max-width:1500px;overflow:auto;\">\n",
        "<table border=\"1\" class=\"dataframe\">\n",
        "  <thead>\n",
        "    <tr style=\"text-align: right;\">\n",
        "      <th></th>\n",
        "      <th>origin</th>\n",
        "      <th>destination</th>\n",
        "      <th>time</th>\n",
        "      <th>distance</th>\n",
        "    </tr>\n",
        "  </thead>\n",
        "  <tbody>\n",
        "    <tr>\n",
        "      <th>0 </th>\n",
        "      <td> VIE</td>\n",
        "      <td> LHR</td>\n",
        "      <td>  2:30</td>\n",
        "      <td>  1100</td>\n",
        "    </tr>\n",
        "    <tr>\n",
        "      <th>1 </th>\n",
        "      <td> VIE</td>\n",
        "      <td> JFK</td>\n",
        "      <td>  8:59</td>\n",
        "      <td>  6823</td>\n",
        "    </tr>\n",
        "    <tr>\n",
        "      <th>2 </th>\n",
        "      <td> JFK</td>\n",
        "      <td> ZCL</td>\n",
        "      <td>  4:39</td>\n",
        "      <td>  3346</td>\n",
        "    </tr>\n",
        "    <tr>\n",
        "      <th>3 </th>\n",
        "      <td> SFO</td>\n",
        "      <td> JFK</td>\n",
        "      <td>  5:30</td>\n",
        "      <td>  4162</td>\n",
        "    </tr>\n",
        "    <tr>\n",
        "      <th>4 </th>\n",
        "      <td> PEK</td>\n",
        "      <td> ZRH</td>\n",
        "      <td> 10:55</td>\n",
        "      <td>  7993</td>\n",
        "    </tr>\n",
        "    <tr>\n",
        "      <th>5 </th>\n",
        "      <td> HNL</td>\n",
        "      <td> YOW</td>\n",
        "      <td> 10:08</td>\n",
        "      <td>  7758</td>\n",
        "    </tr>\n",
        "    <tr>\n",
        "      <th>6 </th>\n",
        "      <td> VIE</td>\n",
        "      <td> BER</td>\n",
        "      <td>  1:09</td>\n",
        "      <td>   676</td>\n",
        "    </tr>\n",
        "    <tr>\n",
        "      <th>7 </th>\n",
        "      <td> CDG</td>\n",
        "      <td> TIP</td>\n",
        "      <td>  3:01</td>\n",
        "      <td>  2019</td>\n",
        "    </tr>\n",
        "    <tr>\n",
        "      <th>8 </th>\n",
        "      <td> CDG</td>\n",
        "      <td> ATZ</td>\n",
        "      <td>  4:47</td>\n",
        "      <td>  3453</td>\n",
        "    </tr>\n",
        "    <tr>\n",
        "      <th>9 </th>\n",
        "      <td> CDG</td>\n",
        "      <td> FCO</td>\n",
        "      <td>  1:52</td>\n",
        "      <td>  1102</td>\n",
        "    </tr>\n",
        "    <tr>\n",
        "      <th>10</th>\n",
        "      <td> VIE</td>\n",
        "      <td> FCO</td>\n",
        "      <td>  1:28</td>\n",
        "      <td>   780</td>\n",
        "    </tr>\n",
        "    <tr>\n",
        "      <th>11</th>\n",
        "      <td> LIS</td>\n",
        "      <td> AMM</td>\n",
        "      <td>  5:39</td>\n",
        "      <td>  4138</td>\n",
        "    </tr>\n",
        "    <tr>\n",
        "      <th>12</th>\n",
        "      <td> LIS</td>\n",
        "      <td> BER</td>\n",
        "      <td>  3:22</td>\n",
        "      <td>  2307</td>\n",
        "    </tr>\n",
        "    <tr>\n",
        "      <th>13</th>\n",
        "      <td> LIS</td>\n",
        "      <td> WAW</td>\n",
        "      <td>  3:55</td>\n",
        "      <td>  2754</td>\n",
        "    </tr>\n",
        "    <tr>\n",
        "      <th>14</th>\n",
        "      <td> PEK</td>\n",
        "      <td> SVO</td>\n",
        "      <td>  7:43</td>\n",
        "      <td>  5811</td>\n",
        "    </tr>\n",
        "    <tr>\n",
        "      <th>15</th>\n",
        "      <td> BRN</td>\n",
        "      <td> HUU</td>\n",
        "      <td> 13:20</td>\n",
        "      <td> 10331</td>\n",
        "    </tr>\n",
        "  </tbody>\n",
        "</table>\n",
        "</div>"
       ],
       "metadata": {},
       "output_type": "pyout",
       "prompt_number": 8,
       "text": [
        "   origin destination   time  distance\n",
        "0     VIE         LHR   2:30      1100\n",
        "1     VIE         JFK   8:59      6823\n",
        "2     JFK         ZCL   4:39      3346\n",
        "3     SFO         JFK   5:30      4162\n",
        "4     PEK         ZRH  10:55      7993\n",
        "5     HNL         YOW  10:08      7758\n",
        "6     VIE         BER   1:09       676\n",
        "7     CDG         TIP   3:01      2019\n",
        "8     CDG         ATZ   4:47      3453\n",
        "9     CDG         FCO   1:52      1102\n",
        "10    VIE         FCO   1:28       780\n",
        "11    LIS         AMM   5:39      4138\n",
        "12    LIS         BER   3:22      2307\n",
        "13    LIS         WAW   3:55      2754\n",
        "14    PEK         SVO   7:43      5811\n",
        "15    BRN         HUU  13:20     10331"
       ]
      }
     ],
     "prompt_number": 8
    },
    {
     "cell_type": "markdown",
     "metadata": {},
     "source": [
      "Die `time` Spalte wird nun explizit in Stunden konvertiert und als neue Spalte `time2` gef\u00fchrt."
     ]
    },
    {
     "cell_type": "code",
     "collapsed": false,
     "input": [
      "def hm_time(entry):\n",
      "    h, m = entry.split(\":\")\n",
      "    return int(h) + int(m) / 60.\n",
      "flighttimes[\"time2\"] = flighttimes.time.apply(hm_time)\n",
      "flighttimes"
     ],
     "language": "python",
     "metadata": {},
     "outputs": [
      {
       "html": [
        "<div style=\"max-height:1000px;max-width:1500px;overflow:auto;\">\n",
        "<table border=\"1\" class=\"dataframe\">\n",
        "  <thead>\n",
        "    <tr style=\"text-align: right;\">\n",
        "      <th></th>\n",
        "      <th>origin</th>\n",
        "      <th>destination</th>\n",
        "      <th>time</th>\n",
        "      <th>distance</th>\n",
        "      <th>time2</th>\n",
        "    </tr>\n",
        "  </thead>\n",
        "  <tbody>\n",
        "    <tr>\n",
        "      <th>0 </th>\n",
        "      <td> VIE</td>\n",
        "      <td> LHR</td>\n",
        "      <td>  2:30</td>\n",
        "      <td>  1100</td>\n",
        "      <td>  2.500000</td>\n",
        "    </tr>\n",
        "    <tr>\n",
        "      <th>1 </th>\n",
        "      <td> VIE</td>\n",
        "      <td> JFK</td>\n",
        "      <td>  8:59</td>\n",
        "      <td>  6823</td>\n",
        "      <td>  8.983333</td>\n",
        "    </tr>\n",
        "    <tr>\n",
        "      <th>2 </th>\n",
        "      <td> JFK</td>\n",
        "      <td> ZCL</td>\n",
        "      <td>  4:39</td>\n",
        "      <td>  3346</td>\n",
        "      <td>  4.650000</td>\n",
        "    </tr>\n",
        "    <tr>\n",
        "      <th>3 </th>\n",
        "      <td> SFO</td>\n",
        "      <td> JFK</td>\n",
        "      <td>  5:30</td>\n",
        "      <td>  4162</td>\n",
        "      <td>  5.500000</td>\n",
        "    </tr>\n",
        "    <tr>\n",
        "      <th>4 </th>\n",
        "      <td> PEK</td>\n",
        "      <td> ZRH</td>\n",
        "      <td> 10:55</td>\n",
        "      <td>  7993</td>\n",
        "      <td> 10.916667</td>\n",
        "    </tr>\n",
        "    <tr>\n",
        "      <th>5 </th>\n",
        "      <td> HNL</td>\n",
        "      <td> YOW</td>\n",
        "      <td> 10:08</td>\n",
        "      <td>  7758</td>\n",
        "      <td> 10.133333</td>\n",
        "    </tr>\n",
        "    <tr>\n",
        "      <th>6 </th>\n",
        "      <td> VIE</td>\n",
        "      <td> BER</td>\n",
        "      <td>  1:09</td>\n",
        "      <td>   676</td>\n",
        "      <td>  1.150000</td>\n",
        "    </tr>\n",
        "    <tr>\n",
        "      <th>7 </th>\n",
        "      <td> CDG</td>\n",
        "      <td> TIP</td>\n",
        "      <td>  3:01</td>\n",
        "      <td>  2019</td>\n",
        "      <td>  3.016667</td>\n",
        "    </tr>\n",
        "    <tr>\n",
        "      <th>8 </th>\n",
        "      <td> CDG</td>\n",
        "      <td> ATZ</td>\n",
        "      <td>  4:47</td>\n",
        "      <td>  3453</td>\n",
        "      <td>  4.783333</td>\n",
        "    </tr>\n",
        "    <tr>\n",
        "      <th>9 </th>\n",
        "      <td> CDG</td>\n",
        "      <td> FCO</td>\n",
        "      <td>  1:52</td>\n",
        "      <td>  1102</td>\n",
        "      <td>  1.866667</td>\n",
        "    </tr>\n",
        "    <tr>\n",
        "      <th>10</th>\n",
        "      <td> VIE</td>\n",
        "      <td> FCO</td>\n",
        "      <td>  1:28</td>\n",
        "      <td>   780</td>\n",
        "      <td>  1.466667</td>\n",
        "    </tr>\n",
        "    <tr>\n",
        "      <th>11</th>\n",
        "      <td> LIS</td>\n",
        "      <td> AMM</td>\n",
        "      <td>  5:39</td>\n",
        "      <td>  4138</td>\n",
        "      <td>  5.650000</td>\n",
        "    </tr>\n",
        "    <tr>\n",
        "      <th>12</th>\n",
        "      <td> LIS</td>\n",
        "      <td> BER</td>\n",
        "      <td>  3:22</td>\n",
        "      <td>  2307</td>\n",
        "      <td>  3.366667</td>\n",
        "    </tr>\n",
        "    <tr>\n",
        "      <th>13</th>\n",
        "      <td> LIS</td>\n",
        "      <td> WAW</td>\n",
        "      <td>  3:55</td>\n",
        "      <td>  2754</td>\n",
        "      <td>  3.916667</td>\n",
        "    </tr>\n",
        "    <tr>\n",
        "      <th>14</th>\n",
        "      <td> PEK</td>\n",
        "      <td> SVO</td>\n",
        "      <td>  7:43</td>\n",
        "      <td>  5811</td>\n",
        "      <td>  7.716667</td>\n",
        "    </tr>\n",
        "    <tr>\n",
        "      <th>15</th>\n",
        "      <td> BRN</td>\n",
        "      <td> HUU</td>\n",
        "      <td> 13:20</td>\n",
        "      <td> 10331</td>\n",
        "      <td> 13.333333</td>\n",
        "    </tr>\n",
        "  </tbody>\n",
        "</table>\n",
        "</div>"
       ],
       "metadata": {},
       "output_type": "pyout",
       "prompt_number": 9,
       "text": [
        "   origin destination   time  distance      time2\n",
        "0     VIE         LHR   2:30      1100   2.500000\n",
        "1     VIE         JFK   8:59      6823   8.983333\n",
        "2     JFK         ZCL   4:39      3346   4.650000\n",
        "3     SFO         JFK   5:30      4162   5.500000\n",
        "4     PEK         ZRH  10:55      7993  10.916667\n",
        "5     HNL         YOW  10:08      7758  10.133333\n",
        "6     VIE         BER   1:09       676   1.150000\n",
        "7     CDG         TIP   3:01      2019   3.016667\n",
        "8     CDG         ATZ   4:47      3453   4.783333\n",
        "9     CDG         FCO   1:52      1102   1.866667\n",
        "10    VIE         FCO   1:28       780   1.466667\n",
        "11    LIS         AMM   5:39      4138   5.650000\n",
        "12    LIS         BER   3:22      2307   3.366667\n",
        "13    LIS         WAW   3:55      2754   3.916667\n",
        "14    PEK         SVO   7:43      5811   7.716667\n",
        "15    BRN         HUU  13:20     10331  13.333333"
       ]
      }
     ],
     "prompt_number": 9
    },
    {
     "cell_type": "code",
     "collapsed": false,
     "input": [
      "# maximum overall distance\n",
      "flighttimes.ix[flighttimes.distance.argmax()]"
     ],
     "language": "python",
     "metadata": {},
     "outputs": [
      {
       "metadata": {},
       "output_type": "pyout",
       "prompt_number": 10,
       "text": [
        "origin              BRN\n",
        "destination         HUU\n",
        "time              13:20\n",
        "distance          10331\n",
        "time2          13.33333\n",
        "Name: 15, dtype: object"
       ]
      }
     ],
     "prompt_number": 10
    },
    {
     "cell_type": "code",
     "collapsed": false,
     "input": [
      "# maximum distance, for each origin\n",
      "for group, subdf in flighttimes.groupby(\"origin\"):\n",
      "    m = flighttimes.ix[subdf.distance.argmax()]\n",
      "    print(\"Maximum distance from %s: %5d km to %s\" % (group, m.distance, m.destination))"
     ],
     "language": "python",
     "metadata": {},
     "outputs": [
      {
       "output_type": "stream",
       "stream": "stdout",
       "text": [
        "Maximum distance from BRN: 10331 km to HUU\n",
        "Maximum distance from CDG:  3453 km to ATZ\n",
        "Maximum distance from HNL:  7758 km to YOW\n",
        "Maximum distance from JFK:  3346 km to ZCL\n",
        "Maximum distance from LIS:  4138 km to AMM\n",
        "Maximum distance from PEK:  7993 km to ZRH\n",
        "Maximum distance from SFO:  4162 km to JFK\n",
        "Maximum distance from VIE:  6823 km to JFK\n"
       ]
      }
     ],
     "prompt_number": 11
    },
    {
     "cell_type": "code",
     "collapsed": false,
     "input": [
      "# plot of distance vs. converted time in hours. easy for pandas dataframes!\n",
      "%matplotlib inline\n",
      "flighttimes.plot(kind=\"scatter\", x = \"distance\", y = \"time2\", ylim=0, xlim=0)"
     ],
     "language": "python",
     "metadata": {},
     "outputs": [
      {
       "metadata": {},
       "output_type": "pyout",
       "prompt_number": 12,
       "text": [
        "<matplotlib.axes._subplots.AxesSubplot at 0x3f76c90>"
       ]
      },
      {
       "metadata": {},
       "output_type": "display_data",
       "png": "[encoded data removed]",
       "text": [
        "<matplotlib.figure.Figure at 0x3f76690>"
       ]
      }
     ],
     "prompt_number": 12
    },
    {
     "cell_type": "markdown",
     "metadata": {},
     "source": [
      "## Datenbank (SQLite)\n",
      "\n",
      "F\u00fcr gr\u00f6\u00dfere Datenmengen bzw. im professionellen/wissenschaftlichen Umfeld werden Datenbanken eingesetzt.\n",
      "Die Daten werden in einem f\u00fcr die Datenbank spezifische Art gespeichert\n",
      "(sind also nicht wie CSV Dateien von beliebigen Programmen lesbar),\n",
      "beinhalten aber zus\u00e4tzlich Informationen zu den Typen jeder Spalte.\n",
      "Datenbanken bieten eingebaute Hilfsmittel wie Suchindizes und eine Abfragesprache,\n",
      "es k\u00f6nnen mehrere Tabellen auf verschiedenste Arten verkn\u00fcpft werden,\n",
      "und die Verarbeitungsgeschwindigkeit ist viel h\u00f6her.\n",
      "\n",
      "Eingebaut in Python ist [`sqlite3`](https://docs.python.org/2/library/sqlite3.html).\n",
      "\n",
      "Das folgende Beispiel speichert die Daten der CSV Datei in einer sqlite3 Datenbank und macht eine Abfrage."
     ]
    },
    {
     "cell_type": "markdown",
     "metadata": {},
     "source": [
      "1. Erstellen: l\u00f6sche die gegebenenfalls existierende Datenbankdatei und bef\u00fclle sie dann."
     ]
    },
    {
     "cell_type": "code",
     "collapsed": false,
     "input": [
      "db_filename = join(\"res\", \"flugzeit.db\")\n",
      "\n",
      "import os\n",
      "if os.path.exists(db_filename):\n",
      "    os.unlink(db_filename)"
     ],
     "language": "python",
     "metadata": {},
     "outputs": [],
     "prompt_number": 13
    },
    {
     "cell_type": "code",
     "collapsed": false,
     "input": [
      "import sqlite3\n",
      "conn = sqlite3.connect(db_filename)"
     ],
     "language": "python",
     "metadata": {},
     "outputs": [],
     "prompt_number": 14
    },
    {
     "cell_type": "code",
     "collapsed": false,
     "input": [
      "# for the connection `conn`, get a cursor and operate on the table\n",
      "curs = conn.cursor"
     ],
     "language": "python",
     "metadata": {},
     "outputs": [],
     "prompt_number": 15
    },
    {
     "cell_type": "code",
     "collapsed": false,
     "input": [
      "curs = conn.cursor()\n",
      "curs.execute('''\n",
      "             CREATE TABLE flugzeit\n",
      "             (origin text, destination text, distance real, time real)\n",
      "             ''')"
     ],
     "language": "python",
     "metadata": {},
     "outputs": [
      {
       "metadata": {},
       "output_type": "pyout",
       "prompt_number": 16,
       "text": [
        "<sqlite3.Cursor at 0x3f66650>"
       ]
      }
     ],
     "prompt_number": 16
    },
    {
     "cell_type": "code",
     "collapsed": false,
     "input": [
      "for idx, (orig, dest, _, dist, time2) in flighttimes.iterrows():\n",
      "    curs.execute(\"INSERT INTO flugzeit VALUES(?, ?, ?, ?)\", (orig, dest, dist, time2))"
     ],
     "language": "python",
     "metadata": {},
     "outputs": [],
     "prompt_number": 17
    },
    {
     "cell_type": "code",
     "collapsed": false,
     "input": [
      "for row in curs.execute(\"SELECT * FROM flugzeit\"):\n",
      "    print row"
     ],
     "language": "python",
     "metadata": {},
     "outputs": [
      {
       "output_type": "stream",
       "stream": "stdout",
       "text": [
        "(u'VIE', u'LHR', 1100.0, 2.5)\n",
        "(u'VIE', u'JFK', 6823.0, 8.983333333333333)\n",
        "(u'JFK', u'ZCL', 3346.0, 4.65)\n",
        "(u'SFO', u'JFK', 4162.0, 5.5)\n",
        "(u'PEK', u'ZRH', 7993.0, 10.916666666666666)\n",
        "(u'HNL', u'YOW', 7758.0, 10.133333333333333)\n",
        "(u'VIE', u'BER', 676.0, 1.15)\n",
        "(u'CDG', u'TIP', 2019.0, 3.0166666666666666)\n",
        "(u'CDG', u'ATZ', 3453.0, 4.783333333333333)\n",
        "(u'CDG', u'FCO', 1102.0, 1.8666666666666667)\n",
        "(u'VIE', u'FCO', 780.0, 1.4666666666666668)\n",
        "(u'LIS', u'AMM', 4138.0, 5.65)\n",
        "(u'LIS', u'BER', 2307.0, 3.3666666666666667)\n",
        "(u'LIS', u'WAW', 2754.0, 3.9166666666666665)\n",
        "(u'PEK', u'SVO', 5811.0, 7.716666666666667)\n",
        "(u'BRN', u'HUU', 10331.0, 13.333333333333334)\n"
       ]
      }
     ],
     "prompt_number": 18
    },
    {
     "cell_type": "code",
     "collapsed": false,
     "input": [
      "# sort by decreasing distance\n",
      "for row in curs.execute(\"SELECT * FROM flugzeit ORDER BY -distance\"):\n",
      "    print row"
     ],
     "language": "python",
     "metadata": {},
     "outputs": [
      {
       "output_type": "stream",
       "stream": "stdout",
       "text": [
        "(u'BRN', u'HUU', 10331.0, 13.333333333333334)\n",
        "(u'PEK', u'ZRH', 7993.0, 10.916666666666666)\n",
        "(u'HNL', u'YOW', 7758.0, 10.133333333333333)\n",
        "(u'VIE', u'JFK', 6823.0, 8.983333333333333)\n",
        "(u'PEK', u'SVO', 5811.0, 7.716666666666667)\n",
        "(u'SFO', u'JFK', 4162.0, 5.5)\n",
        "(u'LIS', u'AMM', 4138.0, 5.65)\n",
        "(u'CDG', u'ATZ', 3453.0, 4.783333333333333)\n",
        "(u'JFK', u'ZCL', 3346.0, 4.65)\n",
        "(u'LIS', u'WAW', 2754.0, 3.9166666666666665)\n",
        "(u'LIS', u'BER', 2307.0, 3.3666666666666667)\n",
        "(u'CDG', u'TIP', 2019.0, 3.0166666666666666)\n",
        "(u'CDG', u'FCO', 1102.0, 1.8666666666666667)\n",
        "(u'VIE', u'LHR', 1100.0, 2.5)\n",
        "(u'VIE', u'FCO', 780.0, 1.4666666666666668)\n",
        "(u'VIE', u'BER', 676.0, 1.15)\n"
       ]
      }
     ],
     "prompt_number": 19
    },
    {
     "cell_type": "code",
     "collapsed": false,
     "input": [
      "# minimum time from each origin\n",
      "for row in curs.execute(\"\"\"\n",
      "             SELECT origin, destination, min(time)\n",
      "             FROM flugzeit\n",
      "             GROUP BY origin\n",
      "             \"\"\"):\n",
      "    print row"
     ],
     "language": "python",
     "metadata": {},
     "outputs": [
      {
       "output_type": "stream",
       "stream": "stdout",
       "text": [
        "(u'BRN', u'HUU', 13.333333333333334)\n",
        "(u'CDG', u'FCO', 1.8666666666666667)\n",
        "(u'HNL', u'YOW', 10.133333333333333)\n",
        "(u'JFK', u'ZCL', 4.65)\n",
        "(u'LIS', u'WAW', 3.3666666666666667)\n",
        "(u'PEK', u'SVO', 7.716666666666667)\n",
        "(u'SFO', u'JFK', 5.5)\n",
        "(u'VIE', u'FCO', 1.15)\n"
       ]
      }
     ],
     "prompt_number": 20
    },
    {
     "cell_type": "code",
     "collapsed": false,
     "input": [
      "# maximum distance from LIS\n",
      "curs.execute(\"\"\"\n",
      "             SELECT * \n",
      "             FROM flugzeit\n",
      "             WHERE origin = 'LIS' AND\n",
      "                   distance = (SELECT max(distance) FROM flugzeit WHERE origin = 'LIS')\n",
      "             \"\"\").fetchone()"
     ],
     "language": "python",
     "metadata": {},
     "outputs": [
      {
       "metadata": {},
       "output_type": "pyout",
       "prompt_number": 21,
       "text": [
        "(u'LIS', u'AMM', 4138.0, 5.65)"
       ]
      }
     ],
     "prompt_number": 21
    }
   ],
   "metadata": {}
  }
 ]
}
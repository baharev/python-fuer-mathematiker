{
 "metadata": {
  "name": "",
  "signature": "sha256:ee39d2a1bbaa8b356428713c6ce506c6972ac9af47792a94ab129e59a2a5aa37"
 },
 "nbformat": 3,
 "nbformat_minor": 0,
 "worksheets": [
  {
   "cells": [
    {
     "cell_type": "heading",
     "level": 1,
     "metadata": {},
     "source": [
      "Daten, Dateiformate und Persistenz"
     ]
    },
    {
     "cell_type": "markdown",
     "metadata": {},
     "source": [
      "Ein Computerprogramm l\u00e4uft ausschlie\u00dflich im Arbeitsspeicher.\n",
      "Das ist ein schneller, aber verg\u00e4nglicher Ort um Daten abzulegen.\n",
      "M\u00f6chte man \n",
      "\n",
      "* Ergebnisse einer Berechnung speichern,\n",
      "* existierende Daten einlesen,\n",
      "* oder Berechnungen zwischenspeichern\n",
      "\n",
      "braucht es weiterer Technologien, um die Daten aus dem Arbeitsspeicher z.B. auf die Festplatte oder in eine Datenbank zu speichern bzw. von dort wieder einzulesen.\n",
      "\n",
      "Der \u00dcberbegriff f\u00fcr jegliches Speichern von Daten in einer Datei ist [Serialisierung](http://de.wikipedia.org/wiki/Serialisierung).\n",
      "Die Daten des Programmes werden hierbei kodiert und als lineare Sequenz von Bits&Bytes abgelegt.\n",
      "Im folgenden werden einige solcher Formate vorgestellt und kurz erkl\u00e4rt,\n",
      "wie sie mit Python gelesen bzw. geschrieben werden k\u00f6nnen."
     ]
    },
    {
     "cell_type": "markdown",
     "metadata": {},
     "source": [
      "## CSV: Comma-Separated-Values\n",
      "\n",
      "Dies ist ein sehr einfaches, rein textbasiertes Format.\n",
      "Es handelt sich um spatenweise angeordnete Daten in Form einer Tabelle,\n",
      "wobei Spaten durch \"`,`\" oder \"`;`\" getrennt werden.\n",
      "Die erste Zeile ist \u00fcblicherweise eine Beschriftung der Spalten,\n",
      "darunter ein Eintrag pro Zeile.\n",
      "Strings werden \u00fcblicherweise in Anf\u00fchrungszeichen gestellt,\n",
      "insbesondere um Verwechslungen mit dem trennenden Zeichen zu vermeiden.\n",
      "Achtung, es gibt keine Typeninformation!"
     ]
    },
    {
     "cell_type": "code",
     "collapsed": false,
     "input": [
      "%%writefile res/flugzeit.csv\n",
      "origin;destination;time;distance\n",
      "VIE;LHR;2:30;1100\n",
      "SFO;JFK;5:30;4162\n",
      "PEK;ZRH;10:55;7993\n",
      "HNL;YOW;10:08;7758\n",
      "VIE;BER;1:09;676\n",
      "CDG;TIP;3:01;2019\n",
      "LIS;AMM;5:39;4138\n",
      "LIS;BER;3:22;2307\n",
      "LIS;WAW;3:55;2754\n",
      "PEK;SVO;7:43;5811"
     ],
     "language": "python",
     "metadata": {},
     "outputs": [
      {
       "output_type": "stream",
       "stream": "stdout",
       "text": [
        "Overwriting res/flugzeit.csv\n"
       ]
      }
     ],
     "prompt_number": 1
    },
    {
     "cell_type": "code",
     "collapsed": false,
     "input": [
      "import csv\n",
      "for line in csv.reader(open(\"res/flugzeit.csv\"), delimiter=\";\"):\n",
      "    print line"
     ],
     "language": "python",
     "metadata": {},
     "outputs": [
      {
       "output_type": "stream",
       "stream": "stdout",
       "text": [
        "['origin', 'destination', 'time', 'distance']\n",
        "['VIE', 'LHR', '2:30', '1100']\n",
        "['SFO', 'JFK', '5:30', '4162']\n",
        "['PEK', 'ZRH', '10:55', '7993']\n",
        "['HNL', 'YOW', '10:08', '7758']\n",
        "['VIE', 'BER', '1:09', '676']\n",
        "['CDG', 'TIP', '3:01', '2019']\n",
        "['LIS', 'AMM', '5:39', '4138']\n",
        "['LIS', 'BER', '3:22', '2307']\n",
        "['LIS', 'WAW', '3:55', '2754']\n",
        "['PEK', 'SVO', '7:43', '5811']\n"
       ]
      }
     ],
     "prompt_number": 2
    },
    {
     "cell_type": "markdown",
     "metadata": {},
     "source": [
      "### CSV mittels Pandas\n",
      "\n",
      "Pandas kann DatenFrames von CSV Tabellen einlesen.\n",
      "Dabei werden die Datentypen (wenn m\u00f6glich) automatisch konvertiert\n",
      "und es lassen sich Header und Indices genauer angeben."
     ]
    },
    {
     "cell_type": "code",
     "collapsed": false,
     "input": [
      "import pandas as pd\n",
      "flighttimes = pd.DataFrame.from_csv(\"res/flugzeit.csv\", sep=\";\", index_col=(0, 1))\n",
      "flighttimes"
     ],
     "language": "python",
     "metadata": {},
     "outputs": [
      {
       "html": [
        "<div style=\"max-height:1000px;max-width:1500px;overflow:auto;\">\n",
        "<table border=\"1\" class=\"dataframe\">\n",
        "  <thead>\n",
        "    <tr style=\"text-align: right;\">\n",
        "      <th></th>\n",
        "      <th></th>\n",
        "      <th>time</th>\n",
        "      <th>distance</th>\n",
        "    </tr>\n",
        "    <tr>\n",
        "      <th>origin</th>\n",
        "      <th>destination</th>\n",
        "      <th></th>\n",
        "      <th></th>\n",
        "    </tr>\n",
        "  </thead>\n",
        "  <tbody>\n",
        "    <tr>\n",
        "      <th>VIE</th>\n",
        "      <th>LHR</th>\n",
        "      <td>  2:30</td>\n",
        "      <td> 1100</td>\n",
        "    </tr>\n",
        "    <tr>\n",
        "      <th>SFO</th>\n",
        "      <th>JFK</th>\n",
        "      <td>  5:30</td>\n",
        "      <td> 4162</td>\n",
        "    </tr>\n",
        "    <tr>\n",
        "      <th>PEK</th>\n",
        "      <th>ZRH</th>\n",
        "      <td> 10:55</td>\n",
        "      <td> 7993</td>\n",
        "    </tr>\n",
        "    <tr>\n",
        "      <th>HNL</th>\n",
        "      <th>YOW</th>\n",
        "      <td> 10:08</td>\n",
        "      <td> 7758</td>\n",
        "    </tr>\n",
        "    <tr>\n",
        "      <th>VIE</th>\n",
        "      <th>BER</th>\n",
        "      <td>  1:09</td>\n",
        "      <td>  676</td>\n",
        "    </tr>\n",
        "    <tr>\n",
        "      <th>CDG</th>\n",
        "      <th>TIP</th>\n",
        "      <td>  3:01</td>\n",
        "      <td> 2019</td>\n",
        "    </tr>\n",
        "    <tr>\n",
        "      <th rowspan=\"3\" valign=\"top\">LIS</th>\n",
        "      <th>AMM</th>\n",
        "      <td>  5:39</td>\n",
        "      <td> 4138</td>\n",
        "    </tr>\n",
        "    <tr>\n",
        "      <th>BER</th>\n",
        "      <td>  3:22</td>\n",
        "      <td> 2307</td>\n",
        "    </tr>\n",
        "    <tr>\n",
        "      <th>WAW</th>\n",
        "      <td>  3:55</td>\n",
        "      <td> 2754</td>\n",
        "    </tr>\n",
        "    <tr>\n",
        "      <th>PEK</th>\n",
        "      <th>SVO</th>\n",
        "      <td>  7:43</td>\n",
        "      <td> 5811</td>\n",
        "    </tr>\n",
        "  </tbody>\n",
        "</table>\n",
        "</div>"
       ],
       "metadata": {},
       "output_type": "pyout",
       "prompt_number": 3,
       "text": [
        "                     time  distance\n",
        "origin destination                 \n",
        "VIE    LHR           2:30      1100\n",
        "SFO    JFK           5:30      4162\n",
        "PEK    ZRH          10:55      7993\n",
        "HNL    YOW          10:08      7758\n",
        "VIE    BER           1:09       676\n",
        "CDG    TIP           3:01      2019\n",
        "LIS    AMM           5:39      4138\n",
        "       BER           3:22      2307\n",
        "       WAW           3:55      2754\n",
        "PEK    SVO           7:43      5811"
       ]
      }
     ],
     "prompt_number": 3
    },
    {
     "cell_type": "code",
     "collapsed": false,
     "input": [
      "# konvertiere \"time\" in minuten\n",
      "def hm_time(entry):\n",
      "    h, m = entry.split(\":\")\n",
      "    return int(h) + int(m) / 60.\n",
      "flighttimes[\"time2\"] = flighttimes.time.apply(hm_time)\n",
      "flighttimes"
     ],
     "language": "python",
     "metadata": {},
     "outputs": [
      {
       "html": [
        "<div style=\"max-height:1000px;max-width:1500px;overflow:auto;\">\n",
        "<table border=\"1\" class=\"dataframe\">\n",
        "  <thead>\n",
        "    <tr style=\"text-align: right;\">\n",
        "      <th></th>\n",
        "      <th></th>\n",
        "      <th>time</th>\n",
        "      <th>distance</th>\n",
        "      <th>time2</th>\n",
        "    </tr>\n",
        "    <tr>\n",
        "      <th>origin</th>\n",
        "      <th>destination</th>\n",
        "      <th></th>\n",
        "      <th></th>\n",
        "      <th></th>\n",
        "    </tr>\n",
        "  </thead>\n",
        "  <tbody>\n",
        "    <tr>\n",
        "      <th>VIE</th>\n",
        "      <th>LHR</th>\n",
        "      <td>  2:30</td>\n",
        "      <td> 1100</td>\n",
        "      <td>  2.500000</td>\n",
        "    </tr>\n",
        "    <tr>\n",
        "      <th>SFO</th>\n",
        "      <th>JFK</th>\n",
        "      <td>  5:30</td>\n",
        "      <td> 4162</td>\n",
        "      <td>  5.500000</td>\n",
        "    </tr>\n",
        "    <tr>\n",
        "      <th>PEK</th>\n",
        "      <th>ZRH</th>\n",
        "      <td> 10:55</td>\n",
        "      <td> 7993</td>\n",
        "      <td> 10.916667</td>\n",
        "    </tr>\n",
        "    <tr>\n",
        "      <th>HNL</th>\n",
        "      <th>YOW</th>\n",
        "      <td> 10:08</td>\n",
        "      <td> 7758</td>\n",
        "      <td> 10.133333</td>\n",
        "    </tr>\n",
        "    <tr>\n",
        "      <th>VIE</th>\n",
        "      <th>BER</th>\n",
        "      <td>  1:09</td>\n",
        "      <td>  676</td>\n",
        "      <td>  1.150000</td>\n",
        "    </tr>\n",
        "    <tr>\n",
        "      <th>CDG</th>\n",
        "      <th>TIP</th>\n",
        "      <td>  3:01</td>\n",
        "      <td> 2019</td>\n",
        "      <td>  3.016667</td>\n",
        "    </tr>\n",
        "    <tr>\n",
        "      <th rowspan=\"3\" valign=\"top\">LIS</th>\n",
        "      <th>AMM</th>\n",
        "      <td>  5:39</td>\n",
        "      <td> 4138</td>\n",
        "      <td>  5.650000</td>\n",
        "    </tr>\n",
        "    <tr>\n",
        "      <th>BER</th>\n",
        "      <td>  3:22</td>\n",
        "      <td> 2307</td>\n",
        "      <td>  3.366667</td>\n",
        "    </tr>\n",
        "    <tr>\n",
        "      <th>WAW</th>\n",
        "      <td>  3:55</td>\n",
        "      <td> 2754</td>\n",
        "      <td>  3.916667</td>\n",
        "    </tr>\n",
        "    <tr>\n",
        "      <th>PEK</th>\n",
        "      <th>SVO</th>\n",
        "      <td>  7:43</td>\n",
        "      <td> 5811</td>\n",
        "      <td>  7.716667</td>\n",
        "    </tr>\n",
        "  </tbody>\n",
        "</table>\n",
        "</div>"
       ],
       "metadata": {},
       "output_type": "pyout",
       "prompt_number": 4,
       "text": [
        "                     time  distance      time2\n",
        "origin destination                            \n",
        "VIE    LHR           2:30      1100   2.500000\n",
        "SFO    JFK           5:30      4162   5.500000\n",
        "PEK    ZRH          10:55      7993  10.916667\n",
        "HNL    YOW          10:08      7758  10.133333\n",
        "VIE    BER           1:09       676   1.150000\n",
        "CDG    TIP           3:01      2019   3.016667\n",
        "LIS    AMM           5:39      4138   5.650000\n",
        "       BER           3:22      2307   3.366667\n",
        "       WAW           3:55      2754   3.916667\n",
        "PEK    SVO           7:43      5811   7.716667"
       ]
      }
     ],
     "prompt_number": 4
    },
    {
     "cell_type": "code",
     "collapsed": false,
     "input": [
      "# maximale l\u00e4nge:\n",
      "flighttimes.ix[flighttimes.distance.argmax()]"
     ],
     "language": "python",
     "metadata": {},
     "outputs": [
      {
       "metadata": {},
       "output_type": "pyout",
       "prompt_number": 5,
       "text": [
        "time           10:55\n",
        "distance        7993\n",
        "time2       10.91667\n",
        "Name: (PEK, ZRH), dtype: object"
       ]
      }
     ],
     "prompt_number": 5
    },
    {
     "cell_type": "code",
     "collapsed": false,
     "input": [
      "# plot of distance vs. converted time in minutes\n",
      "%matplotlib inline\n",
      "flighttimes.plot(kind=\"scatter\", x = \"distance\", y = \"time2\", ylim=0, xlim=0)"
     ],
     "language": "python",
     "metadata": {},
     "outputs": [
      {
       "metadata": {},
       "output_type": "pyout",
       "prompt_number": 6,
       "text": [
        "<matplotlib.axes._subplots.AxesSubplot at 0x4366a90>"
       ]
      },
      {
       "metadata": {},
       "output_type": "display_data",
       "png": "[encoded data removed]",
       "text": [
        "<matplotlib.figure.Figure at 0x4366490>"
       ]
      }
     ],
     "prompt_number": 6
    },
    {
     "cell_type": "markdown",
     "metadata": {},
     "source": [
      "## Datenbank (SQLite)\n",
      "\n",
      "F\u00fcr gr\u00f6\u00dfere Datenmengen bzw. im professionellen/wissenschaftlichen Umfeld werden Datenbanken eingesetzt.\n",
      "Die Daten werden in einem f\u00fcr die Datenbank spezifische Art gespeichert\n",
      "(sind also nicht wie CSV Dateien von beliebigen Programmen lesbar),\n",
      "beinhalten aber zus\u00e4tzlich Informationen zu den Typen jeder Spalte.\n",
      "Datenbanken bieten eingebaute Hilfsmittel wie Suchindizes und eine Abfragesprache,\n",
      "es k\u00f6nnen mehrere Tabellen auf verschiedenste Arten verkn\u00fcpft werden,\n",
      "und die Verarbeitungsgeschwindigkeit ist viel h\u00f6her.\n",
      "\n",
      "Eingebaut in Python ist [`sqlite3`](https://docs.python.org/2/library/sqlite3.html).\n",
      "\n",
      "Das folgende Beispiel speichert die Daten der CSV Datei in einer sqlite3 Datenbank und macht eine Abfrage."
     ]
    },
    {
     "cell_type": "markdown",
     "metadata": {},
     "source": [
      "1. Erstellen: l\u00f6sche die gegebenenfalls existierende Datenbankdatei und bef\u00fclle sie dann."
     ]
    },
    {
     "cell_type": "code",
     "collapsed": false,
     "input": [
      "db_filename = \"res/flugzeit.db\"\n",
      "\n",
      "import os\n",
      "if os.path.exists(db_filename):\n",
      "    print \"del\"\n",
      "    os.unlink(db_filename)"
     ],
     "language": "python",
     "metadata": {},
     "outputs": [
      {
       "output_type": "stream",
       "stream": "stdout",
       "text": [
        "del\n"
       ]
      }
     ],
     "prompt_number": 7
    },
    {
     "cell_type": "code",
     "collapsed": false,
     "input": [
      "import sqlite3\n",
      "conn = sqlite3.connect(db_filename)"
     ],
     "language": "python",
     "metadata": {},
     "outputs": [],
     "prompt_number": 8
    },
    {
     "cell_type": "code",
     "collapsed": false,
     "input": [
      "# for the connection `conn`, get a cursor and operate on the table\n",
      "curs = conn.cursor"
     ],
     "language": "python",
     "metadata": {},
     "outputs": [],
     "prompt_number": 9
    },
    {
     "cell_type": "code",
     "collapsed": false,
     "input": [
      "curs = conn.cursor()\n",
      "curs.execute('''CREATE TABLE flugzeit\n",
      "                (origin text, destination text, distance real, time real)\n",
      "             ''')"
     ],
     "language": "python",
     "metadata": {},
     "outputs": [
      {
       "metadata": {},
       "output_type": "pyout",
       "prompt_number": 10,
       "text": [
        "<sqlite3.Cursor at 0x4350960>"
       ]
      }
     ],
     "prompt_number": 10
    },
    {
     "cell_type": "code",
     "collapsed": false,
     "input": [
      "for (orig, dest), entry in flighttimes.iterrows():\n",
      "    curs.execute(\"INSERT INTO flugzeit VALUES(?, ?, ?, ?)\", (orig, dest, entry.distance, entry.time2))"
     ],
     "language": "python",
     "metadata": {},
     "outputs": [],
     "prompt_number": 11
    },
    {
     "cell_type": "code",
     "collapsed": false,
     "input": [
      "for row in curs.execute(\"SELECT * FROM flugzeit\"):\n",
      "    print row"
     ],
     "language": "python",
     "metadata": {},
     "outputs": [
      {
       "output_type": "stream",
       "stream": "stdout",
       "text": [
        "(u'VIE', u'LHR', 1100.0, 2.5)\n",
        "(u'SFO', u'JFK', 4162.0, 5.5)\n",
        "(u'PEK', u'ZRH', 7993.0, 10.916666666666666)\n",
        "(u'HNL', u'YOW', 7758.0, 10.133333333333333)\n",
        "(u'VIE', u'BER', 676.0, 1.15)\n",
        "(u'CDG', u'TIP', 2019.0, 3.0166666666666666)\n",
        "(u'LIS', u'AMM', 4138.0, 5.65)\n",
        "(u'LIS', u'BER', 2307.0, 3.3666666666666667)\n",
        "(u'LIS', u'WAW', 2754.0, 3.9166666666666665)\n",
        "(u'PEK', u'SVO', 5811.0, 7.716666666666667)\n"
       ]
      }
     ],
     "prompt_number": 12
    },
    {
     "cell_type": "code",
     "collapsed": false,
     "input": [
      "# sort by decreasing distance\n",
      "for row in curs.execute(\"SELECT * FROM flugzeit ORDER BY -distance\"):\n",
      "    print row"
     ],
     "language": "python",
     "metadata": {},
     "outputs": [
      {
       "output_type": "stream",
       "stream": "stdout",
       "text": [
        "(u'PEK', u'ZRH', 7993.0, 10.916666666666666)\n",
        "(u'HNL', u'YOW', 7758.0, 10.133333333333333)\n",
        "(u'PEK', u'SVO', 5811.0, 7.716666666666667)\n",
        "(u'SFO', u'JFK', 4162.0, 5.5)\n",
        "(u'LIS', u'AMM', 4138.0, 5.65)\n",
        "(u'LIS', u'WAW', 2754.0, 3.9166666666666665)\n",
        "(u'LIS', u'BER', 2307.0, 3.3666666666666667)\n",
        "(u'CDG', u'TIP', 2019.0, 3.0166666666666666)\n",
        "(u'VIE', u'LHR', 1100.0, 2.5)\n",
        "(u'VIE', u'BER', 676.0, 1.15)\n"
       ]
      }
     ],
     "prompt_number": 13
    },
    {
     "cell_type": "code",
     "collapsed": false,
     "input": [
      "# maximum distance from LIS\n",
      "curs.execute(\"\"\"\n",
      "             SELECT * \n",
      "             FROM flugzeit\n",
      "             WHERE origin = 'LIS' AND\n",
      "                   distance = (SELECT max(distance) FROM flugzeit WHERE origin = 'LIS')\n",
      "             \"\"\").fetchone()"
     ],
     "language": "python",
     "metadata": {},
     "outputs": [
      {
       "metadata": {},
       "output_type": "pyout",
       "prompt_number": 14,
       "text": [
        "(u'LIS', u'AMM', 4138.0, 5.65)"
       ]
      }
     ],
     "prompt_number": 14
    },
    {
     "cell_type": "code",
     "collapsed": false,
     "input": [
      "# minimum time from each origin\n",
      "for row in curs.execute(\"\"\"\n",
      "             SELECT origin, destination, min(time)\n",
      "             FROM flugzeit\n",
      "             GROUP BY origin\n",
      "             \"\"\"):\n",
      "    print row"
     ],
     "language": "python",
     "metadata": {},
     "outputs": [
      {
       "output_type": "stream",
       "stream": "stdout",
       "text": [
        "(u'CDG', u'TIP', 3.0166666666666666)\n",
        "(u'HNL', u'YOW', 10.133333333333333)\n",
        "(u'LIS', u'WAW', 3.3666666666666667)\n",
        "(u'PEK', u'SVO', 7.716666666666667)\n",
        "(u'SFO', u'JFK', 5.5)\n",
        "(u'VIE', u'BER', 1.15)\n"
       ]
      }
     ],
     "prompt_number": 15
    },
    {
     "cell_type": "code",
     "collapsed": false,
     "input": [],
     "language": "python",
     "metadata": {},
     "outputs": [],
     "prompt_number": 15
    }
   ],
   "metadata": {}
  }
 ]
}
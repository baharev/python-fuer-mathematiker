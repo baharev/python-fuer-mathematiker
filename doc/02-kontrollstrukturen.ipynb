{
 "metadata": {
  "name": "",
  "signature": "sha256:3a498b6c6d0c7f052030765c610d90e939450da0ad13be144f99f75b2b6046b5"
 },
 "nbformat": 3,
 "nbformat_minor": 0,
 "worksheets": [
  {
   "cells": [
    {
     "cell_type": "markdown",
     "metadata": {},
     "source": [
      "# Kontrollstrukturen"
     ]
    },
    {
     "cell_type": "code",
     "collapsed": false,
     "input": [],
     "language": "python",
     "metadata": {},
     "outputs": []
    }
   ],
   "metadata": {}
  }
 ]
}
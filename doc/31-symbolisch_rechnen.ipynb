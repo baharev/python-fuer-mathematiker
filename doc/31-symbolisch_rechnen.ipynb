{
 "metadata": {
  "name": "",
  "signature": "sha256:c7f8f171615ce4b5e158fdb959cb6a35f4da3002bf5cc5421774cb62d4789801"
 },
 "nbformat": 3,
 "nbformat_minor": 0,
 "worksheets": [
  {
   "cells": [
    {
     "cell_type": "markdown",
     "metadata": {},
     "source": [
      "# Symbolisches Rechnen mit SymPy\n",
      "\n",
      "[SymPy](http://www.sympy.org) ist eine Python Bibliothek f\u00fcr symbolisches Rechnen."
     ]
    },
    {
     "cell_type": "code",
     "collapsed": false,
     "input": [],
     "language": "python",
     "metadata": {},
     "outputs": []
    }
   ],
   "metadata": {}
  }
 ]
}
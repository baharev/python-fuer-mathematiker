{
 "metadata": {
  "name": "",
  "signature": "sha256:6a062c1a3b36ebe281140fa21c6ad0eec9d5fbc743878dad695c13cd3ee3feb5"
 },
 "nbformat": 3,
 "nbformat_minor": 0,
 "worksheets": [
  {
   "cells": [
    {
     "cell_type": "markdown",
     "metadata": {},
     "source": [
      "[INDEX](00-index.ipynb)"
     ]
    },
    {
     "cell_type": "markdown",
     "metadata": {},
     "source": [
      "# Symbolisches Rechnen mit SymPy\n",
      "\n",
      "[SymPy](http://www.sympy.org) ist eine Python Bibliothek f\u00fcr symbolisches Rechnen."
     ]
    },
    {
     "cell_type": "code",
     "collapsed": false,
     "input": [],
     "language": "python",
     "metadata": {},
     "outputs": []
    }
   ],
   "metadata": {}
  }
 ]
}
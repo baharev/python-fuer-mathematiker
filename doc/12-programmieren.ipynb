{
 "metadata": {
  "name": "",
  "signature": "sha256:6ea8585e47d2287d6171ddd18198bac0cb5d0a47c99796368af2ce0771ab1109"
 },
 "nbformat": 3,
 "nbformat_minor": 0,
 "worksheets": [
  {
   "cells": [
    {
     "cell_type": "markdown",
     "metadata": {},
     "source": [
      "[INDEX](00-index.ipynb)"
     ]
    },
    {
     "cell_type": "markdown",
     "metadata": {},
     "source": [
      "## Wast ist Programmieren?\n",
      "\n",
      "Nach diesem Streifzug durch einige Beispiele und der Vorstellung von den wichtigsten Grundkonzepten,\n",
      "stellt sich die Frage, was \"Programmieren\" \u00fcberhaupt sein soll?"
     ]
    },
    {
     "cell_type": "markdown",
     "metadata": {},
     "source": [
      "Die einfachste Antwort ist, dass es die \u00dcbersetzung eines Algorithmuses in eine f\u00fcr die Maschine \"Computer\" verst\u00e4ndliche Form ist.\n",
      "\n",
      "Was ist dann ein _Algorithmus_?\n",
      "Das ist eine Vorschrift, wie ein ein gegebenes Problem mittels klar definierter Anweisungen gel\u00f6st werden kann. Wichtig ist, dass jeder Schritt explizit und direkt abl\u00e4uft, und es eine eindeutige klare Definition gibt.\n",
      "\n",
      "Eine _Programmiersprache_ ist dann das Zwischenst\u00fcck, um einem Computer so einen Algorithmus beizubringen.\n",
      "Es handelt sich damit um das Kernelement, warum Computer \u00fcberhaupt erfunden wurden.\n",
      "\n"
     ]
    }
   ],
   "metadata": {}
  }
 ]
}
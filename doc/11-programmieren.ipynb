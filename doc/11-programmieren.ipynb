{
 "metadata": {
  "name": "",
  "signature": "sha256:ca6720c84546f6d76c1846276005c07757cc9ffabb4e4a7b81eec9b28ba8c40b"
 },
 "nbformat": 3,
 "nbformat_minor": 0,
 "worksheets": [
  {
   "cells": [
    {
     "cell_type": "markdown",
     "metadata": {},
     "source": [
      "[INDEX](00-index.ipynb)"
     ]
    },
    {
     "cell_type": "markdown",
     "metadata": {},
     "source": [
      "# Was ist Programmieren?\n",
      "\n",
      "Nach diesem Streifzug durch einige Beispiele und der Vorstellung von den wichtigsten Grundkonzepten,\n",
      "stellt sich die Frage, was \"Programmieren\" \u00fcberhaupt sein soll?"
     ]
    },
    {
     "cell_type": "markdown",
     "metadata": {},
     "source": [
      "Die einfachste Antwort ist, dass es die \n",
      "\n",
      "> \u00dcbersetzung eines Algorithmus in eine f\u00fcr die Maschine (aka \"Computer\") verst\u00e4ndliche Form ist.\n",
      "\n",
      "Was ist dann ein **Algorithmus**?\n",
      "\n",
      "> Das ist eine Vorschrift, wie ein ein gegebenes Problem mittels klar definierter Anweisungen gel\u00f6st werden kann.\n",
      "\n",
      "Wichtig ist, dass jeder Schritt explizit und direkt abl\u00e4uft,\n",
      "und sie jeweils auf eindeutigen und klareen Definitionen basieren.\n",
      "Jede Ausf\u00fchrung des Algorithmus basiert auf Eingabedaten,\n",
      "welche die jeweilige Instanz des zu l\u00f6senden Problems bestimmen.\n",
      "Nur auf basis diese Daten kann die L\u00f6sung berechnet werden."
     ]
    },
    {
     "cell_type": "markdown",
     "metadata": {},
     "source": [
      "Eine **Programmiersprache** ist das Zwischenst\u00fcck,\n",
      "um einem Computer so einen Algorithmus beizubringen.\n",
      "Es handelt sich damit um das Kernelement,\n",
      "warum Computer \u00fcberhaupt erfunden wurden.\n",
      "\n",
      "Mittels der Programmiersprache muss es m\u00f6glich sein,\n",
      "sowohl die Eingeabedaten als auch den Ablauf des Algorithmuses repr\u00e4sentieren zu k\u00f6nnen.\n",
      "Dabei ist es wichtig zu realisieren,\n",
      "dass diese Repr\u00e4sentation eine f\u00fcr den Menschen lesbare Form ist.\n",
      "Intern verarbeitet ein Computer ausschlie\u00dflich bin\u00e4r Codierte Daten und Befehle,\n",
      "welche f\u00fcr den Menschen nicht mehr wirklich aussagekr\u00e4ftig sind."
     ]
    },
    {
     "cell_type": "markdown",
     "metadata": {},
     "source": [
      "## Kontrollstrukturen\n",
      "\n",
      "Um den Ablauf des Algorithmus im Detail programmieren zu k\u00f6nnen,\n",
      "muss eine Programmiersprache Kontrollstrukturen (engl. \"control structures\") bereitstellen.\n",
      "Der lineare Ablauf einer Liste von Befehlen wird dabei zu einem komplexeren Ablauf,\n",
      "welcher aus \n",
      "\n",
      "* bedingten Verzweigungen (Entscheidungen),\n",
      "* Wiederholungen (Schleifen, Iterationen, ...)\n",
      "* aufrufbaren Codebl\u00f6cken (Funktionen, Methoden)\n",
      "* und anderem (Coroutinen, Threads, ...), etc.\n",
      "\n",
      "besteht."
     ]
    },
    {
     "cell_type": "markdown",
     "metadata": {},
     "source": [
      "## Datenstrukturen\n",
      "\n",
      "Eine gute Repr\u00e4sentation der Daten ist die zweite elementare Eigenschaft.\n",
      "Im elementarsten bestehen Daten aus bin\u00e4ren Datenbl\u00f6cken,\n",
      "welche durch Namensgebung dem Menschen eine Bedeutung geben (Variablen, Variablenname).\n",
      "Diese Datenbl\u00f6cke k\u00f6nnen zu komplexeren Strukturen zusammengesetzt werden:\n",
      "\n",
      "* Listen: eine lineare, geordnete Struktur (Vektor)\n",
      "* Assoziative Listen: Jeder Eintrag erh\u00e4lt einen eindeutigen Namen, unter dem er abgerufen werden kann (surjektiv)\n",
      "* Verschachtelungen: ein Eintrag einer assoziativen Liste kann eine Liste sein, etc.\n",
      "* Mengen: jedes Element kommt nur einmal vor\n",
      "* ...\n",
      "\n",
      "Werden bestimmte Auspr\u00e4gungen dieser Datenstrukturen immer wieder verwendet,\n",
      "so bietet die Programmiersprache Python sogenannte \"Klassen\" (engl. class) an.\n",
      "Dies sind benannte Strukturen, welche neben den Daten auch darauf abstimmte Funktionen beinhalten k\u00f6nnen - diese Funktionen nennt man dann \"Methoden\".\n",
      "So eine benannte Datenstruktur ist dann ein **Datentyp**,\n",
      "welcher erlaubt komplexere Konzepte in einem f\u00fcr den Menschen verst\u00e4ndliche Art zu implementieren --\n",
      "wobei gleichzeitig die darunterliegende Bin\u00e4rstruktur f\u00fcr den Computer verst\u00e4ndlich ist."
     ]
    },
    {
     "cell_type": "markdown",
     "metadata": {},
     "source": [
      "Beispiel: Datenstruktur eines Bruchs.\n",
      "\n",
      "Ein Bruch besteht aus einem Nenner und einem Z\u00e4hler,\n",
      "welche jeweils 64-bit Ganzzahlen sein sollen.\n",
      "Ein Datentyp \"`Bruch`\" fasst nun diese beiden Ganzzahlen zusammen,\n",
      "und beispielsweise eine assoziierte Funktion \"`add`\" erlaubt es zwei Br\u00fcche zu addieren."
     ]
    },
    {
     "cell_type": "markdown",
     "metadata": {},
     "source": [
      "Links:\n",
      "\n",
      "* [What Is Programming?](http://interactivepython.org/courselib/static/pythonds/Introduction/WhatIsProgramming.html)"
     ]
    },
    {
     "cell_type": "code",
     "collapsed": false,
     "input": [],
     "language": "python",
     "metadata": {},
     "outputs": []
    }
   ],
   "metadata": {}
  }
 ]
}
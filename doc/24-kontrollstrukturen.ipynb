{
 "metadata": {
  "name": "",
  "signature": "sha256:2188ef594c4860640426b45ea25d5d6d0ddcf65043b1ab4c9a19606bfaf3e6d8"
 },
 "nbformat": 3,
 "nbformat_minor": 0,
 "worksheets": [
  {
   "cells": [
    {
     "cell_type": "markdown",
     "metadata": {},
     "source": [
      "# Konzept 4: Kontrollstrukturen"
     ]
    },
    {
     "cell_type": "markdown",
     "metadata": {},
     "source": [
      "Ein Programm ist mehr als eine lineare Abfolge von Befehlen."
     ]
    },
    {
     "cell_type": "code",
     "collapsed": false,
     "input": [],
     "language": "python",
     "metadata": {},
     "outputs": []
    }
   ],
   "metadata": {}
  }
 ]
}
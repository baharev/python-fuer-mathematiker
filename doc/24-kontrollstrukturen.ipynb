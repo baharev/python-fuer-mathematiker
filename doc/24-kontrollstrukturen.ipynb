{
 "metadata": {
  "name": "",
  "signature": "sha256:bee3d47d2fb48d1e3e0058df3c517055ceacf17064606ab58b6615cbe5311b72"
 },
 "nbformat": 3,
 "nbformat_minor": 0,
 "worksheets": [
  {
   "cells": [
    {
     "cell_type": "markdown",
     "metadata": {},
     "source": [
      "# Konzept 4: Kontrollstrukturen"
     ]
    },
    {
     "cell_type": "markdown",
     "metadata": {},
     "source": [
      "Eine sehr vereinfachte Vorstellung eines Computerprogrammes ist ein Kochrezept.\n",
      "Zuerst werden die Zutaten (Daten) zurechtgelegt,\n",
      "dann anhand einer Liste von Befehlen bearbeitet,\n",
      "und zum Schluss gibt es ein hoffentlich bek\u00f6mmliches Ergebnis.\n",
      "\n",
      "Ein Computerprogramm ist aber mehr als eine lineare Abfolge von Befehlen.\n",
      "\u00dcblicherweise werden anhand diverser Kriterien *Entscheidungen* getroffen,\n",
      "oder *alle Elemente in einer Menge* werden durch einen festen Handlungsablaufe abgearbeitet, usw.\n",
      "\n",
      "Das Konzept **Kontrollstrukturen** behandelt all diesen Steuerungselementen f\u00fcr einen nichtlinearen Programmablauf."
     ]
    },
    {
     "cell_type": "markdown",
     "metadata": {},
     "source": [
      "## Bedingte Verzweigung\n",
      "\n",
      "Eine **Verzweigung** ist eine Stelle im Programmablauf,\n",
      "wo ein, zwei oder mehr alternative Wege wurzeln.\n",
      "Es wird maximal eine dieser Alternativen abgearbeitet!\n",
      "Am Schluss dieses Programmteils vereinigen sich diese Str\u00e4nge (\u00fcblicherweise) wieder zu einem gemeinsamen Handlungsablauf.\n",
      "\n",
      "Schl\u00fcsselw\u00f6rter:\n",
      "\n",
      "* `if`: wenn der nachgestellte Wahrheitsausdruck (engl. \"boolean expression\") wahr ist, wird der nachfolgende Block abgearbeitet.\n",
      "* `else`: ist der Wahrheitsausdruck falsch, so springt die Ausf\u00fchrung in diesen optionalen `else` Block."
     ]
    },
    {
     "cell_type": "code",
     "collapsed": false,
     "input": [
      "x = 4\n",
      "if x > 0:\n",
      "    print(\"x ist positiv, ich kann die Wurzel ziehen!\")\n",
      "    from math import sqrt\n",
      "    x = sqrt(x)\n",
      "print(\"x = %f\" % x)"
     ],
     "language": "python",
     "metadata": {},
     "outputs": [
      {
       "output_type": "stream",
       "stream": "stdout",
       "text": [
        "x ist positiv, ich kann die Wurzel ziehen!\n",
        "x = 2.000000\n"
       ]
      }
     ],
     "prompt_number": 11
    },
    {
     "cell_type": "markdown",
     "metadata": {},
     "source": [
      "**Quiz:** Editiere vorhergehende Zelle so, dass x negativ ist und beobachte das Resultat."
     ]
    },
    {
     "cell_type": "code",
     "collapsed": false,
     "input": [
      "y = 55\n",
      "if y % 5 == 0:\n",
      "    k = y / 5\n",
      "    y += k\n",
      "print(\"y = %f\" % y)"
     ],
     "language": "python",
     "metadata": {},
     "outputs": [
      {
       "output_type": "stream",
       "stream": "stdout",
       "text": [
        "y = 66.000000\n"
       ]
      }
     ],
     "prompt_number": 12
    },
    {
     "cell_type": "markdown",
     "metadata": {},
     "source": [
      "Zus\u00e4tzlich kann es vorkommen, dass Verzweigungen verschachtel werden:"
     ]
    },
    {
     "cell_type": "code",
     "collapsed": false,
     "input": [
      "a = 5\n",
      "b = -3\n",
      "if a > 0:\n",
      "    if b > 0:\n",
      "        x = a + b\n",
      "    else:\n",
      "        x = a - b\n",
      "else:\n",
      "    x = b\n",
      "print \"x = %f\" % x"
     ],
     "language": "python",
     "metadata": {},
     "outputs": [
      {
       "output_type": "stream",
       "stream": "stdout",
       "text": [
        "x = 8.000000\n"
       ]
      }
     ],
     "prompt_number": 14
    },
    {
     "cell_type": "markdown",
     "metadata": {},
     "source": [
      "Gibt es mehr als zwei Alternativen,\n",
      "wird diese `if`-`else` Struktur mit dem Schl\u00fcsselwort `elif` erweitert.\n",
      "\n",
      "Beispiel: Implementiere \n",
      "\n",
      "\\begin{equation}\n",
      "\\operatorname{capped}(x) := \\begin{cases}\n",
      "1 & -1 \\le x < 0 \\\\\n",
      "\\frac{1}{2} & x = 0 \\\\\n",
      "1 - x^2 & \\text{otherwise}\n",
      "\\end{cases}\n",
      "\\end{equation}"
     ]
    },
    {
     "cell_type": "code",
     "collapsed": false,
     "input": [
      "def capped(x):\n",
      "    if x == 0:\n",
      "        return 0\n",
      "    elif -1 <= x < 0:\n",
      "        return 1\n",
      "    else:\n",
      "        return 1 - x**2"
     ],
     "language": "python",
     "metadata": {},
     "outputs": [],
     "prompt_number": 15
    },
    {
     "cell_type": "code",
     "collapsed": false,
     "input": [
      "capped(-5), capped(-1), capped(-.5), capped(0), capped(2)"
     ],
     "language": "python",
     "metadata": {},
     "outputs": [
      {
       "metadata": {},
       "output_type": "pyout",
       "prompt_number": 16,
       "text": [
        "(-24, 1, 1, 0, -3)"
       ]
      }
     ],
     "prompt_number": 16
    },
    {
     "cell_type": "markdown",
     "metadata": {},
     "source": [
      "**Bemerkung**: Besonders praktisch ist der `-1 <= x < 0` Ausdruck.\n",
      "Er lie\u00dfe sich auch als `-1 <= x and x < 0` anschreiben."
     ]
    },
    {
     "cell_type": "markdown",
     "metadata": {},
     "source": [
      "**Quiz:** Angenommen, zwei der Testausdr\u00fccken sind wahr. Was passiert dann?"
     ]
    },
    {
     "cell_type": "code",
     "collapsed": false,
     "input": [
      "x = 10\n",
      "if x % 2 == 0:\n",
      "    print(\"teilbar durch 2\")\n",
      "elif x > 0:\n",
      "    print(\"x ist positiv\")\n",
      "else:\n",
      "    print(\"x ist weder positiv, noch teilbar durch 2\")"
     ],
     "language": "python",
     "metadata": {},
     "outputs": [
      {
       "output_type": "stream",
       "stream": "stdout",
       "text": [
        "teilbar durch 2\n"
       ]
      }
     ],
     "prompt_number": 17
    },
    {
     "cell_type": "markdown",
     "metadata": {},
     "source": [
      "## Iterationen\n",
      "\n",
      "Neben Verzweigungen gibt es verschiedene Formen,\n",
      "einen Codeblock nicht nur einmal, sondern \u00f6fters auszuf\u00fchren.\n",
      "Dies geschieht auf zwei Arten:\n",
      "\n",
      "* `while expr`: der Block wird so lange ausgef\u00fchrt, so lange der Wahrheitsausdruck `<expr>` wahr ist.\n",
      "* `for i in collection`: f\u00fcr jedes `i` in der abzuarbeitenden Menge wird der Block ausgef\u00fchrt.\n",
      "    Dabei nimmt `i` der Reihe nach jeden Wert der Sammlung an."
     ]
    },
    {
     "cell_type": "code",
     "collapsed": false,
     "input": [
      "x = 10\n",
      "while x > 5:\n",
      "    print(\"x = %f\" % x)\n",
      "    x = x * .95"
     ],
     "language": "python",
     "metadata": {},
     "outputs": [
      {
       "output_type": "stream",
       "stream": "stdout",
       "text": [
        "x = 10.000000\n",
        "x = 9.500000\n",
        "x = 9.025000\n",
        "x = 8.573750\n",
        "x = 8.145062\n",
        "x = 7.737809\n",
        "x = 7.350919\n",
        "x = 6.983373\n",
        "x = 6.634204\n",
        "x = 6.302494\n",
        "x = 5.987369\n",
        "x = 5.688001\n",
        "x = 5.403601\n",
        "x = 5.133421\n"
       ]
      }
     ],
     "prompt_number": 3
    },
    {
     "cell_type": "markdown",
     "metadata": {},
     "source": [
      "**Achtung:** Ist der zu testende Ausdruck immer Wahr, wiederholt sich die Schleife \"unendlich\" oft.\n",
      "Das vertr\u00e4gt sich mit der endlichen Physik des Computers nicht,\n",
      "bzw. funktioniert das IPython Notebook im Webbrowser nicht mehr."
     ]
    },
    {
     "cell_type": "code",
     "collapsed": false,
     "input": [
      "for i in range(5, 40, 5):\n",
      "    i = 42 * i**2\n",
      "    print(\"i = %6d\" % i)"
     ],
     "language": "python",
     "metadata": {},
     "outputs": [
      {
       "output_type": "stream",
       "stream": "stdout",
       "text": [
        "i =   1050\n",
        "i =   4200\n",
        "i =   9450\n",
        "i =  16800\n",
        "i =  26250\n",
        "i =  37800\n",
        "i =  51450\n"
       ]
      }
     ],
     "prompt_number": 12
    },
    {
     "cell_type": "markdown",
     "metadata": {},
     "source": [
      "Will man neben dem zu iterierenden Element auch den Index in der Liste wissen,\n",
      "so verwendet man den `enumerate(...)` Iterator.\n",
      "Er liefert pro Eintrag ein Paar (\"tupel\") zur\u00fcck,\n",
      "welches aus dem Index und dem Element besteht."
     ]
    },
    {
     "cell_type": "code",
     "collapsed": false,
     "input": [
      "obst = [\"Apfel\", \"Tomate\", \"Birne\", \"Kiwi\"]\n",
      "for i, o in enumerate(obst):\n",
      "    print(\"{:2d}: {}\".format(i, o))\n",
      "    "
     ],
     "language": "python",
     "metadata": {},
     "outputs": [
      {
       "output_type": "stream",
       "stream": "stdout",
       "text": [
        " 0: Apfel\n",
        " 1: Tomate\n",
        " 2: Birne\n",
        " 3: Kiwi\n"
       ]
      }
     ],
     "prompt_number": 14
    },
    {
     "cell_type": "markdown",
     "metadata": {},
     "source": [
      "Die Z\u00e4hlung startet wie \u00fcblich bei `0`."
     ]
    },
    {
     "cell_type": "code",
     "collapsed": false,
     "input": [],
     "language": "python",
     "metadata": {},
     "outputs": []
    }
   ],
   "metadata": {}
  }
 ]
}
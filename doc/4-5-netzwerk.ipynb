{
 "metadata": {
  "name": "",
  "signature": "sha256:0c842762abd75dd9482b4893ee2bf68bce2e05859dbc4e308c5344ef6424601a"
 },
 "nbformat": 3,
 "nbformat_minor": 0,
 "worksheets": [
  {
   "cells": [
    {
     "cell_type": "heading",
     "level": 1,
     "metadata": {},
     "source": [
      "Netzwerk und Internet"
     ]
    },
    {
     "cell_type": "markdown",
     "metadata": {},
     "source": [
      "Miteinander kommunizierende Computer sind eine sehr m\u00e4chtige Erfindung.\n",
      "Prominente Beispiele sind lokale Netzwerke, das Internet, das hier vorliegende IPython Notebook, Smartphones und Raumsonden.\n",
      "Im folgenden wird umrissen, wie man mittels Python mit einem Server kommunizeren kann,\n",
      "wie Daten \u00fcbertragen werden, und wie ein Server prinzipiell gestartet werden kann."
     ]
    },
    {
     "cell_type": "markdown",
     "metadata": {},
     "source": [
      "Python selbst liefert die Bibliotheken [urllib](https://docs.python.org/2/library/urllib.html) ([Py3 urllib](https://docs.python.org/3/library/urllib.html))\n",
      "und [urllib2](https://docs.python.org/2/library/urllib2.html) aus.\n",
      "Sie liefern eine rudiment\u00e4re Schnittstelle um mit der Au\u00dfenwelt kommunizieren zu k\u00f6nnen.\n",
      "\n",
      "Besser ist eine Bibliothek wie `requests`, welche einfacher zu bedienen ist."
     ]
    },
    {
     "cell_type": "code",
     "collapsed": false,
     "input": [
      "import requests as req"
     ],
     "language": "python",
     "metadata": {},
     "outputs": [],
     "prompt_number": 11
    },
    {
     "cell_type": "markdown",
     "metadata": {},
     "source": [
      "## GET requests\n",
      "\n",
      "Kommunikation im [WWW](http://info.cern.ch/hypertext/WWW/TheProject.html) l\u00e4uft \u00fcber das [HTTP Protokol](http://en.wikipedia.org/wiki/HTTP) ab.\n",
      "Es gibt Verben und Objekte. Das Verb \"GET\" teilt einem anderen Computer (Server) mit, dass der eine Computer etwas haben m\u00f6chte.\n",
      "Die dieser Kommunikation [zugrunde liegenden Systeme](http://en.wikipedia.org/wiki/OSI_model) stellen sicher, dass beide miteinander auch \u00fcber gro\u00dfe Distanzen sprechen k\u00f6nnen.\n",
      "\n",
      "Im folgenden Beispiel holen wir uns die Zellen des dieses hier vorliegenden Notebooks vom [Hauptrepository of GitHub](https://github.com/haraldschilly/python-fuer-mathematiker/).\n",
      "Das Dateiformat basiert auf [JSON](http://json.org) und es werden genau die hier sichtbaren Zellen geladen."
     ]
    },
    {
     "cell_type": "code",
     "collapsed": false,
     "input": [
      "netzwerk = req.get(\"https://github.com/haraldschilly/python-fuer-mathematiker/raw/master/doc/4-5-netzwerk.ipynb\")\n",
      "notebook = netzwerk.json()"
     ],
     "language": "python",
     "metadata": {},
     "outputs": [],
     "prompt_number": 15
    },
    {
     "cell_type": "code",
     "collapsed": false,
     "input": [
      "notebook[\"worksheets\"]"
     ],
     "language": "python",
     "metadata": {},
     "outputs": [
      {
       "metadata": {},
       "output_type": "pyout",
       "prompt_number": 23,
       "text": [
        "[{u'cells': [{u'cell_type': u'heading',\n",
        "    u'level': 1,\n",
        "    u'metadata': {},\n",
        "    u'source': [u'Netzwerk und Internet']},\n",
        "   {u'cell_type': u'code',\n",
        "    u'collapsed': False,\n",
        "    u'input': [],\n",
        "    u'language': u'python',\n",
        "    u'metadata': {},\n",
        "    u'outputs': []}],\n",
        "  u'metadata': {}}]"
       ]
      }
     ],
     "prompt_number": 23
    },
    {
     "cell_type": "code",
     "collapsed": false,
     "input": [],
     "language": "python",
     "metadata": {},
     "outputs": []
    }
   ],
   "metadata": {}
  }
 ]
}
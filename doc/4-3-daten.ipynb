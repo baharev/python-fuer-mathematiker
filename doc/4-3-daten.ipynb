{
 "metadata": {
  "name": "",
  "signature": "sha256:243bcce06ed35224802c92258e0080f5f872ec6a62bc3d1c9954e28fcc17379c"
 },
 "nbformat": 3,
 "nbformat_minor": 0,
 "worksheets": [
  {
   "cells": [
    {
     "cell_type": "heading",
     "level": 1,
     "metadata": {},
     "source": [
      "Daten, Dateiformate und Persistenz"
     ]
    },
    {
     "cell_type": "markdown",
     "metadata": {},
     "source": [
      "Ein Computerprogramm l\u00e4uft ausschlie\u00dflich im Arbeitsspeicher.\n",
      "Das ist ein schneller, aber verg\u00e4nglicher Ort um Daten abzulegen.\n",
      "M\u00f6chte man \n",
      "\n",
      "* Ergebnisse einer Berechnung speichern,\n",
      "* existierende Daten einlesen,\n",
      "* oder Berechnungen zwischenspeichern\n",
      "\n",
      "braucht es weiterer Technologien, um die Daten aus dem Arbeitsspeicher z.B. auf die Festplatte oder in eine Datenbank zu speichern bzw. von dort wieder einzulesen.\n",
      "\n",
      "Der \u00dcberbegriff f\u00fcr jegliches Speichern von Daten in einer Datei ist [Serialisierung](http://de.wikipedia.org/wiki/Serialisierung).\n",
      "Die Daten des Programmes werden hierbei kodiert und als lineare Sequenz von Bits&Bytes abgelegt.\n",
      "Im folgenden werden einige solcher Formate vorgestellt und kurz erkl\u00e4rt,\n",
      "wie sie mit Python gelesen bzw. geschrieben werden k\u00f6nnen."
     ]
    },
    {
     "cell_type": "markdown",
     "metadata": {},
     "source": [
      "## Python Pickle\n",
      "\n",
      "[Python Pickles](https://docs.python.org/2/library/pickle.html) sind Python's interne Art,\n",
      "Daten eines Objektes zu speichern.\n",
      "Der Vorteil ist, dass es sehr schnell und speicherplatsparend funktioniert.\n",
      "Die Nachteile sind, dass dies eine rein Python spezifische L\u00f6sung ist und\n",
      "zum Laden des pickles wird genau die richtige Klasse (mit derselben Struktur) ben\u00f6tigt."
     ]
    },
    {
     "cell_type": "code",
     "collapsed": false,
     "input": [
      "from os.path import join\n",
      "try:\n",
      "    import cPickle as pickle\n",
      "finally:\n",
      "    import pickle"
     ],
     "language": "python",
     "metadata": {},
     "outputs": [],
     "prompt_number": 1
    },
    {
     "cell_type": "code",
     "collapsed": false,
     "input": [
      "class Data(object):\n",
      "    def __init__(self, a, b):\n",
      "        self.a = a\n",
      "        self.b = b\n",
      "d1 = Data(a = \"this is value a\", b = [2, 2, 31])\n",
      "print(id(d1))"
     ],
     "language": "python",
     "metadata": {},
     "outputs": [
      {
       "output_type": "stream",
       "stream": "stdout",
       "text": [
        "24963472\n"
       ]
      }
     ],
     "prompt_number": 2
    },
    {
     "cell_type": "markdown",
     "metadata": {},
     "source": [
      "Es ist immer eine gute Idee, das Protokoll auf die aktuellste Version zu stellen.\n",
      "Standardm\u00e4\u00dfig wird immer die niedrigste (und viel schlechtere) Variante genommen,\n",
      "um r\u00fcckw\u00e4rskompatibel zu sein."
     ]
    },
    {
     "cell_type": "code",
     "collapsed": false,
     "input": [
      "pickle_fn = join(\"res\", \"data.pickle\")\n",
      "with open(pickle_fn, \"wb\") as  pickle_file:\n",
      "    pickle.dump(d1, pickle_file, protocol=pickle.HIGHEST_PROTOCOL)"
     ],
     "language": "python",
     "metadata": {},
     "outputs": [],
     "prompt_number": 3
    },
    {
     "cell_type": "markdown",
     "metadata": {},
     "source": [
      "Nun wird die Klasse wieder geladen, in `d2` statt `d1`, und gelesen.\n",
      "Man sieht, die Klasse ist rekonstruiert worden, die Daten sind verf\u00fcgbar, und die Speicheradresse ist eine andere."
     ]
    },
    {
     "cell_type": "code",
     "collapsed": false,
     "input": [
      "d2 = pickle.load(open(pickle_fn))\n",
      "print(type(d2), id(d2))\n",
      "d2.a, d2.b"
     ],
     "language": "python",
     "metadata": {},
     "outputs": [
      {
       "output_type": "stream",
       "stream": "stdout",
       "text": [
        "(<class '__main__.Data'>, 24962832)\n"
       ]
      },
      {
       "metadata": {},
       "output_type": "pyout",
       "prompt_number": 4,
       "text": [
        "('this is value a', [2, 2, 31])"
       ]
      }
     ],
     "prompt_number": 4
    },
    {
     "cell_type": "markdown",
     "metadata": {},
     "source": [
      "## CSV: Comma-Separated-Values\n",
      "\n",
      "Dies ist ein sehr einfaches, rein textbasiertes Format.\n",
      "Es handelt sich um spatenweise angeordnete Daten in Form einer Tabelle,\n",
      "wobei Spaten durch \"`,`\" oder \"`;`\" getrennt werden.\n",
      "Die erste Zeile ist \u00fcblicherweise eine Beschriftung der Spalten,\n",
      "darunter ein Eintrag pro Zeile.\n",
      "Strings werden \u00fcblicherweise in Anf\u00fchrungszeichen gestellt,\n",
      "insbesondere um Verwechslungen mit dem trennenden Zeichen zu vermeiden.\n",
      "Achtung, es gibt keine Typeninformation!"
     ]
    },
    {
     "cell_type": "code",
     "collapsed": false,
     "input": [
      "flugzeit_csv= join(\"res\", \"flugzeit.csv\")"
     ],
     "language": "python",
     "metadata": {},
     "outputs": [],
     "prompt_number": 5
    },
    {
     "cell_type": "code",
     "collapsed": false,
     "input": [
      "%%writefile $flugzeit_csv\n",
      "origin,destination,time,distance\n",
      "VIE,LHR,2:30,1100\n",
      "VIE,JFK,8:59,6823\n",
      "JFK,ZCL,4:39,3346\n",
      "SFO,JFK,5:30,4162\n",
      "PEK,ZRH,10:55,7993\n",
      "HNL,YOW,10:08,7758\n",
      "VIE,BER,1:09,676\n",
      "CDG,TIP,3:01,2019\n",
      "CDG,ATZ,4:47,3453\n",
      "CDG,FCO,1:52,1102\n",
      "VIE,FCO,1:28,780\n",
      "LIS,AMM,5:39,4138\n",
      "LIS,BER,3:22,2307\n",
      "LIS,WAW,3:55,2754\n",
      "PEK,SVO,7:43,5811\n",
      "BRN,HUU,13:20,10331"
     ],
     "language": "python",
     "metadata": {},
     "outputs": [
      {
       "output_type": "stream",
       "stream": "stdout",
       "text": [
        "Overwriting res/flugzeit.csv\n"
       ]
      }
     ],
     "prompt_number": 6
    },
    {
     "cell_type": "code",
     "collapsed": false,
     "input": [
      "import csv\n",
      "for line in csv.reader(open(flugzeit_csv), delimiter=\",\"):\n",
      "    print line"
     ],
     "language": "python",
     "metadata": {},
     "outputs": [
      {
       "output_type": "stream",
       "stream": "stdout",
       "text": [
        "['origin', 'destination', 'time', 'distance']\n",
        "['VIE', 'LHR', '2:30', '1100']\n",
        "['VIE', 'JFK', '8:59', '6823']\n",
        "['JFK', 'ZCL', '4:39', '3346']\n",
        "['SFO', 'JFK', '5:30', '4162']\n",
        "['PEK', 'ZRH', '10:55', '7993']\n",
        "['HNL', 'YOW', '10:08', '7758']\n",
        "['VIE', 'BER', '1:09', '676']\n",
        "['CDG', 'TIP', '3:01', '2019']\n",
        "['CDG', 'ATZ', '4:47', '3453']\n",
        "['CDG', 'FCO', '1:52', '1102']\n",
        "['VIE', 'FCO', '1:28', '780']\n",
        "['LIS', 'AMM', '5:39', '4138']\n",
        "['LIS', 'BER', '3:22', '2307']\n",
        "['LIS', 'WAW', '3:55', '2754']\n",
        "['PEK', 'SVO', '7:43', '5811']\n",
        "['BRN', 'HUU', '13:20', '10331']\n"
       ]
      }
     ],
     "prompt_number": 7
    },
    {
     "cell_type": "markdown",
     "metadata": {},
     "source": [
      "Wie man sieht, Python's `csv` modul hat die Datei m\u00fchelos lesen k\u00f6nnen.\n",
      "Einzig das Trennzeichen musste gesetzt werden.\n",
      "Alle Eintr\u00e4ge sind jedoch Strings.\n",
      "Die Zahlen m\u00fcssten f\u00fcr eine weitere Verarbeitung umgewandelt werden."
     ]
    },
    {
     "cell_type": "markdown",
     "metadata": {},
     "source": [
      "### CSV mittels Pandas\n",
      "\n",
      "Pandas kann DatenFrames von CSV Tabellen einlesen.\n",
      "Dabei werden die Datentypen (wenn m\u00f6glich) automatisch konvertiert\n",
      "und es lassen sich Header und Indices genauer angeben.\n",
      "\n",
      "In diesem gegebenen Fall wird wieder der Strichpunkt als Trennzeichen angegeben\n",
      "und keiner der Spalten als Index definiert."
     ]
    },
    {
     "cell_type": "code",
     "collapsed": false,
     "input": [
      "import pandas as pd\n",
      "flighttimes = pd.DataFrame.from_csv(flugzeit_csv, sep=\",\", index_col=None)\n",
      "flighttimes"
     ],
     "language": "python",
     "metadata": {},
     "outputs": [
      {
       "html": [
        "<div style=\"max-height:1000px;max-width:1500px;overflow:auto;\">\n",
        "<table border=\"1\" class=\"dataframe\">\n",
        "  <thead>\n",
        "    <tr style=\"text-align: right;\">\n",
        "      <th></th>\n",
        "      <th>origin</th>\n",
        "      <th>destination</th>\n",
        "      <th>time</th>\n",
        "      <th>distance</th>\n",
        "    </tr>\n",
        "  </thead>\n",
        "  <tbody>\n",
        "    <tr>\n",
        "      <th>0 </th>\n",
        "      <td> VIE</td>\n",
        "      <td> LHR</td>\n",
        "      <td>  2:30</td>\n",
        "      <td>  1100</td>\n",
        "    </tr>\n",
        "    <tr>\n",
        "      <th>1 </th>\n",
        "      <td> VIE</td>\n",
        "      <td> JFK</td>\n",
        "      <td>  8:59</td>\n",
        "      <td>  6823</td>\n",
        "    </tr>\n",
        "    <tr>\n",
        "      <th>2 </th>\n",
        "      <td> JFK</td>\n",
        "      <td> ZCL</td>\n",
        "      <td>  4:39</td>\n",
        "      <td>  3346</td>\n",
        "    </tr>\n",
        "    <tr>\n",
        "      <th>3 </th>\n",
        "      <td> SFO</td>\n",
        "      <td> JFK</td>\n",
        "      <td>  5:30</td>\n",
        "      <td>  4162</td>\n",
        "    </tr>\n",
        "    <tr>\n",
        "      <th>4 </th>\n",
        "      <td> PEK</td>\n",
        "      <td> ZRH</td>\n",
        "      <td> 10:55</td>\n",
        "      <td>  7993</td>\n",
        "    </tr>\n",
        "    <tr>\n",
        "      <th>5 </th>\n",
        "      <td> HNL</td>\n",
        "      <td> YOW</td>\n",
        "      <td> 10:08</td>\n",
        "      <td>  7758</td>\n",
        "    </tr>\n",
        "    <tr>\n",
        "      <th>6 </th>\n",
        "      <td> VIE</td>\n",
        "      <td> BER</td>\n",
        "      <td>  1:09</td>\n",
        "      <td>   676</td>\n",
        "    </tr>\n",
        "    <tr>\n",
        "      <th>7 </th>\n",
        "      <td> CDG</td>\n",
        "      <td> TIP</td>\n",
        "      <td>  3:01</td>\n",
        "      <td>  2019</td>\n",
        "    </tr>\n",
        "    <tr>\n",
        "      <th>8 </th>\n",
        "      <td> CDG</td>\n",
        "      <td> ATZ</td>\n",
        "      <td>  4:47</td>\n",
        "      <td>  3453</td>\n",
        "    </tr>\n",
        "    <tr>\n",
        "      <th>9 </th>\n",
        "      <td> CDG</td>\n",
        "      <td> FCO</td>\n",
        "      <td>  1:52</td>\n",
        "      <td>  1102</td>\n",
        "    </tr>\n",
        "    <tr>\n",
        "      <th>10</th>\n",
        "      <td> VIE</td>\n",
        "      <td> FCO</td>\n",
        "      <td>  1:28</td>\n",
        "      <td>   780</td>\n",
        "    </tr>\n",
        "    <tr>\n",
        "      <th>11</th>\n",
        "      <td> LIS</td>\n",
        "      <td> AMM</td>\n",
        "      <td>  5:39</td>\n",
        "      <td>  4138</td>\n",
        "    </tr>\n",
        "    <tr>\n",
        "      <th>12</th>\n",
        "      <td> LIS</td>\n",
        "      <td> BER</td>\n",
        "      <td>  3:22</td>\n",
        "      <td>  2307</td>\n",
        "    </tr>\n",
        "    <tr>\n",
        "      <th>13</th>\n",
        "      <td> LIS</td>\n",
        "      <td> WAW</td>\n",
        "      <td>  3:55</td>\n",
        "      <td>  2754</td>\n",
        "    </tr>\n",
        "    <tr>\n",
        "      <th>14</th>\n",
        "      <td> PEK</td>\n",
        "      <td> SVO</td>\n",
        "      <td>  7:43</td>\n",
        "      <td>  5811</td>\n",
        "    </tr>\n",
        "    <tr>\n",
        "      <th>15</th>\n",
        "      <td> BRN</td>\n",
        "      <td> HUU</td>\n",
        "      <td> 13:20</td>\n",
        "      <td> 10331</td>\n",
        "    </tr>\n",
        "  </tbody>\n",
        "</table>\n",
        "</div>"
       ],
       "metadata": {},
       "output_type": "pyout",
       "prompt_number": 8,
       "text": [
        "   origin destination   time  distance\n",
        "0     VIE         LHR   2:30      1100\n",
        "1     VIE         JFK   8:59      6823\n",
        "2     JFK         ZCL   4:39      3346\n",
        "3     SFO         JFK   5:30      4162\n",
        "4     PEK         ZRH  10:55      7993\n",
        "5     HNL         YOW  10:08      7758\n",
        "6     VIE         BER   1:09       676\n",
        "7     CDG         TIP   3:01      2019\n",
        "8     CDG         ATZ   4:47      3453\n",
        "9     CDG         FCO   1:52      1102\n",
        "10    VIE         FCO   1:28       780\n",
        "11    LIS         AMM   5:39      4138\n",
        "12    LIS         BER   3:22      2307\n",
        "13    LIS         WAW   3:55      2754\n",
        "14    PEK         SVO   7:43      5811\n",
        "15    BRN         HUU  13:20     10331"
       ]
      }
     ],
     "prompt_number": 8
    },
    {
     "cell_type": "markdown",
     "metadata": {},
     "source": [
      "Die `time` Spalte wird nun explizit in Stunden konvertiert und als neue Spalte `time2` gef\u00fchrt."
     ]
    },
    {
     "cell_type": "code",
     "collapsed": false,
     "input": [
      "def hm_time(entry):\n",
      "    h, m = entry.split(\":\")\n",
      "    return int(h) + int(m) / 60.\n",
      "flighttimes[\"time2\"] = flighttimes.time.apply(hm_time)\n",
      "flighttimes"
     ],
     "language": "python",
     "metadata": {},
     "outputs": [
      {
       "html": [
        "<div style=\"max-height:1000px;max-width:1500px;overflow:auto;\">\n",
        "<table border=\"1\" class=\"dataframe\">\n",
        "  <thead>\n",
        "    <tr style=\"text-align: right;\">\n",
        "      <th></th>\n",
        "      <th>origin</th>\n",
        "      <th>destination</th>\n",
        "      <th>time</th>\n",
        "      <th>distance</th>\n",
        "      <th>time2</th>\n",
        "    </tr>\n",
        "  </thead>\n",
        "  <tbody>\n",
        "    <tr>\n",
        "      <th>0 </th>\n",
        "      <td> VIE</td>\n",
        "      <td> LHR</td>\n",
        "      <td>  2:30</td>\n",
        "      <td>  1100</td>\n",
        "      <td>  2.500000</td>\n",
        "    </tr>\n",
        "    <tr>\n",
        "      <th>1 </th>\n",
        "      <td> VIE</td>\n",
        "      <td> JFK</td>\n",
        "      <td>  8:59</td>\n",
        "      <td>  6823</td>\n",
        "      <td>  8.983333</td>\n",
        "    </tr>\n",
        "    <tr>\n",
        "      <th>2 </th>\n",
        "      <td> JFK</td>\n",
        "      <td> ZCL</td>\n",
        "      <td>  4:39</td>\n",
        "      <td>  3346</td>\n",
        "      <td>  4.650000</td>\n",
        "    </tr>\n",
        "    <tr>\n",
        "      <th>3 </th>\n",
        "      <td> SFO</td>\n",
        "      <td> JFK</td>\n",
        "      <td>  5:30</td>\n",
        "      <td>  4162</td>\n",
        "      <td>  5.500000</td>\n",
        "    </tr>\n",
        "    <tr>\n",
        "      <th>4 </th>\n",
        "      <td> PEK</td>\n",
        "      <td> ZRH</td>\n",
        "      <td> 10:55</td>\n",
        "      <td>  7993</td>\n",
        "      <td> 10.916667</td>\n",
        "    </tr>\n",
        "    <tr>\n",
        "      <th>5 </th>\n",
        "      <td> HNL</td>\n",
        "      <td> YOW</td>\n",
        "      <td> 10:08</td>\n",
        "      <td>  7758</td>\n",
        "      <td> 10.133333</td>\n",
        "    </tr>\n",
        "    <tr>\n",
        "      <th>6 </th>\n",
        "      <td> VIE</td>\n",
        "      <td> BER</td>\n",
        "      <td>  1:09</td>\n",
        "      <td>   676</td>\n",
        "      <td>  1.150000</td>\n",
        "    </tr>\n",
        "    <tr>\n",
        "      <th>7 </th>\n",
        "      <td> CDG</td>\n",
        "      <td> TIP</td>\n",
        "      <td>  3:01</td>\n",
        "      <td>  2019</td>\n",
        "      <td>  3.016667</td>\n",
        "    </tr>\n",
        "    <tr>\n",
        "      <th>8 </th>\n",
        "      <td> CDG</td>\n",
        "      <td> ATZ</td>\n",
        "      <td>  4:47</td>\n",
        "      <td>  3453</td>\n",
        "      <td>  4.783333</td>\n",
        "    </tr>\n",
        "    <tr>\n",
        "      <th>9 </th>\n",
        "      <td> CDG</td>\n",
        "      <td> FCO</td>\n",
        "      <td>  1:52</td>\n",
        "      <td>  1102</td>\n",
        "      <td>  1.866667</td>\n",
        "    </tr>\n",
        "    <tr>\n",
        "      <th>10</th>\n",
        "      <td> VIE</td>\n",
        "      <td> FCO</td>\n",
        "      <td>  1:28</td>\n",
        "      <td>   780</td>\n",
        "      <td>  1.466667</td>\n",
        "    </tr>\n",
        "    <tr>\n",
        "      <th>11</th>\n",
        "      <td> LIS</td>\n",
        "      <td> AMM</td>\n",
        "      <td>  5:39</td>\n",
        "      <td>  4138</td>\n",
        "      <td>  5.650000</td>\n",
        "    </tr>\n",
        "    <tr>\n",
        "      <th>12</th>\n",
        "      <td> LIS</td>\n",
        "      <td> BER</td>\n",
        "      <td>  3:22</td>\n",
        "      <td>  2307</td>\n",
        "      <td>  3.366667</td>\n",
        "    </tr>\n",
        "    <tr>\n",
        "      <th>13</th>\n",
        "      <td> LIS</td>\n",
        "      <td> WAW</td>\n",
        "      <td>  3:55</td>\n",
        "      <td>  2754</td>\n",
        "      <td>  3.916667</td>\n",
        "    </tr>\n",
        "    <tr>\n",
        "      <th>14</th>\n",
        "      <td> PEK</td>\n",
        "      <td> SVO</td>\n",
        "      <td>  7:43</td>\n",
        "      <td>  5811</td>\n",
        "      <td>  7.716667</td>\n",
        "    </tr>\n",
        "    <tr>\n",
        "      <th>15</th>\n",
        "      <td> BRN</td>\n",
        "      <td> HUU</td>\n",
        "      <td> 13:20</td>\n",
        "      <td> 10331</td>\n",
        "      <td> 13.333333</td>\n",
        "    </tr>\n",
        "  </tbody>\n",
        "</table>\n",
        "</div>"
       ],
       "metadata": {},
       "output_type": "pyout",
       "prompt_number": 9,
       "text": [
        "   origin destination   time  distance      time2\n",
        "0     VIE         LHR   2:30      1100   2.500000\n",
        "1     VIE         JFK   8:59      6823   8.983333\n",
        "2     JFK         ZCL   4:39      3346   4.650000\n",
        "3     SFO         JFK   5:30      4162   5.500000\n",
        "4     PEK         ZRH  10:55      7993  10.916667\n",
        "5     HNL         YOW  10:08      7758  10.133333\n",
        "6     VIE         BER   1:09       676   1.150000\n",
        "7     CDG         TIP   3:01      2019   3.016667\n",
        "8     CDG         ATZ   4:47      3453   4.783333\n",
        "9     CDG         FCO   1:52      1102   1.866667\n",
        "10    VIE         FCO   1:28       780   1.466667\n",
        "11    LIS         AMM   5:39      4138   5.650000\n",
        "12    LIS         BER   3:22      2307   3.366667\n",
        "13    LIS         WAW   3:55      2754   3.916667\n",
        "14    PEK         SVO   7:43      5811   7.716667\n",
        "15    BRN         HUU  13:20     10331  13.333333"
       ]
      }
     ],
     "prompt_number": 9
    },
    {
     "cell_type": "code",
     "collapsed": false,
     "input": [
      "# maximum overall distance\n",
      "flighttimes.ix[flighttimes.distance.argmax()]"
     ],
     "language": "python",
     "metadata": {},
     "outputs": [
      {
       "metadata": {},
       "output_type": "pyout",
       "prompt_number": 10,
       "text": [
        "origin              BRN\n",
        "destination         HUU\n",
        "time              13:20\n",
        "distance          10331\n",
        "time2          13.33333\n",
        "Name: 15, dtype: object"
       ]
      }
     ],
     "prompt_number": 10
    },
    {
     "cell_type": "code",
     "collapsed": false,
     "input": [
      "# maximum distance, for each origin\n",
      "for group, subdf in flighttimes.groupby(\"origin\"):\n",
      "    m = flighttimes.ix[subdf.distance.argmax()]\n",
      "    print(\"Maximum distance from %s: %5d km to %s\" % (group, m.distance, m.destination))"
     ],
     "language": "python",
     "metadata": {},
     "outputs": [
      {
       "output_type": "stream",
       "stream": "stdout",
       "text": [
        "Maximum distance from BRN: 10331 km to HUU\n",
        "Maximum distance from CDG:  3453 km to ATZ\n",
        "Maximum distance from HNL:  7758 km to YOW\n",
        "Maximum distance from JFK:  3346 km to ZCL\n",
        "Maximum distance from LIS:  4138 km to AMM\n",
        "Maximum distance from PEK:  7993 km to ZRH\n",
        "Maximum distance from SFO:  4162 km to JFK\n",
        "Maximum distance from VIE:  6823 km to JFK\n"
       ]
      }
     ],
     "prompt_number": 11
    },
    {
     "cell_type": "markdown",
     "metadata": {},
     "source": [
      "Zur Auflockerung eine grafische Darstellung der Weg-Zeit Abh\u00e4ngigkeit.\n",
      "Wenig \u00dcberraschend, es ist direkt proportional!"
     ]
    },
    {
     "cell_type": "code",
     "collapsed": false,
     "input": [
      "%matplotlib inline\n",
      "import matplotlib\n",
      "matplotlib.rcParams[\"figure.figsize\"] = (12,7)"
     ],
     "language": "python",
     "metadata": {},
     "outputs": [],
     "prompt_number": 41
    },
    {
     "cell_type": "code",
     "collapsed": false,
     "input": [
      "# plot of distance vs. converted time in hours. easy for pandas dataframes!\n",
      "flighttimes.plot(x = \"distance\", y = \"time2\", kind=\"scatter\", ylim=0, xlim=0)"
     ],
     "language": "python",
     "metadata": {},
     "outputs": [
      {
       "metadata": {},
       "output_type": "pyout",
       "prompt_number": 42,
       "text": [
        "<matplotlib.axes._subplots.AxesSubplot at 0x3d7e590>"
       ]
      },
      {
       "metadata": {},
       "output_type": "display_data",
       "png": "[encoded data removed]",
       "text": [
        "<matplotlib.figure.Figure at 0x3d99290>"
       ]
      }
     ],
     "prompt_number": 42
    },
    {
     "cell_type": "markdown",
     "metadata": {},
     "source": [
      "## Datenbank (SQLite)\n",
      "\n",
      "F\u00fcr gr\u00f6\u00dfere Datenmengen bzw. im professionellen/wissenschaftlichen Umfeld werden Datenbanken eingesetzt.\n",
      "Die Daten werden in einem f\u00fcr die Datenbank spezifische Art gespeichert\n",
      "(sind also nicht wie CSV Dateien von beliebigen Programmen lesbar),\n",
      "beinhalten aber zus\u00e4tzlich Informationen zu den Typen jeder Spalte.\n",
      "Datenbanken bieten eingebaute Hilfsmittel wie Suchindizes und eine Abfragesprache,\n",
      "es k\u00f6nnen mehrere Tabellen auf verschiedenste Arten verkn\u00fcpft werden,\n",
      "und die Verarbeitungsgeschwindigkeit ist viel h\u00f6her.\n",
      "\n",
      "Eingebaut in Python ist [`sqlite3`](https://docs.python.org/2/library/sqlite3.html).\n",
      "\n",
      "Das folgende Beispiel speichert die Daten der CSV Datei in einer sqlite3 Datenbank und macht eine Abfrage."
     ]
    },
    {
     "cell_type": "markdown",
     "metadata": {},
     "source": [
      "1. Erstellen: l\u00f6sche die gegebenenfalls existierende Datenbankdatei und bef\u00fclle sie dann."
     ]
    },
    {
     "cell_type": "code",
     "collapsed": false,
     "input": [
      "db_filename = join(\"res\", \"flugzeit.db\")\n",
      "\n",
      "import os\n",
      "if os.path.exists(db_filename):\n",
      "    os.unlink(db_filename)"
     ],
     "language": "python",
     "metadata": {},
     "outputs": [],
     "prompt_number": 13
    },
    {
     "cell_type": "code",
     "collapsed": false,
     "input": [
      "import sqlite3\n",
      "conn = sqlite3.connect(db_filename)"
     ],
     "language": "python",
     "metadata": {},
     "outputs": [],
     "prompt_number": 14
    },
    {
     "cell_type": "code",
     "collapsed": false,
     "input": [
      "# for the connection `conn`, get a cursor and operate on the table\n",
      "curs = conn.cursor"
     ],
     "language": "python",
     "metadata": {},
     "outputs": [],
     "prompt_number": 15
    },
    {
     "cell_type": "code",
     "collapsed": false,
     "input": [
      "curs = conn.cursor()\n",
      "curs.execute('''\n",
      "             CREATE TABLE flugzeit\n",
      "             (origin text, destination text, distance real, time real)\n",
      "             ''')"
     ],
     "language": "python",
     "metadata": {},
     "outputs": [
      {
       "metadata": {},
       "output_type": "pyout",
       "prompt_number": 16,
       "text": [
        "<sqlite3.Cursor at 0x3843960>"
       ]
      }
     ],
     "prompt_number": 16
    },
    {
     "cell_type": "code",
     "collapsed": false,
     "input": [
      "for idx, (orig, dest, _, dist, time2) in flighttimes.iterrows():\n",
      "    curs.execute(\"INSERT INTO flugzeit VALUES(?, ?, ?, ?)\", (orig, dest, dist, time2))"
     ],
     "language": "python",
     "metadata": {},
     "outputs": [],
     "prompt_number": 17
    },
    {
     "cell_type": "code",
     "collapsed": false,
     "input": [
      "\"{:>7}\".format(\"asdf\")"
     ],
     "language": "python",
     "metadata": {},
     "outputs": [
      {
       "metadata": {},
       "output_type": "pyout",
       "prompt_number": 18,
       "text": [
        "'   asdf'"
       ]
      }
     ],
     "prompt_number": 18
    },
    {
     "cell_type": "code",
     "collapsed": false,
     "input": [
      "# Hilfsfunktion: gibt die Abfrage Zeilenweise aus\n",
      "def show_query(query):\n",
      "    for row in query:\n",
      "        out = []\n",
      "        for entry in row:\n",
      "            if isinstance(entry, float): out.append(\"{:>9.2f}\".format(entry))\n",
      "            elif isinstance(entry, int): out.append(\"{:>9d}\".format(entry))\n",
      "            else: out.append(\"{:>7s}\".format(entry))\n",
      "        print(\" \".join(out))\n",
      "                "
     ],
     "language": "python",
     "metadata": {},
     "outputs": [],
     "prompt_number": 19
    },
    {
     "cell_type": "code",
     "collapsed": false,
     "input": [
      "show_query(curs.execute(\"SELECT * FROM flugzeit\"))"
     ],
     "language": "python",
     "metadata": {},
     "outputs": [
      {
       "output_type": "stream",
       "stream": "stdout",
       "text": [
        "    VIE     LHR   1100.00      2.50\n",
        "    VIE     JFK   6823.00      8.98\n",
        "    JFK     ZCL   3346.00      4.65\n",
        "    SFO     JFK   4162.00      5.50\n",
        "    PEK     ZRH   7993.00     10.92\n",
        "    HNL     YOW   7758.00     10.13\n",
        "    VIE     BER    676.00      1.15\n",
        "    CDG     TIP   2019.00      3.02\n",
        "    CDG     ATZ   3453.00      4.78\n",
        "    CDG     FCO   1102.00      1.87\n",
        "    VIE     FCO    780.00      1.47\n",
        "    LIS     AMM   4138.00      5.65\n",
        "    LIS     BER   2307.00      3.37\n",
        "    LIS     WAW   2754.00      3.92\n",
        "    PEK     SVO   5811.00      7.72\n",
        "    BRN     HUU  10331.00     13.33\n"
       ]
      }
     ],
     "prompt_number": 20
    },
    {
     "cell_type": "code",
     "collapsed": false,
     "input": [
      "# sort by decreasing distance\n",
      "show_query(curs.execute(\"SELECT * FROM flugzeit ORDER BY -distance\"))"
     ],
     "language": "python",
     "metadata": {},
     "outputs": [
      {
       "output_type": "stream",
       "stream": "stdout",
       "text": [
        "    BRN     HUU  10331.00     13.33\n",
        "    PEK     ZRH   7993.00     10.92\n",
        "    HNL     YOW   7758.00     10.13\n",
        "    VIE     JFK   6823.00      8.98\n",
        "    PEK     SVO   5811.00      7.72\n",
        "    SFO     JFK   4162.00      5.50\n",
        "    LIS     AMM   4138.00      5.65\n",
        "    CDG     ATZ   3453.00      4.78\n",
        "    JFK     ZCL   3346.00      4.65\n",
        "    LIS     WAW   2754.00      3.92\n",
        "    LIS     BER   2307.00      3.37\n",
        "    CDG     TIP   2019.00      3.02\n",
        "    CDG     FCO   1102.00      1.87\n",
        "    VIE     LHR   1100.00      2.50\n",
        "    VIE     FCO    780.00      1.47\n",
        "    VIE     BER    676.00      1.15\n"
       ]
      }
     ],
     "prompt_number": 21
    },
    {
     "cell_type": "code",
     "collapsed": false,
     "input": [
      "# minimum time from each origin\n",
      "show_query(curs.execute(\"\"\"\n",
      "             SELECT origin, destination, min(time)\n",
      "             FROM flugzeit\n",
      "             GROUP BY origin\n",
      "             \"\"\"))"
     ],
     "language": "python",
     "metadata": {},
     "outputs": [
      {
       "output_type": "stream",
       "stream": "stdout",
       "text": [
        "    BRN     HUU     13.33\n",
        "    CDG     FCO      1.87\n",
        "    HNL     YOW     10.13\n",
        "    JFK     ZCL      4.65\n",
        "    LIS     WAW      3.37\n",
        "    PEK     SVO      7.72\n",
        "    SFO     JFK      5.50\n",
        "    VIE     FCO      1.15\n"
       ]
      }
     ],
     "prompt_number": 22
    },
    {
     "cell_type": "code",
     "collapsed": false,
     "input": [
      "# maximum distance from LIS\n",
      "curs.execute(\"\"\"\n",
      "             SELECT * \n",
      "             FROM flugzeit\n",
      "             WHERE origin = 'LIS' AND\n",
      "                   distance = (SELECT max(distance) FROM flugzeit WHERE origin = 'LIS')\n",
      "             \"\"\").fetchone()"
     ],
     "language": "python",
     "metadata": {},
     "outputs": [
      {
       "metadata": {},
       "output_type": "pyout",
       "prompt_number": 23,
       "text": [
        "(u'LIS', u'AMM', 4138.0, 5.65)"
       ]
      }
     ],
     "prompt_number": 23
    },
    {
     "cell_type": "markdown",
     "metadata": {},
     "source": [
      "## JSON\n",
      "\n",
      "[JSON](http://www.json.org) ist eine der modernen und am weitesten verbreiteten Serialisierungssprachen.\n",
      "Es handelt sich um eine von [JavaScript](http://en.wikipedia.org/wiki/JavaScript) abgeleiteten Datenstruktur,\n",
      "welche nicht nur von vielen Programmiersprachen verstanden wird,\n",
      "sondern auch auf einfache Art komplex verschachtelte Datenstrukturen speichern kann.\n",
      "JSON (und \u00e4hnliche Serialisierungsformate) sind als einzelner gro\u00dfer String zu verstehen,\n",
      "welche mit mehreren Syntaxzeichen (eckige Klammer, geschwungene Klammer, Doppelpunkt, ...) die Struktur definieren.\n",
      "\n",
      "Python liefert hierf\u00fcr das [json](https://docs.python.org/2/library/json.html) ([json in python 3](https://docs.python.org/3/library/json.html)) mit.\n",
      "\n",
      "Wir bleiben bei dem Beispiel der Flugdistanzen und Konvertieren die Pandas Daten zu JSON -- in diesem Fall als Liste von assoziativen Dictionaries."
     ]
    },
    {
     "cell_type": "code",
     "collapsed": false,
     "input": [
      "flighttimes_py = []\n",
      "for _, data in flighttimes.iterrows():\n",
      "    entry = {\"orig\" : data.origin,\n",
      "             \"dest\" : data.destination,\n",
      "             \"dist\" : data.distance, \n",
      "             \"hours\": data.time2 }\n",
      "    flighttimes_py.append(entry)"
     ],
     "language": "python",
     "metadata": {},
     "outputs": [],
     "prompt_number": 24
    },
    {
     "cell_type": "markdown",
     "metadata": {},
     "source": [
      "Konvertierung der Python Datenstruktur (welche schon so gut wie JSON ist!) zu JSON.\n",
      "`indent=2` ist nicht notwendig, liefert aber die h\u00fcbsche Einr\u00fcckung."
     ]
    },
    {
     "cell_type": "code",
     "collapsed": false,
     "input": [
      "import json\n",
      "flighttimes_json = json.dumps(flighttimes_py, indent=2)\n",
      "print(flighttimes_json)"
     ],
     "language": "python",
     "metadata": {},
     "outputs": [
      {
       "output_type": "stream",
       "stream": "stdout",
       "text": [
        "[\n",
        "  {\n",
        "    \"dest\": \"LHR\", \n",
        "    \"hours\": 2.5, \n",
        "    \"dist\": 1100, \n",
        "    \"orig\": \"VIE\"\n",
        "  }, \n",
        "  {\n",
        "    \"dest\": \"JFK\", \n",
        "    \"hours\": 8.983333333333333, \n",
        "    \"dist\": 6823, \n",
        "    \"orig\": \"VIE\"\n",
        "  }, \n",
        "  {\n",
        "    \"dest\": \"ZCL\", \n",
        "    \"hours\": 4.65, \n",
        "    \"dist\": 3346, \n",
        "    \"orig\": \"JFK\"\n",
        "  }, \n",
        "  {\n",
        "    \"dest\": \"JFK\", \n",
        "    \"hours\": 5.5, \n",
        "    \"dist\": 4162, \n",
        "    \"orig\": \"SFO\"\n",
        "  }, \n",
        "  {\n",
        "    \"dest\": \"ZRH\", \n",
        "    \"hours\": 10.916666666666666, \n",
        "    \"dist\": 7993, \n",
        "    \"orig\": \"PEK\"\n",
        "  }, \n",
        "  {\n",
        "    \"dest\": \"YOW\", \n",
        "    \"hours\": 10.133333333333333, \n",
        "    \"dist\": 7758, \n",
        "    \"orig\": \"HNL\"\n",
        "  }, \n",
        "  {\n",
        "    \"dest\": \"BER\", \n",
        "    \"hours\": 1.15, \n",
        "    \"dist\": 676, \n",
        "    \"orig\": \"VIE\"\n",
        "  }, \n",
        "  {\n",
        "    \"dest\": \"TIP\", \n",
        "    \"hours\": 3.0166666666666666, \n",
        "    \"dist\": 2019, \n",
        "    \"orig\": \"CDG\"\n",
        "  }, \n",
        "  {\n",
        "    \"dest\": \"ATZ\", \n",
        "    \"hours\": 4.783333333333333, \n",
        "    \"dist\": 3453, \n",
        "    \"orig\": \"CDG\"\n",
        "  }, \n",
        "  {\n",
        "    \"dest\": \"FCO\", \n",
        "    \"hours\": 1.8666666666666667, \n",
        "    \"dist\": 1102, \n",
        "    \"orig\": \"CDG\"\n",
        "  }, \n",
        "  {\n",
        "    \"dest\": \"FCO\", \n",
        "    \"hours\": 1.4666666666666668, \n",
        "    \"dist\": 780, \n",
        "    \"orig\": \"VIE\"\n",
        "  }, \n",
        "  {\n",
        "    \"dest\": \"AMM\", \n",
        "    \"hours\": 5.65, \n",
        "    \"dist\": 4138, \n",
        "    \"orig\": \"LIS\"\n",
        "  }, \n",
        "  {\n",
        "    \"dest\": \"BER\", \n",
        "    \"hours\": 3.3666666666666667, \n",
        "    \"dist\": 2307, \n",
        "    \"orig\": \"LIS\"\n",
        "  }, \n",
        "  {\n",
        "    \"dest\": \"WAW\", \n",
        "    \"hours\": 3.9166666666666665, \n",
        "    \"dist\": 2754, \n",
        "    \"orig\": \"LIS\"\n",
        "  }, \n",
        "  {\n",
        "    \"dest\": \"SVO\", \n",
        "    \"hours\": 7.716666666666667, \n",
        "    \"dist\": 5811, \n",
        "    \"orig\": \"PEK\"\n",
        "  }, \n",
        "  {\n",
        "    \"dest\": \"HUU\", \n",
        "    \"hours\": 13.333333333333334, \n",
        "    \"dist\": 10331, \n",
        "    \"orig\": \"BRN\"\n",
        "  }\n",
        "]\n"
       ]
      }
     ],
     "prompt_number": 25
    },
    {
     "cell_type": "markdown",
     "metadata": {},
     "source": [
      "`loads` l\u00e4d diese Datenstruktur aus der Zeichenkette:"
     ]
    },
    {
     "cell_type": "code",
     "collapsed": false,
     "input": [
      "flightimes_py2 = json.loads(flighttimes_json)\n",
      "print(flightimes_py2[1])"
     ],
     "language": "python",
     "metadata": {},
     "outputs": [
      {
       "output_type": "stream",
       "stream": "stdout",
       "text": [
        "{u'dest': u'JFK', u'hours': 8.983333333333333, u'dist': 6823, u'orig': u'VIE'}\n"
       ]
      }
     ],
     "prompt_number": 26
    },
    {
     "cell_type": "markdown",
     "metadata": {},
     "source": [
      "## YAML\n",
      "\n",
      "[YAML](http://www.yaml.org/) ist \u00e4hnlich wie JSON ein textbasiertes, programmiersprachenunabh\u00e4ngiges Format zur strukturierten Speicherung von Daten.\n",
      "Im Vergleich zu JSON hat es einige zus\u00e4tzliche Funktionen und ist f\u00fcr den Menschen besser lesbar.\n",
      "\n",
      "Im folgenden wird die externe Bibliothek [pyyaml](https://bitbucket.org/xi/pyyaml) verwendet,\n",
      "um ganz analog zu JSON die Daten zuerst als String zu kodieren und dann wieder zur\u00fcck zu lesen."
     ]
    },
    {
     "cell_type": "code",
     "collapsed": false,
     "input": [
      "import yaml\n",
      "flightimes_yaml = yaml.dump(flighttimes_py, default_flow_style=False, indent=2)\n",
      "print(flightimes_yaml)"
     ],
     "language": "python",
     "metadata": {},
     "outputs": [
      {
       "output_type": "stream",
       "stream": "stdout",
       "text": [
        "- dest: LHR\n",
        "  dist: 1100\n",
        "  hours: 2.5\n",
        "  orig: VIE\n",
        "- dest: JFK\n",
        "  dist: 6823\n",
        "  hours: 8.983333333333333\n",
        "  orig: VIE\n",
        "- dest: ZCL\n",
        "  dist: 3346\n",
        "  hours: 4.65\n",
        "  orig: JFK\n",
        "- dest: JFK\n",
        "  dist: 4162\n",
        "  hours: 5.5\n",
        "  orig: SFO\n",
        "- dest: ZRH\n",
        "  dist: 7993\n",
        "  hours: 10.916666666666666\n",
        "  orig: PEK\n",
        "- dest: YOW\n",
        "  dist: 7758\n",
        "  hours: 10.133333333333333\n",
        "  orig: HNL\n",
        "- dest: BER\n",
        "  dist: 676\n",
        "  hours: 1.15\n",
        "  orig: VIE\n",
        "- dest: TIP\n",
        "  dist: 2019\n",
        "  hours: 3.0166666666666666\n",
        "  orig: CDG\n",
        "- dest: ATZ\n",
        "  dist: 3453\n",
        "  hours: 4.783333333333333\n",
        "  orig: CDG\n",
        "- dest: FCO\n",
        "  dist: 1102\n",
        "  hours: 1.8666666666666667\n",
        "  orig: CDG\n",
        "- dest: FCO\n",
        "  dist: 780\n",
        "  hours: 1.4666666666666668\n",
        "  orig: VIE\n",
        "- dest: AMM\n",
        "  dist: 4138\n",
        "  hours: 5.65\n",
        "  orig: LIS\n",
        "- dest: BER\n",
        "  dist: 2307\n",
        "  hours: 3.3666666666666667\n",
        "  orig: LIS\n",
        "- dest: WAW\n",
        "  dist: 2754\n",
        "  hours: 3.9166666666666665\n",
        "  orig: LIS\n",
        "- dest: SVO\n",
        "  dist: 5811\n",
        "  hours: 7.716666666666667\n",
        "  orig: PEK\n",
        "- dest: HUU\n",
        "  dist: 10331\n",
        "  hours: 13.333333333333334\n",
        "  orig: BRN\n",
        "\n"
       ]
      }
     ],
     "prompt_number": 27
    },
    {
     "cell_type": "markdown",
     "metadata": {},
     "source": [
      "Im Gegensatz zu JSON, gibt es keine geschwungenen Klammern und sonstige besondere Auszeichnungen.\n",
      "Der Bindestrich signalisiert einen neuen Eintrag und die mit Doppelpunkt getrennte Assoziation ist eine kompaktere Darstellung.\n",
      "\n",
      "Mit wenigen Parameter\u00e4nderungen gibt es aber auch ausgaben, die bis auf kleine Zeichenkodierungsunterschiede wie JSON sind.\n",
      "Daher ist YAML eine \u00dcbermenge von JSON."
     ]
    },
    {
     "cell_type": "code",
     "collapsed": false,
     "input": [
      "flightimes_yaml2 = yaml.dump(flighttimes_py, default_flow_style=True, indent=0)\n",
      "print(flightimes_yaml2)"
     ],
     "language": "python",
     "metadata": {},
     "outputs": [
      {
       "output_type": "stream",
       "stream": "stdout",
       "text": [
        "[{dest: LHR, dist: 1100, hours: 2.5, orig: VIE}, {dest: JFK, dist: 6823, hours: 8.983333333333333,\n",
        "    orig: VIE}, {dest: ZCL, dist: 3346, hours: 4.65, orig: JFK}, {dest: JFK, dist: 4162,\n",
        "    hours: 5.5, orig: SFO}, {dest: ZRH, dist: 7993, hours: 10.916666666666666, orig: PEK},\n",
        "  {dest: YOW, dist: 7758, hours: 10.133333333333333, orig: HNL}, {dest: BER, dist: 676,\n",
        "    hours: 1.15, orig: VIE}, {dest: TIP, dist: 2019, hours: 3.0166666666666666, orig: CDG},\n",
        "  {dest: ATZ, dist: 3453, hours: 4.783333333333333, orig: CDG}, {dest: FCO, dist: 1102,\n",
        "    hours: 1.8666666666666667, orig: CDG}, {dest: FCO, dist: 780, hours: 1.4666666666666668,\n",
        "    orig: VIE}, {dest: AMM, dist: 4138, hours: 5.65, orig: LIS}, {dest: BER, dist: 2307,\n",
        "    hours: 3.3666666666666667, orig: LIS}, {dest: WAW, dist: 2754, hours: 3.9166666666666665,\n",
        "    orig: LIS}, {dest: SVO, dist: 5811, hours: 7.716666666666667, orig: PEK}, {dest: HUU,\n",
        "    dist: 10331, hours: 13.333333333333334, orig: BRN}]\n",
        "\n"
       ]
      }
     ],
     "prompt_number": 28
    },
    {
     "cell_type": "code",
     "collapsed": false,
     "input": [
      "flightimes_yaml3 = yaml.dump(flighttimes_py, default_flow_style=None, indent=0)\n",
      "print(flightimes_yaml3)"
     ],
     "language": "python",
     "metadata": {},
     "outputs": [
      {
       "output_type": "stream",
       "stream": "stdout",
       "text": [
        "- {dest: LHR, dist: 1100, hours: 2.5, orig: VIE}\n",
        "- {dest: JFK, dist: 6823, hours: 8.983333333333333, orig: VIE}\n",
        "- {dest: ZCL, dist: 3346, hours: 4.65, orig: JFK}\n",
        "- {dest: JFK, dist: 4162, hours: 5.5, orig: SFO}\n",
        "- {dest: ZRH, dist: 7993, hours: 10.916666666666666, orig: PEK}\n",
        "- {dest: YOW, dist: 7758, hours: 10.133333333333333, orig: HNL}\n",
        "- {dest: BER, dist: 676, hours: 1.15, orig: VIE}\n",
        "- {dest: TIP, dist: 2019, hours: 3.0166666666666666, orig: CDG}\n",
        "- {dest: ATZ, dist: 3453, hours: 4.783333333333333, orig: CDG}\n",
        "- {dest: FCO, dist: 1102, hours: 1.8666666666666667, orig: CDG}\n",
        "- {dest: FCO, dist: 780, hours: 1.4666666666666668, orig: VIE}\n",
        "- {dest: AMM, dist: 4138, hours: 5.65, orig: LIS}\n",
        "- {dest: BER, dist: 2307, hours: 3.3666666666666667, orig: LIS}\n",
        "- {dest: WAW, dist: 2754, hours: 3.9166666666666665, orig: LIS}\n",
        "- {dest: SVO, dist: 5811, hours: 7.716666666666667, orig: PEK}\n",
        "- {dest: HUU, dist: 10331, hours: 13.333333333333334, orig: BRN}\n",
        "\n"
       ]
      }
     ],
     "prompt_number": 29
    },
    {
     "cell_type": "markdown",
     "metadata": {},
     "source": [
      "Zur\u00fccklesen des YAML Datensatzes in ein Python Objekt:"
     ]
    },
    {
     "cell_type": "code",
     "collapsed": false,
     "input": [
      "flightimes_py3 = yaml.load(flightimes_yaml)\n",
      "print(flightimes_py3[1])"
     ],
     "language": "python",
     "metadata": {},
     "outputs": [
      {
       "output_type": "stream",
       "stream": "stdout",
       "text": [
        "{'dest': 'JFK', 'hours': 8.983333333333333, 'dist': 6823, 'orig': 'VIE'}\n"
       ]
      }
     ],
     "prompt_number": 30
    },
    {
     "cell_type": "markdown",
     "metadata": {},
     "source": [
      "## XML\n",
      "\n",
      "Ein sehr altes, ebenfalls programmiersprachenunabh\u00e4ngiges und textbasiertes, Serialisierungsformat ist\n",
      "[XML](http://en.wikipedia.org/wiki/XML).\n",
      "Das dahinterstehende Konzept ist ein Baum, dessen Wurzelknoten das gesamte Dokument umfasst.\n",
      "Jeder Knoten kann Attribute und Kinderknoten haben.\n",
      "Zwischen den Kinderknoten k\u00f6nnen auch Textknoten stehen.\n",
      "\n",
      "Man trifft es nur noch selten an und wird am ehesten noch im Gesch\u00e4ftsumfeld verwendet.\n",
      "Das in Python eingebaute [`xml`](https://docs.python.org/2/library/xml.html) ([`xml` in python 3](https://docs.python.org/3/library/xml.html)) modul stellt beispielsweise \u00fcber das Submodul `minidom` und `etree` einfache Schnittstelle zum Verarbeiten von XML bereit.\n",
      "\n",
      "HTML ist \u00e4hnlich zu XML, und daher sind einige Bibliotheken zum automatisierten Verarbeiten von HTML auf basis von XML konstruiert."
     ]
    },
    {
     "cell_type": "code",
     "collapsed": false,
     "input": [
      "import xml.etree.ElementTree as ET\n",
      "\n",
      "# wurzelknoten\n",
      "flighttimes_xml = ET.Element(\"flighttimes\")\n",
      "\n",
      "for _, data in flighttimes.iterrows():\n",
      "    \n",
      "    ft_entry = ET.SubElement(flighttimes_xml, \"flighttime\")\n",
      "    ft_entry.set(\"orig\", data.origin)\n",
      "    ft_entry.set(\"dest\", data.destination)\n",
      "    \n",
      "    ft_distance = ET.SubElement(ft_entry, \"distance\")\n",
      "    ft_distance.set(\"unit\", \"km\")\n",
      "    ft_distance.text = str(data.distance)\n",
      "    \n",
      "    ft_hours = ET.SubElement(ft_entry, \"hours\")\n",
      "    ft_hours.set(\"unit\", \"hour\")\n",
      "    ft_hours.text = str(data.time2)"
     ],
     "language": "python",
     "metadata": {},
     "outputs": [],
     "prompt_number": 31
    },
    {
     "cell_type": "markdown",
     "metadata": {},
     "source": [
      "Zur sch\u00f6neren Formatierung, wird das Ergebnis von `ET.tostring` noch durch `minidom`'s `toprettyxml` geschickt."
     ]
    },
    {
     "cell_type": "code",
     "collapsed": false,
     "input": [
      "from xml.dom import minidom\n",
      "raw_xml = ET.tostring(flighttimes_xml, \"UTF-8\")\n",
      "flighttimes_xml_ser = minidom.parseString(raw_xml).toprettyxml(indent=\"  \")\n",
      "print(flighttimes_xml_ser)"
     ],
     "language": "python",
     "metadata": {},
     "outputs": [
      {
       "output_type": "stream",
       "stream": "stdout",
       "text": [
        "<?xml version=\"1.0\" ?>\n",
        "<flighttimes>\n",
        "  <flighttime dest=\"LHR\" orig=\"VIE\">\n",
        "    <distance unit=\"km\">1100</distance>\n",
        "    <hours unit=\"hour\">2.5</hours>\n",
        "  </flighttime>\n",
        "  <flighttime dest=\"JFK\" orig=\"VIE\">\n",
        "    <distance unit=\"km\">6823</distance>\n",
        "    <hours unit=\"hour\">8.98333333333</hours>\n",
        "  </flighttime>\n",
        "  <flighttime dest=\"ZCL\" orig=\"JFK\">\n",
        "    <distance unit=\"km\">3346</distance>\n",
        "    <hours unit=\"hour\">4.65</hours>\n",
        "  </flighttime>\n",
        "  <flighttime dest=\"JFK\" orig=\"SFO\">\n",
        "    <distance unit=\"km\">4162</distance>\n",
        "    <hours unit=\"hour\">5.5</hours>\n",
        "  </flighttime>\n",
        "  <flighttime dest=\"ZRH\" orig=\"PEK\">\n",
        "    <distance unit=\"km\">7993</distance>\n",
        "    <hours unit=\"hour\">10.9166666667</hours>\n",
        "  </flighttime>\n",
        "  <flighttime dest=\"YOW\" orig=\"HNL\">\n",
        "    <distance unit=\"km\">7758</distance>\n",
        "    <hours unit=\"hour\">10.1333333333</hours>\n",
        "  </flighttime>\n",
        "  <flighttime dest=\"BER\" orig=\"VIE\">\n",
        "    <distance unit=\"km\">676</distance>\n",
        "    <hours unit=\"hour\">1.15</hours>\n",
        "  </flighttime>\n",
        "  <flighttime dest=\"TIP\" orig=\"CDG\">\n",
        "    <distance unit=\"km\">2019</distance>\n",
        "    <hours unit=\"hour\">3.01666666667</hours>\n",
        "  </flighttime>\n",
        "  <flighttime dest=\"ATZ\" orig=\"CDG\">\n",
        "    <distance unit=\"km\">3453</distance>\n",
        "    <hours unit=\"hour\">4.78333333333</hours>\n",
        "  </flighttime>\n",
        "  <flighttime dest=\"FCO\" orig=\"CDG\">\n",
        "    <distance unit=\"km\">1102</distance>\n",
        "    <hours unit=\"hour\">1.86666666667</hours>\n",
        "  </flighttime>\n",
        "  <flighttime dest=\"FCO\" orig=\"VIE\">\n",
        "    <distance unit=\"km\">780</distance>\n",
        "    <hours unit=\"hour\">1.46666666667</hours>\n",
        "  </flighttime>\n",
        "  <flighttime dest=\"AMM\" orig=\"LIS\">\n",
        "    <distance unit=\"km\">4138</distance>\n",
        "    <hours unit=\"hour\">5.65</hours>\n",
        "  </flighttime>\n",
        "  <flighttime dest=\"BER\" orig=\"LIS\">\n",
        "    <distance unit=\"km\">2307</distance>\n",
        "    <hours unit=\"hour\">3.36666666667</hours>\n",
        "  </flighttime>\n",
        "  <flighttime dest=\"WAW\" orig=\"LIS\">\n",
        "    <distance unit=\"km\">2754</distance>\n",
        "    <hours unit=\"hour\">3.91666666667</hours>\n",
        "  </flighttime>\n",
        "  <flighttime dest=\"SVO\" orig=\"PEK\">\n",
        "    <distance unit=\"km\">5811</distance>\n",
        "    <hours unit=\"hour\">7.71666666667</hours>\n",
        "  </flighttime>\n",
        "  <flighttime dest=\"HUU\" orig=\"BRN\">\n",
        "    <distance unit=\"km\">10331</distance>\n",
        "    <hours unit=\"hour\">13.3333333333</hours>\n",
        "  </flighttime>\n",
        "</flighttimes>\n",
        "\n"
       ]
      }
     ],
     "prompt_number": 32
    },
    {
     "cell_type": "markdown",
     "metadata": {},
     "source": [
      "Zur\u00fccklesen, diesmal \u00fcber `minidom`:"
     ]
    },
    {
     "cell_type": "code",
     "collapsed": false,
     "input": [
      "flighttimes_dom = minidom.parseString(flighttimes_xml_ser)"
     ],
     "language": "python",
     "metadata": {},
     "outputs": [],
     "prompt_number": 33
    },
    {
     "cell_type": "code",
     "collapsed": false,
     "input": [
      "ft_dom_root = flighttimes_dom.firstChild\n",
      "ft_dom_node1 = ft_dom_root.childNodes[1]\n",
      "print(ft_dom_node1.toxml())"
     ],
     "language": "python",
     "metadata": {},
     "outputs": [
      {
       "output_type": "stream",
       "stream": "stdout",
       "text": [
        "<flighttime dest=\"LHR\" orig=\"VIE\">\n",
        "    <distance unit=\"km\">1100</distance>\n",
        "    <hours unit=\"hour\">2.5</hours>\n",
        "  </flighttime>\n"
       ]
      }
     ],
     "prompt_number": 34
    },
    {
     "cell_type": "code",
     "collapsed": false,
     "input": [
      "ft_dom_node1.getAttribute(\"orig\")"
     ],
     "language": "python",
     "metadata": {},
     "outputs": [
      {
       "metadata": {},
       "output_type": "pyout",
       "prompt_number": 35,
       "text": [
        "u'VIE'"
       ]
      }
     ],
     "prompt_number": 35
    },
    {
     "cell_type": "code",
     "collapsed": false,
     "input": [
      "ft_dom_node1.getAttribute(\"dest\")"
     ],
     "language": "python",
     "metadata": {},
     "outputs": [
      {
       "metadata": {},
       "output_type": "pyout",
       "prompt_number": 36,
       "text": [
        "u'LHR'"
       ]
      }
     ],
     "prompt_number": 36
    },
    {
     "cell_type": "markdown",
     "metadata": {},
     "source": [
      "Man beachte, dass hier weit mehr Aufwand get\u00e4tigt werden muss und es auch keinerlei Unterst\u00fctzung f\u00fcr Datentypen gibt.\n",
      "* `.getElementsByTagName` sucht anch allen Kindknoten mit dem angegebenen Namen -- es wird mittels `[0]` das aller erste genommen.\n",
      "* Von diesem Knoten aus, steigt man \u00fcber `.childNodes[0]` weiter den Baum hinab, um in dieser `TextNode` dann \u00fcber das `.data` Attribut endlich zu dem eigentlichen Wert zu gelangen."
     ]
    },
    {
     "cell_type": "code",
     "collapsed": false,
     "input": [
      "distance_node = ft_dom_node1.getElementsByTagName(\"distance\")[0]\n",
      "unit = distance_node.getAttribute(\"unit\")\n",
      "value = int(distance_node.childNodes[0].data)\n",
      "print(\"%d [%s]\" % (value, unit))"
     ],
     "language": "python",
     "metadata": {},
     "outputs": [
      {
       "output_type": "stream",
       "stream": "stdout",
       "text": [
        "1100 [km]\n"
       ]
      }
     ],
     "prompt_number": 37
    },
    {
     "cell_type": "code",
     "collapsed": false,
     "input": [
      "hours_node = ft_dom_node1.getElementsByTagName(\"hours\")[0]\n",
      "unit = hours_node.getAttribute(\"unit\")\n",
      "value = float(hours_node.childNodes[0].data)\n",
      "print(\"%f [%s]\" % (value, unit))"
     ],
     "language": "python",
     "metadata": {},
     "outputs": [
      {
       "output_type": "stream",
       "stream": "stdout",
       "text": [
        "2.500000 [hour]\n"
       ]
      }
     ],
     "prompt_number": 38
    },
    {
     "cell_type": "code",
     "collapsed": false,
     "input": [],
     "language": "python",
     "metadata": {},
     "outputs": [],
     "prompt_number": 38
    }
   ],
   "metadata": {}
  }
 ]
}
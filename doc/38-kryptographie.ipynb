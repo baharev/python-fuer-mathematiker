{
 "metadata": {
  "name": "",
  "signature": "sha256:9e51eeeea5a1a945bf792873f5eac19c6b2c10849f7ed34c5ffd7a360be41c73"
 },
 "nbformat": 3,
 "nbformat_minor": 0,
 "worksheets": [
  {
   "cells": [
    {
     "cell_type": "heading",
     "level": 1,
     "metadata": {},
     "source": [
      "Kryptographie"
     ]
    },
    {
     "cell_type": "markdown",
     "metadata": {},
     "source": [
      "Geheimnisse werden bevorzugt verschl\u00fcsselt \u00fcbermittelt.\n",
      "Dieses Kapitel zeigt einige Varianten, \n",
      "wie einfache Verschl\u00fcsselungsmethoden implementiert werden k\u00f6nnen."
     ]
    },
    {
     "cell_type": "markdown",
     "metadata": {},
     "source": [
      "## Caesarkodierung\n",
      "\n",
      "Die [Caesarkodierung](http://de.wikipedia.org/wiki/Caesar-Verschl%C3%BCsselung) geht auf einfaches Vertauschen von Buchstaben zur\u00fcck."
     ]
    },
    {
     "cell_type": "code",
     "collapsed": false,
     "input": [
      "from string import uppercase\n",
      "start = ord(\"A\")\n",
      "end = ord(\"Z\")\n",
      "length = end - start"
     ],
     "language": "python",
     "metadata": {},
     "outputs": [],
     "prompt_number": 17
    },
    {
     "cell_type": "code",
     "collapsed": false,
     "input": [
      "def create_code(n):\n",
      "    def encoder(word):\n",
      "        cipher = []\n",
      "        for char in word:\n",
      "            if char in uppercase:\n",
      "                enc = chr((ord(char) - start + n) % length + start)\n",
      "                cipher.append(enc)\n",
      "            else:\n",
      "                cipher.append(char)\n",
      "        return ''.join(cipher)\n",
      "    return encoder"
     ],
     "language": "python",
     "metadata": {},
     "outputs": [],
     "prompt_number": 30
    },
    {
     "cell_type": "code",
     "collapsed": false,
     "input": [
      "code1 = create_code(11)\n",
      "cc = code1(\"DAS IST GEHEIM\")\n",
      "cc"
     ],
     "language": "python",
     "metadata": {},
     "outputs": [
      {
       "metadata": {},
       "output_type": "pyout",
       "prompt_number": 31,
       "text": [
        "'OLE TEF RPSPTX'"
       ]
      }
     ],
     "prompt_number": 31
    },
    {
     "cell_type": "code",
     "collapsed": false,
     "input": [
      "code2 = create_code(-11)\n",
      "code2(cc)"
     ],
     "language": "python",
     "metadata": {},
     "outputs": [
      {
       "metadata": {},
       "output_type": "pyout",
       "prompt_number": 32,
       "text": [
        "'DAS IST GEHEIM'"
       ]
      }
     ],
     "prompt_number": 32
    },
    {
     "cell_type": "markdown",
     "metadata": {},
     "source": [
      "Das Problem ist, die H\u00e4ufigkeit der einzelnen Buchstaben ist nicht gleich.\n",
      "Daher l\u00e4sst sich mit einer einfachen Statistik erahnen,\n",
      "welcher Buchstabe wie verschl\u00fcsselt ist."
     ]
    },
    {
     "cell_type": "code",
     "collapsed": false,
     "input": [],
     "language": "python",
     "metadata": {},
     "outputs": [],
     "prompt_number": 1
    },
    {
     "cell_type": "code",
     "collapsed": false,
     "input": [],
     "language": "python",
     "metadata": {},
     "outputs": [],
     "prompt_number": 32
    },
    {
     "cell_type": "code",
     "collapsed": false,
     "input": [
      "%matplotlib inline\n",
      "import matplotlib.pyplot as plt"
     ],
     "language": "python",
     "metadata": {},
     "outputs": [],
     "prompt_number": 34
    },
    {
     "cell_type": "code",
     "collapsed": false,
     "input": [
      "# use a counter, greate a plt.hbar plot, and set the y_axis labels to uppercase"
     ],
     "language": "python",
     "metadata": {},
     "outputs": [],
     "prompt_number": 43
    },
    {
     "cell_type": "code",
     "collapsed": false,
     "input": [],
     "language": "python",
     "metadata": {},
     "outputs": []
    }
   ],
   "metadata": {}
  }
 ]
}
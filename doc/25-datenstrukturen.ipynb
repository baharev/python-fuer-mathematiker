{
 "metadata": {
  "name": "",
  "signature": "sha256:defe226e3585fbc2052dfe198dcb1bdc5fdfbfb7810d7ef739661fb3dc76f563"
 },
 "nbformat": 3,
 "nbformat_minor": 0,
 "worksheets": [
  {
   "cells": [
    {
     "cell_type": "markdown",
     "metadata": {},
     "source": [
      "# Konzept 5: Datenstrukturen"
     ]
    },
    {
     "cell_type": "markdown",
     "metadata": {},
     "source": [
      "## Tupel\n",
      "\n",
      "Das ist die einfachste Datenstruktur Python's.\n",
      "Es handelt sich hier um eine lineare Auflistung von Elementen zwischen zwei **runden** Klammern `(...,...,...)`.\n",
      "Diese Elemente sind \"fix\", d.h. es k\u00f6nnen weder Elemente hinzugef\u00fcgt, noch ver\u00e4ndert, noch entfernt werden.\n",
      "Diese Datenstruktur tritt schon in recht einfachen F\u00e4llen auf,\n",
      "z.B. R\u00fcckgabe mehrerer Elemente in einem `return`-Statement oder einer gleichzeitigen Zuweisung an Variablen."
     ]
    },
    {
     "cell_type": "code",
     "collapsed": false,
     "input": [
      "x = (5, \"baum\", -1, None)\n",
      "print(x)"
     ],
     "language": "python",
     "metadata": {},
     "outputs": [
      {
       "output_type": "stream",
       "stream": "stdout",
       "text": [
        "(5, 'baum', -1, None)\n"
       ]
      }
     ],
     "prompt_number": 1
    },
    {
     "cell_type": "code",
     "collapsed": false,
     "input": [
      "x, y, z = 4, 1, 2\n",
      "print(x)\n",
      "print(y)\n",
      "print(z)"
     ],
     "language": "python",
     "metadata": {},
     "outputs": [
      {
       "output_type": "stream",
       "stream": "stdout",
       "text": [
        "4\n",
        "1\n",
        "2\n"
       ]
      }
     ],
     "prompt_number": 2
    },
    {
     "cell_type": "markdown",
     "metadata": {},
     "source": [
      "Dies kann f\u00fcr Vertauschungen verwendet werden:"
     ]
    },
    {
     "cell_type": "code",
     "collapsed": false,
     "input": [
      "a, b = 1, 2\n",
      "print(a, b)\n",
      "a, b = b, a\n",
      "print(a, b)"
     ],
     "language": "python",
     "metadata": {},
     "outputs": [
      {
       "output_type": "stream",
       "stream": "stdout",
       "text": [
        "(1, 2)\n",
        "(2, 1)\n"
       ]
      }
     ],
     "prompt_number": 3
    },
    {
     "cell_type": "markdown",
     "metadata": {},
     "source": [
      "### Azugriff auf ein Element\n",
      "\n",
      "Indizierbare Objekte (tuple, list, ...) erlauben,\n",
      "mittels des Syntax `object[idx]` direkt auf das Element an der Stelle `idx` zuzugreifen.\n",
      "Indizierungen starten immer bei `0`."
     ]
    },
    {
     "cell_type": "code",
     "collapsed": false,
     "input": [
      "t = (5, 22, 42)\n",
      "print(t[0])\n",
      "print(t[2])"
     ],
     "language": "python",
     "metadata": {},
     "outputs": [
      {
       "output_type": "stream",
       "stream": "stdout",
       "text": [
        "5\n",
        "42\n"
       ]
      }
     ],
     "prompt_number": 4
    },
    {
     "cell_type": "markdown",
     "metadata": {},
     "source": [
      "### L\u00e4nge mittels `len(...)`"
     ]
    },
    {
     "cell_type": "code",
     "collapsed": false,
     "input": [
      "len(t)"
     ],
     "language": "python",
     "metadata": {},
     "outputs": [
      {
       "metadata": {},
       "output_type": "pyout",
       "prompt_number": 5,
       "text": [
        "3"
       ]
      }
     ],
     "prompt_number": 5
    },
    {
     "cell_type": "markdown",
     "metadata": {},
     "source": [
      "### Index beginnt bei 0?\n",
      "\n",
      "**Bemerkung:** Warum bei `0`? Das hat viele Gr\u00fcnde, einer ist, dass mittels negativer Indices von hinten Indiziert werden kann. Dabei ist `-1` das letzte Element, usw. Dies f\u00fcgt sich wunderbar mit dem `len` Befehl zusammen, weil man f\u00fcr den positiven Index den negativen von der L\u00e4nge einfach abziehen kann:"
     ]
    },
    {
     "cell_type": "code",
     "collapsed": false,
     "input": [
      "t[-1]"
     ],
     "language": "python",
     "metadata": {},
     "outputs": [
      {
       "metadata": {},
       "output_type": "pyout",
       "prompt_number": 6,
       "text": [
        "42"
       ]
      }
     ],
     "prompt_number": 6
    },
    {
     "cell_type": "code",
     "collapsed": false,
     "input": [
      "t[len(t)-1]"
     ],
     "language": "python",
     "metadata": {},
     "outputs": [
      {
       "metadata": {},
       "output_type": "pyout",
       "prompt_number": 7,
       "text": [
        "42"
       ]
      }
     ],
     "prompt_number": 7
    },
    {
     "cell_type": "markdown",
     "metadata": {},
     "source": [
      "Eine Visualisierung aus dem [Python Tutorial](https://docs.python.org/2/tutorial/introduction.html#strings)\n",
      "```\n",
      " +---+---+---+---+---+---+\n",
      " | P | y | t | h | o | n |\n",
      " +---+---+---+---+---+---+\n",
      " 0   1   2   3   4   5   6\n",
      "-6  -5  -4  -3  -2  -1\n",
      "```"
     ]
    },
    {
     "cell_type": "markdown",
     "metadata": {},
     "source": [
      "### Teil-Sequenzen\n",
      "\n",
      "Es lassen sich auch zusammenh\u00e4ngende Teile extrahieren, wobei der Syntax so ist: `object[start:end]`.\n",
      "\n",
      "* `start`: erstes Element\n",
      "* `end`: erstes Element das **nicht** mehr in diesem Teil sein soll\n",
      "* `start` und `end` k\u00f6nnen auch weggelassen werden.\n",
      "\n",
      "Ein optionales drittes Argument kann f\u00fcr gr\u00f6\u00dfere Spr\u00fcnge verwendet werden."
     ]
    },
    {
     "cell_type": "code",
     "collapsed": false,
     "input": [
      "t[1:3]"
     ],
     "language": "python",
     "metadata": {},
     "outputs": [
      {
       "metadata": {},
       "output_type": "pyout",
       "prompt_number": 8,
       "text": [
        "(22, 42)"
       ]
      }
     ],
     "prompt_number": 8
    },
    {
     "cell_type": "code",
     "collapsed": false,
     "input": [
      "# \"die ersten zwei\"\n",
      "t[:2]"
     ],
     "language": "python",
     "metadata": {},
     "outputs": [
      {
       "metadata": {},
       "output_type": "pyout",
       "prompt_number": 9,
       "text": [
        "(5, 22)"
       ]
      }
     ],
     "prompt_number": 9
    },
    {
     "cell_type": "code",
     "collapsed": false,
     "input": [
      "# \"alle, ab dem zweiten index\"\n",
      "t[2:]"
     ],
     "language": "python",
     "metadata": {},
     "outputs": [
      {
       "metadata": {},
       "output_type": "pyout",
       "prompt_number": 10,
       "text": [
        "(42,)"
       ]
      }
     ],
     "prompt_number": 10
    },
    {
     "cell_type": "code",
     "collapsed": false,
     "input": [
      "# \"letzte zwei\"\n",
      "t[-2:]"
     ],
     "language": "python",
     "metadata": {},
     "outputs": [
      {
       "metadata": {},
       "output_type": "pyout",
       "prompt_number": 11,
       "text": [
        "(22, 42)"
       ]
      }
     ],
     "prompt_number": 11
    },
    {
     "cell_type": "code",
     "collapsed": false,
     "input": [
      "# jedes zweite\n",
      "t[::2]"
     ],
     "language": "python",
     "metadata": {},
     "outputs": [
      {
       "metadata": {},
       "output_type": "pyout",
       "prompt_number": 12,
       "text": [
        "(5, 42)"
       ]
      }
     ],
     "prompt_number": 12
    },
    {
     "cell_type": "markdown",
     "metadata": {},
     "source": [
      "## Listen\n",
      "\n",
      "\u00c4hnlich wie Tupel, sind Listen geornete Kontainer f\u00fcr beliebige Werte zwischen **eckigen** Klammern `[...,...,...]`.\n",
      "Sie unterscheiden sich jedoch dadurch,\n",
      "dass sowohl einzelne Eintr\u00e4ge als auch deren L\u00e4nge ver\u00e4ndert werden kann."
     ]
    },
    {
     "cell_type": "code",
     "collapsed": false,
     "input": [
      "l = [5, \"Baum\", -1, None]\n",
      "print(l)\n",
      "print(l[1])"
     ],
     "language": "python",
     "metadata": {},
     "outputs": [
      {
       "output_type": "stream",
       "stream": "stdout",
       "text": [
        "[5, 'Baum', -1, None]\n",
        "Baum\n"
       ]
      }
     ],
     "prompt_number": 13
    },
    {
     "cell_type": "markdown",
     "metadata": {},
     "source": [
      "### Entfernen\n",
      "\n",
      "Ein Element an einer bestimmten Position wird mit `del <list>[idx]` entfernt."
     ]
    },
    {
     "cell_type": "code",
     "collapsed": false,
     "input": [
      "del l[3]\n",
      "print(l)"
     ],
     "language": "python",
     "metadata": {},
     "outputs": [
      {
       "output_type": "stream",
       "stream": "stdout",
       "text": [
        "[5, 'Baum', -1]\n"
       ]
      }
     ],
     "prompt_number": 14
    },
    {
     "cell_type": "markdown",
     "metadata": {},
     "source": [
      "### Verl\u00e4ngern mittels `.append(...)`"
     ]
    },
    {
     "cell_type": "code",
     "collapsed": false,
     "input": [
      "l.append(\"Gartenzwerg\")\n",
      "print(l)"
     ],
     "language": "python",
     "metadata": {},
     "outputs": [
      {
       "output_type": "stream",
       "stream": "stdout",
       "text": [
        "[5, 'Baum', -1, 'Gartenzwerg']\n"
       ]
      }
     ],
     "prompt_number": 15
    },
    {
     "cell_type": "markdown",
     "metadata": {},
     "source": [
      "**Quiz:** Was passiert mit l, wenn die vorhergehende `append` Funktion zweimal ausgef\u00fchrt wird?"
     ]
    },
    {
     "cell_type": "markdown",
     "metadata": {},
     "source": [
      "Verwandt mit `append` ist die Methode **`pop()`**, welches das letzte Element aus der Liste entfernt und zur\u00fcckgibt.\n",
      "Sehr n\u00fctzlich, um einen dynmischen [Stack](http://en.wikipedia.org/wiki/Stack_%28abstract_data_type%29) in einer Schleife zu verwalten."
     ]
    },
    {
     "cell_type": "code",
     "collapsed": false,
     "input": [
      "while len(l) > 0:\n",
      "    e = l.pop()\n",
      "    print(e)"
     ],
     "language": "python",
     "metadata": {},
     "outputs": [
      {
       "output_type": "stream",
       "stream": "stdout",
       "text": [
        "Gartenzwerg\n",
        "-1\n",
        "Baum\n",
        "5\n"
       ]
      }
     ],
     "prompt_number": 16
    },
    {
     "cell_type": "markdown",
     "metadata": {},
     "source": [
      "### L\u00e4nge, Umdrehen, ...\n",
      "\n",
      "Neben diesen grunds\u00e4tzlichen Funktionen gibt es noch einige weitere:"
     ]
    },
    {
     "cell_type": "markdown",
     "metadata": {},
     "source": [
      "* `list.extend(...)`: erweitern der Liste um alle Elemente in dem \u00fcbergebenen iterierbaren Ausdruck."
     ]
    },
    {
     "cell_type": "code",
     "collapsed": false,
     "input": [
      "l = [42, 5, -1]\n",
      "l.extend(range(10))\n",
      "print(l)"
     ],
     "language": "python",
     "metadata": {},
     "outputs": [
      {
       "output_type": "stream",
       "stream": "stdout",
       "text": [
        "[42, 5, -1, 0, 1, 2, 3, 4, 5, 6, 7, 8, 9]\n"
       ]
      }
     ],
     "prompt_number": 17
    },
    {
     "cell_type": "markdown",
     "metadata": {},
     "source": [
      "* `list1 + list2`: zwei Listen k\u00f6nnen addiert werden."
     ]
    },
    {
     "cell_type": "code",
     "collapsed": false,
     "input": [
      "l1 = [5, 1]\n",
      "l2 = [\"u\", \"v\"]\n",
      "print(l1 + l2)"
     ],
     "language": "python",
     "metadata": {},
     "outputs": [
      {
       "output_type": "stream",
       "stream": "stdout",
       "text": [
        "[5, 1, 'u', 'v']\n"
       ]
      }
     ],
     "prompt_number": 18
    },
    {
     "cell_type": "markdown",
     "metadata": {},
     "source": [
      "* `insert(i, obj)`: einf\u00fcgen an Stelle `i`"
     ]
    },
    {
     "cell_type": "code",
     "collapsed": false,
     "input": [
      "f = [1, 2, 3]\n",
      "f.insert(1, \"kk\")\n",
      "print(f)"
     ],
     "language": "python",
     "metadata": {},
     "outputs": [
      {
       "output_type": "stream",
       "stream": "stdout",
       "text": [
        "[1, 'kk', 2, 3]\n"
       ]
      }
     ],
     "prompt_number": 19
    },
    {
     "cell_type": "code",
     "collapsed": false,
     "input": [
      "f.reverse()\n",
      "print(f)"
     ],
     "language": "python",
     "metadata": {},
     "outputs": [
      {
       "output_type": "stream",
       "stream": "stdout",
       "text": [
        "[3, 2, 'kk', 1]\n"
       ]
      }
     ],
     "prompt_number": 20
    },
    {
     "cell_type": "markdown",
     "metadata": {},
     "source": [
      "**Bemerkung:** eng verwandt ist dies mit dem Schl\u00fcsselwort `reversed(...)`.\n",
      "Es hat den gro\u00dfen Unterschied, dass die Reihenfolge *innerhalb* der Liste nicht ver\u00e4ndert wird.\n",
      "Das ist \u00fcblicherweise das gew\u00fcnschte Verhalten!"
     ]
    },
    {
     "cell_type": "code",
     "collapsed": false,
     "input": [
      "p = [2, 3, 5, 7, 11]\n",
      "print(list(reversed(p)))\n",
      "print(p)"
     ],
     "language": "python",
     "metadata": {},
     "outputs": [
      {
       "output_type": "stream",
       "stream": "stdout",
       "text": [
        "[11, 7, 5, 3, 2]\n",
        "[2, 3, 5, 7, 11]\n"
       ]
      }
     ],
     "prompt_number": 21
    },
    {
     "cell_type": "markdown",
     "metadata": {},
     "source": [
      "**Bemerkung:** Hier handelt es sich au\u00dferdem um einen Iterator, welcher erst bei Bedarf (engl. \"lazy evaluation\") tats\u00e4chlich die Liste abarbeiter.\n",
      "Dieses Abarbeiten wird mit dem `list(...)` Befehl explizit erzwungen, ist aber \u00fcblicherweise nicht notwendig (z.B. in `for` oder `while` Schleifen)."
     ]
    },
    {
     "cell_type": "markdown",
     "metadata": {},
     "source": [
      "### Range"
     ]
    },
    {
     "cell_type": "markdown",
     "metadata": {},
     "source": [
      "Die in Python eingebaute Funktion `range(...)` gibt Ganzzahlen in einer Liste aus."
     ]
    },
    {
     "cell_type": "code",
     "collapsed": false,
     "input": [
      "range(10)"
     ],
     "language": "python",
     "metadata": {},
     "outputs": [
      {
       "metadata": {},
       "output_type": "pyout",
       "prompt_number": 22,
       "text": [
        "[0, 1, 2, 3, 4, 5, 6, 7, 8, 9]"
       ]
      }
     ],
     "prompt_number": 22
    },
    {
     "cell_type": "markdown",
     "metadata": {},
     "source": [
      "und mit zwei oder drei Argumenten gibt man einen Start bei ungleich 0 an, bzw. die Schrittweite:"
     ]
    },
    {
     "cell_type": "code",
     "collapsed": false,
     "input": [
      "range(10, 30, 5)"
     ],
     "language": "python",
     "metadata": {},
     "outputs": [
      {
       "metadata": {},
       "output_type": "pyout",
       "prompt_number": 23,
       "text": [
        "[10, 15, 20, 25]"
       ]
      }
     ],
     "prompt_number": 23
    },
    {
     "cell_type": "code",
     "collapsed": false,
     "input": [
      "range(-10, 10, 2)"
     ],
     "language": "python",
     "metadata": {},
     "outputs": [
      {
       "metadata": {},
       "output_type": "pyout",
       "prompt_number": 24,
       "text": [
        "[-10, -8, -6, -4, -2, 0, 2, 4, 6, 8]"
       ]
      }
     ],
     "prompt_number": 24
    },
    {
     "cell_type": "code",
     "collapsed": false,
     "input": [
      "help(range)"
     ],
     "language": "python",
     "metadata": {},
     "outputs": [
      {
       "output_type": "stream",
       "stream": "stdout",
       "text": [
        "Help on built-in function range in module __builtin__:\n",
        "\n",
        "range(...)\n",
        "    range(stop) -> list of integers\n",
        "    range(start, stop[, step]) -> list of integers\n",
        "    \n",
        "    Return a list containing an arithmetic progression of integers.\n",
        "    range(i, j) returns [i, i+1, i+2, ..., j-1]; start (!) defaults to 0.\n",
        "    When step is given, it specifies the increment (or decrement).\n",
        "    For example, range(4) returns [0, 1, 2, 3].  The end point is omitted!\n",
        "    These are exactly the valid indices for a list of 4 elements.\n",
        "\n"
       ]
      }
     ],
     "prompt_number": 25
    },
    {
     "cell_type": "markdown",
     "metadata": {},
     "source": [
      "## List Comprehension\n",
      "\n",
      "Passend zu Listen gibt es ein Feature von Python zum eleganten Verarbeiten von geordneten Listen, sogenannte \"*list comprehensions*\":"
     ]
    },
    {
     "cell_type": "markdown",
     "metadata": {},
     "source": [
      "Der Ausdruck am Beginn h\u00e4ngt von dem \"i\" (genannt \"Laufvariable\") ab."
     ]
    },
    {
     "cell_type": "code",
     "collapsed": false,
     "input": [
      "[ 2 * i + 3 for i in range(10)]"
     ],
     "language": "python",
     "metadata": {},
     "outputs": [
      {
       "metadata": {},
       "output_type": "pyout",
       "prompt_number": 26,
       "text": [
        "[3, 5, 7, 9, 11, 13, 15, 17, 19, 21]"
       ]
      }
     ],
     "prompt_number": 26
    },
    {
     "cell_type": "markdown",
     "metadata": {},
     "source": [
      "Neben diesem einfachen Beispiel, gibt es auch komplexere Varianten.\n",
      "Hier mit zwei Listen in i und j"
     ]
    },
    {
     "cell_type": "code",
     "collapsed": false,
     "input": [
      "[ i + j for i in range(3) for j in range(10, 40, 10) ]"
     ],
     "language": "python",
     "metadata": {},
     "outputs": [
      {
       "metadata": {},
       "output_type": "pyout",
       "prompt_number": 27,
       "text": [
        "[10, 20, 30, 11, 21, 31, 12, 22, 32]"
       ]
      }
     ],
     "prompt_number": 27
    },
    {
     "cell_type": "code",
     "collapsed": false,
     "input": [
      "# Eine nachgestellte Bedingung an die Laufvariable\n",
      "[ k for k in range(-10, 10) if k > 3]"
     ],
     "language": "python",
     "metadata": {},
     "outputs": [
      {
       "metadata": {},
       "output_type": "pyout",
       "prompt_number": 28,
       "text": [
        "[4, 5, 6, 7, 8, 9]"
       ]
      }
     ],
     "prompt_number": 28
    },
    {
     "cell_type": "code",
     "collapsed": false,
     "input": [
      "# Die Listen k\u00f6nnen beliebig sein\n",
      "temps = [-10.1, -11.2, -8.5, -7.1, -6.0]\n",
      "[ temp**2 for temp in temps if temp > -8]"
     ],
     "language": "python",
     "metadata": {},
     "outputs": [
      {
       "metadata": {},
       "output_type": "pyout",
       "prompt_number": 29,
       "text": [
        "[50.41, 36.0]"
       ]
      }
     ],
     "prompt_number": 29
    },
    {
     "cell_type": "markdown",
     "metadata": {},
     "source": [
      "**Bemerkung**: Das coole an list comprehensions ist, dass deren Ergebnis wieder eine Liste ist.\n",
      "Daher ist es nicht ungew\u00f6hnlich, verschachtelte list comprehensions anzutreffen!"
     ]
    },
    {
     "cell_type": "code",
     "collapsed": false,
     "input": [
      "# Die 10x10 Multiplikationstabelle ist schnell erzeugt\n",
      "[ [i*j for j in range(1,11)] for i in range(1,11)]"
     ],
     "language": "python",
     "metadata": {},
     "outputs": [
      {
       "metadata": {},
       "output_type": "pyout",
       "prompt_number": 30,
       "text": [
        "[[1, 2, 3, 4, 5, 6, 7, 8, 9, 10],\n",
        " [2, 4, 6, 8, 10, 12, 14, 16, 18, 20],\n",
        " [3, 6, 9, 12, 15, 18, 21, 24, 27, 30],\n",
        " [4, 8, 12, 16, 20, 24, 28, 32, 36, 40],\n",
        " [5, 10, 15, 20, 25, 30, 35, 40, 45, 50],\n",
        " [6, 12, 18, 24, 30, 36, 42, 48, 54, 60],\n",
        " [7, 14, 21, 28, 35, 42, 49, 56, 63, 70],\n",
        " [8, 16, 24, 32, 40, 48, 56, 64, 72, 80],\n",
        " [9, 18, 27, 36, 45, 54, 63, 72, 81, 90],\n",
        " [10, 20, 30, 40, 50, 60, 70, 80, 90, 100]]"
       ]
      }
     ],
     "prompt_number": 30
    },
    {
     "cell_type": "code",
     "collapsed": false,
     "input": [
      "# bzw. mit einer weiteren Bedingung in der inneren list comprehension\n",
      "[[i*j for j in range(1,11) if i-j > -1] for i in range(1,11)]"
     ],
     "language": "python",
     "metadata": {},
     "outputs": [
      {
       "metadata": {},
       "output_type": "pyout",
       "prompt_number": 31,
       "text": [
        "[[1],\n",
        " [2, 4],\n",
        " [3, 6, 9],\n",
        " [4, 8, 12, 16],\n",
        " [5, 10, 15, 20, 25],\n",
        " [6, 12, 18, 24, 30, 36],\n",
        " [7, 14, 21, 28, 35, 42, 49],\n",
        " [8, 16, 24, 32, 40, 48, 56, 64],\n",
        " [9, 18, 27, 36, 45, 54, 63, 72, 81],\n",
        " [10, 20, 30, 40, 50, 60, 70, 80, 90, 100]]"
       ]
      }
     ],
     "prompt_number": 31
    },
    {
     "cell_type": "code",
     "collapsed": false,
     "input": [],
     "language": "python",
     "metadata": {},
     "outputs": [],
     "prompt_number": 31
    },
    {
     "cell_type": "code",
     "collapsed": false,
     "input": [],
     "language": "python",
     "metadata": {},
     "outputs": [],
     "prompt_number": 31
    },
    {
     "cell_type": "markdown",
     "metadata": {},
     "source": [
      "## Dict\n",
      "\n",
      "Ein `dict` ist eine assoziative Datenstruktur.\n",
      "Elemente werden zwischen zwei Mengen surjektiv abgebildet.\n",
      "Erzeugt wird diese Datenstruktur mittels **geschwungener** Klammern `{ ... : ... , ... : ... , ... }` bzw. dem Schl\u00fcsselwort `dict`.\n",
      "Der Sinn ist, dass eine Beziehung hergestellt wird, welche z.B. eine Namensgebung f\u00fcr bestimmte Eigenschaften sein kann.\n",
      "Dies `dict` merkt sich dabei nicht die Reihenfolge der Elemente!\n",
      "\n",
      "Ein Beispiel:"
     ]
    },
    {
     "cell_type": "code",
     "collapsed": false,
     "input": [
      "alter = {\"Clara\": 21, \"Christian\": 19, \"Ciara\": 23, \"Claus\": 28}\n",
      "print(alter)"
     ],
     "language": "python",
     "metadata": {},
     "outputs": [
      {
       "output_type": "stream",
       "stream": "stdout",
       "text": [
        "{'Christian': 19, 'Claus': 28, 'Clara': 21, 'Ciara': 23}\n"
       ]
      }
     ],
     "prompt_number": 32
    },
    {
     "cell_type": "code",
     "collapsed": false,
     "input": [
      "size = dict(jim = 181, jane = 172, joe = 190, julia = 165)\n",
      "size"
     ],
     "language": "python",
     "metadata": {},
     "outputs": [
      {
       "metadata": {},
       "output_type": "pyout",
       "prompt_number": 42,
       "text": [
        "{'jane': 172, 'jim': 181, 'joe': 190, 'julia': 165}"
       ]
      }
     ],
     "prompt_number": 42
    },
    {
     "cell_type": "markdown",
     "metadata": {},
     "source": [
      "Elemente k\u00f6nnen \u00e4hnlich wie Listen ausgelesen werden:"
     ]
    },
    {
     "cell_type": "code",
     "collapsed": false,
     "input": [
      "alter[\"Ciara\"]"
     ],
     "language": "python",
     "metadata": {},
     "outputs": [
      {
       "metadata": {},
       "output_type": "pyout",
       "prompt_number": 43,
       "text": [
        "23"
       ]
      }
     ],
     "prompt_number": 43
    },
    {
     "cell_type": "code",
     "collapsed": false,
     "input": [
      "size[\"julia\"]"
     ],
     "language": "python",
     "metadata": {},
     "outputs": [
      {
       "metadata": {},
       "output_type": "pyout",
       "prompt_number": 44,
       "text": [
        "165"
       ]
      }
     ],
     "prompt_number": 44
    },
    {
     "cell_type": "markdown",
     "metadata": {},
     "source": [
      "Ebenso verh\u00e4lt es sich mit L\u00f6sch- und Gr\u00f6\u00dfenfunktionen:"
     ]
    },
    {
     "cell_type": "code",
     "collapsed": false,
     "input": [
      "len(alter)"
     ],
     "language": "python",
     "metadata": {},
     "outputs": [
      {
       "metadata": {},
       "output_type": "pyout",
       "prompt_number": 34,
       "text": [
        "4"
       ]
      }
     ],
     "prompt_number": 34
    },
    {
     "cell_type": "code",
     "collapsed": false,
     "input": [
      "del alter[\"Claus\"]"
     ],
     "language": "python",
     "metadata": {},
     "outputs": [],
     "prompt_number": 35
    },
    {
     "cell_type": "code",
     "collapsed": false,
     "input": [
      "print(alter)"
     ],
     "language": "python",
     "metadata": {},
     "outputs": [
      {
       "output_type": "stream",
       "stream": "stdout",
       "text": [
        "{'Christian': 19, 'Clara': 21, 'Ciara': 23}\n"
       ]
      }
     ],
     "prompt_number": 36
    },
    {
     "cell_type": "markdown",
     "metadata": {},
     "source": [
      "**Iterationen** \u00fcber maps gehen leicht von der Hand. Entweder nur \u00fcber die \"`keys`\" oder sowohl \u00fcber die Schl\u00fcsselw\u00f6rter als auch \u00fcber die Werte:"
     ]
    },
    {
     "cell_type": "code",
     "collapsed": false,
     "input": [
      "for key in alter:\n",
      "    print(key)"
     ],
     "language": "python",
     "metadata": {},
     "outputs": [
      {
       "output_type": "stream",
       "stream": "stdout",
       "text": [
        "Christian\n",
        "Clara\n",
        "Ciara\n"
       ]
      }
     ],
     "prompt_number": 37
    },
    {
     "cell_type": "code",
     "collapsed": false,
     "input": [
      "for key, value in alter.iteritems():\n",
      "    print(\"%-10s => %s\" % (key, value))"
     ],
     "language": "python",
     "metadata": {},
     "outputs": [
      {
       "output_type": "stream",
       "stream": "stdout",
       "text": [
        "Christian  => 19\n",
        "Clara      => 21\n",
        "Ciara      => 23\n"
       ]
      }
     ],
     "prompt_number": 38
    },
    {
     "cell_type": "markdown",
     "metadata": {},
     "source": [
      "**Bemerkung:** die Methode `.iteritems` ist hier entscheidend."
     ]
    },
    {
     "cell_type": "code",
     "collapsed": false,
     "input": [
      "help(alter.iteritems)"
     ],
     "language": "python",
     "metadata": {},
     "outputs": [
      {
       "output_type": "stream",
       "stream": "stdout",
       "text": [
        "Help on built-in function iteritems:\n",
        "\n",
        "iteritems(...)\n",
        "    D.iteritems() -> an iterator over the (key, value) items of D\n",
        "\n"
       ]
      }
     ],
     "prompt_number": 39
    },
    {
     "cell_type": "code",
     "collapsed": false,
     "input": [],
     "language": "python",
     "metadata": {},
     "outputs": [],
     "prompt_number": 39
    },
    {
     "cell_type": "code",
     "collapsed": false,
     "input": [],
     "language": "python",
     "metadata": {},
     "outputs": [],
     "prompt_number": 39
    },
    {
     "cell_type": "markdown",
     "metadata": {},
     "source": [
      "## Geornetes Dict\n",
      "\n",
      "Die \"Map\" an sich ist nicht sortiert.\n",
      "Es gibt jedoch F\u00e4lle, wo dies w\u00fcnschenswert w\u00e4re.\n",
      "Hierf\u00fcr gibt es dies:"
     ]
    },
    {
     "cell_type": "code",
     "collapsed": false,
     "input": [
      "from collections import OrderedDict"
     ],
     "language": "python",
     "metadata": {},
     "outputs": [],
     "prompt_number": 55
    },
    {
     "cell_type": "code",
     "collapsed": false,
     "input": [
      "ttt = OrderedDict(k = 1, c = 6, a = -5, f = 3)\n",
      "ttt"
     ],
     "language": "python",
     "metadata": {},
     "outputs": [
      {
       "metadata": {},
       "output_type": "pyout",
       "prompt_number": 56,
       "text": [
        "OrderedDict([('a', -5), ('c', 6), ('k', 1), ('f', 3)])"
       ]
      }
     ],
     "prompt_number": 56
    }
   ],
   "metadata": {}
  }
 ]
}
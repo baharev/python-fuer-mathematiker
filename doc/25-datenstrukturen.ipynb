{
 "metadata": {
  "name": "",
  "signature": "sha256:6604431500652c168de03d0cf163d49b02742d763934df81da3d77bb4cb05027"
 },
 "nbformat": 3,
 "nbformat_minor": 0,
 "worksheets": [
  {
   "cells": [
    {
     "cell_type": "markdown",
     "metadata": {},
     "source": [
      "[INDEX](00-index.ipynb)"
     ]
    },
    {
     "cell_type": "markdown",
     "metadata": {},
     "source": [
      "# Konzept 5: Datenstrukturen"
     ]
    },
    {
     "cell_type": "code",
     "collapsed": false,
     "input": [],
     "language": "python",
     "metadata": {},
     "outputs": []
    }
   ],
   "metadata": {}
  }
 ]
}
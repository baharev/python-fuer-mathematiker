{
 "metadata": {
  "name": "",
  "signature": "sha256:1bdfaee65ee11c77e26f5267ecd91b8567ec38d33e1d4163d2eb0927b831dbc5"
 },
 "nbformat": 3,
 "nbformat_minor": 0,
 "worksheets": [
  {
   "cells": [
    {
     "cell_type": "markdown",
     "metadata": {},
     "source": [
      "[INDEX](00-index.ipynb)"
     ]
    },
    {
     "cell_type": "markdown",
     "metadata": {},
     "source": [
      "# Konzept 5: Datenstrukturen"
     ]
    },
    {
     "cell_type": "markdown",
     "metadata": {},
     "source": [
      "## Listen"
     ]
    },
    {
     "cell_type": "code",
     "collapsed": false,
     "input": [],
     "language": "python",
     "metadata": {},
     "outputs": [],
     "prompt_number": 1
    },
    {
     "cell_type": "code",
     "collapsed": false,
     "input": [],
     "language": "python",
     "metadata": {},
     "outputs": [],
     "prompt_number": 23
    },
    {
     "cell_type": "code",
     "collapsed": false,
     "input": [
      "# Die in Python eingebaute Funktion range(10) gibt Ganzzahlen von 0 bis 9 aus.\n",
      "range(10)"
     ],
     "language": "python",
     "metadata": {},
     "outputs": [
      {
       "metadata": {},
       "output_type": "pyout",
       "prompt_number": 25,
       "text": [
        "[0, 1, 2, 3, 4, 5, 6, 7, 8, 9]"
       ]
      }
     ],
     "prompt_number": 25
    },
    {
     "cell_type": "code",
     "collapsed": false,
     "input": [
      "# und mit zwei oder drei Argumenten gibt man einen Start bei ungleich 0 an, bzw. die Schrittweite:\n",
      "range(10, 30, 5)"
     ],
     "language": "python",
     "metadata": {},
     "outputs": [
      {
       "metadata": {},
       "output_type": "pyout",
       "prompt_number": 26,
       "text": [
        "[10, 15, 20, 25]"
       ]
      }
     ],
     "prompt_number": 26
    },
    {
     "cell_type": "code",
     "collapsed": false,
     "input": [
      "range(-10, 10, 2)"
     ],
     "language": "python",
     "metadata": {},
     "outputs": [
      {
       "metadata": {},
       "output_type": "pyout",
       "prompt_number": 27,
       "text": [
        "[-10, -8, -6, -4, -2, 0, 2, 4, 6, 8]"
       ]
      }
     ],
     "prompt_number": 27
    },
    {
     "cell_type": "code",
     "collapsed": false,
     "input": [],
     "language": "python",
     "metadata": {},
     "outputs": []
    },
    {
     "cell_type": "markdown",
     "metadata": {},
     "source": [
      "## List Comprehension\n",
      "\n",
      "Passend zu Listen gibt es ein Feature von Python zum eleganten Verarbeiten von geordneten Listen, sogenannte \"*list comprehensions*\":"
     ]
    },
    {
     "cell_type": "code",
     "collapsed": false,
     "input": [
      "# der Ausdruck links h\u00e4ngt von dem \"i\" (genannt \"Laufvariable\") ab\n",
      "[ 2 * i + 3 for i in range(10)]"
     ],
     "language": "python",
     "metadata": {},
     "outputs": [
      {
       "metadata": {},
       "output_type": "pyout",
       "prompt_number": 29,
       "text": [
        "[3, 5, 7, 9, 11, 13, 15, 17, 19, 21]"
       ]
      }
     ],
     "prompt_number": 29
    },
    {
     "cell_type": "code",
     "collapsed": false,
     "input": [
      "# Neben diesem einfachen Beispiel, gibt es auch komplexere Varianten.\n",
      "# Hier mit zwei Listen in i und j\n",
      "[ i + j for i in range(3) for j in range(10, 40, 10) ]"
     ],
     "language": "python",
     "metadata": {},
     "outputs": [
      {
       "metadata": {},
       "output_type": "pyout",
       "prompt_number": 19,
       "text": [
        "[10, 20, 30, 11, 21, 31, 12, 22, 32]"
       ]
      }
     ],
     "prompt_number": 19
    },
    {
     "cell_type": "code",
     "collapsed": false,
     "input": [
      "# Eine nachgestellte Bedingung an die Laufvariable\n",
      "[ k for k in range(-10, 10) if k > 3]"
     ],
     "language": "python",
     "metadata": {},
     "outputs": [
      {
       "metadata": {},
       "output_type": "pyout",
       "prompt_number": 21,
       "text": [
        "[4, 5, 6, 7, 8, 9]"
       ]
      }
     ],
     "prompt_number": 21
    },
    {
     "cell_type": "code",
     "collapsed": false,
     "input": [
      "# Die Listen k\u00f6nnen beliebig sein\n",
      "temps = [-10.1, -11.2, -8.5, -7.1, -6.0]\n",
      "[ temp**2 for temp in temps if temp > -8]"
     ],
     "language": "python",
     "metadata": {},
     "outputs": [
      {
       "metadata": {},
       "output_type": "pyout",
       "prompt_number": 22,
       "text": [
        "[50.41, 36.0]"
       ]
      }
     ],
     "prompt_number": 22
    },
    {
     "cell_type": "markdown",
     "metadata": {},
     "source": [
      "**Bemerkung**: Das coole an list comprehensions ist, dass deren Ergebnis wieder eine Liste ist.\n",
      "Daher ist es nicht ungew\u00f6hnlich, verschachtelte list comprehensions anzutreffen!"
     ]
    },
    {
     "cell_type": "code",
     "collapsed": false,
     "input": [
      "# Die 10x10 Multiplikationstabelle ist schnell erzeugt\n",
      "[ [i*j for j in range(1,11)] for i in range(1,11)]"
     ],
     "language": "python",
     "metadata": {},
     "outputs": [
      {
       "metadata": {},
       "output_type": "pyout",
       "prompt_number": 46,
       "text": [
        "[[1, 2, 3, 4, 5, 6, 7, 8, 9, 10],\n",
        " [2, 4, 6, 8, 10, 12, 14, 16, 18, 20],\n",
        " [3, 6, 9, 12, 15, 18, 21, 24, 27, 30],\n",
        " [4, 8, 12, 16, 20, 24, 28, 32, 36, 40],\n",
        " [5, 10, 15, 20, 25, 30, 35, 40, 45, 50],\n",
        " [6, 12, 18, 24, 30, 36, 42, 48, 54, 60],\n",
        " [7, 14, 21, 28, 35, 42, 49, 56, 63, 70],\n",
        " [8, 16, 24, 32, 40, 48, 56, 64, 72, 80],\n",
        " [9, 18, 27, 36, 45, 54, 63, 72, 81, 90],\n",
        " [10, 20, 30, 40, 50, 60, 70, 80, 90, 100]]"
       ]
      }
     ],
     "prompt_number": 46
    },
    {
     "cell_type": "code",
     "collapsed": false,
     "input": [
      "# bzw. mit einer weiteren Bedingung in der inneren list comprehension\n",
      "[[i*j for j in range(1,11) if i-j > -1] for i in range(1,11)]"
     ],
     "language": "python",
     "metadata": {},
     "outputs": [
      {
       "metadata": {},
       "output_type": "pyout",
       "prompt_number": 45,
       "text": [
        "[[1],\n",
        " [2, 4],\n",
        " [3, 6, 9],\n",
        " [4, 8, 12, 16],\n",
        " [5, 10, 15, 20, 25],\n",
        " [6, 12, 18, 24, 30, 36],\n",
        " [7, 14, 21, 28, 35, 42, 49],\n",
        " [8, 16, 24, 32, 40, 48, 56, 64],\n",
        " [9, 18, 27, 36, 45, 54, 63, 72, 81],\n",
        " [10, 20, 30, 40, 50, 60, 70, 80, 90, 100]]"
       ]
      }
     ],
     "prompt_number": 45
    },
    {
     "cell_type": "code",
     "collapsed": false,
     "input": [],
     "language": "python",
     "metadata": {},
     "outputs": []
    }
   ],
   "metadata": {}
  }
 ]
}
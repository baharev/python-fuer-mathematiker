{
 "metadata": {
  "name": "",
  "signature": "sha256:2fa79691c881cf2be070369bb5eebe2c1fbd4f77b61cd699e726d1039d0cca3d"
 },
 "nbformat": 3,
 "nbformat_minor": 0,
 "worksheets": [
  {
   "cells": [
    {
     "cell_type": "markdown",
     "metadata": {},
     "source": [
      "[INDEX](00-index.ipynb)"
     ]
    },
    {
     "cell_type": "markdown",
     "metadata": {},
     "source": [
      "# Statistik\n",
      "\n",
      "Dieses Kapitel umfasst die grafische Darstellung und Analyse von empirischen Daten."
     ]
    },
    {
     "cell_type": "code",
     "collapsed": false,
     "input": [],
     "language": "python",
     "metadata": {},
     "outputs": []
    }
   ],
   "metadata": {}
  }
 ]
}
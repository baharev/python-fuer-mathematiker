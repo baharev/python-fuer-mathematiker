{
 "metadata": {
  "name": "",
  "signature": "sha256:bd608b94c9f7aa1db04635b0128a78e0fbc9973bdb38b3127bf3fb9408388462"
 },
 "nbformat": 3,
 "nbformat_minor": 0,
 "worksheets": [
  {
   "cells": [
    {
     "cell_type": "markdown",
     "metadata": {},
     "source": [
      "# Statistik\n",
      "\n",
      "Dieses Kapitel umfasst die grafische Darstellung und Analyse von empirischen Daten."
     ]
    },
    {
     "cell_type": "markdown",
     "metadata": {},
     "source": [
      "## Abz\u00e4hlstatistiken\n",
      "\n",
      "Mittels der Klasse [`Counter` in den `collections`](https://docs.python.org/2/library/collections.html#collections.Counter)\n",
      "([Counter in Python 3](https://docs.python.org/3/library/collections.html#collections.Counter)) k\u00f6nnen Listen abgez\u00e4hlt werden."
     ]
    },
    {
     "cell_type": "code",
     "collapsed": false,
     "input": [
      "from collections import Counter\n",
      "from random import randint"
     ],
     "language": "python",
     "metadata": {},
     "outputs": [],
     "prompt_number": 1
    },
    {
     "cell_type": "markdown",
     "metadata": {},
     "source": [
      "Multipliziere 10000 mal zwei zuf\u00e4llig von 1 bis 4 gew\u00e4hlte Ganze Zahlen.\n",
      "Welche H\u00e4ufigkeiten gibt es und was sind die drei h\u00e4ufigsten Zahlen?"
     ]
    },
    {
     "cell_type": "code",
     "collapsed": false,
     "input": [
      "numbers = [randint(1, 4) * randint(1, 4) for i in range(10000)]\n",
      "c = Counter(numbers)\n",
      "c"
     ],
     "language": "python",
     "metadata": {},
     "outputs": [
      {
       "metadata": {},
       "output_type": "pyout",
       "prompt_number": 2,
       "text": [
        "Counter({4: 1839, 2: 1297, 12: 1285, 3: 1242, 6: 1230, 8: 1224, 1: 668, 9: 616, 16: 599})"
       ]
      }
     ],
     "prompt_number": 2
    },
    {
     "cell_type": "code",
     "collapsed": false,
     "input": [
      "c.most_common(3)"
     ],
     "language": "python",
     "metadata": {},
     "outputs": [
      {
       "metadata": {},
       "output_type": "pyout",
       "prompt_number": 3,
       "text": [
        "[(4, 1839), (2, 1297), (12, 1285)]"
       ]
      }
     ],
     "prompt_number": 3
    },
    {
     "cell_type": "markdown",
     "metadata": {},
     "source": [
      "Einfaches Balkendiagramm, mit Skalierung.\n",
      "Beachte, dass einige Zahlen \u00fcberhaupt nicht vorkommen.\n",
      "\n",
      "**Frage**: warum kommt die 4 am h\u00e4ufigsten vor?"
     ]
    },
    {
     "cell_type": "code",
     "collapsed": false,
     "input": [
      "for i in range(1, 17):\n",
      "    print(\"%2d: \" % i + \"-\" * (c[i]/30))"
     ],
     "language": "python",
     "metadata": {},
     "outputs": [
      {
       "output_type": "stream",
       "stream": "stdout",
       "text": [
        " 1: ----------------------\n",
        " 2: -------------------------------------------\n",
        " 3: -----------------------------------------\n",
        " 4: -------------------------------------------------------------\n",
        " 5: \n",
        " 6: -----------------------------------------\n",
        " 7: \n",
        " 8: ----------------------------------------\n",
        " 9: --------------------\n",
        "10: \n",
        "11: \n",
        "12: ------------------------------------------\n",
        "13: \n",
        "14: \n",
        "15: \n",
        "16: -------------------\n"
       ]
      }
     ],
     "prompt_number": 5
    },
    {
     "cell_type": "code",
     "collapsed": false,
     "input": [],
     "language": "python",
     "metadata": {},
     "outputs": [],
     "prompt_number": 4
    },
    {
     "cell_type": "code",
     "collapsed": false,
     "input": [],
     "language": "python",
     "metadata": {},
     "outputs": [],
     "prompt_number": 4
    }
   ],
   "metadata": {}
  }
 ]
}
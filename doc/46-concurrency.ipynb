{
 "metadata": {
  "name": "",
  "signature": "sha256:c42b51ac580dbdf26c86c85472ae7465aabb2a6b3fa27f14ce752e864f36f216"
 },
 "nbformat": 3,
 "nbformat_minor": 0,
 "worksheets": [
  {
   "cells": [
    {
     "cell_type": "heading",
     "level": 1,
     "metadata": {},
     "source": [
      "Co-routinen, Threads & Subprozesse"
     ]
    },
    {
     "cell_type": "heading",
     "level": 2,
     "metadata": {},
     "source": [
      "(Concurrent Programming)"
     ]
    },
    {
     "cell_type": "markdown",
     "metadata": {},
     "source": [
      "Das Konzept ***\"concurrent programming\"*** ist eine Sammlung von Techniken,\n",
      "um innerhalb eines Programmes mehrere Aufgaben unabh\u00e4ngig -- oder fast unabh\u00e4ngig -- voneiner bearbeiten zu k\u00f6nnen.\n",
      "Auf entsprechenden Machinen, bzw. in einem Verbund von Computern, k\u00f6nnen diese Aufgaben wenn m\u00f6glich auch gleichzeitig ausgef\u00fchrt werden - das nennt sich ***\"parallel computing\"***.\n",
      "\n",
      "* [Concurrent Computing](http://en.wikipedia.org/wiki/Concurrent_computing)\n",
      "* [Parallel Computing](http://en.wikipedia.org/wiki/Parallel_computing)"
     ]
    },
    {
     "cell_type": "code",
     "collapsed": false,
     "input": [],
     "language": "python",
     "metadata": {},
     "outputs": []
    }
   ],
   "metadata": {}
  }
 ]
}
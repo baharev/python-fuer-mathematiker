{
 "metadata": {
  "name": "",
  "signature": "sha256:c7d38226cab5a9366940c581a1849e566c6b5639e23e41b422ecea904c3ec7e1"
 },
 "nbformat": 3,
 "nbformat_minor": 0,
 "worksheets": [
  {
   "cells": [
    {
     "cell_type": "heading",
     "level": 1,
     "metadata": {},
     "source": [
      "Co-routinen, Threads & Subprozesse"
     ]
    },
    {
     "cell_type": "heading",
     "level": 2,
     "metadata": {},
     "source": [
      "(Concurrent Programming)"
     ]
    },
    {
     "cell_type": "markdown",
     "metadata": {},
     "source": [
      "Das Konzept ***\"concurrent programming\"*** ist eine Sammlung von Techniken,\n",
      "um innerhalb eines Programmes mehrere Aufgaben unabh\u00e4ngig -- oder fast unabh\u00e4ngig -- voneiner bearbeiten zu k\u00f6nnen.\n",
      "Auf entsprechenden Machinen, bzw. in einem Verbund von Computern, k\u00f6nnen diese Aufgaben wenn m\u00f6glich auch gleichzeitig ausgef\u00fchrt werden - das nennt sich ***\"parallel computing\"***.\n",
      "\n",
      "* [Concurrent Computing](http://en.wikipedia.org/wiki/Concurrent_computing)\n",
      "* [Parallel Computing](http://en.wikipedia.org/wiki/Parallel_computing)"
     ]
    },
    {
     "cell_type": "code",
     "collapsed": false,
     "input": [],
     "language": "python",
     "metadata": {},
     "outputs": [],
     "prompt_number": 0
    },
    {
     "cell_type": "code",
     "collapsed": false,
     "input": [],
     "language": "python",
     "metadata": {},
     "outputs": [],
     "prompt_number": 0
    },
    {
     "cell_type": "code",
     "collapsed": false,
     "input": [],
     "language": "python",
     "metadata": {},
     "outputs": [],
     "prompt_number": 0
    },
    {
     "cell_type": "code",
     "collapsed": false,
     "input": [
      "from threading import Thread\n",
      "from Queue import Queue"
     ],
     "language": "python",
     "metadata": {},
     "outputs": [],
     "prompt_number": 6
    },
    {
     "cell_type": "code",
     "collapsed": false,
     "input": [
      "def calculate(name, input_queue, return_queue):\n",
      "    sum = 0\n",
      "    while True:\n",
      "        c = input_queue.get()\n",
      "        print(\"working in \" + name)\n",
      "        if c < 0:\n",
      "            break\n",
      "        sum += c\n",
      "    return_queue.put(sum)\n",
      "    \n",
      "input_queue = Queue()\n",
      "return_queue = Queue()\n",
      "\n",
      "t1 = Thread(target=calculate, args=(\"T1\", input_queue, return_queue))\n",
      "t2 = Thread(target=calculate, args=(\"T2\", input_queue, return_queue))\n",
      "\n",
      "t1.start()\n",
      "t2.start()\n",
      "\n",
      "for k in range(99999, 99999+20):\n",
      "    input_queue.put(k)\n",
      "\n",
      "input_queue.put(-1)\n",
      "input_queue.put(-1)"
     ],
     "language": "python",
     "metadata": {},
     "outputs": [
      {
       "output_type": "stream",
       "stream": "stdout",
       "text": [
        "working in T1\n",
        "working in T2\n",
        "working in T1\n",
        "working in T2\n",
        "working in T1\n",
        "working in T2\n",
        " working in T2working in T1\n",
        "\n",
        "working in T2working in T1\n",
        "\n",
        "working in T2working in T1\n",
        "\n",
        "working in T2\n",
        "working in T1\n",
        "working in T2\n",
        "working in T1working in T2\n"
       ]
      },
      {
       "output_type": "stream",
       "stream": "stdout",
       "text": [
        "\n",
        "working in T2\n",
        "working in T1\n",
        "working in T2\n",
        "working in T1\n",
        "working in T2\n",
        "working in T1\n",
        "working in T2\n"
       ]
      }
     ],
     "prompt_number": 15
    },
    {
     "cell_type": "code",
     "collapsed": false,
     "input": [],
     "language": "python",
     "metadata": {},
     "outputs": []
    }
   ],
   "metadata": {}
  }
 ]
}
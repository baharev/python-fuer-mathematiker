{
 "metadata": {
  "name": "",
  "signature": "sha256:48554eca84ee112d469a2bb0c4e9d7f6bf3ca7dd81a87186557673dbe3b2f5a9"
 },
 "nbformat": 3,
 "nbformat_minor": 0,
 "worksheets": [
  {
   "cells": [
    {
     "cell_type": "markdown",
     "metadata": {},
     "source": [
      "[INDEX](00-index.ipynb)"
     ]
    },
    {
     "cell_type": "markdown",
     "metadata": {},
     "source": [
      "# Mathematisches Rechnen"
     ]
    },
    {
     "cell_type": "markdown",
     "metadata": {},
     "source": [
      "Dieses Kaptiel widmet sich mathematischen Anwendungen aus verschiedensten Gebieten."
     ]
    },
    {
     "cell_type": "code",
     "collapsed": false,
     "input": [],
     "language": "python",
     "metadata": {},
     "outputs": []
    }
   ],
   "metadata": {}
  }
 ]
}
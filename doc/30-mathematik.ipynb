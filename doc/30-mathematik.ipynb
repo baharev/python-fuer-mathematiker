{
 "metadata": {
  "name": "",
  "signature": "sha256:a4c9f398690d94626ab42069e62267ea0b840773369132a725f93592a6b9fd07"
 },
 "nbformat": 3,
 "nbformat_minor": 0,
 "worksheets": [
  {
   "cells": [
    {
     "cell_type": "markdown",
     "metadata": {},
     "source": [
      "[INDEX](00-index.ipynb)"
     ]
    },
    {
     "cell_type": "markdown",
     "metadata": {},
     "source": [
      "# Mathematisches Rechnen"
     ]
    },
    {
     "cell_type": "markdown",
     "metadata": {},
     "source": [
      "Der besondere Fokus dieser \u00dcbersicht ist die Mathematik.\n",
      "Dieses Kaptiel widmet sich mathematischen Anwendungen aus verschiedensten Gebieten.\n",
      "Dabei wird insbesondere anhand konkreter Beispiele die \u00dcbersetzungen von theoretischen Algorithmen und Strukturen\n",
      "in den Kontext kleiner Programme in Python gezeigt.\n",
      "Es werden einerseits einfache in Python geschriebene Programme,\n",
      "und andererseits mehrere n\u00fctzliche Bibliotheken vorgestellt."
     ]
    },
    {
     "cell_type": "code",
     "collapsed": false,
     "input": [],
     "language": "python",
     "metadata": {},
     "outputs": []
    }
   ],
   "metadata": {}
  }
 ]
}
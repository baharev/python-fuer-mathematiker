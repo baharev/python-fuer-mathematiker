{
 "metadata": {
  "name": "",
  "signature": "sha256:58e3abfee21fc65d6ed6cd34efe8633e6722d0e2ce7a175be1fe39750c8f5ff1"
 },
 "nbformat": 3,
 "nbformat_minor": 0,
 "worksheets": [
  {
   "cells": [
    {
     "cell_type": "markdown",
     "metadata": {},
     "source": [
      "# Numerisches Rechnen mit NumPy/SciPy\n",
      "\n",
      "Eine Variable kann als Wert mehr als nur einen Skalar beinhalten.\n",
      "Der Schritt zu Vektoren, Matrizen und Tensoren \u00f6ffnet T\u00fcr und Tor um numerische Berechnungen ausdr\u00fccken zu k\u00f6nnen.\n",
      "Die Programmbibliothek [NumPy](http://docs.scipy.org/doc/numpy/user/index.html) liefert mit `numpy.ndarray` einen Rang-n Tensor,\n",
      "der effizientes rechnen mit Vektoren und Matritzen erlaubt.\n",
      "\n",
      "All diesen Berechnungen auf Basis dieses `np.ndarray` ist gemeinsam,\n",
      "dass sie dank der Vektorisierung viel effizienter ablaufen.\n",
      "F\u00fcr performanten (und h\u00e4ufig auch besser lesbaren) Code ist es daher immer notwendig,\n",
      "auf diese Operationen zur\u00fcckzugreifen -- auch wenn sie anfangs etwas verwirrend sein m\u00f6gen `:-)`"
     ]
    },
    {
     "cell_type": "markdown",
     "metadata": {},
     "source": [
      "Die Bibliothek `numpy` wird \u00fcblicherweise immer mit dem Kurznamen Alias `np` importiert:"
     ]
    },
    {
     "cell_type": "code",
     "collapsed": false,
     "input": [
      "import numpy as np"
     ],
     "language": "python",
     "metadata": {},
     "outputs": [],
     "prompt_number": 1
    },
    {
     "cell_type": "markdown",
     "metadata": {},
     "source": [
      "## Vektoren und Matritzen"
     ]
    },
    {
     "cell_type": "markdown",
     "metadata": {},
     "source": [
      "**Beispiel**: Die Variablen $v$ und $w$ soll hier einen Vektor aus $\\mathbb{R}^3$ repr\u00e4sentieren.\n",
      "Die Addition und Multiplikation werden elementweise durchgef\u00fchrt,\n",
      "w\u00e4hrend `.dot()` das Skalarprodukt (engl. dot product) durchf\u00fchrt.\n",
      "\n",
      "\\begin{equation}\n",
      "\\begin{aligned}\n",
      "\\texttt{v + w} &= \\left[ v_i + w_i \\right]_i \\\\\n",
      "\\texttt{v * w} &= \\left[ v_i \\cdot w_i \\right]_i \\\\\n",
      "\\texttt{v.dot(w)} &= \\sum_i v_i*w_i \\\\\n",
      "\\text{f\u00fcr} \\quad & v,\\,w\\;\\in\\;\\mathbb{R}^3\n",
      "\\end{aligned}\n",
      "\\end{equation}\n",
      "\n",
      "Jetzt definieren wir $v$ und $w$, wobei $v = (4,\\,3,\\,-1)$ sein soll und $w$ ein zuf\u00e4llig gew\u00e4hlter Vektor.\n",
      "Dann f\u00fchren wir die Berechnungen durch. "
     ]
    },
    {
     "cell_type": "code",
     "collapsed": false,
     "input": [
      "v = np.array([4,3,-1])\n",
      "w = np.random.rand(3)"
     ],
     "language": "python",
     "metadata": {},
     "outputs": [],
     "prompt_number": 2
    },
    {
     "cell_type": "code",
     "collapsed": false,
     "input": [
      "v"
     ],
     "language": "python",
     "metadata": {},
     "outputs": [
      {
       "metadata": {},
       "output_type": "pyout",
       "prompt_number": 3,
       "text": [
        "array([ 4,  3, -1])"
       ]
      }
     ],
     "prompt_number": 3
    },
    {
     "cell_type": "code",
     "collapsed": false,
     "input": [
      "w"
     ],
     "language": "python",
     "metadata": {},
     "outputs": [
      {
       "metadata": {},
       "output_type": "pyout",
       "prompt_number": 4,
       "text": [
        "array([ 0.54487339,  0.68192372,  0.11945565])"
       ]
      }
     ],
     "prompt_number": 4
    },
    {
     "cell_type": "code",
     "collapsed": false,
     "input": [
      "v + w"
     ],
     "language": "python",
     "metadata": {},
     "outputs": [
      {
       "metadata": {},
       "output_type": "pyout",
       "prompt_number": 5,
       "text": [
        "array([ 4.54487339,  3.68192372, -0.88054435])"
       ]
      }
     ],
     "prompt_number": 5
    },
    {
     "cell_type": "code",
     "collapsed": false,
     "input": [
      "v - w"
     ],
     "language": "python",
     "metadata": {},
     "outputs": [
      {
       "metadata": {},
       "output_type": "pyout",
       "prompt_number": 6,
       "text": [
        "array([ 3.45512661,  2.31807628, -1.11945565])"
       ]
      }
     ],
     "prompt_number": 6
    },
    {
     "cell_type": "code",
     "collapsed": false,
     "input": [
      "v * w"
     ],
     "language": "python",
     "metadata": {},
     "outputs": [
      {
       "metadata": {},
       "output_type": "pyout",
       "prompt_number": 7,
       "text": [
        "array([ 2.17949355,  2.04577117, -0.11945565])"
       ]
      }
     ],
     "prompt_number": 7
    },
    {
     "cell_type": "markdown",
     "metadata": {},
     "source": [
      "Das (generalisierte) Skalarprodukt von $v$ und $w$"
     ]
    },
    {
     "cell_type": "code",
     "collapsed": false,
     "input": [
      "v.dot(w)"
     ],
     "language": "python",
     "metadata": {},
     "outputs": [
      {
       "metadata": {},
       "output_type": "pyout",
       "prompt_number": 8,
       "text": [
        "4.1058090694632829"
       ]
      }
     ],
     "prompt_number": 8
    },
    {
     "cell_type": "markdown",
     "metadata": {},
     "source": [
      "### Matritzen (n-dim arrays)\n",
      "\n",
      "Neben diesen Grundoperationen, werden alle NumPy-spezifischen Funktionen automatisch \u00fcber tensor-wertige Argumente ausgef\u00fchrt.\n",
      "Das hei\u00dft beispielsweise,\n",
      "dass die $\\sin$-Funktion \u00fcber einen Vektor $x := (1,2,3)$ ergibt wieder einen Vektor,\n",
      "dessen Eintr\u00e4ge die numerischen Werte von $(\\sin(1),\\,\\sin(2),\\,\\sin(3))$ beinhalten."
     ]
    },
    {
     "cell_type": "code",
     "collapsed": false,
     "input": [
      "x = np.array([1,2,3])\n",
      "np.sin(x)"
     ],
     "language": "python",
     "metadata": {},
     "outputs": [
      {
       "metadata": {},
       "output_type": "pyout",
       "prompt_number": 9,
       "text": [
        "array([ 0.84147098,  0.90929743,  0.14112001])"
       ]
      }
     ],
     "prompt_number": 9
    },
    {
     "cell_type": "code",
     "collapsed": false,
     "input": [
      "m = np.array([[ 1,-2, 3, 8],\n",
      "              [ 4, 6, 9,-9],\n",
      "              [-1, 0, 5, 2],\n",
      "              [11,13,15,16]])\n",
      "m"
     ],
     "language": "python",
     "metadata": {},
     "outputs": [
      {
       "metadata": {},
       "output_type": "pyout",
       "prompt_number": 10,
       "text": [
        "array([[ 1, -2,  3,  8],\n",
        "       [ 4,  6,  9, -9],\n",
        "       [-1,  0,  5,  2],\n",
        "       [11, 13, 15, 16]])"
       ]
      }
     ],
     "prompt_number": 10
    },
    {
     "cell_type": "code",
     "collapsed": false,
     "input": [
      "np.cos(m)"
     ],
     "language": "python",
     "metadata": {},
     "outputs": [
      {
       "metadata": {},
       "output_type": "pyout",
       "prompt_number": 11,
       "text": [
        "array([[ 0.54030231, -0.41614684, -0.9899925 , -0.14550003],\n",
        "       [-0.65364362,  0.96017029, -0.91113026, -0.91113026],\n",
        "       [ 0.54030231,  1.        ,  0.28366219, -0.41614684],\n",
        "       [ 0.0044257 ,  0.90744678, -0.75968791, -0.95765948]])"
       ]
      }
     ],
     "prompt_number": 11
    },
    {
     "cell_type": "markdown",
     "metadata": {},
     "source": [
      "### Extrahieren einzelner Spalten/Zeilen und Elemente\n",
      "\n",
      "Der `:` steht hierbei f\u00fcr die gesamte Spalte, `n:m` f\u00fcr ein Intervall, wobei `n` oder `m` weggelassen werden kann. Negative Werte werden vom Ende weg gez\u00e4hlt."
     ]
    },
    {
     "cell_type": "code",
     "collapsed": false,
     "input": [
      "m"
     ],
     "language": "python",
     "metadata": {},
     "outputs": [
      {
       "metadata": {},
       "output_type": "pyout",
       "prompt_number": 12,
       "text": [
        "array([[ 1, -2,  3,  8],\n",
        "       [ 4,  6,  9, -9],\n",
        "       [-1,  0,  5,  2],\n",
        "       [11, 13, 15, 16]])"
       ]
      }
     ],
     "prompt_number": 12
    },
    {
     "cell_type": "code",
     "collapsed": false,
     "input": [
      "m[:, 0]"
     ],
     "language": "python",
     "metadata": {},
     "outputs": [
      {
       "metadata": {},
       "output_type": "pyout",
       "prompt_number": 13,
       "text": [
        "array([ 1,  4, -1, 11])"
       ]
      }
     ],
     "prompt_number": 13
    },
    {
     "cell_type": "code",
     "collapsed": false,
     "input": [
      "m[1, :]"
     ],
     "language": "python",
     "metadata": {},
     "outputs": [
      {
       "metadata": {},
       "output_type": "pyout",
       "prompt_number": 14,
       "text": [
        "array([ 4,  6,  9, -9])"
       ]
      }
     ],
     "prompt_number": 14
    },
    {
     "cell_type": "code",
     "collapsed": false,
     "input": [
      "m[2, 2]"
     ],
     "language": "python",
     "metadata": {},
     "outputs": [
      {
       "metadata": {},
       "output_type": "pyout",
       "prompt_number": 15,
       "text": [
        "5"
       ]
      }
     ],
     "prompt_number": 15
    },
    {
     "cell_type": "code",
     "collapsed": false,
     "input": [
      "m[:, -1]"
     ],
     "language": "python",
     "metadata": {},
     "outputs": [
      {
       "metadata": {},
       "output_type": "pyout",
       "prompt_number": 16,
       "text": [
        "array([ 8, -9,  2, 16])"
       ]
      }
     ],
     "prompt_number": 16
    },
    {
     "cell_type": "code",
     "collapsed": false,
     "input": [
      "m[2, [0, 2]]"
     ],
     "language": "python",
     "metadata": {},
     "outputs": [
      {
       "metadata": {},
       "output_type": "pyout",
       "prompt_number": 17,
       "text": [
        "array([-1,  5])"
       ]
      }
     ],
     "prompt_number": 17
    },
    {
     "cell_type": "code",
     "collapsed": false,
     "input": [
      "m[-1:]"
     ],
     "language": "python",
     "metadata": {},
     "outputs": [
      {
       "metadata": {},
       "output_type": "pyout",
       "prompt_number": 18,
       "text": [
        "array([[11, 13, 15, 16]])"
       ]
      }
     ],
     "prompt_number": 18
    },
    {
     "cell_type": "code",
     "collapsed": false,
     "input": [
      "m[:-1, :-2]"
     ],
     "language": "python",
     "metadata": {},
     "outputs": [
      {
       "metadata": {},
       "output_type": "pyout",
       "prompt_number": 19,
       "text": [
        "array([[ 1, -2],\n",
        "       [ 4,  6],\n",
        "       [-1,  0]])"
       ]
      }
     ],
     "prompt_number": 19
    },
    {
     "cell_type": "markdown",
     "metadata": {},
     "source": [
      "Die `.diagonal()` Funktion gibt die Diagonalelemente zur\u00fcck."
     ]
    },
    {
     "cell_type": "code",
     "collapsed": false,
     "input": [
      "m.diagonal()"
     ],
     "language": "python",
     "metadata": {},
     "outputs": [
      {
       "metadata": {},
       "output_type": "pyout",
       "prompt_number": 20,
       "text": [
        "array([ 1,  6,  5, 16])"
       ]
      }
     ],
     "prompt_number": 20
    },
    {
     "cell_type": "markdown",
     "metadata": {},
     "source": [
      "Ein doppelter Doppelpunkt `::` gibt f\u00fcr ein `n:m` Intervall zus\u00e4tzlich eine Schrittweite an."
     ]
    },
    {
     "cell_type": "code",
     "collapsed": false,
     "input": [
      "m[::2, :]"
     ],
     "language": "python",
     "metadata": {},
     "outputs": [
      {
       "metadata": {},
       "output_type": "pyout",
       "prompt_number": 21,
       "text": [
        "array([[ 1, -2,  3,  8],\n",
        "       [-1,  0,  5,  2]])"
       ]
      }
     ],
     "prompt_number": 21
    },
    {
     "cell_type": "markdown",
     "metadata": {},
     "source": [
      "Die Schrittweite kann auch negativ sein, z.B. zum Umdrehen der Richtung:"
     ]
    },
    {
     "cell_type": "code",
     "collapsed": false,
     "input": [
      "m[:, ::-1]"
     ],
     "language": "python",
     "metadata": {},
     "outputs": [
      {
       "metadata": {},
       "output_type": "pyout",
       "prompt_number": 22,
       "text": [
        "array([[ 8,  3, -2,  1],\n",
        "       [-9,  9,  6,  4],\n",
        "       [ 2,  5,  0, -1],\n",
        "       [16, 15, 13, 11]])"
       ]
      }
     ],
     "prompt_number": 22
    },
    {
     "cell_type": "markdown",
     "metadata": {},
     "source": [
      "### Transponieren"
     ]
    },
    {
     "cell_type": "code",
     "collapsed": false,
     "input": [
      "m.T"
     ],
     "language": "python",
     "metadata": {},
     "outputs": [
      {
       "metadata": {},
       "output_type": "pyout",
       "prompt_number": 23,
       "text": [
        "array([[ 1,  4, -1, 11],\n",
        "       [-2,  6,  0, 13],\n",
        "       [ 3,  9,  5, 15],\n",
        "       [ 8, -9,  2, 16]])"
       ]
      }
     ],
     "prompt_number": 23
    },
    {
     "cell_type": "markdown",
     "metadata": {},
     "source": [
      "#### Skalarprodukt zweier Spalten"
     ]
    },
    {
     "cell_type": "code",
     "collapsed": false,
     "input": [
      "m[:, 0].dot(m[:, 1])"
     ],
     "language": "python",
     "metadata": {},
     "outputs": [
      {
       "metadata": {},
       "output_type": "pyout",
       "prompt_number": 24,
       "text": [
        "165"
       ]
      }
     ],
     "prompt_number": 24
    },
    {
     "cell_type": "code",
     "collapsed": false,
     "input": [
      "m.diagonal()"
     ],
     "language": "python",
     "metadata": {},
     "outputs": [
      {
       "metadata": {},
       "output_type": "pyout",
       "prompt_number": 25,
       "text": [
        "array([ 1,  6,  5, 16])"
       ]
      }
     ],
     "prompt_number": 25
    },
    {
     "cell_type": "markdown",
     "metadata": {},
     "source": [
      "### Generieren von Vektoren/Matritzen\n",
      "\n",
      "Dar\u00fcber hinaus gibt es einige hilfreiche Funktionen,\n",
      "die das erzeugen von Punkten und eine Auswertung \u00fcber einen Raster erm\u00f6glichen."
     ]
    },
    {
     "cell_type": "markdown",
     "metadata": {},
     "source": [
      "`np.arange` ist \u00e4hnlich wie Python's `range` Funktion,\n",
      "liefert jedoch gleich `np.ndarray` Vektoren zur\u00fcck."
     ]
    },
    {
     "cell_type": "code",
     "collapsed": false,
     "input": [
      "np.arange(1, 5, .5)"
     ],
     "language": "python",
     "metadata": {},
     "outputs": [
      {
       "metadata": {},
       "output_type": "pyout",
       "prompt_number": 26,
       "text": [
        "array([ 1. ,  1.5,  2. ,  2.5,  3. ,  3.5,  4. ,  4.5])"
       ]
      }
     ],
     "prompt_number": 26
    },
    {
     "cell_type": "markdown",
     "metadata": {},
     "source": [
      "10 equally spaced points from 0 to 1"
     ]
    },
    {
     "cell_type": "code",
     "collapsed": false,
     "input": [
      "np.linspace(0, 1, 10)"
     ],
     "language": "python",
     "metadata": {},
     "outputs": [
      {
       "metadata": {},
       "output_type": "pyout",
       "prompt_number": 27,
       "text": [
        "array([ 0.        ,  0.11111111,  0.22222222,  0.33333333,  0.44444444,\n",
        "        0.55555556,  0.66666667,  0.77777778,  0.88888889,  1.        ])"
       ]
      }
     ],
     "prompt_number": 27
    },
    {
     "cell_type": "markdown",
     "metadata": {},
     "source": [
      "10 equally spaced points on a logarithmic scale from base^1 to base^2 with base = 10"
     ]
    },
    {
     "cell_type": "code",
     "collapsed": false,
     "input": [
      "np.logspace(1, 2, 10, base=10)"
     ],
     "language": "python",
     "metadata": {},
     "outputs": [
      {
       "metadata": {},
       "output_type": "pyout",
       "prompt_number": 28,
       "text": [
        "array([  10.        ,   12.91549665,   16.68100537,   21.5443469 ,\n",
        "         27.82559402,   35.93813664,   46.41588834,   59.94842503,\n",
        "         77.42636827,  100.        ])"
       ]
      }
     ],
     "prompt_number": 28
    },
    {
     "cell_type": "markdown",
     "metadata": {},
     "source": [
      "### Koordinatenmatritzen\n",
      "\n",
      "Zur Auswertung von Funktionen \u00fcber mehrere Achsen,\n",
      "welche aus zwei oder mehr Vektoren konstruiert werden."
     ]
    },
    {
     "cell_type": "code",
     "collapsed": false,
     "input": [
      "xx, yy = np.meshgrid([1, 2, 3], [0, 10, 20])\n",
      "xx"
     ],
     "language": "python",
     "metadata": {},
     "outputs": [
      {
       "metadata": {},
       "output_type": "pyout",
       "prompt_number": 29,
       "text": [
        "array([[1, 2, 3],\n",
        "       [1, 2, 3],\n",
        "       [1, 2, 3]])"
       ]
      }
     ],
     "prompt_number": 29
    },
    {
     "cell_type": "code",
     "collapsed": false,
     "input": [
      "yy"
     ],
     "language": "python",
     "metadata": {},
     "outputs": [
      {
       "metadata": {},
       "output_type": "pyout",
       "prompt_number": 30,
       "text": [
        "array([[ 0,  0,  0],\n",
        "       [10, 10, 10],\n",
        "       [20, 20, 20]])"
       ]
      }
     ],
     "prompt_number": 30
    },
    {
     "cell_type": "markdown",
     "metadata": {},
     "source": [
      "Dies ist zur Auswertung von mehrstellige Funktionen sehr praktisch:"
     ]
    },
    {
     "cell_type": "code",
     "collapsed": false,
     "input": [
      "1 + xx + 2 * yy"
     ],
     "language": "python",
     "metadata": {},
     "outputs": [
      {
       "metadata": {},
       "output_type": "pyout",
       "prompt_number": 31,
       "text": [
        "array([[ 2,  3,  4],\n",
        "       [22, 23, 24],\n",
        "       [42, 43, 44]])"
       ]
      }
     ],
     "prompt_number": 31
    },
    {
     "cell_type": "markdown",
     "metadata": {},
     "source": [
      "Indexmatrix"
     ]
    },
    {
     "cell_type": "code",
     "collapsed": false,
     "input": [
      "xx, yy = np.indices((3, 2))\n",
      "xx"
     ],
     "language": "python",
     "metadata": {},
     "outputs": [
      {
       "metadata": {},
       "output_type": "pyout",
       "prompt_number": 32,
       "text": [
        "array([[0, 0],\n",
        "       [1, 1],\n",
        "       [2, 2]])"
       ]
      }
     ],
     "prompt_number": 32
    },
    {
     "cell_type": "code",
     "collapsed": false,
     "input": [
      "yy"
     ],
     "language": "python",
     "metadata": {},
     "outputs": [
      {
       "metadata": {},
       "output_type": "pyout",
       "prompt_number": 33,
       "text": [
        "array([[0, 1],\n",
        "       [0, 1],\n",
        "       [0, 1]])"
       ]
      }
     ],
     "prompt_number": 33
    },
    {
     "cell_type": "markdown",
     "metadata": {},
     "source": [
      "### Shape\n",
      "\n",
      "Die Dimensionierung l\u00e4sst sich jederzeit \u00c4ndern,\n",
      "es muss nur die Anzahl der Elemente gleich bleiben."
     ]
    },
    {
     "cell_type": "code",
     "collapsed": false,
     "input": [
      "c = np.arange(25)\n",
      "c.shape = (5, 5)\n",
      "c"
     ],
     "language": "python",
     "metadata": {},
     "outputs": [
      {
       "metadata": {},
       "output_type": "pyout",
       "prompt_number": 34,
       "text": [
        "array([[ 0,  1,  2,  3,  4],\n",
        "       [ 5,  6,  7,  8,  9],\n",
        "       [10, 11, 12, 13, 14],\n",
        "       [15, 16, 17, 18, 19],\n",
        "       [20, 21, 22, 23, 24]])"
       ]
      }
     ],
     "prompt_number": 34
    },
    {
     "cell_type": "markdown",
     "metadata": {},
     "source": [
      "oder `array.reshape((tupel))`, wobei `-1` verwendet werden kann um die Dimensionierung automatisch anzupassen."
     ]
    },
    {
     "cell_type": "code",
     "collapsed": false,
     "input": [
      "c = np.arange(8)\n",
      "c = c.reshape((-1, 4))\n",
      "c"
     ],
     "language": "python",
     "metadata": {},
     "outputs": [
      {
       "metadata": {},
       "output_type": "pyout",
       "prompt_number": 35,
       "text": [
        "array([[0, 1, 2, 3],\n",
        "       [4, 5, 6, 7]])"
       ]
      }
     ],
     "prompt_number": 35
    },
    {
     "cell_type": "code",
     "collapsed": false,
     "input": [
      "c.shape"
     ],
     "language": "python",
     "metadata": {},
     "outputs": [
      {
       "metadata": {},
       "output_type": "pyout",
       "prompt_number": 36,
       "text": [
        "(2, 4)"
       ]
      }
     ],
     "prompt_number": 36
    },
    {
     "cell_type": "code",
     "collapsed": false,
     "input": [
      "c.shape = (2, 2, 2)\n",
      "c"
     ],
     "language": "python",
     "metadata": {},
     "outputs": [
      {
       "metadata": {},
       "output_type": "pyout",
       "prompt_number": 37,
       "text": [
        "array([[[0, 1],\n",
        "        [2, 3]],\n",
        "\n",
        "       [[4, 5],\n",
        "        [6, 7]]])"
       ]
      }
     ],
     "prompt_number": 37
    },
    {
     "cell_type": "code",
     "collapsed": false,
     "input": [
      "c.ndim"
     ],
     "language": "python",
     "metadata": {},
     "outputs": [
      {
       "metadata": {},
       "output_type": "pyout",
       "prompt_number": 38,
       "text": [
        "3"
       ]
      }
     ],
     "prompt_number": 38
    },
    {
     "cell_type": "markdown",
     "metadata": {},
     "source": [
      "### Einf\u00fcgen einer neuen Achse"
     ]
    },
    {
     "cell_type": "code",
     "collapsed": false,
     "input": [
      "c = np.arange(8).reshape((2, -1))\n",
      "c = c[:, np.newaxis]\n",
      "c"
     ],
     "language": "python",
     "metadata": {},
     "outputs": [
      {
       "metadata": {},
       "output_type": "pyout",
       "prompt_number": 39,
       "text": [
        "array([[[0, 1, 2, 3]],\n",
        "\n",
        "       [[4, 5, 6, 7]]])"
       ]
      }
     ],
     "prompt_number": 39
    },
    {
     "cell_type": "code",
     "collapsed": false,
     "input": [
      "c.shape"
     ],
     "language": "python",
     "metadata": {},
     "outputs": [
      {
       "metadata": {},
       "output_type": "pyout",
       "prompt_number": 40,
       "text": [
        "(2, 1, 4)"
       ]
      }
     ],
     "prompt_number": 40
    },
    {
     "cell_type": "code",
     "collapsed": false,
     "input": [
      "c.ndim"
     ],
     "language": "python",
     "metadata": {},
     "outputs": [
      {
       "metadata": {},
       "output_type": "pyout",
       "prompt_number": 41,
       "text": [
        "3"
       ]
      }
     ],
     "prompt_number": 41
    },
    {
     "cell_type": "markdown",
     "metadata": {},
     "source": [
      "### Zusammensetzen"
     ]
    },
    {
     "cell_type": "code",
     "collapsed": false,
     "input": [
      "a = np.arange(10)\n",
      "b = np.arange(100, 110)"
     ],
     "language": "python",
     "metadata": {},
     "outputs": [],
     "prompt_number": 42
    },
    {
     "cell_type": "markdown",
     "metadata": {},
     "source": [
      "Zeilenweise mit `r_` (f\u00fcr \"row\")"
     ]
    },
    {
     "cell_type": "code",
     "collapsed": false,
     "input": [
      "np.r_[a, b]"
     ],
     "language": "python",
     "metadata": {},
     "outputs": [
      {
       "metadata": {},
       "output_type": "pyout",
       "prompt_number": 43,
       "text": [
        "array([  0,   1,   2,   3,   4,   5,   6,   7,   8,   9, 100, 101, 102,\n",
        "       103, 104, 105, 106, 107, 108, 109])"
       ]
      }
     ],
     "prompt_number": 43
    },
    {
     "cell_type": "markdown",
     "metadata": {},
     "source": [
      "Spaltenweise mit `c_` (f\u00fcr \"column\")"
     ]
    },
    {
     "cell_type": "code",
     "collapsed": false,
     "input": [
      "np.c_[a, b, b]"
     ],
     "language": "python",
     "metadata": {},
     "outputs": [
      {
       "metadata": {},
       "output_type": "pyout",
       "prompt_number": 44,
       "text": [
        "array([[  0, 100, 100],\n",
        "       [  1, 101, 101],\n",
        "       [  2, 102, 102],\n",
        "       [  3, 103, 103],\n",
        "       [  4, 104, 104],\n",
        "       [  5, 105, 105],\n",
        "       [  6, 106, 106],\n",
        "       [  7, 107, 107],\n",
        "       [  8, 108, 108],\n",
        "       [  9, 109, 109]])"
       ]
      }
     ],
     "prompt_number": 44
    },
    {
     "cell_type": "markdown",
     "metadata": {},
     "source": [
      "### Broadcasting\n",
      "\n",
      "Eine der wichtigsten (und komplexeren) Techniken ist [\"Broadcasting\"](http://docs.scipy.org/doc/numpy/user/basics.broadcasting.html).\n",
      "Hierbei werden Skalare, Vektoren und Matritzen in Rechenoperationen gemischt.\n",
      "Das funktioniert so, dass im ersten Rang,\n",
      "die einem der Argumente fehlt, die entsprechenden Werte mehrfach wiederholt werden, sodass die Dimensionierung in dem Rang passt.\n",
      "\n",
      "Vereinfachtes Beispiel:\n",
      "Eine Addition des Vektors $[1,\\,2,\\,5]$ mit dem Skalar $10$ f\u00fchrt dazu, dass der Skalar intern wie ein $[10,\\,10,\\,10]$ Vektor behandelt wird und daher das Ergebnis $[11,\\,12,\\,15]$ ist."
     ]
    },
    {
     "cell_type": "code",
     "collapsed": false,
     "input": [
      "np.array([1,2,5]) + 10"
     ],
     "language": "python",
     "metadata": {},
     "outputs": [
      {
       "metadata": {},
       "output_type": "pyout",
       "prompt_number": 45,
       "text": [
        "array([11, 12, 15])"
       ]
      }
     ],
     "prompt_number": 45
    },
    {
     "cell_type": "markdown",
     "metadata": {},
     "source": [
      "oder Matrix + Vektor"
     ]
    },
    {
     "cell_type": "code",
     "collapsed": false,
     "input": [
      "a = np.arange(16).reshape((4, 4))\n",
      "a"
     ],
     "language": "python",
     "metadata": {},
     "outputs": [
      {
       "metadata": {},
       "output_type": "pyout",
       "prompt_number": 46,
       "text": [
        "array([[ 0,  1,  2,  3],\n",
        "       [ 4,  5,  6,  7],\n",
        "       [ 8,  9, 10, 11],\n",
        "       [12, 13, 14, 15]])"
       ]
      }
     ],
     "prompt_number": 46
    },
    {
     "cell_type": "code",
     "collapsed": false,
     "input": [
      "b = np.array([-1, 0, 10, 100])\n",
      "b"
     ],
     "language": "python",
     "metadata": {},
     "outputs": [
      {
       "metadata": {},
       "output_type": "pyout",
       "prompt_number": 47,
       "text": [
        "array([ -1,   0,  10, 100])"
       ]
      }
     ],
     "prompt_number": 47
    },
    {
     "cell_type": "code",
     "collapsed": false,
     "input": [
      "a + b"
     ],
     "language": "python",
     "metadata": {},
     "outputs": [
      {
       "metadata": {},
       "output_type": "pyout",
       "prompt_number": 48,
       "text": [
        "array([[ -1,   1,  12, 103],\n",
        "       [  3,   5,  16, 107],\n",
        "       [  7,   9,  20, 111],\n",
        "       [ 11,  13,  24, 115]])"
       ]
      }
     ],
     "prompt_number": 48
    },
    {
     "cell_type": "markdown",
     "metadata": {},
     "source": [
      "In Kombination mit `np.newaxis` lassen sich \"\u00e4u\u00dfere\" Operationen durchf\u00fchren:\n",
      "Hier wird ein Vektor zu einer 4x1-Matrix ver\u00e4ndert und dann addiert."
     ]
    },
    {
     "cell_type": "code",
     "collapsed": false,
     "input": [
      "a = np.arange(4)\n",
      "b = a[:, np.newaxis]\n",
      "b"
     ],
     "language": "python",
     "metadata": {},
     "outputs": [
      {
       "metadata": {},
       "output_type": "pyout",
       "prompt_number": 49,
       "text": [
        "array([[0],\n",
        "       [1],\n",
        "       [2],\n",
        "       [3]])"
       ]
      }
     ],
     "prompt_number": 49
    },
    {
     "cell_type": "code",
     "collapsed": false,
     "input": [
      "a + b"
     ],
     "language": "python",
     "metadata": {},
     "outputs": [
      {
       "metadata": {},
       "output_type": "pyout",
       "prompt_number": 50,
       "text": [
        "array([[0, 1, 2, 3],\n",
        "       [1, 2, 3, 4],\n",
        "       [2, 3, 4, 5],\n",
        "       [3, 4, 5, 6]])"
       ]
      }
     ],
     "prompt_number": 50
    },
    {
     "cell_type": "markdown",
     "metadata": {},
     "source": [
      "Multiplikation eines Tensors 3-ter Stufe mit einem Vektor"
     ]
    },
    {
     "cell_type": "code",
     "collapsed": false,
     "input": [
      "a = np.arange(8)\n",
      "a.shape = (2,2,2)\n",
      "a"
     ],
     "language": "python",
     "metadata": {},
     "outputs": [
      {
       "metadata": {},
       "output_type": "pyout",
       "prompt_number": 51,
       "text": [
        "array([[[0, 1],\n",
        "        [2, 3]],\n",
        "\n",
        "       [[4, 5],\n",
        "        [6, 7]]])"
       ]
      }
     ],
     "prompt_number": 51
    },
    {
     "cell_type": "code",
     "collapsed": false,
     "input": [
      "b = np.array([1,11])\n",
      "b"
     ],
     "language": "python",
     "metadata": {},
     "outputs": [
      {
       "metadata": {},
       "output_type": "pyout",
       "prompt_number": 52,
       "text": [
        "array([ 1, 11])"
       ]
      }
     ],
     "prompt_number": 52
    },
    {
     "cell_type": "code",
     "collapsed": false,
     "input": [
      "a * b"
     ],
     "language": "python",
     "metadata": {},
     "outputs": [
      {
       "metadata": {},
       "output_type": "pyout",
       "prompt_number": 53,
       "text": [
        "array([[[ 0, 11],\n",
        "        [ 2, 33]],\n",
        "\n",
        "       [[ 4, 55],\n",
        "        [ 6, 77]]])"
       ]
      }
     ],
     "prompt_number": 53
    },
    {
     "cell_type": "code",
     "collapsed": false,
     "input": [
      "a.dot(b)"
     ],
     "language": "python",
     "metadata": {},
     "outputs": [
      {
       "metadata": {},
       "output_type": "pyout",
       "prompt_number": 54,
       "text": [
        "array([[11, 35],\n",
        "       [59, 83]])"
       ]
      }
     ],
     "prompt_number": 54
    },
    {
     "cell_type": "markdown",
     "metadata": {},
     "source": [
      "## Methoden auf Arrays\n",
      "\n",
      "In der Praxis werden h\u00e4ufig Funktionen auf Vektoren oder Matrizen angewendet.\n",
      "Siehe auch [Numpy Routines](http://docs.scipy.org/doc/numpy/reference/routines.html)"
     ]
    },
    {
     "cell_type": "code",
     "collapsed": false,
     "input": [
      "m = np.array([[5, 6, -1, 5],\n",
      "              [1, 1,  1, 1],\n",
      "              [0,-5, 10, 2]])\n",
      "m"
     ],
     "language": "python",
     "metadata": {},
     "outputs": [
      {
       "metadata": {},
       "output_type": "pyout",
       "prompt_number": 55,
       "text": [
        "array([[ 5,  6, -1,  5],\n",
        "       [ 1,  1,  1,  1],\n",
        "       [ 0, -5, 10,  2]])"
       ]
      }
     ],
     "prompt_number": 55
    },
    {
     "cell_type": "code",
     "collapsed": false,
     "input": [
      "m.sum()"
     ],
     "language": "python",
     "metadata": {},
     "outputs": [
      {
       "metadata": {},
       "output_type": "pyout",
       "prompt_number": 56,
       "text": [
        "26"
       ]
      }
     ],
     "prompt_number": 56
    },
    {
     "cell_type": "code",
     "collapsed": false,
     "input": [
      "m.sum(axis=0)"
     ],
     "language": "python",
     "metadata": {},
     "outputs": [
      {
       "metadata": {},
       "output_type": "pyout",
       "prompt_number": 57,
       "text": [
        "array([ 6,  2, 10,  8])"
       ]
      }
     ],
     "prompt_number": 57
    },
    {
     "cell_type": "code",
     "collapsed": false,
     "input": [
      "m.sum(axis=1)"
     ],
     "language": "python",
     "metadata": {},
     "outputs": [
      {
       "metadata": {},
       "output_type": "pyout",
       "prompt_number": 58,
       "text": [
        "array([15,  4,  7])"
       ]
      }
     ],
     "prompt_number": 58
    },
    {
     "cell_type": "code",
     "collapsed": false,
     "input": [
      "m.min()"
     ],
     "language": "python",
     "metadata": {},
     "outputs": [
      {
       "metadata": {},
       "output_type": "pyout",
       "prompt_number": 59,
       "text": [
        "-5"
       ]
      }
     ],
     "prompt_number": 59
    },
    {
     "cell_type": "code",
     "collapsed": false,
     "input": [
      "m.ptp(axis=0)"
     ],
     "language": "python",
     "metadata": {},
     "outputs": [
      {
       "metadata": {},
       "output_type": "pyout",
       "prompt_number": 60,
       "text": [
        "array([ 5, 11, 11,  4])"
       ]
      }
     ],
     "prompt_number": 60
    },
    {
     "cell_type": "markdown",
     "metadata": {},
     "source": [
      "## Lineare Algebra\n",
      "\n",
      "Die Submodule [numpy.linalg](http://docs.scipy.org/doc/numpy/reference/routines.linalg.html) und\n",
      "[scipy.linalg](http://docs.scipy.org/doc/scipy/reference/tutorial/linalg.html)\n",
      "beinhalten diverse Routinen f\u00fcr lineare Algebra."
     ]
    },
    {
     "cell_type": "code",
     "collapsed": false,
     "input": [
      "import numpy.linalg as LA"
     ],
     "language": "python",
     "metadata": {},
     "outputs": [],
     "prompt_number": 61
    },
    {
     "cell_type": "markdown",
     "metadata": {},
     "source": [
      "Definition der Matrix $m$"
     ]
    },
    {
     "cell_type": "code",
     "collapsed": false,
     "input": [
      "m = np.array([[ 4, -1.1],\n",
      "              [-2,  8  ]])"
     ],
     "language": "python",
     "metadata": {},
     "outputs": [],
     "prompt_number": 62
    },
    {
     "cell_type": "markdown",
     "metadata": {},
     "source": [
      "Eigenwerte & Eigenvektoren vom $m$"
     ]
    },
    {
     "cell_type": "code",
     "collapsed": false,
     "input": [
      "eigenvalues, eigenvectors = LA.eig(m)\n",
      "print eigenvalues\n",
      "print eigenvectors"
     ],
     "language": "python",
     "metadata": {},
     "outputs": [
      {
       "output_type": "stream",
       "stream": "stdout",
       "text": [
        "[ 3.51002008  8.48997992]\n",
        "[[-0.91347498  0.23795303]\n",
        " [-0.40689491 -0.97127666]]\n"
       ]
      }
     ],
     "prompt_number": 63
    },
    {
     "cell_type": "markdown",
     "metadata": {},
     "source": [
      "Testen, ob der `0`-te Eigenwert/Vektor passt: beide Vektoren m\u00fcssen bis auf Rundungsfehler gleich sein (das kontrolliert `np.allclose`)"
     ]
    },
    {
     "cell_type": "code",
     "collapsed": false,
     "input": [
      "np.allclose(\n",
      "    m.dot(eigenvectors[:,0]),\n",
      "    eigenvalues[0] * eigenvectors[:,0]\n",
      ")"
     ],
     "language": "python",
     "metadata": {},
     "outputs": [
      {
       "metadata": {},
       "output_type": "pyout",
       "prompt_number": 64,
       "text": [
        "True"
       ]
      }
     ],
     "prompt_number": 64
    },
    {
     "cell_type": "markdown",
     "metadata": {},
     "source": [
      "Determinante von $m$"
     ]
    },
    {
     "cell_type": "code",
     "collapsed": false,
     "input": [
      "LA.det(m)"
     ],
     "language": "python",
     "metadata": {},
     "outputs": [
      {
       "metadata": {},
       "output_type": "pyout",
       "prompt_number": 65,
       "text": [
        "29.799999999999997"
       ]
      }
     ],
     "prompt_number": 65
    },
    {
     "cell_type": "markdown",
     "metadata": {},
     "source": [
      "Invertieren der Matrix $m$"
     ]
    },
    {
     "cell_type": "code",
     "collapsed": false,
     "input": [
      "LA.inv(m)"
     ],
     "language": "python",
     "metadata": {},
     "outputs": [
      {
       "metadata": {},
       "output_type": "pyout",
       "prompt_number": 66,
       "text": [
        "array([[ 0.26845638,  0.03691275],\n",
        "       [ 0.06711409,  0.13422819]])"
       ]
      }
     ],
     "prompt_number": 66
    },
    {
     "cell_type": "code",
     "collapsed": false,
     "input": [
      "LA.inv(m).dot(m)"
     ],
     "language": "python",
     "metadata": {},
     "outputs": [
      {
       "metadata": {},
       "output_type": "pyout",
       "prompt_number": 67,
       "text": [
        "array([[ 1.,  0.],\n",
        "       [ 0.,  1.]])"
       ]
      }
     ],
     "prompt_number": 67
    },
    {
     "cell_type": "markdown",
     "metadata": {},
     "source": [
      "## Optimierung und Nullstellensuche mit SciPy\n",
      "\n",
      "Ein wichtiger Zweig der Numerischen Mathematik ist Optimierung.\n",
      "Diese besteht aus einer Sammlung standardisierter Problemstellungen,\n",
      "welche unter eventuell gegebenen Nebenbedingungen einen Punkt $x \\in \\mathbb{R}^n$ suchen,\n",
      "wo eine gegebene Zielfunktion $f: \\mathbb{R}^n \\rightarrow \\mathbb{R}$ einen minimalen oder maximalen Wert annimmt.\n",
      "\n",
      "Problemstellungen dieser Art finden sich in mannigfaltigen Anwendungsgebieten\n",
      "und bringen diverse Varianten dieser Fragestellung hervor.\n",
      "Die folgenden Beispiele zeigen exemplarisch einige Varianten vor.\n",
      "\n",
      "Link: [scipy.optimize](http://docs.scipy.org/doc/scipy-dev/reference/optimize.html)"
     ]
    },
    {
     "cell_type": "code",
     "collapsed": false,
     "input": [
      "from scipy.optimize import minimize"
     ],
     "language": "python",
     "metadata": {},
     "outputs": [],
     "prompt_number": 68
    },
    {
     "cell_type": "markdown",
     "metadata": {},
     "source": [
      "$f_1(x):  \\mathbb{R}^3 \\rightarrow  \\mathbb{R}$ wird optimiert."
     ]
    },
    {
     "cell_type": "code",
     "collapsed": false,
     "input": [
      "f1 = lambda x: (4 * x[0] - x[1])**2 + (x[1] - x[2])**2 * x[0] - x[2]"
     ],
     "language": "python",
     "metadata": {},
     "outputs": [],
     "prompt_number": 69
    },
    {
     "cell_type": "markdown",
     "metadata": {},
     "source": [
      "$x_0$ ist der Startwert in $\\mathbb{R}^3$"
     ]
    },
    {
     "cell_type": "code",
     "collapsed": false,
     "input": [
      "x0 = [1., 2., 0.]"
     ],
     "language": "python",
     "metadata": {},
     "outputs": [],
     "prompt_number": 70
    },
    {
     "cell_type": "markdown",
     "metadata": {},
     "source": [
      "`bounds` ist die Box der Randbedingungen an $x$:"
     ]
    },
    {
     "cell_type": "code",
     "collapsed": false,
     "input": [
      "bounds = [(-10, 10), (-10, 10), (0, 1)]"
     ],
     "language": "python",
     "metadata": {},
     "outputs": [],
     "prompt_number": 71
    },
    {
     "cell_type": "code",
     "collapsed": false,
     "input": [
      "opti1 = minimize(f1, x0, bounds = bounds)\n",
      "opti1"
     ],
     "language": "python",
     "metadata": {},
     "outputs": [
      {
       "metadata": {},
       "output_type": "pyout",
       "prompt_number": 72,
       "text": [
        "  status: 0\n",
        " success: True\n",
        "    nfev: 64\n",
        "     fun: -0.99999999999996247\n",
        "       x: array([ 0.25      ,  0.99999982,  1.        ])\n",
        " message: 'CONVERGENCE: NORM_OF_PROJECTED_GRADIENT_<=_PGTOL'\n",
        "     jac: array([  1.53210777e-06,  -4.10782519e-07,  -9.99999905e-01])\n",
        "     nit: 13"
       ]
      }
     ],
     "prompt_number": 72
    },
    {
     "cell_type": "code",
     "collapsed": false,
     "input": [
      "x_opti = opti1[\"x\"]\n",
      "x_opti"
     ],
     "language": "python",
     "metadata": {},
     "outputs": [
      {
       "metadata": {},
       "output_type": "pyout",
       "prompt_number": 73,
       "text": [
        "array([ 0.25      ,  0.99999982,  1.        ])"
       ]
      }
     ],
     "prompt_number": 73
    },
    {
     "cell_type": "markdown",
     "metadata": {},
     "source": [
      "### Nullstellensuche"
     ]
    },
    {
     "cell_type": "code",
     "collapsed": false,
     "input": [
      "from scipy.optimize import fsolve"
     ],
     "language": "python",
     "metadata": {},
     "outputs": [],
     "prompt_number": 74
    },
    {
     "cell_type": "code",
     "collapsed": false,
     "input": [
      "f2 = lambda x : 3 * x**3 - x**2 + 1"
     ],
     "language": "python",
     "metadata": {},
     "outputs": [],
     "prompt_number": 75
    },
    {
     "cell_type": "code",
     "collapsed": false,
     "input": [
      "fsolve(f2, 1.)"
     ],
     "language": "python",
     "metadata": {},
     "outputs": [
      {
       "metadata": {},
       "output_type": "pyout",
       "prompt_number": 76,
       "text": [
        "array([-0.5981935])"
       ]
      }
     ],
     "prompt_number": 76
    },
    {
     "cell_type": "markdown",
     "metadata": {},
     "source": [
      "Vektorwertige Funktion $f_3(x): \\mathbb{R}^2 \\rightarrow \\mathbb{R}^2$"
     ]
    },
    {
     "cell_type": "code",
     "collapsed": false,
     "input": [
      "from scipy.optimize import root"
     ],
     "language": "python",
     "metadata": {},
     "outputs": [],
     "prompt_number": 77
    },
    {
     "cell_type": "code",
     "collapsed": false,
     "input": [
      "from numpy import sqrt\n",
      "f3 = lambda x : [(x[0] + x[1])**2 - 4, x[0] + sqrt(x[1])]"
     ],
     "language": "python",
     "metadata": {},
     "outputs": [],
     "prompt_number": 78
    },
    {
     "cell_type": "code",
     "collapsed": false,
     "input": [
      "f3_root = root(f3, [2., 1.])\n",
      "f3_root"
     ],
     "language": "python",
     "metadata": {},
     "outputs": [
      {
       "metadata": {},
       "output_type": "pyout",
       "prompt_number": 79,
       "text": [
        "  status: 1\n",
        " success: True\n",
        "     qtf: array([ -8.12325364e-09,   1.26538374e-09])\n",
        "    nfev: 12\n",
        "       r: array([-4.8930465 , -3.96638873,  0.61326347])\n",
        "     fun: array([  2.07300843e-12,   1.27009514e-13])\n",
        "       x: array([-2.,  4.])\n",
        " message: 'The solution converged.'\n",
        "    fjac: array([[-0.97680164, -0.21414609],\n",
        "       [ 0.21414609, -0.97680164]])"
       ]
      }
     ],
     "prompt_number": 79
    },
    {
     "cell_type": "code",
     "collapsed": false,
     "input": [
      "f3_root.x"
     ],
     "language": "python",
     "metadata": {},
     "outputs": [
      {
       "metadata": {},
       "output_type": "pyout",
       "prompt_number": 80,
       "text": [
        "array([-2.,  4.])"
       ]
      }
     ],
     "prompt_number": 80
    }
   ],
   "metadata": {}
  }
 ]
}
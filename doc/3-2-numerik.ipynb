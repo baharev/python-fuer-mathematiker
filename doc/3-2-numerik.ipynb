{
 "metadata": {
  "name": "",
  "signature": "sha256:cb33172d966843f4ac59a99e22ddbf12bd7e011bca082ee09c30e0d765cf2cf9"
 },
 "nbformat": 3,
 "nbformat_minor": 0,
 "worksheets": [
  {
   "cells": [
    {
     "cell_type": "markdown",
     "metadata": {},
     "source": [
      "# Numerisches Rechnen mit NumPy/SciPy\n",
      "\n",
      "Eine Variable kann als Wert mehr als nur einen Skalar beinhalten.\n",
      "Der Schritt zu Vektoren, Matrizen und Tensoren \u00f6ffnet T\u00fcr und Tor um numerische Berechnungen ausdr\u00fccken zu k\u00f6nnen."
     ]
    },
    {
     "cell_type": "markdown",
     "metadata": {},
     "source": [
      "**Beispiel**: Die Variablen $v$ und $w$ soll hier einen Vektor aus $\\mathbb{R}^3$ repr\u00e4sentieren,\n",
      "die Addition und Multiplikation werden elementweise durchgef\u00fchrt,\n",
      "w\u00e4hrend die Transponierung das Skalarprodukt (engl. dot product) durchf\u00fchrt.\n",
      "\n",
      "\\begin{equation}\n",
      "\\begin{aligned}\n",
      "\\text{v + w} &= \\left[ v_i + w_i \\right]_i & \\forall i \\\\\n",
      "\\text{v * w} &= \\left[ v_i * v_i \\right]_i & \\forall i \\\\\n",
      "\\text{v.dot(w)} &= \\sum_i v_i*w_i \\\\\n",
      "\\text{f\u00fcr} \\quad & v,\\,w\\;\\in\\;\\mathbb{R}^3\n",
      "\\end{aligned}\n",
      "\\end{equation}"
     ]
    },
    {
     "cell_type": "markdown",
     "metadata": {},
     "source": [
      "Die Bibliothek `numpy` wird \u00fcblicherweise immer mit dem Kurznamen Alias `np` importiert:"
     ]
    },
    {
     "cell_type": "code",
     "collapsed": false,
     "input": [
      "import numpy as np"
     ],
     "language": "python",
     "metadata": {},
     "outputs": [],
     "prompt_number": 1
    },
    {
     "cell_type": "markdown",
     "metadata": {},
     "source": [
      "## Vektoren und Matritzen\n",
      "\n",
      "Jetzt definieren wir $v$ und $w$, wobei $v = (4,\\,3,\\,-1)$ sein soll und $w$ ein zuf\u00e4llig gew\u00e4hlter Vektor.\n",
      "Dann f\u00fchren wir die Berechnungen durch. "
     ]
    },
    {
     "cell_type": "code",
     "collapsed": false,
     "input": [
      "v = np.array([4,3,-1])\n",
      "w = np.random.rand(3)"
     ],
     "language": "python",
     "metadata": {},
     "outputs": [],
     "prompt_number": 2
    },
    {
     "cell_type": "code",
     "collapsed": false,
     "input": [
      "v"
     ],
     "language": "python",
     "metadata": {},
     "outputs": [
      {
       "metadata": {},
       "output_type": "pyout",
       "prompt_number": 3,
       "text": [
        "array([ 4,  3, -1])"
       ]
      }
     ],
     "prompt_number": 3
    },
    {
     "cell_type": "code",
     "collapsed": false,
     "input": [
      "w"
     ],
     "language": "python",
     "metadata": {},
     "outputs": [
      {
       "metadata": {},
       "output_type": "pyout",
       "prompt_number": 4,
       "text": [
        "array([ 0.41736042,  0.48945976,  0.91350883])"
       ]
      }
     ],
     "prompt_number": 4
    },
    {
     "cell_type": "code",
     "collapsed": false,
     "input": [
      "v + w"
     ],
     "language": "python",
     "metadata": {},
     "outputs": [
      {
       "metadata": {},
       "output_type": "pyout",
       "prompt_number": 5,
       "text": [
        "array([ 4.41736042,  3.48945976, -0.08649117])"
       ]
      }
     ],
     "prompt_number": 5
    },
    {
     "cell_type": "code",
     "collapsed": false,
     "input": [
      "v - w"
     ],
     "language": "python",
     "metadata": {},
     "outputs": [
      {
       "metadata": {},
       "output_type": "pyout",
       "prompt_number": 6,
       "text": [
        "array([ 3.58263958,  2.51054024, -1.91350883])"
       ]
      }
     ],
     "prompt_number": 6
    },
    {
     "cell_type": "code",
     "collapsed": false,
     "input": [
      "v * w"
     ],
     "language": "python",
     "metadata": {},
     "outputs": [
      {
       "metadata": {},
       "output_type": "pyout",
       "prompt_number": 7,
       "text": [
        "array([ 1.6694417 ,  1.46837927, -0.91350883])"
       ]
      }
     ],
     "prompt_number": 7
    },
    {
     "cell_type": "markdown",
     "metadata": {},
     "source": [
      "Das (generalisierte) Skalarprodukt von $v$ und $w$"
     ]
    },
    {
     "cell_type": "code",
     "collapsed": false,
     "input": [
      "v.dot(w)"
     ],
     "language": "python",
     "metadata": {},
     "outputs": [
      {
       "metadata": {},
       "output_type": "pyout",
       "prompt_number": 8,
       "text": [
        "2.2243121336248537"
       ]
      }
     ],
     "prompt_number": 8
    },
    {
     "cell_type": "markdown",
     "metadata": {},
     "source": [
      "### Matritzen (n-dim arrays)\n",
      "\n",
      "NumPy generalisiert Vektoren und Matritzen zu n-dimensionalen Tensoren.\n",
      "Au\u00dferdem werden alle NumPy-spezifischen Funktionen automatisch \u00fcber tensor-wertige Argumente ausgef\u00fchrt.\n",
      "Das hei\u00dft, die $\\sin$-Funktion \u00fcber einen Vektor $x := (1,2,3)$ ergibt wieder einen Vektor,\n",
      "dessen Eintr\u00e4ge die numerischen Werte von $(\\sin(1),\\,\\sin(2),\\,\\sin(3))$ beinhalten."
     ]
    },
    {
     "cell_type": "code",
     "collapsed": false,
     "input": [
      "x = np.array([1,2,3])\n",
      "np.sin(x)"
     ],
     "language": "python",
     "metadata": {},
     "outputs": [
      {
       "metadata": {},
       "output_type": "pyout",
       "prompt_number": 9,
       "text": [
        "array([ 0.84147098,  0.90929743,  0.14112001])"
       ]
      }
     ],
     "prompt_number": 9
    },
    {
     "cell_type": "code",
     "collapsed": false,
     "input": [
      "m = np.array([[1, 2, 3],\n",
      "              [3, 6, 9],\n",
      "              [-1, 0, 5]])\n",
      "m"
     ],
     "language": "python",
     "metadata": {},
     "outputs": [
      {
       "metadata": {},
       "output_type": "pyout",
       "prompt_number": 10,
       "text": [
        "array([[ 1,  2,  3],\n",
        "       [ 3,  6,  9],\n",
        "       [-1,  0,  5]])"
       ]
      }
     ],
     "prompt_number": 10
    },
    {
     "cell_type": "markdown",
     "metadata": {},
     "source": [
      "Extrahieren einzelner Spalten/Zeilen und Elemente"
     ]
    },
    {
     "cell_type": "code",
     "collapsed": false,
     "input": [
      "m[:, 0]"
     ],
     "language": "python",
     "metadata": {},
     "outputs": [
      {
       "metadata": {},
       "output_type": "pyout",
       "prompt_number": 11,
       "text": [
        "array([ 1,  3, -1])"
       ]
      }
     ],
     "prompt_number": 11
    },
    {
     "cell_type": "code",
     "collapsed": false,
     "input": [
      "m[1, :]"
     ],
     "language": "python",
     "metadata": {},
     "outputs": [
      {
       "metadata": {},
       "output_type": "pyout",
       "prompt_number": 12,
       "text": [
        "array([3, 6, 9])"
       ]
      }
     ],
     "prompt_number": 12
    },
    {
     "cell_type": "code",
     "collapsed": false,
     "input": [
      "m[2, 2]"
     ],
     "language": "python",
     "metadata": {},
     "outputs": [
      {
       "metadata": {},
       "output_type": "pyout",
       "prompt_number": 13,
       "text": [
        "5"
       ]
      }
     ],
     "prompt_number": 13
    },
    {
     "cell_type": "markdown",
     "metadata": {},
     "source": [
      "Skalarprodukt zweier Spalten"
     ]
    },
    {
     "cell_type": "code",
     "collapsed": false,
     "input": [
      "m[:, 0].dot(m[:, 1])"
     ],
     "language": "python",
     "metadata": {},
     "outputs": [
      {
       "metadata": {},
       "output_type": "pyout",
       "prompt_number": 14,
       "text": [
        "20"
       ]
      }
     ],
     "prompt_number": 14
    },
    {
     "cell_type": "code",
     "collapsed": false,
     "input": [
      "m.diagonal()"
     ],
     "language": "python",
     "metadata": {},
     "outputs": [
      {
       "metadata": {},
       "output_type": "pyout",
       "prompt_number": 15,
       "text": [
        "array([1, 6, 5])"
       ]
      }
     ],
     "prompt_number": 15
    },
    {
     "cell_type": "markdown",
     "metadata": {},
     "source": [
      "Dar\u00fcber hinaus gibt es einige hilfreiche Funktionen,\n",
      "die das erzeugen von Punkten und eine Auswertung \u00fcber einen Raster erm\u00f6glichen."
     ]
    },
    {
     "cell_type": "code",
     "collapsed": false,
     "input": [
      "# array-range\n",
      "np.arange(1, 5, .5)"
     ],
     "language": "python",
     "metadata": {},
     "outputs": [
      {
       "metadata": {},
       "output_type": "pyout",
       "prompt_number": 16,
       "text": [
        "array([ 1. ,  1.5,  2. ,  2.5,  3. ,  3.5,  4. ,  4.5])"
       ]
      }
     ],
     "prompt_number": 16
    },
    {
     "cell_type": "code",
     "collapsed": false,
     "input": [
      "# 10 equally spaced points from 0 to 1\n",
      "np.linspace(0, 1, 10)"
     ],
     "language": "python",
     "metadata": {},
     "outputs": [
      {
       "metadata": {},
       "output_type": "pyout",
       "prompt_number": 17,
       "text": [
        "array([ 0.        ,  0.11111111,  0.22222222,  0.33333333,  0.44444444,\n",
        "        0.55555556,  0.66666667,  0.77777778,  0.88888889,  1.        ])"
       ]
      }
     ],
     "prompt_number": 17
    },
    {
     "cell_type": "code",
     "collapsed": false,
     "input": [
      "# 10 equally spaced points on a logarithmic scale from base^1 to base^2 with base = 10\n",
      "np.logspace(1, 2, 10, base=10)"
     ],
     "language": "python",
     "metadata": {},
     "outputs": [
      {
       "metadata": {},
       "output_type": "pyout",
       "prompt_number": 18,
       "text": [
        "array([  10.        ,   12.91549665,   16.68100537,   21.5443469 ,\n",
        "         27.82559402,   35.93813664,   46.41588834,   59.94842503,\n",
        "         77.42636827,  100.        ])"
       ]
      }
     ],
     "prompt_number": 18
    },
    {
     "cell_type": "markdown",
     "metadata": {},
     "source": [
      "Koordinatenmatritzen f\u00fcr x und y aus zwei oder mehr Vektoren."
     ]
    },
    {
     "cell_type": "code",
     "collapsed": false,
     "input": [
      "xx, yy = np.meshgrid([1, 2, 3], [0, 10, 20])\n",
      "xx"
     ],
     "language": "python",
     "metadata": {},
     "outputs": [
      {
       "metadata": {},
       "output_type": "pyout",
       "prompt_number": 19,
       "text": [
        "array([[1, 2, 3],\n",
        "       [1, 2, 3],\n",
        "       [1, 2, 3]])"
       ]
      }
     ],
     "prompt_number": 19
    },
    {
     "cell_type": "code",
     "collapsed": false,
     "input": [
      "yy"
     ],
     "language": "python",
     "metadata": {},
     "outputs": [
      {
       "metadata": {},
       "output_type": "pyout",
       "prompt_number": 20,
       "text": [
        "array([[ 0,  0,  0],\n",
        "       [10, 10, 10],\n",
        "       [20, 20, 20]])"
       ]
      }
     ],
     "prompt_number": 20
    },
    {
     "cell_type": "markdown",
     "metadata": {},
     "source": [
      "Dies ist zur Auswertung von mehrstellige Funktionen sehr praktisch:"
     ]
    },
    {
     "cell_type": "code",
     "collapsed": false,
     "input": [
      "1 + xx + 2 * yy"
     ],
     "language": "python",
     "metadata": {},
     "outputs": [
      {
       "metadata": {},
       "output_type": "pyout",
       "prompt_number": 21,
       "text": [
        "array([[ 2,  3,  4],\n",
        "       [22, 23, 24],\n",
        "       [42, 43, 44]])"
       ]
      }
     ],
     "prompt_number": 21
    },
    {
     "cell_type": "markdown",
     "metadata": {},
     "source": [
      "## Lineare Algebra\n",
      "\n",
      "Das Submodul `numpy.linalg` beinhaltet diverse Routinen f\u00fcr lineare Algebra."
     ]
    },
    {
     "cell_type": "code",
     "collapsed": false,
     "input": [
      "import numpy.linalg as LA"
     ],
     "language": "python",
     "metadata": {},
     "outputs": [],
     "prompt_number": 22
    },
    {
     "cell_type": "markdown",
     "metadata": {},
     "source": [
      "Definition der Matrix $m$"
     ]
    },
    {
     "cell_type": "code",
     "collapsed": false,
     "input": [
      "m = np.array([[ 4, -1.1],\n",
      "              [-2,  8  ]])"
     ],
     "language": "python",
     "metadata": {},
     "outputs": [],
     "prompt_number": 23
    },
    {
     "cell_type": "markdown",
     "metadata": {},
     "source": [
      "Eigenwerte & Eigenvektoren vom $m$"
     ]
    },
    {
     "cell_type": "code",
     "collapsed": false,
     "input": [
      "eigenvalues, eigenvectors = LA.eig(m)\n",
      "print eigenvalues\n",
      "print eigenvectors"
     ],
     "language": "python",
     "metadata": {},
     "outputs": [
      {
       "output_type": "stream",
       "stream": "stdout",
       "text": [
        "[ 3.51002008  8.48997992]\n",
        "[[-0.91347498  0.23795303]\n",
        " [-0.40689491 -0.97127666]]\n"
       ]
      }
     ],
     "prompt_number": 24
    },
    {
     "cell_type": "code",
     "collapsed": false,
     "input": [
      "np.allclose(\n",
      "    m.dot(eigenvectors[:,0]),\n",
      "    eigenvalues[0] * eigenvectors[:,0]\n",
      ")"
     ],
     "language": "python",
     "metadata": {},
     "outputs": [
      {
       "metadata": {},
       "output_type": "pyout",
       "prompt_number": 25,
       "text": [
        "True"
       ]
      }
     ],
     "prompt_number": 25
    },
    {
     "cell_type": "markdown",
     "metadata": {},
     "source": [
      "Determinante von $m$"
     ]
    },
    {
     "cell_type": "code",
     "collapsed": false,
     "input": [
      "LA.det(m)"
     ],
     "language": "python",
     "metadata": {},
     "outputs": [
      {
       "metadata": {},
       "output_type": "pyout",
       "prompt_number": 26,
       "text": [
        "29.799999999999997"
       ]
      }
     ],
     "prompt_number": 26
    },
    {
     "cell_type": "markdown",
     "metadata": {},
     "source": [
      "Invertieren der Matrix $m$"
     ]
    },
    {
     "cell_type": "code",
     "collapsed": false,
     "input": [
      "LA.inv(m)"
     ],
     "language": "python",
     "metadata": {},
     "outputs": [
      {
       "metadata": {},
       "output_type": "pyout",
       "prompt_number": 27,
       "text": [
        "array([[ 0.26845638,  0.03691275],\n",
        "       [ 0.06711409,  0.13422819]])"
       ]
      }
     ],
     "prompt_number": 27
    },
    {
     "cell_type": "code",
     "collapsed": false,
     "input": [
      "LA.inv(m).dot(m)"
     ],
     "language": "python",
     "metadata": {},
     "outputs": [
      {
       "metadata": {},
       "output_type": "pyout",
       "prompt_number": 28,
       "text": [
        "array([[ 1.,  0.],\n",
        "       [ 0.,  1.]])"
       ]
      }
     ],
     "prompt_number": 28
    },
    {
     "cell_type": "markdown",
     "metadata": {},
     "source": [
      "## Optimierung und Nullstellensuche mit SciPy\n",
      "\n",
      "Ein wichtiger Zweig der Numerischen Mathematik ist Optimierung.\n",
      "Diese besteht aus einer Sammlung standardisierter Problemstellungen,\n",
      "welche unter eventuell gegebenen Nebenbedingungen einen Punkt $x \\in \\mathbb{R}^n$ suchen,\n",
      "wo eine gegebene Zielfunktion $f: \\mathbb{R}^n \\rightarrow \\mathbb{R}$ einen minimalen oder maximalen Wert annimmt.\n",
      "\n",
      "Problemstellungen dieser Art finden sich in mannigfaltigen Anwendungsgebieten\n",
      "und bringen diverse Varianten dieser Fragestellung hervor.\n",
      "Die folgenden Beispiele zeigen exemplarisch einige Varianten vor.\n",
      "\n",
      "Link: [scipy.optimize](http://docs.scipy.org/doc/scipy-dev/reference/optimize.html)"
     ]
    },
    {
     "cell_type": "code",
     "collapsed": false,
     "input": [
      "from scipy.optimize import minimize"
     ],
     "language": "python",
     "metadata": {},
     "outputs": [],
     "prompt_number": 29
    },
    {
     "cell_type": "markdown",
     "metadata": {},
     "source": [
      "$f_1(x):  \\mathbb{R}^3 \\rightarrow  \\mathbb{R}$ wird optimiert."
     ]
    },
    {
     "cell_type": "code",
     "collapsed": false,
     "input": [
      "f1 = lambda x: (4 * x[0] - x[1])**2 + (x[1] - x[2])**2 * x[0] - x[2]"
     ],
     "language": "python",
     "metadata": {},
     "outputs": [],
     "prompt_number": 30
    },
    {
     "cell_type": "markdown",
     "metadata": {},
     "source": [
      "$x_0$ ist der Startwert in $\\mathbb{R}^3$"
     ]
    },
    {
     "cell_type": "code",
     "collapsed": false,
     "input": [
      "x0 = [1., 2., 0.]"
     ],
     "language": "python",
     "metadata": {},
     "outputs": [],
     "prompt_number": 31
    },
    {
     "cell_type": "markdown",
     "metadata": {},
     "source": [
      "`bounds` ist die Box der Randbedingungen an $x$:"
     ]
    },
    {
     "cell_type": "code",
     "collapsed": false,
     "input": [
      "bounds = [(-10, 10), (-10, 10), (0, 1)]"
     ],
     "language": "python",
     "metadata": {},
     "outputs": [],
     "prompt_number": 32
    },
    {
     "cell_type": "code",
     "collapsed": false,
     "input": [
      "opti1 = minimize(f1, x0, bounds = bounds)\n",
      "opti1"
     ],
     "language": "python",
     "metadata": {},
     "outputs": [
      {
       "metadata": {},
       "output_type": "pyout",
       "prompt_number": 33,
       "text": [
        "  status: 0\n",
        " success: True\n",
        "    nfev: 80\n",
        "     fun: -0.99999999999996247\n",
        "       x: array([ 0.25      ,  0.99999982,  1.        ])\n",
        " message: 'CONVERGENCE: NORM_OF_PROJECTED_GRADIENT_<=_PGTOL'\n",
        "     jac: array([  1.53210777e-06,  -4.10782519e-07,  -9.99999905e-01])\n",
        "     nit: 13"
       ]
      }
     ],
     "prompt_number": 33
    },
    {
     "cell_type": "code",
     "collapsed": false,
     "input": [
      "x_opti = opti1[\"x\"]\n",
      "x_opti"
     ],
     "language": "python",
     "metadata": {},
     "outputs": [
      {
       "metadata": {},
       "output_type": "pyout",
       "prompt_number": 34,
       "text": [
        "array([ 0.25      ,  0.99999982,  1.        ])"
       ]
      }
     ],
     "prompt_number": 34
    },
    {
     "cell_type": "markdown",
     "metadata": {},
     "source": [
      "### Nullstellensuche"
     ]
    },
    {
     "cell_type": "code",
     "collapsed": false,
     "input": [
      "from scipy.optimize import fsolve"
     ],
     "language": "python",
     "metadata": {},
     "outputs": [],
     "prompt_number": 35
    },
    {
     "cell_type": "code",
     "collapsed": false,
     "input": [
      "f2 = lambda x : 3 * x**3 - x**2 + 1"
     ],
     "language": "python",
     "metadata": {},
     "outputs": [],
     "prompt_number": 36
    },
    {
     "cell_type": "code",
     "collapsed": false,
     "input": [
      "fsolve(f2, 1.)"
     ],
     "language": "python",
     "metadata": {},
     "outputs": [
      {
       "metadata": {},
       "output_type": "pyout",
       "prompt_number": 37,
       "text": [
        "array([-0.5981935])"
       ]
      }
     ],
     "prompt_number": 37
    },
    {
     "cell_type": "markdown",
     "metadata": {},
     "source": [
      "Vektorwertige Funktion $f_3(x): \\mathbb{R}^2 \\rightarrow \\mathbb{R}^2$"
     ]
    },
    {
     "cell_type": "code",
     "collapsed": false,
     "input": [
      "from scipy.optimize import root"
     ],
     "language": "python",
     "metadata": {},
     "outputs": [],
     "prompt_number": 38
    },
    {
     "cell_type": "code",
     "collapsed": false,
     "input": [
      "from numpy import sqrt\n",
      "f3 = lambda x : [(x[0] + x[1])**2 - 4, x[0] + sqrt(x[1])]"
     ],
     "language": "python",
     "metadata": {},
     "outputs": [],
     "prompt_number": 39
    },
    {
     "cell_type": "code",
     "collapsed": false,
     "input": [
      "f3_root = root(f3, [2., 1.])\n",
      "f3_root"
     ],
     "language": "python",
     "metadata": {},
     "outputs": [
      {
       "metadata": {},
       "output_type": "pyout",
       "prompt_number": 40,
       "text": [
        "  status: 1\n",
        " success: True\n",
        "     qtf: array([ -8.12325364e-09,   1.26538374e-09])\n",
        "    nfev: 12\n",
        "       r: array([-4.8930465 , -3.96638873,  0.61326347])\n",
        "     fun: array([  2.07300843e-12,   1.27009514e-13])\n",
        "       x: array([-2.,  4.])\n",
        " message: 'The solution converged.'\n",
        "    fjac: array([[-0.97680164, -0.21414609],\n",
        "       [ 0.21414609, -0.97680164]])"
       ]
      }
     ],
     "prompt_number": 40
    },
    {
     "cell_type": "code",
     "collapsed": false,
     "input": [
      "f3_root.x"
     ],
     "language": "python",
     "metadata": {},
     "outputs": [
      {
       "metadata": {},
       "output_type": "pyout",
       "prompt_number": 41,
       "text": [
        "array([-2.,  4.])"
       ]
      }
     ],
     "prompt_number": 41
    }
   ],
   "metadata": {}
  }
 ]
}
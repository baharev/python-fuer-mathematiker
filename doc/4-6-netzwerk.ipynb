{
 "metadata": {
  "name": "",
  "signature": "sha256:641a9caf5df611f490f4dbe8caa75706dae6eec3471af78229fd43ea8e5d5aac"
 },
 "nbformat": 3,
 "nbformat_minor": 0,
 "worksheets": [
  {
   "cells": [
    {
     "cell_type": "heading",
     "level": 1,
     "metadata": {},
     "source": [
      "Netzwerk und Internet"
     ]
    },
    {
     "cell_type": "markdown",
     "metadata": {},
     "source": [
      "Miteinander kommunizierende Computer sind eine sehr m\u00e4chtige Erfindung.\n",
      "Prominente Beispiele sind lokale Netzwerke, das Internet, das hier vorliegende IPython Notebook, Smartphones und Raumsonden.\n",
      "Im folgenden wird umrissen, wie man mittels Python mit einem Server kommunizeren kann,\n",
      "wie Daten \u00fcbertragen werden, und wie ein Server prinzipiell gestartet werden kann."
     ]
    },
    {
     "cell_type": "markdown",
     "metadata": {},
     "source": [
      "Python selbst liefert die Bibliotheken [urllib](https://docs.python.org/2/library/urllib.html) ([Py3 urllib](https://docs.python.org/3/library/urllib.html))\n",
      "und [urllib2](https://docs.python.org/2/library/urllib2.html) aus.\n",
      "Sie liefern eine rudiment\u00e4re Schnittstelle um mit der Au\u00dfenwelt kommunizieren zu k\u00f6nnen.\n",
      "\n",
      "Besser ist eine Bibliothek wie [requests](http://docs.python-requests.org/en/latest/), welche einfacher zu bedienen ist."
     ]
    },
    {
     "cell_type": "code",
     "collapsed": false,
     "input": [
      "import requests as req"
     ],
     "language": "python",
     "metadata": {},
     "outputs": [],
     "prompt_number": 1
    },
    {
     "cell_type": "markdown",
     "metadata": {},
     "source": [
      "## WWW: HTTP GET requests\n",
      "\n",
      "Kommunikation im [WWW](http://info.cern.ch/hypertext/WWW/TheProject.html) l\u00e4uft \u00fcber das [HTTP Protokol](http://en.wikipedia.org/wiki/HTTP) ab.\n",
      "Es gibt Verben und Objekte. Das Verb \"GET\" teilt einem anderen Computer (Server) mit, dass der eine Computer etwas haben m\u00f6chte.\n",
      "Die dieser Kommunikation [zugrunde liegenden Systeme](http://en.wikipedia.org/wiki/OSI_model) stellen sicher, dass beide miteinander auch \u00fcber gro\u00dfe Distanzen sprechen k\u00f6nnen.\n",
      "\n",
      "Im folgenden Beispiel holen wir uns die Zellen des dieses hier vorliegenden Notebooks vom [Hauptrepository of GitHub](https://github.com/haraldschilly/python-fuer-mathematiker/).\n",
      "Das Dateiformat basiert auf [JSON](http://json.org) und es werden genau die hier sichtbaren Zellen geladen.\n",
      "\n",
      "Die `requests` Bibliothek verbindet sich dabei zu GitHub \u00fcber das Internet, teilt dem Server mit, dass es genau diese Datei haben m\u00f6chte, und dann verarbeitet es die Rohdaten zu einer JSON Datenstruktur mittels `.json()`.\n",
      "Anschlie\u00dfend eine kurze Suche nach dem Inhalt \"vorliegenden Notebook\" um genau diese Zelle zu finden und auszugeben."
     ]
    },
    {
     "cell_type": "code",
     "collapsed": false,
     "input": [
      "netzwerk = req.get(\"https://github.com/haraldschilly/python-fuer-mathematiker/raw/master/doc/4-6-netzwerk.ipynb\")\n",
      "notebook = netzwerk.json()"
     ],
     "language": "python",
     "metadata": {},
     "outputs": [],
     "prompt_number": 7
    },
    {
     "cell_type": "code",
     "collapsed": false,
     "input": [
      "import json\n",
      "for cell in notebook[\"worksheets\"][0][\"cells\"]:\n",
      "    if any(\"vorliegenden Notebook\" in block for block in cell.get(\"source\", [\"\"])):\n",
      "        text = \"\".join(cell[\"source\"])\n",
      "print(text[:400] + \"...\")"
     ],
     "language": "python",
     "metadata": {},
     "outputs": [
      {
       "output_type": "stream",
       "stream": "stdout",
       "text": [
        "## WWW: HTTP GET requests\n",
        "\n",
        "Kommunikation im [WWW](http://info.cern.ch/hypertext/WWW/TheProject.html) l\u00e4uft \u00fcber das [HTTP Protokol](http://en.wikipedia.org/wiki/HTTP) ab.\n",
        "Es gibt Verben und Objekte. Das Verb \"GET\" teilt einem anderen Computer (Server) mit, dass der eine Computer etwas haben m\u00f6chte.\n",
        "Die dieser Kommunikation [zugrunde liegenden Systeme](http://en.wikipedia.org/wiki/OSI_model) stelle...\n"
       ]
      }
     ],
     "prompt_number": 26
    },
    {
     "cell_type": "markdown",
     "metadata": {},
     "source": [
      "## HTML\n",
      "\n",
      "Webseiten sind in [HTML](http://en.wikipedia.org/wiki/HTML) formatiert.\n",
      "Die Rohdaten sind \u00e4hnlich wie XML in Tags eingeschlossene Textbausteine.\n",
      "Eine Bibliothek wie [Beautiful Soup](http://www.crummy.com/software/BeautifulSoup/) hilft,\n",
      "diese Tags einzulesen und als Datenstruktur zu bearbeiten.\n",
      "Holen wir zum Beispiel die aktuellen Nachrichten, extrahieren ausschlie\u00dflich die \u00dcberschriften des Hauptbereichs, und modifizieren die Links so, dass sie auf die Originalseite verweisen und ein neues Tab \u00f6ffnen:"
     ]
    },
    {
     "cell_type": "code",
     "collapsed": false,
     "input": [
      "from bs4 import BeautifulSoup\n",
      "derstandard = BeautifulSoup(req.get(\"http://derstandard.at\").text)"
     ],
     "language": "python",
     "metadata": {},
     "outputs": [],
     "prompt_number": 27
    },
    {
     "cell_type": "code",
     "collapsed": false,
     "input": [
      "from IPython.display import HTML\n",
      "headlines = derstandard.select(\"div#documentCanvas h2 a\") + derstandard.select(\"div#documentCanvas h3 a\") \n",
      "hl_list = BeautifulSoup(\"<ul>\")\n",
      "for hl in headlines:\n",
      "    hl.attrs[\"href\"] = \"http://derstandard.at\" + hl.attrs[\"href\"]\n",
      "    hl.attrs[\"target\"] = \"_blank\"\n",
      "    entry = hl_list.new_tag(\"li\")\n",
      "    entry.append(hl)\n",
      "    hl_list.append(entry)\n",
      "HTML(hl_list.prettify())"
     ],
     "language": "python",
     "metadata": {},
     "outputs": [
      {
       "html": [
        "<html>\n",
        " <body>\n",
        "  <ul>\n",
        "  </ul>\n",
        " </body>\n",
        "</html>\n",
        "<li>\n",
        " <a href=\"http://derstandard.at/2000012314950/Heta-wird-abgewickelt-die-Glaeubiger-muessen-bluten\" target=\"_blank\">\n",
        "  Heta wird abgewickelt, die Hypo-Gl\u00e4ubiger m\u00fcssen bluten\n",
        " </a>\n",
        "</li>\n",
        "<li>\n",
        " <a href=\"http://derstandard.at/2000012303100/Strukturreformen-Wettbewerbsfaehigkeit-nichts-als-Phrasendrescherei\" target=\"_blank\">\n",
        "  \"Strukturreformen\", \"Wettbewerbsf\u00e4higkeit\" - nichts als Phrasendrescherei\n",
        " </a>\n",
        "</li>\n",
        "<li>\n",
        " <a href=\"http://derstandard.at/2000012251872/Draussen-sein-mitden-Uvex-Jakk-Helmen-und-Helmkameras\" target=\"_blank\">\n",
        "  Drau\u00dfen sein mit...den Uvex Jakk+-Helmen und Helmkameras\n",
        " </a>\n",
        "</li>\n",
        "<li>\n",
        " <a href=\"http://derstandard.at/2000012297603/Zehntausende-Menschen-bei-Trauerkundgebung-fuer-ermordeten-Nemzow-erwartet\" target=\"_blank\">\n",
        "  Zehntausende bei Trauermarsch f\u00fcr Putin-Gegner Nemzow\n",
        " </a>\n",
        "</li>\n",
        "<li>\n",
        " <a href=\"http://derstandard.at/2000012310688/Koalition-auf-dem-Weg-zur-Verlaenderung-der-Schule\" target=\"_blank\">\n",
        "  Koalition auf dem Weg zur \"Verl\u00e4nderung\" der Lehrer\n",
        " </a>\n",
        "</li>\n",
        "<li>\n",
        " <a href=\"http://derstandard.at/2000012306462/Samsung-stellt-Galaxy-S6-und-Galaxy-S6-Edge-vor\" target=\"_blank\">\n",
        "  Samsung stellt Galaxy S6 und Galaxy S6 Edge vor\n",
        " </a>\n",
        "</li>\n",
        "<li>\n",
        " <a href=\"http://derstandard.at/2000012266772/Griechenland-Glaube-an-die-Tsipras-Faust\" target=\"_blank\">\n",
        "  Griechenland: Glaube an die Tsipras-Faust\n",
        " </a>\n",
        "</li>\n",
        "<li>\n",
        " <a href=\"http://derstandard.at/2000012301576/Und-taeglich-gruesst-der-Bansko-Nebel\" target=\"_blank\">\n",
        "  Anna Fenninger kann jetzt auch kombinieren\n",
        " </a>\n",
        "</li>\n",
        "<li>\n",
        " <a href=\"http://derstandard.at/2000012312276/Zwischenstand-RB-Salzburg-SV-Groedig-10\" target=\"_blank\">\n",
        "  Salzburg hat mit Gr\u00f6dig wenig Probleme\n",
        " </a>\n",
        "</li>\n",
        "<li>\n",
        " <a href=\"http://derstandard.at/2000012255442/Die-besten-Indie-Games-im-Februar-Woelfe-im-Vollkontaktsport\" target=\"_blank\">\n",
        "  Die besten Indie-Games im Februar: W\u00f6lfe im Vollkontaktsport\n",
        " </a>\n",
        "</li>\n",
        "<li>\n",
        " <a href=\"http://derstandard.at/2000012304263/132-Kaerntner-Gemeinden-waehlen-ihre-Buergermeister\" target=\"_blank\">\n",
        "  Wahlen in K\u00e4rnten: FP\u00d6 und SP\u00d6 in Klagenfurt gleichauf\n",
        " </a>\n",
        "</li>\n",
        "<li>\n",
        " <a href=\"http://derstandard.at/2000012302727/Traumlauf-von-Hirscher-in-Garmisch\" target=\"_blank\">\n",
        "  Sieg in Garmisch: Hirscher in der Stenmark-Dimension, Raich Dritter\n",
        " </a>\n",
        "</li>\n",
        "<li>\n",
        " <a href=\"http://derstandard.at/2000012304416/Erdogan-kritisiert-Islam-Gesetz-Widerspricht-EU-Normen\" target=\"_blank\">\n",
        "  Erdogan kritisiert Islam-Gesetz: Widerspricht EU-Normen\n",
        " </a>\n",
        "</li>\n",
        "<li>\n",
        " <a href=\"http://derstandard.at/2000012305803/Parlamentswahl-Aegypten-wird-nach-Gerichtsurteil-verschoben\" target=\"_blank\">\n",
        "  \u00c4gypten vor Wahlverschiebung\n",
        " </a>\n",
        "</li>\n",
        "<li>\n",
        " <a href=\"http://derstandard.at/2000012311056/Irakische-Armee-will-Tikrit-befreien\" target=\"_blank\">\n",
        "  Irakische Armee will Tikrit befreien\n",
        " </a>\n",
        "</li>\n",
        "<li>\n",
        " <a href=\"http://derstandard.at/2000012300439/Erster-britischer-Pegida-Marsch-2000-Gegendemonstranten\" target=\"_blank\">\n",
        "  Gefloppte erste Pegida-Demo in Gro\u00dfbritannien\n",
        " </a>\n",
        "</li>\n",
        "<li>\n",
        " <a href=\"http://derstandard.at/2000012331131/Song-Contest-Punks-mit-Down-Syndrom-vertreten-Finnland\" target=\"_blank\">\n",
        "  Song Contest: Punks mit Down Syndrom vertreten Finnland\n",
        " </a>\n",
        "</li>\n",
        "<li>\n",
        " <a href=\"http://derstandard.at/2000012313822/Protest-gegen-rassistische-Grenzsicherung-am-Brenner\" target=\"_blank\">\n",
        "  Brenner: Protest gegen \"rassistische Grenzsicherung\"\n",
        " </a>\n",
        "</li>\n",
        "<li>\n",
        " <a href=\"http://derstandard.at/2000012313475/Platzsturm-in-Bischofshofen-Grossprozess-um-Jugendbande\" target=\"_blank\">\n",
        "  Platzsturm in Bischofshofen: Prozess um Jugendbande\n",
        " </a>\n",
        "</li>\n",
        "<li>\n",
        " <a href=\"http://derstandard.at/2000012241912/Bodybuilder-trinken-Muttermilch\" target=\"_blank\">\n",
        "  Bodybuilder trinken Muttermilch\n",
        " </a>\n",
        "</li>\n",
        "<li>\n",
        " <a href=\"http://derstandard.at/2000012138133/Wie-viel-man-bei-Microsoft-und-Google-verdienen-kann\" target=\"_blank\">\n",
        "  Wie viel man bei Microsoft und Google verdienen kann\n",
        " </a>\n",
        "</li>\n",
        "<li>\n",
        " <a href=\"http://derstandard.at/2000012315147/Mazedonien-Abhoeraktion-zeigt-immer-neue-Korruption\" target=\"_blank\">\n",
        "  Mazedonien: Abh\u00f6raktion zeigt immer neue Korruption\n",
        " </a>\n",
        "</li>\n",
        "<li>\n",
        " <a href=\"http://derstandard.at/2000012310739/Goya-Ausstellung-Traumfiguren-beim-Baby-Verzehr\" target=\"_blank\">\n",
        "  Goya-Ausstellung: Traumfiguren beim Baby-Verzehr\n",
        " </a>\n",
        "</li>\n",
        "<li>\n",
        " <a href=\"http://derstandard.at/2000012197502/Tiefkuehlerbsen-im-Test\" target=\"_blank\">\n",
        "  Im Test: Tiefk\u00fchlerbsen\n",
        " </a>\n",
        "</li>\n",
        "<li>\n",
        " <a href=\"http://derstandard.at/2000012245553/Dem-Stromboli-aufs-Dach-steigen\" target=\"_blank\">\n",
        "  Dem Stromboli aufs Dach steigen\n",
        " </a>\n",
        "</li>\n",
        "<li>\n",
        " <a href=\"http://derstandard.at/2000012222165/Mercedes-AMG-Jetzt-habt-aber-Acht-ihr-Bayern\" target=\"_blank\">\n",
        "  Mercedes AMG: Jetzt habt aber Acht, ihr Bayern\n",
        " </a>\n",
        "</li>\n",
        "<li>\n",
        " <a href=\"http://derstandard.at/2000011980115/Hypo-Alpe-Adria-Was-Sie-zum-U-Ausschuss-wissen-muessen\" target=\"_blank\">\n",
        "  Hypo Alpe Adria: Wer f\u00fcrchtet sich vorm b\u00f6sen U-Ausschuss?\n",
        " </a>\n",
        "</li>\n",
        "<li>\n",
        " <a href=\"http://derstandard.at/2000012099457/Fell-und-Gefieder-Animalischer-Streetstyle-in-London-und-New-York\" target=\"_blank\">\n",
        "  Animalischer Streetstyle in London und New York\n",
        " </a>\n",
        "</li>\n",
        "<li>\n",
        " <a href=\"http://derstandard.at/2000012318788/Was-fehlt-in-diesen-Schlagzeilen-Das-Lueckenfueller-Quiz\" target=\"_blank\">\n",
        "  <span class=\"ugc-icon\" title=\"Userbeitrag\">\n",
        "   #\n",
        "  </span>\n",
        "  Was fehlt in diesen Schlagzeilen? \u2013 Das L\u00fcckenf\u00fcller-Quiz\n",
        " </a>\n",
        "</li>\n",
        "<li>\n",
        " <a href=\"http://derstandard.at/2000012229913/Islamgesetz-Oesterreichs-Muslime-brauchen-Ankaras-Einmischung-nicht\" target=\"_blank\">\n",
        "  <span class=\"ugc-icon\" title=\"Userbeitrag\">\n",
        "   #\n",
        "  </span>\n",
        "  \u00d6sterreichs Muslime brauchen Ankaras Einmischung nicht\n",
        " </a>\n",
        "</li>\n",
        "<li>\n",
        " <a href=\"http://derstandard.at/2000012253760/Das-eigentliche-Problem-hinter-der-Impfdebatte-Vertrauensverlust\" target=\"_blank\">\n",
        "  <span class=\"ugc-icon\" title=\"Userbeitrag\">\n",
        "   #\n",
        "  </span>\n",
        "  Das eigentliche Problem hinter der Impfdebatte: Vertrauensverlust\n",
        " </a>\n",
        "</li>\n",
        "<li>\n",
        " <a href=\"http://derstandard.at/2000012317044/Kosovo-noch-immer-nicht-Herr-im-eigenen-Haus\" target=\"_blank\">\n",
        "  Kosovo \u2013 noch immer nicht Herr im eigenen Haus\n",
        " </a>\n",
        "</li>\n",
        "<li>\n",
        " <a href=\"http://derstandard.at/2000012275420/Eltern-wehren-wir-uns\" target=\"_blank\">\n",
        "  Eltern, wehren wir uns!\n",
        " </a>\n",
        "</li>\n",
        "<li>\n",
        " <a href=\"http://derstandard.at/2000012275494/Merkels-politisches-Biedermeier-geht-zu-Ende\" target=\"_blank\">\n",
        "  Merkels politisches Biedermeier geht zu Ende\n",
        " </a>\n",
        "</li>\n",
        "<li>\n",
        " <a href=\"http://derstandard.at/2000012328287/Kaernten-Das-Erblassen-der-Erblaeuten\" target=\"_blank\">\n",
        "  K\u00e4rnten: Das Erblassen der Erbl\u00e4uten\n",
        " </a>\n",
        "</li>\n",
        "<li>\n",
        " <a href=\"http://derstandard.at/2000012316893/Schulpolitik-Republik-Foederalistan\" target=\"_blank\">\n",
        "  Schulpolitik: Republik F\u00f6deralistan\n",
        " </a>\n",
        "</li>\n",
        "<li>\n",
        " <a href=\"http://derstandard.at/2000012314376/Aegypten-Sisi-hat-mit-inneren-und-aeusseren-Problemen-zu-kaempfen\" target=\"_blank\">\n",
        "  \u00c4gypten: Sisi hat mit inneren und \u00e4u\u00dferen Problemen zu k\u00e4mpfen\n",
        " </a>\n",
        "</li>\n",
        "<li>\n",
        " <a href=\"http://derstandard.at/2000012314438/Pachtpreis-fuer-Windraeder-Wie-die-Gier-eine-Alternative-verteuert\" target=\"_blank\">\n",
        "  Windr\u00e4der: Wie die Gier eine Alternative verteuert\n",
        " </a>\n",
        "</li>\n",
        "<li>\n",
        " <a href=\"http://derstandard.at/2000012246838/Hypo-Ausschuss-als-Chance-des-Parlaments\" target=\"_blank\">\n",
        "  Hypo-U-Ausschuss als Chance des Parlaments\n",
        " </a>\n",
        "</li>\n",
        "<li>\n",
        " <a href=\"http://derstandard.at/2000012291413/Mugabe-feierte-91-Geburtstag-mit-luxurioeser-Party\" target=\"_blank\">\n",
        "  Luxuri\u00f6se Geburtstags-Party f\u00fcr Mugabe\n",
        " </a>\n",
        "</li>\n",
        "<li>\n",
        " <a href=\"http://derstandard.at/2000012329911/Linke-und-Rechte-vor-Wahl-in-El-Salvador-gleichauf\" target=\"_blank\">\n",
        "  Linke und Rechte vor Wahl in El Salvador gleichauf\n",
        " </a>\n",
        "</li>\n",
        "<li>\n",
        " <a href=\"http://derstandard.at/2000012330506/Parlamentswahl-in-Tadschikistan\" target=\"_blank\">\n",
        "  Parlamentswahl in Tadschikistan\n",
        " </a>\n",
        "</li>\n",
        "<li>\n",
        " <a href=\"http://derstandard.at/2000012316022/Syrische-Opposition-gegen-Waffenruhe\" target=\"_blank\">\n",
        "  Syrische Opposition gegen Waffenruhe\n",
        " </a>\n",
        "</li>\n",
        "<li>\n",
        " <a href=\"http://derstandard.at/2000012310657/Vizepraesident-sierra-Leones-in-Quarantaene\" target=\"_blank\">\n",
        "  Vizepr\u00e4sident Sierra Leones in Quarant\u00e4ne\n",
        " </a>\n",
        "</li>\n",
        "<li>\n",
        " <a href=\"http://derstandard.at/2000012301401/Venezuela-verhaengt-Einreiseverbot-gegen-US-Politiker\" target=\"_blank\">\n",
        "  Venezuela verh\u00e4ngt Einreiseverbot gegen US-Politiker\n",
        " </a>\n",
        "</li>\n",
        "<li>\n",
        " <a href=\"http://derstandard.at/2000012329760/Regierungspartei-fuehrt-bei-Wahl-in-Lesotho\" target=\"_blank\">\n",
        "  Regierungspartei f\u00fchrt bei Wahl in Lesotho\n",
        " </a>\n",
        "</li>\n",
        "<li>\n",
        " <a href=\"http://derstandard.at/2000012289596/Polizei-in-Bremen-warnt-vor-Gefahr-durch-Islamisten\" target=\"_blank\">\n",
        "  Entwarnung in Bremen nach Furcht vor Anschlag\n",
        " </a>\n",
        "</li>\n",
        "<li>\n",
        " <a href=\"http://derstandard.at/2000012298213/Friedensabkommen-zwischen-Regierung-und-Rebellen-in-Mali\" target=\"_blank\">\n",
        "  Friedensabkommen zwischen Regierung und Rebellen in Mali\n",
        " </a>\n",
        "</li>\n",
        "<li>\n",
        " <a href=\"http://derstandard.at/2000012305899/Ich-stelle-eine-Doerfler-Sehnsucht-fest\" target=\"_blank\">\n",
        "  \"Ich stelle eine D\u00f6rfler-Sehnsucht fest\"\n",
        " </a>\n",
        "</li>\n",
        "<li>\n",
        " <a href=\"http://derstandard.at/2000012314326/Ex-Sozialminister-Hums-verstorben\" target=\"_blank\">\n",
        "  Ex-Sozialminister Hums verstorben\n",
        " </a>\n",
        "</li>\n",
        "<li>\n",
        " <a href=\"http://derstandard.at/2000012264880/Claus-Raidl-vs-Gregor-Raidl-Ach-so-dann-bin-ich\" target=\"_blank\">\n",
        "  Claus Raidl vs. Gregor Raidl: \"Ach so, dann bin ich doch nicht liberaler\"\n",
        " </a>\n",
        "</li>\n",
        "<li>\n",
        " <a href=\"http://derstandard.at/2000012304672/IV-startet-Kampagne-gegen-Vermoegenssteuern\" target=\"_blank\">\n",
        "  IV startet Plakat-Kampagne gegen Verm\u00f6genssteuern vor \u00d6GB-Zentrale\n",
        " </a>\n",
        "</li>\n",
        "<li>\n",
        " <a href=\"http://derstandard.at/2000012288435/Wirbel-um-Bandion-Ortner-Nachfolge\" target=\"_blank\">\n",
        "  Abdullah-Zentrum: Wirbel um Bandion-Ortner-Nachfolge\n",
        " </a>\n",
        "</li>\n",
        "<li>\n",
        " <a href=\"http://derstandard.at/2000012304744/Pflegegeld-Zahl-der-Bezieher-leicht-gestiegen\" target=\"_blank\">\n",
        "  Pflegegeld: Zahl der Bezieher leicht gestiegen\n",
        " </a>\n",
        "</li>\n",
        "<li>\n",
        " <a href=\"http://derstandard.at/2000012290527/Wien-Wahl-Meinl-Reisinger-als-Neos-Spitzenkandidatin-bestaetigt\" target=\"_blank\">\n",
        "  Wien-Wahl: Meinl-Reisinger als Neos-Spitzenkandidatin best\u00e4tigt\n",
        " </a>\n",
        "</li>\n",
        "<li>\n",
        " <a href=\"http://derstandard.at/2000012284769/17-Frauen-wollen-Buergermeisterin-werden\" target=\"_blank\">\n",
        "  17 Frauen wollen B\u00fcrgermeisterin werden\n",
        " </a>\n",
        "</li>\n",
        "<li>\n",
        " <a href=\"http://derstandard.at/2000012273047/Neues-Projekt-Die-schwimmenden-Gaerten-am-Donaukanal\" target=\"_blank\">\n",
        "  Neues Projekt: Die schwimmenden G\u00e4rten am Donaukanal\n",
        " </a>\n",
        "</li>\n",
        "<li>\n",
        " <a href=\"http://derstandard.at/2000012301155/Zwei-tote-Frauen-nach-Wohnungsbrand-in-Wien-Mariahilf\" target=\"_blank\">\n",
        "  Zwei tote Frauen nach Wohnungsbrand in Wien-Mariahilf\n",
        " </a>\n",
        "</li>\n",
        "<li>\n",
        " <a href=\"http://derstandard.at/2000012303148/Mehr-als-tausend-Menschen-wegen-Hochwassers-in-Spanien-evakuiert\" target=\"_blank\">\n",
        "  \u00dcberschwemmungen in Nordspanien: Ebro \u00fcber die Ufer getreten\n",
        " </a>\n",
        "</li>\n",
        "<li>\n",
        " <a href=\"http://derstandard.at/2000012311460/Gesuchter-US-Sektenfuehrer-in-Brasilien-gefasst\" target=\"_blank\">\n",
        "  Gesuchter US-Sektenf\u00fchrer in Brasilien gefasst\n",
        " </a>\n",
        "</li>\n",
        "<li>\n",
        " <a href=\"http://derstandard.at/2000012329640/Nach-Streit-auf-Facebook-14-Jaehrige-in-Alabama-erschossen\" target=\"_blank\">\n",
        "  Nach Streit auf Facebook: 14-J\u00e4hrige in Alabama erschossen\n",
        " </a>\n",
        "</li>\n",
        "<li>\n",
        " <a href=\"http://derstandard.at/2000012294083/Aliyev-Zweite-Obduktion-in-der-Schweiz\" target=\"_blank\">\n",
        "  Alijew: Zweite Obduktion in der Schweiz\n",
        " </a>\n",
        "</li>\n",
        "<li>\n",
        " <a href=\"http://derstandard.at/2000012305974/Sechs-Verletzte-nach-Saeureattacke-im-Innviertel\" target=\"_blank\">\n",
        "  Sechs Verletzte nach S\u00e4ureattacke im Innviertel\n",
        " </a>\n",
        "</li>\n",
        "<li>\n",
        " <a href=\"http://derstandard.at/2000012306051/Streit-um-als-Saeugling-entfuehrtes-Maedchen-in-Suedafrika\" target=\"_blank\">\n",
        "  Streit um als S\u00e4ugling entf\u00fchrtes M\u00e4dchen in S\u00fcdafrika\n",
        " </a>\n",
        "</li>\n",
        "<li>\n",
        " <a href=\"http://derstandard.at/2000012292032/53-Jaehrige-Deutsche-starb-bei-Frontalkollision-in-Salzburg\" target=\"_blank\">\n",
        "  53-J\u00e4hrige Deutsche starb bei Frontalkollision in Salzburg\n",
        " </a>\n",
        "</li>\n",
        "<li>\n",
        " <a href=\"http://derstandard.at/2000012306132/EZB-beginnt-Kauf-von-Staatsanleihen-Kritik-bleibt\" target=\"_blank\">\n",
        "  EZB beginnt Kauf von Staatsanleihen\n",
        " </a>\n",
        "</li>\n",
        "<li>\n",
        " <a href=\"http://derstandard.at/2000012309193/Spanien-und-Portugal-empoert-ueber-Vorschwoerungs-Vorwuerfe-Athens\" target=\"_blank\">\n",
        "  Verschw\u00f6rungstheorien: Schuldenstreit treibt Bl\u00fcten\n",
        " </a>\n",
        "</li>\n",
        "<li>\n",
        " <a href=\"http://derstandard.at/2000012276761/Optimismus-in-der-Krise-Ende-der-Dauerflaute-in-Sicht\" target=\"_blank\">\n",
        "  Eurozone: Ende der Dauerflaute in Sicht\n",
        " </a>\n",
        "</li>\n",
        "<li>\n",
        " <a href=\"http://derstandard.at/2000012301000/China-daempft-Erwartungen-Nur-noch-etwa-sieben-Prozent-Wachstum\" target=\"_blank\">\n",
        "  China senkt Zinsen und d\u00e4mpft Erwartungen\n",
        " </a>\n",
        "</li>\n",
        "<li>\n",
        " <a href=\"http://derstandard.at/2000012303549/WKO-Wahlen-Gruene-sprechen-von-gefaelschtem-Ergebnis-in-Wien\" target=\"_blank\">\n",
        "  WKO-Wahlen: Gr\u00fcne sprechen von gef\u00e4lschtem Ergebnis in Wien\n",
        " </a>\n",
        "</li>\n",
        "<li>\n",
        " <a href=\"http://derstandard.at/2000012291288/Buffett-Gesellschaft-Berkeshire-verdient-weniger\" target=\"_blank\">\n",
        "  Buffett legt sich auf Nachfolger fest \u2013 Name aber geheim\n",
        " </a>\n",
        "</li>\n",
        "<li>\n",
        " <a href=\"http://derstandard.at/2000012284860/IBM-streicht-etwa-400-Stellen-in-Deutschland\" target=\"_blank\">\n",
        "  IBM streicht etwa 400 Stellen in Deutschland\n",
        " </a>\n",
        "</li>\n",
        "<li>\n",
        " <a href=\"http://derstandard.at/2000012284926/Mitfahrdienst-Uber-stoppt-Expansion-in-Deutschland\" target=\"_blank\">\n",
        "  Kein Expansionsstopp bei Uber in Deutschland\n",
        " </a>\n",
        "</li>\n",
        "<li>\n",
        " <a href=\"http://derstandard.at/2000012243732/Indien-will-um-acht-Prozent-wachsen\" target=\"_blank\">\n",
        "  Indien entt\u00e4uscht mit Wirtschafts- und Finanzreformen\n",
        " </a>\n",
        "</li>\n",
        "<li>\n",
        " <a href=\"http://derstandard.at/2000012312425/HTC-stellt-sein-neues-Flaggschiff-Smartphone-vorHTC-One-M9\" target=\"_blank\">\n",
        "  HTC stellt Flaggschiff-Smartphone One M9 und VR-Brille vor\n",
        " </a>\n",
        "</li>\n",
        "<li>\n",
        " <a href=\"http://derstandard.at/2000012217002/User-Wertung-Dying-Light\" target=\"_blank\">\n",
        "  <span class=\"ugc-icon\" title=\"Userbeitrag\">\n",
        "   #\n",
        "  </span>\n",
        "  User-Wertung: \"Dying Light\"\n",
        " </a>\n",
        "</li>\n",
        "<li>\n",
        " <a href=\"http://derstandard.at/2000012301251/FRITZWLAN-Repeater-DVB-C-im-Test-Kabelfernsehen-fuer-die-Smartphone\" target=\"_blank\">\n",
        "  FRITZ!WLAN Repeater DVB-C im Test: Kabelfernsehen f\u00fcr die Smartphone-\u00c4ra\n",
        " </a>\n",
        "</li>\n",
        "<li>\n",
        " <a href=\"http://derstandard.at/2000012316274/Mr-Spock-NASA-ehrt-verstorbenen-Leonard-Nimoy\" target=\"_blank\">\n",
        "  Mr. Spock: NASA ehrt verstorbenen Leonard Nimoy\n",
        " </a>\n",
        "</li>\n",
        "<li>\n",
        " <a href=\"http://derstandard.at/2000012312538/PrivDog-Sicherheitssoftware-telefoniert-nach-Haus\" target=\"_blank\">\n",
        "  PrivDog: Sicherheitssoftware telefoniert nach Hause\n",
        " </a>\n",
        "</li>\n",
        "<li>\n",
        " <a href=\"http://derstandard.at/2000012311487/Liquid-M220-Acer-stellt-Windows-Phone-um-80-Euro-vor\" target=\"_blank\">\n",
        "  Liquid M220: Acer stellt Windows Phone um 80 Euro vor\n",
        " </a>\n",
        "</li>\n",
        "<li>\n",
        " <a href=\"http://derstandard.at/2000012307046/Microsoft-kuendigt-unabsichtlich-Lumia-640-XL-an\" target=\"_blank\">\n",
        "  Microsoft k\u00fcndigt unabsichtlich Lumia 640 (XL) an\n",
        " </a>\n",
        "</li>\n",
        "<li>\n",
        " <a href=\"http://derstandard.at/2000012316124/Firefox-OS-Wir-muessen-den-mobilen-Markt-knacken\" target=\"_blank\">\n",
        "  Firefox OS: \"Wir m\u00fcssen den mobilen Markt knacken\"\n",
        " </a>\n",
        "</li>\n",
        "<li>\n",
        " <a href=\"http://derstandard.at/2000012059290/Kennen-Sie-diese-beruehmten-Tech-Zitate\" target=\"_blank\">\n",
        "  Kennen Sie diese ber\u00fchmten Tech-Zitate?\n",
        " </a>\n",
        "</li>\n",
        "<li>\n",
        " <a href=\"http://derstandard.at/2000012292238/Wankband-Wearable-von-Pornhub-laedt-Akkus-durch-Masturbation\" target=\"_blank\">\n",
        "  \"Wankband\": Wearable l\u00e4dt Akkus durch Masturbation\n",
        " </a>\n",
        "</li>\n",
        "<li>\n",
        " <a href=\"http://derstandard.at/2000012303427/Huawei-bringt-schicke-Smartwatch-mit-Android-Wear\" target=\"_blank\">\n",
        "  Huawei: Schicke Smartwatch mit Android Wear\n",
        " </a>\n",
        "</li>\n",
        "<li>\n",
        " <a href=\"http://derstandard.at/2000012302451/Ikea-will-drahtlose-Ladestationen-in-Moebel-einbauen\" target=\"_blank\">\n",
        "  Ikea baut drahtlose Ladestationen in M\u00f6bel ein\n",
        " </a>\n",
        "</li>\n",
        "<li>\n",
        " <a href=\"http://derstandard.at/2000012331706/Torfestival-in-Bremen-geht-an-Wolfsburg\" target=\"_blank\">\n",
        "  Torfestival in Bremen geht an Wolfsburg\n",
        " </a>\n",
        "</li>\n",
        "<li>\n",
        " <a href=\"http://derstandard.at/2000012312985/Northug-schlaegt-auch-im-Marathon-zu\" target=\"_blank\">\n",
        "  Northug schl\u00e4gt auch im Marathon zu\n",
        " </a>\n",
        "</li>\n",
        "<li>\n",
        " <a href=\"http://derstandard.at/2000012330818/Chelsea-feiert-Ligapokal-Titel\" target=\"_blank\">\n",
        "  Chelsea feiert Ligapokal-Titel\n",
        " </a>\n",
        "</li>\n",
        "<li>\n",
        " <a href=\"http://derstandard.at/2000012309726/Liverpool-beendet-ManCitys-Titelrennen\" target=\"_blank\">\n",
        "  Liverpool stoppt ManCity im Titelrennen\n",
        " </a>\n",
        "</li>\n",
        "<li>\n",
        " <a href=\"http://derstandard.at/2000012303514/Deutscher-Ex-Teamspieler-Wuttke-gestorben\" target=\"_blank\">\n",
        "  Deutscher Ex-Teamspieler Wolfram Wuttke 53-j\u00e4hrig gestorben\n",
        " </a>\n",
        "</li>\n",
        "<li>\n",
        " <a href=\"http://derstandard.at/2000012310472/Teigl-trifft-bei-Leipzig-Triumph-ueber-Union\" target=\"_blank\">\n",
        "  Teigl trifft bei Leipzig-Triumph \u00fcber Union\n",
        " </a>\n",
        "</li>\n",
        "<li>\n",
        " <a href=\"http://derstandard.at/2000012295119/OeSV-Adler-auf-Medaillenkurs\" target=\"_blank\">\n",
        "  \u00d6SV-Adler gewinnen WM-Silber in Falun\n",
        " </a>\n",
        "</li>\n",
        "<li>\n",
        " <a href=\"http://derstandard.at/2000012294157/Dubai-Finale-Federer-schlaegtDjokovic\" target=\"_blank\">\n",
        "  Dubai-Finale: Federer schl\u00e4gt Djokovic\n",
        " </a>\n",
        "</li>\n",
        "<li>\n",
        " <a href=\"http://derstandard.at/2000012328526/Vanessa-Bittner-gute-Achte-bei-der-Sprint-WM\" target=\"_blank\">\n",
        "  Vanessa Bittner gute Achte bei der Sprint-WM\n",
        " </a>\n",
        "</li>\n",
        "<li>\n",
        " <a href=\"http://derstandard.at/2000012301922/Wichtiger-Erfolg-fuer-Minnesota\" target=\"_blank\">\n",
        "  Wichtiger Erfolg f\u00fcr Minnesota, Tore von Raffl und Grabner\n",
        " </a>\n",
        "</li>\n",
        "<li>\n",
        " <a href=\"http://derstandard.at/2000012294215/Barcelona-rueckt-Real-Madrid-nahe\" target=\"_blank\">\n",
        "  Barcelona r\u00fcckt Real Madrid nahe\n",
        " </a>\n",
        "</li>\n",
        "<li>\n",
        " <a href=\"http://derstandard.at/2000012242487/Schneerosen-statt-RadlerhosenWinterwandern-auf-dem-Traisentalradweg\" target=\"_blank\">\n",
        "  Winterwandern auf dem Traisentalradweg\n",
        " </a>\n",
        "</li>\n",
        "<li>\n",
        " <a href=\"http://derstandard.at/2000012097915/Diese-Airports-bieten-den-besten-Service\" target=\"_blank\">\n",
        "  Diese Airports bieten den besten Service\n",
        " </a>\n",
        "</li>\n",
        "<li>\n",
        " <a href=\"http://derstandard.at/2000012082956/Schnell-aber-nicht-ueberall-billig-Der-Big-Mac-im-Vergleich\" target=\"_blank\">\n",
        "  Was der Big Mac im L\u00e4ndervergleich kostet\n",
        " </a>\n",
        "</li>\n",
        "<li>\n",
        " <a href=\"http://derstandard.at/2000012163642/Das-sind-die-zehn-besten-Rollercoaster-der-Welt-2015\" target=\"_blank\">\n",
        "  Die zehn weltbesten Hochschaubahnen 2015\n",
        " </a>\n",
        "</li>\n",
        "<li>\n",
        " <a href=\"http://derstandard.at/2000012091580/Burgenlaender-Witze\" target=\"_blank\">\n",
        "  Burgenl\u00e4nder-Witze\n",
        " </a>\n",
        "</li>\n",
        "<li>\n",
        " <a href=\"http://derstandard.at/2000012099949/Tom-of-Finland-Im-Atelier-einer-Schwulen-Ikone\" target=\"_blank\">\n",
        "  Tom of Finland: Im Atelier einer Schwulen-Ikone\n",
        " </a>\n",
        "</li>\n",
        "<li>\n",
        " <a href=\"http://derstandard.at/2000012254316/Mailand-Fashion-Week-Romantik-Nostalgie-und-Cartoons\" target=\"_blank\">\n",
        "  Milan Fashion Week: Romantik, Nostalgie und Cartoons\n",
        " </a>\n",
        "</li>\n",
        "<li>\n",
        " <a href=\"http://derstandard.at/2000012247006/Gesunde-Kueche-light-easy\" target=\"_blank\">\n",
        "  Ohne Weizen, ohne Milch: \"Light &amp; Easy\"\n",
        " </a>\n",
        "</li>\n",
        "<li>\n",
        " <a href=\"http://derstandard.at/2000012255410/Zum-Millionaer-wird-man-frueh\" target=\"_blank\">\n",
        "  Zum Million\u00e4r wird man fr\u00fch\n",
        " </a>\n",
        "</li>\n",
        "<li>\n",
        " <a href=\"http://derstandard.at/2000012239447/Neuer-Job-Hallo-ich-bin-der-Gluecksvorstand\" target=\"_blank\">\n",
        "  Neuer Job: \"Hallo, ich bin der Gl\u00fccksvorstand\"\n",
        " </a>\n",
        "</li>\n",
        "<li>\n",
        " <a href=\"http://derstandard.at/2000012253610/Schoene-neue-Zwangsbeglueckung\" target=\"_blank\">\n",
        "  Je gl\u00fccklicher, desto n\u00fctzlicher f\u00fcr die Firma\n",
        " </a>\n",
        "</li>\n",
        "<li>\n",
        " <a href=\"http://derstandard.at/2000012267207/Deutschland-fuehrt-Bestellerprinzip-ein\" target=\"_blank\">\n",
        "  Deutschland f\u00fchrt Bestellerprinzip ein\n",
        " </a>\n",
        "</li>\n",
        "<li>\n",
        " <a href=\"http://derstandard.at/2000012265638/Remax-Europe-Bestellerprinzip-ist-richtiger-Schritt\" target=\"_blank\">\n",
        "  Remax Europe: \"Bestellerprinzip ist richtiger Schritt\"\n",
        " </a>\n",
        "</li>\n",
        "<li>\n",
        " <a href=\"http://derstandard.at/2000012265164/Architekt-Stefan-Boeri-Stundenlang-ueber-meine-Fehler-sprechen\" target=\"_blank\">\n",
        "  Architekt Stefan Boeri: \"Stundenlang \u00fcber meine Fehler sprechen\"\n",
        " </a>\n",
        "</li>\n",
        "<li>\n",
        " <a href=\"http://derstandard.at/2000012225493/Die-Kompensation-des-Energieverbrauchs\" target=\"_blank\">\n",
        "  Die Kompensation des Energieverbrauchs\n",
        " </a>\n",
        "</li>\n",
        "<li>\n",
        " <a href=\"http://derstandard.at/2000012210206/Suzuki-Vitara-Von-der-Gamsjagd-ins-Grossstadtrevier\" target=\"_blank\">\n",
        "  Suzuki Vitara: Gro\u00dfstadt statt Gamsjagd\n",
        " </a>\n",
        "</li>\n",
        "<li>\n",
        " <a href=\"http://derstandard.at/2000012216128/Das-bringt-der-Genfer-Autosalon\" target=\"_blank\">\n",
        "  Kombis am Genfer Autosalon\n",
        " </a>\n",
        "</li>\n",
        "<li>\n",
        " <a href=\"http://derstandard.at/2000012277053/Tod-durch-Energiewende-Polizeiruf-110-Sonntagabend-in-der-ARD\" target=\"_blank\">\n",
        "  Tod durch Energiewende: \"Polizeiruf 110\" Sonntagabend in der ARD\n",
        " </a>\n",
        "</li>\n",
        "<li>\n",
        " <a href=\"http://derstandard.at/2000012261711/Bluemel-will-Milliarde-aus-TV-Gebuehr-und-Regierungswerbung-umgruppieren\" target=\"_blank\">\n",
        "  Bl\u00fcmel will Milliarde aus Regierungswerbung und TV-Geb\u00fchr umgruppieren\n",
        " </a>\n",
        "</li>\n",
        "<li>\n",
        " <a href=\"http://derstandard.at/2000012309411/Worauf-Oesterreichs-Fernsehzuschauer-abfahren-Nebel\" target=\"_blank\">\n",
        "  Worauf \u00d6sterreichs Fernsehzuschauer abfahren: Nebel\n",
        " </a>\n",
        "</li>\n",
        "<li>\n",
        " <a href=\"http://derstandard.at/2000012274140/Die-wahren-Freunde-der-Juden\" target=\"_blank\">\n",
        "  Die wahren Freunde der Juden\n",
        " </a>\n",
        "</li>\n",
        "<li>\n",
        " <a href=\"http://derstandard.at/2000012256920/Herbert-Kloiber-will-ATV-im-Moment-weder-fuer-50-noch\" target=\"_blank\">\n",
        "  Kloiber will ATV \"im Moment\" nicht verkaufen\n",
        " </a>\n",
        "</li>\n",
        "<li>\n",
        " <a href=\"http://derstandard.at/2000012291955/Sueddeutsche-wird-auch-im-Internet-kostenpflichtig\" target=\"_blank\">\n",
        "  \"S\u00fcddeutsche\" wird auch im Internet kostenpflichtig\n",
        " </a>\n",
        "</li>\n",
        "<li>\n",
        " <a href=\"http://derstandard.at/2000012260545/Kleine-Rundfunknovelle-ging-Freitag-in-Begutachtung\" target=\"_blank\">\n",
        "  Kleine Rundfunknovelle ging Freitag in Begutachtung\n",
        " </a>\n",
        "</li>\n",
        "<li>\n",
        " <a href=\"http://derstandard.at/2000012271042/Streit-um-Markenrechte-fuer-Politico-vor-Gericht\" target=\"_blank\">\n",
        "  Streit um Markenrechte f\u00fcr \"Politico\" vor Gericht\n",
        " </a>\n",
        "</li>\n",
        "<li>\n",
        " <a href=\"http://derstandard.at/2000012265806/Fachgruppe-Werbung-Wien-Wirtschaftsbund-bleibt-staerkste-Fraktion\" target=\"_blank\">\n",
        "  Fachgruppe Werbung Wien: Wirtschaftsbund bleibt st\u00e4rkste Fraktion\n",
        " </a>\n",
        "</li>\n",
        "<li>\n",
        " <a href=\"http://derstandard.at/2000012313315/Die-Steppe-brennt-Schauspieler-ergreifen-die-Flucht\" target=\"_blank\">\n",
        "  Die Steppe brennt, Schauspieler ergreifen die Flucht\n",
        " </a>\n",
        "</li>\n",
        "<li>\n",
        " <a href=\"http://derstandard.at/2000012274400/Mein-Geheimnis-Ich-frage-stets-ob-ich-filmen-darf\" target=\"_blank\">\n",
        "  Frederick Wiseman: \"Mein Geheimnis: Ich frage stets, ob ich filmen darf\"\n",
        " </a>\n",
        "</li>\n",
        "<li>\n",
        " <a href=\"http://derstandard.at/2000012314746/Ein-Ammenmaerchen-fuer-die-Witwentroestung\" target=\"_blank\">\n",
        "  Ein Ammenm\u00e4rchen f\u00fcr die Witwentr\u00f6stung\n",
        " </a>\n",
        "</li>\n",
        "<li>\n",
        " <a href=\"http://derstandard.at/2000012261322/Friaul-mit-Fanatikern\" target=\"_blank\">\n",
        "  Werner Stanzl: Friaul mit Fanatikern\n",
        " </a>\n",
        "</li>\n",
        "<li>\n",
        " <a href=\"http://derstandard.at/2000012261909/Elke-Erb-Gespannter-Bogengespannte-Aufmerksamkeit\" target=\"_blank\">\n",
        "  Elke Erb: Gespannter Bogen, gespannte Aufmerksamkeit\n",
        " </a>\n",
        "</li>\n",
        "<li>\n",
        " <a href=\"http://derstandard.at/2000012258638/Vermisstes-Werk-von-Picasso-in-New-Jersey-aufgetaucht\" target=\"_blank\">\n",
        "  Vermisster Picasso in New Jersey aufgetaucht\n",
        " </a>\n",
        "</li>\n",
        "<li>\n",
        " <a href=\"http://derstandard.at/2000012251293/Katy-Perry-in-Wien-Tagada-mit-Hundemasken\" target=\"_blank\">\n",
        "  Katy Perry in Wien: Tagada mit Hundemasken\n",
        " </a>\n",
        "</li>\n",
        "<li>\n",
        " <a href=\"http://derstandard.at/2000012254799/Viennafair-Affairs\" target=\"_blank\">\n",
        "  Wiener Messe-Aff\u00e4ren: Viennafair nach Vorbild der Frieze\n",
        " </a>\n",
        "</li>\n",
        "<li>\n",
        " <a href=\"http://derstandard.at/2000012207232/Napalm-Death-Apex-Predator-Easy-Meat\" target=\"_blank\">\n",
        "  Napalm Death: \"Apex Predator \u2013 Easy Meat\"\n",
        " </a>\n",
        "</li>\n",
        "<li>\n",
        " <a href=\"http://derstandard.at/2000012225858/Neurochirurg-Verpflanzung-menschlicher-Koepfe-schon-in-zwei-Jahren\" target=\"_blank\">\n",
        "  Neurochirurg: \"Verpflanzung menschlicher K\u00f6pfe schon in zwei Jahren\"\n",
        " </a>\n",
        "</li>\n",
        "<li>\n",
        " <a href=\"http://derstandard.at/2000012272561/Ueberraschung-Am-Rand-der-Milchstrasse-entstehen-neue-Sterne\" target=\"_blank\">\n",
        "  \u00dcberraschung: Am Rand der Milchstra\u00dfe entstehen neue Sterne\n",
        " </a>\n",
        "</li>\n",
        "<li>\n",
        " <a href=\"http://derstandard.at/2000012062750/Kuenstliche-Spinnenseide-mit-natuerlichen-Eigenschaften\" target=\"_blank\">\n",
        "  K\u00fcnstliche Spinnenseide mit nat\u00fcrlichen Eigenschaften\n",
        " </a>\n",
        "</li>\n",
        "<li>\n",
        " <a href=\"http://derstandard.at/2000012312042/Weisse-Haie-greifen-mit-der-Sonne-im-Ruecken-an\" target=\"_blank\">\n",
        "  Wei\u00dfe Haie greifen mit der Sonne im R\u00fccken an\n",
        " </a>\n",
        "</li>\n",
        "<li>\n",
        " <a href=\"http://derstandard.at/2000012308331/ISS-wird-auf-das-Andocken-neuer-Raumschiffe-vorbereitet\" target=\"_blank\">\n",
        "  ISS wird auf das Andocken neuer Raumschiffe vorbereitet\n",
        " </a>\n",
        "</li>\n",
        "<li>\n",
        " <a href=\"http://derstandard.at/2000012261540/Eiszeitlicher-Regen-hatte-anderen-Ursprung-als-der-heutige\" target=\"_blank\">\n",
        "  Eiszeitlicher Regen hatte anderen Ursprung als der heutige\n",
        " </a>\n",
        "</li>\n",
        "<li>\n",
        " <a href=\"http://derstandard.at/2000012106734/Ratten-helfen-einander-nach-dem-Grundsatz-Wie-du-mir-so\" target=\"_blank\">\n",
        "  Ratten helfen einander nach dem Grundsatz \"Wie du mir, so ich dir\"\n",
        " </a>\n",
        "</li>\n",
        "<li>\n",
        " <a href=\"http://derstandard.at/2000012105097/Spuerhunde-unterstuetzen-Forscher-beim-Schutz-bedrohter-Gorillas\" target=\"_blank\">\n",
        "  Sp\u00fcrhunde unterst\u00fctzen Forscher beim Schutz bedrohter Gorillas\n",
        " </a>\n",
        "</li>\n",
        "<li>\n",
        " <a href=\"http://derstandard.at/2000012109299/Bauphysikerin-mit-Faible-fuer-Jugendstil\" target=\"_blank\">\n",
        "  Bauphysikerin mit Faible f\u00fcr Jugendstil\n",
        " </a>\n",
        "</li>\n",
        "<li>\n",
        " <a href=\"http://derstandard.at/2000012107006/Schnecken-halten-bereits-als-Embryos-einiges-aus\" target=\"_blank\">\n",
        "  Schnecken halten bereits als Embryos einiges aus\n",
        " </a>\n",
        "</li>\n",
        "<li>\n",
        " <a href=\"http://derstandard.at/2000012108644/Die-Bakterienmonster-wegputzen\" target=\"_blank\">\n",
        "  Die Bakterienmonster wegputzen\n",
        " </a>\n",
        "</li>\n",
        "<li>\n",
        " <a href=\"http://derstandard.at/2000012246607/Rauchen-verursacht-mehr-toedliche-Krankheiten-als-bisher-angenommen\" target=\"_blank\">\n",
        "  Rauchen verursacht mehr t\u00f6dliche Krankheiten als bisher angenommen\n",
        " </a>\n",
        "</li>\n",
        "<li>\n",
        " <a href=\"http://derstandard.at/2000012261511/Oekotest-Antibakterielle-Produkte-sind-ueberfluessig\" target=\"_blank\">\n",
        "  \"\u00d6kotest\": Antibakterielle Produkte sind \u00fcberfl\u00fcssig\n",
        " </a>\n",
        "</li>\n",
        "<li>\n",
        " <a href=\"http://derstandard.at/2000012196904/Mediziner-als-Detektive-Jeder-zwanzigste-Oesterreicher-leidet-an-seltener-Krankheit\" target=\"_blank\">\n",
        "  Mediziner als Detektive: Jeder Zwanzigste leidet an seltener Krankheit\n",
        " </a>\n",
        "</li>\n",
        "<li>\n",
        " <a href=\"http://derstandard.at/2000012188834/Macht-zu-viel-Schlaf-krank\" target=\"_blank\">\n",
        "  Macht zu viel Schlaf krank?\n",
        " </a>\n",
        "</li>\n",
        "<li>\n",
        " <a href=\"http://derstandard.at/2000012259688/WHO-rechnet-nicht-vor-August-mit-Entscheidung-zu-Ebola-Impfstoff\" target=\"_blank\">\n",
        "  WHO rechnet nicht vor August mit Entscheidung zu Ebola-Impfstoff\n",
        " </a>\n",
        "</li>\n",
        "<li>\n",
        " <a href=\"http://derstandard.at/2000012258245/Arzt-in-Deutschland-wegen-323-absichtlichen-Fehldiagnosen-angeklagt\" target=\"_blank\">\n",
        "  Arzt in Deutschland wegen 323 absichtlicher Fehldiagnosen angeklagt\n",
        " </a>\n",
        "</li>\n",
        "<li>\n",
        " <a href=\"http://derstandard.at/2000012254374/Masern-Bis-zu-30-neue-Faelle-pro-Tag-in-Berlin\" target=\"_blank\">\n",
        "  Masern: Bis zu 30 neue F\u00e4lle pro Tag in Berlin\n",
        " </a>\n",
        "</li>\n",
        "<li>\n",
        " <a href=\"http://derstandard.at/2000012161551/Sprossen-Wenig-erspriesslicher-Genuss\" target=\"_blank\">\n",
        "  Sprossen: Wenig ersprie\u00dflicher Genuss\n",
        " </a>\n",
        "</li>\n",
        "<li>\n",
        " <a href=\"http://derstandard.at/2000012252866/Situation-der-Schmerzmedizin-in-Oesterreich-wird-immer-prekaerer\" target=\"_blank\">\n",
        "  Schmerzmedizin: Situation wird \"immer prek\u00e4rer\"\n",
        " </a>\n",
        "</li>\n",
        "<li>\n",
        " <a href=\"http://derstandard.at/2000012137023/Endlich-Leben-in-der-Bude\" target=\"_blank\">\n",
        "  Endlich Leben in der Bude\n",
        " </a>\n",
        "</li>\n",
        "<li>\n",
        " <a href=\"http://derstandard.at/2000010568480/Wie-reden-Sie-mit-Kindern-ueber-den-Tod\" target=\"_blank\">\n",
        "  <span class=\"ugc-icon\" title=\"Userbeitrag\">\n",
        "   #\n",
        "  </span>\n",
        "  Wie reden Sie mit Kindern \u00fcber den Tod?\n",
        " </a>\n",
        "</li>\n",
        "<li>\n",
        " <a href=\"http://derstandard.at/2000011939773/Wenn-das-Familiespielen-warten-muss\" target=\"_blank\">\n",
        "  Wenn das \"Familiespielen\" warten muss\n",
        " </a>\n",
        "</li>\n",
        "<li>\n",
        " <a href=\"http://derstandard.at/2000011397227/In-Schweden-ist-nicht-alles-besser\" target=\"_blank\">\n",
        "  <span class=\"ugc-icon\" title=\"Userbeitrag\">\n",
        "   #\n",
        "  </span>\n",
        "  In Schweden ist nicht alles besser\n",
        " </a>\n",
        "</li>\n",
        "<li>\n",
        " <a href=\"http://derstandard.at/2000012216650/Frauen-in-Aegypten-Fuer-ihr-Engagement-zahlen-alle-einen-Preis\" target=\"_blank\">\n",
        "  Doku \u00fcber Frauen in \u00c4gypten: \"F\u00fcr ihr Engagement zahlen alle einen Preis\"\n",
        " </a>\n",
        "</li>\n",
        "<li>\n",
        " <a href=\"http://derstandard.at/2000012198915/Sue-vaal-Glauder-Eine-unvergleichliche-Performances-geht-zu-Ende\" target=\"_blank\">\n",
        "  S\u00fc-Vaal Glauder: Eine unvergleichliche Performance geht zu Ende\n",
        " </a>\n",
        "</li>\n",
        "<li>\n",
        " <a href=\"http://derstandard.at/2000012038932/Unter-der-Guertellinie\" target=\"_blank\">\n",
        "  <span class=\"ugc-icon\" title=\"Userbeitrag\">\n",
        "   #\n",
        "  </span>\n",
        "  Unter der G\u00fcrtellinie \u2013 der Drang nach Geschlechtereinteilung\n",
        " </a>\n",
        "</li>"
       ],
       "metadata": {},
       "output_type": "pyout",
       "prompt_number": 28,
       "text": [
        "<IPython.core.display.HTML at 0x37b0b10>"
       ]
      }
     ],
     "prompt_number": 28
    },
    {
     "cell_type": "markdown",
     "metadata": {},
     "source": [
      "## Suchmaschine\n",
      "\n",
      "Eine Kombination aus den bisher vorgestellten Techniken, ist z.B. der Bau einer eigenen kleinen Suchmaschine.\n",
      "Zuerst werden Webseiten nach Links durchsucht, und die verlinkten Seiten ebenfalls wieder nach Links durchsucht.\n",
      "Auf diese Art erh\u00e4lt man eine Sammlung von Webseiten.\n",
      "Daf\u00fcr baut man nun einen Index, der von den einzelnen W\u00f6rtern wieder auf die Links der Webseiten zur\u00fcck verweisen."
     ]
    },
    {
     "cell_type": "code",
     "collapsed": false,
     "input": [
      "from __future__ import print_function\n",
      "from collections import defaultdict\n",
      "from Queue import Queue\n",
      "import requests as req\n",
      "import random\n",
      "import re\n",
      "import threading\n",
      "from multiprocessing.pool import ThreadPool\n",
      "from bs4 import BeautifulSoup"
     ],
     "language": "python",
     "metadata": {},
     "outputs": [],
     "prompt_number": 29
    },
    {
     "cell_type": "code",
     "collapsed": false,
     "input": [
      "# TODO: pagerank algorithmus aus networkx einbauen"
     ],
     "language": "python",
     "metadata": {},
     "outputs": [],
     "prompt_number": 30
    },
    {
     "cell_type": "code",
     "collapsed": false,
     "input": [
      "def mk_new_url(url, href):\n",
      "    if href.startswith(\"http\"):\n",
      "        new_url = href\n",
      "    elif href.startswith(\"#\"):\n",
      "        return None\n",
      "    else:\n",
      "        if not href.startswith(\"/\"):\n",
      "            href = \"/\" + href\n",
      "        new_url = url + href\n",
      "    if \"?\" in new_url:\n",
      "        new_url = new_url[:new_url.index(\"?\")]\n",
      "    if new_url.endswith(\"/\"):\n",
      "        new_url = new_url[:-1]\n",
      "    return new_url"
     ],
     "language": "python",
     "metadata": {},
     "outputs": [],
     "prompt_number": 31
    },
    {
     "cell_type": "code",
     "collapsed": false,
     "input": [
      "urls = Queue()\n",
      "urls.put(\"http://www.univie.ac.at\")\n",
      "visited = set()\n",
      "keywords = defaultdict(set)\n",
      "word = re.compile(r\"\\b\\w{4,}\\b\")"
     ],
     "language": "python",
     "metadata": {},
     "outputs": [],
     "prompt_number": 32
    },
    {
     "cell_type": "code",
     "collapsed": false,
     "input": [
      "def index_task(url):\n",
      "    if url in visited:\n",
      "        return \"dup\"\n",
      "    try:\n",
      "        content = req.get(url, timeout = 5).text\n",
      "    except:\n",
      "        # connection error, etc. -> pick next one\n",
      "        return \"err\"\n",
      "\n",
      "    page = BeautifulSoup(content)\n",
      "    for a in page.select(\"a\"):\n",
      "        if \"href\" in a.attrs:\n",
      "            new_url = mk_new_url(url, a.attrs[\"href\"])\n",
      "            if new_url:\n",
      "                urls.put(new_url)\n",
      "\n",
      "    for match in word.finditer(page.text):\n",
      "        token = match.group().lower()\n",
      "        keywords[token].add(url)\n",
      "\n",
      "    visited.add(url)\n",
      "    \n",
      "    return len(visited)"
     ],
     "language": "python",
     "metadata": {},
     "outputs": [],
     "prompt_number": 33
    },
    {
     "cell_type": "code",
     "collapsed": false,
     "input": [
      "def get_urls(limit = 100):\n",
      "    while limit >= 0:\n",
      "        limit -= 1\n",
      "        url = urls.get()\n",
      "        yield url"
     ],
     "language": "python",
     "metadata": {},
     "outputs": [],
     "prompt_number": 34
    },
    {
     "cell_type": "code",
     "collapsed": false,
     "input": [
      "# 30 in parallel, most of the time they are waiting for the website!\n",
      "workers = ThreadPool(30)\n",
      "for nb_urls in workers.imap_unordered(index_task, get_urls()):\n",
      "    print(nb_urls, end=\" \")\n",
      "print(\"END\")"
     ],
     "language": "python",
     "metadata": {},
     "outputs": [
      {
       "output_type": "stream",
       "stream": "stdout",
       "text": [
        "1 2"
       ]
      },
      {
       "output_type": "stream",
       "stream": "stdout",
       "text": [
        " 3"
       ]
      },
      {
       "output_type": "stream",
       "stream": "stdout",
       "text": [
        " 4"
       ]
      },
      {
       "output_type": "stream",
       "stream": "stdout",
       "text": [
        " 5"
       ]
      },
      {
       "output_type": "stream",
       "stream": "stdout",
       "text": [
        " dup dup dup dup 6 6"
       ]
      },
      {
       "output_type": "stream",
       "stream": "stdout",
       "text": [
        " 7"
       ]
      },
      {
       "output_type": "stream",
       "stream": "stdout",
       "text": [
        " 7"
       ]
      },
      {
       "output_type": "stream",
       "stream": "stdout",
       "text": [
        " 8"
       ]
      },
      {
       "output_type": "stream",
       "stream": "stdout",
       "text": [
        " 9"
       ]
      },
      {
       "output_type": "stream",
       "stream": "stdout",
       "text": [
        " 9"
       ]
      },
      {
       "output_type": "stream",
       "stream": "stdout",
       "text": [
        " dup 10"
       ]
      },
      {
       "output_type": "stream",
       "stream": "stdout",
       "text": [
        " 10"
       ]
      },
      {
       "output_type": "stream",
       "stream": "stdout",
       "text": [
        " 11 12"
       ]
      },
      {
       "output_type": "stream",
       "stream": "stdout",
       "text": [
        " dup dup dup 13"
       ]
      },
      {
       "output_type": "stream",
       "stream": "stdout",
       "text": [
        " dup dup dup dup dup 14"
       ]
      },
      {
       "output_type": "stream",
       "stream": "stdout",
       "text": [
        " 14 15"
       ]
      },
      {
       "output_type": "stream",
       "stream": "stdout",
       "text": [
        " 16 dup dup 16"
       ]
      },
      {
       "output_type": "stream",
       "stream": "stdout",
       "text": [
        " dup 16 16"
       ]
      },
      {
       "output_type": "stream",
       "stream": "stdout",
       "text": [
        " 17"
       ]
      },
      {
       "output_type": "stream",
       "stream": "stdout",
       "text": [
        " 17"
       ]
      },
      {
       "output_type": "stream",
       "stream": "stdout",
       "text": [
        " 17"
       ]
      },
      {
       "output_type": "stream",
       "stream": "stdout",
       "text": [
        " 17"
       ]
      },
      {
       "output_type": "stream",
       "stream": "stdout",
       "text": [
        " 17"
       ]
      },
      {
       "output_type": "stream",
       "stream": "stdout",
       "text": [
        " dup 17"
       ]
      },
      {
       "output_type": "stream",
       "stream": "stdout",
       "text": [
        " 17"
       ]
      },
      {
       "output_type": "stream",
       "stream": "stdout",
       "text": [
        " 17"
       ]
      },
      {
       "output_type": "stream",
       "stream": "stdout",
       "text": [
        " dup 18"
       ]
      },
      {
       "output_type": "stream",
       "stream": "stdout",
       "text": [
        " 18"
       ]
      },
      {
       "output_type": "stream",
       "stream": "stdout",
       "text": [
        " 18 18"
       ]
      },
      {
       "output_type": "stream",
       "stream": "stdout",
       "text": [
        " 18"
       ]
      },
      {
       "output_type": "stream",
       "stream": "stdout",
       "text": [
        " dup 19"
       ]
      },
      {
       "output_type": "stream",
       "stream": "stdout",
       "text": [
        " dup 19"
       ]
      },
      {
       "output_type": "stream",
       "stream": "stdout",
       "text": [
        " dup 19"
       ]
      },
      {
       "output_type": "stream",
       "stream": "stdout",
       "text": [
        " err"
       ]
      },
      {
       "output_type": "stream",
       "stream": "stdout",
       "text": [
        " 20"
       ]
      },
      {
       "output_type": "stream",
       "stream": "stdout",
       "text": [
        " 21 21"
       ]
      },
      {
       "output_type": "stream",
       "stream": "stdout",
       "text": [
        " 22"
       ]
      },
      {
       "output_type": "stream",
       "stream": "stdout",
       "text": [
        " 22 23"
       ]
      },
      {
       "output_type": "stream",
       "stream": "stdout",
       "text": [
        " 24"
       ]
      },
      {
       "output_type": "stream",
       "stream": "stdout",
       "text": [
        " dup 25"
       ]
      },
      {
       "output_type": "stream",
       "stream": "stdout",
       "text": [
        " dup 26"
       ]
      },
      {
       "output_type": "stream",
       "stream": "stdout",
       "text": [
        " 26"
       ]
      },
      {
       "output_type": "stream",
       "stream": "stdout",
       "text": [
        " 27 28"
       ]
      },
      {
       "output_type": "stream",
       "stream": "stdout",
       "text": [
        " 29 29 30"
       ]
      },
      {
       "output_type": "stream",
       "stream": "stdout",
       "text": [
        " 31"
       ]
      },
      {
       "output_type": "stream",
       "stream": "stdout",
       "text": [
        " 31"
       ]
      },
      {
       "output_type": "stream",
       "stream": "stdout",
       "text": [
        " 32"
       ]
      },
      {
       "output_type": "stream",
       "stream": "stdout",
       "text": [
        " 33 33"
       ]
      },
      {
       "output_type": "stream",
       "stream": "stdout",
       "text": [
        " 34"
       ]
      },
      {
       "output_type": "stream",
       "stream": "stdout",
       "text": [
        " 35"
       ]
      },
      {
       "output_type": "stream",
       "stream": "stdout",
       "text": [
        " 35 36"
       ]
      },
      {
       "output_type": "stream",
       "stream": "stdout",
       "text": [
        " 37 38 38"
       ]
      },
      {
       "output_type": "stream",
       "stream": "stdout",
       "text": [
        " 39 39 40"
       ]
      },
      {
       "output_type": "stream",
       "stream": "stdout",
       "text": [
        " 40 41 41 42"
       ]
      },
      {
       "output_type": "stream",
       "stream": "stdout",
       "text": [
        " 43 44 44 END\n"
       ]
      }
     ],
     "prompt_number": 35
    },
    {
     "cell_type": "code",
     "collapsed": false,
     "input": [
      "def search(*terms):\n",
      "    from IPython.display import HTML\n",
      "    \n",
      "    def get_matches(term):\n",
      "        urls = set()\n",
      "        for k in keywords.keys():\n",
      "            if term in k:\n",
      "                for url in keywords[k]:\n",
      "                    urls.add(url)\n",
      "        return urls\n",
      "    \n",
      "    result = get_matches(terms[0])\n",
      "    for term in terms[1:]:\n",
      "        result = result.intersect(get_matches[term])\n",
      "    urls_html = ['<a href=\"{0}\" target=\"_blank\">{0}</a>'.format(r) for r in sorted(result)]\n",
      "    return HTML('<br>'.join(urls_html))"
     ],
     "language": "python",
     "metadata": {},
     "outputs": [],
     "prompt_number": 36
    },
    {
     "cell_type": "markdown",
     "metadata": {},
     "source": [
      "Suche nach Seiten, die das Teilwort \"mathemat\" beinhalten:"
     ]
    },
    {
     "cell_type": "code",
     "collapsed": false,
     "input": [
      "search(\"mathemat\")"
     ],
     "language": "python",
     "metadata": {},
     "outputs": [
      {
       "html": [
        "<a href=\"http://jobcenter.univie.ac.at/home\" target=\"_blank\">http://jobcenter.univie.ac.at/home</a><br><a href=\"http://medienportal.univie.ac.at/uniview\" target=\"_blank\">http://medienportal.univie.ac.at/uniview</a><br><a href=\"http://medienportal.univie.ac.at/uniview/professuren\" target=\"_blank\">http://medienportal.univie.ac.at/uniview/professuren</a><br><a href=\"http://online.univie.ac.at/pers\" target=\"_blank\">http://online.univie.ac.at/pers</a><br><a href=\"http://online.univie.ac.at/vlvz\" target=\"_blank\">http://online.univie.ac.at/vlvz</a><br><a href=\"http://rektorat.univie.ac.at/forschungsplattformen-verbuende\" target=\"_blank\">http://rektorat.univie.ac.at/forschungsplattformen-verbuende</a><br><a href=\"http://studentpoint.univie.ac.at/vor-dem-studium/alle-studien\" target=\"_blank\">http://studentpoint.univie.ac.at/vor-dem-studium/alle-studien</a><br><a href=\"http://studentpoint.univie.ac.at/vor-dem-studium/mint\" target=\"_blank\">http://studentpoint.univie.ac.at/vor-dem-studium/mint</a><br><a href=\"http://www.univie.ac.at\" target=\"_blank\">http://www.univie.ac.at</a><br><a href=\"http://www.univie.ac.at/forschung/forschung-im-ueberblick/forschung-an-der-universitaet-wien\" target=\"_blank\">http://www.univie.ac.at/forschung/forschung-im-ueberblick/forschung-an-der-universitaet-wien</a><br><a href=\"http://www.univie.ac.at/studium/ueberblick-angebot/schwerpunkt-lehramtsstudien\" target=\"_blank\">http://www.univie.ac.at/studium/ueberblick-angebot/schwerpunkt-lehramtsstudien</a><br><a href=\"http://www.univie.ac.at/ueber-uns/leitung-organisation/fakultaeten-zentren\" target=\"_blank\">http://www.univie.ac.at/ueber-uns/leitung-organisation/fakultaeten-zentren</a><br><a href=\"http://www.univie.ac.at/ueber-uns/leitung-organisation/studien-lehrorganisation\" target=\"_blank\">http://www.univie.ac.at/ueber-uns/leitung-organisation/studien-lehrorganisation</a>"
       ],
       "metadata": {},
       "output_type": "pyout",
       "prompt_number": 37,
       "text": [
        "<IPython.core.display.HTML at 0x316ec10>"
       ]
      }
     ],
     "prompt_number": 37
    },
    {
     "cell_type": "code",
     "collapsed": false,
     "input": [
      "len(keywords)"
     ],
     "language": "python",
     "metadata": {},
     "outputs": [
      {
       "metadata": {},
       "output_type": "pyout",
       "prompt_number": 38,
       "text": [
        "6500"
       ]
      }
     ],
     "prompt_number": 38
    },
    {
     "cell_type": "markdown",
     "metadata": {},
     "source": [
      "10 zuf\u00e4llig gew\u00e4hlte Schl\u00fcsselw\u00f6rter"
     ]
    },
    {
     "cell_type": "code",
     "collapsed": false,
     "input": [
      "random.sample(keywords.keys(), 10)"
     ],
     "language": "python",
     "metadata": {},
     "outputs": [
      {
       "metadata": {},
       "output_type": "pyout",
       "prompt_number": 39,
       "text": [
        "[u'gastprofessur',\n",
        " u'reisekostenzuschuss',\n",
        " u'uviecon',\n",
        " u'themenbereiche',\n",
        " u'orientalistikpflegewissenschaftpharmaziephd',\n",
        " u'glichkeitenkulturkooperationen',\n",
        " u'eingetragen',\n",
        " u'gemacht',\n",
        " u'img934_2855_2_h',\n",
        " u'kognitive']"
       ]
      }
     ],
     "prompt_number": 39
    }
   ],
   "metadata": {}
  }
 ]
}
{
 "metadata": {
  "name": "",
  "signature": "sha256:484d68650c16c9f6bdf7a56180a7abb3b41586d7dc622787ab72214e1fb4de31"
 },
 "nbformat": 3,
 "nbformat_minor": 0,
 "worksheets": [
  {
   "cells": [
    {
     "cell_type": "heading",
     "level": 1,
     "metadata": {},
     "source": [
      "Netzwerk und Internet"
     ]
    },
    {
     "cell_type": "markdown",
     "metadata": {},
     "source": [
      "Miteinander kommunizierende Computer sind eine sehr m\u00e4chtige Erfindung.\n",
      "Prominente Beispiele sind lokale Netzwerke, das Internet, das hier vorliegende IPython Notebook, Smartphones und Raumsonden.\n",
      "Im folgenden wird umrissen, wie man mittels Python mit einem Server kommunizeren kann,\n",
      "wie Daten \u00fcbertragen werden, und wie ein Server prinzipiell gestartet werden kann."
     ]
    },
    {
     "cell_type": "markdown",
     "metadata": {},
     "source": [
      "Python selbst liefert die Bibliotheken [urllib](https://docs.python.org/2/library/urllib.html) ([Py3 urllib](https://docs.python.org/3/library/urllib.html))\n",
      "und [urllib2](https://docs.python.org/2/library/urllib2.html) aus.\n",
      "Sie liefern eine rudiment\u00e4re Schnittstelle um mit der Au\u00dfenwelt kommunizieren zu k\u00f6nnen.\n",
      "\n",
      "Besser ist eine Bibliothek wie [requests](http://docs.python-requests.org/en/latest/), welche einfacher zu bedienen ist."
     ]
    },
    {
     "cell_type": "code",
     "collapsed": false,
     "input": [
      "import requests as req"
     ],
     "language": "python",
     "metadata": {},
     "outputs": [],
     "prompt_number": 1
    },
    {
     "cell_type": "markdown",
     "metadata": {},
     "source": [
      "## WWW: HTTP GET requests\n",
      "\n",
      "Kommunikation im [WWW](http://info.cern.ch/hypertext/WWW/TheProject.html) l\u00e4uft \u00fcber das [HTTP Protokol](http://en.wikipedia.org/wiki/HTTP) ab.\n",
      "Es gibt Verben und Objekte. Das Verb \"GET\" teilt einem anderen Computer (Server) mit, dass der eine Computer etwas haben m\u00f6chte.\n",
      "Die dieser Kommunikation [zugrunde liegenden Systeme](http://en.wikipedia.org/wiki/OSI_model) stellen sicher, dass beide miteinander auch \u00fcber gro\u00dfe Distanzen sprechen k\u00f6nnen.\n",
      "\n",
      "Im folgenden Beispiel holen wir uns die Zellen des dieses hier vorliegenden Notebooks vom [Hauptrepository of GitHub](https://github.com/haraldschilly/python-fuer-mathematiker/).\n",
      "Das Dateiformat basiert auf [JSON](http://json.org) und es werden genau die hier sichtbaren Zellen geladen.\n",
      "\n",
      "Die `requests` Bibliothek verbindet sich dabei zu GitHub \u00fcber das Internet, teilt dem Server mit, dass es genau diese Datei haben m\u00f6chte, und dann verarbeitet es die Rohdaten zu einer JSON Datenstruktur mittels `.json()`.\n",
      "Anschlie\u00dfend eine kurze Suche nach dem Inhalt \"vorliegenden Notebook\" um genau diese Zelle zu finden und auszugeben."
     ]
    },
    {
     "cell_type": "code",
     "collapsed": false,
     "input": [
      "netzwerk = req.get(\"https://github.com/haraldschilly/python-fuer-mathematiker/raw/master/doc/4-5-netzwerk.ipynb\")\n",
      "notebook = netzwerk.json()"
     ],
     "language": "python",
     "metadata": {},
     "outputs": [],
     "prompt_number": 2
    },
    {
     "cell_type": "code",
     "collapsed": false,
     "input": [
      "import json\n",
      "for cell in notebook[\"worksheets\"][0][\"cells\"]:\n",
      "    if any(\"vorliegenden Notebook\" in block for block in cell.get(\"source\", [\"\"])):\n",
      "        print(str(cell))\n",
      "        break"
     ],
     "language": "python",
     "metadata": {},
     "outputs": [
      {
       "output_type": "stream",
       "stream": "stdout",
       "text": [
        "{u'source': [u'## WWW: HTTP GET requests\\n', u'\\n', u'Kommunikation im [WWW](http://info.cern.ch/hypertext/WWW/TheProject.html) l\\xe4uft \\xfcber das [HTTP Protokol](http://en.wikipedia.org/wiki/HTTP) ab.\\n', u'Es gibt Verben und Objekte. Das Verb \"GET\" teilt einem anderen Computer (Server) mit, dass der eine Computer etwas haben m\\xf6chte.\\n', u'Die dieser Kommunikation [zugrunde liegenden Systeme](http://en.wikipedia.org/wiki/OSI_model) stellen sicher, dass beide miteinander auch \\xfcber gro\\xdfe Distanzen sprechen k\\xf6nnen.\\n', u'\\n', u'Im folgenden Beispiel holen wir uns die Zellen des dieses hier vorliegenden Notebooks vom [Hauptrepository of GitHub](https://github.com/haraldschilly/python-fuer-mathematiker/).\\n', u'Das Dateiformat basiert auf [JSON](http://json.org) und es werden genau die hier sichtbaren Zellen geladen.\\n', u'\\n', u'Die `requests` Bibliothek verbindet sich dabei zu GitHub \\xfcber das Internet, teilt dem Server mit, dass es genau diese Datei haben m\\xf6chte, und dann verarbeitet es die Rohdaten zu einer JSON Datenstruktur mittels `.json()`.\\n', u'Anschlie\\xdfend eine kurze Suche nach dem Inhalt \"vorliegenden Notebook\" um genau diese Zelle zu finden und auszugeben.'], u'cell_type': u'markdown', u'metadata': {}}\n"
       ]
      }
     ],
     "prompt_number": 3
    },
    {
     "cell_type": "markdown",
     "metadata": {},
     "source": [
      "## HTML\n",
      "\n",
      "Webseiten sind in [HTML](http://en.wikipedia.org/wiki/HTML) formatiert.\n",
      "Die Rohdaten sind \u00e4hnlich wie XML in Tags eingeschlossene Textbausteine.\n",
      "Eine Bibliothek wie [Beautiful Soup](http://www.crummy.com/software/BeautifulSoup/) hilft,\n",
      "diese Tags einzulesen und als Datenstruktur zu bearbeiten.\n",
      "Holen wir zum Beispiel die aktuellen Nachrichten, extrahieren ausschlie\u00dflich die \u00dcberschriften des Hauptbereichs, und modifizieren die Links so, dass sie auf die Originalseite verweisen und ein neues Tab \u00f6ffnen:"
     ]
    },
    {
     "cell_type": "code",
     "collapsed": false,
     "input": [
      "from bs4 import BeautifulSoup\n",
      "derstandard = BeautifulSoup(req.get(\"http://derstandard.at\").text)"
     ],
     "language": "python",
     "metadata": {},
     "outputs": [],
     "prompt_number": 4
    },
    {
     "cell_type": "code",
     "collapsed": false,
     "input": [
      "from IPython.display import HTML\n",
      "headlines = derstandard.select(\"div#documentCanvas h2 a\") + derstandard.select(\"div#documentCanvas h3 a\") \n",
      "hl_list = BeautifulSoup(\"<ul>\")\n",
      "for hl in headlines:\n",
      "    hl.attrs[\"href\"] = \"http://derstandard.at\" + hl.attrs[\"href\"]\n",
      "    hl.attrs[\"target\"] = \"_blank\"\n",
      "    entry = hl_list.new_tag(\"li\")\n",
      "    entry.append(hl)\n",
      "    hl_list.append(entry)\n",
      "HTML(hl_list.prettify())"
     ],
     "language": "python",
     "metadata": {},
     "outputs": [
      {
       "html": [
        "<html>\n",
        " <body>\n",
        "  <ul>\n",
        "  </ul>\n",
        " </body>\n",
        "</html>\n",
        "<li>\n",
        " <a href=\"http://derstandard.at/2000012111687/Justiz-Alijews-Tod-war-eindeutig-Selbstmord\" target=\"_blank\">\n",
        "  Justiz: Alijews Tod \"war eindeutig Selbstmord\"\n",
        " </a>\n",
        "</li>\n",
        "<li>\n",
        " <a href=\"http://derstandard.at/2000012088706/Rachat-Alijew-Vom-Schwiegersohn-zum-politischen-Gegner\" target=\"_blank\">\n",
        "  Rachat Alijew: Vom Schwiegersohn zum politischen Gegner\n",
        " </a>\n",
        "</li>\n",
        "<li>\n",
        " <a href=\"http://derstandard.at/2000012114886/Athen-setzt-humanitaere-Hilfe-fuer-die-Aermsten-durch\" target=\"_blank\">\n",
        "  Griechenland setzt humanit\u00e4re Hilfe f\u00fcr die \u00c4rmsten durch\n",
        " </a>\n",
        "</li>\n",
        "<li>\n",
        " <a href=\"http://derstandard.at/2000012072576/Neue-Theorie-ueber-die-Pestepidemien\" target=\"_blank\">\n",
        "  Neue Theorie \u00fcber die Pestepidemien\n",
        " </a>\n",
        "</li>\n",
        "<li>\n",
        " <a href=\"http://derstandard.at/2000012059142/Tragende-Rolle-Blau-machen\" target=\"_blank\">\n",
        "  Tragende Rolle: Blau machen\n",
        " </a>\n",
        "</li>\n",
        "<li>\n",
        " <a href=\"http://derstandard.at/2000012116085/Notenbanker-verdienen-im-Schnitt-fast-100000-brutto\" target=\"_blank\">\n",
        "  Notenbanker verdienen im Schnitt fast 100.000 brutto\n",
        " </a>\n",
        "</li>\n",
        "<li>\n",
        " <a href=\"http://derstandard.at/2000012097090/Nach-Kundenkritik-Hot-aendert-Datentaktung-ab-Maerz\" target=\"_blank\">\n",
        "  Nach Kundenkritik: Hot \u00e4ndert Datentaktung ab M\u00e4rz\n",
        " </a>\n",
        "</li>\n",
        "<li>\n",
        " <a href=\"http://derstandard.at/2000012075093/Der-Multikulturalismus\" target=\"_blank\">\n",
        "  \"Multikulturalismus spielt sich in Familien ab\"\n",
        " </a>\n",
        "</li>\n",
        "<li>\n",
        " <a href=\"http://derstandard.at/2000012113161/Geheimdienstwaechtiger-Rifkind-bleibt-mehr-Zeit-zum-Spazieren\" target=\"_blank\">\n",
        "  Geheimdienstw\u00e4chter Rifkind gab nach Lobby-Skandal sein Amt ab\n",
        " </a>\n",
        "</li>\n",
        "<li>\n",
        " <a href=\"http://derstandard.at/2000012083244/Fussball-WM-2022-soll-im-Winter-stattfinden\" target=\"_blank\">\n",
        "  Dezember-WM: FIFA-Taskforce l\u00f6st gro\u00dfes Kopfsch\u00fctteln aus\n",
        " </a>\n",
        "</li>\n",
        "<li>\n",
        " <a href=\"http://derstandard.at/2000012096159/Neue-Beltracchi-Faelschung-in-der-Albertina\" target=\"_blank\">\n",
        "  \"Neue\" Beltracchi-F\u00e4lschung in der Albertina?\n",
        " </a>\n",
        "</li>\n",
        "<li>\n",
        " <a href=\"http://derstandard.at/2000012088202/Finanzministerium-Sanierungskosten-verdoppelt\" target=\"_blank\">\n",
        "  Enorme Kostensteigerung bei Sanierung des Finanzministeriums\n",
        " </a>\n",
        "</li>\n",
        "<li>\n",
        " <a href=\"http://derstandard.at/2000012063403/Chinas-Automessen-Nur-Modelle-keine-Models\" target=\"_blank\">\n",
        "  Chinas Automessen: Nur Modelle, keine Models\n",
        " </a>\n",
        "</li>\n",
        "<li>\n",
        " <a href=\"http://derstandard.at/2000012059736/Libanons-provisorische-Fluechtlingslager-werden-Dauerzustand\" target=\"_blank\">\n",
        "  Libanons provisorische Fl\u00fcchtlingslager werden Dauerzustand\n",
        " </a>\n",
        "</li>\n",
        "<li>\n",
        " <a href=\"http://derstandard.at/Jetzt/Livebericht/2000012054562/Manchester-City-vs-Barcelona-Di-2045-Uhr\" target=\"_blank\">\n",
        "  Juventus gegen Dortmund, 2:1\n",
        " </a>\n",
        "</li>\n",
        "<li>\n",
        " <a href=\"http://derstandard.at/2000012106538/Neun-Tote-bei-Schiesserei-in-tschechischem-Restaurant\" target=\"_blank\">\n",
        "  Tschechien: Amoksch\u00fctze erschoss acht Menschen in Restaurant\n",
        " </a>\n",
        "</li>\n",
        "<li>\n",
        " <a href=\"http://derstandard.at/2000012095260/Mitterlehner-greift-SPOe-Steuerplaene-an-Das-ist-eine-Riesenillusion\" target=\"_blank\">\n",
        "  Mitterlehner greift SP\u00d6-Steuerpl\u00e4ne an: \"Das ist eine Riesenillusion\"\n",
        " </a>\n",
        "</li>\n",
        "<li>\n",
        " <a href=\"http://derstandard.at/2000012107140/Wiener-Wirtschaftsuni-Lampen-von-Decke-gefallen\" target=\"_blank\">\n",
        "  Wiener Wirtschaftsuni: Lampen von Decke gefallen\n",
        " </a>\n",
        "</li>\n",
        "<li>\n",
        " <a href=\"http://derstandard.at/2000012121447/EU-Entwurf-zu-Fluggastdaten-aufgetaucht-Kaum-Kompromisse\" target=\"_blank\">\n",
        "  EU-Entwurf zu Fluggastdaten: Kaum Kompromisse\n",
        " </a>\n",
        "</li>\n",
        "<li>\n",
        " <a href=\"http://derstandard.at/2000012101780/Gefaengnisse-Amnesty-fassungslos-ueber-Umgang-der-Justiz-bei-Uebergriffen\" target=\"_blank\">\n",
        "  \u00dcbergriffe in Gef\u00e4ngnissen: Amnesty \"fassungslos\" \u00fcber Justiz\n",
        " </a>\n",
        "</li>\n",
        "<li>\n",
        " <a href=\"http://derstandard.at/2000012093600/Aussenminister-beraten-ueber-die-Lage-in-der-Ukraine\" target=\"_blank\">\n",
        "  Separatistische Salamitaktik ersetzt Gro\u00dfoffensive in Ukraine\n",
        " </a>\n",
        "</li>\n",
        "<li>\n",
        " <a href=\"http://derstandard.at/2000012103182/zwischen-Moskau-und-Kiew-flammt-neu-auf\" target=\"_blank\">\n",
        "  Moskau und Kiew streiten wieder um Gas\n",
        " </a>\n",
        "</li>\n",
        "<li>\n",
        " <a href=\"http://derstandard.at/2000012077180/Athen-droht-Europa-mit-Ausreise-Hunderttausender-Migranten\" target=\"_blank\">\n",
        "  Hunderttausende: Athen will Fl\u00fcchtlinge ausreisen lassen\n",
        " </a>\n",
        "</li>\n",
        "<li>\n",
        " <a href=\"http://derstandard.at/2000012064274/Wenn-der-Arzt-den-Patienten-teilgesund-schreibt\" target=\"_blank\">\n",
        "  Geteilte Meinungen zu Teilkrankenstand\n",
        " </a>\n",
        "</li>\n",
        "<li>\n",
        " <a href=\"http://derstandard.at/2000012068509/Fluechtlinge-in-Buerobox-untergebracht\" target=\"_blank\">\n",
        "  Fl\u00fcchtlinge in B\u00fcrobox untergebracht\n",
        " </a>\n",
        "</li>\n",
        "<li>\n",
        " <a href=\"http://derstandard.at/2000012114068/Wie-sich-Fernweh-auf-die-Inflation-auswirkt\" target=\"_blank\">\n",
        "  Wie sich Fernweh auf die Inflation auswirkt\n",
        " </a>\n",
        "</li>\n",
        "<li>\n",
        " <a href=\"http://derstandard.at/Kursinfo/WertpapierSuche.aspx\" id=\"ctl00_ucOverviewList_lnkHeaderDescription\" target=\"_blank\">\n",
        "  B\u00f6rsenkurse\n",
        " </a>\n",
        "</li>\n",
        "<li>\n",
        " <a class=\"more\" href=\"http://derstandard.at/Kursinfo/WertpapierSuche.aspx\" id=\"ctl00_ucOverviewList_lnkContentPage\" target=\"_blank\">\n",
        "  mehr\n",
        " </a>\n",
        "</li>\n",
        "<li>\n",
        " <a href=\"http://derstandard.at/2000012029728/Mit-Hirn-essen-mit-Rueckgrat-und-gutem-Magen\" target=\"_blank\">\n",
        "  Schmeck's: Mit Hirn, R\u00fcck- grat &amp; gutem Magen essen\n",
        " </a>\n",
        "</li>\n",
        "<li>\n",
        " <a href=\"http://derstandard.at/2000011953394/Ein-Ski-viele-Freiheiten-Keine-Limits-trotz-Handicaps\" target=\"_blank\">\n",
        "  Ein Ski, viele Freiheiten: Keine Limits trotz Handicaps\n",
        " </a>\n",
        "</li>\n",
        "<li>\n",
        " <a href=\"http://derstandard.at/2000011949365/Wenn-Hunderttausende-ein-Monat-planken\" target=\"_blank\">\n",
        "  Wenn Hunderttausende einen Monat lang planken\n",
        " </a>\n",
        "</li>\n",
        "<li>\n",
        " <a href=\"http://derstandard.at/2000012054720/VW-Passat-Hier-kommt-die-Mitteloberklasse\" target=\"_blank\">\n",
        "  VW Passat: Hier kommt die Mitteloberklasse\n",
        " </a>\n",
        "</li>\n",
        "<li>\n",
        " <a href=\"http://derstandard.at/2000012031635/Oscar-Mode-Action-am-roten-Teppich\" target=\"_blank\">\n",
        "  Oscar-Mode: Action auf dem roten Teppich\n",
        " </a>\n",
        "</li>\n",
        "<li>\n",
        " <a href=\"http://derstandard.at/2000012084444/Zentralmatura-Warum-die-VWA-eine-positive-Herausforderung-ist\" target=\"_blank\">\n",
        "  <span class=\"ugc-icon\" title=\"Userbeitrag\">\n",
        "   #\n",
        "  </span>\n",
        "  Zentralmatura: Warum die VWA eine positive Herausforderung ist\n",
        " </a>\n",
        "</li>\n",
        "<li>\n",
        " <a href=\"http://derstandard.at/2000012029554/Was-braucht-ein-Hund\" target=\"_blank\">\n",
        "  <span class=\"ugc-icon\" title=\"Userbeitrag\">\n",
        "   #\n",
        "  </span>\n",
        "  Fehlk\u00e4ufe vermeiden: Was braucht ein Hund?\n",
        " </a>\n",
        "</li>\n",
        "<li>\n",
        " <a href=\"http://derstandard.at/2000012111544/Wahlordnung-Die-SPOe-gewinnt-immer\" target=\"_blank\">\n",
        "  Wahlordnung: Die SP\u00d6 gewinnt immer\n",
        " </a>\n",
        "</li>\n",
        "<li>\n",
        " <a href=\"http://derstandard.at/2000012111502/Islamgesetz-festigt-die-Ungleichbehandlung\" target=\"_blank\">\n",
        "  Islamgesetz festigt die Ungleichbehandlung\n",
        " </a>\n",
        "</li>\n",
        "<li>\n",
        " <a href=\"http://derstandard.at/2000012111385/Das-soll-eine-Steuerreform-werden\" target=\"_blank\">\n",
        "  Das soll eine Steuerreform werden?\n",
        " </a>\n",
        "</li>\n",
        "<li>\n",
        " <a href=\"http://derstandard.at/2000012116620/Umbau-Finanzministerium-Skylink-im-Finanzressort\" target=\"_blank\">\n",
        "  Umbau Finanzministerium: Skylink im Finanzressort\n",
        " </a>\n",
        "</li>\n",
        "<li>\n",
        " <a href=\"http://derstandard.at/2000012116557/Asylnovelle-Schwarze-Paedagogik\" target=\"_blank\">\n",
        "  Asylnovelle: Schwarze P\u00e4dagogik\n",
        " </a>\n",
        "</li>\n",
        "<li>\n",
        " <a href=\"http://derstandard.at/2000012116581/WM-2022-in-Katar-Die-Fussball-Verkaeufer\" target=\"_blank\">\n",
        "  WM 2022 in Katar: Die Fu\u00dfball-Verk\u00e4ufer\n",
        " </a>\n",
        "</li>\n",
        "<li>\n",
        " <a href=\"http://derstandard.at/2000012062603/Orban-muss-ueber-Strategiewechsel-nachdenken\" target=\"_blank\">\n",
        "  Orb\u00e1n muss nach Schlappe umdenken\n",
        " </a>\n",
        "</li>\n",
        "<li>\n",
        " <a href=\"http://derstandard.at/2000012098945/Frau-von-Malaysias-Premier-Bin-arme-Hausfrau\" target=\"_blank\">\n",
        "  Frau von Malaysias Premier: \"Bin arme Hausfrau\"\n",
        " </a>\n",
        "</li>\n",
        "<li>\n",
        " <a href=\"http://derstandard.at/2000012045971/Prozess-gegen-Ex-Abgeordneten-Edathy-vertagt\" target=\"_blank\">\n",
        "  Prozess gegen Edathy macht die SPD nerv\u00f6s\n",
        " </a>\n",
        "</li>\n",
        "<li>\n",
        " <a href=\"http://derstandard.at/2000012101890/Aegypten-Sisi-erlaesst-schaerferes-Anti-Terror-Gesetz\" target=\"_blank\">\n",
        "  \u00c4gypten: Sisi erl\u00e4sst sch\u00e4rferes Anti-Terror-Gesetz\n",
        " </a>\n",
        "</li>\n",
        "<li>\n",
        " <a href=\"http://derstandard.at/2000012090476/30-Schiiten-in-Afghanistan-entfuehrt\" target=\"_blank\">\n",
        "  30 Schiiten in Afghanistan entf\u00fchrt\n",
        " </a>\n",
        "</li>\n",
        "<li>\n",
        " <a href=\"http://derstandard.at/2000012077314/USA-und-Suedkorea-kuendigen-mehrwoechige-Militaeruebungen-an\" target=\"_blank\">\n",
        "  USA und S\u00fcdkorea k\u00fcndigen mehrw\u00f6chige Milit\u00e4r\u00fcbungen an\n",
        " </a>\n",
        "</li>\n",
        "<li>\n",
        " <a href=\"http://derstandard.at/2000012074468/PLO-undPalaestinenserbehoerde-sollen-fuer-Anschlaege-zahlen\" target=\"_blank\">\n",
        "  PLO und Pal\u00e4stinenserbeh\u00f6rde sollen f\u00fcr Anschl\u00e4ge zahlen\n",
        " </a>\n",
        "</li>\n",
        "<li>\n",
        " <a href=\"http://derstandard.at/2000012122370/26-Tote-bei-Anschlaegen-auf-Busbahnhoefe-in-Nigeria\" target=\"_blank\">\n",
        "  26 Tote bei Anschl\u00e4gen auf Busbahnh\u00f6fe in Nigeria\n",
        " </a>\n",
        "</li>\n",
        "<li>\n",
        " <a href=\"http://derstandard.at/2000012066300/Neue-bosnische-Regierung-formiert\" target=\"_blank\">\n",
        "  Neue bosnische Regierung steht\n",
        " </a>\n",
        "</li>\n",
        "<li>\n",
        " <a href=\"http://derstandard.at/2000012105347/Gruener-Misstrauensantrag-gegen-Heinisch-Hosek\" target=\"_blank\">\n",
        "  Gr\u00fcner Misstrauensantrag gegen Bildungsministerin Heinisch-Hosek\n",
        " </a>\n",
        "</li>\n",
        "<li>\n",
        " <a href=\"http://derstandard.at/2000012058839/Burgenland-Schuelervertreter-haben-keine-Einsicht-ins-eigene-Budget\" target=\"_blank\">\n",
        "  Burgenland: Keine Budget-Einsicht f\u00fcr Sch\u00fclervertreter\n",
        " </a>\n",
        "</li>\n",
        "<li>\n",
        " <a href=\"http://derstandard.at/2000012061605/FPOe-Oberoesterreich-will-vor-der-SPOe-landen\" target=\"_blank\">\n",
        "  FP\u00d6 Ober\u00f6sterreich will vor der SP\u00d6 landen\n",
        " </a>\n",
        "</li>\n",
        "<li>\n",
        " <a href=\"http://derstandard.at/2000012104801/FPOe-will-Hohenems-erobern\" target=\"_blank\">\n",
        "  FP\u00d6 will Hohenems erobern\n",
        " </a>\n",
        "</li>\n",
        "<li>\n",
        " <a href=\"http://derstandard.at/2000012123988/Krebserkrankung-Oberhauser-mit-Glatze-beim-Ministerrat\" target=\"_blank\">\n",
        "  Krebserkrankung: Oberhauser mit Glatze beim Ministerrat\n",
        " </a>\n",
        "</li>\n",
        "<li>\n",
        " <a href=\"http://derstandard.at/2000012113649/Causa-Seenkauf-Kaufmann-Bruckberger-Honorarhoehe-vergessen-aber-angemessen\" target=\"_blank\">\n",
        "  Causa Seenkauf: Kaufmann-Bruckberger Honorarh\u00f6he vergessen, aber angemessen\n",
        " </a>\n",
        "</li>\n",
        "<li>\n",
        " <a href=\"http://derstandard.at/2000012086740/Rechnungshof-Geschlechtsspezifische-Gesundheitsfoerderung-mangelhaft\" target=\"_blank\">\n",
        "  Rechnungshof bem\u00e4ngelt geschlechtsspezifische Gesundheitsf\u00f6rderung\n",
        " </a>\n",
        "</li>\n",
        "<li>\n",
        " <a href=\"http://derstandard.at/2000012095083/Rechnungshof-Kritik-an-Schulden-ausgelagerter-Unternehmen-im-Wiener-Stadt-Budget\" target=\"_blank\">\n",
        "  Rechnungshof-Kritik an Wiener Budget: Stadt soll h\u00f6here R\u00fccklagen bilden\n",
        " </a>\n",
        "</li>\n",
        "<li>\n",
        " <a href=\"http://derstandard.at/2000012094148/Nach-Brueckeneinsturz-S35-wird-am-Mittwoch-wieder-freigegeben\" target=\"_blank\">\n",
        "  Nach Br\u00fcckeneinsturz: S35 wird am Mittwoch wieder freigegeben\n",
        " </a>\n",
        "</li>\n",
        "<li>\n",
        " <a href=\"http://derstandard.at/2000012075739/Mann-durch-Schuss-am-Kopf-verletzt\" target=\"_blank\">\n",
        "  Mann in Wien durch Schuss am Kopf verletzt\n",
        " </a>\n",
        "</li>\n",
        "<li>\n",
        " <a href=\"http://derstandard.at/2000012118524/Wien-verpflichtet-sich-zu-Buergerbeteiligung-bei-grossen-Bauvorhaben\" target=\"_blank\">\n",
        "  Wien verpflichtet sich zu B\u00fcrgerbeteiligung bei Bauvorhaben\n",
        " </a>\n",
        "</li>\n",
        "<li>\n",
        " <a href=\"http://derstandard.at/2000012077953/Indonesiens-Praesident-wird-elf-Exekutionen-nicht-aufhalten\" target=\"_blank\">\n",
        "  Indonesiens Pr\u00e4sident: Elf H\u00e4ftlinge werden trotz Interventionen exekutiert\n",
        " </a>\n",
        "</li>\n",
        "<li>\n",
        " <a href=\"http://derstandard.at/2000012117268/Laute-Kirchenglocken-in-Linz-Klaeger-und-Pfarre-einigten-sich\" target=\"_blank\">\n",
        "  Laute Kirchenglocken in Linz: Kl\u00e4ger und Pfarre einigten sich\n",
        " </a>\n",
        "</li>\n",
        "<li>\n",
        " <a href=\"http://derstandard.at/2000012087778/Masern-asern-USA-diskutieren-nach-Ausbruch-ueber-Impfpflicht\" target=\"_blank\">\n",
        "  Masern: USA diskutieren \u00fcber Impfpflicht\n",
        " </a>\n",
        "</li>\n",
        "<li>\n",
        " <a href=\"http://derstandard.at/2000012088821/Stinkbombe-in-Wiener-Schule-Urheber-meldeten-sich\" target=\"_blank\">\n",
        "  Stinkbombe in Wiener Schule: Urheber meldeten sich\n",
        " </a>\n",
        "</li>\n",
        "<li>\n",
        " <a href=\"http://derstandard.at/2000012090899/Oel-aus-Frachtschiff-auf-Donau-bei-Poechlarn-ausgetreten\" target=\"_blank\">\n",
        "  \u00d6l aus Frachtschiff auf Donau bei P\u00f6chlarn ausgetreten\n",
        " </a>\n",
        "</li>\n",
        "<li>\n",
        " <a href=\"http://derstandard.at/2000012096702/Anrainer-Protest-gegen-Bannerwerk\" target=\"_blank\">\n",
        "  Anrainer-Protest gegen Bannerwerk\n",
        " </a>\n",
        "</li>\n",
        "<li>\n",
        " <a href=\"http://derstandard.at/2000012113044/RupprecherLassen-uns-durch-billiges-Oel-nicht-entmutigen\" target=\"_blank\">\n",
        "  Rupprecher: Erneuerbare trotz billigem \u00d6l wichtig\n",
        " </a>\n",
        "</li>\n",
        "<li>\n",
        " <a href=\"http://derstandard.at/2000012101438/Oesterreichs-einziges-Autokino-ist-pleite\" target=\"_blank\">\n",
        "  \u00d6sterreichs einziges Autokino ist pleite\n",
        " </a>\n",
        "</li>\n",
        "<li>\n",
        " <a href=\"http://derstandard.at/2000012069396/Pensionsversicherung-Affaere-erfasst-Kurbetriebe\" target=\"_blank\">\n",
        "  Aff\u00e4re in Pensionsanstalt erfasst Kurbetriebe\n",
        " </a>\n",
        "</li>\n",
        "<li>\n",
        " <a href=\"http://derstandard.at/2000012094179/Betriebsversammlung-bei-Bene\" target=\"_blank\">\n",
        "  Betriebsversammlung bei Bene\n",
        " </a>\n",
        "</li>\n",
        "<li>\n",
        " <a href=\"http://derstandard.at/2000012088875/Kornmueller-Nachfolger-insolvent\" target=\"_blank\">\n",
        "  Kornm\u00fcller-Nachfolger insolvent\n",
        " </a>\n",
        "</li>\n",
        "<li>\n",
        " <a href=\"http://derstandard.at/2000012082185/Ermittlungen-gegen-RBI-Chef-Sevelda-eingestellt\" target=\"_blank\">\n",
        "  Ermittlungen gegen RBI-Chef Sevelda eingestellt\n",
        " </a>\n",
        "</li>\n",
        "<li>\n",
        " <a href=\"http://derstandard.at/2000012088080/Magna-verkauft-Samsung-Grazer-Batterie-Werk\" target=\"_blank\">\n",
        "  Magna verkauft Samsung Grazer Batterie-Werk\n",
        " </a>\n",
        "</li>\n",
        "<li>\n",
        " <a href=\"http://derstandard.at/2000012089024/BDSM-Boom-Wie-sich-50-Shades-of-Grey-auf-Pornosuchen\" target=\"_blank\">\n",
        "  BDSM-Boom: Wie sich \"50 Shades of Grey\" auf Pornosuchen auswirkt\n",
        " </a>\n",
        "</li>\n",
        "<li>\n",
        " <a href=\"http://derstandard.at/2000012094650/Mizuchi-Engine-fuer-PC-PS4-soll-neuen-Grafik-Standard-setzen\" target=\"_blank\">\n",
        "  \"Mizuchi\"-Engine f\u00fcr PC und PS4 soll neuen Grafik-Standard setzen\n",
        " </a>\n",
        "</li>\n",
        "<li>\n",
        " <a href=\"http://derstandard.at/2000012081686/Apples-Emojis-kommen-nun-in-sechs-Hautfarben\" target=\"_blank\">\n",
        "  Apples Emojis mit mehr Hautfarben und gleich- geschlechtlichen Paaren\n",
        " </a>\n",
        "</li>\n",
        "<li>\n",
        " <a href=\"http://derstandard.at/2000011813870/Sony-Smartwatch-3-im-Test-Praktischer-Klotz-am-Arm\" target=\"_blank\">\n",
        "  Sony Smartwatch 3 im Test: Praktischer Klotz am Arm\n",
        " </a>\n",
        "</li>\n",
        "<li>\n",
        " <a href=\"http://derstandard.at/2000012116759/GD-SIM-Karte-nach-wie-vor-sicher\" target=\"_blank\">\n",
        "  G&amp;D: \"SIM-Karte noch sicher\"\n",
        " </a>\n",
        "</li>\n",
        "<li>\n",
        " <a href=\"http://derstandard.at/2000012109546/Grand-Theft-Auto-5-fuer-PC-erneut-verschoben-Frische-Screenshots\" target=\"_blank\">\n",
        "  \"GTA 5\" f\u00fcr PC erneut verschoben: Screenshots\n",
        " </a>\n",
        "</li>\n",
        "<li>\n",
        " <a href=\"http://derstandard.at/2000012089873/SteamVR-Valve-enthuellt-Virtual-Reality-Hardware-im-Maerz\" target=\"_blank\">\n",
        "  Valve enth\u00fcllt Virtual-Reality-Hardware im M\u00e4rz\n",
        " </a>\n",
        "</li>\n",
        "<li>\n",
        " <a href=\"http://derstandard.at/2000012111019/Neue-Handys-und-Konflikte-bei-Mobilfunk-Messe-Mobile-World-Congress\" target=\"_blank\">\n",
        "  Neue Handys und Konflikte\n",
        " </a>\n",
        "</li>\n",
        "<li>\n",
        " <a href=\"http://derstandard.at/2000012101345/Liste-zeigt-alle-gescheiterten-Kickstarter-Games\" target=\"_blank\">\n",
        "  Liste zeigt alle gescheiterten Kickstarter-Games\n",
        " </a>\n",
        "</li>\n",
        "<li>\n",
        " <a href=\"http://derstandard.at/2000012079733/EU-Digitalkommissar-Oettinger-Die-NSA-ist-nicht-der-Feind\" target=\"_blank\">\n",
        "  EU-Kommissar Oettinger: Die NSA ist nicht der Feind\n",
        " </a>\n",
        "</li>\n",
        "<li>\n",
        " <a href=\"http://derstandard.at/2000012101704/UPC-baut-bis-2018-rund-250-Stellen-ab-davon-vorerst\" target=\"_blank\">\n",
        "  UPC setzt Sparstift an\n",
        " </a>\n",
        "</li>\n",
        "<li>\n",
        " <a href=\"http://derstandard.at/2000012084887/Snowden-auf-Reddit-Ueber-Moskau-Putin-und-schlechte-Scherze\" target=\"_blank\">\n",
        "  Snowden auf Reddit: \u00dcber Putin und schlechte Scherze\n",
        " </a>\n",
        "</li>\n",
        "<li>\n",
        " <a href=\"http://derstandard.at/2000012085356/Google-Neues-Chromebook-Pixel-kommt\" target=\"_blank\">\n",
        "  Google: Neues Chromebook Pixel kommt\n",
        " </a>\n",
        "</li>\n",
        "<li>\n",
        " <a href=\"http://derstandard.at/2000012115790/Ausser-Form-Andreas-Kofler-verlaesst-WM\" target=\"_blank\">\n",
        "  Au\u00dfer Form: Andreas Kofler verl\u00e4sst WM\n",
        " </a>\n",
        "</li>\n",
        "<li>\n",
        " <a href=\"http://derstandard.at/2000012093906/RB-Leipzig-hakt-den-Durchmarsch-ab\" target=\"_blank\">\n",
        "  Red Bull sieht mit Leipzig kein Licht\n",
        " </a>\n",
        "</li>\n",
        "<li>\n",
        " <a href=\"http://derstandard.at/2000012103266/Klarer-Sieg-von-Kalla-ueber-10-km\" target=\"_blank\">\n",
        "  Charlotte Kalla realisiert Schwedens Goldtr\u00e4ume\n",
        " </a>\n",
        "</li>\n",
        "<li>\n",
        " <a href=\"http://derstandard.at/2000012055292/Noch-ist-nicht-alles-gelaufen-und-verschossen\" target=\"_blank\">\n",
        "  \u00d6SV: Noch ist nicht alles gelaufen und verschossen\n",
        " </a>\n",
        "</li>\n",
        "<li>\n",
        " <a href=\"http://derstandard.at/2000012096986/Thiem-verliert-wieder-gegenRoberto-Bautista-Agut\" target=\"_blank\">\n",
        "  Thiem verliert wieder gegen Bautista Agut\n",
        " </a>\n",
        "</li>\n",
        "<li>\n",
        " <a href=\"http://derstandard.at/2000012119884/Mane-veraergert-Southamptons-Trainer\" target=\"_blank\">\n",
        "  Mane ver\u00e4rgert Southamptons Trainer\n",
        " </a>\n",
        "</li>\n",
        "<li>\n",
        " <a href=\"http://derstandard.at/2000012106506/Alonso-soll-sich-nach-Unfall-Zeit-lassen\" target=\"_blank\">\n",
        "  Alonso soll sich nach Unfall Zeit lassen\n",
        " </a>\n",
        "</li>\n",
        "<li>\n",
        " <a href=\"http://derstandard.at/2000012086975/Oesterreichs-fuenfter-Europacupplatz-ist-in-Gefahr\" target=\"_blank\">\n",
        "  \u00d6sterreichs f\u00fcnfter Europacupplatz in Gefahr\n",
        " </a>\n",
        "</li>\n",
        "<li>\n",
        " <a href=\"http://derstandard.at/2000012073030/Heim-Fansektor-Sperre-und-Geldstrafe-fuer-Rapid\" target=\"_blank\">\n",
        "  Heim-Fansektor-Sperre und Geldstrafe f\u00fcr Rapid\n",
        " </a>\n",
        "</li>\n",
        "<li>\n",
        " <a href=\"http://derstandard.at/2000012122646/Rolland-beendete-ihre-Karriere\" target=\"_blank\">\n",
        "  Marion Rolland beendete ihre Karriere\n",
        " </a>\n",
        "</li>\n",
        "<li>\n",
        " <a href=\"http://derstandard.at/2000012123696/Guessing-verpasst-EuroChallenge-Viertelfinale\" target=\"_blank\">\n",
        "  G\u00fcssing verpasst EuroChallenge-Viertelfinale\n",
        " </a>\n",
        "</li>\n",
        "<li>\n",
        " <a href=\"http://derstandard.at/2000012106415/Altach-investiert-in-Infrastruktur\" target=\"_blank\">\n",
        "  Altach investiert in Infrastruktur\n",
        " </a>\n",
        "</li>\n",
        "<li>\n",
        " <a href=\"http://derstandard.at/2000011677216/Selfie-Stick-Keine-lange-Stange-im-Museum\" target=\"_blank\">\n",
        "  Selfie-Stick: Keine lange Stange im Museum\n",
        " </a>\n",
        "</li>\n",
        "<li>\n",
        " <a href=\"http://derstandard.at/2000012040193/Umfrage-Ischgl-ist-der-beliebteste-Apres-Ski-Ort-Europas\" target=\"_blank\">\n",
        "  Umfrage: Ischgl ist der beliebteste Apr\u00e8s-Ski-Ort Europas\n",
        " </a>\n",
        "</li>\n",
        "<li>\n",
        " <a href=\"http://derstandard.at/2000011841624/Indien-Auf-der-Suche-nach-dem-legendaeren-Goa\" target=\"_blank\">\n",
        "  Indien: Auf der Suche nach dem legend\u00e4ren Goa\n",
        " </a>\n",
        "</li>\n",
        "<li>\n",
        " <a href=\"http://derstandard.at/2000011885981/MissVogueHot40-Die-feschesten-Typen\" target=\"_blank\">\n",
        "  #MissVogueHot40: Die feschesten Typen\n",
        " </a>\n",
        "</li>\n",
        "<li>\n",
        " <a href=\"http://derstandard.at/2000011947790/Bombay-RezepteErinnerungen-und-von-Mister-Todiwala\" target=\"_blank\">\n",
        "  Bombay - Rezepte und Erinnerungen von Mister Todiwala\n",
        " </a>\n",
        "</li>\n",
        "<li>\n",
        " <a href=\"http://derstandard.at/2000012037330/Trabi-goes-Australia-Ein-Tscheche-startet-Abenteuer\" target=\"_blank\">\n",
        "  Trabi goes Australia: Ein Tscheche startet Abenteuer\n",
        " </a>\n",
        "</li>\n",
        "<li>\n",
        " <a href=\"http://derstandard.at/2000011815337/Lippenpflegestifte-im-Test\" target=\"_blank\">\n",
        "  Lippenpflegestifte im Test\n",
        " </a>\n",
        "</li>\n",
        "<li>\n",
        " <a href=\"http://derstandard.at/2000012038366/Fish-and-Chips-am-Hindukusch\" target=\"_blank\">\n",
        "  \"Fish and Chips\" am Hindukusch\n",
        " </a>\n",
        "</li>\n",
        "<li>\n",
        " <a href=\"http://derstandard.at/2000012057240/Mehr-Kohle-fuer-Fuehrungskraefte-in-Suenden-Branchen\" target=\"_blank\">\n",
        "  Mehr Kohle f\u00fcr F\u00fchrungskr\u00e4fte in \"S\u00fcnden-Branchen\"\n",
        " </a>\n",
        "</li>\n",
        "<li>\n",
        " <a href=\"http://derstandard.at/2000012030665/Was-bei-Dienstfreistellung-in-der-Kuendigungsfrist-gilt\" target=\"_blank\">\n",
        "  Was bei Dienstfreistellung in der K\u00fcndigungsfrist gilt\n",
        " </a>\n",
        "</li>\n",
        "<li>\n",
        " <a href=\"http://derstandard.at/2000011862616/Die-besten-unbekannten-Berufe\" target=\"_blank\">\n",
        "  Die besten unbekannten Berufe\n",
        " </a>\n",
        "</li>\n",
        "<li>\n",
        " <a href=\"http://derstandard.at/2000012104107/Rechnungshof-kritisiert-Wiener-Bautraeger-Gesiba\" target=\"_blank\">\n",
        "  Rechnungshof kritisiert Wiener Bautr\u00e4ger Gesiba\n",
        " </a>\n",
        "</li>\n",
        "<li>\n",
        " <a href=\"http://derstandard.at/2000012082109/Berliner-Noch-Flughafen-Tegel-soll-zum-Wohngebiet-werden\" target=\"_blank\">\n",
        "  Berliner Flughafen Tegel soll Wohngebiet werden\n",
        " </a>\n",
        "</li>\n",
        "<li>\n",
        " <a href=\"http://derstandard.at/2000011979401/Brutalismus-Zurueck-zum-Beton\" target=\"_blank\">\n",
        "  Brutalismus: Zur\u00fcck zum Beton!\n",
        " </a>\n",
        "</li>\n",
        "<li>\n",
        " <a href=\"http://derstandard.at/2000011774909/VeloBerlin-Film-Award-Beste-Rad-Kurzfilme\" target=\"_blank\">\n",
        "  VeloBerlin Film Award: Beste Rad-Kurzfilme\n",
        " </a>\n",
        "</li>\n",
        "<li>\n",
        " <a href=\"http://derstandard.at/2000012070705/Genf-2015-Magna-Mila-mit-Plug-In-Hybrid\" target=\"_blank\">\n",
        "  Magna Mila in Genf: Steif unter Strom\n",
        " </a>\n",
        "</li>\n",
        "<li>\n",
        " <a href=\"http://derstandard.at/2000012055993/Harley-Davidson-hat-ein-Bike-frei\" target=\"_blank\">\n",
        "  Harley-Davidson hat ein Bike frei\n",
        " </a>\n",
        "</li>\n",
        "<li>\n",
        " <a href=\"http://derstandard.at/2000012110825/Extreme-Ernaehrungsformen-auf-ATVMistkuebelstierler-20\" target=\"_blank\">\n",
        "  Reportage \"Extreme Ern\u00e4hrungsformen\" auf ATV: Mistk\u00fcbelstierler 2.0\n",
        " </a>\n",
        "</li>\n",
        "<li>\n",
        " <a href=\"http://derstandard.at/2000012098047/Musikantenstadl-Gabalier-Mross-und-Fischer-kursieren-als-Borg-Nachfolger\" target=\"_blank\">\n",
        "  \"Musikantenstadl\": Gabalier, Mross und Fischer kursieren als Borg-Nachfolger\n",
        " </a>\n",
        "</li>\n",
        "<li>\n",
        " <a href=\"http://derstandard.at/2000012084353/Oesterreichische-Auflagenkontrolle-weist-erstmals-E-Paper-aus\" target=\"_blank\">\n",
        "  \u00d6sterreichische Auflagenkontrolle weist erstmals E-Paper aus\n",
        " </a>\n",
        "</li>\n",
        "<li>\n",
        " <a href=\"http://derstandard.at/2000012091161/ORF-schliesst-2014-mit-5-Millionen-Euro-Gewinn-ab\" target=\"_blank\">\n",
        "  ORF 2014 \u00fcber Plan, gut 300 Millionen auf der hohen Kante\n",
        " </a>\n",
        "</li>\n",
        "<li>\n",
        " <a href=\"http://derstandard.at/2000012094466/Medientransparenz-Rechnungshof-ruegt-Museumsquartier\" target=\"_blank\">\n",
        "  Medientransparenz: Rechnungshof r\u00fcgt Museumsquartier\n",
        " </a>\n",
        "</li>\n",
        "<li>\n",
        " <a href=\"http://derstandard.at/2000012085663/Spaehangrifftaz-zeigt-Mitarbeiter-an\" target=\"_blank\">\n",
        "  Sp\u00e4hangriff auf Kollegen: \"taz\" zeigt Mitarbeiter an\n",
        " </a>\n",
        "</li>\n",
        "<li>\n",
        " <a href=\"http://derstandard.at/2000012112669/Berlusconi-greift-nach-40-Prozent-des-Buchmarkts\" target=\"_blank\">\n",
        "  Berlusconi greift nach 40 Prozent des Buchmarkts\n",
        " </a>\n",
        "</li>\n",
        "<li>\n",
        " <a href=\"http://derstandard.at/2000012108740/Kodex-DAX-Firmen-gegen-Einflussnahme-bei-Medien\" target=\"_blank\">\n",
        "  Kodex: DAX-Firmen gegen Einflussnahme bei Medien\n",
        " </a>\n",
        "</li>\n",
        "<li>\n",
        " <a href=\"http://derstandard.at/2000012099479/Gerichtshof-Medien-duerfen-versteckte-Kameras-einsetzen\" target=\"_blank\">\n",
        "  Gerichtshof: Medien d\u00fcrfen versteckte Kameras einsetzen\n",
        " </a>\n",
        "</li>\n",
        "<li>\n",
        " <a href=\"http://derstandard.at/2000012114217/Oliver-Stokowski-Wenn-das-Zebra-eine-Rede-haelt-spricht-Robespierre\" target=\"_blank\">\n",
        "  Oliver Stokowski: \"Wenn das Zebra eine Rede h\u00e4lt, spricht Robespierre\"\n",
        " </a>\n",
        "</li>\n",
        "<li>\n",
        " <a href=\"http://derstandard.at/2000012115936/Sklaven-Seltener-Erden-und-Gefangene-der-Kunst\" target=\"_blank\">\n",
        "  Sklaven Seltener Erden und Gefangene der Kunst\n",
        " </a>\n",
        "</li>\n",
        "<li>\n",
        " <a href=\"http://derstandard.at/2000012108202/Steve-Wynn-Evergreens-fuer-Traeumer\" target=\"_blank\">\n",
        "  Steve Wynn im Chelsea: Evergreens f\u00fcr Tr\u00e4umer\n",
        " </a>\n",
        "</li>\n",
        "<li>\n",
        " <a href=\"http://derstandard.at/2000012113258/Szene-Bunte-Waehne-Tanzen-gegen-Ballermaenner\" target=\"_blank\">\n",
        "  Szene Bunte W\u00e4hne: Tanzen gegen Ballerm\u00e4nner\n",
        " </a>\n",
        "</li>\n",
        "<li>\n",
        " <a href=\"http://derstandard.at/2000012110180/Verschwundene-Linzer-Bilder-Erben-erhoehen-Forderung\" target=\"_blank\">\n",
        "  Verschwundene Linzer Bilder: Erben erh\u00f6hen Forderung\n",
        " </a>\n",
        "</li>\n",
        "<li>\n",
        " <a href=\"http://derstandard.at/2000012108769/Queer-Performance-Festival-Heiss-wie-die-Hoelle\" target=\"_blank\">\n",
        "  Queer Performance Festival: Hei\u00df wie die H\u00f6lle\n",
        " </a>\n",
        "</li>\n",
        "<li>\n",
        " <a href=\"http://derstandard.at/2000012078707/American-Horror-Story-Darsteller-Ben-Woolf-gestorben\" target=\"_blank\">\n",
        "  \"American Horror Story\"-Darsteller Ben Woolf gestorben\n",
        " </a>\n",
        "</li>\n",
        "<li>\n",
        " <a href=\"http://derstandard.at/2000012051042/Neues-Elektronikmusik-Festival-im-Museumsquartier\" target=\"_blank\">\n",
        "  Electric Spring: Neues Festival in Wien\n",
        " </a>\n",
        "</li>\n",
        "<li>\n",
        " <a href=\"http://derstandard.at/2000012071485/Soziale-Netzwerke-als-Grundprinzip-des-Staedtewachstums\" target=\"_blank\">\n",
        "  Stadtentwicklung folgte stets demselben Grundprinzip\n",
        " </a>\n",
        "</li>\n",
        "<li>\n",
        " <a href=\"http://derstandard.at/2000012093426/Forscher-entdecken-in-der-Schweiz-bisher-unbekannte-Zikade\" target=\"_blank\">\n",
        "  Forscher entdecken in der Schweiz bisher unbekannte Zikade\n",
        " </a>\n",
        "</li>\n",
        "<li>\n",
        " <a href=\"http://derstandard.at/2000012109495/Pflegeroboter-und-weltweite-Streik-Sensoren-Wissenschaft-und-Wirtschaft-finden-zusammen\" target=\"_blank\">\n",
        "  Wissenschaft findet Wirtschaft: Pflegeroboter und weltweite Streik-Sensoren\n",
        " </a>\n",
        "</li>\n",
        "<li>\n",
        " <a href=\"http://derstandard.at/2000012103122/Kommende-Sonnenfinsternis-stelltStromnetzbetreiber-vor-Herausforderung\" target=\"_blank\">\n",
        "  Sonnenfinsternis stellt Stromnetzbetreiber vor Herausforderung\n",
        " </a>\n",
        "</li>\n",
        "<li>\n",
        " <a href=\"http://derstandard.at/2000012112949/Neuer-ESA-Umweltsatellit-nimmtWaelder-und-Felder-ins-Visier\" target=\"_blank\">\n",
        "  Neuer ESA-Umweltsatellit nimmt W\u00e4lder und Felder ins Visier\n",
        " </a>\n",
        "</li>\n",
        "<li>\n",
        " <a href=\"http://derstandard.at/2000012044730/Mit-Bakterien-das-Abfallprodukt-Laevulinsaeure-brauchbar-machen\" target=\"_blank\">\n",
        "  Mit Bakterien das Abfallprodukt L\u00e4vulins\u00e4ure brauchbar machen\n",
        " </a>\n",
        "</li>\n",
        "<li>\n",
        " <a href=\"http://derstandard.at/2000012095201/IPCC-ChefRajendra-Pachaurizurueckgetreten\" target=\"_blank\">\n",
        "  IPCC-Chef Rajendra Pachauri zur\u00fcckgetreten\n",
        " </a>\n",
        "</li>\n",
        "<li>\n",
        " <a href=\"http://derstandard.at/2000012019728/Deutschland-stellt-umstrittenen-Welfenschatz-unter-Kulturschutz\" target=\"_blank\">\n",
        "  Streit um Welfenschatz geht weiter: US-Klage gegen Deutschland\n",
        " </a>\n",
        "</li>\n",
        "<li>\n",
        " <a href=\"http://derstandard.at/2000012093875/Eltern-stehen-Kinder-Impfungen-skeptisch-gegenueber\" target=\"_blank\">\n",
        "  Eltern stehen Kinder-Impfungen skeptisch gegen\u00fcber\n",
        " </a>\n",
        "</li>\n",
        "<li>\n",
        " <a href=\"http://derstandard.at/2000012102519/Neuer-Ansatz-zur-Ueberwachung-der-Lungenfunktion\" target=\"_blank\">\n",
        "  Neuer Ansatz zur \u00dcberwachung der Lungenfunktion\n",
        " </a>\n",
        "</li>\n",
        "<li>\n",
        " <a href=\"http://derstandard.at/2000012084566/Einbrechen-in-Eis-Was-tun\" target=\"_blank\">\n",
        "  Was tun, wenn das Eis bricht?\n",
        " </a>\n",
        "</li>\n",
        "<li>\n",
        " <a href=\"http://derstandard.at/2000012080966/Sternzellen-steuern-Vernarbung-der-Leber\" target=\"_blank\">\n",
        "  Sternzellen steuern Vernarbung der Leber\n",
        " </a>\n",
        "</li>\n",
        "<li>\n",
        " <a href=\"http://derstandard.at/2000012099396/Ebola-Medikament-zeigt-positive-Wirkung-bei-Patienten-im-Fruehstadium\" target=\"_blank\">\n",
        "  Ebola-Medikament zeigt positive Wirkung bei Patienten im Fr\u00fchstadium\n",
        " </a>\n",
        "</li>\n",
        "<li>\n",
        " <a href=\"http://derstandard.at/2000012113982/Wutausbrueche-steigern-akutes-Herzinfarktrisiko-enorm\" target=\"_blank\">\n",
        "  Wutausbr\u00fcche steigern akutes Herzinfarktrisiko enorm\n",
        " </a>\n",
        "</li>\n",
        "<li>\n",
        " <a href=\"http://derstandard.at/2000012095646/Photodynamische-TherapieKrebszellen-mit-Farbe-besiegen\" target=\"_blank\">\n",
        "  Photodynamische Therapie: Krebszellen mit Farbe besiegen\n",
        " </a>\n",
        "</li>\n",
        "<li>\n",
        " <a href=\"http://derstandard.at/2000012036700/Britischer-Leichenbeschauer-warnt-vor-giftiger-Kabinenluft\" target=\"_blank\">\n",
        "  Britischer Leichenbeschauer warnt vor giftiger Kabinenluft\n",
        " </a>\n",
        "</li>\n",
        "<li>\n",
        " <a href=\"http://derstandard.at/2000011939773/Wenn-das-Familiespielen-warten-muss\" target=\"_blank\">\n",
        "  Wenn das \"Familiespielen\" warten muss\n",
        " </a>\n",
        "</li>\n",
        "<li>\n",
        " <a href=\"http://derstandard.at/2000011397227/In-Schweden-ist-nicht-alles-besser\" target=\"_blank\">\n",
        "  <span class=\"ugc-icon\" title=\"Userbeitrag\">\n",
        "   #\n",
        "  </span>\n",
        "  In Schweden ist nicht alles besser\n",
        " </a>\n",
        "</li>\n",
        "<li>\n",
        " <a href=\"http://derstandard.at/2000011671770/Kindergartenplatzsuche-Huerden-bei-fuer-Kinder-mit-Beeintraechtigung\" target=\"_blank\">\n",
        "  Kindergartenplatzsuche: H\u00fcrden f\u00fcr Kinder mit Beeintr\u00e4chtigung\n",
        " </a>\n",
        "</li>\n",
        "<li>\n",
        " <a href=\"http://derstandard.at/2000011840883/Computerspiele-Kritischen-Umgang-lernen-und-Potentiale-erkennen\" target=\"_blank\">\n",
        "  Computerspiele: Kritischen Umgang lernen und Potenziale erkennen\n",
        " </a>\n",
        "</li>\n",
        "<li>\n",
        " <a href=\"http://derstandard.at/2000012038932/Unter-der-Guertellinie\" target=\"_blank\">\n",
        "  <span class=\"ugc-icon\" title=\"Userbeitrag\">\n",
        "   #\n",
        "  </span>\n",
        "  Unter der G\u00fcrtellinie \u2013 der Drang nach Geschlechtereinteilung\n",
        " </a>\n",
        "</li>\n",
        "<li>\n",
        " <a href=\"http://derstandard.at/2000012038236/Feministische-Statements-in-der-Oscarnacht\" target=\"_blank\">\n",
        "  Feministische Statements in der Oscar-Nacht\n",
        " </a>\n",
        "</li>\n",
        "<li>\n",
        " <a href=\"http://derstandard.at/2000012093096/Die-Haushaltsarbeit-bleibt-groesstenteils-immer-noch-an-Frauen-haengen\" target=\"_blank\">\n",
        "  Haushaltsarbeit bleibt gr\u00f6\u00dftenteils immer noch an Frauen h\u00e4ngen\n",
        " </a>\n",
        "</li>\n",
        "<li>\n",
        " <a href=\"http://derstandard.at/2000011996089/Zekra-Alwach-soll-Bagdad-regieren\" target=\"_blank\">\n",
        "  Erste B\u00fcrgermeisterin: Zekra Alwach soll Bagdad regieren\n",
        " </a>\n",
        "</li>\n",
        "<li>\n",
        " <a href=\"http://derstandard.at/2000011937945/Studie-Immer-mehr-Frauen-in-Deutschland-arbeiten-Teilzeit\" target=\"_blank\">\n",
        "  Studie: Immer mehr Frauen in Deutschland arbeiten Teilzeit\n",
        " </a>\n",
        "</li>"
       ],
       "metadata": {},
       "output_type": "pyout",
       "prompt_number": 5,
       "text": [
        "<IPython.core.display.HTML at 0x2a9b390>"
       ]
      }
     ],
     "prompt_number": 5
    },
    {
     "cell_type": "markdown",
     "metadata": {},
     "source": [
      "## Suchmaschine\n",
      "\n",
      "Eine Kombination aus den bisher vorgestellten Techniken, ist z.B. der Bau einer eigenen kleinen Suchmaschine.\n",
      "Zuerst werden Webseiten nach Links durchsucht, und die verlinkten Seiten ebenfalls wieder nach Links durchsucht.\n",
      "Auf diese Art erh\u00e4lt man eine Sammlung von Webseiten.\n",
      "Daf\u00fcr baut man nun einen Index, der von den einzelnen W\u00f6rtern wieder auf die Links der Webseiten zur\u00fcck verweisen."
     ]
    },
    {
     "cell_type": "code",
     "collapsed": false,
     "input": [
      "from __future__ import print_function\n",
      "from collections import defaultdict\n",
      "from Queue import Queue\n",
      "import requests as req\n",
      "import random\n",
      "import re\n",
      "import threading\n",
      "from multiprocessing.pool import ThreadPool\n",
      "from bs4 import BeautifulSoup"
     ],
     "language": "python",
     "metadata": {},
     "outputs": [],
     "prompt_number": 6
    },
    {
     "cell_type": "code",
     "collapsed": false,
     "input": [
      "# TODO: pagerank algorithmus aus networkx einbauen"
     ],
     "language": "python",
     "metadata": {},
     "outputs": [],
     "prompt_number": 7
    },
    {
     "cell_type": "code",
     "collapsed": false,
     "input": [
      "def mk_new_url(url, href):\n",
      "    if href.startswith(\"http\"):\n",
      "        new_url = href\n",
      "    elif href.startswith(\"#\"):\n",
      "        return None\n",
      "    else:\n",
      "        if not href.startswith(\"/\"):\n",
      "            href = \"/\" + href\n",
      "        new_url = url + href\n",
      "    if \"?\" in new_url:\n",
      "        new_url = new_url[:new_url.index(\"?\")]\n",
      "    if new_url.endswith(\"/\"):\n",
      "        new_url = new_url[:-1]\n",
      "    return new_url"
     ],
     "language": "python",
     "metadata": {},
     "outputs": [],
     "prompt_number": 8
    },
    {
     "cell_type": "code",
     "collapsed": false,
     "input": [
      "urls = Queue()\n",
      "urls.put(\"http://www.univie.ac.at\")\n",
      "visited = set()\n",
      "keywords = defaultdict(set)\n",
      "word = re.compile(r\"\\b\\w{4,}\\b\")"
     ],
     "language": "python",
     "metadata": {},
     "outputs": [],
     "prompt_number": 9
    },
    {
     "cell_type": "code",
     "collapsed": false,
     "input": [
      "def index_task(url):\n",
      "    if url in visited:\n",
      "        return \"dup\"\n",
      "    try:\n",
      "        content = req.get(url, timeout = 5).text\n",
      "    except:\n",
      "        # connection error, etc. -> pick next one\n",
      "        return \"err\"\n",
      "\n",
      "    page = BeautifulSoup(content)\n",
      "    for a in page.select(\"a\"):\n",
      "        if \"href\" in a.attrs:\n",
      "            new_url = mk_new_url(url, a.attrs[\"href\"])\n",
      "            if new_url:\n",
      "                urls.put(new_url)\n",
      "\n",
      "    for match in word.finditer(page.text):\n",
      "        token = match.group().lower()\n",
      "        keywords[token].add(url)\n",
      "\n",
      "    visited.add(url)\n",
      "    \n",
      "    return len(visited)"
     ],
     "language": "python",
     "metadata": {},
     "outputs": [],
     "prompt_number": 10
    },
    {
     "cell_type": "code",
     "collapsed": false,
     "input": [
      "def get_urls(limit = 100):\n",
      "    while limit >= 0:\n",
      "        limit -= 1\n",
      "        url = urls.get()\n",
      "        yield url"
     ],
     "language": "python",
     "metadata": {},
     "outputs": [],
     "prompt_number": 11
    },
    {
     "cell_type": "code",
     "collapsed": false,
     "input": [
      "# 30 in parallel, most of the time they are waiting for the website!\n",
      "workers = ThreadPool(30)\n",
      "for nb_urls in workers.imap_unordered(index_task, get_urls()):\n",
      "    print(nb_urls, end=\" \")\n",
      "print(\"END\")"
     ],
     "language": "python",
     "metadata": {},
     "outputs": [
      {
       "output_type": "stream",
       "stream": "stdout",
       "text": [
        "1 2"
       ]
      },
      {
       "output_type": "stream",
       "stream": "stdout",
       "text": [
        " 3 4"
       ]
      },
      {
       "output_type": "stream",
       "stream": "stdout",
       "text": [
        " 5"
       ]
      },
      {
       "output_type": "stream",
       "stream": "stdout",
       "text": [
        " dup 5"
       ]
      },
      {
       "output_type": "stream",
       "stream": "stdout",
       "text": [
        " dup dup 6"
       ]
      },
      {
       "output_type": "stream",
       "stream": "stdout",
       "text": [
        " 7 8"
       ]
      },
      {
       "output_type": "stream",
       "stream": "stdout",
       "text": [
        " 8 9"
       ]
      },
      {
       "output_type": "stream",
       "stream": "stdout",
       "text": [
        " dup 10 dup 11"
       ]
      },
      {
       "output_type": "stream",
       "stream": "stdout",
       "text": [
        " dup 11"
       ]
      },
      {
       "output_type": "stream",
       "stream": "stdout",
       "text": [
        " 12 dup dup dup 13"
       ]
      },
      {
       "output_type": "stream",
       "stream": "stdout",
       "text": [
        " dup dup dup dup 13 13"
       ]
      },
      {
       "output_type": "stream",
       "stream": "stdout",
       "text": [
        " 13 13"
       ]
      },
      {
       "output_type": "stream",
       "stream": "stdout",
       "text": [
        " 13 dup dup 14"
       ]
      },
      {
       "output_type": "stream",
       "stream": "stdout",
       "text": [
        " dup 15"
       ]
      },
      {
       "output_type": "stream",
       "stream": "stdout",
       "text": [
        " 16"
       ]
      },
      {
       "output_type": "stream",
       "stream": "stdout",
       "text": [
        " 17 18"
       ]
      },
      {
       "output_type": "stream",
       "stream": "stdout",
       "text": [
        " 18 18"
       ]
      },
      {
       "output_type": "stream",
       "stream": "stdout",
       "text": [
        " 18 dup 18"
       ]
      },
      {
       "output_type": "stream",
       "stream": "stdout",
       "text": [
        " 18 dup"
       ]
      },
      {
       "output_type": "stream",
       "stream": "stdout",
       "text": [
        " dup err"
       ]
      },
      {
       "output_type": "stream",
       "stream": "stdout",
       "text": [
        " 18"
       ]
      },
      {
       "output_type": "stream",
       "stream": "stdout",
       "text": [
        " 18"
       ]
      },
      {
       "output_type": "stream",
       "stream": "stdout",
       "text": [
        " 18"
       ]
      },
      {
       "output_type": "stream",
       "stream": "stdout",
       "text": [
        " 18"
       ]
      },
      {
       "output_type": "stream",
       "stream": "stdout",
       "text": [
        " dup 18"
       ]
      },
      {
       "output_type": "stream",
       "stream": "stdout",
       "text": [
        " dup 18"
       ]
      },
      {
       "output_type": "stream",
       "stream": "stdout",
       "text": [
        " dup 19 19 20"
       ]
      },
      {
       "output_type": "stream",
       "stream": "stdout",
       "text": [
        " err 20"
       ]
      },
      {
       "output_type": "stream",
       "stream": "stdout",
       "text": [
        " 20 21"
       ]
      },
      {
       "output_type": "stream",
       "stream": "stdout",
       "text": [
        " 22 22"
       ]
      },
      {
       "output_type": "stream",
       "stream": "stdout",
       "text": [
        " dup 23"
       ]
      },
      {
       "output_type": "stream",
       "stream": "stdout",
       "text": [
        " dup 23"
       ]
      },
      {
       "output_type": "stream",
       "stream": "stdout",
       "text": [
        " 24 25 26"
       ]
      },
      {
       "output_type": "stream",
       "stream": "stdout",
       "text": [
        " 27 28"
       ]
      },
      {
       "output_type": "stream",
       "stream": "stdout",
       "text": [
        " 29"
       ]
      },
      {
       "output_type": "stream",
       "stream": "stdout",
       "text": [
        " 30 31"
       ]
      },
      {
       "output_type": "stream",
       "stream": "stdout",
       "text": [
        " 32 32"
       ]
      },
      {
       "output_type": "stream",
       "stream": "stdout",
       "text": [
        " 33"
       ]
      },
      {
       "output_type": "stream",
       "stream": "stdout",
       "text": [
        " 34 35"
       ]
      },
      {
       "output_type": "stream",
       "stream": "stdout",
       "text": [
        " 35"
       ]
      },
      {
       "output_type": "stream",
       "stream": "stdout",
       "text": [
        " 36 37 38 38 39"
       ]
      },
      {
       "output_type": "stream",
       "stream": "stdout",
       "text": [
        " 40 41 41 42"
       ]
      },
      {
       "output_type": "stream",
       "stream": "stdout",
       "text": [
        " 43 43 43 43 44 END\n"
       ]
      }
     ],
     "prompt_number": 12
    },
    {
     "cell_type": "code",
     "collapsed": false,
     "input": [
      "def search(*terms):\n",
      "    from IPython.display import HTML\n",
      "    \n",
      "    def get_matches(term):\n",
      "        urls = set()\n",
      "        for k in keywords.keys():\n",
      "            if term in k:\n",
      "                for url in keywords[k]:\n",
      "                    urls.add(url)\n",
      "        return urls\n",
      "    \n",
      "    result = get_matches(terms[0])\n",
      "    for term in terms[1:]:\n",
      "        result = result.intersect(get_matches[term])\n",
      "    urls_html = ['<a href=\"{0}\" target=\"_blank\">{0}</a>'.format(r) for r in sorted(result)]\n",
      "    return HTML('<br>'.join(urls_html))"
     ],
     "language": "python",
     "metadata": {},
     "outputs": [],
     "prompt_number": 17
    },
    {
     "cell_type": "markdown",
     "metadata": {},
     "source": [
      "Suche nach Seiten, die das Teilwort \"mathemat\" beinhalten:"
     ]
    },
    {
     "cell_type": "code",
     "collapsed": false,
     "input": [
      "search(\"mathemat\")"
     ],
     "language": "python",
     "metadata": {},
     "outputs": [
      {
       "html": [
        "<a href=\"http://jobcenter.univie.ac.at/home\" target=\"_blank\">http://jobcenter.univie.ac.at/home</a><br><a href=\"http://medienportal.univie.ac.at/uniview\" target=\"_blank\">http://medienportal.univie.ac.at/uniview</a><br><a href=\"http://medienportal.univie.ac.at/uniview/professuren\" target=\"_blank\">http://medienportal.univie.ac.at/uniview/professuren</a><br><a href=\"http://online.univie.ac.at/pers\" target=\"_blank\">http://online.univie.ac.at/pers</a><br><a href=\"http://online.univie.ac.at/vlvz\" target=\"_blank\">http://online.univie.ac.at/vlvz</a><br><a href=\"http://rektorat.univie.ac.at/forschungsplattformen-verbuende\" target=\"_blank\">http://rektorat.univie.ac.at/forschungsplattformen-verbuende</a><br><a href=\"http://studentpoint.univie.ac.at/vor-dem-studium/alle-studien\" target=\"_blank\">http://studentpoint.univie.ac.at/vor-dem-studium/alle-studien</a><br><a href=\"http://studentpoint.univie.ac.at/vor-dem-studium/mint\" target=\"_blank\">http://studentpoint.univie.ac.at/vor-dem-studium/mint</a><br><a href=\"http://www.univie.ac.at\" target=\"_blank\">http://www.univie.ac.at</a><br><a href=\"http://www.univie.ac.at/forschung/forschung-im-ueberblick/forschung-an-der-universitaet-wien\" target=\"_blank\">http://www.univie.ac.at/forschung/forschung-im-ueberblick/forschung-an-der-universitaet-wien</a><br><a href=\"http://www.univie.ac.at/studium/ueberblick-angebot/schwerpunkt-lehramtsstudien\" target=\"_blank\">http://www.univie.ac.at/studium/ueberblick-angebot/schwerpunkt-lehramtsstudien</a><br><a href=\"http://www.univie.ac.at/ueber-uns/leitung-organisation/fakultaeten-zentren\" target=\"_blank\">http://www.univie.ac.at/ueber-uns/leitung-organisation/fakultaeten-zentren</a><br><a href=\"http://www.univie.ac.at/ueber-uns/leitung-organisation/studien-lehrorganisation\" target=\"_blank\">http://www.univie.ac.at/ueber-uns/leitung-organisation/studien-lehrorganisation</a>"
       ],
       "metadata": {},
       "output_type": "pyout",
       "prompt_number": 18,
       "text": [
        "<IPython.core.display.HTML at 0x2ab598222f90>"
       ]
      }
     ],
     "prompt_number": 18
    },
    {
     "cell_type": "code",
     "collapsed": false,
     "input": [
      "len(keywords)"
     ],
     "language": "python",
     "metadata": {},
     "outputs": [
      {
       "metadata": {},
       "output_type": "pyout",
       "prompt_number": 19,
       "text": [
        "6516"
       ]
      }
     ],
     "prompt_number": 19
    },
    {
     "cell_type": "markdown",
     "metadata": {},
     "source": [
      "10 zuf\u00e4llig gew\u00e4hlte Schl\u00fcsselw\u00f6rter"
     ]
    },
    {
     "cell_type": "code",
     "collapsed": false,
     "input": [
      "random.sample(keywords.keys(), 10)"
     ],
     "language": "python",
     "metadata": {},
     "outputs": [
      {
       "metadata": {},
       "output_type": "pyout",
       "prompt_number": 15,
       "text": [
        "[u'want',\n",
        " u'hervor',\n",
        " u'nachwuchswissenschafterinnen',\n",
        " u'richten',\n",
        " u'anregender',\n",
        " u'krebszellen',\n",
        " u'grammatiktheorie',\n",
        " u'bruttolohns',\n",
        " u'fflerbinnenstrukturfakult',\n",
        " u'tanzkurse']"
       ]
      }
     ],
     "prompt_number": 15
    }
   ],
   "metadata": {}
  }
 ]
}
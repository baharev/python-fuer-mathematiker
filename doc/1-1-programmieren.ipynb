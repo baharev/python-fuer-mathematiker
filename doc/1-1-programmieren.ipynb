{
 "metadata": {
  "name": "",
  "signature": "sha256:aa03279df57c53730b625ab1bc118b45eed244d46f8ffd7ae3977de7c4d5efd8"
 },
 "nbformat": 3,
 "nbformat_minor": 0,
 "worksheets": [
  {
   "cells": [
    {
     "cell_type": "markdown",
     "metadata": {},
     "source": [
      "# Was ist Programmieren?\n",
      "\n",
      "Nach diesem Streifzug durch einige Beispiele stellt sich die Frage,\n",
      "was \"Programmieren\" \u00fcberhaupt sein soll?"
     ]
    },
    {
     "cell_type": "markdown",
     "metadata": {},
     "source": [
      "Die einfachste Antwort ist, dass es die \n",
      "\n",
      "> \u00dcbersetzung eines Algorithmus in eine f\u00fcr die Maschine (aka \"Computer\") verst\u00e4ndliche Form ist.\n",
      "\n",
      "Was ist dann ein **Algorithmus**?\n",
      "\n",
      "> Das ist eine Vorschrift, wie ein ein gegebenes Problem mittels klar definierter Anweisungen gel\u00f6st werden kann.\n",
      "\n",
      "Wichtig ist, dass jeder Schritt explizit und direkt abl\u00e4uft,\n",
      "und sie jeweils auf eindeutigen und klaren Definitionen basieren.\n",
      "Jede Ausf\u00fchrung des Algorithmus basiert auf Eingabedaten,\n",
      "welche die jeweilige Instanz des zu l\u00f6senden Problems bestimmen.\n",
      "Nur auf basis diese Daten kann die L\u00f6sung berechnet werden.\n",
      "Abschlie\u00dfend sollte die Ausgabe des Ergebnisses wieder in einer f\u00fcr den Menschen lesbaren Form geschen."
     ]
    },
    {
     "cell_type": "markdown",
     "metadata": {},
     "source": [
      "Eine **Programmiersprache** ist das Zwischenst\u00fcck,\n",
      "um einem Computer so einen Algorithmus beizubringen.\n",
      "Es handelt sich damit um das Kernelement,\n",
      "warum Computer \u00fcberhaupt f\u00fcr den Menschen nutzbar wurden\n",
      "und warum sie so eine hohe Flexibilit\u00e4t aufweisen.\n",
      "\n",
      "Mittels der Programmiersprache muss es m\u00f6glich sein,\n",
      "sowohl die Eingeabedaten als auch den Ablauf des Algorithmuses repr\u00e4sentieren zu k\u00f6nnen.\n",
      "Intern verarbeitet ein Computer ausschlie\u00dflich bin\u00e4r codierte Daten und Befehle,\n",
      "welche f\u00fcr den Menschen nicht aussagekr\u00e4ftig sind.\n",
      "Daher ist es wichtig zu verstehen,\n",
      "dass die Repr\u00e4sentation des Programmes in einer Programmiersprache\n",
      "eine f\u00fcr den Menschen lesbare Form ist\n",
      "und dann in eine f\u00fcr die Maschine verst\u00e4ndliche Form \u00fcbersetzt oder interpretiert wird."
     ]
    },
    {
     "cell_type": "markdown",
     "metadata": {},
     "source": [
      "## Kontrollstrukturen\n",
      "\n",
      "Um den Ablauf des Algorithmus im Detail programmieren zu k\u00f6nnen,\n",
      "muss eine Programmiersprache Kontrollstrukturen (engl. \"control structures\") bereitstellen.\n",
      "Der lineare Ablauf einer Liste von Befehlen wird dabei zu einem komplexeren Ablauf,\n",
      "welcher aus \n",
      "\n",
      "* bedingten Verzweigungen (Entscheidungen),\n",
      "* Wiederholungen (Schleifen, Iterationen, ...)\n",
      "* aufrufbaren Codebl\u00f6cken (Funktionen, Methoden)\n",
      "* und anderem (Coroutinen, Threads, ...), etc.\n",
      "\n",
      "besteht."
     ]
    },
    {
     "cell_type": "markdown",
     "metadata": {},
     "source": [
      "## Datenstrukturen\n",
      "\n",
      "Eine gute Repr\u00e4sentation der Daten ist die zweite elementare Eigenschaft.\n",
      "Im elementarsten bestehen Daten aus bin\u00e4ren Datenbl\u00f6cken,\n",
      "welche durch Namensgebung dem Menschen eine Bedeutung geben (Variablen, Variablenname).\n",
      "Diese Datenbl\u00f6cke k\u00f6nnen zu komplexeren Strukturen zusammengesetzt werden:\n",
      "\n",
      "* Listen: eine lineare, geordnete Struktur (Vektor)\n",
      "* Assoziative Listen: Jeder Eintrag erh\u00e4lt einen eindeutigen Namen, unter dem er abgerufen werden kann (surjektiv)\n",
      "* Verschachtelungen: ein Eintrag einer assoziativen Liste kann eine Liste sein, etc.\n",
      "* Mengen: jedes Element kommt nur einmal vor\n",
      "* ...\n",
      "\n",
      "Werden bestimmte Auspr\u00e4gungen dieser Datenstrukturen immer wieder verwendet,\n",
      "so bietet die Programmiersprache Python sogenannte \"Klassen\" (engl. class) an.\n",
      "Dies sind benannte Strukturen, welche neben den Daten auch darauf abstimmte Funktionen beinhalten k\u00f6nnen - diese Funktionen nennt man dann \"Methoden\".\n",
      "So eine benannte Datenstruktur ist dann ein **Datentyp**,\n",
      "welcher erlaubt komplexere Konzepte in einem f\u00fcr den Menschen verst\u00e4ndliche Art zu implementieren --\n",
      "wobei gleichzeitig die darunterliegende Bin\u00e4rstruktur f\u00fcr den Computer verst\u00e4ndlich ist."
     ]
    },
    {
     "cell_type": "markdown",
     "metadata": {},
     "source": [
      "Beispiel: Datenstruktur eines Bruchs.\n",
      "\n",
      "Ein Bruch besteht aus einem Nenner und einem Z\u00e4hler,\n",
      "welche jeweils 64-bit Ganzzahlen sein sollen.\n",
      "Ein Datentyp \"`Bruch`\" fasst nun diese beiden Ganzzahlen zusammen,\n",
      "und beispielsweise eine assoziierte Funktion \"`add`\" erlaubt es zwei Br\u00fcche zu addieren."
     ]
    },
    {
     "cell_type": "markdown",
     "metadata": {},
     "source": [
      "Links:\n",
      "\n",
      "* [What Is Programming?](http://interactivepython.org/courselib/static/pythonds/Introduction/WhatIsProgramming.html)"
     ]
    },
    {
     "cell_type": "code",
     "collapsed": false,
     "input": [],
     "language": "python",
     "metadata": {},
     "outputs": []
    }
   ],
   "metadata": {}
  }
 ]
}
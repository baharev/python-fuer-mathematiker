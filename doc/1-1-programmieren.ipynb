{
 "metadata": {
  "name": "",
  "signature": "sha256:fd0c9989481d7c407f5305fe1540abe747e76b43795cadf93b068a86c2437429"
 },
 "nbformat": 3,
 "nbformat_minor": 0,
 "worksheets": [
  {
   "cells": [
    {
     "cell_type": "markdown",
     "metadata": {},
     "source": [
      "# Was ist Programmieren?\n",
      "\n",
      "Nach diesem Streifzug durch einige einf\u00fchrende Beispiele stellt sich die Frage,\n",
      "was \"Programmieren\" \u00fcberhaupt sein soll?"
     ]
    },
    {
     "cell_type": "markdown",
     "metadata": {},
     "source": [
      "Die einfachste Antwort ist, dass es die \n",
      "\n",
      "> \u00dcbersetzung eines Algorithmus in eine f\u00fcr die Maschine (aka \"Computer\") verst\u00e4ndliche Form ist.\n",
      "\n",
      "Was ist dann ein **Algorithmus**?\n",
      "\n",
      "> Das ist eine Vorschrift, wie ein ein gegebenes Problem mittels klar definierter Anweisungen gel\u00f6st werden kann.\n",
      "\n",
      "Wichtig ist, dass jeder Schritt explizit und direkt abl\u00e4uft,\n",
      "und sie jeweils auf eindeutigen und klaren Definitionen basieren.\n",
      "Jede Ausf\u00fchrung des Algorithmus basiert auf Eingabedaten,\n",
      "welche die jeweilige Instanz des zu l\u00f6senden Problems bestimmen.\n",
      "Nur auf Basis dieser Daten kann das Ergebnis berechnet werden.\n",
      "Abschlie\u00dfend sollte die Ausgabe des Ergebnisses wieder in einer f\u00fcr den Menschen lesbaren Form geschen (Textdatei, Grafik, ...)."
     ]
    },
    {
     "cell_type": "markdown",
     "metadata": {},
     "source": [
      "Eine **Programmiersprache** ist das Zwischenst\u00fcck,\n",
      "um einem Computer so einen Algorithmus beizubringen.\n",
      "Es handelt sich damit um das Kernelement,\n",
      "warum Computer \u00fcberhaupt f\u00fcr den Menschen nutzbar wurden\n",
      "und warum sie so eine hohe Flexibilit\u00e4t aufweisen.\n",
      "\n",
      "Mittels der Programmiersprache muss es m\u00f6glich sein,\n",
      "sowohl die Eingeabedaten als auch den Ablauf des Algorithmuses repr\u00e4sentieren zu k\u00f6nnen.\n",
      "Intern verarbeitet ein Computer ausschlie\u00dflich bin\u00e4r codierte Daten und Befehle,\n",
      "welche f\u00fcr den Menschen nicht aussagekr\u00e4ftig sind.\n",
      "Dies sind die sogenannten \"Bits\", welche `True`/`False` bzw. `1`/`0` Werte annehmen k\u00f6nnen.\n",
      "8er Gruppen von Bits sind Bytes und Gruppen von Bytes werden zum Repr\u00e4sentieren von Text, Zahlen und Rechenoperationen verwendet.\n",
      "\n",
      "Daher ist es wichtig zu verstehen,\n",
      "dass der Zweck einer Programmiersprache darin besteht,\n",
      "eine f\u00fcr den Menschen lesbare Form des Programmes anzugeben,\n",
      "welche dann in eine f\u00fcr die Maschine verst\u00e4ndliche Form \u00fcbersetzt oder interpretiert wird."
     ]
    },
    {
     "cell_type": "markdown",
     "metadata": {},
     "source": [
      "## Kontrollstrukturen und Funktionen\n",
      "\n",
      "Um den Ablauf des Algorithmus im Detail programmieren zu k\u00f6nnen,\n",
      "muss eine *imperative* Programmiersprache **Kontrollstrukturen** (engl. \"control structures\") bereitstellen.\n",
      "Der lineare Ablauf einer Liste von Befehlen wird dabei zu einem komplexeren Ablauf,\n",
      "welcher aus \n",
      "\n",
      "* bedingten Verzweigungen (Entscheidungen),\n",
      "* Wiederholungen (Schleifen, Iterationen, ...)\n",
      "* aufrufbaren Codebl\u00f6cken (Funktionen, Methoden)\n",
      "* und anderem (Coroutinen, Threads, ...), etc.\n",
      "\n",
      "besteht.\n",
      "\n",
      "Da sich w\u00e4hrend des gesamten Ablaufs Teilstrukturen wiederholen k\u00f6nnen,\n",
      "gibt es f\u00fcr *prozedurale* Programmiersprachen die M\u00f6glichkeit,\n",
      "den gesamten Code in kleinere Bl\u00f6cke zu separieren und nach Bedarf aufzurufen.\n",
      "Das wird \"**Funktion**\" genannt.\n",
      "\n",
      "Die Kunst besteht darin,\n",
      "diese Basiselemente geschickt zu kombinieren,\n",
      "damit das Programm f\u00fcr alle zul\u00e4ssigen Eingabewerte das richtige und gew\u00fcnschte Ergebnis ausgibt."
     ]
    },
    {
     "cell_type": "markdown",
     "metadata": {},
     "source": [
      "## Daten und Datenstrukturen\n",
      "\n",
      "Daten in einem Programm bestehen aus elementaren Basistypen und daraus zusammengestellten Datenstrukturen.\n",
      "\n",
      "In Python sind die wichtigsten Basistypen:\n",
      "\n",
      "* Wahrheitswert (bool): entweder `True` oder `False`.\n",
      "* Nichts: `None` ist der Wert, der f\u00fcr nichts/leer steht.\n",
      "* Integer (int/long): eine Ganzzahl beliebiger Gr\u00f6\u00dfe, z.B. `231425232`\n",
      "* Flie\u00dfkommazahl (float): eine beschr\u00e4nkte Flie\u00dfkommazahl, z.B. `3.1415`, mit Basis und Exponenten, also `3e9` steht f\u00fcr $3 \\times 10^9$.\n",
      "\n",
      "Dar\u00fcber hinaus gibt es auch noch komplexe Zahlen, z.B. `2+3j` (`j` ist die Wurzel aus -1)\n",
      "\n",
      "Eine gute Repr\u00e4sentation der Daten ist die zweite elementare Zutat f\u00fcr ein Programm.\n",
      "Im elementarsten bestehen Daten aus bin\u00e4ren Datenbl\u00f6cken,\n",
      "welche durch eine Namensgebung f\u00fcr den Programmierer eine Bedeutung bekommen (Variablenwert und Variablenname).\n",
      "Diese Datenbl\u00f6cke k\u00f6nnen zu komplexeren Strukturen zusammengesetzt werden:\n",
      "\n",
      "* Listen: eine lineare, geordnete Struktur (Vektor)\n",
      "* Assoziative Listen: Jeder Eintrag erh\u00e4lt einen eindeutigen Namen, unter dem er abgerufen werden kann (surjektiv)\n",
      "* Verschachtelungen: ein Eintrag einer assoziativen Liste kann eine Liste sein, etc.\n",
      "* Mengen: jedes Element kommt nur einmal vor\n",
      "* ... und viele Spezialstrukturen: typisierte Vektoren, Matritzen; Graphen, B\u00e4ume; kreisf\u00f6rmige Strukturen, etc.\n",
      "\n",
      "Werden bestimmte Datenstrukturen immer wieder verwendet,\n",
      "so bietet die Programmiersprache Python sogenannte \"Klassen\" (engl. `class`) an,\n",
      "um diese Strukturen einen Namen zu geben und auf Abruf immer wieder verwenden zu k\u00f6nnen.\n",
      "Dies sind benannte Strukturen, welche neben den Daten auch darauf abstimmte Funktionen beinhalten k\u00f6nnen - diese Funktionen nennt man dann \"Methoden\".\n",
      "So eine benannte Datenstruktur ist dann ein **Datentyp**,\n",
      "welcher erlaubt komplexere Konzepte in einem f\u00fcr den Menschen verst\u00e4ndliche Art zu implementieren --\n",
      "wobei gleichzeitig die darunterliegende Bin\u00e4rstruktur f\u00fcr den Computer verst\u00e4ndlich bleibt."
     ]
    },
    {
     "cell_type": "markdown",
     "metadata": {},
     "source": [
      "### Beispiel: Datenstruktur eines Bruchs.\n",
      "\n",
      "Ein Bruch besteht aus einem Nenner und einem Z\u00e4hler,\n",
      "welche jeweils Ganzzahlen sein sollen.\n",
      "Ein Datentyp \"`Bruch`\" fasst nun diese beiden Ganzzahlen zusammen.\n",
      "Eine mit diesem Datentyp assoziierte Funktion \"`add`\" w\u00fcrde es erlauben,\n",
      "zwei Br\u00fcche korrekt miteinander zu addieren,\n",
      "indem `add` als Argument einen anderen Bruch erh\u00e4lt und die R\u00fcckgabe dieser Methode ein neuer `Bruch` -- eben die Summe -- ist."
     ]
    },
    {
     "cell_type": "markdown",
     "metadata": {},
     "source": [
      "## Links\n",
      "\n",
      "* [What Is Programming?](http://interactivepython.org/courselib/static/pythonds/Introduction/WhatIsProgramming.html)\n",
      "* [Wikipedia: Algorithm](http://en.wikipedia.org/wiki/Algorithm)\n",
      "* [Wikipedia: Computer Program](http://en.wikipedia.org/wiki/Computer_program)"
     ]
    }
   ],
   "metadata": {}
  }
 ]
}
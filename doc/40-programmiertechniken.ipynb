{
 "metadata": {
  "name": "",
  "signature": "sha256:ae8eb8d345213e3822a11f757371a95f1b3ed797bd67f47e47d9e293f88deb0a"
 },
 "nbformat": 3,
 "nbformat_minor": 0,
 "worksheets": [
  {
   "cells": [
    {
     "cell_type": "markdown",
     "metadata": {},
     "source": [
      "# Programmiertechniken\n",
      "\n",
      "Dieses Kapitel beschreibt diverse weiterf\u00fchrende Techniken:\n",
      "Dokumentation, eigenst\u00e4ndige Programme, Datenschnittstellen, Netzwerk- & Internetverbindungen, fortgeschrittene Programmierkonzepte, ...\n",
      "\n",
      "Die Sammlung all dieser Werkzeuge ist die Basis eines erfolgreichen Programmierers und Programmiererin."
     ]
    },
    {
     "cell_type": "code",
     "collapsed": false,
     "input": [],
     "language": "python",
     "metadata": {},
     "outputs": []
    }
   ],
   "metadata": {}
  }
 ]
}
{
 "metadata": {
  "name": "",
  "signature": "sha256:f8771b81803415f7f709e1a1280d40b74be1a2f8eb9967534558244dc59449c0"
 },
 "nbformat": 3,
 "nbformat_minor": 0,
 "worksheets": [
  {
   "cells": [
    {
     "cell_type": "markdown",
     "metadata": {},
     "source": [
      "# Diskrete Mathematik\n",
      "\n",
      "Python bietet diverse Funktionen, um grundlegende Konzepte aus der Kombinatorik umzusetzen.\n",
      "Zum Beispiel lassen sich alle Kombinationen von zwei oder mehr Mengen mittels der Funktion `product` bilden, oder geordnete Auswahlen aus einer Liste mit oder ohne zur\u00fccklegen treffen."
     ]
    },
    {
     "cell_type": "markdown",
     "metadata": {},
     "source": [
      "F\u00fcr die folgenden Beispiele definieren wir uns die folgenden zwei diskrete Mengen (eine Liste ist OK)"
     ]
    },
    {
     "cell_type": "code",
     "collapsed": false,
     "input": [
      "animals = [\"cat\", \"dog\", \"fish\"]\n",
      "owners = [\"susi\", \"tim\", \"franziska\", \"henry\"]"
     ],
     "language": "python",
     "metadata": {},
     "outputs": [],
     "prompt_number": 1
    },
    {
     "cell_type": "markdown",
     "metadata": {},
     "source": [
      "## Produktbildung\n",
      "\n",
      "Alle Kobinationen durchprobieren"
     ]
    },
    {
     "cell_type": "code",
     "collapsed": false,
     "input": [
      "from itertools import product\n",
      "for animal, owner in product(animals, owners):\n",
      "    print \"%-5s belongs to %-10s\" % (animal, owner)"
     ],
     "language": "python",
     "metadata": {},
     "outputs": [
      {
       "output_type": "stream",
       "stream": "stdout",
       "text": [
        "cat   belongs to susi      \n",
        "cat   belongs to tim       \n",
        "cat   belongs to franziska \n",
        "cat   belongs to henry     \n",
        "dog   belongs to susi      \n",
        "dog   belongs to tim       \n",
        "dog   belongs to franziska \n",
        "dog   belongs to henry     \n",
        "fish  belongs to susi      \n",
        "fish  belongs to tim       \n",
        "fish  belongs to franziska \n",
        "fish  belongs to henry     \n"
       ]
      }
     ],
     "prompt_number": 2
    },
    {
     "cell_type": "markdown",
     "metadata": {},
     "source": [
      "## Kombinationen aus einer Menge ziehen"
     ]
    },
    {
     "cell_type": "code",
     "collapsed": false,
     "input": [
      "# Ziehe 1 ...\n",
      "from itertools import combinations\n",
      "for owner1 in combinations(owners, 1):\n",
      "    print \"%-10s\" % (owner1)"
     ],
     "language": "python",
     "metadata": {},
     "outputs": [
      {
       "output_type": "stream",
       "stream": "stdout",
       "text": [
        "susi      \n",
        "tim       \n",
        "franziska \n",
        "henry     \n"
       ]
      }
     ],
     "prompt_number": 3
    },
    {
     "cell_type": "code",
     "collapsed": false,
     "input": [
      "# ... ziehe 2 ...\n",
      "from itertools import combinations\n",
      "for owner1, owner2 in combinations(owners, 2):\n",
      "    print \"%-10s %-10s\" % (owner1, owner2)"
     ],
     "language": "python",
     "metadata": {},
     "outputs": [
      {
       "output_type": "stream",
       "stream": "stdout",
       "text": [
        "susi       tim       \n",
        "susi       franziska \n",
        "susi       henry     \n",
        "tim        franziska \n",
        "tim        henry     \n",
        "franziska  henry     \n"
       ]
      }
     ],
     "prompt_number": 4
    },
    {
     "cell_type": "code",
     "collapsed": false,
     "input": [
      "# ... oder 3 ....\n",
      "from itertools import combinations\n",
      "for owner1, owner2, owner3 in combinations(owners, 3):\n",
      "    print \"%-10s %-10s %-10s\" % (owner1, owner2, owner3)"
     ],
     "language": "python",
     "metadata": {},
     "outputs": [
      {
       "output_type": "stream",
       "stream": "stdout",
       "text": [
        "susi       tim        franziska \n",
        "susi       tim        henry     \n",
        "susi       franziska  henry     \n",
        "tim        franziska  henry     \n"
       ]
      }
     ],
     "prompt_number": 5
    },
    {
     "cell_type": "code",
     "collapsed": false,
     "input": [
      "# ... oder gar 4!\n",
      "from itertools import combinations\n",
      "for owner1, owner2, owner3, owner4 in combinations(owners, 4):\n",
      "    print \"%-10s %-10s %-10s %-10s\" % (owner1, owner2, owner3, owner4)"
     ],
     "language": "python",
     "metadata": {},
     "outputs": [
      {
       "output_type": "stream",
       "stream": "stdout",
       "text": [
        "susi       tim        franziska  henry     \n"
       ]
      }
     ],
     "prompt_number": 6
    },
    {
     "cell_type": "markdown",
     "metadata": {},
     "source": [
      "## Kombinationen mit Zur\u00fccklegen"
     ]
    },
    {
     "cell_type": "code",
     "collapsed": false,
     "input": [
      "from itertools import combinations_with_replacement\n",
      "for owner1, owner2 in combinations_with_replacement(owners, 2):\n",
      "    print \"%-10s %-10s\" % (owner1, owner2)"
     ],
     "language": "python",
     "metadata": {},
     "outputs": [
      {
       "output_type": "stream",
       "stream": "stdout",
       "text": [
        "susi       susi      \n",
        "susi       tim       \n",
        "susi       franziska \n",
        "susi       henry     \n",
        "tim        tim       \n",
        "tim        franziska \n",
        "tim        henry     \n",
        "franziska  franziska \n",
        "franziska  henry     \n",
        "henry      henry     \n"
       ]
      }
     ],
     "prompt_number": 7
    },
    {
     "cell_type": "markdown",
     "metadata": {},
     "source": [
      "## Permutationen"
     ]
    },
    {
     "cell_type": "code",
     "collapsed": false,
     "input": [
      "from itertools import permutations\n",
      "for owner1, owner2 in permutations(owners, 2):\n",
      "    print \"%-10s %-10s\" % (owner1, owner2)"
     ],
     "language": "python",
     "metadata": {},
     "outputs": [
      {
       "output_type": "stream",
       "stream": "stdout",
       "text": [
        "susi       tim       \n",
        "susi       franziska \n",
        "susi       henry     \n",
        "tim        susi      \n",
        "tim        franziska \n",
        "tim        henry     \n",
        "franziska  susi      \n",
        "franziska  tim       \n",
        "franziska  henry     \n",
        "henry      susi      \n",
        "henry      tim       \n",
        "henry      franziska \n"
       ]
      }
     ],
     "prompt_number": 8
    },
    {
     "cell_type": "code",
     "collapsed": false,
     "input": [
      "from itertools import permutations\n",
      "for owner1, owner2, owner3 in permutations(owners, 3):\n",
      "    print \"%-10s %-10s %-10s\" % (owner1, owner2, owner3)"
     ],
     "language": "python",
     "metadata": {},
     "outputs": [
      {
       "output_type": "stream",
       "stream": "stdout",
       "text": [
        "susi       tim        franziska \n",
        "susi       tim        henry     \n",
        "susi       franziska  tim       \n",
        "susi       franziska  henry     \n",
        "susi       henry      tim       \n",
        "susi       henry      franziska \n",
        "tim        susi       franziska \n",
        "tim        susi       henry     \n",
        "tim        franziska  susi      \n",
        "tim        franziska  henry     \n",
        "tim        henry      susi      \n",
        "tim        henry      franziska \n",
        "franziska  susi       tim       \n",
        "franziska  susi       henry     \n",
        "franziska  tim        susi      \n",
        "franziska  tim        henry     \n",
        "franziska  henry      susi      \n",
        "franziska  henry      tim       \n",
        "henry      susi       tim       \n",
        "henry      susi       franziska \n",
        "henry      tim        susi      \n",
        "henry      tim        franziska \n",
        "henry      franziska  susi      \n",
        "henry      franziska  tim       \n"
       ]
      }
     ],
     "prompt_number": 9
    },
    {
     "cell_type": "markdown",
     "metadata": {},
     "source": [
      "## Graphen\n",
      "\n",
      "[NetworkX](https://networkx.github.io/) ist eine der am weitesten verbreiteten Bibliotheken f\u00fcr Graphentheorie\n",
      "mit einer [Menge von Algorithmen](http://networkx.github.io/documentation/latest/reference/algorithms.html)."
     ]
    },
    {
     "cell_type": "code",
     "collapsed": false,
     "input": [
      "import networkx as nx\n",
      "%matplotlib inline\n",
      "nx.__version__"
     ],
     "language": "python",
     "metadata": {},
     "outputs": [
      {
       "metadata": {},
       "output_type": "pyout",
       "prompt_number": 11,
       "text": [
        "'1.9.1'"
       ]
      }
     ],
     "prompt_number": 11
    },
    {
     "cell_type": "code",
     "collapsed": false,
     "input": [
      "g1 = nx.Graph()\n",
      "\n",
      "g1.add_node(\"Wien\")\n",
      "g1.add_node(\"Graz\")\n",
      "g1.add_node(\"Linz\")\n",
      "g1.add_node(\"Salzburg\")\n",
      "g1.add_node(\"Innsbruck\")\n",
      "\n",
      "g1.add_edge(\"Graz\", \"Salzburg\")\n",
      "g1.add_edge(\"Wien\", \"Salzburg\")\n",
      "g1.add_path([\"Wien\", \"Graz\", \"Linz\", \"Salzburg\", \"Innsbruck\"])"
     ],
     "language": "python",
     "metadata": {},
     "outputs": [],
     "prompt_number": 12
    },
    {
     "cell_type": "code",
     "collapsed": false,
     "input": [
      "pos = nx.spring_layout(g1)\n",
      "nx.draw_networkx_labels(g1, pos, font_size = 20)\n",
      "nx.draw(g1, pos)"
     ],
     "language": "python",
     "metadata": {},
     "outputs": [
      {
       "metadata": {},
       "output_type": "display_data",
       "png": "[encoded data removed]",
       "text": [
        "<matplotlib.figure.Figure at 0x28c72d0>"
       ]
      }
     ],
     "prompt_number": 13
    },
    {
     "cell_type": "code",
     "collapsed": false,
     "input": [
      "nx.diameter(g1)"
     ],
     "language": "python",
     "metadata": {},
     "outputs": [
      {
       "metadata": {},
       "output_type": "pyout",
       "prompt_number": 14,
       "text": [
        "2"
       ]
      }
     ],
     "prompt_number": 14
    },
    {
     "cell_type": "code",
     "collapsed": false,
     "input": [
      "nx.eccentricity(g1)"
     ],
     "language": "python",
     "metadata": {},
     "outputs": [
      {
       "metadata": {},
       "output_type": "pyout",
       "prompt_number": 15,
       "text": [
        "{'Graz': 2, 'Innsbruck': 2, 'Linz': 2, 'Salzburg': 1, 'Wien': 2}"
       ]
      }
     ],
     "prompt_number": 15
    },
    {
     "cell_type": "code",
     "collapsed": false,
     "input": [
      "g2=nx.dodecahedral_graph()\n",
      "g2.remove_node(10)\n",
      "nx.draw(g2)"
     ],
     "language": "python",
     "metadata": {},
     "outputs": [
      {
       "metadata": {},
       "output_type": "display_data",
       "png": "[encoded data removed]",
       "text": [
        "<matplotlib.figure.Figure at 0x45af690>"
       ]
      }
     ],
     "prompt_number": 16
    },
    {
     "cell_type": "code",
     "collapsed": false,
     "input": [
      "nx.diameter(g2)"
     ],
     "language": "python",
     "metadata": {},
     "outputs": [
      {
       "metadata": {},
       "output_type": "pyout",
       "prompt_number": 17,
       "text": [
        "5"
       ]
      }
     ],
     "prompt_number": 17
    },
    {
     "cell_type": "code",
     "collapsed": false,
     "input": [
      "nx.density(g1), nx.density(g2)"
     ],
     "language": "python",
     "metadata": {},
     "outputs": [
      {
       "metadata": {},
       "output_type": "pyout",
       "prompt_number": 18,
       "text": [
        "(0.6, 0.15789473684210525)"
       ]
      }
     ],
     "prompt_number": 18
    },
    {
     "cell_type": "code",
     "collapsed": false,
     "input": [],
     "language": "python",
     "metadata": {},
     "outputs": []
    }
   ],
   "metadata": {}
  }
 ]
}
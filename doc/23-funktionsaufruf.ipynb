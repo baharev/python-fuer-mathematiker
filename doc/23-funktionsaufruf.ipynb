{
 "metadata": {
  "name": "",
  "signature": "sha256:6fcdd9d05c2ac97426ace68058f8799a022f51cf28f37649fa4f6f294e7dfc97"
 },
 "nbformat": 3,
 "nbformat_minor": 0,
 "worksheets": [
  {
   "cells": [
    {
     "cell_type": "markdown",
     "metadata": {},
     "source": [
      "# Konzept 3: Funktionsaufruf\n",
      "\n",
      "Kann das `Objekt`, auf das eine Variable verweist, aufgerufen werden (engl. \"callable\"),\n",
      "so kennzeichnen die daran anschlie\u00dfenden geschwungenen Klammern \"`( ... )`\",\n",
      "dass so ein Funktionsaufruf passieren soll.\n",
      "In den Klammern sind die sogenannten \"Argumente\" dieser Funktion,\n",
      "welche f\u00fcr die Auswertung \u00fcbergeben werden.\n",
      "Zur\u00fcckgegeben wird das Ergebnis, welches f\u00fcr weitere Berechnungen verwendet werden kann."
     ]
    },
    {
     "cell_type": "markdown",
     "metadata": {},
     "source": [
      "Definiert werden Funktionen \u00fcbrigens mittels \"`def name(argumente...)`\" und \"`return ...`\" gibt an, was zur\u00fcckgegeben wird:"
     ]
    },
    {
     "cell_type": "code",
     "collapsed": false,
     "input": [
      "def meine_funktion(x, b):\n",
      "    y = x + b\n",
      "    z = 2*y + x\n",
      "    return z * y"
     ],
     "language": "python",
     "metadata": {},
     "outputs": [],
     "prompt_number": 1
    },
    {
     "cell_type": "markdown",
     "metadata": {},
     "source": [
      "Die Variable `meine_funktion` beinhaltet das Funktionsobjekt, obwi die Hexadezimalzahl die (wenig informative) Speichadresse ist:"
     ]
    },
    {
     "cell_type": "code",
     "collapsed": false,
     "input": [
      "print(meine_funktion)"
     ],
     "language": "python",
     "metadata": {},
     "outputs": [
      {
       "output_type": "stream",
       "stream": "stdout",
       "text": [
        "<function meine_funktion at 0x253ec80>\n"
       ]
      }
     ],
     "prompt_number": 2
    },
    {
     "cell_type": "markdown",
     "metadata": {},
     "source": [
      "Aufruf diese \"callable\" Funktion mittels Argumenten in runder Klammer:"
     ]
    },
    {
     "cell_type": "code",
     "collapsed": false,
     "input": [
      "meine_funktion(4.4, 11)"
     ],
     "language": "python",
     "metadata": {},
     "outputs": [
      {
       "metadata": {},
       "output_type": "pyout",
       "prompt_number": 3,
       "text": [
        "542.08"
       ]
      }
     ],
     "prompt_number": 3
    },
    {
     "cell_type": "code",
     "collapsed": false,
     "input": [
      "meine_funktion(-1, 2)"
     ],
     "language": "python",
     "metadata": {},
     "outputs": [
      {
       "metadata": {},
       "output_type": "pyout",
       "prompt_number": 4,
       "text": [
        "1"
       ]
      }
     ],
     "prompt_number": 4
    },
    {
     "cell_type": "markdown",
     "metadata": {},
     "source": [
      "**Zwischenbemerkung:** es gibt neben diesen Funktionen auch andere Objekte, welche wie Funktionen aufgerufen werden k\u00f6nnen.\n",
      "Der \u00dcberbegriff all dieser Objekte ist \"aufrufbar\" (engl. \"callable\"), und eine Funktion ist ein prominenter Vertreter. Sp\u00e4ter mehr ;-)"
     ]
    },
    {
     "cell_type": "markdown",
     "metadata": {},
     "source": [
      "## Aufrufsyntax (call syntax)\n",
      "\n",
      "Im Detail gibt es verschiedene Arten wie Funktionen -- also diese aufrufbaren Objekte -- aufgerufen werden k\u00f6nnen.\n",
      "Dabei unterscheidet man \n",
      "\n",
      "* positionsabh\u00e4ngige Argumente: die \u00dcbergabe an die Funktion erfolgt anhand der Position, und\n",
      "* Schl\u00fcsselwortargumente: die Variablen in der Funktionsdefinition werden explizite Werte \u00fcbergeben.\n",
      "\n",
      "Des weiteren gibt es optional Argumente, die einen Standardwert vorgegeben bekommen (engl. \"default value\").\n",
      "Dieser wird dann \u00fcbernommen, wenn beim Aufruf dieses Argument nicht \u00fcbergeben wird.\n",
      "\n",
      "Im folgenden Beispiel wird eine Funktion mit den Argumenten \"x\", \"y\", \"name\" und \"color\" defininiert\n",
      "und anschlie\u00dfend auf unterschiedliche Arten aufgerufen."
     ]
    },
    {
     "cell_type": "code",
     "collapsed": false,
     "input": [
      "def func(x, y, name, color=\"red\"):\n",
      "    print \"%s is at position %d.%d with color %s\" % (name, x, y, color)"
     ],
     "language": "python",
     "metadata": {},
     "outputs": [],
     "prompt_number": 25
    },
    {
     "cell_type": "code",
     "collapsed": false,
     "input": [
      "# 4-tes Argument ist die Farbe (position)\n",
      "func(9, 0, \"julia\", \"pink\")"
     ],
     "language": "python",
     "metadata": {},
     "outputs": [
      {
       "output_type": "stream",
       "stream": "stdout",
       "text": [
        "julia is at position 9.0 with color pink\n"
       ]
      }
     ],
     "prompt_number": 26
    },
    {
     "cell_type": "code",
     "collapsed": false,
     "input": [
      "# default color = red\n",
      "func(4, 5, \"joe\")"
     ],
     "language": "python",
     "metadata": {},
     "outputs": [
      {
       "output_type": "stream",
       "stream": "stdout",
       "text": [
        "joe is at position 4.5 with color red\n"
       ]
      }
     ],
     "prompt_number": 27
    },
    {
     "cell_type": "code",
     "collapsed": false,
     "input": [
      "func(1, 7, \"jane\", color=\"yellow\")"
     ],
     "language": "python",
     "metadata": {},
     "outputs": [
      {
       "output_type": "stream",
       "stream": "stdout",
       "text": [
        "jane is at position 1.7 with color yellow\n"
       ]
      }
     ],
     "prompt_number": 28
    },
    {
     "cell_type": "code",
     "collapsed": false,
     "input": [
      "# gemischte Reihenfolge\n",
      "func(y = 11, x = 3, color=\"grey\", name=\"jim\")"
     ],
     "language": "python",
     "metadata": {},
     "outputs": [
      {
       "output_type": "stream",
       "stream": "stdout",
       "text": [
        "jim is at position 3.11 with color grey\n"
       ]
      }
     ],
     "prompt_number": 29
    },
    {
     "cell_type": "markdown",
     "metadata": {},
     "source": [
      "## Indirekte Wert\u00fcbergabe\n",
      "\n",
      "Dar\u00fcber hinaus gibt es die M\u00f6glichkeit, die Argumente vorher in einer Liste oder Map abzuspeichern.\n",
      "Diese Objekte werden erst sp\u00e4ter im Kapitel \u00fcber Datenstrukturen behandelt,\n",
      "werden aber zur Vollst\u00e4ndigkeit hier erw\u00e4hnt.\n",
      "\n",
      "Je Zelle werden Variablen definiert, die die Werte f\u00fcr den Funktionsaufruf beinhalten.\n",
      "Dann gibt der Stern \"`*`\" bzw. Doppelstern \"`**`\" an,\n",
      "die Werte der jeweiligen Variablen als Argumente im Funktionsaufruf einzubauen."
     ]
    },
    {
     "cell_type": "code",
     "collapsed": false,
     "input": [
      "argumentliste = [5, 9, \"jack\"]\n",
      "func(*argumentliste)"
     ],
     "language": "python",
     "metadata": {},
     "outputs": [
      {
       "output_type": "stream",
       "stream": "stdout",
       "text": [
        "jack is at position 5.9 with color red\n"
       ]
      }
     ],
     "prompt_number": 30
    },
    {
     "cell_type": "code",
     "collapsed": false,
     "input": [
      "schluesselwoerter = {\"name\" : \"jenny\", \"color\" : \"black\" }\n",
      "func(9, 2, **schluesselwoerter)"
     ],
     "language": "python",
     "metadata": {},
     "outputs": [
      {
       "output_type": "stream",
       "stream": "stdout",
       "text": [
        "jenny is at position 9.2 with color black\n"
       ]
      }
     ],
     "prompt_number": 31
    },
    {
     "cell_type": "markdown",
     "metadata": {},
     "source": [
      "**ACHTUNG:** es muss alles eindeutig bleiben"
     ]
    },
    {
     "cell_type": "code",
     "collapsed": false,
     "input": [
      "func(*argumentliste, **schluesselwoerter)"
     ],
     "language": "python",
     "metadata": {},
     "outputs": [
      {
       "ename": "TypeError",
       "evalue": "func() got multiple values for keyword argument 'name'",
       "output_type": "pyerr",
       "traceback": [
        "\u001b[1;31m---------------------------------------------------------------------------\u001b[0m\n\u001b[1;31mTypeError\u001b[0m                                 Traceback (most recent call last)",
        "\u001b[1;32m<ipython-input-32-19535a24702b>\u001b[0m in \u001b[0;36m<module>\u001b[1;34m()\u001b[0m\n\u001b[1;32m----> 1\u001b[1;33m \u001b[0mfunc\u001b[0m\u001b[1;33m(\u001b[0m\u001b[1;33m*\u001b[0m\u001b[0margumentliste\u001b[0m\u001b[1;33m,\u001b[0m \u001b[1;33m**\u001b[0m\u001b[0mschluesselwoerter\u001b[0m\u001b[1;33m)\u001b[0m\u001b[1;33m\u001b[0m\u001b[0m\n\u001b[0m",
        "\u001b[1;31mTypeError\u001b[0m: func() got multiple values for keyword argument 'name'"
       ]
      }
     ],
     "prompt_number": 32
    },
    {
     "cell_type": "code",
     "collapsed": false,
     "input": [
      "# KORREKTUR: weglassen des letzten Arguments in der liste \"argumentliste\"\n",
      "func(*argumentliste[:-1], **schluesselwoerter)"
     ],
     "language": "python",
     "metadata": {},
     "outputs": [
      {
       "output_type": "stream",
       "stream": "stdout",
       "text": [
        "jenny is at position 5.9 with color black\n"
       ]
      }
     ],
     "prompt_number": 35
    },
    {
     "cell_type": "markdown",
     "metadata": {},
     "source": [
      "Diese Varianten des Funktionsaufrufs m\u00f6gen eventuell etwas verwirren,\n",
      "sind jedoch dann sehr n\u00fctzlich, wenn Argumente von Funktionen weitergereicht oder (leicht abgewandelt) wiederverwendet werden."
     ]
    }
   ],
   "metadata": {}
  }
 ]
}
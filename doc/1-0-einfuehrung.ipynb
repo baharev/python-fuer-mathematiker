{
 "metadata": {
  "name": "",
  "signature": "sha256:70d3915763b2d121d96e90dcad7cad0ee2ad03b26f5e64588dd759c4281968a7"
 },
 "nbformat": 3,
 "nbformat_minor": 0,
 "worksheets": [
  {
   "cells": [
    {
     "cell_type": "markdown",
     "metadata": {},
     "source": [
      "# Python Kurzeinf\u00fchrung\n",
      "\n",
      "[Python](http://www.python.org) ([Wikipedia](http://en.wikipedia.org/wiki/Python_%28programming_language%29))\n",
      "ist eine\n",
      "[multiparadigmatische](http://en.wikipedia.org/wiki/Programming_paradigm#Multi-paradigm)\n",
      "([imperativ](http://en.wikipedia.org/wiki/Imperative_programming),\n",
      "[prozedural](http://en.wikipedia.org/wiki/Procedural_programming),\n",
      "[funktional](http://en.wikipedia.org/wiki/Functional_programming),\n",
      "und\n",
      "[objektorientierte](http://en.wikipedia.org/wiki/Object-oriented_programming)) Programmiersprache.\n",
      "Sie wurde 1991 von [Guido van Rossum](http://en.wikipedia.org/wiki/Guido_van_Rossum) ver\u00f6ffentlicht\n",
      "und wurde von [ABC](http://en.wikipedia.org/wiki/ABC_%28programming_language%29),\n",
      "Java, Haskell und anderen Sprachen ma\u00dfgeblich beeinflusst.\n",
      "Seit bald 10 Jahren geh\u00f6rt sie zu den am weitesten verbreiteten und flexiblesten Programmiersprachen weltweit.\n",
      "Aus der Sicht der Mathematik ist die gro\u00dfe Sammlung and mathematischen, statistischen und wissenschaftlichen\n",
      "[Programmbibliotheken](http://en.wikipedia.org/wiki/Library_%28computing%29) hervorzuheben,\n",
      "und darauf aufbauende Tools wie [Sage](http://en.wikipedia.org/wiki/Sage_(mathematics_software)) erw\u00e4hnenswert.\n",
      "Au\u00dferdem ist Python eine exzellente Sprache zum funktionellen Kombinieren diverser Programme, Utilities und Systeme."
     ]
    },
    {
     "cell_type": "markdown",
     "metadata": {},
     "source": [
      "Der beste Weg Python kennen zu lernen ist ein Sprung ins kalte Wasser.\n",
      "Ein Programm zu programmieren folgt keinen kochrezeptartigen Regeln,\n",
      "sondern bedarf des kreativen Kombinierens von Konzepten, Regeln und Ideen.\n",
      "Daher ist kreatives Denken und ein Schatz an Erfahrungen wichtig --\n",
      "ganz \u00e4hnlich wie das F\u00fchren von Beweisen in der Mathematik.\n",
      "\n",
      "Die Funktionsweise der hier vorliegenden Worksheets ist die folgende:\n",
      "Die mit `In[]` gekennzeichneten Boxen sind die Eingabezellen.\n",
      "In ihnen stehen in oder mehrere Zeilen Code.\n",
      "Durch bet\u00e4tigen des <button class=\"btn\"><i class=\"icon-play\"></i></button> Buttons oder der <button class=\"btn\">Strg (Ctrl)</button>+<button class=\"btn\">Return</button> Tasten wird die aktive Zelle ausgef\u00fchrt.\n",
      "Die Ausgabe steht darunter und ist mit `Out[n]` gekennzeichnet.\n",
      "\n",
      "Die folgenden Beispiele zeigen anschauliche Beispiele,\n",
      "die einen ersten groben Umriss um die Funktionalit\u00e4t Python's liefert.\n",
      "Davon neugierig gemacht, werden in der Folge die darin vorkommenden Grundprinzipien erkl\u00e4rt."
     ]
    },
    {
     "cell_type": "markdown",
     "metadata": {
      "slideshow": {
       "slide_type": "slide"
      }
     },
     "source": [
      "Keine Scheu, kopiere einzelne Zellen in ein neues IPython Notebook und fange an zu experimentieren!"
     ]
    },
    {
     "cell_type": "markdown",
     "metadata": {},
     "source": [
      "## Einfache Rechenbeispiele"
     ]
    },
    {
     "cell_type": "code",
     "collapsed": false,
     "input": [
      "14 + 3 * (8 - 1)"
     ],
     "language": "python",
     "metadata": {},
     "outputs": [
      {
       "metadata": {},
       "output_type": "pyout",
       "prompt_number": 1,
       "text": [
        "35"
       ]
      }
     ],
     "prompt_number": 1
    },
    {
     "cell_type": "markdown",
     "metadata": {},
     "source": [
      "Achtung, potenziert wird mit `**`!"
     ]
    },
    {
     "cell_type": "code",
     "collapsed": false,
     "input": [
      "banane = 3**2 + 1\n",
      "print(banane)"
     ],
     "language": "python",
     "metadata": {},
     "outputs": [
      {
       "output_type": "stream",
       "stream": "stdout",
       "text": [
        "10\n"
       ]
      }
     ],
     "prompt_number": 2
    },
    {
     "cell_type": "markdown",
     "metadata": {},
     "source": [
      "F\u00fcr \"mathematisches\" Dividieren muss mindestens ein Argument eine Fli\u00dfekommazahl sein;\n",
      "Ganzzahldivisionen werden abgerundet!\n",
      "(Ausnahme: entweder es ist Python in Version 3 **oder** mittels `from __future__ import division` wurde das modernere Verhalten importiert)"
     ]
    },
    {
     "cell_type": "code",
     "collapsed": false,
     "input": [
      "(2.2 * 9.81) / 2"
     ],
     "language": "python",
     "metadata": {},
     "outputs": [
      {
       "metadata": {},
       "output_type": "pyout",
       "prompt_number": 3,
       "text": [
        "10.791000000000002"
       ]
      }
     ],
     "prompt_number": 3
    },
    {
     "cell_type": "markdown",
     "metadata": {},
     "source": [
      "Beide Zahlen sind Ganzzahlen."
     ]
    },
    {
     "cell_type": "code",
     "collapsed": false,
     "input": [
      "51 / 10"
     ],
     "language": "python",
     "metadata": {},
     "outputs": [
      {
       "metadata": {},
       "output_type": "pyout",
       "prompt_number": 4,
       "text": [
        "5"
       ]
      }
     ],
     "prompt_number": 4
    },
    {
     "cell_type": "markdown",
     "metadata": {},
     "source": [
      "Ist mindestens eine der beiden Zahlen eine Flie\u00dfkommazahl (sichtbar an dem kleinen `.` nach der `51`),\n",
      "so wird eine Flie\u00dfkommadivision durchgef\u00fchrt."
     ]
    },
    {
     "cell_type": "code",
     "collapsed": false,
     "input": [
      "51. / 10"
     ],
     "language": "python",
     "metadata": {},
     "outputs": [
      {
       "metadata": {},
       "output_type": "pyout",
       "prompt_number": 5,
       "text": [
        "5.1"
       ]
      }
     ],
     "prompt_number": 5
    },
    {
     "cell_type": "markdown",
     "metadata": {},
     "source": [
      "Aktivieren des alternativen Verhaltens f\u00fcr Divisionen."
     ]
    },
    {
     "cell_type": "code",
     "collapsed": false,
     "input": [
      "from __future__ import division\n",
      "51 / 10"
     ],
     "language": "python",
     "metadata": {},
     "outputs": [
      {
       "metadata": {},
       "output_type": "pyout",
       "prompt_number": 6,
       "text": [
        "5.1"
       ]
      }
     ],
     "prompt_number": 6
    },
    {
     "cell_type": "markdown",
     "metadata": {},
     "source": [
      "Das IPython Notebook merkt sich derweilen weiter oben definierte Variable `banane`,\n",
      "solange die \"Session\" aktiv ist.\n",
      "Kernel > Restart bzw. <button class=\"btn\"><i  class=\"icon-repeat\" /></button> starten die Session neu."
     ]
    },
    {
     "cell_type": "markdown",
     "metadata": {},
     "source": [
      "`print` kann in Python 2 als Statement verwendet werden,\n",
      "es geht aber auch die in Python 3 gebr\u00e4uchliche Variante als Funktion.\n",
      "Damit k\u00f6nnen jederzeit Zwischenergebnisse, die w\u00e4hrend des Ablaufs des Programmes passieren, ausgegeben werden.\n",
      "Ansonsten wird immer nur der Wert des letzten Ausdrucks ausgegeben."
     ]
    },
    {
     "cell_type": "code",
     "collapsed": false,
     "input": [
      "apfel = 8.41\n",
      "print(2 * banane + apfel)\n",
      "apfel = 9.81\n",
      "print(2 * banane + apfel)"
     ],
     "language": "python",
     "metadata": {},
     "outputs": [
      {
       "output_type": "stream",
       "stream": "stdout",
       "text": [
        "28.41\n",
        "29.81\n"
       ]
      }
     ],
     "prompt_number": 7
    },
    {
     "cell_type": "markdown",
     "metadata": {},
     "source": [
      "Br\u00fcche k\u00f6nnen mit `Fraction` angegeben werden"
     ]
    },
    {
     "cell_type": "code",
     "collapsed": false,
     "input": [
      "from fractions import Fraction\n",
      "a = Fraction(\"33/31003100\")\n",
      "b = Fraction(\"-9/100000100001\")\n",
      "a * b ** 4"
     ],
     "language": "python",
     "metadata": {},
     "outputs": [
      {
       "metadata": {},
       "output_type": "pyout",
       "prompt_number": 8,
       "text": [
        "Fraction(2673, 38275585202254501783218213917955539030103719395100)"
       ]
      }
     ],
     "prompt_number": 8
    },
    {
     "cell_type": "markdown",
     "metadata": {},
     "source": [
      "Liste von Zahlen von 0 bis 9. Es ist au\u00dferdem und ganz generell so, dass bei `0` zu z\u00e4hlen begonnen wird und Intervalle auf der linken Seite geschlossen und auf der rechten Seite offen sind."
     ]
    },
    {
     "cell_type": "code",
     "collapsed": false,
     "input": [
      "range(10)"
     ],
     "language": "python",
     "metadata": {},
     "outputs": [
      {
       "metadata": {},
       "output_type": "pyout",
       "prompt_number": 9,
       "text": [
        "[0, 1, 2, 3, 4, 5, 6, 7, 8, 9]"
       ]
      }
     ],
     "prompt_number": 9
    },
    {
     "cell_type": "markdown",
     "metadata": {},
     "source": [
      "Jede dritte Zahl in $-10 \\leq x \\leq 10$"
     ]
    },
    {
     "cell_type": "code",
     "collapsed": false,
     "input": [
      "range(-10, 10, 3)"
     ],
     "language": "python",
     "metadata": {},
     "outputs": [
      {
       "metadata": {},
       "output_type": "pyout",
       "prompt_number": 10,
       "text": [
        "[-10, -7, -4, -1, 2, 5, 8]"
       ]
      }
     ],
     "prompt_number": 10
    },
    {
     "cell_type": "markdown",
     "metadata": {},
     "source": [
      "Eine `for`-Schleife iteriert -- das hei\u00dft, sie wiederholt den darin vorhandenen Codeblock -- f\u00fcr alle angegebenen Werte:"
     ]
    },
    {
     "cell_type": "code",
     "collapsed": false,
     "input": [
      "for x in range(-10, 10, 4):\n",
      "    y = 3 * x + 1\n",
      "    print(\"x ist %3d und y ist %3d\" % (x, y))"
     ],
     "language": "python",
     "metadata": {},
     "outputs": [
      {
       "output_type": "stream",
       "stream": "stdout",
       "text": [
        "x ist -10 und y ist -29\n",
        "x ist  -6 und y ist -17\n",
        "x ist  -2 und y ist  -5\n",
        "x ist   2 und y ist   7\n",
        "x ist   6 und y ist  19\n"
       ]
      }
     ],
     "prompt_number": 11
    },
    {
     "cell_type": "markdown",
     "metadata": {},
     "source": [
      "`if`-Verzweigungen erlauben, Codebl\u00f6cke nur unter bestimmten Bedingungen auszuf\u00fchren.\n",
      "Das Wort `else` kann optional dazu verwendet werden, einen Codeblock bei nichterf\u00fcllung der Bedingung auszuf\u00fchren."
     ]
    },
    {
     "cell_type": "code",
     "collapsed": false,
     "input": [
      "k = -4\n",
      "if k >= 0:\n",
      "    print(\"k ist positiv\")\n",
      "else:\n",
      "    print(\"k ist negativ\")"
     ],
     "language": "python",
     "metadata": {},
     "outputs": [
      {
       "output_type": "stream",
       "stream": "stdout",
       "text": [
        "k ist negativ\n"
       ]
      }
     ],
     "prompt_number": 12
    },
    {
     "cell_type": "markdown",
     "metadata": {},
     "source": [
      "Eine `for`-Schleife mit einer darin enthaltenen `if`-Bedingung.\n",
      "Sie summiert alle Zahlen bis 100, die durch 3 und 7 teilbar sind, auf:"
     ]
    },
    {
     "cell_type": "code",
     "collapsed": false,
     "input": [
      "summe = 0\n",
      "for i in range(100):\n",
      "    if i % 3 == 0 and i % 7 == 0:\n",
      "        summe += i\n",
      "print(summe)"
     ],
     "language": "python",
     "metadata": {},
     "outputs": [
      {
       "output_type": "stream",
       "stream": "stdout",
       "text": [
        "210\n"
       ]
      }
     ],
     "prompt_number": 13
    },
    {
     "cell_type": "markdown",
     "metadata": {},
     "source": [
      "Das `import` Statement dient dazu, Funktionalit\u00e4ten aus diversen Programmbibliotheken zu importieren.\n",
      "\n",
      "Beispiel: Die Sinusfunktion `sin` aus der `math`-Bibliothek importieren und mit Standardgenauigkeit berechnen."
     ]
    },
    {
     "cell_type": "code",
     "collapsed": false,
     "input": [
      "from math import sin\n",
      "sin(3.1415926535)"
     ],
     "language": "python",
     "metadata": {},
     "outputs": [
      {
       "metadata": {},
       "output_type": "pyout",
       "prompt_number": 14,
       "text": [
        "8.979318433952318e-11"
       ]
      }
     ],
     "prompt_number": 14
    },
    {
     "cell_type": "markdown",
     "metadata": {},
     "source": [
      "Hier wird die `sin`-Funktion mit 100 Stellen Genauigkeit durch dessen Version in der `mpmath`-Bibliothek in Sympy berechnet.\n",
      "Beachte, dass `mpm` vorangestellt wird, um Vermischungen mit der schon importieren `sin` zu vermeiden."
     ]
    },
    {
     "cell_type": "code",
     "collapsed": false,
     "input": [
      "import sympy.mpmath as mpm\n",
      "mpm.mp.dps = 100\n",
      "\n",
      "mpm.sin(mpm.mpf(\"3.1415926535\"))"
     ],
     "language": "python",
     "metadata": {},
     "outputs": [
      {
       "metadata": {},
       "output_type": "pyout",
       "prompt_number": 15,
       "text": [
        "mpf('0.00000000008979323846264338327938221965910388125990692946182694867743526330407406677351504727435623041438215811254')"
       ]
      }
     ],
     "prompt_number": 15
    },
    {
     "cell_type": "markdown",
     "metadata": {},
     "source": [
      "## Symbolische Ausdr\u00fccke, Funktionen, Differenzieren\n",
      "\n",
      "Symbolische Ausdr\u00fccke k\u00f6nnen mit der Programmbibliothek `SymPy` erzeugt werden.\n",
      "Hierf\u00fcr importieren wir z.B. in einem ersten Schritt die Variable $x$ und den Operator $\\sin$,\n",
      "mit der die Ausdr\u00fccke aufgebaut werden."
     ]
    },
    {
     "cell_type": "code",
     "collapsed": false,
     "input": [
      "from sympy import latex, sin\n",
      "from sympy.abc import x"
     ],
     "language": "python",
     "metadata": {},
     "outputs": [],
     "prompt_number": 16
    },
    {
     "cell_type": "code",
     "collapsed": false,
     "input": [
      "f = 2 * x / (x - sin(x))\n",
      "print f\n",
      "f_prime = f.diff(x).simplify()\n",
      "print f_prime"
     ],
     "language": "python",
     "metadata": {},
     "outputs": [
      {
       "output_type": "stream",
       "stream": "stdout",
       "text": [
        "2*x/(x - sin(x))\n",
        "2*(x*cos(x) - sin(x))/(x - sin(x))**2"
       ]
      },
      {
       "output_type": "stream",
       "stream": "stdout",
       "text": [
        "\n"
       ]
      }
     ],
     "prompt_number": 17
    },
    {
     "cell_type": "markdown",
     "metadata": {},
     "source": [
      "## $\\LaTeX{}$-Formatierung mittels SymPy:"
     ]
    },
    {
     "cell_type": "code",
     "collapsed": false,
     "input": [
      "from IPython.display import Math"
     ],
     "language": "python",
     "metadata": {},
     "outputs": [],
     "prompt_number": 18
    },
    {
     "cell_type": "code",
     "collapsed": false,
     "input": [
      "Math(latex(f))"
     ],
     "language": "python",
     "metadata": {},
     "outputs": [
      {
       "latex": [
        "$$\\frac{2 x}{x - \\sin{\\left (x \\right )}}$$"
       ],
       "metadata": {},
       "output_type": "pyout",
       "prompt_number": 19,
       "text": [
        "<IPython.core.display.Math at 0x7f4979315a50>"
       ]
      }
     ],
     "prompt_number": 19
    },
    {
     "cell_type": "code",
     "collapsed": false,
     "input": [
      "Math(latex(f_prime))"
     ],
     "language": "python",
     "metadata": {},
     "outputs": [
      {
       "latex": [
        "$$\\frac{2 x \\cos{\\left (x \\right )} - 2 \\sin{\\left (x \\right )}}{\\left(x - \\sin{\\left (x \\right )}\\right)^{2}}$$"
       ],
       "metadata": {},
       "output_type": "pyout",
       "prompt_number": 20,
       "text": [
        "<IPython.core.display.Math at 0x7f4979315a10>"
       ]
      }
     ],
     "prompt_number": 20
    },
    {
     "cell_type": "markdown",
     "metadata": {},
     "source": [
      "## Listen und Listenverarbeitung"
     ]
    },
    {
     "cell_type": "markdown",
     "metadata": {},
     "source": [
      "Eine \"Liste\" ist eine geordnete Sammlung von Objekten.\n",
      "Sie ist so ziemlich die zentralste *Datenstruktur* \u00fcberhaupt."
     ]
    },
    {
     "cell_type": "code",
     "collapsed": false,
     "input": [
      "l1 = [\"Haus\", 99]\n",
      "l1"
     ],
     "language": "python",
     "metadata": {},
     "outputs": [
      {
       "metadata": {},
       "output_type": "pyout",
       "prompt_number": 21,
       "text": [
        "['Haus', 99]"
       ]
      }
     ],
     "prompt_number": 21
    },
    {
     "cell_type": "code",
     "collapsed": false,
     "input": [
      "l2 = [\"a\", 0, \"x\"]\n",
      "l2"
     ],
     "language": "python",
     "metadata": {},
     "outputs": [
      {
       "metadata": {},
       "output_type": "pyout",
       "prompt_number": 22,
       "text": [
        "['a', 0, 'x']"
       ]
      }
     ],
     "prompt_number": 22
    },
    {
     "cell_type": "code",
     "collapsed": false,
     "input": [
      "l1 + l2"
     ],
     "language": "python",
     "metadata": {},
     "outputs": [
      {
       "metadata": {},
       "output_type": "pyout",
       "prompt_number": 23,
       "text": [
        "['Haus', 99, 'a', 0, 'x']"
       ]
      }
     ],
     "prompt_number": 23
    },
    {
     "cell_type": "markdown",
     "metadata": {},
     "source": [
      "Verarbeiten von Listen mittels `[ <ausdruck> for <variable> in <liste> ]` (genannt \"list-comprehension\")"
     ]
    },
    {
     "cell_type": "code",
     "collapsed": false,
     "input": [
      "ll = [2., 2.5, 3., 5., 8.1, 10., 22.]\n",
      "k1 = [2*i-2 for i in ll]\n",
      "k1"
     ],
     "language": "python",
     "metadata": {},
     "outputs": [
      {
       "metadata": {},
       "output_type": "pyout",
       "prompt_number": 24,
       "text": [
        "[2.0, 3.0, 4.0, 8.0, 14.2, 18.0, 42.0]"
       ]
      }
     ],
     "prompt_number": 24
    },
    {
     "cell_type": "markdown",
     "metadata": {},
     "source": [
      "Zugriff auf Elemente in einer Liste -- achtung, wie schon erw\u00e4hnt wird ab `0` indiziert."
     ]
    },
    {
     "cell_type": "code",
     "collapsed": false,
     "input": [
      "p = [\"P\", \"y\", \"t\", \"h\", \"o\", \"n\"]\n",
      "p[3]"
     ],
     "language": "python",
     "metadata": {},
     "outputs": [
      {
       "metadata": {},
       "output_type": "pyout",
       "prompt_number": 25,
       "text": [
        "'h'"
       ]
      }
     ],
     "prompt_number": 25
    },
    {
     "cell_type": "code",
     "collapsed": false,
     "input": [
      "p[-2]  # das zweit-letzte Element"
     ],
     "language": "python",
     "metadata": {},
     "outputs": [
      {
       "metadata": {},
       "output_type": "pyout",
       "prompt_number": 26,
       "text": [
        "'o'"
       ]
      }
     ],
     "prompt_number": 26
    },
    {
     "cell_type": "markdown",
     "metadata": {},
     "source": [
      "## Grafische Darstellungen\n",
      "\n",
      "Dies geschieht mittels der `matplotlib`-Bibliothek. Sie muss zur Ausgabe von Grafiken aktiviert werden:"
     ]
    },
    {
     "cell_type": "code",
     "collapsed": false,
     "input": [
      "%matplotlib inline\n",
      "import matplotlib.pyplot as plt\n",
      "plt.rcParams[\"figure.figsize\"] = (10,6)"
     ],
     "language": "python",
     "metadata": {},
     "outputs": [],
     "prompt_number": 27
    },
    {
     "cell_type": "markdown",
     "metadata": {},
     "source": [
      "### Plotten paarweiser Punkte\n",
      "\n",
      "`xx` und `yy` beinhalten jeweils die x- und y-Koordinaten."
     ]
    },
    {
     "cell_type": "code",
     "collapsed": false,
     "input": [
      "xx = [20, 15,  11, 7.57, 9.6, 13,  21,  24, 28, 23, 20]\n",
      "yy = [3, 2.5, 2.3, 2.66,  3, 3.1, 2.3, 2.5, 2.8, 3,  3]\n",
      "\n",
      "plt.plot(xx, yy, \"o-\")\n",
      "plt.xlim(5, 30)\n",
      "plt.ylim(2, 3.3)"
     ],
     "language": "python",
     "metadata": {},
     "outputs": [
      {
       "metadata": {},
       "output_type": "pyout",
       "prompt_number": 28,
       "text": [
        "(2, 3.3)"
       ]
      },
      {
       "metadata": {},
       "output_type": "display_data",
       "png": "[encoded data removed]",
       "text": [
        "<matplotlib.figure.Figure at 0x7f4979222210>"
       ]
      }
     ],
     "prompt_number": 28
    },
    {
     "cell_type": "markdown",
     "metadata": {},
     "source": [
      "### Funktionen und deren Graph"
     ]
    },
    {
     "cell_type": "markdown",
     "metadata": {},
     "source": [
      "Definieren von Python-Funktionen und zeichnen ihres Graphen:"
     ]
    },
    {
     "cell_type": "code",
     "collapsed": false,
     "input": [
      "def sin_square(x):\n",
      "    from math import sin\n",
      "    s = sin(x)\n",
      "    return s * x ** 2"
     ],
     "language": "python",
     "metadata": {},
     "outputs": [],
     "prompt_number": 29
    },
    {
     "cell_type": "code",
     "collapsed": false,
     "input": [
      "sin_square(-1.1), sin_square(2), sin_square(10)"
     ],
     "language": "python",
     "metadata": {},
     "outputs": [
      {
       "metadata": {},
       "output_type": "pyout",
       "prompt_number": 30,
       "text": [
        "(-1.078360905674337, 3.637189707302727, -54.40211108893698)"
       ]
      }
     ],
     "prompt_number": 30
    },
    {
     "cell_type": "code",
     "collapsed": false,
     "input": [
      "xx = [i/10. for i in range(-10, 150)]\n",
      "yy = [sin_square(x) for x in xx]\n",
      "\n",
      "plt.plot(xx, yy)"
     ],
     "language": "python",
     "metadata": {},
     "outputs": [
      {
       "metadata": {},
       "output_type": "pyout",
       "prompt_number": 31,
       "text": [
        "[<matplotlib.lines.Line2D at 0x7f49792112d0>]"
       ]
      },
      {
       "metadata": {},
       "output_type": "display_data",
       "png": "[encoded data removed]",
       "text": [
        "<matplotlib.figure.Figure at 0x7f497911e2d0>"
       ]
      }
     ],
     "prompt_number": 31
    },
    {
     "cell_type": "markdown",
     "metadata": {},
     "source": [
      "### Interaktive Funktionen\n",
      "\n",
      "`@interact` f\u00fchrt eine Funktion mit interaktiven Argumenten (`a` und `b`) aus."
     ]
    },
    {
     "cell_type": "code",
     "collapsed": false,
     "input": [
      "from IPython.html.widgets import interact\n",
      "import numpy as np\n",
      "\n",
      "@interact(a = (0, 20, .1), b = (0, 3, .1))\n",
      "def damped_oscillation(a = 10, b = .5):\n",
      "    xx = np.linspace(0, 10, 1000)\n",
      "    yy = a * np.exp(-b * xx) * np.cos(a * xx) / a\n",
      "    plt.ylim(-1, 1)\n",
      "    plt.plot(xx, yy)"
     ],
     "language": "python",
     "metadata": {},
     "outputs": [
      {
       "metadata": {},
       "output_type": "display_data",
       "png": "[encoded data removed]",
       "text": [
        "<matplotlib.figure.Figure at 0x7f497905af50>"
       ]
      }
     ],
     "prompt_number": 32
    },
    {
     "cell_type": "markdown",
     "metadata": {},
     "source": [
      "### Parametrischer Plot"
     ]
    },
    {
     "cell_type": "markdown",
     "metadata": {},
     "source": [
      "$$f(\\phi) := \n",
      "\\begin{pmatrix}\n",
      "a & b \\\\ c & d\n",
      "\\end{pmatrix}\n",
      "\\cdot \\log(1+\\phi)\n",
      "\\begin{pmatrix}\n",
      "\\sin(\\phi) \\\\ \\cos(\\phi)\n",
      "\\end{pmatrix}\n",
      "\\qquad \\phi \\in [0,\\,8 \\pi]$$"
     ]
    },
    {
     "cell_type": "code",
     "collapsed": false,
     "input": [
      "from IPython.html.widgets import interact\n",
      "import numpy as np\n",
      "\n",
      "@interact(a=(-2, 2, .1), b =(-2, 2, .1), c=(-2, 2, .1), d=(-2, 2, .1))\n",
      "def elliptic_plot(a = 1., b = 0, c = 0, d = -1):\n",
      "    phi = np.linspace(0, 8 * np.pi, 1000)\n",
      "    m = np.array([[a, b],\n",
      "                  [c, d]])\n",
      "    v = np.c_[np.sin(phi), \n",
      "              np.cos(phi)].T\n",
      "    r = np.log1p(phi)\n",
      "    \n",
      "    xx, yy = m.dot(r * v)\n",
      "    \n",
      "    plt.plot(xx, yy)\n",
      "    plt.grid()\n",
      "    plt.ylim(-4, 4)\n",
      "    plt.xlim(-4, 4)"
     ],
     "language": "python",
     "metadata": {},
     "outputs": [
      {
       "metadata": {},
       "output_type": "display_data",
       "png": "[encoded data removed]",
       "text": [
        "<matplotlib.figure.Figure at 0x7f49790bb390>"
       ]
      }
     ],
     "prompt_number": 33
    },
    {
     "cell_type": "markdown",
     "metadata": {},
     "source": [
      "### Histogram"
     ]
    },
    {
     "cell_type": "code",
     "collapsed": false,
     "input": [
      "data1 = np.r_[4 * np.random.randn(1000) - 3,\n",
      "              np.linspace(3, 6, 1000)**2 + np.random.randn(1000)]\n",
      "_ = plt.hist(data1, 25, color=\"grey\")"
     ],
     "language": "python",
     "metadata": {},
     "outputs": [
      {
       "metadata": {},
       "output_type": "display_data",
       "png": "[encoded data removed]",
       "text": [
        "<matplotlib.figure.Figure at 0x7f49790b14d0>"
       ]
      }
     ],
     "prompt_number": 34
    },
    {
     "cell_type": "code",
     "collapsed": false,
     "input": [
      "data2 = np.sin(np.linspace(0, 7, 2000)) * (.1 + .5 * np.random.rand(2000))\n",
      "plt.hist2d(data1, data2, bins=30, cmap=plt.cm.bone_r)\n",
      "plt.grid()\n",
      "plt.colorbar()"
     ],
     "language": "python",
     "metadata": {},
     "outputs": [
      {
       "metadata": {},
       "output_type": "pyout",
       "prompt_number": 35,
       "text": [
        "<matplotlib.colorbar.Colorbar instance at 0x7f4978e64d40>"
       ]
      },
      {
       "metadata": {},
       "output_type": "display_data",
       "png": "[encoded data removed]",
       "text": [
        "<matplotlib.figure.Figure at 0x7f49790b1b50>"
       ]
      }
     ],
     "prompt_number": 35
    }
   ],
   "metadata": {}
  }
 ]
}
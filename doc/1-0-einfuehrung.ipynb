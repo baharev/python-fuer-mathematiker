{
 "metadata": {
  "name": "",
  "signature": "sha256:69876e5b1fdfd30957a013c78b2894bf5ccf15177d629141d57519a91ba545fd"
 },
 "nbformat": 3,
 "nbformat_minor": 0,
 "worksheets": [
  {
   "cells": [
    {
     "cell_type": "markdown",
     "metadata": {},
     "source": [
      "# Python Kurzeinf\u00fchrung\n",
      "\n",
      "[Python](http://www.python.org) ([Wikipedia](http://en.wikipedia.org/wiki/Python_%28programming_language%29))\n",
      "ist eine\n",
      "[multiparadigmatische](http://en.wikipedia.org/wiki/Programming_paradigm#Multi-paradigm)\n",
      "([imperativ](http://en.wikipedia.org/wiki/Imperative_programming),\n",
      "[prozedural](http://en.wikipedia.org/wiki/Procedural_programming),\n",
      "[funktional](http://en.wikipedia.org/wiki/Functional_programming),\n",
      "und\n",
      "[objektorientierte](http://en.wikipedia.org/wiki/Object-oriented_programming)) Programmiersprache.\n",
      "Sie wurde 1991 von [Guido van Rossum](http://en.wikipedia.org/wiki/Guido_van_Rossum) ver\u00f6ffentlicht\n",
      "und wurde von [ABC](http://en.wikipedia.org/wiki/ABC_%28programming_language%29),\n",
      "Java, Haskell und anderen Sprachen ma\u00dfgeblich beeinflusst.\n",
      "Seit bald 10 Jahren geh\u00f6rt sie zu den am weitesten verbreiteten und flexiblesten Programmiersprachen weltweit.\n",
      "Aus der Sicht der Mathematik ist die gro\u00dfe Sammlung and mathematischen, statistischen und wissenschaftlichen\n",
      "[Programmbibliotheken](http://en.wikipedia.org/wiki/Library_%28computing%29) hervorzuheben,\n",
      "und darauf aufbauende Tools wie [Sage](http://en.wikipedia.org/wiki/Sage_(mathematics_software))."
     ]
    },
    {
     "cell_type": "markdown",
     "metadata": {},
     "source": [
      "Der beste Weg Python kennen zu lernen ist ein Sprung ins kalte Wasser.\n",
      "Die folgenden Beispiele zeigen anschauliche Beispiele,\n",
      "die einen ersten groben Umriss um die Funktionalit\u00e4t Python's liefert.\n",
      "Davon neugierig gemacht, werden in der Folge die darin versteckten Grundprinzipien erkl\u00e4rt."
     ]
    },
    {
     "cell_type": "markdown",
     "metadata": {
      "slideshow": {
       "slide_type": "slide"
      }
     },
     "source": [
      "Keine Scheu, kopiere einzelne Zellen in ein neues IPython Notebook und fange an zu experimentieren!"
     ]
    },
    {
     "cell_type": "code",
     "collapsed": false,
     "input": [
      "14 + 3 * (8 - 1)"
     ],
     "language": "python",
     "metadata": {},
     "outputs": [
      {
       "metadata": {},
       "output_type": "pyout",
       "prompt_number": 1,
       "text": [
        "35"
       ]
      }
     ],
     "prompt_number": 1
    },
    {
     "cell_type": "markdown",
     "metadata": {},
     "source": [
      "Potenzieren mit `**`"
     ]
    },
    {
     "cell_type": "code",
     "collapsed": false,
     "input": [
      "banane = 3**2 + 1\n",
      "print(banane)"
     ],
     "language": "python",
     "metadata": {},
     "outputs": [
      {
       "output_type": "stream",
       "stream": "stdout",
       "text": [
        "10\n"
       ]
      }
     ],
     "prompt_number": 2
    },
    {
     "cell_type": "markdown",
     "metadata": {},
     "source": [
      "F\u00fcr \"mathematisches\" Dividieren muss mindestens ein Argument eine Fli\u00dfekommazahl sein;\n",
      "Ganzzahldivisionen werden abgerundet!\n",
      "(Ausnahme: entweder es ist Python in Version 3 oder mittels `from __future__ import division` wurde das andere Verhalten importiert)"
     ]
    },
    {
     "cell_type": "code",
     "collapsed": false,
     "input": [
      "(2.2 * 9.81) / 2"
     ],
     "language": "python",
     "metadata": {},
     "outputs": [
      {
       "metadata": {},
       "output_type": "pyout",
       "prompt_number": 3,
       "text": [
        "10.791000000000002"
       ]
      }
     ],
     "prompt_number": 3
    },
    {
     "cell_type": "code",
     "collapsed": false,
     "input": [
      "51 / 10"
     ],
     "language": "python",
     "metadata": {},
     "outputs": [
      {
       "metadata": {},
       "output_type": "pyout",
       "prompt_number": 4,
       "text": [
        "5"
       ]
      }
     ],
     "prompt_number": 4
    },
    {
     "cell_type": "code",
     "collapsed": false,
     "input": [
      "51. / 10"
     ],
     "language": "python",
     "metadata": {},
     "outputs": [
      {
       "metadata": {},
       "output_type": "pyout",
       "prompt_number": 5,
       "text": [
        "5.1"
       ]
      }
     ],
     "prompt_number": 5
    },
    {
     "cell_type": "code",
     "collapsed": false,
     "input": [
      "from __future__ import division\n",
      "51 / 10"
     ],
     "language": "python",
     "metadata": {},
     "outputs": [
      {
       "metadata": {},
       "output_type": "pyout",
       "prompt_number": 6,
       "text": [
        "5.1"
       ]
      }
     ],
     "prompt_number": 6
    },
    {
     "cell_type": "markdown",
     "metadata": {},
     "source": [
      "Das IPython Notebook merkt sich die weiter oben definierte Variable `banane`,\n",
      "solange die \"Session\" aktiv ist."
     ]
    },
    {
     "cell_type": "code",
     "collapsed": false,
     "input": [
      "apfel = 8.41\n",
      "print(2 * banane + apfel)"
     ],
     "language": "python",
     "metadata": {},
     "outputs": [
      {
       "output_type": "stream",
       "stream": "stdout",
       "text": [
        "28.41\n"
       ]
      }
     ],
     "prompt_number": 7
    },
    {
     "cell_type": "markdown",
     "metadata": {},
     "source": [
      "Br\u00fcche k\u00f6nnen mit `Fraction` angegeben werden"
     ]
    },
    {
     "cell_type": "code",
     "collapsed": false,
     "input": [
      "from fractions import Fraction\n",
      "a = Fraction(\"33/31003100\")\n",
      "b = Fraction(\"-9/100000100001\")\n",
      "print(a * b ** 4)"
     ],
     "language": "python",
     "metadata": {},
     "outputs": [
      {
       "output_type": "stream",
       "stream": "stdout",
       "text": [
        "2673/38275585202254501783218213917955539030103719395100\n"
       ]
      }
     ],
     "prompt_number": 8
    },
    {
     "cell_type": "markdown",
     "metadata": {},
     "source": [
      "Dezimalzahlen, die nicht die \u00fcbliche in dem Computer eingebaute fixe\n",
      "[IEEE 754-2008](http://en.wikipedia.org/wiki/IEEE_floating_point) Genauigkeit haben und eventuelle Rundungsfehler erzeugen,\n",
      "sondern [IEEE 854-1987](http://en.wikipedia.org/wiki/IEEE_854-1987) f\u00fcr strengere Genauigkeit folgen, mittels `Decimal`:"
     ]
    },
    {
     "cell_type": "code",
     "collapsed": false,
     "input": [
      "print(1.1 + 2.2 - 3.3)"
     ],
     "language": "python",
     "metadata": {},
     "outputs": [
      {
       "output_type": "stream",
       "stream": "stdout",
       "text": [
        "4.4408920985e-16\n"
       ]
      }
     ],
     "prompt_number": 9
    },
    {
     "cell_type": "code",
     "collapsed": false,
     "input": [
      "from decimal import Decimal\n",
      "u = Decimal(\"1.1\") + Decimal(\"2.2\")\n",
      "v = Decimal(\"-3.3\")\n",
      "print(u + v)"
     ],
     "language": "python",
     "metadata": {},
     "outputs": [
      {
       "output_type": "stream",
       "stream": "stdout",
       "text": [
        "0.0\n"
       ]
      }
     ],
     "prompt_number": 10
    },
    {
     "cell_type": "markdown",
     "metadata": {},
     "source": [
      "Eine Schleife mit einer eingebauten Bedingung, die alle Zahlen bis 100, die durch 2, 3 und 7 teilbar sind, aufsummiert:"
     ]
    },
    {
     "cell_type": "code",
     "collapsed": false,
     "input": [
      "summe = 0\n",
      "for i in range(100):\n",
      "    if i % 2 == 0 and i % 3 == 0 and i % 7 == 0:\n",
      "        summe += i\n",
      "print(summe)"
     ],
     "language": "python",
     "metadata": {},
     "outputs": [
      {
       "output_type": "stream",
       "stream": "stdout",
       "text": [
        "126\n"
       ]
      }
     ],
     "prompt_number": 11
    },
    {
     "cell_type": "markdown",
     "metadata": {},
     "source": [
      "Den Sinus mit Standardgenauigkeit berechnen,\n",
      "wo in diesem Fall fast `0` herauskommt."
     ]
    },
    {
     "cell_type": "code",
     "collapsed": false,
     "input": [
      "from math import sin\n",
      "sin(3.14159265358979)"
     ],
     "language": "python",
     "metadata": {},
     "outputs": [
      {
       "metadata": {},
       "output_type": "pyout",
       "prompt_number": 12,
       "text": [
        "3.2310891488651735e-15"
       ]
      }
     ],
     "prompt_number": 12
    },
    {
     "cell_type": "markdown",
     "metadata": {},
     "source": [
      "Mit 100 Stellen Genauigkeit durch die mpmath Bibliothek in Sympy:"
     ]
    },
    {
     "cell_type": "code",
     "collapsed": false,
     "input": [
      "import sympy.mpmath as mpm\n",
      "from sympy import sin\n",
      "\n",
      "mpm.mp.dps = 100\n",
      "sin(mpm.mpf(\"3.14159265358979\"))"
     ],
     "language": "python",
     "metadata": {},
     "outputs": [
      {
       "metadata": {},
       "output_type": "pyout",
       "prompt_number": 13,
       "text": [
        "0.0000000000000032384626433832795028841971693937144672701764741592650955000719136298224406409269494784773667"
       ]
      }
     ],
     "prompt_number": 13
    },
    {
     "cell_type": "markdown",
     "metadata": {},
     "source": [
      "Symbolische Ausdr\u00fccke, Funktionen, Differenzieren:"
     ]
    },
    {
     "cell_type": "code",
     "collapsed": false,
     "input": [
      "from sympy import latex\n",
      "from sympy.abc import x"
     ],
     "language": "python",
     "metadata": {},
     "outputs": [],
     "prompt_number": 14
    },
    {
     "cell_type": "code",
     "collapsed": false,
     "input": [
      "f = 2 * x / (x - sin(x))\n",
      "print f\n",
      "f_prime = f.diff(x).simplify()\n",
      "print f_prime"
     ],
     "language": "python",
     "metadata": {},
     "outputs": [
      {
       "output_type": "stream",
       "stream": "stdout",
       "text": [
        "2*x/(x - sin(x))\n",
        "2*(x*cos(x) - sin(x))/(x - sin(x))**2"
       ]
      },
      {
       "output_type": "stream",
       "stream": "stdout",
       "text": [
        "\n"
       ]
      }
     ],
     "prompt_number": 15
    },
    {
     "cell_type": "markdown",
     "metadata": {},
     "source": [
      "LaTeX-Formatierung mittels SymPy:"
     ]
    },
    {
     "cell_type": "code",
     "collapsed": false,
     "input": [
      "from IPython.display import display, Math\n",
      "def pretty(formula):\n",
      "    display(Math(latex(formula)))"
     ],
     "language": "python",
     "metadata": {},
     "outputs": [],
     "prompt_number": 16
    },
    {
     "cell_type": "code",
     "collapsed": false,
     "input": [
      "pretty(f)"
     ],
     "language": "python",
     "metadata": {},
     "outputs": [
      {
       "latex": [
        "$$\\frac{2 x}{x - \\sin{\\left (x \\right )}}$$"
       ],
       "metadata": {},
       "output_type": "display_data",
       "text": [
        "<IPython.core.display.Math at 0x3505750>"
       ]
      }
     ],
     "prompt_number": 17
    },
    {
     "cell_type": "code",
     "collapsed": false,
     "input": [
      "pretty(f_prime)"
     ],
     "language": "python",
     "metadata": {},
     "outputs": [
      {
       "latex": [
        "$$\\frac{2 x \\cos{\\left (x \\right )} - 2 \\sin{\\left (x \\right )}}{\\left(x - \\sin{\\left (x \\right )}\\right)^{2}}$$"
       ],
       "metadata": {},
       "output_type": "display_data",
       "text": [
        "<IPython.core.display.Math at 0x3505a10>"
       ]
      }
     ],
     "prompt_number": 18
    },
    {
     "cell_type": "markdown",
     "metadata": {},
     "source": [
      "Verarbeiten von Listen mittels `[ <ausdruck> for <variable> in <liste> ]` (genannt \"list-comprehension\")"
     ]
    },
    {
     "cell_type": "code",
     "collapsed": false,
     "input": [
      "ll = [2., 2.5, 3., 5., 8.1, 10., 22.]\n",
      "k1 = [ 2*i-2 for i in ll]\n",
      "print(ll)\n",
      "print(k1)"
     ],
     "language": "python",
     "metadata": {},
     "outputs": [
      {
       "output_type": "stream",
       "stream": "stdout",
       "text": [
        "[2.0, 2.5, 3.0, 5.0, 8.1, 10.0, 22.0]\n",
        "[2.0, 3.0, 4.0, 8.0, 14.2, 18.0, 42.0]\n"
       ]
      }
     ],
     "prompt_number": 19
    },
    {
     "cell_type": "markdown",
     "metadata": {},
     "source": [
      "Zeichnen einer paarweisen Liste von Punkten (x und y Koordinaten)"
     ]
    },
    {
     "cell_type": "code",
     "collapsed": false,
     "input": [
      "%matplotlib inline\n",
      "import matplotlib.pyplot as plt\n",
      "\n",
      "xx = [20, 15,  11, 7.57, 9.6, 13,  21,  24, 28, 23, 20]\n",
      "yy = [3, 2.5, 2.3, 2.66,  3, 3.1, 2.3, 2.5, 2.8, 3,  3]\n",
      "\n",
      "plt.plot(xx, yy, \"o-\")\n",
      "plt.xlim(5, 30)\n",
      "plt.ylim(2, 3.3)"
     ],
     "language": "python",
     "metadata": {},
     "outputs": [
      {
       "metadata": {},
       "output_type": "pyout",
       "prompt_number": 20,
       "text": [
        "(2, 3.3)"
       ]
      },
      {
       "metadata": {},
       "output_type": "display_data",
       "png": "[encoded data removed]",
       "text": [
        "<matplotlib.figure.Figure at 0x371f510>"
       ]
      }
     ],
     "prompt_number": 20
    },
    {
     "cell_type": "markdown",
     "metadata": {},
     "source": [
      "Definieren von Python-Funktionen und zeichnen ihres Graphen:"
     ]
    },
    {
     "cell_type": "code",
     "collapsed": false,
     "input": [
      "def sin_square(x):\n",
      "    from math import sin\n",
      "    s = sin(x)\n",
      "    return s * x ** 2"
     ],
     "language": "python",
     "metadata": {},
     "outputs": [],
     "prompt_number": 21
    },
    {
     "cell_type": "code",
     "collapsed": false,
     "input": [
      "sin_square(-1.1), sin_square(2), sin_square(10)"
     ],
     "language": "python",
     "metadata": {},
     "outputs": [
      {
       "metadata": {},
       "output_type": "pyout",
       "prompt_number": 22,
       "text": [
        "(-1.078360905674337, 3.637189707302727, -54.40211108893698)"
       ]
      }
     ],
     "prompt_number": 22
    },
    {
     "cell_type": "code",
     "collapsed": false,
     "input": [
      "%matplotlib inline\n",
      "import matplotlib.pyplot as plt\n",
      "\n",
      "xx = [i/10. for i in range(-10, 150)]\n",
      "yy = [sin_square(x) for x in xx]\n",
      "\n",
      "plt.plot(xx, yy)"
     ],
     "language": "python",
     "metadata": {},
     "outputs": [
      {
       "metadata": {},
       "output_type": "pyout",
       "prompt_number": 23,
       "text": [
        "[<matplotlib.lines.Line2D at 0x4c43490>]"
       ]
      },
      {
       "metadata": {},
       "output_type": "display_data",
       "png": "[encoded data removed]",
       "text": [
        "<matplotlib.figure.Figure at 0x36ee590>"
       ]
      }
     ],
     "prompt_number": 23
    },
    {
     "cell_type": "markdown",
     "metadata": {},
     "source": [
      "Interaktive Argumente zu einer Funktion mit `@interact`"
     ]
    },
    {
     "cell_type": "code",
     "collapsed": false,
     "input": [
      "from IPython.html.widgets import interact\n",
      "%matplotlib inline\n",
      "import matplotlib.pyplot as plt\n",
      "import numpy as np\n",
      "\n",
      "@interact(a = (0, 20, .1), b = (0, 3, .1))\n",
      "def damped_oscillation(a = 10, b = .5):\n",
      "    xx = np.linspace(0, 10, 1000)\n",
      "    yy = a * np.exp(-b * xx) * np.cos(a * xx) / a\n",
      "    plt.ylim(-1, 1)\n",
      "    plt.plot(xx, yy)"
     ],
     "language": "python",
     "metadata": {},
     "outputs": [
      {
       "metadata": {},
       "output_type": "display_data",
       "png": "[encoded data removed]",
       "text": [
        "<matplotlib.figure.Figure at 0x4c72750>"
       ]
      }
     ],
     "prompt_number": 24
    },
    {
     "cell_type": "markdown",
     "metadata": {},
     "source": [
      "## Histogram"
     ]
    },
    {
     "cell_type": "code",
     "collapsed": false,
     "input": [
      "data1 = np.r_[4 * np.random.randn(1000) - 3,\n",
      "              np.linspace(3, 6, 1000)**2 + np.random.randn(1000)]\n",
      "_ = plt.hist(data1, 25)"
     ],
     "language": "python",
     "metadata": {},
     "outputs": [
      {
       "metadata": {},
       "output_type": "display_data",
       "png": "[encoded data removed]",
       "text": [
        "<matplotlib.figure.Figure at 0x49cfa90>"
       ]
      }
     ],
     "prompt_number": 25
    },
    {
     "cell_type": "code",
     "collapsed": false,
     "input": [
      "data2 = np.sin(np.linspace(0, 7, 2000)) * (.1 + .5 * np.random.rand(2000))\n",
      "plt.hexbin(data1, data2, gridsize=20, cmap=plt.cm.bone)\n",
      "plt.colorbar()"
     ],
     "language": "python",
     "metadata": {},
     "outputs": [
      {
       "metadata": {},
       "output_type": "pyout",
       "prompt_number": 26,
       "text": [
        "<matplotlib.colorbar.Colorbar instance at 0x4312128>"
       ]
      },
      {
       "metadata": {},
       "output_type": "display_data",
       "png": "[encoded data removed]",
       "text": [
        "<matplotlib.figure.Figure at 0x4c7e110>"
       ]
      }
     ],
     "prompt_number": 26
    },
    {
     "cell_type": "code",
     "collapsed": false,
     "input": [],
     "language": "python",
     "metadata": {},
     "outputs": [],
     "prompt_number": 26
    }
   ],
   "metadata": {}
  }
 ]
}
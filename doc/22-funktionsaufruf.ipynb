{
 "metadata": {
  "name": "",
  "signature": "sha256:c757415e94ef6cbb6dac0003fc4bcdd6584f575cf371f90feaa921f76b2988ae"
 },
 "nbformat": 3,
 "nbformat_minor": 0,
 "worksheets": [
  {
   "cells": [
    {
     "cell_type": "markdown",
     "metadata": {},
     "source": [
      "# Konzept 2: Funktionsaufruf\n",
      "\n",
      "Kann das `Objekt`, auf das eine Variable verweist, aufgerufen werden (engl. \"callable\"),\n",
      "so kennzeichnen die daran anschlie\u00dfenden geschwungenen Klammern \"`( ... )`\",\n",
      "dass so ein Funktionsaufruf passieren soll.\n",
      "In den Klammern sind die sogenannten \"Argumente\" dieser Funktion,\n",
      "welche f\u00fcr die Auswertung \u00fcbergeben werden.\n",
      "Zur\u00fcckgegeben wird das Ergebnis, welches f\u00fcr weitere Berechnungen verwendet werden kann."
     ]
    },
    {
     "cell_type": "markdown",
     "metadata": {},
     "source": [
      "Definiert werden Funktionen \u00fcbrigens mittels \"`def name(argumente...)`\" und \"`return ...`\" gibt an, was zur\u00fcckgegeben wird:"
     ]
    },
    {
     "cell_type": "code",
     "collapsed": false,
     "input": [
      "def meine_funktion(x, b):\n",
      "    y = x + b\n",
      "    z = 2*y + x\n",
      "    return z * y"
     ],
     "language": "python",
     "metadata": {},
     "outputs": [],
     "prompt_number": 1
    },
    {
     "cell_type": "markdown",
     "metadata": {},
     "source": [
      "Die Variable `meine_funktion` beinhaltet das Funktionsobjekt, obwi die Hexadezimalzahl die (wenig informative) Speichadresse ist:"
     ]
    },
    {
     "cell_type": "code",
     "collapsed": false,
     "input": [
      "print(meine_funktion)"
     ],
     "language": "python",
     "metadata": {},
     "outputs": [
      {
       "output_type": "stream",
       "stream": "stdout",
       "text": [
        "<function meine_funktion at 0x253ec80>\n"
       ]
      }
     ],
     "prompt_number": 2
    },
    {
     "cell_type": "markdown",
     "metadata": {},
     "source": [
      "Aufruf diese \"callable\" Funktion mittels Argumenten in runder Klammer:"
     ]
    },
    {
     "cell_type": "code",
     "collapsed": false,
     "input": [
      "meine_funktion(4.4, 11)"
     ],
     "language": "python",
     "metadata": {},
     "outputs": [
      {
       "metadata": {},
       "output_type": "pyout",
       "prompt_number": 3,
       "text": [
        "542.08"
       ]
      }
     ],
     "prompt_number": 3
    },
    {
     "cell_type": "code",
     "collapsed": false,
     "input": [
      "meine_funktion(-1, 2)"
     ],
     "language": "python",
     "metadata": {},
     "outputs": [
      {
       "metadata": {},
       "output_type": "pyout",
       "prompt_number": 4,
       "text": [
        "1"
       ]
      }
     ],
     "prompt_number": 4
    },
    {
     "cell_type": "code",
     "collapsed": false,
     "input": [],
     "language": "python",
     "metadata": {},
     "outputs": []
    }
   ],
   "metadata": {}
  }
 ]
}
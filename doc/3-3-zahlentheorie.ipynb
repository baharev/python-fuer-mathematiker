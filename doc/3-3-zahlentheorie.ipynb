{
 "metadata": {
  "name": "",
  "signature": "sha256:ab62cab309e8bf8ecf03209b0bce5689add0826bad2701353838adf8d6c31a74"
 },
 "nbformat": 3,
 "nbformat_minor": 0,
 "worksheets": [
  {
   "cells": [
    {
     "cell_type": "markdown",
     "metadata": {},
     "source": [
      "# Zahlentheorie\n",
      "\n",
      "\n"
     ]
    },
    {
     "cell_type": "markdown",
     "metadata": {},
     "source": [
      "Python kann von Haus aus mit gro\u00dfen Ganzzahlen (die mehr als 64-Bit haben) umgehen."
     ]
    },
    {
     "cell_type": "code",
     "collapsed": false,
     "input": [
      "x = 900000000000000000000000000010000000000000000000000001\n",
      "y = 99985555444433332222111199988866665554444333322221111\n",
      "x*y"
     ],
     "language": "python",
     "metadata": {},
     "outputs": [
      {
       "metadata": {},
       "output_type": "pyout",
       "prompt_number": 1,
       "text": [
        "89986999899989998999900079990979854553444233312220111999874222099977775555333411098866665554444333322221111L"
       ]
      }
     ],
     "prompt_number": 1
    },
    {
     "cell_type": "code",
     "collapsed": false,
     "input": [
      "x % y"
     ],
     "language": "python",
     "metadata": {},
     "outputs": [
      {
       "metadata": {},
       "output_type": "pyout",
       "prompt_number": 2,
       "text": [
        "130001000100010000999200110200010010001000100010002L"
       ]
      }
     ],
     "prompt_number": 2
    },
    {
     "cell_type": "markdown",
     "metadata": {},
     "source": [
      "## Zahlentheorie mit SymPy\n",
      "\n",
      "Das Submodul [sympy.ntheory](http://docs.sympy.org/latest/modules/ntheory.html) (engl. \"number theory\") beinhaltet zahlentheoretiche Funktionen."
     ]
    },
    {
     "cell_type": "markdown",
     "metadata": {},
     "source": [
      "### Primzahltest"
     ]
    },
    {
     "cell_type": "code",
     "collapsed": false,
     "input": [
      "from sympy.ntheory import isprime, nextprime\n",
      "isprime(20150407)"
     ],
     "language": "python",
     "metadata": {},
     "outputs": [
      {
       "metadata": {},
       "output_type": "pyout",
       "prompt_number": 3,
       "text": [
        "False"
       ]
      }
     ],
     "prompt_number": 3
    },
    {
     "cell_type": "code",
     "collapsed": false,
     "input": [
      "nextprime(20150407)"
     ],
     "language": "python",
     "metadata": {},
     "outputs": [
      {
       "metadata": {},
       "output_type": "pyout",
       "prompt_number": 4,
       "text": [
        "20150411"
       ]
      }
     ],
     "prompt_number": 4
    },
    {
     "cell_type": "markdown",
     "metadata": {},
     "source": [
      "Struktur der Primzahlen bis 1000:"
     ]
    },
    {
     "cell_type": "code",
     "collapsed": false,
     "input": [
      "zeilen, spalten = 20, 50\n",
      "for z in range(zeilen):\n",
      "    for s in range(spalten):\n",
      "        n = (s + 1) + spalten * (z)\n",
      "        if isprime(n):\n",
      "            print 'X',\n",
      "        else:\n",
      "            print '.',\n",
      "    print"
     ],
     "language": "python",
     "metadata": {},
     "outputs": [
      {
       "output_type": "stream",
       "stream": "stdout",
       "text": [
        ". X X . X . X . . . X . X . . . X . X . . . X . . . . . X . X . . . . . X . . . X . X . . . X . . .\n",
        ". . X . . . . . X . X . . . . . X . . . X . X . . . . . X . . . X . . . . . X . . . . . . . X . . .\n",
        "X . X . . . X . X . . . X . . . . . . . . . . . . . X . . . X . . . . . X . X . . . . . . . . . X .\n",
        "X . . . . . X . . . . . X . . . X . . . . . X . . . . . X . X . . . . . . . . . X . X . . . X . X .\n",
        ". . . . . . . . . . X . . . . . . . . . . . X . . . X . X . . . X . . . . . X . X . . . . . . . . .\n",
        "X . . . . . X . . . . . X . . . . . X . X . . . . . X . . . X . X . . . . . . . . . X . . . . . . .\n",
        ". . . . . . X . . . X . X . . . X . . . . . . . . . . . . . X . . . . . X . . . . . . . . . X . X .\n",
        ". . X . . . . . X . . . . . . . X . . . . . X . . . . . X . . . X . . . . . X . . . . . . . X . . .\n",
        "X . . . . . . . X . . . . . . . . . X . X . . . . . . . . . X . X . . . . . X . . . X . . . . . X .\n",
        ". . . . . . X . . . X . X . . . X . . . . . . . . . . . X . . . . . . . X . . . X . . . . . . . X .\n",
        ". . X . . . . . X . . . . . . . . . . . X . X . . . . . . . . . . . . . . . . . X . . . . . X . . .\n",
        ". . . . . . X . . . . . X . . . . . X . X . . . . . X . . . . . . . . . X . . . . . X . . . . . X .\n",
        "X . . . . . X . . . . . X . . . X . X . . . . . . . . . . . X . . . . . . . . . X . X . . . X . . .\n",
        ". . X . . . . . X . X . . . . . . . . . . . X . . . X . . . . . X . . . . . . . X . . . . . . . . .\n",
        "X . . . . . . . X . . . . . . . . . X . . . . . . . X . . . . . X . . . . . X . . . X . . . . . . .\n",
        "X . . . . . X . . . X . . . . . . . X . . . X . . . . . . . . . . . . . X . . . . . . . . . X . . .\n",
        ". . . . . . . . X . X . . . . . . . . . X . X . . . X . X . . . . . . . . . X . . . . . . . . . . .\n",
        ". . X . . . X . X . . . X . . . . . . . . . . . . . X . . . X . X . . . X . . . . . . . . . . . . .\n",
        ". . . . . . X . . . X . . . . . . . X . . . . . . . . . X . . . . . . . X . . . X . . . . . X . . .\n",
        ". . X . . . . . . . . . . . . . X . . . X . . . . . X . . . . . X . . . . . . . X . . . . . X . . .\n"
       ]
      }
     ],
     "prompt_number": 5
    },
    {
     "cell_type": "markdown",
     "metadata": {},
     "source": [
      "### Faktorisierung in $\\mathbb{Z}$\n",
      "\n",
      "Das Ergebnis ist ein `dict`, wobei die Schl\u00fcssel die Primzahlen und die Werte die Vielfachheit sind."
     ]
    },
    {
     "cell_type": "code",
     "collapsed": false,
     "input": [
      "from sympy.ntheory import factorint\n",
      "factorint(1116130609622197)"
     ],
     "language": "python",
     "metadata": {},
     "outputs": [
      {
       "metadata": {},
       "output_type": "pyout",
       "prompt_number": 6,
       "text": [
        "{13: 1, 1051: 1, 4339: 3}"
       ]
      }
     ],
     "prompt_number": 6
    },
    {
     "cell_type": "code",
     "collapsed": false,
     "input": [
      "fc2 = factorint(1116130609622197)\n",
      "fc2"
     ],
     "language": "python",
     "metadata": {},
     "outputs": [
      {
       "metadata": {},
       "output_type": "pyout",
       "prompt_number": 7,
       "text": [
        "{13: 1, 1051: 1, 4339: 3}"
       ]
      }
     ],
     "prompt_number": 7
    },
    {
     "cell_type": "code",
     "collapsed": false,
     "input": [
      "# Check\n",
      "z = 1\n",
      "for primzahl, vielfachheit in fc2.iteritems():\n",
      "    z *= primzahl**vielfachheit\n",
      "z"
     ],
     "language": "python",
     "metadata": {},
     "outputs": [
      {
       "metadata": {},
       "output_type": "pyout",
       "prompt_number": 8,
       "text": [
        "1116130609622197"
       ]
      }
     ],
     "prompt_number": 8
    },
    {
     "cell_type": "markdown",
     "metadata": {},
     "source": [
      "### Chinesischer Restsatz"
     ]
    },
    {
     "cell_type": "code",
     "collapsed": false,
     "input": [
      "from sympy.ntheory.modular import crt\n",
      "crt([2, 3, 13], [1, 2, 7])"
     ],
     "language": "python",
     "metadata": {},
     "outputs": [
      {
       "metadata": {},
       "output_type": "pyout",
       "prompt_number": 9,
       "text": [
        "(59, 78)"
       ]
      }
     ],
     "prompt_number": 9
    },
    {
     "cell_type": "code",
     "collapsed": false,
     "input": [
      "[59 % m for m in [2, 3, 13]]"
     ],
     "language": "python",
     "metadata": {},
     "outputs": [
      {
       "metadata": {},
       "output_type": "pyout",
       "prompt_number": 10,
       "text": [
        "[1, 2, 7]"
       ]
      }
     ],
     "prompt_number": 10
    },
    {
     "cell_type": "markdown",
     "metadata": {},
     "source": [
      "### Partitionen von n"
     ]
    },
    {
     "cell_type": "code",
     "collapsed": false,
     "input": [
      "from sympy.ntheory import npartitions\n",
      "for i in range(0, 2001, 100):\n",
      "    np = npartitions(i)\n",
      "    print(\"P(%5d) = %d\" % (i, np))"
     ],
     "language": "python",
     "metadata": {},
     "outputs": [
      {
       "output_type": "stream",
       "stream": "stdout",
       "text": [
        "P(    0) = 1\n",
        "P(  100) = 190569292\n",
        "P(  200) = 3972999029388\n",
        "P(  300) = 9253082936723602\n",
        "P(  400) = 6727090051741041926\n",
        "P(  500) = 2300165032574323995027\n",
        "P(  600) = 458004788008144308553622\n",
        "P(  700) = 60378285202834474611028659\n",
        "P(  800) = 5733052172321422504456911979\n",
        "P(  900) = 415873681190459054784114365430\n",
        "P( 1000) = 24061467864032622473692149727991\n",
        "P( 1100) = 1147240591519695580043346988281283\n",
        "P( 1200) = 46240102378152881298913555099661657\n",
        "P( 1300) = 1607818855017534550841511230454411672\n",
        "P( 1400) = 49032194652550394774839040691532998261\n",
        "P( 1500) = 1329461690763193888825263136701886891117\n",
        "P( 1600) = 32417690376154241824102577250721959572183\n",
        "P( 1700) = 717802041964941442478681516751205185010007\n",
        "P( 1800) = 14552716211005418005132948684850541312590849"
       ]
      },
      {
       "output_type": "stream",
       "stream": "stdout",
       "text": [
        "\n",
        "P( 1900) = 272089289788583262011466359201428623427767364\n",
        "P( 2000) = 4720819175619413888601432406799959512200344166\n"
       ]
      }
     ],
     "prompt_number": 11
    },
    {
     "cell_type": "markdown",
     "metadata": {},
     "source": [
      "### Lengendre-Symbol"
     ]
    },
    {
     "cell_type": "code",
     "collapsed": false,
     "input": [
      "from sympy.ntheory.residue_ntheory import legendre_symbol\n",
      "legendre_symbol(49, 997)"
     ],
     "language": "python",
     "metadata": {},
     "outputs": [
      {
       "metadata": {},
       "output_type": "pyout",
       "prompt_number": 12,
       "text": [
        "1"
       ]
      }
     ],
     "prompt_number": 12
    },
    {
     "cell_type": "code",
     "collapsed": false,
     "input": [
      "legendre_symbol(7, 997)"
     ],
     "language": "python",
     "metadata": {},
     "outputs": [
      {
       "metadata": {},
       "output_type": "pyout",
       "prompt_number": 13,
       "text": [
        "-1"
       ]
      }
     ],
     "prompt_number": 13
    },
    {
     "cell_type": "markdown",
     "metadata": {},
     "source": [
      "### M\u00f6biusfunktion"
     ]
    },
    {
     "cell_type": "code",
     "collapsed": false,
     "input": [
      "from sympy.ntheory import mobius\n",
      "mobius(11111222227777)"
     ],
     "language": "python",
     "metadata": {},
     "outputs": [
      {
       "metadata": {},
       "output_type": "pyout",
       "prompt_number": 14,
       "text": [
        "1"
       ]
      }
     ],
     "prompt_number": 14
    },
    {
     "cell_type": "code",
     "collapsed": false,
     "input": [
      "factorint(11111222227777)"
     ],
     "language": "python",
     "metadata": {},
     "outputs": [
      {
       "metadata": {},
       "output_type": "pyout",
       "prompt_number": 15,
       "text": [
        "{7: 1, 19: 1, 23: 1, 103: 1, 1753: 1, 20117: 1}"
       ]
      }
     ],
     "prompt_number": 15
    },
    {
     "cell_type": "code",
     "collapsed": false,
     "input": [
      "mobius(11111222227779)"
     ],
     "language": "python",
     "metadata": {},
     "outputs": [
      {
       "metadata": {},
       "output_type": "pyout",
       "prompt_number": 16,
       "text": [
        "0"
       ]
      }
     ],
     "prompt_number": 16
    },
    {
     "cell_type": "code",
     "collapsed": false,
     "input": [
      "factorint(11111222227779)"
     ],
     "language": "python",
     "metadata": {},
     "outputs": [
      {
       "metadata": {},
       "output_type": "pyout",
       "prompt_number": 17,
       "text": [
        "{3: 6, 167: 1, 91267853: 1}"
       ]
      }
     ],
     "prompt_number": 17
    },
    {
     "cell_type": "markdown",
     "metadata": {},
     "source": [
      "## Endliche K\u00f6rper\n",
      "\n",
      "Welche Punkte in $\\mathbb{F}_7 \\times \\mathbb{F}_7$ liegen am Einheitskreis, also erf\u00fcllen $x^2 + y^2 = 1$?"
     ]
    },
    {
     "cell_type": "code",
     "collapsed": false,
     "input": [
      "from itertools import product\n",
      "\n",
      "F7 = range(7)\n",
      "\n",
      "for x, y in product(F7, F7):\n",
      "    if (x**2 + y**2) % 7 == 1:\n",
      "        print \"%d:%d\" % (x, y),"
     ],
     "language": "python",
     "metadata": {},
     "outputs": [
      {
       "output_type": "stream",
       "stream": "stdout",
       "text": [
        "0:1 0:6 1:0 2:2 2:5 5:2 5:5 6:0\n"
       ]
      }
     ],
     "prompt_number": 18
    },
    {
     "cell_type": "markdown",
     "metadata": {},
     "source": [
      "*Bemerkung:* Das ist nat\u00fcrlich nicht wirklich $\\mathbb{F}_7$, denn wir brauchen die Modulo-Operation.\n",
      "Eine gute Aufgabe w\u00e4re, eine Klasse f\u00fcr $\\mathbb{F}_p$ zu implementieren,\n",
      "dessen Elemente (also, man braucht auch eine Klasse f\u00fcr die Elemente) die Basisoperationen beherrschen."
     ]
    }
   ],
   "metadata": {}
  }
 ]
}
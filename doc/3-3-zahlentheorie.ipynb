{
 "metadata": {
  "name": "",
  "signature": "sha256:080abfe03bb098b1049f1ca11cd96faa02638b3ee8b1d02bff554d9901ece846"
 },
 "nbformat": 3,
 "nbformat_minor": 0,
 "worksheets": [
  {
   "cells": [
    {
     "cell_type": "markdown",
     "metadata": {},
     "source": [
      "# Zahlentheorie\n",
      "\n",
      "\n"
     ]
    },
    {
     "cell_type": "code",
     "collapsed": false,
     "input": [],
     "language": "python",
     "metadata": {},
     "outputs": [],
     "prompt_number": 8
    },
    {
     "cell_type": "code",
     "collapsed": false,
     "input": [],
     "language": "python",
     "metadata": {},
     "outputs": [],
     "prompt_number": 8
    },
    {
     "cell_type": "code",
     "collapsed": false,
     "input": [],
     "language": "python",
     "metadata": {},
     "outputs": [],
     "prompt_number": 8
    },
    {
     "cell_type": "markdown",
     "metadata": {},
     "source": [
      "## Zahlentheorie in SymPy\n",
      "\n",
      "Das Submodul [`ntheory`](http://docs.sympy.org/latest/modules/ntheory.html) (engl. \"number theory\") beinhaltet zahlentheoretiche Funktionen."
     ]
    },
    {
     "cell_type": "markdown",
     "metadata": {},
     "source": [
      "### Primzahltest"
     ]
    },
    {
     "cell_type": "code",
     "collapsed": false,
     "input": [
      "from sympy.ntheory import isprime, nextprime\n",
      "isprime(20150407)"
     ],
     "language": "python",
     "metadata": {},
     "outputs": [
      {
       "metadata": {},
       "output_type": "pyout",
       "prompt_number": 9,
       "text": [
        "False"
       ]
      }
     ],
     "prompt_number": 9
    },
    {
     "cell_type": "code",
     "collapsed": false,
     "input": [
      "nextprime(20150407)"
     ],
     "language": "python",
     "metadata": {},
     "outputs": [
      {
       "metadata": {},
       "output_type": "pyout",
       "prompt_number": 10,
       "text": [
        "20150411"
       ]
      }
     ],
     "prompt_number": 10
    },
    {
     "cell_type": "markdown",
     "metadata": {},
     "source": [
      "### Faktorisierung in $\\mathbb{Z}$\n",
      "\n",
      "Das Ergebnis ist ein `dict`, wobei die Schl\u00fcssel die Primzahlen und die Werte die Vielfachheit sind."
     ]
    },
    {
     "cell_type": "code",
     "collapsed": false,
     "input": [
      "from sympy.ntheory import factorint\n",
      "factorint(1116130609622197)"
     ],
     "language": "python",
     "metadata": {},
     "outputs": [
      {
       "metadata": {},
       "output_type": "pyout",
       "prompt_number": 6,
       "text": [
        "{13: 1, 1051: 1, 4339: 3}"
       ]
      }
     ],
     "prompt_number": 6
    },
    {
     "cell_type": "code",
     "collapsed": false,
     "input": [
      "fc2 = factorint(1116130609622197)\n",
      "fc2"
     ],
     "language": "python",
     "metadata": {},
     "outputs": [
      {
       "metadata": {},
       "output_type": "pyout",
       "prompt_number": 7,
       "text": [
        "{13: 1, 1051: 1, 4339: 3}"
       ]
      }
     ],
     "prompt_number": 7
    },
    {
     "cell_type": "code",
     "collapsed": false,
     "input": [
      "# Check\n",
      "z = 1\n",
      "for primzahl, vielfachheit in fc2.iteritems():\n",
      "    z *= primzahl**vielfachheit\n",
      "z"
     ],
     "language": "python",
     "metadata": {},
     "outputs": [
      {
       "metadata": {},
       "output_type": "pyout",
       "prompt_number": 8,
       "text": [
        "1116130609622197"
       ]
      }
     ],
     "prompt_number": 8
    },
    {
     "cell_type": "markdown",
     "metadata": {},
     "source": [
      "## Endliche K\u00f6rper\n",
      "\n",
      "Welche Punkte in $\\mathbb{F}_7 \\times \\mathbb{F}_7$ liegen am Einheitskreis, also erf\u00fcllen $x^2 + y^2 = 1$?"
     ]
    },
    {
     "cell_type": "code",
     "collapsed": false,
     "input": [
      "from itertools import product\n",
      "\n",
      "F7 = range(7)\n",
      "\n",
      "for x, y in product(F7, F7):\n",
      "    if (x**2 + y**2) % 7 == 1:\n",
      "        print \"%d:%d\" % (x, y),"
     ],
     "language": "python",
     "metadata": {},
     "outputs": [
      {
       "output_type": "stream",
       "stream": "stdout",
       "text": [
        "0:1 0:6 1:0 2:2 2:5 5:2 5:5 6:0\n"
       ]
      }
     ],
     "prompt_number": 14
    },
    {
     "cell_type": "markdown",
     "metadata": {},
     "source": [
      "*Bemerkung:* Das ist nat\u00fcrlich nicht wirklich $\\mathbb{F}_7$, denn wir brauchen die Modulo-Operation.\n",
      "Eine gute Aufgabe w\u00e4re, eine Klasse f\u00fcr $\\mathbb{F}_p$ zu implementieren,\n",
      "dessen Elemente (also, man braucht auch eine Klasse f\u00fcr die Elemente) die Basisoperationen beherrschen."
     ]
    }
   ],
   "metadata": {}
  }
 ]
}
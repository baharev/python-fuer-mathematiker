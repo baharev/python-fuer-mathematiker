{
 "metadata": {
  "name": "",
  "signature": "sha256:90957ecae33cd8fd0f69c57cb263285bf88bd93d16e65b9ff4a412cec7e49bea"
 },
 "nbformat": 3,
 "nbformat_minor": 0,
 "worksheets": [
  {
   "cells": [
    {
     "cell_type": "markdown",
     "metadata": {},
     "source": [
      "# Konzept 5: Datenstrukturen\n",
      "\n",
      "Computerprogramme ver- oder bearbeiten Daten.\n",
      "Diese Daten sollten vern\u00fcnftigerweise in einer f\u00fcr den Menschen verst\u00e4ndlichen Struktur vorliegen.\n",
      "Dabei ist es wichtig, gut zu verstehen von welcher Natur die abzubildenden Konzepte oder Strukturen sind.\n",
      "\n",
      "Datenstrukturen werden aus elementaren Basisdaten aufgebaut.\n",
      "Diese sind Zeichenketten (engl. \"strings\"), Ganzzahlen (engl. \"integer\"), Flie\u00dfkommazahlen (engl. \"float\"), Logische Werte (engl. \"boolean values\").\n",
      "Aus diesen werden h\u00f6here Strukturen aufgebaut,\n",
      "welche ihrerseits wieder zum Aufbau noch komplexerer Strukturen verwendet werden k\u00f6nnen.\n",
      "Hierf\u00fcr gibt es Konstruktionen wie eine lineare Auflistung, eine Assoziation oder eine Menge.\n",
      "\n",
      "Es folgt nun eine \u00dcbersicht dieser Konstruktionsmittel."
     ]
    },
    {
     "cell_type": "markdown",
     "metadata": {},
     "source": [
      "## Tupel\n",
      "\n",
      "Das ist die einfachste Datenstruktur Python's.\n",
      "Es handelt sich hier um eine lineare Auflistung von Elementen zwischen zwei **runden** Klammern `(...,...,...)`.\n",
      "Diese Elemente sind \"fix\", d.h. es k\u00f6nnen weder Elemente hinzugef\u00fcgt, noch ver\u00e4ndert, noch entfernt werden.\n",
      "Diese Datenstruktur tritt schon in recht einfachen F\u00e4llen auf,\n",
      "z.B. R\u00fcckgabe mehrerer Elemente in einem `return`-Statement oder einer gleichzeitigen Zuweisung an Variablen."
     ]
    },
    {
     "cell_type": "code",
     "collapsed": false,
     "input": [
      "x = (5, \"baum\", -1, None)\n",
      "print(x)"
     ],
     "language": "python",
     "metadata": {},
     "outputs": [
      {
       "output_type": "stream",
       "stream": "stdout",
       "text": [
        "(5, 'baum', -1, None)\n"
       ]
      }
     ],
     "prompt_number": 1
    },
    {
     "cell_type": "code",
     "collapsed": false,
     "input": [
      "x, y, z = 4, 1, 2\n",
      "print(x)\n",
      "print(y)\n",
      "print(z)"
     ],
     "language": "python",
     "metadata": {},
     "outputs": [
      {
       "output_type": "stream",
       "stream": "stdout",
       "text": [
        "4\n",
        "1\n",
        "2\n"
       ]
      }
     ],
     "prompt_number": 2
    },
    {
     "cell_type": "markdown",
     "metadata": {},
     "source": [
      "Dies kann f\u00fcr Vertauschungen verwendet werden:"
     ]
    },
    {
     "cell_type": "code",
     "collapsed": false,
     "input": [
      "a, b = 1, 2\n",
      "print(a, b)\n",
      "a, b = b, a\n",
      "print(a, b)"
     ],
     "language": "python",
     "metadata": {},
     "outputs": [
      {
       "output_type": "stream",
       "stream": "stdout",
       "text": [
        "(1, 2)\n",
        "(2, 1)\n"
       ]
      }
     ],
     "prompt_number": 3
    },
    {
     "cell_type": "markdown",
     "metadata": {},
     "source": [
      "**Achtung**: Es gibt auch Tupel mit nur einem Eintrag.\n",
      "Dieser muss zwingend einen Beistrich nach dem Eintrag haben (ansonsten wird es als normale Klammer erkannt und wird ignoriert)."
     ]
    },
    {
     "cell_type": "code",
     "collapsed": false,
     "input": [
      "one =(1, )\n",
      "print(one)"
     ],
     "language": "python",
     "metadata": {},
     "outputs": [
      {
       "output_type": "stream",
       "stream": "stdout",
       "text": [
        "(1,)\n"
       ]
      }
     ],
     "prompt_number": 4
    },
    {
     "cell_type": "markdown",
     "metadata": {},
     "source": [
      "### Zugriff auf ein Element\n",
      "\n",
      "Indizierbare Objekte (`tuple`, `list`, `str`, ...) erlauben,\n",
      "mittels des Syntax `object[idx]` direkt auf das Element an der Stelle `idx` zuzugreifen.\n",
      "Indizierungen starten immer bei `0`."
     ]
    },
    {
     "cell_type": "code",
     "collapsed": false,
     "input": [
      "t = (1, 12, 41, 27, 33)\n",
      "print(t[0])\n",
      "print(t[2])"
     ],
     "language": "python",
     "metadata": {},
     "outputs": [
      {
       "output_type": "stream",
       "stream": "stdout",
       "text": [
        "1\n",
        "41\n"
       ]
      }
     ],
     "prompt_number": 5
    },
    {
     "cell_type": "markdown",
     "metadata": {},
     "source": [
      "### L\u00e4nge mittels `len(...)`"
     ]
    },
    {
     "cell_type": "code",
     "collapsed": false,
     "input": [
      "len(t)"
     ],
     "language": "python",
     "metadata": {},
     "outputs": [
      {
       "metadata": {},
       "output_type": "pyout",
       "prompt_number": 6,
       "text": [
        "5"
       ]
      }
     ],
     "prompt_number": 6
    },
    {
     "cell_type": "markdown",
     "metadata": {},
     "source": [
      "### Index beginnt bei 0?\n",
      "\n",
      "**Bemerkung:** Warum bei `0`? Das hat viele Gr\u00fcnde, einer ist, dass mittels negativer Indices von hinten Indiziert werden kann. Dabei ist `-1` das letzte Element, usw. Dies f\u00fcgt sich wunderbar mit dem `len` Befehl zusammen, weil man f\u00fcr den positiven Index den negativen von der L\u00e4nge einfach abziehen kann:"
     ]
    },
    {
     "cell_type": "code",
     "collapsed": false,
     "input": [
      "t[-1]"
     ],
     "language": "python",
     "metadata": {},
     "outputs": [
      {
       "metadata": {},
       "output_type": "pyout",
       "prompt_number": 7,
       "text": [
        "33"
       ]
      }
     ],
     "prompt_number": 7
    },
    {
     "cell_type": "code",
     "collapsed": false,
     "input": [
      "t[len(t)-1]"
     ],
     "language": "python",
     "metadata": {},
     "outputs": [
      {
       "metadata": {},
       "output_type": "pyout",
       "prompt_number": 8,
       "text": [
        "33"
       ]
      }
     ],
     "prompt_number": 8
    },
    {
     "cell_type": "markdown",
     "metadata": {},
     "source": [
      "Eine Visualisierung aus dem [Python Tutorial](https://docs.python.org/2/tutorial/introduction.html#strings)\n",
      "\n",
      "```\n",
      " +---+---+---+---+---+---+\n",
      " | P | y | t | h | o | n |\n",
      " +---+---+---+---+---+---+\n",
      " 0   1   2   3   4   5   6\n",
      "-6  -5  -4  -3  -2  -1\n",
      "```\n",
      "\n",
      "Eine einfache Denkhilfe ist,\n",
      "sich den Index als die Zwischenstelle zwischen den Eintr\u00e4gen vorzustellen.\n",
      "Der `i`-te Eintrag ist dabei zwischen der `i-1`-ten und `i`-ten Stelle."
     ]
    },
    {
     "cell_type": "markdown",
     "metadata": {},
     "source": [
      "### Zugriff auf mehrere Elemente: Teil-Sequenzen\n",
      "\n",
      "Es lassen sich auch zusammenh\u00e4ngende Teile extrahieren, wobei der Syntax so ist: `object[<start>:<end>]`.\n",
      "\n",
      "* `start`: erstes Element\n",
      "* `end`: erstes Element das **nicht** mehr in diesem Teil sein soll\n",
      "* `start` und `end` k\u00f6nnen auch weggelassen werden.\n",
      "\n",
      "Ein optionales drittes Argument kann f\u00fcr gr\u00f6\u00dfere Spr\u00fcnge verwendet werden.\n",
      "\n",
      "* `list[2:10:2]` jedes zweite Element von 2 bis 10.\n",
      "* `list[::-1]` die Liste in umgekehrter Reihenfolge (negative Schrittweite, ohne bestimmte R\u00e4nder)"
     ]
    },
    {
     "cell_type": "code",
     "collapsed": false,
     "input": [
      "t[1:3]"
     ],
     "language": "python",
     "metadata": {},
     "outputs": [
      {
       "metadata": {},
       "output_type": "pyout",
       "prompt_number": 9,
       "text": [
        "(12, 41)"
       ]
      }
     ],
     "prompt_number": 9
    },
    {
     "cell_type": "code",
     "collapsed": false,
     "input": [
      "# \"die ersten zwei\"\n",
      "t[:2]"
     ],
     "language": "python",
     "metadata": {},
     "outputs": [
      {
       "metadata": {},
       "output_type": "pyout",
       "prompt_number": 10,
       "text": [
        "(1, 12)"
       ]
      }
     ],
     "prompt_number": 10
    },
    {
     "cell_type": "code",
     "collapsed": false,
     "input": [
      "# \"alle, ab dem zweiten index\"\n",
      "t[2:]"
     ],
     "language": "python",
     "metadata": {},
     "outputs": [
      {
       "metadata": {},
       "output_type": "pyout",
       "prompt_number": 11,
       "text": [
        "(41, 27, 33)"
       ]
      }
     ],
     "prompt_number": 11
    },
    {
     "cell_type": "code",
     "collapsed": false,
     "input": [
      "# \"letzte zwei\"\n",
      "t[-2:]"
     ],
     "language": "python",
     "metadata": {},
     "outputs": [
      {
       "metadata": {},
       "output_type": "pyout",
       "prompt_number": 12,
       "text": [
        "(27, 33)"
       ]
      }
     ],
     "prompt_number": 12
    },
    {
     "cell_type": "code",
     "collapsed": false,
     "input": [
      "# jedes zweite\n",
      "t[::2]"
     ],
     "language": "python",
     "metadata": {},
     "outputs": [
      {
       "metadata": {},
       "output_type": "pyout",
       "prompt_number": 13,
       "text": [
        "(1, 41, 33)"
       ]
      }
     ],
     "prompt_number": 13
    },
    {
     "cell_type": "code",
     "collapsed": false,
     "input": [
      "# umgedreht\n",
      "t[::-1]"
     ],
     "language": "python",
     "metadata": {},
     "outputs": [
      {
       "metadata": {},
       "output_type": "pyout",
       "prompt_number": 14,
       "text": [
        "(33, 27, 41, 12, 1)"
       ]
      }
     ],
     "prompt_number": 14
    },
    {
     "cell_type": "markdown",
     "metadata": {},
     "source": [
      "## Listen\n",
      "\n",
      "\u00c4hnlich wie Tupel, sind Listen geornete Kontainer f\u00fcr beliebige Werte zwischen **eckigen** Klammern `[...,...,...]`.\n",
      "Sie unterscheiden sich jedoch dadurch,\n",
      "dass sowohl einzelne Eintr\u00e4ge als auch deren L\u00e4nge ver\u00e4ndert werden kann."
     ]
    },
    {
     "cell_type": "code",
     "collapsed": false,
     "input": [
      "l = [5, \"Baum\", -1, None, 3.14159265]\n",
      "l"
     ],
     "language": "python",
     "metadata": {},
     "outputs": [
      {
       "metadata": {},
       "output_type": "pyout",
       "prompt_number": 15,
       "text": [
        "[5, 'Baum', -1, None, 3.14159265]"
       ]
      }
     ],
     "prompt_number": 15
    },
    {
     "cell_type": "code",
     "collapsed": false,
     "input": [
      "l[1]"
     ],
     "language": "python",
     "metadata": {},
     "outputs": [
      {
       "metadata": {},
       "output_type": "pyout",
       "prompt_number": 16,
       "text": [
        "'Baum'"
       ]
      }
     ],
     "prompt_number": 16
    },
    {
     "cell_type": "markdown",
     "metadata": {},
     "source": [
      "### Entfernen\n",
      "\n",
      "Ein Element an einer bestimmten Position wird mit `del <list>[idx]` entfernt."
     ]
    },
    {
     "cell_type": "code",
     "collapsed": false,
     "input": [
      "del l[3]\n",
      "l"
     ],
     "language": "python",
     "metadata": {},
     "outputs": [
      {
       "metadata": {},
       "output_type": "pyout",
       "prompt_number": 17,
       "text": [
        "[5, 'Baum', -1, 3.14159265]"
       ]
      }
     ],
     "prompt_number": 17
    },
    {
     "cell_type": "markdown",
     "metadata": {},
     "source": [
      "### Verl\u00e4ngern mittels `.append(...)`"
     ]
    },
    {
     "cell_type": "code",
     "collapsed": false,
     "input": [
      "l.append(\"Gartenzwerg\")\n",
      "l"
     ],
     "language": "python",
     "metadata": {},
     "outputs": [
      {
       "metadata": {},
       "output_type": "pyout",
       "prompt_number": 18,
       "text": [
        "[5, 'Baum', -1, 3.14159265, 'Gartenzwerg']"
       ]
      }
     ],
     "prompt_number": 18
    },
    {
     "cell_type": "markdown",
     "metadata": {},
     "source": [
      "**Quiz:** Was passiert mit l, wenn die vorhergehende `append` Funktion zweimal ausgef\u00fchrt wird?"
     ]
    },
    {
     "cell_type": "markdown",
     "metadata": {},
     "source": [
      "Verwandt mit `append` ist die Methode **`pop()`**, welches das letzte Element aus der Liste entfernt und zur\u00fcckgibt.\n",
      "Sehr n\u00fctzlich, um einen dynmischen [Stack](http://en.wikipedia.org/wiki/Stack_%28abstract_data_type%29) in einer Schleife zu verwalten."
     ]
    },
    {
     "cell_type": "code",
     "collapsed": false,
     "input": [
      "while len(l) > 0:\n",
      "    e = l.pop()\n",
      "    print(e)"
     ],
     "language": "python",
     "metadata": {},
     "outputs": [
      {
       "output_type": "stream",
       "stream": "stdout",
       "text": [
        "Gartenzwerg\n",
        "3.14159265\n",
        "-1\n",
        "Baum\n",
        "5\n"
       ]
      }
     ],
     "prompt_number": 19
    },
    {
     "cell_type": "markdown",
     "metadata": {},
     "source": [
      "### Erweitern, Einf\u00fcgen, Umdrehen, ...\n",
      "\n",
      "Neben diesen grunds\u00e4tzlichen Funktionen gibt es noch einige weitere:"
     ]
    },
    {
     "cell_type": "markdown",
     "metadata": {},
     "source": [
      "* `list.extend(...)`: erweitern der Liste um alle Elemente in dem \u00fcbergebenen iterierbaren Ausdruck."
     ]
    },
    {
     "cell_type": "code",
     "collapsed": false,
     "input": [
      "l = [42, 5, -1]\n",
      "l.extend(range(10))\n",
      "print(l)"
     ],
     "language": "python",
     "metadata": {},
     "outputs": [
      {
       "output_type": "stream",
       "stream": "stdout",
       "text": [
        "[42, 5, -1, 0, 1, 2, 3, 4, 5, 6, 7, 8, 9]\n"
       ]
      }
     ],
     "prompt_number": 20
    },
    {
     "cell_type": "markdown",
     "metadata": {},
     "source": [
      "* `list1 + list2`: zwei Listen k\u00f6nnen addiert werden."
     ]
    },
    {
     "cell_type": "code",
     "collapsed": false,
     "input": [
      "l1 = [5, 1]\n",
      "l2 = [\"u\", \"v\"]\n",
      "l1 + l2"
     ],
     "language": "python",
     "metadata": {},
     "outputs": [
      {
       "metadata": {},
       "output_type": "pyout",
       "prompt_number": 21,
       "text": [
        "[5, 1, 'u', 'v']"
       ]
      }
     ],
     "prompt_number": 21
    },
    {
     "cell_type": "markdown",
     "metadata": {},
     "source": [
      "* `insert(i, obj)`: einf\u00fcgen an Stelle `i`"
     ]
    },
    {
     "cell_type": "code",
     "collapsed": false,
     "input": [
      "f = [1, 2, 3]\n",
      "f.insert(1, \"kk\")\n",
      "f"
     ],
     "language": "python",
     "metadata": {},
     "outputs": [
      {
       "metadata": {},
       "output_type": "pyout",
       "prompt_number": 22,
       "text": [
        "[1, 'kk', 2, 3]"
       ]
      }
     ],
     "prompt_number": 22
    },
    {
     "cell_type": "code",
     "collapsed": false,
     "input": [
      "f.reverse()\n",
      "f"
     ],
     "language": "python",
     "metadata": {},
     "outputs": [
      {
       "metadata": {},
       "output_type": "pyout",
       "prompt_number": 23,
       "text": [
        "[3, 2, 'kk', 1]"
       ]
      }
     ],
     "prompt_number": 23
    },
    {
     "cell_type": "markdown",
     "metadata": {},
     "source": [
      "**Bemerkung:** eng verwandt ist dies mit dem Schl\u00fcsselwort `reversed(...)`.\n",
      "Es hat den gro\u00dfen Unterschied, dass die Reihenfolge *innerhalb* der Liste nicht ver\u00e4ndert wird.\n",
      "Das ist \u00fcblicherweise das gew\u00fcnschte Verhalten!\n",
      "Dies ist auch mit dem Verhalten von `f[::-1]` \u00e4quivalent."
     ]
    },
    {
     "cell_type": "code",
     "collapsed": false,
     "input": [
      "p = [2, 3, 5, 7, 11]\n",
      "list(reversed(p))"
     ],
     "language": "python",
     "metadata": {},
     "outputs": [
      {
       "metadata": {},
       "output_type": "pyout",
       "prompt_number": 24,
       "text": [
        "[11, 7, 5, 3, 2]"
       ]
      }
     ],
     "prompt_number": 24
    },
    {
     "cell_type": "code",
     "collapsed": false,
     "input": [
      "p"
     ],
     "language": "python",
     "metadata": {},
     "outputs": [
      {
       "metadata": {},
       "output_type": "pyout",
       "prompt_number": 25,
       "text": [
        "[2, 3, 5, 7, 11]"
       ]
      }
     ],
     "prompt_number": 25
    },
    {
     "cell_type": "markdown",
     "metadata": {},
     "source": [
      "**Bemerkung:** Hier handelt es sich au\u00dferdem um einen Iterator, welcher erst bei Bedarf (engl. \"lazy evaluation\") tats\u00e4chlich die Liste abarbeiter.\n",
      "Dieses Abarbeiten wird mit dem `list(...)` Befehl explizit erzwungen, ist aber \u00fcblicherweise nicht notwendig (z.B. in `for` oder `while` Schleifen).\n",
      "\n",
      "`p[::-1]` liefert keinen Iterator zur\u00fcck:"
     ]
    },
    {
     "cell_type": "code",
     "collapsed": false,
     "input": [
      "print(p[::-1])"
     ],
     "language": "python",
     "metadata": {},
     "outputs": [
      {
       "output_type": "stream",
       "stream": "stdout",
       "text": [
        "[11, 7, 5, 3, 2]\n"
       ]
      }
     ],
     "prompt_number": 26
    },
    {
     "cell_type": "markdown",
     "metadata": {},
     "source": [
      "### Range"
     ]
    },
    {
     "cell_type": "markdown",
     "metadata": {},
     "source": [
      "Die in Python eingebaute Funktion `range(...)` gibt Ganzzahlen in einer Liste aus."
     ]
    },
    {
     "cell_type": "code",
     "collapsed": false,
     "input": [
      "range(10)"
     ],
     "language": "python",
     "metadata": {},
     "outputs": [
      {
       "metadata": {},
       "output_type": "pyout",
       "prompt_number": 27,
       "text": [
        "[0, 1, 2, 3, 4, 5, 6, 7, 8, 9]"
       ]
      }
     ],
     "prompt_number": 27
    },
    {
     "cell_type": "markdown",
     "metadata": {},
     "source": [
      "und mit zwei oder drei Argumenten gibt man einen Start bei ungleich 0 an, bzw. die Schrittweite:"
     ]
    },
    {
     "cell_type": "code",
     "collapsed": false,
     "input": [
      "range(10, 30, 5)"
     ],
     "language": "python",
     "metadata": {},
     "outputs": [
      {
       "metadata": {},
       "output_type": "pyout",
       "prompt_number": 28,
       "text": [
        "[10, 15, 20, 25]"
       ]
      }
     ],
     "prompt_number": 28
    },
    {
     "cell_type": "code",
     "collapsed": false,
     "input": [
      "range(-10, 10, 2)"
     ],
     "language": "python",
     "metadata": {},
     "outputs": [
      {
       "metadata": {},
       "output_type": "pyout",
       "prompt_number": 29,
       "text": [
        "[-10, -8, -6, -4, -2, 0, 2, 4, 6, 8]"
       ]
      }
     ],
     "prompt_number": 29
    },
    {
     "cell_type": "code",
     "collapsed": false,
     "input": [
      "range(100, 0, -11)"
     ],
     "language": "python",
     "metadata": {},
     "outputs": [
      {
       "metadata": {},
       "output_type": "pyout",
       "prompt_number": 30,
       "text": [
        "[100, 89, 78, 67, 56, 45, 34, 23, 12, 1]"
       ]
      }
     ],
     "prompt_number": 30
    },
    {
     "cell_type": "code",
     "collapsed": false,
     "input": [
      "help(range)"
     ],
     "language": "python",
     "metadata": {},
     "outputs": [
      {
       "output_type": "stream",
       "stream": "stdout",
       "text": [
        "Help on built-in function range in module __builtin__:\n",
        "\n",
        "range(...)\n",
        "    range(stop) -> list of integers\n",
        "    range(start, stop[, step]) -> list of integers\n",
        "    \n",
        "    Return a list containing an arithmetic progression of integers.\n",
        "    range(i, j) returns [i, i+1, i+2, ..., j-1]; start (!) defaults to 0.\n",
        "    When step is given, it specifies the increment (or decrement).\n",
        "    For example, range(4) returns [0, 1, 2, 3].  The end point is omitted!\n",
        "    These are exactly the valid indices for a list of 4 elements.\n",
        "\n"
       ]
      }
     ],
     "prompt_number": 31
    },
    {
     "cell_type": "markdown",
     "metadata": {},
     "source": [
      "## List Comprehension\n",
      "\n",
      "Passend zu Listen gibt es ein Feature von Python zum eleganten Verarbeiten von geordneten Listen, sogenannte \"*list comprehensions*\":"
     ]
    },
    {
     "cell_type": "markdown",
     "metadata": {},
     "source": [
      "Der Ausdruck `2 * i + 3` am Beginn h\u00e4ngt von dem \"i\" (genannt \"Laufvariable\") ab."
     ]
    },
    {
     "cell_type": "code",
     "collapsed": false,
     "input": [
      "[ 2 * i + 3 for i in range(10)]"
     ],
     "language": "python",
     "metadata": {},
     "outputs": [
      {
       "metadata": {},
       "output_type": "pyout",
       "prompt_number": 32,
       "text": [
        "[3, 5, 7, 9, 11, 13, 15, 17, 19, 21]"
       ]
      }
     ],
     "prompt_number": 32
    },
    {
     "cell_type": "markdown",
     "metadata": {},
     "source": [
      "Neben diesem einfachen Beispiel, gibt es auch komplexere Varianten.\n",
      "Hier mit zwei Listen in i und j"
     ]
    },
    {
     "cell_type": "code",
     "collapsed": false,
     "input": [
      "[ i + j for i in range(3) for j in range(10, 40, 10) ]"
     ],
     "language": "python",
     "metadata": {},
     "outputs": [
      {
       "metadata": {},
       "output_type": "pyout",
       "prompt_number": 33,
       "text": [
        "[10, 20, 30, 11, 21, 31, 12, 22, 32]"
       ]
      }
     ],
     "prompt_number": 33
    },
    {
     "cell_type": "markdown",
     "metadata": {},
     "source": [
      "Eine nachgestellte Bedingung an die Laufvariable"
     ]
    },
    {
     "cell_type": "code",
     "collapsed": false,
     "input": [
      "[ k for k in range(-10, 10) if k > 3]"
     ],
     "language": "python",
     "metadata": {},
     "outputs": [
      {
       "metadata": {},
       "output_type": "pyout",
       "prompt_number": 34,
       "text": [
        "[4, 5, 6, 7, 8, 9]"
       ]
      }
     ],
     "prompt_number": 34
    },
    {
     "cell_type": "code",
     "collapsed": false,
     "input": [
      "# Die Listen k\u00f6nnen beliebig sein\n",
      "temps = [-10.1, -11.2, -8.5, -7.1, -6.0]\n",
      "[ temp**2 for temp in temps if temp > -8]"
     ],
     "language": "python",
     "metadata": {},
     "outputs": [
      {
       "metadata": {},
       "output_type": "pyout",
       "prompt_number": 35,
       "text": [
        "[50.41, 36.0]"
       ]
      }
     ],
     "prompt_number": 35
    },
    {
     "cell_type": "markdown",
     "metadata": {},
     "source": [
      "**Bemerkung**: Eine technische Finesse an \"list comprehensions\" ist,\n",
      "dass deren Ergebnis wieder eine Liste ist.\n",
      "Daher ist es nicht ungew\u00f6hnlich, verschachtelte list comprehensions anzutreffen!"
     ]
    },
    {
     "cell_type": "code",
     "collapsed": false,
     "input": [
      "# Die 10x10 Multiplikationstabelle ist schnell erzeugt\n",
      "[ [i*j for j in range(1,11)] for i in range(1,11)]"
     ],
     "language": "python",
     "metadata": {},
     "outputs": [
      {
       "metadata": {},
       "output_type": "pyout",
       "prompt_number": 36,
       "text": [
        "[[1, 2, 3, 4, 5, 6, 7, 8, 9, 10],\n",
        " [2, 4, 6, 8, 10, 12, 14, 16, 18, 20],\n",
        " [3, 6, 9, 12, 15, 18, 21, 24, 27, 30],\n",
        " [4, 8, 12, 16, 20, 24, 28, 32, 36, 40],\n",
        " [5, 10, 15, 20, 25, 30, 35, 40, 45, 50],\n",
        " [6, 12, 18, 24, 30, 36, 42, 48, 54, 60],\n",
        " [7, 14, 21, 28, 35, 42, 49, 56, 63, 70],\n",
        " [8, 16, 24, 32, 40, 48, 56, 64, 72, 80],\n",
        " [9, 18, 27, 36, 45, 54, 63, 72, 81, 90],\n",
        " [10, 20, 30, 40, 50, 60, 70, 80, 90, 100]]"
       ]
      }
     ],
     "prompt_number": 36
    },
    {
     "cell_type": "code",
     "collapsed": false,
     "input": [
      "# bzw. mit einer weiteren Bedingung an die innere list comprehension\n",
      "[[i*j for j in range(1,11) if i-j > -1] for i in range(1,11)]"
     ],
     "language": "python",
     "metadata": {},
     "outputs": [
      {
       "metadata": {},
       "output_type": "pyout",
       "prompt_number": 37,
       "text": [
        "[[1],\n",
        " [2, 4],\n",
        " [3, 6, 9],\n",
        " [4, 8, 12, 16],\n",
        " [5, 10, 15, 20, 25],\n",
        " [6, 12, 18, 24, 30, 36],\n",
        " [7, 14, 21, 28, 35, 42, 49],\n",
        " [8, 16, 24, 32, 40, 48, 56, 64],\n",
        " [9, 18, 27, 36, 45, 54, 63, 72, 81],\n",
        " [10, 20, 30, 40, 50, 60, 70, 80, 90, 100]]"
       ]
      }
     ],
     "prompt_number": 37
    },
    {
     "cell_type": "code",
     "collapsed": false,
     "input": [],
     "language": "python",
     "metadata": {},
     "outputs": [],
     "prompt_number": 37
    },
    {
     "cell_type": "markdown",
     "metadata": {},
     "source": [
      "## Zeichenketten (engl. Strings)\n",
      "\n",
      "Eine ganz wichtige Kategorie von Ausdr\u00fccken sind Zeichenketten (engl. \"strings\").\n",
      "Es handelt sich um einen unver\u00e4nderlichen Vektor von Buchstaben,\n",
      "welche einzelne W\u00f6rter, S\u00e4tze oder ganze Daten/Dateiinhalte bilden k\u00f6nnen.\n",
      "Strings werden zwischen einfachen oder doppelten Anf\u00fchrungszeichen eingegeben,\n",
      "wobei dann die jeweils anderen Anf\u00fchrungszeichen \"gefahrlos\" innerhalb der Zeichenkette verwendet werden k\u00f6nnen:"
     ]
    },
    {
     "cell_type": "code",
     "collapsed": false,
     "input": [
      "print(\"Wort\")\n",
      "print(\"Satz mit einfachen 'Anf\u00fchrungszeichen'.\")\n",
      "print('Andersherum mit \"doppelten\" Anf\u00fchrungszeichen')"
     ],
     "language": "python",
     "metadata": {},
     "outputs": [
      {
       "output_type": "stream",
       "stream": "stdout",
       "text": [
        "Wort\n",
        "Satz mit einfachen 'Anf\u00fchrungszeichen'.\n",
        "Andersherum mit \"doppelten\" Anf\u00fchrungszeichen\n"
       ]
      }
     ],
     "prompt_number": 38
    },
    {
     "cell_type": "markdown",
     "metadata": {},
     "source": [
      "Ein besonderes Zeichen ist der Backslash \"\\\".\n",
      "Das darauf folgende Zeichen kann eine besondere bedeutung haben, z.B steht `\\n` f\u00fcr eine neue Zeile."
     ]
    },
    {
     "cell_type": "code",
     "collapsed": false,
     "input": [
      "print \"Neue Zeile\\ninnerhalb des Strings\""
     ],
     "language": "python",
     "metadata": {},
     "outputs": [
      {
       "output_type": "stream",
       "stream": "stdout",
       "text": [
        "Neue Zeile\n",
        "innerhalb des Strings\n"
       ]
      }
     ],
     "prompt_number": 39
    },
    {
     "cell_type": "markdown",
     "metadata": {},
     "source": [
      "Um das Verhalten des Backslashs zu unterdr\u00fccken,\n",
      "wird der Zeichenkette ein kleines \"`r`\" (f\u00fcr \"raw\") vorangestellt.\n",
      "Dies ist z.B. f\u00fcr LaTeX Kommandos n\u00fctzlich, da diese Befehle mit einem Backslash beginnen."
     ]
    },
    {
     "cell_type": "code",
     "collapsed": false,
     "input": [
      "print r\"keine \\neu Zeile mit \\LaTeX{}\""
     ],
     "language": "python",
     "metadata": {},
     "outputs": [
      {
       "output_type": "stream",
       "stream": "stdout",
       "text": [
        "keine \\neu Zeile mit \\LaTeX{}\n"
       ]
      }
     ],
     "prompt_number": 40
    },
    {
     "cell_type": "markdown",
     "metadata": {},
     "source": [
      "**Nebenbemerkung:** Um $\\LaTeX{}$ tats\u00e4chlich darstellen zu k\u00f6nnen, muss man hier im IPython Notebook den Interpreter aufrufen:"
     ]
    },
    {
     "cell_type": "code",
     "collapsed": false,
     "input": [
      "from IPython.display import HTML\n",
      "a, b = -10, 10\n",
      "HTML(r\"Kleine Formel mit Variablenersetzung: $$\\int_{%s}^{%s} \\frac{1-x}{\\sin{x}^2+1}\\,\\mathrm{d}x$$\" % (a, b))"
     ],
     "language": "python",
     "metadata": {},
     "outputs": [
      {
       "html": [
        "Kleine Formel mit Variablenersetzung: $$\\int_{-10}^{10} \\frac{1-x}{\\sin{x}^2+1}\\,\\mathrm{d}x$$"
       ],
       "metadata": {},
       "output_type": "pyout",
       "prompt_number": 41,
       "text": [
        "<IPython.core.display.HTML at 0x2dc31d0>"
       ]
      }
     ],
     "prompt_number": 41
    },
    {
     "cell_type": "markdown",
     "metadata": {},
     "source": [
      "Es ist m\u00f6glich, mehrzeilige Zeichenketten anzugeben. Daf\u00fcr werden die umschlie\u00dfenden Anf\u00fchrungszeichen verdreifacht.\n",
      "Das wird f\u00fcr [Dokumentationstexte](4-2-dokumentation.ipynb), Dateneingabe, oder \u00dcbersichtlichkeit verwendet."
     ]
    },
    {
     "cell_type": "code",
     "collapsed": false,
     "input": [
      "x = ur\"\"\"Ein (Python?)-Schlangenbeschw\u00f6rer:\n",
      "\n",
      "      ,'._,`.\n",
      "     (-.___.-)\n",
      "     (-.___.-)\n",
      "     `-.___.-'                  \n",
      "      ((  @ @|              .            __\n",
      "       \\   ` |         ,\\   |`.    @|   |  |      _.-._\n",
      "      __`.`=-=mm===mm:: |   | |`.   |   |  |    ,'=` '=`.\n",
      "     (    `-'|:/  /:/  `/  @| | |   |, @| @|   /---)W(---\\\n",
      "      \\ \\   / /  / /         @| |   '         (----| |----) ,~\n",
      "      |\\ \\ / /| / /            @|              \\---| |---/  |\n",
      "      | \\ V /||/ /                              `.-| |-,'   |\n",
      "      |  `-' |V /                                 \\| |/    @'\n",
      "      |    , |-'                                 __| |__\n",
      "      |    .;: _,-.                         ,--\"\"..| |..\"\"--.\n",
      "      ;;:::' \"    )                        (`--::__|_|__::--')\n",
      "    ,-\"      _,  /                          \\`--...___...--'/   \n",
      "   (    -:--'/  /                           /`--...___...--'\\\n",
      "    \"-._  `\"'._/                           /`---...___...---'\\\n",
      "        \"-._   \"---.                      (`---....___....---')\n",
      "         .' \",._ ,' )                     |`---....___....---'|\n",
      "         /`._|  `|  |                     (`---....___....---') \n",
      "        (   \\    |  /                      \\`---...___...---'/\n",
      "         `.  `,  ^\"\"                        `:--...___...--;'\n",
      "           `.,'               hh              `-._______.-'\n",
      "\n",
      "              --- http://www.chris.com/ascii/ ---\n",
      "\"\"\""
     ],
     "language": "python",
     "metadata": {},
     "outputs": [],
     "prompt_number": 42
    },
    {
     "cell_type": "markdown",
     "metadata": {},
     "source": [
      "Als kleines Extra spiegeln wir ihn:"
     ]
    },
    {
     "cell_type": "code",
     "collapsed": false,
     "input": [
      "for line in x.splitlines():\n",
      "    line = u\"%-80s\" % line\n",
      "    print(line[::-1])"
     ],
     "language": "python",
     "metadata": {},
     "outputs": [
      {
       "output_type": "stream",
       "stream": "stdout",
       "text": [
        "                                              :rer\u00f6whcsebnegnalhcS-)?nohtyP( niE\n",
        "                                                                                \n",
        "                                                                   .`,_.',      \n",
        "                                                                  )-.___.-(     \n",
        "                                                                  )-.___.-(     \n",
        "                                                                  '-.___.-`     \n",
        "                                     __            .              |@ @  ((      \n",
        "                         _.-._      |  |   |@    .`|   \\,         | `   \\       \n",
        "                       .`=' `=',    |  |   |   .`| |   | ::mm===mm=-=`.`__      \n",
        "                      \\---(W)---/   |@ |@ ,|   | | |@  /`  /:/  /:|'-`    (     \n",
        "                  ~, )----| |----(         '   | |@         / /  / /   \\ \\      \n",
        "                   |  /---| |---\\              |@            / / |/ / \\ \\|      \n",
        "                   |   ',-| |-.`                              / /||/ V \\ |      \n",
        "                   '@    /| |\\                                 / V| '-`  |      \n",
        "                        __| |__                                 '-| ,    |      \n",
        "                   .--\"\"..| |..\"\"--,                         .-,_ :;.    |      \n",
        "                  )'--::__|_|__::--`(                        )    \" ':::;;      \n",
        "                   /'--...___...--`\\                          /  ,_      \"-,    \n",
        "                   \\'--...___...--`/                           /  /'--:-    (   \n",
        "                  \\'---...___...---`/                           /_.'\"`  _.-\"    \n",
        "                 )'---....___....---`(                      .---\"   _.-\"        \n",
        "                 |'---....___....---`|                     ) ', _.,\" '.         \n",
        "                 )'---....___....---`(                     |  |`  |_.`/         \n",
        "                  /'---...___...---`\\                      /  |    \\   (        \n",
        "                   ';--...___...--:`                        \"\"^  ,`  .`         \n",
        "                     '-._______.-`              hh               ',.`           \n",
        "                                                                                \n",
        "                               --- /iicsa/moc.sirhc.www//:ptth ---              \n"
       ]
      }
     ],
     "prompt_number": 43
    },
    {
     "cell_type": "markdown",
     "metadata": {},
     "source": [
      "Eventuell ist aufgefallen, dass vor der Zeichenkette neben dem \"`r`\" auch ein \"`u`\" steht?\n",
      "Das ist ein Einstellung,\n",
      "um [Unicode](http://en.wikipedia.org/wiki/Unicode) als Kodierung der Buchstaben zu verwenden.\n",
      "Nur so werden die Umlaute der deutschen Sprache wieder richtig dargestellt.\n",
      "Dies ist nur f\u00fcr Python Version 2 notwendig, Python 3 verwendet standardm\u00e4\u00dfig Unicode."
     ]
    },
    {
     "cell_type": "markdown",
     "metadata": {},
     "source": [
      "## Dict(ionary)\n",
      "\n",
      "Ein `dict` ist eine assoziative Datenstruktur.\n",
      "Elemente werden zwischen zwei Mengen surjektiv abgebildet.\n",
      "Erzeugt wird diese Datenstruktur mittels **geschwungener** Klammern `{ ... : ... , ... : ... , ... }` bzw. dem Schl\u00fcsselwort `dict`.\n",
      "Der Sinn ist, dass eine Beziehung hergestellt wird, welche z.B. eine Namensgebung f\u00fcr bestimmte Eigenschaften sein kann.\n",
      "Der \"Name\" wird hier \"Schl\u00fcssel\" (engl. \"key\") genannt und der dazugeh\u00f6rige Wert \"Wert\" (engl. \"value\").\n",
      "\n",
      "Dies ist ganz analog zu einer Variablen,\n",
      "jedoch lebt diese Variable nun innerhalb einer Datenstruktur.\n",
      "Dies `dict` merkt sich dabei nicht die Reihenfolge der Elemente!\n",
      "\n",
      "Ein Beispiel:"
     ]
    },
    {
     "cell_type": "code",
     "collapsed": false,
     "input": [
      "alter = {\"Clara\": 21, \"Christian\": 19, \"Ciara\": 23, \"Claus\": 28}\n",
      "print(alter)"
     ],
     "language": "python",
     "metadata": {},
     "outputs": [
      {
       "output_type": "stream",
       "stream": "stdout",
       "text": [
        "{'Christian': 19, 'Claus': 28, 'Clara': 21, 'Ciara': 23}\n"
       ]
      }
     ],
     "prompt_number": 44
    },
    {
     "cell_type": "code",
     "collapsed": false,
     "input": [
      "size = dict(jim = 181, jane = 172, joe = 190, julia = 165)\n",
      "size"
     ],
     "language": "python",
     "metadata": {},
     "outputs": [
      {
       "metadata": {},
       "output_type": "pyout",
       "prompt_number": 45,
       "text": [
        "{'jane': 172, 'jim': 181, 'joe': 190, 'julia': 165}"
       ]
      }
     ],
     "prompt_number": 45
    },
    {
     "cell_type": "markdown",
     "metadata": {},
     "source": [
      "Elemente k\u00f6nnen \u00e4hnlich wie Listen ausgelesen werden:"
     ]
    },
    {
     "cell_type": "code",
     "collapsed": false,
     "input": [
      "alter[\"Ciara\"]"
     ],
     "language": "python",
     "metadata": {},
     "outputs": [
      {
       "metadata": {},
       "output_type": "pyout",
       "prompt_number": 46,
       "text": [
        "23"
       ]
      }
     ],
     "prompt_number": 46
    },
    {
     "cell_type": "code",
     "collapsed": false,
     "input": [
      "size[\"julia\"]"
     ],
     "language": "python",
     "metadata": {},
     "outputs": [
      {
       "metadata": {},
       "output_type": "pyout",
       "prompt_number": 47,
       "text": [
        "165"
       ]
      }
     ],
     "prompt_number": 47
    },
    {
     "cell_type": "markdown",
     "metadata": {},
     "source": [
      "Ebenso verh\u00e4lt es sich mit L\u00f6sch- und Gr\u00f6\u00dfenfunktionen:"
     ]
    },
    {
     "cell_type": "code",
     "collapsed": false,
     "input": [
      "len(alter)"
     ],
     "language": "python",
     "metadata": {},
     "outputs": [
      {
       "metadata": {},
       "output_type": "pyout",
       "prompt_number": 48,
       "text": [
        "4"
       ]
      }
     ],
     "prompt_number": 48
    },
    {
     "cell_type": "code",
     "collapsed": false,
     "input": [
      "del alter[\"Claus\"]\n",
      "alter"
     ],
     "language": "python",
     "metadata": {},
     "outputs": [
      {
       "metadata": {},
       "output_type": "pyout",
       "prompt_number": 49,
       "text": [
        "{'Christian': 19, 'Ciara': 23, 'Clara': 21}"
       ]
      }
     ],
     "prompt_number": 49
    },
    {
     "cell_type": "markdown",
     "metadata": {},
     "source": [
      "**Iterationen** \u00fcber maps gehen leicht von der Hand. Entweder nur \u00fcber die \"`keys`\" oder sowohl \u00fcber die Schl\u00fcsselw\u00f6rter als auch \u00fcber die Werte:"
     ]
    },
    {
     "cell_type": "code",
     "collapsed": false,
     "input": [
      "for key in alter:\n",
      "    print(key)"
     ],
     "language": "python",
     "metadata": {},
     "outputs": [
      {
       "output_type": "stream",
       "stream": "stdout",
       "text": [
        "Christian\n",
        "Clara\n",
        "Ciara\n"
       ]
      }
     ],
     "prompt_number": 50
    },
    {
     "cell_type": "code",
     "collapsed": false,
     "input": [
      "for key, value in alter.iteritems():\n",
      "    print(\"%-10s => %s\" % (key, value))"
     ],
     "language": "python",
     "metadata": {},
     "outputs": [
      {
       "output_type": "stream",
       "stream": "stdout",
       "text": [
        "Christian  => 19\n",
        "Clara      => 21\n",
        "Ciara      => 23\n"
       ]
      }
     ],
     "prompt_number": 51
    },
    {
     "cell_type": "markdown",
     "metadata": {},
     "source": [
      "**Bemerkung:** die Methode `.iteritems` ist hier entscheidend."
     ]
    },
    {
     "cell_type": "code",
     "collapsed": false,
     "input": [
      "help(alter.iteritems)"
     ],
     "language": "python",
     "metadata": {},
     "outputs": [
      {
       "output_type": "stream",
       "stream": "stdout",
       "text": [
        "Help on built-in function iteritems:\n",
        "\n",
        "iteritems(...)\n",
        "    D.iteritems() -> an iterator over the (key, value) items of D\n",
        "\n"
       ]
      }
     ],
     "prompt_number": 52
    },
    {
     "cell_type": "code",
     "collapsed": false,
     "input": [],
     "language": "python",
     "metadata": {},
     "outputs": [],
     "prompt_number": 52
    },
    {
     "cell_type": "code",
     "collapsed": false,
     "input": [],
     "language": "python",
     "metadata": {},
     "outputs": [],
     "prompt_number": 52
    },
    {
     "cell_type": "markdown",
     "metadata": {},
     "source": [
      "## Geornetes Dict\n",
      "\n",
      "Die \"Map\" an sich ist nicht sortiert.\n",
      "Es gibt jedoch F\u00e4lle, wo dies w\u00fcnschenswert w\u00e4re.\n",
      "Hierf\u00fcr gibt es `OrderedDict` in dem [collections module](https://docs.python.org/2/library/collections.html):"
     ]
    },
    {
     "cell_type": "code",
     "collapsed": false,
     "input": [
      "from collections import OrderedDict"
     ],
     "language": "python",
     "metadata": {},
     "outputs": [],
     "prompt_number": 53
    },
    {
     "cell_type": "code",
     "collapsed": false,
     "input": [
      "od = OrderedDict()\n",
      "od[\"z\"] = 11\n",
      "od[\"a\"] = -1\n",
      "od[\"j\"] = 99\n",
      "od"
     ],
     "language": "python",
     "metadata": {},
     "outputs": [
      {
       "metadata": {},
       "output_type": "pyout",
       "prompt_number": 54,
       "text": [
        "OrderedDict([('z', 11), ('a', -1), ('j', 99)])"
       ]
      }
     ],
     "prompt_number": 54
    },
    {
     "cell_type": "code",
     "collapsed": false,
     "input": [],
     "language": "python",
     "metadata": {},
     "outputs": [],
     "prompt_number": 54
    },
    {
     "cell_type": "markdown",
     "metadata": {},
     "source": [
      "## Verschachtelte Strukturen\n",
      "\n",
      "Es ist nicht ungew\u00f6hnlich, mit verschachtelten Strukturen zu tun zu haben.\n",
      "Dabei gibt es nur wenige Einschr\u00e4nkungen, was alles m\u00f6glich ist.\n",
      "(z.B. darf der Schl\u00fcssel eines `dict` nur eine nichtmodifizierbare Datenstruktur sein (Zahl, String, Tupel))"
     ]
    },
    {
     "cell_type": "code",
     "collapsed": false,
     "input": [
      "# Eine Lehrveranstaltung\n",
      "\n",
      "programmierpraktikum = {\n",
      "    \"titel\": \"Programmierpraktikum\",\n",
      "    \"typ\": \"PR\",\n",
      "    \"stunden\" : 3,\n",
      "    \"ects\" : 5,\n",
      "    \"vortragende\" : [\n",
      "        {\n",
      "            \"name\": \"Harald Schilly\",\n",
      "            \"email\": \"harald.schilly+pp@univie.ac.at\"\n",
      "         },\n",
      "        {\n",
      "            \"name\": \"Martin Piskernig\",\n",
      "            \"email\": \"martin.piskernig+pp@univie.ac.at\"\n",
      "         }\n",
      "    ],\n",
      "    \"termine\": [\n",
      "        {\"zeit\": \"Mittwoch, 15:00\", \"raum\": \"PC Lab\"},\n",
      "        {\"zeit\": \"Donnerstag, 17:30\", \"raum\": \"PC Lab\"},\n",
      "    ]\n",
      "}\n",
      "\n",
      "programmierpraktikum"
     ],
     "language": "python",
     "metadata": {},
     "outputs": [
      {
       "metadata": {},
       "output_type": "pyout",
       "prompt_number": 55,
       "text": [
        "{'ects': 5,\n",
        " 'stunden': 3,\n",
        " 'termine': [{'raum': 'PC Lab', 'zeit': 'Mittwoch, 15:00'},\n",
        "  {'raum': 'PC Lab', 'zeit': 'Donnerstag, 17:30'}],\n",
        " 'titel': 'Programmierpraktikum',\n",
        " 'typ': 'PR',\n",
        " 'vortragende': [{'email': 'harald.schilly+pp@univie.ac.at',\n",
        "   'name': 'Harald Schilly'},\n",
        "  {'email': 'martin.piskernig+pp@univie.ac.at', 'name': 'Martin Piskernig'}]}"
       ]
      }
     ],
     "prompt_number": 55
    },
    {
     "cell_type": "markdown",
     "metadata": {},
     "source": [
      "Auf alle Elemente kann zugegriffen werden, bzw. Werte ver\u00e4ndert werden:"
     ]
    },
    {
     "cell_type": "code",
     "collapsed": false,
     "input": [
      "# Ort des zweiten Termins\n",
      "programmierpraktikum[\"termine\"][1][\"raum\"]"
     ],
     "language": "python",
     "metadata": {},
     "outputs": [
      {
       "metadata": {},
       "output_type": "pyout",
       "prompt_number": 56,
       "text": [
        "'PC Lab'"
       ]
      }
     ],
     "prompt_number": 56
    },
    {
     "cell_type": "code",
     "collapsed": false,
     "input": [
      "# Hinzuf\u00fcgen eines weiteren Vortragenden\n",
      "programmierpraktikum[\"vortragende\"].append(\n",
      "    {\"name\": \"Guido van Rossum\", \n",
      "     \"url\":  \"http://en.wikipedia.org/wiki/Guido_van_Rossum\"})\n",
      "programmierpraktikum[\"vortragende\"]"
     ],
     "language": "python",
     "metadata": {},
     "outputs": [
      {
       "metadata": {},
       "output_type": "pyout",
       "prompt_number": 57,
       "text": [
        "[{'email': 'harald.schilly+pp@univie.ac.at', 'name': 'Harald Schilly'},\n",
        " {'email': 'martin.piskernig+pp@univie.ac.at', 'name': 'Martin Piskernig'},\n",
        " {'name': 'Guido van Rossum',\n",
        "  'url': 'http://en.wikipedia.org/wiki/Guido_van_Rossum'}]"
       ]
      }
     ],
     "prompt_number": 57
    },
    {
     "cell_type": "code",
     "collapsed": false,
     "input": [
      "# Link zum neuen Vortragenden:\n",
      "from IPython.display import HTML\n",
      "guido = programmierpraktikum[\"vortragende\"][-1]\n",
      "HTML(\"<a href='{url}'>{name}</a>\".format(**guido))"
     ],
     "language": "python",
     "metadata": {},
     "outputs": [
      {
       "html": [
        "<a href='http://en.wikipedia.org/wiki/Guido_van_Rossum'>Guido van Rossum</a>"
       ],
       "metadata": {},
       "output_type": "pyout",
       "prompt_number": 58,
       "text": [
        "<IPython.core.display.HTML at 0x2ddd110>"
       ]
      }
     ],
     "prompt_number": 58
    },
    {
     "cell_type": "code",
     "collapsed": false,
     "input": [],
     "language": "python",
     "metadata": {},
     "outputs": [],
     "prompt_number": 58
    }
   ],
   "metadata": {}
  }
 ]
}
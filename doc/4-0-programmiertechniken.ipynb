{
 "metadata": {
  "name": "",
  "signature": "sha256:c380022c13386d6b138b07ae83ea0f8f6e341a25233bcf1ee2ab5e4929e29924"
 },
 "nbformat": 3,
 "nbformat_minor": 0,
 "worksheets": [
  {
   "cells": [
    {
     "cell_type": "markdown",
     "metadata": {},
     "source": [
      "# Programmiertechniken\n",
      "\n",
      "Dieses Kapitel beschreibt diverse weiterf\u00fchrende Techniken:\n",
      "Exceptions, Dokumentation, eigenst\u00e4ndige Programme, Datenschnittstellen, Netzwerk- & Internetverbindungen, fortgeschrittene Programmierkonzepte, ...\n",
      "\n",
      "Die Sammlung all dieser Werkzeuge ist die Basis eines erfolgreichen Programmierers und Programmiererin.\n",
      "\n",
      "Nun folgend werden einige Grundkonzepte kurz vorgestellt,\n",
      "die weiteren Unterkapitel behandeln einzelne Themen genauer."
     ]
    },
    {
     "cell_type": "markdown",
     "metadata": {},
     "source": [
      "## Exception/Errors (Ausnahmebehandlung)\n",
      "\n",
      "Gibt es einen Fehler, einen unvorhergesehenen Zustand oder einen falschen bzw. unerwarteten  Wert,\n",
      "so erlauben \"`Exception`\"s und \"`Error`\"s das Programm abzubrechen.\n",
      "Dabei handelt es sich um ein Objekt, das die Fehlermeldung beinhaltet und zu einem bestimmten Typ geh\u00f6rt.\n",
      "\n",
      "Es gibt auch es die M\u00f6glichkeit eine Exception aufzuhalten.\n",
      "Dann bricht das Programm nicht vollst\u00e4ndig ab,\n",
      "sondern l\u00e4uft an der Stelle wo die Exception aufgefangen wurde weiter.\n",
      "\n",
      "Beispiel: Eine Funktion erwartet, dass ihr eine positive Zahl \u00fcbergeben wird.\n",
      "Es wird jedoch eine negative \u00dcbergeben und die \"Katastrophe\" abgewendet."
     ]
    },
    {
     "cell_type": "code",
     "collapsed": false,
     "input": [
      "def f(x):\n",
      "    if x < 0:\n",
      "        raise ValueError(\"x ist negativ!\")\n",
      "    from math import sqrt\n",
      "    return sqrt(x) - 1"
     ],
     "language": "python",
     "metadata": {},
     "outputs": [],
     "prompt_number": 2
    },
    {
     "cell_type": "code",
     "collapsed": false,
     "input": [
      "f(2)"
     ],
     "language": "python",
     "metadata": {},
     "outputs": [
      {
       "metadata": {},
       "output_type": "pyout",
       "prompt_number": 3,
       "text": [
        "0.41421356237309515"
       ]
      }
     ],
     "prompt_number": 3
    },
    {
     "cell_type": "code",
     "collapsed": false,
     "input": [
      "f(-2)"
     ],
     "language": "python",
     "metadata": {},
     "outputs": [
      {
       "ename": "ValueError",
       "evalue": "x ist negativ!",
       "output_type": "pyerr",
       "traceback": [
        "\u001b[1;31m---------------------------------------------------------------------------\u001b[0m\n\u001b[1;31mValueError\u001b[0m                                Traceback (most recent call last)",
        "\u001b[1;32m<ipython-input-4-0b4aa96ed178>\u001b[0m in \u001b[0;36m<module>\u001b[1;34m()\u001b[0m\n\u001b[1;32m----> 1\u001b[1;33m \u001b[0mf\u001b[0m\u001b[1;33m(\u001b[0m\u001b[1;33m-\u001b[0m\u001b[1;36m2\u001b[0m\u001b[1;33m)\u001b[0m\u001b[1;33m\u001b[0m\u001b[0m\n\u001b[0m",
        "\u001b[1;32m<ipython-input-2-5236570ce6fc>\u001b[0m in \u001b[0;36mf\u001b[1;34m(x)\u001b[0m\n\u001b[0;32m      1\u001b[0m \u001b[1;32mdef\u001b[0m \u001b[0mf\u001b[0m\u001b[1;33m(\u001b[0m\u001b[0mx\u001b[0m\u001b[1;33m)\u001b[0m\u001b[1;33m:\u001b[0m\u001b[1;33m\u001b[0m\u001b[0m\n\u001b[0;32m      2\u001b[0m     \u001b[1;32mif\u001b[0m \u001b[0mx\u001b[0m \u001b[1;33m<\u001b[0m \u001b[1;36m0\u001b[0m\u001b[1;33m:\u001b[0m\u001b[1;33m\u001b[0m\u001b[0m\n\u001b[1;32m----> 3\u001b[1;33m         \u001b[1;32mraise\u001b[0m \u001b[0mValueError\u001b[0m\u001b[1;33m(\u001b[0m\u001b[1;34m\"x ist negativ!\"\u001b[0m\u001b[1;33m)\u001b[0m\u001b[1;33m\u001b[0m\u001b[0m\n\u001b[0m\u001b[0;32m      4\u001b[0m     \u001b[1;32mfrom\u001b[0m \u001b[0mmath\u001b[0m \u001b[1;32mimport\u001b[0m \u001b[0msqrt\u001b[0m\u001b[1;33m\u001b[0m\u001b[0m\n\u001b[0;32m      5\u001b[0m     \u001b[1;32mreturn\u001b[0m \u001b[0msqrt\u001b[0m\u001b[1;33m(\u001b[0m\u001b[0mx\u001b[0m\u001b[1;33m)\u001b[0m \u001b[1;33m-\u001b[0m \u001b[1;36m1\u001b[0m\u001b[1;33m\u001b[0m\u001b[0m\n",
        "\u001b[1;31mValueError\u001b[0m: x ist negativ!"
       ]
      }
     ],
     "prompt_number": 4
    },
    {
     "cell_type": "markdown",
     "metadata": {},
     "source": [
      "Nun fangen wir diesen Fehler mit einer `try`-`except` Konstruktion ab:"
     ]
    },
    {
     "cell_type": "code",
     "collapsed": false,
     "input": [
      "def outer(k = 2):\n",
      "    try:\n",
      "        x = k - 10\n",
      "        z = f(x)\n",
      "        print(\"Kein Problem, z=%f\" % z)\n",
      "    except Exception as e:\n",
      "        print(\"Es gab einen Fehler: %s\" % e)\n",
      "        # r\u00fcckgabe von 0 als fallback\n",
      "        return 0\n",
      "    return z"
     ],
     "language": "python",
     "metadata": {},
     "outputs": [],
     "prompt_number": 42
    },
    {
     "cell_type": "code",
     "collapsed": false,
     "input": [
      "outer()"
     ],
     "language": "python",
     "metadata": {},
     "outputs": [
      {
       "output_type": "stream",
       "stream": "stdout",
       "text": [
        "Es gab einen Fehler: x ist negativ!\n"
       ]
      },
      {
       "metadata": {},
       "output_type": "pyout",
       "prompt_number": 43,
       "text": [
        "0"
       ]
      }
     ],
     "prompt_number": 43
    },
    {
     "cell_type": "code",
     "collapsed": false,
     "input": [
      "outer(12)"
     ],
     "language": "python",
     "metadata": {},
     "outputs": [
      {
       "output_type": "stream",
       "stream": "stdout",
       "text": [
        "Kein Problem, z=0.414214\n"
       ]
      },
      {
       "metadata": {},
       "output_type": "pyout",
       "prompt_number": 44,
       "text": [
        "0.41421356237309515"
       ]
      }
     ],
     "prompt_number": 44
    },
    {
     "cell_type": "markdown",
     "metadata": {},
     "source": [
      "**Beachte:** Die Zeile `print(\"Kein Problem...\")` wird nur dann ausgef\u00fchrt,\n",
      "wenn es keine Exception gab.\n",
      "Soll ein Code in jedem Fall ausgef\u00fchrt werden, gibt es noch das `finally:` Schl\u00fcsselwort.\n",
      "Soll hingegen wenn es keinen Fehler gab ein Codeblock ausgef\u00fchrt werden,\n",
      "schreibt man dies in ein `else:`.\n",
      "\n",
      "Zusammengefasst ist die volle Struktur so:\n",
      "\n",
      "```\n",
      "try:\n",
      "    ... f\u00fchre aus ...\n",
      "    ... mit m\u00f6glichen ...\n",
      "    ... Fehlern ...\n",
      "except FehlerTyp as variable:\n",
      "    ... Fehlerbehandlung des Fehlers <variable> ...\n",
      "finally:\n",
      "    ... Egal ob Fehler oder nicht ...\n",
      "else:\n",
      "    ... es gab keinen Fehler ...\n",
      "```"
     ]
    },
    {
     "cell_type": "markdown",
     "metadata": {},
     "source": [
      "H\u00e4ufig verwendete Type von Fehlern sind:\n",
      "\n",
      "* ValueError: Wert ist falsch, Typ ok\n",
      "* TypeError: Typ ist flasch\n",
      "\n",
      "https://docs.python.org/2/library/exceptions.html\n",
      "\n",
      "Es ist auch m\u00f6glich, eigene Exceptions zu definieren."
     ]
    },
    {
     "cell_type": "code",
     "collapsed": false,
     "input": [
      "class CrazyException(Exception):\n",
      "    def __init__(self, msg):\n",
      "        super(CrazyException, self).__init__(msg)\n",
      "    def __str__(self):\n",
      "        return \"This is crazy! %s\" % super(CrazyException, self).message"
     ],
     "language": "python",
     "metadata": {},
     "outputs": [],
     "prompt_number": 40
    },
    {
     "cell_type": "code",
     "collapsed": false,
     "input": [
      "print CrazyException(\"Calculation error.\")"
     ],
     "language": "python",
     "metadata": {},
     "outputs": [
      {
       "output_type": "stream",
       "stream": "stdout",
       "text": [
        "This is crazy! Calculation error.\n"
       ]
      }
     ],
     "prompt_number": 41
    },
    {
     "cell_type": "code",
     "collapsed": false,
     "input": [],
     "language": "python",
     "metadata": {},
     "outputs": [],
     "prompt_number": 39
    },
    {
     "cell_type": "code",
     "collapsed": false,
     "input": [],
     "language": "python",
     "metadata": {},
     "outputs": []
    }
   ],
   "metadata": {}
  }
 ]
}
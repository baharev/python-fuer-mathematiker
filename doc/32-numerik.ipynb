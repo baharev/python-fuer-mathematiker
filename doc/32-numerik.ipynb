{
 "metadata": {
  "name": "",
  "signature": "sha256:10eed2f04606f98d8b8ccf7cd7c30d2866ca94f0e143f5b7de5b9308fd0e8365"
 },
 "nbformat": 3,
 "nbformat_minor": 0,
 "worksheets": [
  {
   "cells": [
    {
     "cell_type": "markdown",
     "metadata": {},
     "source": [
      "[INDEX](00-index.ipynb)"
     ]
    },
    {
     "cell_type": "markdown",
     "metadata": {},
     "source": [
      "# Numerisches Rechnen mit NumPy/SciPy\n",
      "\n",
      "Eine Variable kann als Wert mehr als nur einen Skalar beinhalten.\n",
      "Der Schritt zu Vektoren, Matrizen und Tensoren \u00f6ffnet T\u00fcr und Tor um numerische Berechnungen ausdr\u00fccken zu k\u00f6nnen."
     ]
    },
    {
     "cell_type": "markdown",
     "metadata": {},
     "source": [
      "**Beispiel**: Die Variablen $v$ und $w$ soll hier einen Vektor aus $\\mathbb{R}^3$ repr\u00e4sentieren,\n",
      "die Addition und Multiplikation werden elementweise durchgef\u00fchrt,\n",
      "w\u00e4hrend die Transponierung das Skalarprodukt (engl. dot product) durchf\u00fchrt.\n",
      "\n",
      "\\begin{equation}\n",
      "\\begin{aligned}\n",
      "\\text{v + w} &= \\left[ v_i + w_i \\right]_i & \\forall i \\\\\n",
      "\\text{v * w} &= \\left[ v_i * v_i \\right]_i & \\forall i \\\\\n",
      "\\text{v.dot(w)} &= \\sum_i v_i*w_i \\\\\n",
      "\\text{f\u00fcr} \\quad & v,\\,w\\;\\in\\;\\mathbb{R}^3\n",
      "\\end{aligned}\n",
      "\\end{equation}"
     ]
    },
    {
     "cell_type": "markdown",
     "metadata": {},
     "source": [
      "Die Bibliothek `numpy` wird \u00fcblicherweise immer mit dem Kurznamen Alias `np` importiert:"
     ]
    },
    {
     "cell_type": "code",
     "collapsed": false,
     "input": [
      "import numpy as np"
     ],
     "language": "python",
     "metadata": {},
     "outputs": [],
     "prompt_number": 3
    },
    {
     "cell_type": "markdown",
     "metadata": {},
     "source": [
      "Jetzt definieren wir $v$ und $w$, wobei $v = (4,\\,3,\\,-1)$ sein soll und $w$ ein zuf\u00e4llig gew\u00e4hlter Vektor.\n",
      "Dann f\u00fchren wir die Berechnungen durch. "
     ]
    },
    {
     "cell_type": "code",
     "collapsed": false,
     "input": [
      "v = np.array([4,3,-1])\n",
      "w = np.random.rand(3)"
     ],
     "language": "python",
     "metadata": {},
     "outputs": [],
     "prompt_number": 11
    },
    {
     "cell_type": "code",
     "collapsed": false,
     "input": [
      "v"
     ],
     "language": "python",
     "metadata": {},
     "outputs": [
      {
       "metadata": {},
       "output_type": "pyout",
       "prompt_number": 12,
       "text": [
        "array([ 4,  3, -1])"
       ]
      }
     ],
     "prompt_number": 12
    },
    {
     "cell_type": "code",
     "collapsed": false,
     "input": [
      "w"
     ],
     "language": "python",
     "metadata": {},
     "outputs": [
      {
       "metadata": {},
       "output_type": "pyout",
       "prompt_number": 13,
       "text": [
        "array([ 0.48836089,  0.00612433,  0.33666627])"
       ]
      }
     ],
     "prompt_number": 13
    },
    {
     "cell_type": "code",
     "collapsed": false,
     "input": [
      "v + w"
     ],
     "language": "python",
     "metadata": {},
     "outputs": [
      {
       "metadata": {},
       "output_type": "pyout",
       "prompt_number": 14,
       "text": [
        "array([ 4.48836089,  3.00612433, -0.66333373])"
       ]
      }
     ],
     "prompt_number": 14
    },
    {
     "cell_type": "code",
     "collapsed": false,
     "input": [
      "v - w"
     ],
     "language": "python",
     "metadata": {},
     "outputs": [
      {
       "metadata": {},
       "output_type": "pyout",
       "prompt_number": 15,
       "text": [
        "array([ 3.51163911,  2.99387567, -1.33666627])"
       ]
      }
     ],
     "prompt_number": 15
    },
    {
     "cell_type": "code",
     "collapsed": false,
     "input": [
      "v * w"
     ],
     "language": "python",
     "metadata": {},
     "outputs": [
      {
       "metadata": {},
       "output_type": "pyout",
       "prompt_number": 16,
       "text": [
        "array([ 1.95344356,  0.01837299, -0.33666627])"
       ]
      }
     ],
     "prompt_number": 16
    },
    {
     "cell_type": "code",
     "collapsed": false,
     "input": [
      "v.dot(w)"
     ],
     "language": "python",
     "metadata": {},
     "outputs": [
      {
       "metadata": {},
       "output_type": "pyout",
       "prompt_number": 17,
       "text": [
        "1.6351502930581796"
       ]
      }
     ],
     "prompt_number": 17
    },
    {
     "cell_type": "code",
     "collapsed": false,
     "input": [],
     "language": "python",
     "metadata": {},
     "outputs": [],
     "prompt_number": 17
    },
    {
     "cell_type": "markdown",
     "metadata": {},
     "source": [
      "## Optimierung mit SciPy\n",
      "\n",
      "Ein wichtiger Zweig der Numerischen Mathematik ist Optimierung.\n",
      "Diese besteht aus einer Sammlung standardisierter Problemstellungen,\n",
      "welche unter eventuell gegebenen Nebenbedingungen einen Punkt $x \\in \\mathbb{R}^n$ suchen,\n",
      "wo eine gegebene Zielfunktion $f: \\mathbb{R}^n \\rightarrow \\mathbb{R}$ einen minimalen oder maximalen Wert annimmt.\n",
      "\n",
      "Problemstellungen dieser Art finden sich in mannigfaltigen Anwendungsgebieten\n",
      "und bringen diverse Varianten dieser Fragestellung hervor.\n",
      "Die folgenden Beispiele zeigen exemplarisch einige Varianten vor."
     ]
    },
    {
     "cell_type": "code",
     "collapsed": false,
     "input": [],
     "language": "python",
     "metadata": {},
     "outputs": []
    }
   ],
   "metadata": {}
  }
 ]
}
{
 "metadata": {
  "name": "",
  "signature": "sha256:5ceee2c278546a7f973fd821edc11c1c793db21401de04a911123a8ae2a254ed"
 },
 "nbformat": 3,
 "nbformat_minor": 0,
 "worksheets": [
  {
   "cells": [
    {
     "cell_type": "heading",
     "level": 1,
     "metadata": {},
     "source": [
      "IPython Notebook"
     ]
    },
    {
     "cell_type": "markdown",
     "metadata": {},
     "source": [
      "[Python](http://www.python.org) an sich ist ein Interpreter f\u00fcr die Programmiersprache Python mit einer sehr umfangreichen Programmierbibliothek.\n",
      "\n",
      "[IPython](http://www.ipython.org) ist ein ***i***nteraktives System um mit einer laufenden Pythoninstanz arbeiten zu k\u00f6nnen.\n",
      "Dieses Skript ist eine Sammlung sogenannter \"IPython Notebooks\". Diese sind jeweils interaktive Dokumente, welche aus Text, Code, und Codergebnissen bestehen. Daher ist es m\u00f6glich, dieses gesamte Skriptum herunterzuladen und jede Codezelle kann nicht nur lokal ausgef\u00fchrt werden, sondern l\u00e4d auch zum interaktiven Experimentieren ein."
     ]
    },
    {
     "cell_type": "heading",
     "level": 2,
     "metadata": {},
     "source": [
      "Bedienung"
     ]
    },
    {
     "cell_type": "markdown",
     "metadata": {},
     "source": [
      "Start:\n",
      "\n",
      "    $ ipython notebook\n",
      "\n",
      "in der Kommandozeile in einem vorher gew\u00e4hlten Verzeichnis.\n",
      "\n",
      "Es \u00f6ffnet sich dann der standardm\u00e4\u00dfig eingestellte Web-browser f\u00fcr das grafische Interface (engl. GUI).\n",
      "\n",
      "M\u00f6chte man den Browser explizit festlegen, so geschieht dies \u00fcber die Umgebungsvariable `BROWSER`:\n",
      "\n",
      "    $ BROWSER=firefox ipython notebook\n",
      "    \n",
      "bzw. das \u00d6ffnen eines Browserfensters kann so verhindert werden:\n",
      "\n",
      "    $ ipython notebook --no-browser"
     ]
    },
    {
     "cell_type": "markdown",
     "metadata": {},
     "source": [
      "Das IPython Notebook hat zwei Ansichten:\n",
      "\n",
      "* Eine \u00dcbersicht aller Worksheets im aktuellen Verzeichnis -- es kommt also darauf an, von welchem Verzeichnis aus es gestartet wurde.\n",
      "    Ein Klick auf <button class=\"btn\">New Notebook</button> erzeugt ein neues,\n",
      "    welches man mittels Klick auf den Namen passend umbennen kann.\n",
      "* Ein so ge\u00f6ffnetes, einzelnes Notebook hat eine Men\u00fczeile und Buttons zur Bedienung.\n",
      "    Besonders wichtig ist der <button class=\"btn\"><i class=\"icon-play\"></i></button>-Button,\n",
      "    welcher den Code in der aktuellen Zelle ausf\u00fchrt.\n",
      "    Dies kann auch mit der <button class=\"btn\">Shift</button>+<button class=\"btn\">Return</button>\n",
      "    Tastenkombination bewerkstelligt werden.\n",
      "    Hierbei wird f\u00fcr jedes Worksheet im Hintergrund ein sogenannter \"Kernel\" zur Ausf\u00fchrung des Codes gestartet.\n",
      "    Alle Zellen eines Notebooks stehen also miteinander in Beziehung und\n",
      "    f\u00fcr den globalen Status ist die Reihenfolge der ausgef\u00fchrten Zellen relevant -- nicht deren Position oder Existenz!"
     ]
    },
    {
     "cell_type": "markdown",
     "metadata": {},
     "source": [
      "## Tastenkombinationen\n",
      "\n",
      "Die folgenden Tastenkombinationen sind sehr praktisch,\n",
      "und f\u00fcr eine effektive Bedienung unerl\u00e4sslich.\n",
      "\n",
      "Grunds\u00e4tzlich unterscheidet man dabei zwei Bedienmodalid\u00e4ten: **Editermodus** und **Kommandomodus**.\n",
      "Ein Mausklick auf eine Zelle w\u00e4hlt sie aktiv aus, ein Doppelklick und man kann sie editieren.\n",
      "Zur\u00fcck in den Kommandomodous kommt man mit <button class=\"btn\">Esc</button> (ohne Auswertung) bzw. <button class=\"btn\">Shift</button>+<button class=\"btn\">Return</button> (mit Auswertung).\n",
      "\n",
      "* **Kommandomodus**: Dieser Modus erlaubt zwischen den Zellen herumzuspringen, Zellen zu l\u00f6schen, kopieren, verschieben, etc.\n",
      "\n",
      "  * **j/k (bzw. Pfeiltasten)**: vor- bzw. nachfolgende Zelle fokussieren.\n",
      "  * **a/b**: vor- bzw. nach der fokussierten Zelle eine leere Zelle einf\u00fcgen\n",
      "  * **dd**: fokussierte Zelle l\u00f6schen\n",
      "  * **z**: Zellenl\u00f6schung r\u00fcckg\u00e4ngig machen.\n",
      "  * **h**: Hilfe zu allen Modii\n",
      "  * **Ctrl-s**: Speichern\n",
      "  * **Return**: aktivierung des Editiermodus.\n",
      "\n",
      "* **Editiermodus**: Diese dient der Bearbeitung des Inhalts einer ausgew\u00e4hlten Zelle\n",
      "\n",
      "  * **Tab**: \n",
      "     * ohne Markierung: wenn m\u00f6glich, automatisches Vervollst\u00e4ndigen.\n",
      "     * mit Markierung: Einr\u00fccken nach rechts, mit **Shift-Tab** nach links.\n",
      "  * **Shift-Return**: Auswertung der Zelle und vorr\u00fccken zur n\u00e4chsten\n",
      "  * **Ctrl-Return**: Auswerten der Zelle - aber ohne vorr\u00fccken\n",
      "  * **ESC**: R\u00fcckkehr in den Kommandomodus.\n",
      "\n"
     ]
    },
    {
     "cell_type": "markdown",
     "metadata": {},
     "source": [
      "## Autovervollst\u00e4ndigung:\n",
      "\n",
      "Definiere die Variable `autovervollstaendigung`, und anschlie\u00dfend tippe `autov[TAB]` und beachte, was passiert."
     ]
    },
    {
     "cell_type": "code",
     "collapsed": false,
     "input": [
      "autovervollstaendigung = 1"
     ],
     "language": "python",
     "metadata": {},
     "outputs": []
    },
    {
     "cell_type": "code",
     "collapsed": false,
     "input": [
      "autov"
     ],
     "language": "python",
     "metadata": {},
     "outputs": []
    },
    {
     "cell_type": "markdown",
     "metadata": {},
     "source": [
      "## Hilfe\n",
      "\n",
      "Entweder mit `help(...)` oder mit nachgestelltem `?`."
     ]
    },
    {
     "cell_type": "markdown",
     "metadata": {},
     "source": [
      "zu einem Befehl"
     ]
    },
    {
     "cell_type": "code",
     "collapsed": false,
     "input": [
      "help(list)"
     ],
     "language": "python",
     "metadata": {},
     "outputs": []
    },
    {
     "cell_type": "markdown",
     "metadata": {},
     "source": [
      "zu einer Objektinstanz, mittels der jeweiligen Variablen"
     ]
    },
    {
     "cell_type": "code",
     "collapsed": false,
     "input": [
      "l = [2, 3]\n",
      "l?"
     ],
     "language": "python",
     "metadata": {},
     "outputs": []
    },
    {
     "cell_type": "markdown",
     "metadata": {},
     "source": [
      "zu einer Methode einer Objektinstanz"
     ]
    },
    {
     "cell_type": "code",
     "collapsed": false,
     "input": [
      "l.reverse?"
     ],
     "language": "python",
     "metadata": {},
     "outputs": []
    },
    {
     "cell_type": "markdown",
     "metadata": {},
     "source": [
      "oder"
     ]
    },
    {
     "cell_type": "code",
     "collapsed": false,
     "input": [
      "help(l.count)"
     ],
     "language": "python",
     "metadata": {},
     "outputs": []
    },
    {
     "cell_type": "markdown",
     "metadata": {},
     "source": [
      "zu einem ganzen Modul"
     ]
    },
    {
     "cell_type": "code",
     "collapsed": false,
     "input": [
      "import math\n",
      "help(math)"
     ],
     "language": "python",
     "metadata": {},
     "outputs": []
    },
    {
     "cell_type": "markdown",
     "metadata": {},
     "source": [
      "## Global State\n",
      "\n",
      "Das Auswerten der Zellen, und insbesondere das zuweisen von Werten an Variablen, \u00e4ndert den globalen Status.\n",
      "Wie schon erw\u00e4hnt, ist die Reihenfolge und der Code der jeweils ausgef\u00fchrten Zellen relevant -- nicht deren Position oder Existenz.\n",
      "Mit `%whos` kann man sich eine \u00dcbersicht \u00fcber alle aktuellen Variablenwerte verschaffen:"
     ]
    },
    {
     "cell_type": "code",
     "collapsed": false,
     "input": [
      "x = 42\n",
      "y = 2 * x"
     ],
     "language": "python",
     "metadata": {},
     "outputs": []
    },
    {
     "cell_type": "code",
     "collapsed": false,
     "input": [
      "%whos"
     ],
     "language": "python",
     "metadata": {},
     "outputs": [
      {
       "output_type": "stream",
       "stream": "stdout",
       "text": [
        "Variable                 Type      Data/Info\n",
        "--------------------------------------------\n",
        "autovervollstaendigung   int       1\n",
        "l                        list      n=2\n",
        "math                     module    <module 'math' from '/scr<...>2.7/lib-dynload/math.so'>\n",
        "x                        int       42\n",
        "y                        int       84\n"
       ]
      }
     ],
     "prompt_number": 11
    },
    {
     "cell_type": "markdown",
     "metadata": {},
     "source": [
      "Der <button class=\"btn\"><i class=\"icon-repeat\"></i></button>-Button\n",
      "startet den Kernel neu und l\u00f6scht damit alle Variablen und geladenen Module."
     ]
    },
    {
     "cell_type": "markdown",
     "metadata": {},
     "source": [
      "## Zelltypen: Code-, Text- und \u00dcberschriftenzellen\n",
      "\n",
      "Nebst den Codezellen gibt es auch Zellen die Flie\u00dftext oder \u00dcberschriften beinhalten k\u00f6nnen.\n",
      "Dies l\u00e4sst sich f\u00fcr die aktuell gew\u00e4hlte Zelle in dem Dropdownmen\u00fc neben dem Reload-Button einstellen.\n",
      "\n",
      "Die Formatierung ist hierbei vereinfachtes [Markdown](http://daringfireball.net/projects/markdown/syntax), \n",
      "also insbesondere Textauszeichnungen wie: `*wort*`, `_wort_`, `**wort**` oder `[link text](http://url/)`. \u00dcberschriften werden durch ein, zwei oder drei `#` am Zeilenbeginn signalisiert.\n",
      "\n",
      "Um Programmcode anzugeben, ohne dass er ausgef\u00fchrt wird, setzt man ihn in Markdown-Zellen unter verkehrte einfache Anf\u00fchrungszeichen. Mehrzeiliger Code ist zwischen <code>```</code> einzuf\u00fcgen."
     ]
    },
    {
     "cell_type": "markdown",
     "metadata": {},
     "source": [
      "### Beispiel\n",
      "\n",
      "Das ist\n",
      "\n",
      "* *fetter*\n",
      "* _kursiver_ Text mit \n",
      "* `c = od(e)`\n",
      "\n",
      "in einer Aufz\u00e4hlung.\n",
      "\n",
      "Mehrzeilig mit Python Syntaxhighlighting:\n",
      "\n",
      "```python\n",
      "def f(x):\n",
      "    a = x\n",
      "    b = 2\n",
      "    yield (a * b)\n",
      "```"
     ]
    },
    {
     "cell_type": "code",
     "collapsed": false,
     "input": [],
     "language": "python",
     "metadata": {},
     "outputs": []
    }
   ],
   "metadata": {}
  }
 ]
}
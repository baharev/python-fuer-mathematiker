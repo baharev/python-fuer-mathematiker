{
 "metadata": {
  "name": "",
  "signature": "sha256:2b2e599184eda3810f1c44117794e55faef32796a9245ee1c0aca75f616af2dc"
 },
 "nbformat": 3,
 "nbformat_minor": 0,
 "worksheets": [
  {
   "cells": [
    {
     "cell_type": "heading",
     "level": 1,
     "metadata": {},
     "source": [
      "IPython Notebook"
     ]
    },
    {
     "cell_type": "markdown",
     "metadata": {},
     "source": [
      "[Python](http://www.python.org) an sich ist ein Interpreter f\u00fcr die Programmiersprache Python mit einer sehr umfangreichen Programmierbibliothek.\n",
      "\n",
      "[IPython](http://www.ipython.org) ist ein ***i***nteraktives System um mit einer laufenden Pythoninstanz arbeiten zu k\u00f6nnen.\n",
      "Dieses Skript ist eine Sammlung sogenannter \"IPython Notebooks\". Diese sind jeweils interaktive Dokumente, welche aus Text, Code, und Codergebnissen bestehen. Daher ist es m\u00f6glich, dieses gesamte Skriptum herunterzuladen und jede Codezelle kann nicht nur lokal ausgef\u00fchrt werden, sondern l\u00e4d auch zum interaktiven Experimentieren ein."
     ]
    },
    {
     "cell_type": "heading",
     "level": 2,
     "metadata": {},
     "source": [
      "Bedienung"
     ]
    },
    {
     "cell_type": "markdown",
     "metadata": {},
     "source": [
      "Start:\n",
      "\n",
      "    $ ipython notebook\n",
      "\n",
      "in der Kommandozeile in einem vorher gew\u00e4hlten Verzeichnis.\n",
      "\n",
      "Es \u00f6ffnet sich dann der standardm\u00e4\u00dfig eingestellte Web-browser f\u00fcr das grafische Interface (engl. GUI).\n",
      "\n",
      "M\u00f6chte man den Browser explizit festlegen, so geschieht dies \u00fcber die Umgebungsvariable `BROWSER`:\n",
      "\n",
      "    $ BROWSER=firefox ipython notebook\n",
      "    \n",
      "bzw. das \u00d6ffnen eines Browserfensters kann so verhindert werden:\n",
      "\n",
      "    $ ipython notebook --no-browser"
     ]
    },
    {
     "cell_type": "markdown",
     "metadata": {},
     "source": [
      "Das IPython Notebook hat folgende Bedienelemente:\n",
      "\n",
      "* ...\n",
      "* ..."
     ]
    },
    {
     "cell_type": "markdown",
     "metadata": {},
     "source": [
      "## Tastenkombinationen\n",
      "\n",
      "Die folgenden Tastenkombinationen sind sehr praktisch,\n",
      "und f\u00fcr eine effektive Bedienung unerl\u00e4sslich.\n",
      "\n",
      "Grunds\u00e4tzlich unterscheidet man dabei zwei Bedienmodii: Editermodus und Kommandomodus.\n",
      "\n",
      "* **Kommandomodus**: Dieser Modus erlaubt zwischen den Zellen herumzuspringen, Zellen zu l\u00f6schen, kopieren, verschieben, etc.\n",
      "\n",
      "  * **j/k (bzw. Pfeiltasten)**: vor- bzw. nachfolgende Zelle fokussieren.\n",
      "  * **a/b**: vor- bzw. nach der fokussierten Zelle eine leere Zelle einf\u00fcgen\n",
      "  * **dd**: fokussierte Zelle l\u00f6schen\n",
      "  * **z**: Zellenl\u00f6schung r\u00fcckg\u00e4ngig machen.\n",
      "  * **h**: Hilfe zu allen Modii\n",
      "  * **Ctrl-s**: Speichern\n",
      "  * **Return**: aktivierung des Editiermodus.\n",
      "\n",
      "* **Editiermodus**: Diese dient der Bearbeitung des Inhalts einer ausgew\u00e4hlten Zelle\n",
      "\n",
      "  * **Tab**: \n",
      "     * ohne Markierung: wenn m\u00f6glich, automatisches Vervollst\u00e4ndigen.\n",
      "     * mit Markierung: Einr\u00fccken nach rechts, mit **Shift-Tab** nach links.\n",
      "  * **Shift-Return**: Auswertung der Zelle und vorr\u00fccken zur n\u00e4chsten\n",
      "  * **Ctrl-Return**: Auswerten der Zelle - aber ohne vorr\u00fccken\n",
      "  * **ESC**: R\u00fcckkehr in den Kommandomodus.\n",
      "\n"
     ]
    },
    {
     "cell_type": "markdown",
     "metadata": {},
     "source": [
      "Beispiel Autovervollst\u00e4ndigung:\n",
      "\n",
      "Definiere die Variable `autovervollstaendigung`, und anschlie\u00dfend tippe `autov[TAB]` und beachte, was passiert."
     ]
    },
    {
     "cell_type": "code",
     "collapsed": false,
     "input": [
      "autovervollstaendigung = 1"
     ],
     "language": "python",
     "metadata": {},
     "outputs": []
    },
    {
     "cell_type": "code",
     "collapsed": false,
     "input": [
      "autov"
     ],
     "language": "python",
     "metadata": {},
     "outputs": []
    },
    {
     "cell_type": "markdown",
     "metadata": {},
     "source": [
      "## Hilfe\n",
      "\n",
      "Entweder mit `help(...)` oder mit nachgestelltem `?`."
     ]
    },
    {
     "cell_type": "markdown",
     "metadata": {},
     "source": [
      "zu einem Befehl"
     ]
    },
    {
     "cell_type": "code",
     "collapsed": false,
     "input": [
      "help(list)"
     ],
     "language": "python",
     "metadata": {},
     "outputs": []
    },
    {
     "cell_type": "markdown",
     "metadata": {},
     "source": [
      "zu einer Objektinstanz, mittels der jeweiligen Variablen"
     ]
    },
    {
     "cell_type": "code",
     "collapsed": false,
     "input": [
      "l = [2, 3]\n",
      "l?"
     ],
     "language": "python",
     "metadata": {},
     "outputs": []
    },
    {
     "cell_type": "markdown",
     "metadata": {},
     "source": [
      "zu einer Methode einer Objektinstanz"
     ]
    },
    {
     "cell_type": "code",
     "collapsed": false,
     "input": [
      "l.reverse?"
     ],
     "language": "python",
     "metadata": {},
     "outputs": []
    },
    {
     "cell_type": "markdown",
     "metadata": {},
     "source": [
      "oder"
     ]
    },
    {
     "cell_type": "code",
     "collapsed": false,
     "input": [
      "help(l.count)"
     ],
     "language": "python",
     "metadata": {},
     "outputs": []
    },
    {
     "cell_type": "markdown",
     "metadata": {},
     "source": [
      "zu einem ganzen Modul"
     ]
    },
    {
     "cell_type": "code",
     "collapsed": false,
     "input": [
      "import math\n",
      "help(math)"
     ],
     "language": "python",
     "metadata": {},
     "outputs": []
    },
    {
     "cell_type": "code",
     "collapsed": false,
     "input": [],
     "language": "python",
     "metadata": {},
     "outputs": []
    },
    {
     "cell_type": "markdown",
     "metadata": {},
     "source": [
      "## Global State\n",
      "\n",
      "Das Auswerten der Zellen, und insbesondere das zuweisen von Werten an Variablen, \u00e4ndert den globalen Status.\n",
      "Mit `%whos` kann man sich eine \u00dcbersicht \u00fcber alle aktuellen Variablenwerte verschaffen:"
     ]
    },
    {
     "cell_type": "code",
     "collapsed": false,
     "input": [
      "x = 42\n",
      "y = 2 * x"
     ],
     "language": "python",
     "metadata": {},
     "outputs": []
    },
    {
     "cell_type": "code",
     "collapsed": false,
     "input": [
      "%whos"
     ],
     "language": "python",
     "metadata": {},
     "outputs": [
      {
       "output_type": "stream",
       "stream": "stdout",
       "text": [
        "Variable                 Type      Data/Info\n",
        "--------------------------------------------\n",
        "autovervollstaendigung   int       1\n",
        "l                        list      n=2\n",
        "math                     module    <module 'math' from '/scr<...>2.7/lib-dynload/math.so'>\n",
        "x                        int       42\n",
        "y                        int       84\n"
       ]
      }
     ],
     "prompt_number": 11
    },
    {
     "cell_type": "code",
     "collapsed": false,
     "input": [],
     "language": "python",
     "metadata": {},
     "outputs": []
    }
   ],
   "metadata": {}
  }
 ]
}
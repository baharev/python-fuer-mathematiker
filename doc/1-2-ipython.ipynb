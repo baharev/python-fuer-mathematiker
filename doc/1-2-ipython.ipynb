{
 "metadata": {
  "name": "",
  "signature": "sha256:a628d5fbf5dc23b11c76954bc994c9935c6387398fb3f4cc0f8c4c36eed5dd6c"
 },
 "nbformat": 3,
 "nbformat_minor": 0,
 "worksheets": [
  {
   "cells": [
    {
     "cell_type": "heading",
     "level": 1,
     "metadata": {},
     "source": [
      "IPython Notebook"
     ]
    },
    {
     "cell_type": "markdown",
     "metadata": {},
     "source": [
      "[Python](http://www.python.org) an sich ist ein Interpreter f\u00fcr die Programmiersprache Python mit einer sehr umfangreichen Programmierbibliothek.\n",
      "\n",
      "[IPython](http://www.ipython.org) ist ein ***i***nteraktives System um mit einer laufenden Pythoninstanz arbeiten zu k\u00f6nnen.\n",
      "Dieses Skript ist eine Sammlung sogenannter \"IPython Notebooks\". Diese sind jeweils interaktive Dokumente, welche aus Text, Code, und Codergebnissen bestehen. Daher ist es m\u00f6glich, dieses gesamte Skriptum herunterzuladen und jede Codezelle kann nicht nur lokal ausgef\u00fchrt werden, sondern l\u00e4d auch zum interaktiven Experimentieren ein."
     ]
    },
    {
     "cell_type": "heading",
     "level": 2,
     "metadata": {},
     "source": [
      "Bedienung"
     ]
    },
    {
     "cell_type": "markdown",
     "metadata": {},
     "source": [
      "Start:\n",
      "\n",
      "    $ ipython notebook\n",
      "\n",
      "in der Kommandozeile in einem vorher gew\u00e4hlten Verzeichnis.\n",
      "\n",
      "Es \u00f6ffnet sich dann der standardm\u00e4\u00dfig eingestellte Web-browser f\u00fcr das grafische Interface (engl. GUI).\n",
      "\n",
      "M\u00f6chte man den Browser explizit festlegen, so geschieht dies \u00fcber die Umgebungsvariable `BROWSER`:\n",
      "\n",
      "    $ BROWSER=firefox ipython notebook\n",
      "    \n",
      "bzw. das \u00d6ffnen eines Browserfensters kann so verhindert werden:\n",
      "\n",
      "    $ ipython notebook --no-browser"
     ]
    },
    {
     "cell_type": "markdown",
     "metadata": {},
     "source": [
      "Das IPython Notebook hat zwei Ansichten:\n",
      "\n",
      "* Eine \u00dcbersicht aller Worksheets im aktuellen Verzeichnis -- es kommt also darauf an, von welchem Verzeichnis aus es gestartet wurde.\n",
      "    Ein Klick auf <button class=\"btn\">New Notebook</button> erzeugt ein neues,\n",
      "    welches man mittels Klick auf den Namen passend umbennen kann.\n",
      "* Ein so ge\u00f6ffnetes, einzelnes Notebook hat eine Men\u00fczeile und Buttons zur Bedienung.\n",
      "    Besonders wichtig ist der <button class=\"btn\"><i class=\"icon-play\"></i></button>-Button,\n",
      "    welcher den Code in der aktuellen Zelle ausf\u00fchrt.\n",
      "    Dies kann auch mit der <button class=\"btn\">Shift</button>+<button class=\"btn\">Return</button>\n",
      "    Tastenkombination bewerkstelligt werden.\n",
      "    Hierbei wird f\u00fcr jedes Worksheet im Hintergrund ein sogenannter \"Kernel\" zur Ausf\u00fchrung des Codes gestartet.\n",
      "    Alle Zellen eines Notebooks stehen also miteinander in Beziehung und\n",
      "    f\u00fcr den globalen Status ist die Reihenfolge der ausgef\u00fchrten Zellen relevant -- nicht deren Position oder Existenz!"
     ]
    },
    {
     "cell_type": "markdown",
     "metadata": {},
     "source": [
      "## Tastenkombinationen\n",
      "\n",
      "Die folgenden Tastenkombinationen sind sehr praktisch,\n",
      "und f\u00fcr eine effektive Bedienung unerl\u00e4sslich.\n",
      "\n",
      "Grunds\u00e4tzlich unterscheidet man dabei zwei Bedienmodalid\u00e4ten: **Editermodus** und **Kommandomodus**.\n",
      "Ein Mausklick auf eine Zelle w\u00e4hlt sie aktiv aus, ein Doppelklick und man kann sie editieren.\n",
      "Zur\u00fcck in den Kommandomodous kommt man mit <button class=\"btn\">Esc</button> (ohne Auswertung) bzw. <button class=\"btn\">Shift</button>+<button class=\"btn\">Return</button> (mit Auswertung).\n",
      "\n",
      "* **Kommandomodus**: Dieser Modus erlaubt zwischen den Zellen herumzuspringen, Zellen zu l\u00f6schen, kopieren, verschieben, etc.\n",
      "\n",
      "  * **j/k (bzw. Pfeiltasten)**: vor- bzw. nachfolgende Zelle fokussieren.\n",
      "  * **a/b**: vor- bzw. nach der fokussierten Zelle eine leere Zelle einf\u00fcgen\n",
      "  * **dd**: fokussierte Zelle l\u00f6schen\n",
      "  * **z**: Zellenl\u00f6schung r\u00fcckg\u00e4ngig machen.\n",
      "  * **h**: Hilfe zu allen Modii\n",
      "  * **Ctrl-s**: Speichern\n",
      "  * **Return**: aktivierung des Editiermodus.\n",
      "\n",
      "* **Editiermodus**: Diese dient der Bearbeitung des Inhalts einer ausgew\u00e4hlten Zelle\n",
      "\n",
      "  * **Tab**: \n",
      "     * ohne Markierung: wenn m\u00f6glich, automatisches Vervollst\u00e4ndigen.\n",
      "     * mit Markierung: Einr\u00fccken nach rechts, mit **Shift-Tab** nach links.\n",
      "  * **Shift-Return**: Auswertung der Zelle und vorr\u00fccken zur n\u00e4chsten\n",
      "  * **Ctrl-Return**: Auswerten der Zelle - aber ohne vorr\u00fccken\n",
      "  * **ESC**: R\u00fcckkehr in den Kommandomodus.\n",
      "\n"
     ]
    },
    {
     "cell_type": "markdown",
     "metadata": {},
     "source": [
      "## Autovervollst\u00e4ndigung:\n",
      "\n",
      "Definiere die Variable `autovervollstaendigung`, und anschlie\u00dfend tippe `autov[TAB]` und beachte, was passiert."
     ]
    },
    {
     "cell_type": "code",
     "collapsed": false,
     "input": [
      "autovervollstaendigung = 1"
     ],
     "language": "python",
     "metadata": {},
     "outputs": [],
     "prompt_number": 1
    },
    {
     "cell_type": "code",
     "collapsed": false,
     "input": [
      "autov"
     ],
     "language": "python",
     "metadata": {},
     "outputs": []
    },
    {
     "cell_type": "markdown",
     "metadata": {},
     "source": [
      "## Hilfe\n",
      "\n",
      "Entweder mit `help(...)` oder mit nachgestelltem `?`."
     ]
    },
    {
     "cell_type": "markdown",
     "metadata": {},
     "source": [
      "zu einem Befehl"
     ]
    },
    {
     "cell_type": "code",
     "collapsed": false,
     "input": [
      "help(list)"
     ],
     "language": "python",
     "metadata": {},
     "outputs": []
    },
    {
     "cell_type": "markdown",
     "metadata": {},
     "source": [
      "zu einer Objektinstanz, mittels der jeweiligen Variablen"
     ]
    },
    {
     "cell_type": "code",
     "collapsed": false,
     "input": [
      "l = [2, 3]\n",
      "l?"
     ],
     "language": "python",
     "metadata": {},
     "outputs": [],
     "prompt_number": 4
    },
    {
     "cell_type": "markdown",
     "metadata": {},
     "source": [
      "zu einer Methode einer Objektinstanz"
     ]
    },
    {
     "cell_type": "code",
     "collapsed": false,
     "input": [
      "l.reverse?"
     ],
     "language": "python",
     "metadata": {},
     "outputs": [],
     "prompt_number": 5
    },
    {
     "cell_type": "markdown",
     "metadata": {},
     "source": [
      "oder"
     ]
    },
    {
     "cell_type": "code",
     "collapsed": false,
     "input": [
      "help(l.count)"
     ],
     "language": "python",
     "metadata": {},
     "outputs": [
      {
       "output_type": "stream",
       "stream": "stdout",
       "text": [
        "Help on built-in function count:\n",
        "\n",
        "count(...)\n",
        "    L.count(value) -> integer -- return number of occurrences of value\n",
        "\n"
       ]
      }
     ],
     "prompt_number": 6
    },
    {
     "cell_type": "markdown",
     "metadata": {},
     "source": [
      "zu einem ganzen Modul"
     ]
    },
    {
     "cell_type": "code",
     "collapsed": false,
     "input": [
      "import math\n",
      "help(math)"
     ],
     "language": "python",
     "metadata": {},
     "outputs": []
    },
    {
     "cell_type": "markdown",
     "metadata": {},
     "source": [
      "## Global State\n",
      "\n",
      "Das Auswerten der Zellen, und insbesondere das zuweisen von Werten an Variablen, \u00e4ndert den globalen Status.\n",
      "Wie schon erw\u00e4hnt, ist die Reihenfolge und der Code der jeweils ausgef\u00fchrten Zellen relevant -- nicht deren Position oder Existenz.\n",
      "Mit `%whos` kann man sich eine \u00dcbersicht \u00fcber alle aktuellen Variablenwerte verschaffen:"
     ]
    },
    {
     "cell_type": "code",
     "collapsed": false,
     "input": [
      "x = 42\n",
      "y = 2 * x"
     ],
     "language": "python",
     "metadata": {},
     "outputs": [],
     "prompt_number": 8
    },
    {
     "cell_type": "code",
     "collapsed": false,
     "input": [
      "%whos"
     ],
     "language": "python",
     "metadata": {},
     "outputs": [
      {
       "output_type": "stream",
       "stream": "stdout",
       "text": [
        "Variable                 Type      Data/Info\n",
        "--------------------------------------------\n",
        "autovervollstaendigung   int       1\n",
        "l                        list      n=2\n",
        "math                     module    <module 'math' from '/hom<...>2.7/lib-dynload/math.so'>\n",
        "x                        int       42\n",
        "y                        int       84\n"
       ]
      }
     ],
     "prompt_number": 9
    },
    {
     "cell_type": "markdown",
     "metadata": {},
     "source": [
      "Der <button class=\"btn\"><i class=\"icon-repeat\"></i></button>-Button\n",
      "startet den Kernel neu und l\u00f6scht damit alle Variablen und geladenen Module."
     ]
    },
    {
     "cell_type": "markdown",
     "metadata": {},
     "source": [
      "## Zelltypen: Code-, Text- und \u00dcberschriftenzellen\n",
      "\n",
      "Nebst den Codezellen gibt es auch Zellen die Flie\u00dftext oder \u00dcberschriften beinhalten k\u00f6nnen.\n",
      "Dies l\u00e4sst sich f\u00fcr die aktuell gew\u00e4hlte Zelle in dem Dropdownmen\u00fc neben dem Reload-Button einstellen.\n",
      "\n",
      "Die Formatierung ist hierbei vereinfachtes [Markdown](http://daringfireball.net/projects/markdown/syntax), \n",
      "also insbesondere Textauszeichnungen wie: `*wort*`, `_wort_`, `**wort**` oder `[link text](http://url/)`. \u00dcberschriften werden durch ein, zwei oder drei `#` am Zeilenbeginn signalisiert.\n",
      "\n",
      "Um Programmcode anzugeben, ohne dass er ausgef\u00fchrt wird, setzt man ihn in Markdown-Zellen unter verkehrte einfache Anf\u00fchrungszeichen. Mehrzeiliger Code ist zwischen <code>```</code> einzuf\u00fcgen."
     ]
    },
    {
     "cell_type": "markdown",
     "metadata": {},
     "source": [
      "### Beispiel\n",
      "\n",
      "Das ist\n",
      "\n",
      "* *fetter*\n",
      "* _kursiver_ Text mit \n",
      "* `c = od(e)`\n",
      "\n",
      "in einer Aufz\u00e4hlung.\n",
      "\n",
      "Mehrzeilig mit Python Syntaxhighlighting:\n",
      "\n",
      "```python\n",
      "def f(x):\n",
      "    a = x\n",
      "    b = 2\n",
      "    yield (a * b)\n",
      "```"
     ]
    },
    {
     "cell_type": "markdown",
     "metadata": {},
     "source": [
      "## Magic Commands\n",
      "\n",
      "Zellen k\u00f6nnen auch \"magic commands\" beinhalten, welche entweder mit einem oder zwei \"`%%`\" beginnen.\n",
      "Das sind Befehle, welche kein Python sind, sondern nur f\u00fcr IPython und das Notebook bestimmt sind.\n",
      "\n",
      "Das weiter oben angef\u00fchrte Beispiel \"`%whos`\" ist so ein magic command.\n",
      "Andere n\u00fctzliche sind:\n",
      "\n",
      "* `%timeit` bzw. `%%time`: um die Ausf\u00fchrungszeit eines Befehls bzw. einer ganzen zu Messen.\n",
      "* `%writefile <filename>`: um den Inhalt der Zelle in die angegebene Datei zu speichern.\n",
      "* `%cat`: Auslesen einer Textdatei\n",
      "\n",
      "Ein **\"`!`\"** Rufzeichen f\u00fchrt den nachgestellten Code im Terminal des Systems aus.\n",
      "Damit lassen sich lokale Operationen im Dateisystem oder kleine Utilites bequem vom IPython Notebook aus steuern."
     ]
    },
    {
     "cell_type": "markdown",
     "metadata": {},
     "source": [
      "Neben diesen gibt es auch noch eine reihe anderer.\n",
      "Der Magic Befehl \"`%lsmagics`\" listet alle auf."
     ]
    },
    {
     "cell_type": "code",
     "collapsed": false,
     "input": [
      "%lsmagic"
     ],
     "language": "python",
     "metadata": {},
     "outputs": [
      {
       "json": [
        "{\"cell\": {\"prun\": \"ExecutionMagics\", \"file\": \"Other\", \"!\": \"OSMagics\", \"capture\": \"ExecutionMagics\", \"timeit\": \"ExecutionMagics\", \"script\": \"ScriptMagics\", \"pypy\": \"Other\", \"system\": \"OSMagics\", \"perl\": \"Other\", \"HTML\": \"Other\", \"bash\": \"Other\", \"python\": \"Other\", \"SVG\": \"Other\", \"javascript\": \"DisplayMagics\", \"writefile\": \"OSMagics\", \"ruby\": \"Other\", \"python3\": \"Other\", \"python2\": \"Other\", \"latex\": \"DisplayMagics\", \"sx\": \"OSMagics\", \"svg\": \"DisplayMagics\", \"html\": \"DisplayMagics\", \"sh\": \"Other\", \"time\": \"ExecutionMagics\", \"debug\": \"ExecutionMagics\"}, \"line\": {\"psource\": \"NamespaceMagics\", \"logstart\": \"LoggingMagics\", \"popd\": \"OSMagics\", \"loadpy\": \"CodeMagics\", \"install_ext\": \"ExtensionMagics\", \"colors\": \"BasicMagics\", \"who_ls\": \"NamespaceMagics\", \"lf\": \"Other\", \"install_profiles\": \"DeprecatedMagics\", \"ll\": \"Other\", \"pprint\": \"BasicMagics\", \"lk\": \"Other\", \"ls\": \"Other\", \"save\": \"CodeMagics\", \"tb\": \"ExecutionMagics\", \"lx\": \"Other\", \"pylab\": \"PylabMagics\", \"killbgscripts\": \"ScriptMagics\", \"quickref\": \"BasicMagics\", \"magic\": \"BasicMagics\", \"dhist\": \"OSMagics\", \"edit\": \"KernelMagics\", \"logstop\": \"LoggingMagics\", \"gui\": \"BasicMagics\", \"alias_magic\": \"BasicMagics\", \"debug\": \"ExecutionMagics\", \"page\": \"BasicMagics\", \"logstate\": \"LoggingMagics\", \"ed\": \"Other\", \"pushd\": \"OSMagics\", \"timeit\": \"ExecutionMagics\", \"rehashx\": \"OSMagics\", \"hist\": \"Other\", \"qtconsole\": \"KernelMagics\", \"rm\": \"Other\", \"dirs\": \"OSMagics\", \"run\": \"ExecutionMagics\", \"reset_selective\": \"NamespaceMagics\", \"rep\": \"Other\", \"pinfo2\": \"NamespaceMagics\", \"matplotlib\": \"PylabMagics\", \"unload_ext\": \"ExtensionMagics\", \"doctest_mode\": \"KernelMagics\", \"logoff\": \"LoggingMagics\", \"reload_ext\": \"ExtensionMagics\", \"pdb\": \"ExecutionMagics\", \"load\": \"CodeMagics\", \"lsmagic\": \"BasicMagics\", \"autosave\": \"KernelMagics\", \"cd\": \"OSMagics\", \"pastebin\": \"CodeMagics\", \"prun\": \"ExecutionMagics\", \"cp\": \"Other\", \"autocall\": \"AutoMagics\", \"bookmark\": \"OSMagics\", \"connect_info\": \"KernelMagics\", \"mkdir\": \"Other\", \"system\": \"OSMagics\", \"whos\": \"NamespaceMagics\", \"rmdir\": \"Other\", \"automagic\": \"AutoMagics\", \"store\": \"StoreMagics\", \"more\": \"KernelMagics\", \"pdef\": \"NamespaceMagics\", \"precision\": \"BasicMagics\", \"pinfo\": \"NamespaceMagics\", \"pwd\": \"OSMagics\", \"psearch\": \"NamespaceMagics\", \"reset\": \"NamespaceMagics\", \"recall\": \"HistoryMagics\", \"xdel\": \"NamespaceMagics\", \"xmode\": \"BasicMagics\", \"cat\": \"Other\", \"mv\": \"Other\", \"rerun\": \"HistoryMagics\", \"logon\": \"LoggingMagics\", \"history\": \"HistoryMagics\", \"pycat\": \"OSMagics\", \"unalias\": \"OSMagics\", \"install_default_config\": \"DeprecatedMagics\", \"env\": \"OSMagics\", \"load_ext\": \"ExtensionMagics\", \"config\": \"ConfigMagics\", \"profile\": \"BasicMagics\", \"pfile\": \"NamespaceMagics\", \"less\": \"KernelMagics\", \"who\": \"NamespaceMagics\", \"notebook\": \"BasicMagics\", \"man\": \"KernelMagics\", \"sx\": \"OSMagics\", \"macro\": \"ExecutionMagics\", \"clear\": \"KernelMagics\", \"alias\": \"OSMagics\", \"time\": \"ExecutionMagics\", \"sc\": \"OSMagics\", \"ldir\": \"Other\", \"pdoc\": \"NamespaceMagics\"}}"
       ],
       "metadata": {},
       "output_type": "pyout",
       "prompt_number": 21,
       "text": [
        "Available line magics:\n",
        "%alias  %alias_magic  %autocall  %automagic  %autosave  %bookmark  %cat  %cd  %clear  %colors  %config  %connect_info  %cp  %debug  %dhist  %dirs  %doctest_mode  %ed  %edit  %env  %gui  %hist  %history  %install_default_config  %install_ext  %install_profiles  %killbgscripts  %ldir  %less  %lf  %lk  %ll  %load  %load_ext  %loadpy  %logoff  %logon  %logstart  %logstate  %logstop  %ls  %lsmagic  %lx  %macro  %magic  %man  %matplotlib  %mkdir  %more  %mv  %notebook  %page  %pastebin  %pdb  %pdef  %pdoc  %pfile  %pinfo  %pinfo2  %popd  %pprint  %precision  %profile  %prun  %psearch  %psource  %pushd  %pwd  %pycat  %pylab  %qtconsole  %quickref  %recall  %rehashx  %reload_ext  %rep  %rerun  %reset  %reset_selective  %rm  %rmdir  %run  %save  %sc  %store  %sx  %system  %tb  %time  %timeit  %unalias  %unload_ext  %who  %who_ls  %whos  %xdel  %xmode\n",
        "\n",
        "Available cell magics:\n",
        "%%!  %%HTML  %%SVG  %%bash  %%capture  %%debug  %%file  %%html  %%javascript  %%latex  %%perl  %%prun  %%pypy  %%python  %%python2  %%python3  %%ruby  %%script  %%sh  %%svg  %%sx  %%system  %%time  %%timeit  %%writefile\n",
        "\n",
        "Automagic is ON, % prefix IS NOT needed for line magics."
       ]
      }
     ],
     "prompt_number": 21
    },
    {
     "cell_type": "markdown",
     "metadata": {},
     "source": [
      "Beispiele:"
     ]
    },
    {
     "cell_type": "code",
     "collapsed": false,
     "input": [
      "import math\n",
      "%timeit math.sqrt(2)"
     ],
     "language": "python",
     "metadata": {},
     "outputs": [
      {
       "output_type": "stream",
       "stream": "stdout",
       "text": [
        "10000000 loops, best of 3: 109 ns per loop\n"
       ]
      }
     ],
     "prompt_number": 22
    },
    {
     "cell_type": "code",
     "collapsed": false,
     "input": [
      "! ls -1 2-?-*.ipynb"
     ],
     "language": "python",
     "metadata": {},
     "outputs": [
      {
       "output_type": "stream",
       "stream": "stdout",
       "text": [
        "2-0-konzepte.ipynb\r\n",
        "2-1-ausdruecke_und_variablen.ipynb\r\n",
        "2-2-syntax.ipynb\r\n",
        "2-3-funktionen.ipynb\r\n",
        "2-4-kontrollstrukturen.ipynb\r\n",
        "2-5-datenstrukturen.ipynb\r\n",
        "2-6-datentypen_und_objekte.ipynb\r\n",
        "2-7-modularisierung.ipynb\r\n"
       ]
      }
     ],
     "prompt_number": 23
    },
    {
     "cell_type": "markdown",
     "metadata": {},
     "source": [
      "Die R\u00fcckgabe so eines Terminalkommandos nach einem Rufzeichen kann auch in eine lokale Variable gespeichert werden:"
     ]
    },
    {
     "cell_type": "code",
     "collapsed": false,
     "input": [
      "datum = ! date \"+%Y-%m-%d %H:%M\"\n",
      "print(datum[0])"
     ],
     "language": "python",
     "metadata": {},
     "outputs": [
      {
       "output_type": "stream",
       "stream": "stdout",
       "text": [
        "2014-12-25 15:45\n"
       ]
      }
     ],
     "prompt_number": 24
    }
   ],
   "metadata": {}
  }
 ]
}
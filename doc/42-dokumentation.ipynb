{
 "metadata": {
  "name": "",
  "signature": "sha256:7e50a9335af74e601a0f67e8285b40aa3d101d76f004c219cdbe539a904dac4e"
 },
 "nbformat": 3,
 "nbformat_minor": 0,
 "worksheets": [
  {
   "cells": [
    {
     "cell_type": "markdown",
     "metadata": {},
     "source": [
      "# Dokumentation eines Programmes"
     ]
    },
    {
     "cell_type": "markdown",
     "metadata": {},
     "source": [
      "Der reine Programmcode alleine reicht \u00fcblicherweise nicht aus, um das gesamte Programm f\u00fcr andere verst\u00e4ndlich zu machen.\n",
      "Daher gibt es zwei M\u00f6glichkeiten, sogenannte \"_Kommentare_\" einzuf\u00fcgen.\n",
      "\n",
      "* Variante 1: _Zeilenbasiert_\n",
      "\n",
      "Hier schreibt man das Zeichen `#` in den Code, wobei der Rest der Zeile vom Interpreter ignoriert wird.\n",
      "\n",
      "* Variante 2: _Bl\u00f6cke_\n",
      "\n",
      "Diese Variante ist \u00fcblicherweise einger\u00fcckt unter der Signatur einer Funktion oder Methode, bzw. ganz zu Beginn des gesamten Programmmodules. Er beginnt mit `\"\"\"` und endet mehrere Zeilen sp\u00e4ter ebenfalls mit `\"\"\"`. Alles dazwischen wird vom Interpreter ignoriert.\n",
      "\n",
      "Es gibt aber F\u00e4lle, wo es trotzdem verwendet wird. Siehe [Qualit\u00e4tskontrolle/Doctesting](05-qualit\u00e4tskontrolle.ipynb#doctesting)"
     ]
    },
    {
     "cell_type": "code",
     "collapsed": false,
     "input": [],
     "language": "python",
     "metadata": {},
     "outputs": []
    }
   ],
   "metadata": {}
  }
 ]
}
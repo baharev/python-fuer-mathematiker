{
 "metadata": {
  "name": "",
  "signature": "sha256:a08b4a3b2bc68159a05b95fc43faaa3af17c2e90c3b74f93a0997a1edeb817d6"
 },
 "nbformat": 3,
 "nbformat_minor": 0,
 "worksheets": [
  {
   "cells": [
    {
     "cell_type": "markdown",
     "metadata": {},
     "source": [
      "# Konzept 1: Ausdr\u00fccke und Variablen"
     ]
    },
    {
     "cell_type": "markdown",
     "metadata": {},
     "source": [
      "## Ausdr\u00fccke\n",
      "\n",
      "Eine ganz einfache Variante sind einfache Rechnungen.\n",
      "In jeder Zelle stehen in oder mehrere Zeilen Programmcode, die mittels `Shift+Return` ausgewertet werden.\n",
      "(`Ctrl+Return` gibt es auch, es wird hierbei nicht zur n\u00e4chsten Zelle vorw\u00e4rts gesprungen)\n",
      "z.B.:"
     ]
    },
    {
     "cell_type": "code",
     "collapsed": false,
     "input": [
      "3+8"
     ],
     "language": "python",
     "metadata": {},
     "outputs": [
      {
       "metadata": {},
       "output_type": "pyout",
       "prompt_number": 2,
       "text": [
        "11"
       ]
      }
     ],
     "prompt_number": 2
    },
    {
     "cell_type": "code",
     "collapsed": false,
     "input": [
      "5 + (1 + 5) / 2"
     ],
     "language": "python",
     "metadata": {},
     "outputs": [
      {
       "metadata": {},
       "output_type": "pyout",
       "prompt_number": 3,
       "text": [
        "8"
       ]
      }
     ],
     "prompt_number": 3
    },
    {
     "cell_type": "code",
     "collapsed": false,
     "input": [],
     "language": "python",
     "metadata": {},
     "outputs": []
    },
    {
     "cell_type": "markdown",
     "metadata": {},
     "source": [
      "Apropos Sprachversionen: aus \"mathematischer\" Sicht gibt es bei Divisionen einen entscheidenden Unterschied. In Version 2 ist die Division mit \"`/`\" abrundend auf die n\u00e4chste Ganzzahl, w\u00e4hrend in Verion 3 die handels\u00fcbliche Interpretation einer Division verwendet wird (abrundend ist \"`//`\").\n",
      "\n",
      "Mittels \"`from __future__ import division`\" kann in Version 2 das Verhalten von Version 3 erzwungen werden:"
     ]
    },
    {
     "cell_type": "code",
     "collapsed": false,
     "input": [
      "9 / 4"
     ],
     "language": "python",
     "metadata": {},
     "outputs": [
      {
       "metadata": {},
       "output_type": "pyout",
       "prompt_number": 6,
       "text": [
        "2"
       ]
      }
     ],
     "prompt_number": 6
    },
    {
     "cell_type": "code",
     "collapsed": false,
     "input": [
      "from __future__ import division\n",
      "9 / 4"
     ],
     "language": "python",
     "metadata": {},
     "outputs": [
      {
       "metadata": {},
       "output_type": "pyout",
       "prompt_number": 7,
       "text": [
        "2.25"
       ]
      }
     ],
     "prompt_number": 7
    },
    {
     "cell_type": "markdown",
     "metadata": {},
     "source": [
      "Im Allgmeinen ist es eine gute Idee, diesen Import immer zu aktivieren."
     ]
    },
    {
     "cell_type": "markdown",
     "metadata": {},
     "source": [
      "## Zeicheketten (Strings)\n",
      "\n",
      "Eine ganz wichtige Kategorie von Ausdr\u00fccken sind Zeichenketten (engl. \"strings\").\n",
      "Diese werden zwischen einfachen oder doppelten Anf\u00fchrungszeichen eingegeben.\n",
      "Sp\u00e4ter mehr dazu, hier nur ein einfaches Beispiel:"
     ]
    },
    {
     "cell_type": "code",
     "collapsed": false,
     "input": [
      "name = \"Hubert\""
     ],
     "language": "python",
     "metadata": {},
     "outputs": [],
     "prompt_number": 1
    },
    {
     "cell_type": "markdown",
     "metadata": {},
     "source": [
      "Einf\u00fcgen eines Strings in eine bestehende Zeichenkette (an der Stelle `%s`)"
     ]
    },
    {
     "cell_type": "code",
     "collapsed": false,
     "input": [
      "print(\"Der name ist %s\" % name)"
     ],
     "language": "python",
     "metadata": {},
     "outputs": [
      {
       "output_type": "stream",
       "stream": "stdout",
       "text": [
        "Der name ist Hubert\n"
       ]
      }
     ],
     "prompt_number": 2
    },
    {
     "cell_type": "markdown",
     "metadata": {},
     "source": [
      "## Vergleichsoperatoren\n",
      "\n",
      "Einer der wichtigsten Typen von Ausdr\u00fccken sind Vergleichsoperatoren.\n",
      "Das sind tests auf \n",
      "\n",
      "* Identit\u00e4t (\"`is`\") -- wo die zu vergleichenden Objekte exakt ident sein m\u00fcssen.\n",
      "* Equvivalenz (\"`==`\") -- hier wird, abh\u00e4ngig von der Vergleichsoperation (!), die Gleichheit festgestellt.\n",
      "* Relation (\"`<`\", \"`>=`\", ...) -- test auf Ungleichheit, ebenfalls von der konkreten Implementation des Vergleichsoperators abh\u00e4ngig."
     ]
    },
    {
     "cell_type": "code",
     "collapsed": false,
     "input": [
      "\"abc\" is \"abc\""
     ],
     "language": "python",
     "metadata": {},
     "outputs": [
      {
       "metadata": {},
       "output_type": "pyout",
       "prompt_number": 4,
       "text": [
        "True"
       ]
      }
     ],
     "prompt_number": 4
    },
    {
     "cell_type": "code",
     "collapsed": false,
     "input": [
      "6 == 2 * 3"
     ],
     "language": "python",
     "metadata": {},
     "outputs": [
      {
       "metadata": {},
       "output_type": "pyout",
       "prompt_number": 5,
       "text": [
        "True"
       ]
      }
     ],
     "prompt_number": 5
    },
    {
     "cell_type": "code",
     "collapsed": false,
     "input": [
      "6 > 10"
     ],
     "language": "python",
     "metadata": {},
     "outputs": [
      {
       "metadata": {},
       "output_type": "pyout",
       "prompt_number": 6,
       "text": [
        "False"
       ]
      }
     ],
     "prompt_number": 6
    },
    {
     "cell_type": "markdown",
     "metadata": {},
     "source": [
      "Es ist auch oft m\u00f6glich -- wenn sinnvoll -- unterschiedliche Typen zu vergleichen:"
     ]
    },
    {
     "cell_type": "code",
     "collapsed": false,
     "input": [
      "6.1 < 10   # float mit int"
     ],
     "language": "python",
     "metadata": {},
     "outputs": [
      {
       "metadata": {},
       "output_type": "pyout",
       "prompt_number": 13,
       "text": [
        "True"
       ]
      }
     ],
     "prompt_number": 13
    },
    {
     "cell_type": "markdown",
     "metadata": {},
     "source": [
      "## Variablen\n",
      "\n",
      "Die Quintessenz eines Programmes ist dessen Flexibilit\u00e4t gegen\u00fcber Eingaben.\n",
      "W\u00e4re die Eingabe fest vorgegeben,\n",
      "g\u00e4be es nur wenig Gr\u00fcnde das Programm mehr als nur einmal aufzurufen!"
     ]
    },
    {
     "cell_type": "markdown",
     "metadata": {},
     "source": [
      "_Quiz:_ Gib einen Grund an, warum ein Programm ohne Dateneingabe mehrmals aufgerufen werden k\u00f6nnte?"
     ]
    },
    {
     "cell_type": "markdown",
     "metadata": {},
     "source": [
      "Antwort: "
     ]
    },
    {
     "cell_type": "markdown",
     "metadata": {},
     "source": [
      "Zuweisungen passieren so, dass in der Zeile zuerst eine Variable steht,\n",
      "dann ein Gleichzeitszeichen, und dann ein Ausdruck der Ausgewertet wird.\n",
      "Hinweis: Der Wert der Variablen `x` ist in der darunterliegenden Zelle weiterhin verf\u00fcgbar."
     ]
    },
    {
     "cell_type": "code",
     "collapsed": false,
     "input": [
      "x = 4\n",
      "5 * x + 1"
     ],
     "language": "python",
     "metadata": {},
     "outputs": [
      {
       "metadata": {},
       "output_type": "pyout",
       "prompt_number": 9,
       "text": [
        "21"
       ]
      }
     ],
     "prompt_number": 9
    },
    {
     "cell_type": "code",
     "collapsed": false,
     "input": [
      "y = 2 * x + 1\n",
      "9 - y - x"
     ],
     "language": "python",
     "metadata": {},
     "outputs": [
      {
       "metadata": {},
       "output_type": "pyout",
       "prompt_number": 10,
       "text": [
        "-4"
       ]
      }
     ],
     "prompt_number": 10
    },
    {
     "cell_type": "markdown",
     "metadata": {},
     "source": [
      "Wichtig ist, dass die Zuweisung an `x` vor dessen Verwendung in der zweiten Zelle passiert.\n",
      "Eine Variable ohne vorheriger Zuweisung erzeugt einen Fehler:"
     ]
    },
    {
     "cell_type": "code",
     "collapsed": false,
     "input": [
      "p + 23"
     ],
     "language": "python",
     "metadata": {},
     "outputs": [
      {
       "ename": "NameError",
       "evalue": "name 'p' is not defined",
       "output_type": "pyerr",
       "traceback": [
        "\u001b[1;31m---------------------------------------------------------------------------\u001b[0m\n\u001b[1;31mNameError\u001b[0m                                 Traceback (most recent call last)",
        "\u001b[1;32m<ipython-input-11-2fe5b48a1d33>\u001b[0m in \u001b[0;36m<module>\u001b[1;34m()\u001b[0m\n\u001b[1;32m----> 1\u001b[1;33m \u001b[0mp\u001b[0m \u001b[1;33m+\u001b[0m \u001b[1;36m23\u001b[0m\u001b[1;33m\u001b[0m\u001b[0m\n\u001b[0m",
        "\u001b[1;31mNameError\u001b[0m: name 'p' is not defined"
       ]
      }
     ],
     "prompt_number": 11
    },
    {
     "cell_type": "markdown",
     "metadata": {},
     "source": [
      "Variablen k\u00f6nnen (und sollen meistens) mehr als einen Buchstaben haben.\n",
      "Dabei sind Gro\u00df- und Kleinbuchstaben und Zahlen ab dem zweiten Zeichen erlaubt.\n",
      "Als einziges Sonderzeichen gibt es den `_` Unterstrich.\n",
      "(das gilt f\u00fcr Python in der Sprachversion 2, Version 3 erlaubt mehr Zeichen.)"
     ]
    },
    {
     "cell_type": "code",
     "collapsed": false,
     "input": [
      "apfel_preis = 0.99\n",
      "stueck = 13\n",
      "preis = stueck * apfel_preis\n",
      "print(preis)"
     ],
     "language": "python",
     "metadata": {},
     "outputs": [
      {
       "output_type": "stream",
       "stream": "stdout",
       "text": [
        "12.87\n"
       ]
      }
     ],
     "prompt_number": 12
    },
    {
     "cell_type": "markdown",
     "metadata": {},
     "source": [
      "Die vorhergehende Zelle definiert mehrere Variablen und berechnet den Preis des Einkaufs.\n",
      "Das Wort `print` mit anschlie\u00dfenden Klammern gibt den Inhalt der Variablen `preis` aus\n",
      "und ist ein Beispiel f\u00fcr den Aufruf einer Funktion."
     ]
    },
    {
     "cell_type": "markdown",
     "metadata": {},
     "source": [
      "**Wichtig**: Es gibt zwischen den Programmiersprachen subtile Unterschiede,\n",
      "wie genau die Bedeutung einer Variablen ist und wie sie sich im Kontext von Ausdr\u00fccken verh\u00e4lt.\n",
      "\n",
      "Bez\u00fcglich Python kann man es sich am besten so vorstellen,\n",
      "dass ein Variablenname das Etikett zur Beschriftung einer Box (dem \"Wert\") ist.\n",
      "Es kann n\u00e4mlich auch folgendes passieren:\n",
      "\n",
      "* Eine Box hat mehr als nur ein Label, sprich, zwei Variablen zeigen auf genau denselben Wert.\n",
      "* Es existiert ein Label, das auf nichts Zeigt (das ist in Python der \"`None`\" Wert)"
     ]
    },
    {
     "cell_type": "code",
     "collapsed": false,
     "input": [
      "x = 4\n",
      "y = x"
     ],
     "language": "python",
     "metadata": {},
     "outputs": [],
     "prompt_number": 1
    },
    {
     "cell_type": "markdown",
     "metadata": {},
     "source": [
      "Der eingebaute Befehl `id` gibt die interne Identifikation (Speicheradresse) des Wertes zur\u00fcck.\n",
      "Dieser ist hier genau gleich:"
     ]
    },
    {
     "cell_type": "code",
     "collapsed": false,
     "input": [
      "print id(x), id(y)"
     ],
     "language": "python",
     "metadata": {},
     "outputs": [
      {
       "output_type": "stream",
       "stream": "stdout",
       "text": [
        "35069456 35069456\n"
       ]
      }
     ],
     "prompt_number": 2
    },
    {
     "cell_type": "markdown",
     "metadata": {},
     "source": [
      "Die Zuweisung von x an y hat somit bewirkt, dass der Wert von `x` die Bezeichung `y` bekommen hat.\n",
      "Es ist also weder der Wert von `x` nach `y` gewandert,\n",
      "noch wurde eine Kopie erzeugt.\n",
      "\n",
      "Letzteres kann bei komplexeren Objekten zu subtilen Fehlern f\u00fchren, aufpassen!"
     ]
    },
    {
     "cell_type": "code",
     "collapsed": false,
     "input": [],
     "language": "python",
     "metadata": {},
     "outputs": []
    }
   ],
   "metadata": {}
  }
 ]
}
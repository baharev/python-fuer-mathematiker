{
 "metadata": {
  "name": "",
  "signature": "sha256:7e1577eeb80b4ffa72d92189bec96be8a315fb5109e1a3d2bbcccdba581bb45d"
 },
 "nbformat": 3,
 "nbformat_minor": 0,
 "worksheets": [
  {
   "cells": [
    {
     "cell_type": "markdown",
     "metadata": {},
     "source": [
      "# Konzept 2: Syntax\n",
      "\n",
      "Jedes Computerprogramm ist eine formalisierte Sprache.\n",
      "Das hei\u00dft, jeder Buchstabe und jedes Zeichen muss strengen formalen Regeln gen\u00fcgen,\n",
      "um vom Compiler oder Interpreter der Programmiersprache korrekt verstanden zu werden.\n",
      "\n",
      "Bevor die weiteren Grundkonzepte genauer erkl\u00e4rt werden, erstmals Python's wichtiste Syntaxregeln:"
     ]
    },
    {
     "cell_type": "markdown",
     "metadata": {},
     "source": [
      "## Ausdruck (engl. expression)\n",
      "\n",
      "Das sind Einzeiler, die aus Rechenzeichen, Variablen, eingebauten Befehlen, Klammern und sonstigen Zeichen wie einem Punkt besteht. \n",
      "Ein Befehl ist hierbei \u00fcblicherweise ein Aufruf, der durch nachgestellte runde Klammern signalisiet wird.\n",
      "Innerhalb der Klammern sind die Argumente dieses Aufrufs.\n",
      "Verschachtelte Aufrufe werden von innen nach au\u00dfen Ausgewertet.\n",
      "Ein Punkt \"`.`\" ist ein Trennzeichen, um ein Attribut des zuerst angegebenen Objektes aufzurufen.\n",
      "Ist dieses Attribut aufrufbar, so kann es ganz normal mit Klammern aufgerufen werden.\n",
      "\n",
      "```python\n",
      "2 + 1.5\n",
      "f(5.5)\n",
      "max(1, 4, 11)\n",
      "min(max(4, 1000), max(-60, 1))\n",
      "geschwindigkeit.diff(x)\n",
      "```"
     ]
    },
    {
     "cell_type": "markdown",
     "metadata": {},
     "source": [
      "## Zuweisung (engl. assignment)\n",
      "\n",
      "Das \"`=`\" Zeichen ist von besonderer Bedeutung.\n",
      "Es weist der Variablen auf der linken Seite den evaluierten Ausdruck der rechten Seite zu.\n",
      "Sp\u00e4ter im Programmcode, kann auf diesen evaluierten Ausdruck durch anschreiben des Variablennames zugegriffen werden.\n",
      "\n",
      "```python\n",
      "variable = <Ausdruck>\n",
      "```\n",
      "\n",
      "```python\n",
      "apfel = 11 + 7\n",
      "birne = 2 * apfel + 1\n",
      "y = max(2, min(99, x))\n",
      "v = geschwindigkeit(t = 1.4)\n",
      "```"
     ]
    },
    {
     "cell_type": "markdown",
     "metadata": {},
     "source": [
      "Dabei ist zu beachten,\n",
      "dass es **reservierte Schl\u00fcsselw\u00f6rter** gibt,\n",
      "welche nicht f\u00fcr Zuweisungen verwendet werden k\u00f6nnen.\n",
      "Diese W\u00f6ter sind essentieller Teil der Programmiersprache\n",
      "um die Struktur des Programmablaufs anzugeben:\n",
      "\n",
      "    and, as, assert, break, class, continue, def, del, elif, else, except, exec,\n",
      "    finally, for, from, global, if, import, in, is, lambda, nonlocal, not, or,\n",
      "    pass, print, raise, return, try, while, with, yield\n",
      "    \n",
      "Insbesondere sticht hierbei aus der Sicht des Naturwissenschaftlers  `lambda` heraus.\n",
      "Will man ein $\\lambda$ als Variablennamen verwenden,\n",
      "so w\u00e4hlt daher in der Praxis \u00fcblicherweise entweder `lambda_` oder `lmbda`.\n",
      "\n",
      "Die genauere Bedeutung dieser eingebauten Schl\u00fcsselw\u00f6rter wird im Rahmen dieses Skripts erkl\u00e4rt.\n",
      "Allgemeiner werden sie in Python's Dokumentation hier erkl\u00e4rt:\n",
      "[Version 2](https://docs.python.org/2/library/functions.html)\n",
      "bzw. [Version 3](https://docs.python.org/3/library/functions.html)"
     ]
    },
    {
     "cell_type": "markdown",
     "metadata": {},
     "source": [
      "## Bl\u00f6cke (engl. block, suite)\n",
      "\n",
      "Ein Codeblock ist eine zeilenweise Liste von Ausdr\u00fccken, welche allesamt gleich weit einger\u00fcckt sind.\n",
      "Die Zeile vor so einem Block beinhaltet immer eine Funktions- oder Klassendefinition, bzw. eine Kontrollstruktur -- erkennbar an dem Doppelpunkt am Ende der Zeile.\n",
      "\n",
      "```python\n",
      "if x > 0:\n",
      "    y = 2*x + 1\n",
      "    birne = apfel - x\n",
      "    \n",
      "```\n",
      "Verschachtelung von einger\u00fcckten Bl\u00f6cken:\n",
      "\n",
      "```python\n",
      "def f(x):\n",
      "    k = 0\n",
      "    if x > 0:\n",
      "        k = k + 2*x\n",
      "        \n",
      "    elif x < 0:\n",
      "        for i in range(-x):\n",
      "            k = k - i**2\n",
      "            x = x + (2*i + x)\n",
      "```\n",
      "\n",
      "Wichtig ist, dass die Einr\u00fcckungen konsistent sind und am Ende eines einger\u00fcckten Blocks wieder mindestens auf das Niveau des umschlie\u00dfenden Blocks zur\u00fcckger\u00fcckt wird. \n",
      "\n",
      "**Tipp:** m\u00fcheloses hin- und herr\u00fccken von Codebl\u00f6cken l\u00e4sst sich so bewerkstelligen,\n",
      "dass die zu verr\u00fcckenden Zeilen markiert werden und die `Tab` bzw. `Shift-Tab` Taste gedr\u00fcckt werden."
     ]
    },
    {
     "cell_type": "markdown",
     "metadata": {},
     "source": [
      "**Bemerkung**: Wer sich mit den syntaktischen Feinheiten von Python genauer besch\u00e4ftigen will,\n",
      "kann dies in der\n",
      "[offiziellen Dokumentation](https://docs.python.org/2/reference/grammar.html), bzw.\n",
      "[Version 3](https://docs.python.org/3/reference/grammar.html) machen."
     ]
    }
   ],
   "metadata": {}
  }
 ]
}
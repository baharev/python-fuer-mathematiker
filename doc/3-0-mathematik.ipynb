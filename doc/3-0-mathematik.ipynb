{
 "cells": [
  {
   "cell_type": "markdown",
   "metadata": {},
   "source": [
    "# Mathematische Anwendungen"
   ]
  },
  {
   "cell_type": "markdown",
   "metadata": {},
   "source": [
    "Der besondere Fokus dieser Übersicht ist die Mathematik.\n",
    "Dieses Kaptiel widmet sich mathematischen Anwendungen aus verschiedensten Gebieten.\n",
    "Dabei wird insbesondere anhand konkreter Beispiele die Übersetzungen von theoretischen Algorithmen und Strukturen\n",
    "in den Kontext kleiner Programme in Python gezeigt.\n",
    "Es werden einerseits einfache in Python geschriebene Programme,\n",
    "und andererseits mehrere für den Alltag nützliche Bibliotheken vorgestellt."
   ]
  }
 ],
 "metadata": {
  "kernelspec": {
   "display_name": "Python 2",
   "language": "python",
   "name": "python2"
  },
  "language_info": {
   "codemirror_mode": {
    "name": "ipython",
    "version": 2
   },
   "file_extension": ".py",
   "mimetype": "text/x-python",
   "name": "python",
   "nbconvert_exporter": "python",
   "pygments_lexer": "ipython2",
   "version": "2.7.6"
  }
 },
 "nbformat": 4,
 "nbformat_minor": 0
}

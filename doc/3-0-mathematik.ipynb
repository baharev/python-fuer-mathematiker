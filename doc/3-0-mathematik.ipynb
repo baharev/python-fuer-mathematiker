{
 "metadata": {
  "name": "",
  "signature": "sha256:5806ada1d29c88f6514295ba5d6d40852a408ecc416150ffeed34d96a4a895ec"
 },
 "nbformat": 3,
 "nbformat_minor": 0,
 "worksheets": [
  {
   "cells": [
    {
     "cell_type": "markdown",
     "metadata": {},
     "source": [
      "# Mathematische Anwendungen"
     ]
    },
    {
     "cell_type": "markdown",
     "metadata": {},
     "source": [
      "Der besondere Fokus dieser \u00dcbersicht ist die Mathematik.\n",
      "Dieses Kaptiel widmet sich mathematischen Anwendungen aus verschiedensten Gebieten.\n",
      "Dabei wird insbesondere anhand konkreter Beispiele die \u00dcbersetzungen von theoretischen Algorithmen und Strukturen\n",
      "in den Kontext kleiner Programme in Python gezeigt.\n",
      "Es werden einerseits einfache in Python geschriebene Programme,\n",
      "und andererseits mehrere n\u00fctzliche Bibliotheken vorgestellt."
     ]
    },
    {
     "cell_type": "code",
     "collapsed": false,
     "input": [],
     "language": "python",
     "metadata": {},
     "outputs": []
    }
   ],
   "metadata": {}
  }
 ]
}
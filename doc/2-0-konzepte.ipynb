{
 "metadata": {
  "name": "",
  "signature": "sha256:960e790387472d429fff2e547c251b6fbaf518988c78bc9a78d1d52747934bda"
 },
 "nbformat": 3,
 "nbformat_minor": 0,
 "worksheets": [
  {
   "cells": [
    {
     "cell_type": "markdown",
     "metadata": {
      "slideshow": {
       "slide_type": "subslide"
      }
     },
     "source": [
      "## Konzepte\n",
      "\n",
      "Es folgen nun die wichtigsten Konzepte.\n",
      "Jedes Programm, sei es auch noch so klein, beinhaltet sie.\n",
      "\n",
      "Grundlegend ist Python eine imperative Programmiersprache.\n",
      "Das hei\u00dft, der [Quellcode](glossar.ipynb#quellcode) setzt sich aus Listen von sogenannten \"Ausdr\u00fccken\" (\"expressions\") und dazugeh\u00f6rigen Steuerungsanweisungen zusammen.\n",
      "Diese Ausdr\u00fccke werden in jedem Block Zeile f\u00fcr Zeile abgearbeitet,\n",
      "und der alles umfassende Ablauf der Bl\u00f6cke mittels [Kontrollstrukturen](glossar.ipynb#kontrollstrukturen) festgelegt.\n",
      "Es gibt mehrere verschiedene Arten von Ausdr\u00fccken,\n",
      "und insbesondere sind Zuweisungen und der Aufruf von Funktionen wichtig."
     ]
    },
    {
     "cell_type": "code",
     "collapsed": false,
     "input": [],
     "language": "python",
     "metadata": {},
     "outputs": []
    }
   ],
   "metadata": {}
  }
 ]
}
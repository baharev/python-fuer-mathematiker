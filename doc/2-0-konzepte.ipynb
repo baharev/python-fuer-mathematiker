{
 "metadata": {
  "name": "",
  "signature": "sha256:9ace8ada151bbdcd6240bae473e4be99033684f263da8558dd2fea41361dbec8"
 },
 "nbformat": 3,
 "nbformat_minor": 0,
 "worksheets": [
  {
   "cells": [
    {
     "cell_type": "heading",
     "level": 1,
     "metadata": {},
     "source": [
      "Programmierkonzepte"
     ]
    },
    {
     "cell_type": "markdown",
     "metadata": {
      "slideshow": {
       "slide_type": "subslide"
      }
     },
     "source": [
      "Es folgen nun die wichtigsten Konzepte f\u00fcr das Programmieren.\n",
      "\n",
      "Grundlegend ist Python eine imperative Programmiersprache.\n",
      "Das hei\u00dft, der [Quellcode](glossar.ipynb#quellcode) setzt sich aus Listen von sogenannten \"Ausdr\u00fccken\" (\"expressions\") und dazugeh\u00f6rigen Steuerungsanweisungen zusammen.\n",
      "Diese Ausdr\u00fccke werden in jedem Block Zeile f\u00fcr Zeile abgearbeitet,\n",
      "und der alles umfassende Ablauf der Bl\u00f6cke mittels [Kontrollstrukturen](glossar.ipynb#kontrollstrukturen) festgelegt.\n",
      "Es gibt mehrere verschiedene Arten von Ausdr\u00fccken,\n",
      "und insbesondere sind Zuweisungen und der Aufruf von Funktionen wichtig."
     ]
    }
   ],
   "metadata": {}
  }
 ]
}
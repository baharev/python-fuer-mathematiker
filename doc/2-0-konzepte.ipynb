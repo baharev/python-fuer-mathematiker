{
 "metadata": {
  "name": "",
  "signature": "sha256:4198b3863f1458576ae93ead24bddb9c493c7d3bda249fb80f03a7d42c63e2dd"
 },
 "nbformat": 3,
 "nbformat_minor": 0,
 "worksheets": [
  {
   "cells": [
    {
     "cell_type": "heading",
     "level": 1,
     "metadata": {},
     "source": [
      "Programmierkonzepte"
     ]
    },
    {
     "cell_type": "markdown",
     "metadata": {
      "slideshow": {
       "slide_type": "subslide"
      }
     },
     "source": [
      "Es folgen nun die wichtigsten Konzepte f\u00fcr das Programmieren mit Python.\n",
      "\n",
      "Grundlegend ist Python eine imperative Programmiersprache.\n",
      "Das hei\u00dft, der [Quellcode](glossar.ipynb#quellcode) setzt sich aus Listen von sogenannten \"Ausdr\u00fccken\" (\"expressions\") und dazugeh\u00f6rigen Steuerungsanweisungen zusammen.\n",
      "Diese Ausdr\u00fccke werden in jedem Block Zeile f\u00fcr Zeile abgearbeitet,\n",
      "und der alles umfassende Ablauf der Bl\u00f6cke mittels [Kontrollstrukturen](glossar.ipynb#kontrollstrukturen) festgelegt.\n",
      "\n",
      "Es gibt mehrere verschiedene Arten von Ausdr\u00fccken,\n",
      "und insbesondere sind Zuweisungen und der Aufruf von Funktionen\n",
      "die elementarsten und wichtigsten Konzepte.\n",
      "M\u00f6chte man komplexere Objekte beschreiben, so braucht man Datenstrukturen.\n",
      "Diese bestehen aus einer strukturierten Auflistung, bzw. Verschachtelung,\n",
      "von Listen und Assoziationen.\n",
      "Dadurch werden die zu verarbeitenden Objekte in sowohl f\u00fcr den Menschen,\n",
      "als auch f\u00fcr den Computer, verst\u00e4ndliche Form gebracht.\n",
      "Gibt man dar\u00fcber hinaus diesen Datenstrukturen auch einen Namen\n",
      "und assoziiert sie mit Methoden zur Vearbeitung ihrer in ihnen gespeicherten Daten,\n",
      "so erh\u00e4lt man Datentypen und Klassen.\n",
      "Auf diese Art strukturierte Programme sind das bislang\n",
      "erfolgreichste und flexibelste Modell der Abstraktion."
     ]
    }
   ],
   "metadata": {}
  }
 ]
}
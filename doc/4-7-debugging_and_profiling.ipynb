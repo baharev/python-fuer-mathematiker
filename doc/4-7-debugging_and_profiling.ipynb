{
 "metadata": {
  "name": "",
  "signature": "sha256:3553c0269aca5beb2ff49808a1f47699b2edb46685efb721c0a59360af5df449"
 },
 "nbformat": 3,
 "nbformat_minor": 0,
 "worksheets": [
  {
   "cells": [
    {
     "cell_type": "heading",
     "level": 1,
     "metadata": {},
     "source": [
      "Debugging and Profiling"
     ]
    },
    {
     "cell_type": "code",
     "collapsed": false,
     "input": [],
     "language": "python",
     "metadata": {},
     "outputs": []
    }
   ],
   "metadata": {}
  }
 ]
}
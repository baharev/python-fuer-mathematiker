{
 "metadata": {
  "name": "",
  "signature": "sha256:65488c847bc7bf1593e9318431da4c417038c3c599ff9ba1858ae012a8a842a0"
 },
 "nbformat": 3,
 "nbformat_minor": 0,
 "worksheets": [
  {
   "cells": [
    {
     "cell_type": "heading",
     "level": 1,
     "metadata": {},
     "source": [
      "Debugging and Profiling"
     ]
    },
    {
     "cell_type": "markdown",
     "metadata": {},
     "source": [
      "Die einfachste Art des Profilings ist, mit %timeit die Ausf\u00fchrungsgeschwindigkeit zu kontrollieren."
     ]
    },
    {
     "cell_type": "code",
     "collapsed": false,
     "input": [
      "import math\n",
      "%timeit math.sqrt(2)"
     ],
     "language": "python",
     "metadata": {},
     "outputs": [
      {
       "output_type": "stream",
       "stream": "stdout",
       "text": [
        "10000000 loops, best of 3: 109 ns per loop\n"
       ]
      }
     ],
     "prompt_number": 1
    },
    {
     "cell_type": "markdown",
     "metadata": {},
     "source": [
      "Es gibt diverse Pythonmodule f\u00fcr Profiling: Zeilenweise f\u00fcr ein Skript oder f\u00fcr den Speicherverbrauch.\n",
      "\n",
      "```\n",
      "$ pip install [--user] line-profiler\n",
      "$ pip install [--user] psutil\n",
      "$ pip install [--user] memory_profiler\n",
      "```\n",
      "(In Canopy, ist `--user` nicht notwendig)"
     ]
    },
    {
     "cell_type": "markdown",
     "metadata": {},
     "source": [
      "Anschlie\u00dfend entweder \u00fcber die IPython Notebook Konfiguration permanent oder wie folgt manuell diese IPython Magic Funktionen aktivieren."
     ]
    },
    {
     "cell_type": "code",
     "collapsed": false,
     "input": [
      "ipy = get_ipython()\n",
      "\n",
      "import line_profiler\n",
      "ipy.define_magic(\"lprun\", line_profiler.magic_lprun)\n",
      "\n",
      "import memory_profiler\n",
      "ipy.define_magic('memit', memory_profiler.magic_memit)\n",
      "ipy.define_magic('mprun', memory_profiler.magic_mprun)"
     ],
     "language": "python",
     "metadata": {},
     "outputs": [],
     "prompt_number": 2
    },
    {
     "cell_type": "markdown",
     "metadata": {},
     "source": [
      "## Zeitmessung"
     ]
    },
    {
     "cell_type": "markdown",
     "metadata": {},
     "source": [
      "Hierf\u00fcr speichern wir ein kleines (nicht sinnvolles, aber anschauliches) Programm in als Modul `profile_me.py` ab."
     ]
    },
    {
     "cell_type": "code",
     "collapsed": false,
     "input": [
      "%%writefile res/profile_me.py\n",
      "def profile_me(e):\n",
      "    x = 1\n",
      "    z = [0]\n",
      "    import math\n",
      "    while z[-1] < e:\n",
      "        v = math.sin(x)\n",
      "        for i in range(x):\n",
      "            v2 = v + math.sqrt(i)\n",
      "        z.append(v2)\n",
      "        x += 1\n",
      "    return x"
     ],
     "language": "python",
     "metadata": {},
     "outputs": [
      {
       "output_type": "stream",
       "stream": "stdout",
       "text": [
        "Overwriting res/profile_me.py\n"
       ]
      }
     ],
     "prompt_number": 3
    },
    {
     "cell_type": "code",
     "collapsed": false,
     "input": [
      "from res.profile_me import profile_me\n",
      "%lprun -f profile_me profile_me(40)"
     ],
     "language": "python",
     "metadata": {},
     "outputs": [],
     "prompt_number": 4
    },
    {
     "cell_type": "markdown",
     "metadata": {},
     "source": [
      "Man erh\u00e4lt eine detaillierte Auflistung f\u00fcr jede Zeile, wie viel Zeit sie verbrauchte und wie oft sie ausgef\u00fchrt wurde.\n",
      "Diese Informationen geh\u00f6ren zu den aussagekr\u00e4ftigsten \u00fcberhaupt.\n",
      "Nur auf Basis solcher Analysen kann eine erfolgreiche (und sinnvolle!) Optimierung des Codes stattfinden.\n",
      "\n",
      "```\n",
      "Timer unit: 1e-06 s\n",
      "\n",
      "Total time: 1.25865 s\n",
      "File: res/profile_me.py\n",
      "Function: profile_me at line 1\n",
      "\n",
      "Line #      Hits         Time  Per Hit   % Time  Line Contents\n",
      "==============================================================\n",
      "     1                                           def profile_me(e):\n",
      "     2         1            2      2.0      0.0      x = 1\n",
      "     3         1            1      1.0      0.0      z = [0]\n",
      "     4         1            6      6.0      0.0      import math\n",
      "     5      1529         1295      0.8      0.1      while z[-1] < e:\n",
      "     6      1528         1451      0.9      0.1          v = math.sin(x)\n",
      "     7   1169684       534961      0.5     42.5          for i in range(x):\n",
      "     8   1168156       718623      0.6     57.1              v2 = v + math.sqrt(i)\n",
      "     9      1528         1374      0.9      0.1          z.append(v2)\n",
      "    10      1528          936      0.6      0.1          x += 1\n",
      "    11         1            1      1.0      0.0      return x\n",
      "```"
     ]
    },
    {
     "cell_type": "code",
     "collapsed": false,
     "input": [
      "%prun profile_me(40)"
     ],
     "language": "python",
     "metadata": {},
     "outputs": [
      {
       "output_type": "stream",
       "stream": "stdout",
       "text": [
        " "
       ]
      }
     ],
     "prompt_number": 5
    },
    {
     "cell_type": "markdown",
     "metadata": {},
     "source": [
      "`%prun` sammelt alle Funktionsaufrufe.\n",
      "\n",
      "```\n",
      "         1172743 function calls in 0.344 seconds\n",
      "\n",
      "   Ordered by: internal time\n",
      "\n",
      "   ncalls  tottime  percall  cumtime  percall filename:lineno(function)\n",
      "        1    0.229    0.229    0.344    0.344 profile_me.py:1(profile_me)\n",
      "  1168156    0.106    0.000    0.106    0.000 {math.sqrt}\n",
      "     1528    0.007    0.000    0.007    0.000 {range}\n",
      "     1528    0.000    0.000    0.000    0.000 {math.sin}\n",
      "     1528    0.000    0.000    0.000    0.000 {method 'append' of 'list' objects}\n",
      "        1    0.000    0.000    0.344    0.344 <string>:1(<module>)\n",
      "        1    0.000    0.000    0.000    0.000 {method 'disable' of '_lsprof.Profiler' objects}\n",
      "```"
     ]
    },
    {
     "cell_type": "markdown",
     "metadata": {},
     "source": [
      "## Speicherverbrauch\n",
      "\n",
      "Speicherverbrauch geh\u00f6rt zu den kompliziertesten Aspekten des Profilings.\n",
      "Objekte werden dynamisch erzeugt und hierf\u00fcr dynamisch Speicher angelegt.\n",
      "Der [Garbage Collector](http://en.wikipedia.org/wiki/Garbage_collection_%28computer_science%29) r\u00e4umt nicht mehr ben\u00f6tigte Objekte auf.\n",
      "Spannend ist daher, wieviel Speicherverbrauch w\u00e4hrend des Ausf\u00fchrens verbraucht wird (Maximalwert) und ob wiederholende Aufrufe den Speicherverbrauch immer weiter erh\u00f6hen."
     ]
    },
    {
     "cell_type": "code",
     "collapsed": false,
     "input": [
      "%memit -r 3 profile_me(10)"
     ],
     "language": "python",
     "metadata": {},
     "outputs": [
      {
       "output_type": "stream",
       "stream": "stdout",
       "text": [
        "peak memory: 27.93 MiB, increment: 0.43 MiB\n"
       ]
      }
     ],
     "prompt_number": 6
    },
    {
     "cell_type": "markdown",
     "metadata": {},
     "source": [
      "F\u00fcr %mprun muss das Skript in einer physischen Datei liegen,\n",
      "wir nehmen das `profile_me.py` von fr\u00fcher."
     ]
    },
    {
     "cell_type": "code",
     "collapsed": false,
     "input": [
      "from res.profile_me import profile_me\n",
      "%mprun -f profile_me profile_me(10)"
     ],
     "language": "python",
     "metadata": {},
     "outputs": [
      {
       "output_type": "stream",
       "stream": "stdout",
       "text": [
        "('',)\n"
       ]
      }
     ],
     "prompt_number": 7
    },
    {
     "cell_type": "markdown",
     "metadata": {},
     "source": [
      "```\n",
      "Filename: res/profile_me.py\n",
      "\n",
      "Line #    Mem usage    Increment   Line Contents\n",
      "================================================\n",
      "     1     29.8 MiB      0.0 MiB   def profile_me(e):\n",
      "     2     29.8 MiB      0.0 MiB       x = 1\n",
      "     3     29.8 MiB      0.0 MiB       z = [0]\n",
      "     4     29.8 MiB      0.0 MiB       import math\n",
      "     5     29.8 MiB      0.0 MiB       while z[-1] < e:\n",
      "     6     29.8 MiB      0.0 MiB           v = math.sin(x)\n",
      "     7     29.8 MiB      0.0 MiB           for i in range(x):\n",
      "     8     29.8 MiB      0.0 MiB               v2 = v + math.sqrt(i)\n",
      "     9     29.8 MiB      0.0 MiB           z.append(v2)\n",
      "    10     29.8 MiB      0.0 MiB           x += 1\n",
      "    11     29.8 MiB      0.0 MiB       return x\n",
      "```"
     ]
    }
   ],
   "metadata": {}
  }
 ]
}
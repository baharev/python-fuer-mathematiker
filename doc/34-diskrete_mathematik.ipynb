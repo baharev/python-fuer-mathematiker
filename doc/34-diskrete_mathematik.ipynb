{
 "metadata": {
  "name": "",
  "signature": "sha256:2896f1696ba8bca1b6a627f2ea62f8b9efa75bcf9eafa0e5c36a863cd3b1b7b9"
 },
 "nbformat": 3,
 "nbformat_minor": 0,
 "worksheets": [
  {
   "cells": [
    {
     "cell_type": "markdown",
     "metadata": {},
     "source": [
      "# Diskrete Mathematik\n",
      "\n"
     ]
    },
    {
     "cell_type": "code",
     "collapsed": false,
     "input": [],
     "language": "python",
     "metadata": {},
     "outputs": []
    }
   ],
   "metadata": {}
  }
 ]
}
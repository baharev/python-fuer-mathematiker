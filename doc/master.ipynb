{
 "metadata": {
  "name": "",
  "signature": "sha256:90541a1953fe7f3ddd1a01ebacf83f7699f3dc0bf2666fca0f099db9abcea3d4"
 },
 "nbformat": 3,
 "nbformat_minor": 0,
 "worksheets": [
  {
   "cells": [
    {
     "cell_type": "markdown",
     "metadata": {},
     "source": [
      "Content of this notebook is ignored.\n",
      "\n",
      "TODO: in the future, mabye it can be used for bibliography?"
     ]
    }
   ],
   "metadata": {}
  }
 ]
}
{
 "metadata": {
  "name": "",
  "signature": "sha256:687d7efc57dcf9c5ab26f84bf2846b1f869baf9198004d89ddc111b06c100b78"
 },
 "nbformat": 3,
 "nbformat_minor": 0,
 "worksheets": [
  {
   "cells": [
    {
     "cell_type": "markdown",
     "metadata": {},
     "source": [
      "[INDEX](00-index.ipynb)"
     ]
    },
    {
     "cell_type": "markdown",
     "metadata": {},
     "source": [
      "# Eigenst\u00e4ndige Pythonprogramme\n",
      "\n",
      "Au\u00dferhalb des IPython Notebooks wird direkt in Textdateien mit der Endung \"`.py`\" programmiert.\n",
      "Diese Dateien verhalten sich wie gro\u00dfe Zellen, die vom Python Interpreter vollst\u00e4ndig ausgewertet werden."
     ]
    },
    {
     "cell_type": "code",
     "collapsed": false,
     "input": [],
     "language": "python",
     "metadata": {},
     "outputs": []
    }
   ],
   "metadata": {}
  }
 ]
}
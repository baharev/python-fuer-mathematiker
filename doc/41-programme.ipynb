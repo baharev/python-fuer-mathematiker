{
 "metadata": {
  "name": "",
  "signature": "sha256:9416985ad9d6ae00043f6a615e4a6976ccb0f42638ec1d1eb8fe5e213a60a005"
 },
 "nbformat": 3,
 "nbformat_minor": 0,
 "worksheets": [
  {
   "cells": [
    {
     "cell_type": "markdown",
     "metadata": {},
     "source": [
      "# Eigenst\u00e4ndige Pythonprogramme\n",
      "\n",
      "Au\u00dferhalb des IPython Notebooks wird direkt in Textdateien mit der Endung \"`.py`\" programmiert.\n",
      "Diese Dateien verhalten sich wie gro\u00dfe Zellen, die vom Python Interpreter vollst\u00e4ndig ausgewertet werden."
     ]
    },
    {
     "cell_type": "code",
     "collapsed": false,
     "input": [],
     "language": "python",
     "metadata": {},
     "outputs": []
    }
   ],
   "metadata": {}
  }
 ]
}
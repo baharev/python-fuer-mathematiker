{
 "metadata": {
  "name": "",
  "signature": "sha256:545b01e4114149de50ffd31ee3ecb9f3215346094ebf9413b589d3fb15370f06"
 },
 "nbformat": 3,
 "nbformat_minor": 0,
 "worksheets": [
  {
   "cells": [
    {
     "cell_type": "markdown",
     "metadata": {},
     "source": [
      "# Eigenst\u00e4ndige Pythonprogramme\n",
      "\n",
      "Au\u00dferhalb des IPython Notebooks wird direkt in Textdateien mit der Endung \"`.py`\" programmiert.\n",
      "Diese Dateien verhalten sich wie gro\u00dfe Zellen, die vom Python Interpreter vollst\u00e4ndig ausgewertet werden.\n",
      "Darauf aufbauend, kann das einzelne Programm andere Python Dateien laden (mittels `import`) bzw. eine Sammlung von Python Dateien kann ein vollst\u00e4ndiges Python Modul bilden.\n",
      "\n",
      "Im folgenden das wichtigste, wie man eine einzelne Python Datei erzeugt:\n",
      "\n",
      "1. Man nehme eine normale Textdatei, der Editor sollte problemlos [UTF-8](http://en.wikipedia.org/wiki/UTF-8) beherrschen.\n",
      "1. \u00dcblicherweise beginnt das Programm mit einer kleinen Definition, dass es tats\u00e4chlich ein Python Programm ist. Die erste Zeile ist daher:\n",
      "    ```\n",
      "    #!/usr/bin/env python\n",
      "    ```\n",
      "1. Die UTF-8 Kodierung wird in der zweiten Zeile \u00fcblicherweise nochmals explizit mittels\n",
      "    ```\n",
      "    # -*- coding: UTF-8 -*-\n",
      "    ```\n",
      "    angegeben. \n",
      "1. Es folgt (ebenfalls optional) ein l\u00e4ngerer Kommentar zwichen `\"\"\"` oder mit vorangestellten `#`, die erkl\u00e4ren was das Programm ist, was es machen sollte, wer es Programmiert hat, unter welcher Lizenz es steht, etc.\n",
      "1. Dann kommt das eigentliche Programm, welches oft mit `import`-Statements beginnt und dann Funktionen und Klassen definiert.\n",
      "1. Den Schluss bildet ein Block Code, welcher nur dann ausgef\u00fchrt wird, wenn das Programm tats\u00e4chlich als eigenst\u00e4ndiges Programm und nicht als Bibliothek aufgerufen wird. Dies wird so angegeben:\n",
      "    ```\n",
      "    if __name__ == \"__main__\":\n",
      "        ...\n",
      "        ...\n",
      "    ```\n",
      "    \n",
      "Jetzt ein konkretes Beispiel zur besseren Veranschaulichung:"
     ]
    },
    {
     "cell_type": "code",
     "collapsed": false,
     "input": [
      "%%writefile res/program1.py\n",
      "#!/usr/bin/env python\n",
      "# -*- coding: utf8 -*-\n",
      "# This is an example, which contains all the main parts for a proper standalone program\n",
      "# Copyright: Harald Schilly <harald.schilly@univie.ac.at>, 2014\n",
      "# License: Apache 2.0\n",
      "import math\n",
      "\n",
      "def calculate(x):\n",
      "    \"\"\"\n",
      "    The important calculation\n",
      "    \"\"\"\n",
      "    if x < 0:\n",
      "        y = - x\n",
      "    else:\n",
      "        y = math.sqrt(x)\n",
      "    return x + y\n",
      "\n",
      "if __name__ == \"__main__\":\n",
      "    z = 21\n",
      "    print(\"Program started, z = %f\" % z)\n",
      "    result = calculate(z)\n",
      "    print(\"Result = %f\" % result)"
     ],
     "language": "python",
     "metadata": {},
     "outputs": [
      {
       "output_type": "stream",
       "stream": "stdout",
       "text": [
        "Overwriting res/program1.py\n"
       ]
      }
     ],
     "prompt_number": 1
    },
    {
     "cell_type": "markdown",
     "metadata": {},
     "source": [
      "Die vorherige Zelle speichert beim Ausf\u00fchren durch \"`%%writefile`\" den Inhalt in der angegebenen Datei (\"`res/program1.py`\") ab.\n",
      "\n",
      "Nun f\u00fchren wir das Programm mit dem Python-Interpreter aus (Das `!` schickt den angegebenen Befehl direkt an die Kommandozeile)"
     ]
    },
    {
     "cell_type": "code",
     "collapsed": false,
     "input": [
      "!python res/program1.py"
     ],
     "language": "python",
     "metadata": {},
     "outputs": [
      {
       "output_type": "stream",
       "stream": "stdout",
       "text": [
        "Program started, z = 21.000000\r\n",
        "Result = 25.582576\r\n"
       ]
      }
     ],
     "prompt_number": 2
    },
    {
     "cell_type": "markdown",
     "metadata": {},
     "source": [
      "## Argumente\n",
      "\n",
      "Programme haben \u00fcblicherweise Eingaben, unter anderem in der Form von Kommandozeilenargumenten.\n",
      "Das sind einzelne Zeichenketten, die dem Programmaufruf in der Kommandozeile nachgestellt werden.\n",
      "Diese Strings sind dann in `sys.args` vom Programm aus abrufbar.\n",
      "\n",
      "Beispiel:"
     ]
    },
    {
     "cell_type": "code",
     "collapsed": false,
     "input": [
      "%%writefile res/program2.py\n",
      "#!/usr/bin/env python\n",
      "if __name__ == \"__main__\":\n",
      "    import sys\n",
      "    for idx, arg in enumerate(sys.argv):\n",
      "        print(\"Argument %2d: %s\" % (idx, arg))"
     ],
     "language": "python",
     "metadata": {},
     "outputs": [
      {
       "output_type": "stream",
       "stream": "stdout",
       "text": [
        "Overwriting res/program2.py\n"
       ]
      }
     ],
     "prompt_number": 3
    },
    {
     "cell_type": "code",
     "collapsed": false,
     "input": [
      "!python res/program2.py xx argument2 \"with a space\""
     ],
     "language": "python",
     "metadata": {},
     "outputs": [
      {
       "output_type": "stream",
       "stream": "stdout",
       "text": [
        "Argument  0: res/program2.py\r\n",
        "Argument  1: xx\r\n",
        "Argument  2: argument2\r\n",
        "Argument  3: with a space\r\n"
       ]
      }
     ],
     "prompt_number": 4
    },
    {
     "cell_type": "markdown",
     "metadata": {},
     "source": [
      "Es ist neben dieser einfachen Art der Parameter\u00fcbergabe auch eine komplexere Art m\u00f6glich.\n",
      "Oft will man nur ausgew\u00e4hlte Parameter \u00fcbergeben.\n",
      "Die geschieht mit einem speziellen Syntax (vorangestellte \"`-`\" und \"`--`\"),\n",
      "welcher zwischen boolschen Flags und Variablen unterscheidet,\n",
      "durch das [Argparse](https://docs.python.org/3/howto/argparse.html) modul.\n",
      "\n",
      "Beispiel:\n",
      "    \n",
      "    $ python program3.py 21 --negate --y=21"
     ]
    },
    {
     "cell_type": "code",
     "collapsed": false,
     "input": [
      "%%writefile res/program3.py\n",
      "#!/usr/bin/env python\n",
      "\n",
      "def parse_args():\n",
      "    import argparse\n",
      "    parser = argparse.ArgumentParser()\n",
      "    # mandatory x value, no prefix\n",
      "    parser.add_argument(\"x\", type=int, help=\"The x value\")\n",
      "    # optional y value\n",
      "    parser.add_argument(\"--y\", type=int, help=\"The optional y value\", default=42)\n",
      "    # \"negate\"-flag\n",
      "    parser.add_argument(\"--negate\", action=\"store_true\", help=\"Should x be negated?\")\n",
      "    return parser.parse_args()\n",
      "\n",
      "if __name__ == \"__main__\":\n",
      "    args = parse_args()\n",
      "    print(\"Arguments: %s\" % args)\n",
      "    \n",
      "    x = args.x\n",
      "    if args.negate:\n",
      "        x = -x\n",
      "    result = x + args.y\n",
      "    print(\"Result: %f\" % result)"
     ],
     "language": "python",
     "metadata": {},
     "outputs": [
      {
       "output_type": "stream",
       "stream": "stdout",
       "text": [
        "Overwriting res/program3.py\n"
       ]
      }
     ],
     "prompt_number": 5
    },
    {
     "cell_type": "code",
     "collapsed": false,
     "input": [
      "!python res/program3.py 21"
     ],
     "language": "python",
     "metadata": {},
     "outputs": [
      {
       "output_type": "stream",
       "stream": "stdout",
       "text": [
        "Arguments: Namespace(negate=False, x=21, y=42)\r\n",
        "Result: 63.000000\r\n"
       ]
      }
     ],
     "prompt_number": 6
    },
    {
     "cell_type": "code",
     "collapsed": false,
     "input": [
      "!python res/program3.py 21 --negate"
     ],
     "language": "python",
     "metadata": {},
     "outputs": [
      {
       "output_type": "stream",
       "stream": "stdout",
       "text": [
        "Arguments: Namespace(negate=True, x=21, y=42)\r\n",
        "Result: 21.000000\r\n"
       ]
      }
     ],
     "prompt_number": 7
    },
    {
     "cell_type": "code",
     "collapsed": false,
     "input": [
      "!python res/program3.py 10 --y=0"
     ],
     "language": "python",
     "metadata": {},
     "outputs": [
      {
       "output_type": "stream",
       "stream": "stdout",
       "text": [
        "Arguments: Namespace(negate=False, x=10, y=0)\r\n",
        "Result: 10.000000\r\n"
       ]
      }
     ],
     "prompt_number": 8
    },
    {
     "cell_type": "markdown",
     "metadata": {},
     "source": [
      "Und es gibt au\u00dferdem eine Hilfe, und eine implizite Kontrolle ob die Argumente korrekt \u00fcbergeben wurden:"
     ]
    },
    {
     "cell_type": "code",
     "collapsed": false,
     "input": [
      "!python res/program3.py --y=0"
     ],
     "language": "python",
     "metadata": {},
     "outputs": [
      {
       "output_type": "stream",
       "stream": "stdout",
       "text": [
        "usage: program3.py [-h] [--y Y] [--negate] x\r\n",
        "program3.py: error: too few arguments\r\n"
       ]
      }
     ],
     "prompt_number": 9
    },
    {
     "cell_type": "code",
     "collapsed": false,
     "input": [
      "!python res/program3.py 70 -ngate"
     ],
     "language": "python",
     "metadata": {},
     "outputs": [
      {
       "output_type": "stream",
       "stream": "stdout",
       "text": [
        "usage: program3.py [-h] [--y Y] [--negate] x\r\n",
        "program3.py: error: unrecognized arguments: -ngate\r\n"
       ]
      }
     ],
     "prompt_number": 10
    },
    {
     "cell_type": "code",
     "collapsed": false,
     "input": [
      "!python res/program3.py --help"
     ],
     "language": "python",
     "metadata": {},
     "outputs": [
      {
       "output_type": "stream",
       "stream": "stdout",
       "text": [
        "usage: program3.py [-h] [--y Y] [--negate] x\r\n",
        "\r\n",
        "positional arguments:\r\n",
        "  x           The x value\r\n",
        "\r\n",
        "optional arguments:\r\n",
        "  -h, --help  show this help message and exit\r\n",
        "  --y Y       The optional y value\r\n",
        "  --negate    Should x be negated?\r\n"
       ]
      }
     ],
     "prompt_number": 11
    },
    {
     "cell_type": "code",
     "collapsed": false,
     "input": [],
     "language": "python",
     "metadata": {},
     "outputs": [],
     "prompt_number": 11
    }
   ],
   "metadata": {}
  }
 ]
}
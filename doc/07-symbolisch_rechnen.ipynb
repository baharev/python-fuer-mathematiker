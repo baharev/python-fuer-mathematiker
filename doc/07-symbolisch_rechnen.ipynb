{
 "metadata": {
  "name": "",
  "signature": "sha256:e10b33767f2871ad6c408bb84512582941feb9c2f3b579d68391f9462d5780f8"
 },
 "nbformat": 3,
 "nbformat_minor": 0,
 "worksheets": [
  {
   "cells": [
    {
     "cell_type": "markdown",
     "metadata": {},
     "source": [
      "# Symbolisches Rechnen mit SymPy\n",
      "\n",
      "[SymPy](http://www.sympy.org) ist eine Python Bibliothek f\u00fcr symbolisches Rechnen."
     ]
    },
    {
     "cell_type": "code",
     "collapsed": false,
     "input": [],
     "language": "python",
     "metadata": {},
     "outputs": []
    }
   ],
   "metadata": {}
  }
 ]
}
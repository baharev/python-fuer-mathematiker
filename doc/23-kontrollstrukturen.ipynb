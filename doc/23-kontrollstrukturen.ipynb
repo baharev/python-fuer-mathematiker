{
 "metadata": {
  "name": "",
  "signature": "sha256:3d1748457d3f0d1dcc880dfee0654dc59889c0cf74c6f55959ceee4c7016de85"
 },
 "nbformat": 3,
 "nbformat_minor": 0,
 "worksheets": [
  {
   "cells": [
    {
     "cell_type": "markdown",
     "metadata": {},
     "source": [
      "[INDEX](00-index.ipynb)"
     ]
    },
    {
     "cell_type": "markdown",
     "metadata": {},
     "source": [
      "# Konzept 3: Kontrollstrukturen"
     ]
    },
    {
     "cell_type": "markdown",
     "metadata": {},
     "source": [
      "Ein Programm ist mehr als eine lineare Abfolge von Befehlen."
     ]
    },
    {
     "cell_type": "code",
     "collapsed": false,
     "input": [],
     "language": "python",
     "metadata": {},
     "outputs": []
    }
   ],
   "metadata": {}
  }
 ]
}
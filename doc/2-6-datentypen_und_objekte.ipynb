{
 "metadata": {
  "name": "",
  "signature": "sha256:610e7dc833f98a117d98577b6311fb147e06841324602bb71556920e3c3873ba"
 },
 "nbformat": 3,
 "nbformat_minor": 0,
 "worksheets": [
  {
   "cells": [
    {
     "cell_type": "markdown",
     "metadata": {},
     "source": [
      "# Konzept 6: Typen und Objekte\n",
      "\n",
      "Alle Mitspieler in einem Programm sind Objekte.\n",
      "Diese beinhalten die gesamte Information, die ein bestimmtes Konzept (\"Typ\") mit Daten erf\u00fcllt.\n",
      "\n",
      "Einfache Beispiele:\n",
      "\n",
      "* Zahlen, z.B. das Konzept \"Ganzzahl\" wird z.B. durch den Typ `int` realisiert und `42` ist ein Beispiel f\u00fcr so ein Objekt dieses Typs.\n",
      "* Zeichenketten: `basestring` ist das \u00fcbergeordnete Konzept, welches z.B. der Typ `str` sein kann. Ein Beispiel ist `\"Hase\"`."
     ]
    },
    {
     "cell_type": "markdown",
     "metadata": {},
     "source": [
      "Den Typ eines Objekts erf\u00e4hrt man mittels des eingebauten Befehls `type`:"
     ]
    },
    {
     "cell_type": "code",
     "collapsed": false,
     "input": [
      "type(42)"
     ],
     "language": "python",
     "metadata": {},
     "outputs": [
      {
       "metadata": {},
       "output_type": "pyout",
       "prompt_number": 1,
       "text": [
        "int"
       ]
      }
     ],
     "prompt_number": 1
    },
    {
     "cell_type": "code",
     "collapsed": false,
     "input": [
      "type(\"Hase\")"
     ],
     "language": "python",
     "metadata": {},
     "outputs": [
      {
       "metadata": {},
       "output_type": "pyout",
       "prompt_number": 2,
       "text": [
        "str"
       ]
      }
     ],
     "prompt_number": 2
    },
    {
     "cell_type": "markdown",
     "metadata": {},
     "source": [
      "## Klassen\n",
      "\n",
      "Dies sind einfache \"Basistypen\", welche ben\u00fctzt werden um komplexere Typen aufzubauen.\n",
      "Hierf\u00fcr werden sogenannte **\"Klassen\"** (engl. \"class\") verwendet."
     ]
    },
    {
     "cell_type": "markdown",
     "metadata": {},
     "source": [
      "Im folgenden Beispiel wird mittels einer Klasse `Studierender` der entsprechende Typ definiert,\n",
      "welcher f\u00fcr das Konzept eines einzelnen Studierenden steht."
     ]
    },
    {
     "cell_type": "code",
     "collapsed": true,
     "input": [
      "class Studierender(object):\n",
      "    name = \"Fritz\"\n",
      "    mtrnr = \"0105467\"\n",
      "    stkz = 512"
     ],
     "language": "python",
     "metadata": {},
     "outputs": [],
     "prompt_number": 3
    },
    {
     "cell_type": "markdown",
     "metadata": {},
     "source": [
      "Die drei Attribute dieser Klasse k\u00f6nnen mittels Punktnotation abgefragt werden:"
     ]
    },
    {
     "cell_type": "code",
     "collapsed": false,
     "input": [
      "Studierender.name"
     ],
     "language": "python",
     "metadata": {},
     "outputs": [
      {
       "metadata": {},
       "output_type": "pyout",
       "prompt_number": 4,
       "text": [
        "'Fritz'"
       ]
      }
     ],
     "prompt_number": 4
    },
    {
     "cell_type": "code",
     "collapsed": false,
     "input": [
      "Studierender.stkz"
     ],
     "language": "python",
     "metadata": {},
     "outputs": [
      {
       "metadata": {},
       "output_type": "pyout",
       "prompt_number": 5,
       "text": [
        "512"
       ]
      }
     ],
     "prompt_number": 5
    },
    {
     "cell_type": "markdown",
     "metadata": {},
     "source": [
      "Es ist auch jederzeit m\u00f6glich, die Werte der Attribute zu \u00e4ndern oder neue Attribute hinzuzuf\u00fcgen:"
     ]
    },
    {
     "cell_type": "code",
     "collapsed": false,
     "input": [
      "Studierender.name = \"Susi\""
     ],
     "language": "python",
     "metadata": {},
     "outputs": [],
     "prompt_number": 6
    },
    {
     "cell_type": "code",
     "collapsed": false,
     "input": [
      "Studierender.name"
     ],
     "language": "python",
     "metadata": {},
     "outputs": [
      {
       "metadata": {},
       "output_type": "pyout",
       "prompt_number": 7,
       "text": [
        "'Susi'"
       ]
      }
     ],
     "prompt_number": 7
    },
    {
     "cell_type": "code",
     "collapsed": false,
     "input": [
      "Studierender.lieblinsfarbe = \"purpur\"\n",
      "Studierender.lieblinsfarbe"
     ],
     "language": "python",
     "metadata": {},
     "outputs": [
      {
       "metadata": {},
       "output_type": "pyout",
       "prompt_number": 8,
       "text": [
        "'purpur'"
       ]
      }
     ],
     "prompt_number": 8
    },
    {
     "cell_type": "markdown",
     "metadata": {},
     "source": [
      "Abgesehen davon, die Quintessenz einer Klasse ist jedoch\n",
      "mehr als nur eine konkrete Zusammensetzung dieser Attribute und Methoden zur Hand zu haben.\n",
      "Sprich, man m\u00f6chte mehrere Studierende erzeugen,\n",
      "zum Beispiel in den Variablen `s1`, `s2`, ... , und jeweils andere Attribute mit denselben Namen zuweisen.\n",
      "\n",
      "## Instanzen von Klassen\n",
      "\n",
      "Hierf\u00fcr gibt es in Python eine besondere Methode, \n",
      "die Inititalisierungsmethode `__init__(self, ...)`,\n",
      "welche zum setzen von standard Attributen verwendet wird.\n",
      "\n",
      "Das \"Instanzieren\" einer Klasse ist der Geburtsvorgang eines Objekts dieser Klasse.\n",
      "Diese Attribute beinhalten dann die f\u00fcr einen bestimmten Studierenden spezifischen Daten\n",
      "in einer spezifischen Instanz einer Klasse,\n",
      "und nicht mehr in dem allgemeinen Klassenobjekt, welches f\u00fcr alle Instanzen existiert."
     ]
    },
    {
     "cell_type": "code",
     "collapsed": false,
     "input": [
      "# Definition einer zweiten Version der Klasse\n",
      "class Studierender2(object):\n",
      "    def __init__(self, name, mtrnr, stkz):\n",
      "        self.name = name\n",
      "        self.mtrnr = mtrnr\n",
      "        self.stkz = stkz"
     ],
     "language": "python",
     "metadata": {},
     "outputs": [],
     "prompt_number": 9
    },
    {
     "cell_type": "markdown",
     "metadata": {},
     "source": [
      "Instanzierung zweier Studierender:"
     ]
    },
    {
     "cell_type": "code",
     "collapsed": false,
     "input": [
      "ludwig = Studierender2(\"Ludwig Schmidt\", 9100541, 515)\n",
      "clara = Studierender2(\"Clara Bauer\", 97004131, 515)"
     ],
     "language": "python",
     "metadata": {},
     "outputs": [],
     "prompt_number": 10
    },
    {
     "cell_type": "markdown",
     "metadata": {},
     "source": [
      "Zugriff auf Attribute:"
     ]
    },
    {
     "cell_type": "code",
     "collapsed": false,
     "input": [
      "ludwig.name"
     ],
     "language": "python",
     "metadata": {},
     "outputs": [
      {
       "metadata": {},
       "output_type": "pyout",
       "prompt_number": 11,
       "text": [
        "'Ludwig Schmidt'"
       ]
      }
     ],
     "prompt_number": 11
    },
    {
     "cell_type": "code",
     "collapsed": false,
     "input": [
      "clara.mtrnr"
     ],
     "language": "python",
     "metadata": {},
     "outputs": [
      {
       "metadata": {},
       "output_type": "pyout",
       "prompt_number": 12,
       "text": [
        "97004131"
       ]
      }
     ],
     "prompt_number": 12
    },
    {
     "cell_type": "markdown",
     "metadata": {},
     "source": [
      "Typen der Studierenden:"
     ]
    },
    {
     "cell_type": "code",
     "collapsed": false,
     "input": [
      "type(ludwig)"
     ],
     "language": "python",
     "metadata": {},
     "outputs": [
      {
       "metadata": {},
       "output_type": "pyout",
       "prompt_number": 13,
       "text": [
        "__main__.Studierender2"
       ]
      }
     ],
     "prompt_number": 13
    },
    {
     "cell_type": "code",
     "collapsed": false,
     "input": [
      "type(clara)"
     ],
     "language": "python",
     "metadata": {},
     "outputs": [
      {
       "metadata": {},
       "output_type": "pyout",
       "prompt_number": 14,
       "text": [
        "__main__.Studierender2"
       ]
      }
     ],
     "prompt_number": 14
    },
    {
     "cell_type": "markdown",
     "metadata": {},
     "source": [
      "An dieser Stelle eine Zwischenfrage: Was ist der Typ einer Klasse?\n",
      "\n",
      "Beantworte diese Frage mit dem `type` Befehl und versuche dies zu erkl\u00e4ren."
     ]
    },
    {
     "cell_type": "code",
     "collapsed": false,
     "input": [
      "type(Studierender2)"
     ],
     "language": "python",
     "metadata": {},
     "outputs": [
      {
       "metadata": {},
       "output_type": "pyout",
       "prompt_number": 15,
       "text": [
        "type"
       ]
      }
     ],
     "prompt_number": 15
    },
    {
     "cell_type": "markdown",
     "metadata": {},
     "source": [
      "Von hier aus k\u00f6nnen beliebige Operationen auf Basis beider Instanzen gemacht werden:"
     ]
    },
    {
     "cell_type": "code",
     "collapsed": false,
     "input": [
      "ludwig.mtrnr + clara.stkz"
     ],
     "language": "python",
     "metadata": {},
     "outputs": [
      {
       "metadata": {},
       "output_type": "pyout",
       "prompt_number": 16,
       "text": [
        "9101056"
       ]
      }
     ],
     "prompt_number": 16
    },
    {
     "cell_type": "code",
     "collapsed": false,
     "input": [
      "ludwig.name + \" & \" + clara.name"
     ],
     "language": "python",
     "metadata": {},
     "outputs": [
      {
       "metadata": {},
       "output_type": "pyout",
       "prompt_number": 17,
       "text": [
        "'Ludwig Schmidt & Clara Bauer'"
       ]
      }
     ],
     "prompt_number": 17
    },
    {
     "cell_type": "code",
     "collapsed": false,
     "input": [
      "clara.stkz * 55"
     ],
     "language": "python",
     "metadata": {},
     "outputs": [
      {
       "metadata": {},
       "output_type": "pyout",
       "prompt_number": 18,
       "text": [
        "28325"
       ]
      }
     ],
     "prompt_number": 18
    },
    {
     "cell_type": "markdown",
     "metadata": {},
     "source": [
      "## Methoden\n",
      "\n",
      "Wiederholt sich die Verarbeitung der Informationen in den Attributen,\n",
      "so wird diese in einer \"Methode\" (engl. \"method\") festgelegt.\n",
      "Das ist im Wesentlichen eine Funktion,\n",
      "welche als _erstes_ Argument die Instanz des Objekts (engl. \"Reciever\") erh\u00e4lt,\n",
      "und die restlichen Argumente je nach Definition der Methode.\n",
      "Dieses erste Argument wird \u00fcblicherweise immer `self` genannt.\n",
      "Dies ergibt eine direkte Zuordnung von Funktionen zu Instanzen,\n",
      "und tr\u00e4gt damit zur \u00dcbersichtlichkeit bei.\n",
      "\n",
      "Im folgenden wird eine Klasse `Vorlesung` definiert,\n",
      "welche einen Namen, eine Lehrveranstaltungsnummer, einen H\u00f6rsaal, eine Menge von Studierenden, usw. enth\u00e4lt."
     ]
    },
    {
     "cell_type": "code",
     "collapsed": false,
     "input": [
      "class Vorlesung(object):\n",
      "    def __init__(self, name, lvnr):\n",
      "        self.name = name\n",
      "        self.lvnr = lvnr\n",
      "        self.teilnehmer = set()\n",
      "        \n",
      "    def add_studierender(self, s):\n",
      "        self.teilnehmer.add(s)\n",
      "        \n",
      "    def anzahl_teilnehmer(self):\n",
      "        return len(self.teilnehmer)"
     ],
     "language": "python",
     "metadata": {},
     "outputs": [],
     "prompt_number": 19
    },
    {
     "cell_type": "code",
     "collapsed": false,
     "input": [
      "pp1 = Vorlesung(\"Programmierpraktikum 1\", 25017)\n",
      "pp1.add_studierender(clara)\n",
      "pp1.add_studierender(ludwig)"
     ],
     "language": "python",
     "metadata": {},
     "outputs": [],
     "prompt_number": 20
    },
    {
     "cell_type": "code",
     "collapsed": false,
     "input": [
      "pp1.anzahl_teilnehmer()"
     ],
     "language": "python",
     "metadata": {},
     "outputs": [
      {
       "metadata": {},
       "output_type": "pyout",
       "prompt_number": 21,
       "text": [
        "2"
       ]
      }
     ],
     "prompt_number": 21
    },
    {
     "cell_type": "markdown",
     "metadata": {},
     "source": [
      "Noch ein Studierender der sich sp\u00e4ter angemeldet hat:"
     ]
    },
    {
     "cell_type": "code",
     "collapsed": false,
     "input": [
      "paula = Studierender2(\"Paula Power\", \"1004131\", 515)\n",
      "pp1.add_studierender(paula)\n",
      "pp1.anzahl_teilnehmer()"
     ],
     "language": "python",
     "metadata": {},
     "outputs": [
      {
       "metadata": {},
       "output_type": "pyout",
       "prompt_number": 22,
       "text": [
        "3"
       ]
      }
     ],
     "prompt_number": 22
    },
    {
     "cell_type": "markdown",
     "metadata": {},
     "source": [
      "## Stringdarstellung\n",
      "\n",
      "Neben der schon erw\u00e4hnten eingebauten `__init__(...)` Methode,\n",
      "gibt es noch eine reihe anderer interessanter Methoden.\n",
      "\n",
      "Eine der wichtigeren ist `__str__()` bzw. `__repr__()`,\n",
      "welche aus den Attributen des Objekts eine lesbare Zeichenkette erzeugen.\n",
      "Dies macht Ausgaben f\u00fcr den Menschen viel informativer!"
     ]
    },
    {
     "cell_type": "code",
     "collapsed": false,
     "input": [
      "# ohne __repr__, nur wenig Information:\n",
      "paula"
     ],
     "language": "python",
     "metadata": {},
     "outputs": [
      {
       "metadata": {},
       "output_type": "pyout",
       "prompt_number": 23,
       "text": [
        "<__main__.Studierender2 at 0x2a774d0>"
       ]
      }
     ],
     "prompt_number": 23
    },
    {
     "cell_type": "code",
     "collapsed": false,
     "input": [
      "# wir f\u00fcgen eine `__repr__` Methode hinzu und definieren eine neue Version der Klasse\n",
      "\n",
      "class Studierender3(object):\n",
      "    def __init__(self, name, mtrnr, stkz):\n",
      "        self.name = name\n",
      "        self.mtrnr = mtrnr\n",
      "        self.stkz = stkz\n",
      "    def __repr__(self):\n",
      "        return \"Student/in '%s' mit Mtrnr %s\" % (self.name, self.mtrnr)"
     ],
     "language": "python",
     "metadata": {},
     "outputs": [],
     "prompt_number": 35
    },
    {
     "cell_type": "markdown",
     "metadata": {},
     "source": [
      "Die Objekte m\u00fcssen neu instanziert werden:"
     ]
    },
    {
     "cell_type": "code",
     "collapsed": false,
     "input": [
      "paula = Studierender3(\"Paula Power\", \"1004131\", 515)\n",
      "paula"
     ],
     "language": "python",
     "metadata": {},
     "outputs": [
      {
       "metadata": {},
       "output_type": "pyout",
       "prompt_number": 36,
       "text": [
        "Student/in 'Paula Power' mit Mtrnr 1004131"
       ]
      }
     ],
     "prompt_number": 36
    },
    {
     "cell_type": "markdown",
     "metadata": {},
     "source": [
      "*Nebenbemerkung:* `__repr__` ist allgmeiner aber `__str__` kommt nur bei `print` oder expliziter Zeichenkettenformatierung zum Zug.\n",
      "Gibt es nur `__repr__` aber kein `__str__`, so wird `__repr__` als fallback verwendet. Daher funktioniert das:"
     ]
    },
    {
     "cell_type": "code",
     "collapsed": false,
     "input": [
      "print(paula)"
     ],
     "language": "python",
     "metadata": {},
     "outputs": [
      {
       "output_type": "stream",
       "stream": "stdout",
       "text": [
        "Student/in 'Paula Power' mit Mtrnr 1004131\n"
       ]
      }
     ],
     "prompt_number": 38
    },
    {
     "cell_type": "code",
     "collapsed": false,
     "input": [],
     "language": "python",
     "metadata": {},
     "outputs": []
    }
   ],
   "metadata": {}
  }
 ]
}
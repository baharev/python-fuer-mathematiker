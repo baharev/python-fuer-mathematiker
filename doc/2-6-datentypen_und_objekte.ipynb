{
 "metadata": {
  "name": "",
  "signature": "sha256:c4fe4ffcb4b584b3c8acab26a0a84f9107b1aea953cfe3125442a987b6f62697"
 },
 "nbformat": 3,
 "nbformat_minor": 0,
 "worksheets": [
  {
   "cells": [
    {
     "cell_type": "markdown",
     "metadata": {},
     "source": [
      "# Konzept 6: Typen und Objekte\n",
      "\n",
      "Alle Mitspieler in einem Programm sind Objekte.\n",
      "Diese beinhalten die gesamte zur Verarbeitung bereitstehende Information.\n",
      "Ein Objekt ist nach einer jeweils zum Typen des Objekt's geh\u00f6renden Datenstruktur aufgebaut,\n",
      "und ist mit entsprechenden Daten bef\u00fcllt.\n",
      "\n",
      "Eine \"Klasse\" ist eine Blaupause f\u00fcr so einen \"Typ\".\n",
      "Sie definiert die Struktur und die \"Instanzierung\" der Klasse bef\u00fcllt diese Platzhalter mit Daten."
     ]
    },
    {
     "cell_type": "code",
     "collapsed": false,
     "input": [
      "from IPython.display import SVG\n",
      "SVG(filename = \"res/oop1.svg\")"
     ],
     "language": "python",
     "metadata": {},
     "outputs": [
      {
       "metadata": {},
       "output_type": "pyout",
       "prompt_number": 1,
       "svg": [
        "<svg height=\"480\" id=\"svg2\" inkscape:version=\"0.48.4 r9939\" sodipodi:docname=\"oop1.svg\" version=\"1.1\" width=\"640\" xmlns=\"http://www.w3.org/2000/svg\" xmlns:cc=\"http://creativecommons.org/ns#\" xmlns:dc=\"http://purl.org/dc/elements/1.1/\" xmlns:inkscape=\"http://www.inkscape.org/namespaces/inkscape\" xmlns:rdf=\"http://www.w3.org/1999/02/22-rdf-syntax-ns#\" xmlns:sodipodi=\"http://sodipodi.sourceforge.net/DTD/sodipodi-0.dtd\" xmlns:svg=\"http://www.w3.org/2000/svg\">\n",
        "  <defs id=\"defs4\"/>\n",
        "  <sodipodi:namedview bordercolor=\"#666666\" borderopacity=\"1.0\" id=\"base\" inkscape:current-layer=\"g3892\" inkscape:cx=\"112.00573\" inkscape:cy=\"272.86762\" inkscape:document-units=\"px\" inkscape:pageopacity=\"0.0\" inkscape:pageshadow=\"2\" inkscape:window-height=\"1056\" inkscape:window-maximized=\"1\" inkscape:window-width=\"1920\" inkscape:window-x=\"0\" inkscape:window-y=\"24\" inkscape:zoom=\"1.4\" pagecolor=\"#ffffff\" showgrid=\"true\">\n",
        "    <inkscape:grid empspacing=\"5\" enabled=\"true\" id=\"grid3873\" snapvisiblegridlinesonly=\"true\" type=\"xygrid\" visible=\"true\"/>\n",
        "  </sodipodi:namedview>\n",
        "  <metadata id=\"metadata7\">\n",
        "    <rdf:RDF>\n",
        "      <cc:Work rdf:about=\"\">\n",
        "        <dc:format>image/svg+xml</dc:format>\n",
        "        <dc:type rdf:resource=\"http://purl.org/dc/dcmitype/StillImage\"/>\n",
        "        <dc:title/>\n",
        "      </cc:Work>\n",
        "    </rdf:RDF>\n",
        "  </metadata>\n",
        "  <g id=\"layer1\" inkscape:groupmode=\"layer\" inkscape:label=\"Layer 1\" transform=\"translate(0,-572.36218)\">\n",
        "    <g id=\"g3875\">\n",
        "      <g id=\"g3892\">\n",
        "        <path d=\"m 143.58536,248.92973 c -112.818003,62.60186 -1.99271,6.44719 -124.223283,-34.8636 -134.882267,-45.58674 -63.495939,72.58609 -132.577517,-51.90934 -62.60185,-112.818003 -6.44719,-1.99271 34.8636,-124.223282 45.586741,-134.882269 -72.58609,-63.49594 51.909342,-132.577516 112.818002,-62.601852 1.99271,-6.447192 124.223281,34.863598 134.882267,45.586741 63.495937,-72.58609 132.577517,51.9093423 62.60185,112.8179977 6.44719,1.9927102 -34.8636,124.2232777 -45.58674,134.88227 72.58609,63.49594 -51.90934,132.57752 z\" id=\"path3009\" inkscape:flatsided=\"false\" inkscape:randomized=\"0\" inkscape:rounded=\"1\" inkscape:transform-center-x=\"-3.2041926\" inkscape:transform-center-y=\"-2.2224989\" sodipodi:arg1=\"1.1112529\" sodipodi:arg2=\"1.8496929\" sodipodi:cx=\"58.57143\" sodipodi:cy=\"77.14286\" sodipodi:r1=\"191.67184\" sodipodi:r2=\"142.42667\" sodipodi:sides=\"4\" sodipodi:type=\"star\" style=\"color:#000000;fill:#ffffff;fill-opacity:1;fill-rule:nonzero;stroke:#0000ff;stroke-width:14.76689720000000072;stroke-linecap:round;stroke-linejoin:round;stroke-miterlimit:4;stroke-opacity:1;stroke-dasharray:none;stroke-dashoffset:0;marker:none;visibility:visible;display:inline;overflow:visible;enable-background:accumulate\" transform=\"matrix(0.34636374,0.18855258,-0.18855258,0.34636374,130.1848,761.39443)\"/>\n",
        "        <path d=\"m 246.47721,239.07861 c 0,23.71041 -19.22108,42.93149 -42.93148,42.93149 -23.7104,0 -42.93148,-19.22108 -42.93148,-42.93149 0,-23.7104 19.22108,-42.93148 42.93148,-42.93148 23.7104,0 42.93148,19.22108 42.93148,42.93148 z\" id=\"path3779\" sodipodi:cx=\"203.54573\" sodipodi:cy=\"239.07861\" sodipodi:rx=\"42.931484\" sodipodi:ry=\"42.931484\" sodipodi:type=\"arc\" style=\"color:#000000;fill:#ffffff;fill-opacity:1;fill-rule:nonzero;stroke:#0000ff;stroke-width:6.41509438000000021;stroke-linecap:round;stroke-linejoin:round;stroke-miterlimit:4;stroke-opacity:1;stroke-dasharray:none;stroke-dashoffset:0;marker:none;visibility:visible;display:inline;overflow:visible;enable-background:accumulate\" transform=\"matrix(0.72622169,0,0,0.72622169,71.283957,705.33963)\"/>\n",
        "        <path d=\"m 176.48464,838.07229 20.12143,19.30596\" id=\"path3781\" inkscape:connection-end=\"#path3779\" inkscape:connection-end-point=\"d4\" inkscape:connection-start=\"#path3009\" inkscape:connection-start-point=\"d4\" inkscape:connector-curvature=\"0\" inkscape:connector-type=\"polyline\" style=\"fill:#ffffff;stroke:#0000ff;stroke-width:5.82347584;stroke-linecap:butt;stroke-linejoin:miter;stroke-miterlimit:4;stroke-opacity:1;stroke-dasharray:none;display:inline\"/>\n",
        "        <rect height=\"44.707748\" id=\"rect3783\" style=\"color:#000000;fill:#ffffff;fill-opacity:1;fill-rule:nonzero;stroke:#0000ff;stroke-width:4.65878057000000023;stroke-linecap:round;stroke-linejoin:round;stroke-miterlimit:4;stroke-opacity:1;stroke-dasharray:none;stroke-dashoffset:0;marker:none;visibility:visible;display:inline;overflow:visible;enable-background:accumulate\" width=\"44.707748\" x=\"205.5733\" y=\"696.01501\"/>\n",
        "        <path d=\"m 246.47721,239.07861 c 0,23.71041 -19.22108,42.93149 -42.93148,42.93149 -23.7104,0 -42.93148,-19.22108 -42.93148,-42.93149 0,-23.7104 19.22108,-42.93148 42.93148,-42.93148 23.7104,0 42.93148,19.22108 42.93148,42.93148 z\" id=\"path3779-9\" sodipodi:cx=\"203.54573\" sodipodi:cy=\"239.07861\" sodipodi:rx=\"42.931484\" sodipodi:ry=\"42.931484\" sodipodi:type=\"arc\" style=\"color:#000000;fill:#ffffff;fill-opacity:1;fill-rule:nonzero;stroke:#0000ff;stroke-width:12.59259224000000010;stroke-linecap:round;stroke-linejoin:round;stroke-miterlimit:4;stroke-opacity:1;stroke-dasharray:none;stroke-dashoffset:0;marker:none;visibility:visible;display:inline;overflow:visible;enable-background:accumulate\" transform=\"matrix(0.369962,0,0,0.369962,-15.619329,780.5133)\"/>\n",
        "        <path d=\"m 246.47721,239.07861 c 0,23.71041 -19.22108,42.93149 -42.93148,42.93149 -23.7104,0 -42.93148,-19.22108 -42.93148,-42.93149 0,-23.7104 19.22108,-42.93148 42.93148,-42.93148 23.7104,0 42.93148,19.22108 42.93148,42.93148 z\" id=\"path3779-2\" sodipodi:cx=\"203.54573\" sodipodi:cy=\"239.07861\" sodipodi:rx=\"42.931484\" sodipodi:ry=\"42.931484\" sodipodi:type=\"arc\" style=\"color:#000000;fill:#ffffff;fill-opacity:1;fill-rule:nonzero;stroke:#0000ff;stroke-width:12.14285660000000000;stroke-linecap:round;stroke-linejoin:round;stroke-miterlimit:4;stroke-opacity:1;stroke-dasharray:none;stroke-dashoffset:0;marker:none;visibility:visible;display:inline;overflow:visible;enable-background:accumulate\" transform=\"matrix(0.3836643,0,0,0.3836643,-16.643589,634.29021)\"/>\n",
        "        <path d=\"M 95.850383,759.80019 73.201455,737.55728\" id=\"path3816\" inkscape:connection-end=\"#path3779-2\" inkscape:connection-end-point=\"d4\" inkscape:connection-start=\"#path3009\" inkscape:connection-start-point=\"d4\" inkscape:connector-curvature=\"0\" inkscape:connector-type=\"polyline\" style=\"fill:#ffffff;stroke:#0000ff;stroke-width:5.82347584;stroke-linecap:butt;stroke-linejoin:miter;stroke-miterlimit:4;stroke-opacity:1;stroke-dasharray:none;display:inline\"/>\n",
        "        <path d=\"m 94.520848,837.06798 -23.121382,21.1696\" id=\"path3818\" inkscape:connection-end=\"#path3779-9\" inkscape:connection-end-point=\"d4\" inkscape:connection-start=\"#path3009\" inkscape:connection-start-point=\"d4\" inkscape:connector-curvature=\"0\" inkscape:connector-type=\"polyline\" style=\"fill:#ffffff;stroke:#0000ff;stroke-width:5.82347584;stroke-linecap:butt;stroke-linejoin:miter;stroke-miterlimit:4;stroke-opacity:1;stroke-dasharray:none;display:inline\"/>\n",
        "        <rect height=\"21.177355\" id=\"rect3826\" style=\"color:#000000;fill:#ffffff;fill-opacity:1;fill-rule:nonzero;stroke:#0000ff;stroke-width:3.49408554999999987;stroke-linecap:round;stroke-linejoin:round;stroke-miterlimit:4;stroke-opacity:1;stroke-dasharray:none;stroke-dashoffset:0;marker:none;visibility:visible;display:inline;overflow:visible;enable-background:accumulate\" width=\"21.177355\" x=\"164.39511\" y=\"921.90674\"/>\n",
        "        <rect height=\"21.177355\" id=\"rect3826-2\" style=\"color:#000000;fill:#ffffff;fill-opacity:1;fill-rule:nonzero;stroke:#0000ff;stroke-width:3.49408554999999987;stroke-linecap:round;stroke-linejoin:round;stroke-miterlimit:4;stroke-opacity:1;stroke-dasharray:none;stroke-dashoffset:0;marker:none;visibility:visible;display:inline;overflow:visible;enable-background:accumulate\" width=\"21.177355\" x=\"276.16452\" y=\"876.02246\"/>\n",
        "        <rect height=\"21.177355\" id=\"rect3826-3\" style=\"color:#000000;fill:#ffffff;fill-opacity:1;fill-rule:nonzero;stroke:#0000ff;stroke-width:3.49408554999999987;stroke-linecap:round;stroke-linejoin:round;stroke-miterlimit:4;stroke-opacity:1;stroke-dasharray:none;stroke-dashoffset:0;marker:none;visibility:visible;display:inline;overflow:visible;enable-background:accumulate\" width=\"21.177355\" x=\"238.51582\" y=\"811.3139\"/>\n",
        "        <path d=\"m 199.27354,903.02382 -15.56283,18.88292\" id=\"path3853\" inkscape:connection-end=\"#rect3826\" inkscape:connection-end-point=\"d4\" inkscape:connection-start=\"#path3779\" inkscape:connection-start-point=\"d4\" inkscape:connector-curvature=\"0\" inkscape:connector-type=\"polyline\" style=\"fill:#ffffff;stroke:#0000ff;stroke-width:4.65878057;stroke-linecap:butt;stroke-linejoin:miter;stroke-miterlimit:4;stroke-opacity:1;stroke-dasharray:none\"/>\n",
        "        <path d=\"m 250.08652,882.46618 26.078,2.94797\" id=\"path3855\" inkscape:connection-end=\"#rect3826-2\" inkscape:connection-end-point=\"d4\" inkscape:connection-start=\"#path3779\" inkscape:connection-start-point=\"d4\" inkscape:connector-curvature=\"0\" inkscape:connector-type=\"polyline\" style=\"fill:#ffffff;stroke:#0000ff;stroke-width:4.65878057;stroke-linecap:butt;stroke-linejoin:miter;stroke-miterlimit:4;stroke-opacity:1;stroke-dasharray:none;display:inline\"/>\n",
        "        <path d=\"m 243.53726,832.49126 -9.92183,18.87092\" id=\"path3859\" inkscape:connection-end=\"#path3779\" inkscape:connection-end-point=\"d4\" inkscape:connection-start=\"#rect3826-3\" inkscape:connection-start-point=\"d4\" inkscape:connector-curvature=\"0\" inkscape:connector-type=\"polyline\" style=\"fill:#ffffff;stroke:#0000ff;stroke-width:4.65878057;stroke-linecap:butt;stroke-linejoin:miter;stroke-miterlimit:4;stroke-opacity:1;stroke-dasharray:none\"/>\n",
        "        <path d=\"m 143.58536,248.92973 c -112.818003,62.60186 -1.99271,6.44719 -124.223283,-34.8636 -134.882267,-45.58674 -63.495939,72.58609 -132.577517,-51.90934 -62.60185,-112.818003 -6.44719,-1.99271 34.8636,-124.223282 45.586741,-134.882269 -72.58609,-63.49594 51.909342,-132.577516 112.818002,-62.601852 1.99271,-6.447192 124.223281,34.863598 134.882267,45.586741 63.495937,-72.58609 132.577517,51.9093423 62.60185,112.8179977 6.44719,1.9927102 -34.8636,124.2232777 -45.58674,134.88227 72.58609,63.49594 -51.90934,132.57752 z\" id=\"path3009-0\" inkscape:flatsided=\"false\" inkscape:randomized=\"0\" inkscape:rounded=\"1\" inkscape:transform-center-x=\"-1.6454534\" inkscape:transform-center-y=\"-1.1413278\" sodipodi:arg1=\"1.1112529\" sodipodi:arg2=\"1.8496929\" sodipodi:cx=\"58.57143\" sodipodi:cy=\"77.14286\" sodipodi:r1=\"191.67184\" sodipodi:r2=\"142.42667\" sodipodi:sides=\"4\" sodipodi:type=\"star\" style=\"color:#000000;fill:#ccaaff;fill-opacity:1;fill-rule:nonzero;stroke:#000000;stroke-width:14.76689720000000072;stroke-linecap:round;stroke-linejoin:round;stroke-miterlimit:4;stroke-opacity:1;stroke-dasharray:none;stroke-dashoffset:0;marker:none;visibility:visible;display:inline;overflow:visible;enable-background:accumulate\" transform=\"matrix(0.17786907,0.09682789,-0.09682789,0.17786907,385.86607,690.46428)\"/>\n",
        "        <path d=\"m 246.47721,239.07861 c 0,23.71041 -19.22108,42.93149 -42.93148,42.93149 -23.7104,0 -42.93148,-19.22108 -42.93148,-42.93149 0,-23.7104 19.22108,-42.93148 42.93148,-42.93148 23.7104,0 42.93148,19.22108 42.93148,42.93148 z\" id=\"path3779-5\" sodipodi:cx=\"203.54573\" sodipodi:cy=\"239.07861\" sodipodi:rx=\"42.931484\" sodipodi:ry=\"42.931484\" sodipodi:type=\"arc\" style=\"color:#000000;fill:#ff0000;fill-opacity:1;fill-rule:nonzero;stroke:#000000;stroke-width:6.41509438;stroke-linecap:round;stroke-linejoin:round;stroke-miterlimit:4;stroke-opacity:1;stroke-dasharray:none;stroke-dashoffset:0;marker:none;visibility:visible;display:inline;overflow:visible;enable-background:accumulate\" transform=\"matrix(0.3729385,0,0,0.3729385,355.61857,661.67832)\"/>\n",
        "        <path d=\"m 409.64255,729.84086 10.33301,9.91425\" id=\"path3781-7\" inkscape:connection-end=\"#path3779-5\" inkscape:connection-end-point=\"d4\" inkscape:connection-start=\"#path3009-0\" inkscape:connection-start-point=\"d4\" inkscape:connector-curvature=\"0\" inkscape:connector-type=\"polyline\" style=\"fill:none;stroke:#000000;stroke-width:2.99054456;stroke-linecap:butt;stroke-linejoin:miter;stroke-miterlimit:4;stroke-opacity:1;stroke-dasharray:none;display:inline\"/>\n",
        "        <rect height=\"22.958887\" id=\"rect3783-1\" style=\"color:#000000;fill:#800080;fill-opacity:1;fill-rule:nonzero;stroke:#000000;stroke-width:2.39243555000000008;stroke-linecap:round;stroke-linejoin:round;stroke-miterlimit:4;stroke-opacity:1;stroke-dasharray:none;stroke-dashoffset:0;marker:none;visibility:visible;display:inline;overflow:visible;enable-background:accumulate\" width=\"22.958887\" x=\"424.58051\" y=\"656.88983\"/>\n",
        "        <path d=\"m 246.47721,239.07861 c 0,23.71041 -19.22108,42.93149 -42.93148,42.93149 -23.7104,0 -42.93148,-19.22108 -42.93148,-42.93149 0,-23.7104 19.22108,-42.93148 42.93148,-42.93148 23.7104,0 42.93148,19.22108 42.93148,42.93148 z\" id=\"path3779-9-5\" sodipodi:cx=\"203.54573\" sodipodi:cy=\"239.07861\" sodipodi:rx=\"42.931484\" sodipodi:ry=\"42.931484\" sodipodi:type=\"arc\" style=\"color:#000000;fill:#00ff00;fill-opacity:1;fill-rule:nonzero;stroke:#000000;stroke-width:12.59259224;stroke-linecap:round;stroke-linejoin:round;stroke-miterlimit:4;stroke-opacity:1;stroke-dasharray:none;stroke-dashoffset:0;marker:none;visibility:visible;display:inline;overflow:visible;enable-background:accumulate\" transform=\"matrix(0.18998754,0,0,0.18998754,310.99091,700.28244)\"/>\n",
        "        <path d=\"m 246.47721,239.07861 c 0,23.71041 -19.22108,42.93149 -42.93148,42.93149 -23.7104,0 -42.93148,-19.22108 -42.93148,-42.93149 0,-23.7104 19.22108,-42.93148 42.93148,-42.93148 23.7104,0 42.93148,19.22108 42.93148,42.93148 z\" id=\"path3779-2-4\" sodipodi:cx=\"203.54573\" sodipodi:cy=\"239.07861\" sodipodi:rx=\"42.931484\" sodipodi:ry=\"42.931484\" sodipodi:type=\"arc\" style=\"color:#000000;fill:#ffff00;fill-opacity:1;fill-rule:nonzero;stroke:#000000;stroke-width:12.1428566;stroke-linecap:round;stroke-linejoin:round;stroke-miterlimit:4;stroke-opacity:1;stroke-dasharray:none;stroke-dashoffset:0;marker:none;visibility:visible;display:inline;overflow:visible;enable-background:accumulate\" transform=\"matrix(0.19702412,0,0,0.19702412,310.46491,625.19212)\"/>\n",
        "        <path d=\"M 368.23423,689.64559 356.60327,678.22313\" id=\"path3816-6\" inkscape:connection-end=\"#path3779-2-4\" inkscape:connection-end-point=\"d4\" inkscape:connection-start=\"#path3009-0\" inkscape:connection-start-point=\"d4\" inkscape:connector-curvature=\"0\" inkscape:connector-type=\"polyline\" style=\"fill:none;stroke:#000000;stroke-width:2.991;stroke-linecap:butt;stroke-linejoin:miter;stroke-miterlimit:4;stroke-opacity:1;stroke-dasharray:none;display:inline\"/>\n",
        "        <path d=\"M 367.55147,729.32511 355.6779,740.19639\" id=\"path3818-9\" inkscape:connection-end=\"#path3779-9-5\" inkscape:connection-end-point=\"d4\" inkscape:connection-start=\"#path3009-0\" inkscape:connection-start-point=\"d4\" inkscape:connector-curvature=\"0\" inkscape:connector-type=\"polyline\" style=\"fill:none;stroke:#000000;stroke-width:2.99054456;stroke-linecap:butt;stroke-linejoin:miter;stroke-miterlimit:4;stroke-opacity:1;stroke-dasharray:none;display:inline\"/>\n",
        "        <rect height=\"10.875262\" id=\"rect3826-0\" style=\"color:#000000;fill:#00ff00;fill-opacity:1;fill-rule:nonzero;stroke:#000000;stroke-width:1.79432678;stroke-linecap:round;stroke-linejoin:round;stroke-miterlimit:4;stroke-opacity:1;stroke-dasharray:none;stroke-dashoffset:0;marker:none;visibility:visible;display:inline;overflow:visible;enable-background:accumulate\" width=\"10.875262\" x=\"403.43417\" y=\"772.89258\"/>\n",
        "        <rect height=\"10.875262\" id=\"rect3826-2-5\" style=\"color:#000000;fill:#ffff00;fill-opacity:1;fill-rule:nonzero;stroke:#000000;stroke-width:1.79432678;stroke-linecap:round;stroke-linejoin:round;stroke-miterlimit:4;stroke-opacity:1;stroke-dasharray:none;stroke-dashoffset:0;marker:none;visibility:visible;display:inline;overflow:visible;enable-background:accumulate\" width=\"10.875262\" x=\"460.83139\" y=\"749.32953\"/>\n",
        "        <rect height=\"10.875262\" id=\"rect3826-3-4\" style=\"color:#000000;fill:#ffff00;fill-opacity:1;fill-rule:nonzero;stroke:#000000;stroke-width:1.79432678;stroke-linecap:round;stroke-linejoin:round;stroke-miterlimit:4;stroke-opacity:1;stroke-dasharray:none;stroke-dashoffset:0;marker:none;visibility:visible;display:inline;overflow:visible;enable-background:accumulate\" width=\"10.875262\" x=\"441.49759\" y=\"716.09955\"/>\n",
        "        <path d=\"m 421.34539,763.19559 -7.99202,9.69699\" id=\"path3853-0\" inkscape:connection-end=\"#rect3826-0\" inkscape:connection-end-point=\"d4\" inkscape:connection-start=\"#path3779-5\" inkscape:connection-start-point=\"d4\" inkscape:connector-curvature=\"0\" inkscape:connector-type=\"polyline\" style=\"fill:none;stroke:#000000;stroke-width:2.39243555;stroke-linecap:butt;stroke-linejoin:miter;stroke-miterlimit:4;stroke-opacity:1;stroke-dasharray:none\"/>\n",
        "        <path d=\"m 447.43951,752.63858 13.39188,1.51388\" id=\"path3855-5\" inkscape:connection-end=\"#rect3826-2-5\" inkscape:connection-end-point=\"d4\" inkscape:connection-start=\"#path3779-5\" inkscape:connection-start-point=\"d4\" inkscape:connector-curvature=\"0\" inkscape:connector-type=\"polyline\" style=\"fill:none;stroke:#000000;stroke-width:2.39243555;stroke-linecap:butt;stroke-linejoin:miter;stroke-miterlimit:4;stroke-opacity:1;stroke-dasharray:none;display:inline\"/>\n",
        "        <path d=\"m 444.07626,726.97481 -5.09519,9.69085\" id=\"path3859-9\" inkscape:connection-end=\"#path3779-5\" inkscape:connection-end-point=\"d4\" inkscape:connection-start=\"#rect3826-3-4\" inkscape:connection-start-point=\"d4\" inkscape:connector-curvature=\"0\" inkscape:connector-type=\"polyline\" style=\"fill:none;stroke:#000000;stroke-width:2.39243555;stroke-linecap:butt;stroke-linejoin:miter;stroke-miterlimit:4;stroke-opacity:1;stroke-dasharray:none\"/>\n",
        "        <path d=\"m 143.58536,248.92973 c -112.818003,62.60186 -1.99271,6.44719 -124.223283,-34.8636 -134.882267,-45.58674 -63.495939,72.58609 -132.577517,-51.90934 -62.60185,-112.818003 -6.44719,-1.99271 34.8636,-124.223282 45.586741,-134.882269 -72.58609,-63.49594 51.909342,-132.577516 112.818002,-62.601852 1.99271,-6.447192 124.223281,34.863598 134.882267,45.586741 63.495937,-72.58609 132.577517,51.9093423 62.60185,112.8179977 6.44719,1.9927102 -34.8636,124.2232777 -45.58674,134.88227 72.58609,63.49594 -51.90934,132.57752 z\" id=\"path3009-0-6\" inkscape:flatsided=\"false\" inkscape:randomized=\"0\" inkscape:rounded=\"1\" inkscape:transform-center-x=\"-1.6454534\" inkscape:transform-center-y=\"-1.1413278\" sodipodi:arg1=\"1.1112529\" sodipodi:arg2=\"1.8496929\" sodipodi:cx=\"58.57143\" sodipodi:cy=\"77.14286\" sodipodi:r1=\"191.67184\" sodipodi:r2=\"142.42667\" sodipodi:sides=\"4\" sodipodi:type=\"star\" style=\"color:#000000;fill:#00ffff;fill-opacity:1;fill-rule:nonzero;stroke:#000000;stroke-width:14.76689720000000072;stroke-linecap:round;stroke-linejoin:round;stroke-miterlimit:4;stroke-opacity:1;stroke-dasharray:none;stroke-dashoffset:0;marker:none;visibility:visible;display:inline;overflow:visible;enable-background:accumulate\" transform=\"matrix(0.17786907,0.09682789,-0.09682789,0.17786907,519.0365,808.45266)\"/>\n",
        "        <path d=\"m 246.47721,239.07861 c 0,23.71041 -19.22108,42.93149 -42.93148,42.93149 -23.7104,0 -42.93148,-19.22108 -42.93148,-42.93149 0,-23.7104 19.22108,-42.93148 42.93148,-42.93148 23.7104,0 42.93148,19.22108 42.93148,42.93148 z\" id=\"path3779-5-9\" sodipodi:cx=\"203.54573\" sodipodi:cy=\"239.07861\" sodipodi:rx=\"42.931484\" sodipodi:ry=\"42.931484\" sodipodi:type=\"arc\" style=\"color:#000000;fill:#800080;fill-opacity:1;fill-rule:nonzero;stroke:#000000;stroke-width:6.41509438000000021;stroke-linecap:round;stroke-linejoin:round;stroke-miterlimit:4;stroke-opacity:1;stroke-dasharray:none;stroke-dashoffset:0;marker:none;visibility:visible;display:inline;overflow:visible;enable-background:accumulate\" transform=\"matrix(0.3729385,0,0,0.3729385,488.789,779.6667)\"/>\n",
        "        <path d=\"m 542.81298,847.82924 10.33301,9.91425\" id=\"path3781-7-4\" inkscape:connection-end=\"#path3779-5-9\" inkscape:connection-end-point=\"d4\" inkscape:connection-start=\"#path3009-0-6\" inkscape:connection-start-point=\"d4\" inkscape:connector-curvature=\"0\" inkscape:connector-type=\"polyline\" style=\"fill:none;stroke:#000000;stroke-width:2.99054456;stroke-linecap:butt;stroke-linejoin:miter;stroke-miterlimit:4;stroke-opacity:1;stroke-dasharray:none;display:inline\"/>\n",
        "        <rect height=\"22.958887\" id=\"rect3783-1-7\" style=\"color:#000000;fill:#00ff00;fill-opacity:1;fill-rule:nonzero;stroke:#000000;stroke-width:2.39243555000000008;stroke-linecap:round;stroke-linejoin:round;stroke-miterlimit:4;stroke-opacity:1;stroke-dasharray:none;stroke-dashoffset:0;marker:none;visibility:visible;display:inline;overflow:visible;enable-background:accumulate\" width=\"22.958887\" x=\"557.75098\" y=\"774.87823\"/>\n",
        "        <path d=\"m 246.47721,239.07861 c 0,23.71041 -19.22108,42.93149 -42.93148,42.93149 -23.7104,0 -42.93148,-19.22108 -42.93148,-42.93149 0,-23.7104 19.22108,-42.93148 42.93148,-42.93148 23.7104,0 42.93148,19.22108 42.93148,42.93148 z\" id=\"path3779-9-5-3\" sodipodi:cx=\"203.54573\" sodipodi:cy=\"239.07861\" sodipodi:rx=\"42.931484\" sodipodi:ry=\"42.931484\" sodipodi:type=\"arc\" style=\"color:#000000;fill:#ff6600;fill-opacity:1;fill-rule:nonzero;stroke:#000000;stroke-width:12.59259224000000010;stroke-linecap:round;stroke-linejoin:round;stroke-miterlimit:4;stroke-opacity:1;stroke-dasharray:none;stroke-dashoffset:0;marker:none;visibility:visible;display:inline;overflow:visible;enable-background:accumulate\" transform=\"matrix(0.18998754,0,0,0.18998754,444.16134,818.27082)\"/>\n",
        "        <path d=\"m 246.47721,239.07861 c 0,23.71041 -19.22108,42.93149 -42.93148,42.93149 -23.7104,0 -42.93148,-19.22108 -42.93148,-42.93149 0,-23.7104 19.22108,-42.93148 42.93148,-42.93148 23.7104,0 42.93148,19.22108 42.93148,42.93148 z\" id=\"path3779-2-4-9\" sodipodi:cx=\"203.54573\" sodipodi:cy=\"239.07861\" sodipodi:rx=\"42.931484\" sodipodi:ry=\"42.931484\" sodipodi:type=\"arc\" style=\"color:#000000;fill:#008080;fill-opacity:1;fill-rule:nonzero;stroke:#000000;stroke-width:12.14285660000000000;stroke-linecap:round;stroke-linejoin:round;stroke-miterlimit:4;stroke-opacity:1;stroke-dasharray:none;stroke-dashoffset:0;marker:none;visibility:visible;display:inline;overflow:visible;enable-background:accumulate\" transform=\"matrix(0.19702412,0,0,0.19702412,443.63534,743.1805)\"/>\n",
        "        <path d=\"M 501.40466,807.63397 489.7737,796.21151\" id=\"path3816-6-7\" inkscape:connection-end=\"#path3779-2-4-9\" inkscape:connection-end-point=\"d4\" inkscape:connection-start=\"#path3009-0-6\" inkscape:connection-start-point=\"d4\" inkscape:connector-curvature=\"0\" inkscape:connector-type=\"polyline\" style=\"fill:none;stroke:#000000;stroke-width:2.99054456;stroke-linecap:butt;stroke-linejoin:miter;stroke-miterlimit:4;stroke-opacity:1;stroke-dasharray:none;display:inline\"/>\n",
        "        <path d=\"m 500.7219,847.31349 -11.87357,10.87128\" id=\"path3818-9-0\" inkscape:connection-end=\"#path3779-9-5-3\" inkscape:connection-end-point=\"d4\" inkscape:connection-start=\"#path3009-0-6\" inkscape:connection-start-point=\"d4\" inkscape:connector-curvature=\"0\" inkscape:connector-type=\"polyline\" style=\"fill:#ff00ff;stroke:#000000;stroke-width:2.99054456;stroke-linecap:butt;stroke-linejoin:miter;stroke-miterlimit:4;stroke-opacity:1;stroke-dasharray:none;display:inline\"/>\n",
        "        <rect height=\"10.875262\" id=\"rect3826-0-7\" style=\"color:#000000;fill:#00ffff;fill-opacity:1;fill-rule:nonzero;stroke:#000000;stroke-width:1.79432678000000001;stroke-linecap:round;stroke-linejoin:round;stroke-miterlimit:4;stroke-opacity:1;stroke-dasharray:none;stroke-dashoffset:0;marker:none;visibility:visible;display:inline;overflow:visible;enable-background:accumulate\" width=\"10.875262\" x=\"536.60461\" y=\"890.88092\"/>\n",
        "        <rect height=\"10.875262\" id=\"rect3826-2-5-2\" style=\"color:#000000;fill:#ff00ff;fill-opacity:1;fill-rule:nonzero;stroke:#000000;stroke-width:1.79432678000000001;stroke-linecap:round;stroke-linejoin:round;stroke-miterlimit:4;stroke-opacity:1;stroke-dasharray:none;stroke-dashoffset:0;marker:none;visibility:visible;display:inline;overflow:visible;enable-background:accumulate\" width=\"10.875262\" x=\"594.00183\" y=\"867.31787\"/>\n",
        "        <rect height=\"10.875262\" id=\"rect3826-3-4-6\" style=\"color:#000000;fill:#008080;fill-opacity:1;fill-rule:nonzero;stroke:#000000;stroke-width:1.79432678000000001;stroke-linecap:round;stroke-linejoin:round;stroke-miterlimit:4;stroke-opacity:1;stroke-dasharray:none;stroke-dashoffset:0;marker:none;visibility:visible;display:inline;overflow:visible;enable-background:accumulate\" width=\"10.875262\" x=\"574.66803\" y=\"834.08789\"/>\n",
        "        <path d=\"m 554.51581,881.18397 -7.992,9.69695\" id=\"path3853-0-1\" inkscape:connection-end=\"#rect3826-0-7\" inkscape:connection-end-point=\"d4\" inkscape:connection-start=\"#path3779-5-9\" inkscape:connection-start-point=\"d4\" inkscape:connector-curvature=\"0\" inkscape:connector-type=\"polyline\" style=\"fill:#00ffff;stroke:#000000;stroke-width:2.39243555;stroke-linecap:butt;stroke-linejoin:miter;stroke-miterlimit:4;stroke-opacity:1;stroke-dasharray:none\"/>\n",
        "        <path d=\"m 580.60994,870.62695 13.39189,1.51386\" id=\"path3855-5-5\" inkscape:connection-end=\"#rect3826-2-5-2\" inkscape:connection-end-point=\"d4\" inkscape:connection-start=\"#path3779-5-9\" inkscape:connection-start-point=\"d4\" inkscape:connector-curvature=\"0\" inkscape:connector-type=\"polyline\" style=\"fill:none;stroke:#000000;stroke-width:2.39243555;stroke-linecap:butt;stroke-linejoin:miter;stroke-miterlimit:4;stroke-opacity:1;stroke-dasharray:none;display:inline\"/>\n",
        "        <path d=\"m 577.2467,844.96315 -5.0952,9.69089\" id=\"path3859-9-3\" inkscape:connection-end=\"#path3779-5-9\" inkscape:connection-end-point=\"d4\" inkscape:connection-start=\"#rect3826-3-4-6\" inkscape:connection-start-point=\"d4\" inkscape:connector-curvature=\"0\" inkscape:connector-type=\"polyline\" style=\"fill:none;stroke:#000000;stroke-width:2.39243555;stroke-linecap:butt;stroke-linejoin:miter;stroke-miterlimit:4;stroke-opacity:1;stroke-dasharray:none\"/>\n",
        "        <path d=\"m 143.58536,248.92973 c -112.818003,62.60186 -1.99271,6.44719 -124.223283,-34.8636 -134.882267,-45.58674 -63.495939,72.58609 -132.577517,-51.90934 -62.60185,-112.818003 -6.44719,-1.99271 34.8636,-124.223282 45.586741,-134.882269 -72.58609,-63.49594 51.909342,-132.577516 112.818002,-62.601852 1.99271,-6.447192 124.223281,34.863598 134.882267,45.586741 63.495937,-72.58609 132.577517,51.9093423 62.60185,112.8179977 6.44719,1.9927102 -34.8636,124.2232777 -45.58674,134.88227 72.58609,63.49594 -51.90934,132.57752 z\" id=\"path3009-0-66\" inkscape:flatsided=\"false\" inkscape:randomized=\"0\" inkscape:rounded=\"1\" inkscape:transform-center-x=\"-1.6454534\" inkscape:transform-center-y=\"-1.1413278\" sodipodi:arg1=\"1.1112529\" sodipodi:arg2=\"1.8496929\" sodipodi:cx=\"58.57143\" sodipodi:cy=\"77.14286\" sodipodi:r1=\"191.67184\" sodipodi:r2=\"142.42667\" sodipodi:sides=\"4\" sodipodi:type=\"star\" style=\"color:#000000;fill:#00ff00;fill-opacity:1;fill-rule:nonzero;stroke:#000000;stroke-width:14.76689720000000072;stroke-linecap:round;stroke-linejoin:round;stroke-miterlimit:4;stroke-opacity:1;stroke-dasharray:none;stroke-dashoffset:0;marker:none;visibility:visible;display:inline;overflow:visible;enable-background:accumulate\" transform=\"matrix(0.17786907,0.09682789,-0.09682789,0.17786907,397.51872,926.2293)\"/>\n",
        "        <path d=\"m 246.47721,239.07861 c 0,23.71041 -19.22108,42.93149 -42.93148,42.93149 -23.7104,0 -42.93148,-19.22108 -42.93148,-42.93149 0,-23.7104 19.22108,-42.93148 42.93148,-42.93148 23.7104,0 42.93148,19.22108 42.93148,42.93148 z\" id=\"path3779-5-1\" sodipodi:cx=\"203.54573\" sodipodi:cy=\"239.07861\" sodipodi:rx=\"42.931484\" sodipodi:ry=\"42.931484\" sodipodi:type=\"arc\" style=\"color:#000000;fill:#008033;fill-opacity:1;fill-rule:nonzero;stroke:#000000;stroke-width:6.41509438000000021;stroke-linecap:round;stroke-linejoin:round;stroke-miterlimit:4;stroke-opacity:1;stroke-dasharray:none;stroke-dashoffset:0;marker:none;visibility:visible;display:inline;overflow:visible;enable-background:accumulate\" transform=\"matrix(0.3729385,0,0,0.3729385,367.27122,897.44334)\"/>\n",
        "        <path d=\"m 421.2952,965.60588 10.33301,9.91425\" id=\"path3781-7-3\" inkscape:connection-end=\"#path3779-5-1\" inkscape:connection-end-point=\"d4\" inkscape:connection-start=\"#path3009-0-66\" inkscape:connection-start-point=\"d4\" inkscape:connector-curvature=\"0\" inkscape:connector-type=\"polyline\" style=\"fill:none;stroke:#000000;stroke-width:2.99054456;stroke-linecap:butt;stroke-linejoin:miter;stroke-miterlimit:4;stroke-opacity:1;stroke-dasharray:none;display:inline\"/>\n",
        "        <rect height=\"22.958887\" id=\"rect3783-1-9\" style=\"color:#000000;fill:#00ff00;fill-opacity:1;fill-rule:nonzero;stroke:#000000;stroke-width:2.39243555000000008;stroke-linecap:round;stroke-linejoin:round;stroke-miterlimit:4;stroke-opacity:1;stroke-dasharray:none;stroke-dashoffset:0;marker:none;visibility:visible;display:inline;overflow:visible;enable-background:accumulate\" width=\"22.958887\" x=\"436.23315\" y=\"892.65491\"/>\n",
        "        <path d=\"m 246.47721,239.07861 c 0,23.71041 -19.22108,42.93149 -42.93148,42.93149 -23.7104,0 -42.93148,-19.22108 -42.93148,-42.93149 0,-23.7104 19.22108,-42.93148 42.93148,-42.93148 23.7104,0 42.93148,19.22108 42.93148,42.93148 z\" id=\"path3779-9-5-6\" sodipodi:cx=\"203.54573\" sodipodi:cy=\"239.07861\" sodipodi:rx=\"42.931484\" sodipodi:ry=\"42.931484\" sodipodi:type=\"arc\" style=\"color:#000000;fill:#ff00ff;fill-opacity:1;fill-rule:nonzero;stroke:#000000;stroke-width:12.59259224000000010;stroke-linecap:round;stroke-linejoin:round;stroke-miterlimit:4;stroke-opacity:1;stroke-dasharray:none;stroke-dashoffset:0;marker:none;visibility:visible;display:inline;overflow:visible;enable-background:accumulate\" transform=\"matrix(0.18998754,0,0,0.18998754,322.64356,936.04746)\"/>\n",
        "        <path d=\"m 246.47721,239.07861 c 0,23.71041 -19.22108,42.93149 -42.93148,42.93149 -23.7104,0 -42.93148,-19.22108 -42.93148,-42.93149 0,-23.7104 19.22108,-42.93148 42.93148,-42.93148 23.7104,0 42.93148,19.22108 42.93148,42.93148 z\" id=\"path3779-2-4-97\" sodipodi:cx=\"203.54573\" sodipodi:cy=\"239.07861\" sodipodi:rx=\"42.931484\" sodipodi:ry=\"42.931484\" sodipodi:type=\"arc\" style=\"color:#000000;fill:#ff00ff;fill-opacity:1;fill-rule:nonzero;stroke:#000000;stroke-width:12.14285660000000000;stroke-linecap:round;stroke-linejoin:round;stroke-miterlimit:4;stroke-opacity:1;stroke-dasharray:none;stroke-dashoffset:0;marker:none;visibility:visible;display:inline;overflow:visible;enable-background:accumulate\" transform=\"matrix(0.19702412,0,0,0.19702412,322.11756,860.95714)\"/>\n",
        "        <path d=\"M 379.88688,925.41061 368.25592,913.98815\" id=\"path3816-6-79\" inkscape:connection-end=\"#path3779-2-4-97\" inkscape:connection-end-point=\"d4\" inkscape:connection-start=\"#path3009-0-66\" inkscape:connection-start-point=\"d4\" inkscape:connector-curvature=\"0\" inkscape:connector-type=\"polyline\" style=\"fill:none;stroke:#000000;stroke-width:2.99054456;stroke-linecap:butt;stroke-linejoin:miter;stroke-miterlimit:4;stroke-opacity:1;stroke-dasharray:none;display:inline\"/>\n",
        "        <path d=\"m 379.20412,965.09013 -11.87357,10.87128\" id=\"path3818-9-3\" inkscape:connection-end=\"#path3779-9-5-6\" inkscape:connection-end-point=\"d4\" inkscape:connection-start=\"#path3009-0-66\" inkscape:connection-start-point=\"d4\" inkscape:connector-curvature=\"0\" inkscape:connector-type=\"polyline\" style=\"fill:#ff00ff;stroke:#000000;stroke-width:2.99054456;stroke-linecap:butt;stroke-linejoin:miter;stroke-miterlimit:4;stroke-opacity:1;stroke-dasharray:none;display:inline\"/>\n",
        "        <rect height=\"10.875262\" id=\"rect3826-0-1\" style=\"color:#000000;fill:#00ff00;fill-opacity:1;fill-rule:nonzero;stroke:#000000;stroke-width:1.79432678000000001;stroke-linecap:round;stroke-linejoin:round;stroke-miterlimit:4;stroke-opacity:1;stroke-dasharray:none;stroke-dashoffset:0;marker:none;visibility:visible;display:inline;overflow:visible;enable-background:accumulate\" width=\"10.875262\" x=\"415.08682\" y=\"1008.6576\"/>\n",
        "        <rect height=\"10.875262\" id=\"rect3826-2-5-0\" style=\"color:#000000;fill:#2ad4ff;fill-opacity:1;fill-rule:nonzero;stroke:#000000;stroke-width:1.79432678000000001;stroke-linecap:round;stroke-linejoin:round;stroke-miterlimit:4;stroke-opacity:1;stroke-dasharray:none;stroke-dashoffset:0;marker:none;visibility:visible;display:inline;overflow:visible;enable-background:accumulate\" width=\"10.875262\" x=\"472.48404\" y=\"985.09454\"/>\n",
        "        <rect height=\"10.875262\" id=\"rect3826-3-4-0\" style=\"color:#000000;fill:#aa8800;fill-opacity:1;fill-rule:nonzero;stroke:#000000;stroke-width:1.79432678000000001;stroke-linecap:round;stroke-linejoin:round;stroke-miterlimit:4;stroke-opacity:1;stroke-dasharray:none;stroke-dashoffset:0;marker:none;visibility:visible;display:inline;overflow:visible;enable-background:accumulate\" width=\"10.875262\" x=\"453.15024\" y=\"951.86456\"/>\n",
        "        <path d=\"m 432.99803,998.96061 -7.99201,9.69699\" id=\"path3853-0-0\" inkscape:connection-end=\"#rect3826-0-1\" inkscape:connection-end-point=\"d4\" inkscape:connection-start=\"#path3779-5-1\" inkscape:connection-start-point=\"d4\" inkscape:connector-curvature=\"0\" inkscape:connector-type=\"polyline\" style=\"fill:none;stroke:#000000;stroke-width:2.39243555;stroke-linecap:butt;stroke-linejoin:miter;stroke-miterlimit:4;stroke-opacity:1;stroke-dasharray:none\"/>\n",
        "        <path d=\"m 459.09216,988.4036 13.39188,1.51388\" id=\"path3855-5-3\" inkscape:connection-end=\"#rect3826-2-5-0\" inkscape:connection-end-point=\"d4\" inkscape:connection-start=\"#path3779-5-1\" inkscape:connection-start-point=\"d4\" inkscape:connector-curvature=\"0\" inkscape:connector-type=\"polyline\" style=\"fill:none;stroke:#000000;stroke-width:2.39243555;stroke-linecap:butt;stroke-linejoin:miter;stroke-miterlimit:4;stroke-opacity:1;stroke-dasharray:none;display:inline\"/>\n",
        "        <path d=\"m 455.72891,962.73983 -5.09519,9.69085\" id=\"path3859-9-8\" inkscape:connection-end=\"#path3779-5-1\" inkscape:connection-end-point=\"d4\" inkscape:connection-start=\"#rect3826-3-4-0\" inkscape:connection-start-point=\"d4\" inkscape:connector-curvature=\"0\" inkscape:connector-type=\"polyline\" style=\"fill:none;stroke:#000000;stroke-width:2.39243555;stroke-linecap:butt;stroke-linejoin:miter;stroke-miterlimit:4;stroke-opacity:1;stroke-dasharray:none\"/>\n",
        "        <path d=\"M 178.14805,189.71932 205.5733,165.63635\" id=\"path3050\" inkscape:connection-end=\"#rect3783\" inkscape:connection-end-point=\"d4\" inkscape:connection-start=\"#path3009\" inkscape:connection-start-point=\"d4\" inkscape:connector-curvature=\"0\" inkscape:connector-type=\"polyline\" style=\"fill:#0000ff;stroke:#0000ff;stroke-width:5;stroke-linecap:butt;stroke-linejoin:miter;stroke-opacity:1;stroke-miterlimit:4;stroke-dasharray:none\" transform=\"translate(0,572.36218)\"/>\n",
        "        <path d=\"m 410.49676,118.45493 14.08375,-12.36737\" id=\"path3052\" inkscape:connection-end=\"#rect3783-1\" inkscape:connection-end-point=\"d4\" inkscape:connection-start=\"#path3009-0\" inkscape:connection-start-point=\"d4\" inkscape:connector-curvature=\"0\" inkscape:connector-type=\"polyline\" style=\"fill:none;stroke:#000000;stroke-width:2.991;stroke-linecap:butt;stroke-linejoin:miter;stroke-opacity:1;stroke-miterlimit:4;stroke-dasharray:none\" transform=\"translate(0,572.36218)\"/>\n",
        "        <path d=\"m 543.6672,236.44333 14.08378,-12.36739\" id=\"path3054\" inkscape:connection-end=\"#rect3783-1-7\" inkscape:connection-end-point=\"d4\" inkscape:connection-start=\"#path3009-0-6\" inkscape:connection-start-point=\"d4\" inkscape:connector-curvature=\"0\" inkscape:connector-type=\"polyline\" style=\"fill:none;stroke:#000000;stroke-width:2.991;stroke-linecap:butt;stroke-linejoin:miter;stroke-opacity:1;stroke-miterlimit:4;stroke-dasharray:none\" transform=\"translate(0,572.36218)\"/>\n",
        "        <path d=\"m 422.14942,354.21997 14.08373,-12.36735\" id=\"path3058\" inkscape:connection-end=\"#rect3783-1-9\" inkscape:connection-end-point=\"d4\" inkscape:connection-start=\"#path3009-0-66\" inkscape:connection-start-point=\"d4\" inkscape:connector-curvature=\"0\" inkscape:connector-type=\"polyline\" style=\"fill:none;stroke:#000000;stroke-width:2.991;stroke-linecap:butt;stroke-linejoin:miter;stroke-opacity:1;stroke-miterlimit:4;stroke-dasharray:none\" transform=\"translate(0,572.36218)\"/>\n",
        "      </g>\n",
        "    </g>\n",
        "    <path d=\"m 320,564.4585 0,520.2286\" id=\"path3863\" inkscape:connector-curvature=\"0\" style=\"fill:none;stroke:#000000;stroke-width:3;stroke-linecap:butt;stroke-linejoin:miter;stroke-miterlimit:4;stroke-opacity:1;stroke-dasharray:9, 3;stroke-dashoffset:0\"/>\n",
        "    <text id=\"text3865\" sodipodi:linespacing=\"125%\" style=\"font-size:50px;font-style:normal;font-variant:normal;font-weight:bold;font-stretch:normal;line-height:125%;letter-spacing:0px;word-spacing:0px;fill:#000000;fill-opacity:1;stroke:none;font-family:DejaVu Sans;-inkscape-font-specification:Sans Bold\" x=\"70\" xml:space=\"preserve\" y=\"632.36218\"><tspan id=\"tspan3867\" sodipodi:role=\"line\" x=\"70\" y=\"632.36218\">Class</tspan></text>\n",
        "    <text id=\"text3869\" sodipodi:linespacing=\"125%\" style=\"font-size:50px;font-style:normal;font-variant:normal;font-weight:bold;font-stretch:normal;line-height:125%;letter-spacing:0px;word-spacing:0px;fill:#000000;fill-opacity:1;stroke:none;font-family:DejaVu Sans;-inkscape-font-specification:Sans Bold\" x=\"340\" xml:space=\"preserve\" y=\"632.36218\"><tspan id=\"tspan3871\" sodipodi:role=\"line\" x=\"340\" y=\"632.36218\">Instances</tspan></text>\n",
        "  </g>\n",
        "</svg>"
       ],
       "text": [
        "<IPython.core.display.SVG at 0x16afbd0>"
       ]
      }
     ],
     "prompt_number": 1
    },
    {
     "cell_type": "markdown",
     "metadata": {},
     "source": [
      "### Beispiele f\u00fcr Typen und Klassen\n",
      "\n",
      "* Zahlen, z.B. das Konzept \"Ganzzahl\" wird z.B. durch den Typ `int` realisiert und `42` ist ein Beispiel f\u00fcr so ein Objekt dieses Typs.\n",
      "* Zeichenketten: `basestring` ist das \u00fcbergeordnete Konzept, welches z.B. der Typ `str` sein kann. Ein Beispiel ist `\"Hase\"`."
     ]
    },
    {
     "cell_type": "markdown",
     "metadata": {},
     "source": [
      "Den Typ eines Objekts erf\u00e4hrt man mittels des eingebauten Befehls `type`:"
     ]
    },
    {
     "cell_type": "code",
     "collapsed": false,
     "input": [
      "type(42)"
     ],
     "language": "python",
     "metadata": {},
     "outputs": [
      {
       "metadata": {},
       "output_type": "pyout",
       "prompt_number": 2,
       "text": [
        "int"
       ]
      }
     ],
     "prompt_number": 2
    },
    {
     "cell_type": "code",
     "collapsed": false,
     "input": [
      "type(\"Hase\")"
     ],
     "language": "python",
     "metadata": {},
     "outputs": [
      {
       "metadata": {},
       "output_type": "pyout",
       "prompt_number": 3,
       "text": [
        "str"
       ]
      }
     ],
     "prompt_number": 3
    },
    {
     "cell_type": "markdown",
     "metadata": {},
     "source": [
      "Ein komplexerer Typ ist zum Beispiel das aktuelle Datum mit der aktuellen Uhrzeit.\n",
      "Es wird ein Objekt des Typs \"`datetime.datetime`\" mittels der `utcnow()` Funktion erzeugt.\n",
      "Die Variable `now` verweist hierf\u00fcr auf dieses Objekt.\n",
      "Anschlie\u00dfend wird mit \"`.minute`\" nur die darin enthaltene Minute abgefragt."
     ]
    },
    {
     "cell_type": "code",
     "collapsed": false,
     "input": [
      "from datetime import datetime\n",
      "now = datetime.utcnow()\n",
      "now"
     ],
     "language": "python",
     "metadata": {},
     "outputs": [
      {
       "metadata": {},
       "output_type": "pyout",
       "prompt_number": 4,
       "text": [
        "datetime.datetime(2014, 12, 25, 18, 18, 13, 958377)"
       ]
      }
     ],
     "prompt_number": 4
    },
    {
     "cell_type": "code",
     "collapsed": false,
     "input": [
      "now.minute"
     ],
     "language": "python",
     "metadata": {},
     "outputs": [
      {
       "metadata": {},
       "output_type": "pyout",
       "prompt_number": 5,
       "text": [
        "18"
       ]
      }
     ],
     "prompt_number": 5
    },
    {
     "cell_type": "code",
     "collapsed": false,
     "input": [
      "type(now)"
     ],
     "language": "python",
     "metadata": {},
     "outputs": [
      {
       "metadata": {},
       "output_type": "pyout",
       "prompt_number": 6,
       "text": [
        "datetime.datetime"
       ]
      }
     ],
     "prompt_number": 6
    },
    {
     "cell_type": "markdown",
     "metadata": {},
     "source": [
      "Etwas sp\u00e4ter wird erneut die Uhrzeit abgefragt.\n",
      "\"`now2`\" verweist nun auf das zweite \"`datetime`\" Objekt."
     ]
    },
    {
     "cell_type": "code",
     "collapsed": false,
     "input": [
      "now2 = datetime.utcnow()\n",
      "now2"
     ],
     "language": "python",
     "metadata": {},
     "outputs": [
      {
       "metadata": {},
       "output_type": "pyout",
       "prompt_number": 7,
       "text": [
        "datetime.datetime(2014, 12, 25, 18, 18, 14, 387484)"
       ]
      }
     ],
     "prompt_number": 7
    },
    {
     "cell_type": "markdown",
     "metadata": {},
     "source": [
      "Nun wird die Differenz gebildet, welches ein Objekt des Typs \"`datetime.timedelta`\" ist."
     ]
    },
    {
     "cell_type": "code",
     "collapsed": false,
     "input": [
      "timediff = now2 - now\n",
      "timediff"
     ],
     "language": "python",
     "metadata": {},
     "outputs": [
      {
       "metadata": {},
       "output_type": "pyout",
       "prompt_number": 8,
       "text": [
        "datetime.timedelta(0, 0, 429107)"
       ]
      }
     ],
     "prompt_number": 8
    },
    {
     "cell_type": "code",
     "collapsed": false,
     "input": [
      "timediff.microseconds"
     ],
     "language": "python",
     "metadata": {},
     "outputs": [
      {
       "metadata": {},
       "output_type": "pyout",
       "prompt_number": 9,
       "text": [
        "429107"
       ]
      }
     ],
     "prompt_number": 9
    },
    {
     "cell_type": "code",
     "collapsed": false,
     "input": [
      "type(timediff)"
     ],
     "language": "python",
     "metadata": {},
     "outputs": [
      {
       "metadata": {},
       "output_type": "pyout",
       "prompt_number": 10,
       "text": [
        "datetime.timedelta"
       ]
      }
     ],
     "prompt_number": 10
    },
    {
     "cell_type": "markdown",
     "metadata": {},
     "source": [
      "## Klassen\n",
      "\n",
      "Aus einfachen \"Basistypen\" (`str`, `int`, `float`, `list`, ...) werden komplexeren Typen aufgebaut.\n",
      "Die Beschreibung deren Struktur sind die **\"Klassen\"** (engl. \"class\")."
     ]
    },
    {
     "cell_type": "markdown",
     "metadata": {},
     "source": [
      "Im folgenden Beispiel wird mittels einer Klasse `Studierender` der entsprechende Typ definiert,\n",
      "welcher f\u00fcr das Konzept eines einzelnen Studierenden steht."
     ]
    },
    {
     "cell_type": "code",
     "collapsed": true,
     "input": [
      "class Studierender(object):\n",
      "    name = \"Fritz\"\n",
      "    mtrnr = \"0105467\"\n",
      "    stkz = 512"
     ],
     "language": "python",
     "metadata": {},
     "outputs": [],
     "prompt_number": 11
    },
    {
     "cell_type": "markdown",
     "metadata": {},
     "source": [
      "Die drei Attribute dieser Klasse k\u00f6nnen mittels Punktnotation abgefragt werden:"
     ]
    },
    {
     "cell_type": "code",
     "collapsed": false,
     "input": [
      "Studierender.name"
     ],
     "language": "python",
     "metadata": {},
     "outputs": [
      {
       "metadata": {},
       "output_type": "pyout",
       "prompt_number": 12,
       "text": [
        "'Fritz'"
       ]
      }
     ],
     "prompt_number": 12
    },
    {
     "cell_type": "code",
     "collapsed": false,
     "input": [
      "Studierender.stkz"
     ],
     "language": "python",
     "metadata": {},
     "outputs": [
      {
       "metadata": {},
       "output_type": "pyout",
       "prompt_number": 13,
       "text": [
        "512"
       ]
      }
     ],
     "prompt_number": 13
    },
    {
     "cell_type": "markdown",
     "metadata": {},
     "source": [
      "Es ist auch jederzeit m\u00f6glich, die Werte der Attribute zu \u00e4ndern oder neue Attribute hinzuzuf\u00fcgen:"
     ]
    },
    {
     "cell_type": "code",
     "collapsed": false,
     "input": [
      "Studierender.name = \"Susi\""
     ],
     "language": "python",
     "metadata": {},
     "outputs": [],
     "prompt_number": 14
    },
    {
     "cell_type": "code",
     "collapsed": false,
     "input": [
      "Studierender.name"
     ],
     "language": "python",
     "metadata": {},
     "outputs": [
      {
       "metadata": {},
       "output_type": "pyout",
       "prompt_number": 15,
       "text": [
        "'Susi'"
       ]
      }
     ],
     "prompt_number": 15
    },
    {
     "cell_type": "code",
     "collapsed": false,
     "input": [
      "Studierender.lieblinsfarbe = \"purpur\"\n",
      "Studierender.lieblinsfarbe"
     ],
     "language": "python",
     "metadata": {},
     "outputs": [
      {
       "metadata": {},
       "output_type": "pyout",
       "prompt_number": 16,
       "text": [
        "'purpur'"
       ]
      }
     ],
     "prompt_number": 16
    },
    {
     "cell_type": "markdown",
     "metadata": {},
     "source": [
      "Abgesehen davon, die Quintessenz einer Klasse ist jedoch\n",
      "mehr als nur eine konkrete Zusammensetzung dieser Attribute und Methoden zur Hand zu haben.\n",
      "Sprich, man m\u00f6chte mehrere Studierende erzeugen,\n",
      "zum Beispiel in den Variablen `s1`, `s2`, ... , und jeweils andere Attribute mit denselben Namen zuweisen.\n",
      "\n",
      "## Instanzen von Klassen\n",
      "\n",
      "Hierf\u00fcr gibt es in Python eine besondere Methode, \n",
      "die Inititalisierungsmethode `__init__(self, ...)`,\n",
      "welche zum setzen von standard Attributen verwendet wird.\n",
      "\n",
      "Das \"Instanzieren\" einer Klasse ist der Geburtsvorgang eines Objekts dieser Klasse.\n",
      "Diese Attribute beinhalten dann die f\u00fcr einen bestimmten Studierenden spezifischen Daten\n",
      "in einer spezifischen Instanz einer Klasse,\n",
      "und nicht mehr in dem allgemeinen Klassenobjekt, welches f\u00fcr alle Instanzen existiert."
     ]
    },
    {
     "cell_type": "code",
     "collapsed": false,
     "input": [
      "# Definition einer zweiten Version der Klasse\n",
      "class Studierender2(object):\n",
      "    def __init__(self, name, mtrnr, stkz):\n",
      "        self.name = name\n",
      "        self.mtrnr = mtrnr\n",
      "        self.stkz = stkz"
     ],
     "language": "python",
     "metadata": {},
     "outputs": [],
     "prompt_number": 17
    },
    {
     "cell_type": "markdown",
     "metadata": {},
     "source": [
      "Instanzierung zweier Studierender:"
     ]
    },
    {
     "cell_type": "code",
     "collapsed": false,
     "input": [
      "ludwig = Studierender2(\"Ludwig Schmidt\", 9100541, 515)\n",
      "clara = Studierender2(\"Clara Bauer\", 97004131, 515)"
     ],
     "language": "python",
     "metadata": {},
     "outputs": [],
     "prompt_number": 18
    },
    {
     "cell_type": "markdown",
     "metadata": {},
     "source": [
      "Zugriff auf Attribute:"
     ]
    },
    {
     "cell_type": "code",
     "collapsed": false,
     "input": [
      "ludwig.name"
     ],
     "language": "python",
     "metadata": {},
     "outputs": [
      {
       "metadata": {},
       "output_type": "pyout",
       "prompt_number": 19,
       "text": [
        "'Ludwig Schmidt'"
       ]
      }
     ],
     "prompt_number": 19
    },
    {
     "cell_type": "code",
     "collapsed": false,
     "input": [
      "clara.mtrnr"
     ],
     "language": "python",
     "metadata": {},
     "outputs": [
      {
       "metadata": {},
       "output_type": "pyout",
       "prompt_number": 20,
       "text": [
        "97004131"
       ]
      }
     ],
     "prompt_number": 20
    },
    {
     "cell_type": "markdown",
     "metadata": {},
     "source": [
      "Typen der Studierenden:"
     ]
    },
    {
     "cell_type": "code",
     "collapsed": false,
     "input": [
      "type(ludwig)"
     ],
     "language": "python",
     "metadata": {},
     "outputs": [
      {
       "metadata": {},
       "output_type": "pyout",
       "prompt_number": 21,
       "text": [
        "__main__.Studierender2"
       ]
      }
     ],
     "prompt_number": 21
    },
    {
     "cell_type": "code",
     "collapsed": false,
     "input": [
      "type(clara)"
     ],
     "language": "python",
     "metadata": {},
     "outputs": [
      {
       "metadata": {},
       "output_type": "pyout",
       "prompt_number": 22,
       "text": [
        "__main__.Studierender2"
       ]
      }
     ],
     "prompt_number": 22
    },
    {
     "cell_type": "markdown",
     "metadata": {},
     "source": [
      "An dieser Stelle eine Zwischenfrage: Was ist der Typ einer Klasse?\n",
      "\n",
      "Beantworte diese Frage mit dem `type` Befehl und versuche dies zu erkl\u00e4ren."
     ]
    },
    {
     "cell_type": "code",
     "collapsed": false,
     "input": [
      "type(Studierender2)"
     ],
     "language": "python",
     "metadata": {},
     "outputs": [
      {
       "metadata": {},
       "output_type": "pyout",
       "prompt_number": 23,
       "text": [
        "type"
       ]
      }
     ],
     "prompt_number": 23
    },
    {
     "cell_type": "markdown",
     "metadata": {},
     "source": [
      "Von hier aus k\u00f6nnen beliebige Operationen auf Basis beider Instanzen gemacht werden:"
     ]
    },
    {
     "cell_type": "code",
     "collapsed": false,
     "input": [
      "ludwig.mtrnr + clara.stkz"
     ],
     "language": "python",
     "metadata": {},
     "outputs": [
      {
       "metadata": {},
       "output_type": "pyout",
       "prompt_number": 24,
       "text": [
        "9101056"
       ]
      }
     ],
     "prompt_number": 24
    },
    {
     "cell_type": "code",
     "collapsed": false,
     "input": [
      "ludwig.name + \" & \" + clara.name"
     ],
     "language": "python",
     "metadata": {},
     "outputs": [
      {
       "metadata": {},
       "output_type": "pyout",
       "prompt_number": 25,
       "text": [
        "'Ludwig Schmidt & Clara Bauer'"
       ]
      }
     ],
     "prompt_number": 25
    },
    {
     "cell_type": "code",
     "collapsed": false,
     "input": [
      "clara.stkz * 55"
     ],
     "language": "python",
     "metadata": {},
     "outputs": [
      {
       "metadata": {},
       "output_type": "pyout",
       "prompt_number": 26,
       "text": [
        "28325"
       ]
      }
     ],
     "prompt_number": 26
    },
    {
     "cell_type": "markdown",
     "metadata": {},
     "source": [
      "## Methoden\n",
      "\n",
      "Wiederholt sich die Verarbeitung der Informationen in den Attributen,\n",
      "so wird diese in einer \"Methode\" (engl. \"method\") festgelegt.\n",
      "Das ist im Wesentlichen eine Funktion,\n",
      "welche als _erstes_ Argument die Instanz des Objekts (engl. \"Reciever\") erh\u00e4lt,\n",
      "und die restlichen Argumente je nach Definition der Methode.\n",
      "Dieses erste Argument wird \u00fcblicherweise immer `self` genannt.\n",
      "Dies ergibt eine direkte Zuordnung von Funktionen zu Instanzen,\n",
      "und tr\u00e4gt damit zur \u00dcbersichtlichkeit bei.\n",
      "\n",
      "Im folgenden wird eine Klasse `Vorlesung` definiert,\n",
      "welche einen Namen, eine Lehrveranstaltungsnummer, einen H\u00f6rsaal, eine Menge von Studierenden, usw. enth\u00e4lt."
     ]
    },
    {
     "cell_type": "code",
     "collapsed": false,
     "input": [
      "class Vorlesung(object):\n",
      "    def __init__(self, name, lvnr):\n",
      "        self.name = name\n",
      "        self.lvnr = lvnr\n",
      "        self.teilnehmer = set()\n",
      "        \n",
      "    def add_studierender(self, s):\n",
      "        self.teilnehmer.add(s)\n",
      "        \n",
      "    def anzahl_teilnehmer(self):\n",
      "        return len(self.teilnehmer)"
     ],
     "language": "python",
     "metadata": {},
     "outputs": [],
     "prompt_number": 27
    },
    {
     "cell_type": "code",
     "collapsed": false,
     "input": [
      "pp1 = Vorlesung(\"Programmierpraktikum 1\", 25017)\n",
      "pp1.add_studierender(clara)\n",
      "pp1.add_studierender(ludwig)"
     ],
     "language": "python",
     "metadata": {},
     "outputs": [],
     "prompt_number": 28
    },
    {
     "cell_type": "code",
     "collapsed": false,
     "input": [
      "pp1.anzahl_teilnehmer()"
     ],
     "language": "python",
     "metadata": {},
     "outputs": [
      {
       "metadata": {},
       "output_type": "pyout",
       "prompt_number": 29,
       "text": [
        "2"
       ]
      }
     ],
     "prompt_number": 29
    },
    {
     "cell_type": "markdown",
     "metadata": {},
     "source": [
      "Noch ein Studierender der sich sp\u00e4ter angemeldet hat:"
     ]
    },
    {
     "cell_type": "code",
     "collapsed": false,
     "input": [
      "paula = Studierender2(\"Paula Power\", \"1004131\", 515)\n",
      "pp1.add_studierender(paula)\n",
      "pp1.anzahl_teilnehmer()"
     ],
     "language": "python",
     "metadata": {},
     "outputs": [
      {
       "metadata": {},
       "output_type": "pyout",
       "prompt_number": 30,
       "text": [
        "3"
       ]
      }
     ],
     "prompt_number": 30
    },
    {
     "cell_type": "markdown",
     "metadata": {},
     "source": [
      "## Stringdarstellung\n",
      "\n",
      "Neben der schon erw\u00e4hnten eingebauten `__init__(...)` Methode,\n",
      "gibt es noch eine reihe anderer interessanter Methoden.\n",
      "\n",
      "Eine der wichtigeren ist `__str__()` bzw. `__repr__()`,\n",
      "welche aus den Attributen des Objekts eine lesbare Zeichenkette erzeugen.\n",
      "Dies macht Ausgaben f\u00fcr den Menschen viel informativer!"
     ]
    },
    {
     "cell_type": "code",
     "collapsed": false,
     "input": [
      "# ohne __repr__, nur wenig Information:\n",
      "paula"
     ],
     "language": "python",
     "metadata": {},
     "outputs": [
      {
       "metadata": {},
       "output_type": "pyout",
       "prompt_number": 31,
       "text": [
        "<__main__.Studierender2 at 0x193c110>"
       ]
      }
     ],
     "prompt_number": 31
    },
    {
     "cell_type": "code",
     "collapsed": false,
     "input": [
      "# wir f\u00fcgen eine `__repr__` Methode hinzu und definieren eine neue Version der Klasse\n",
      "\n",
      "class Studierender3(object):\n",
      "    def __init__(self, name, mtrnr, stkz):\n",
      "        self.name = name\n",
      "        self.mtrnr = mtrnr\n",
      "        self.stkz = stkz\n",
      "    def __repr__(self):\n",
      "        return \"Student/in '%s' mit Mtrnr %s\" % (self.name, self.mtrnr)"
     ],
     "language": "python",
     "metadata": {},
     "outputs": [],
     "prompt_number": 32
    },
    {
     "cell_type": "markdown",
     "metadata": {},
     "source": [
      "Die Objekte m\u00fcssen neu instanziert werden:"
     ]
    },
    {
     "cell_type": "code",
     "collapsed": false,
     "input": [
      "paula = Studierender3(\"Paula Power\", \"1004131\", 515)\n",
      "paula"
     ],
     "language": "python",
     "metadata": {},
     "outputs": [
      {
       "metadata": {},
       "output_type": "pyout",
       "prompt_number": 33,
       "text": [
        "Student/in 'Paula Power' mit Mtrnr 1004131"
       ]
      }
     ],
     "prompt_number": 33
    },
    {
     "cell_type": "markdown",
     "metadata": {},
     "source": [
      "*Nebenbemerkung:* `__repr__` ist allgmeiner aber `__str__` kommt nur bei `print` oder expliziter Zeichenkettenformatierung zum Zug.\n",
      "Gibt es nur `__repr__` aber kein `__str__`, so wird `__repr__` als fallback verwendet. Daher funktioniert das:"
     ]
    },
    {
     "cell_type": "code",
     "collapsed": false,
     "input": [
      "print(paula)"
     ],
     "language": "python",
     "metadata": {},
     "outputs": [
      {
       "output_type": "stream",
       "stream": "stdout",
       "text": [
        "Student/in 'Paula Power' mit Mtrnr 1004131\n"
       ]
      }
     ],
     "prompt_number": 34
    }
   ],
   "metadata": {}
  }
 ]
}
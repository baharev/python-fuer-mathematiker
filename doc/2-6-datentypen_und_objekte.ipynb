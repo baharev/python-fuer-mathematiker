{
 "metadata": {
  "name": "",
  "signature": "sha256:bbf513d137d463895a1a0ee153c718c8f3c10fc67a0376070fbcf11366b3aadc"
 },
 "nbformat": 3,
 "nbformat_minor": 0,
 "worksheets": [
  {
   "cells": [
    {
     "cell_type": "markdown",
     "metadata": {},
     "source": [
      "# Konzept 6: Typen und Objekte\n",
      "\n",
      "Alle Mitspieler in einem Programm sind Objekte.\n",
      "Diese beinhalten die gesamte zur Verarbeitung bereitstehende Information.\n",
      "Schon bekannte Vertreter sind: Zahlen, Strings, Listen, Dictionaries, Funktionen, Module, etc.\n",
      "So ein Objekt ist nach einer jeweils zum Typen des Objekt's geh\u00f6renden Datenstruktur aufgebaut\n",
      "und wird mit entsprechenden Daten bef\u00fcllt.\n",
      "\n",
      "Eine \"Klasse\" ist eine Blaupause f\u00fcr einen \"Typ\" und definiert dessen Struktur.\n",
      "Bei der \"Instanzierung\" einer Klasse werden diese Platzhalter mit entsprechenden Daten bef\u00fcllt.\n",
      "\n",
      "In der Praxis hei\u00dft l\u00e4uft es \u00fcblicherweise so ab,\n",
      "dass die Argumente f\u00fcr so eine Instanzierung vorverarbeitet werden und dann abgespeichert werden."
     ]
    },
    {
     "cell_type": "code",
     "collapsed": false,
     "input": [
      "from IPython.display import SVG\n",
      "SVG(filename = \"res/oop1.svg\")"
     ],
     "language": "python",
     "metadata": {},
     "outputs": [
      {
       "metadata": {},
       "output_type": "pyout",
       "prompt_number": 1,
       "svg": [
        "<svg height=\"480\" id=\"svg2\" inkscape:version=\"0.48.4 r9939\" sodipodi:docname=\"oop1.svg\" version=\"1.1\" width=\"640\" xmlns=\"http://www.w3.org/2000/svg\" xmlns:cc=\"http://creativecommons.org/ns#\" xmlns:dc=\"http://purl.org/dc/elements/1.1/\" xmlns:inkscape=\"http://www.inkscape.org/namespaces/inkscape\" xmlns:rdf=\"http://www.w3.org/1999/02/22-rdf-syntax-ns#\" xmlns:sodipodi=\"http://sodipodi.sourceforge.net/DTD/sodipodi-0.dtd\" xmlns:svg=\"http://www.w3.org/2000/svg\">\n",
        "  <defs id=\"defs4\"/>\n",
        "  <sodipodi:namedview bordercolor=\"#666666\" borderopacity=\"1.0\" id=\"base\" inkscape:current-layer=\"g3892\" inkscape:cx=\"239.86287\" inkscape:cy=\"239.29619\" inkscape:document-units=\"px\" inkscape:pageopacity=\"0.0\" inkscape:pageshadow=\"2\" inkscape:window-height=\"1056\" inkscape:window-maximized=\"1\" inkscape:window-width=\"1920\" inkscape:window-x=\"0\" inkscape:window-y=\"24\" inkscape:zoom=\"1.4\" pagecolor=\"#ffffff\" showgrid=\"true\">\n",
        "    <inkscape:grid empspacing=\"5\" enabled=\"true\" id=\"grid3873\" snapvisiblegridlinesonly=\"true\" type=\"xygrid\" visible=\"true\"/>\n",
        "  </sodipodi:namedview>\n",
        "  <metadata id=\"metadata7\">\n",
        "    <rdf:RDF>\n",
        "      <cc:Work rdf:about=\"\">\n",
        "        <dc:format>image/svg+xml</dc:format>\n",
        "        <dc:type rdf:resource=\"http://purl.org/dc/dcmitype/StillImage\"/>\n",
        "        <dc:title/>\n",
        "      </cc:Work>\n",
        "    </rdf:RDF>\n",
        "  </metadata>\n",
        "  <g id=\"layer1\" inkscape:groupmode=\"layer\" inkscape:label=\"Layer 1\" transform=\"translate(0,-572.36218)\">\n",
        "    <g id=\"g3875\">\n",
        "      <g id=\"g3892\">\n",
        "        <path d=\"m 143.58536,248.92973 c -112.818003,62.60186 -1.99271,6.44719 -124.223283,-34.8636 -134.882267,-45.58674 -63.495939,72.58609 -132.577517,-51.90934 -62.60185,-112.818003 -6.44719,-1.99271 34.8636,-124.223282 45.586741,-134.882269 -72.58609,-63.49594 51.909342,-132.577516 112.818002,-62.601852 1.99271,-6.447192 124.223281,34.863598 134.882267,45.586741 63.495937,-72.58609 132.577517,51.9093423 62.60185,112.8179977 6.44719,1.9927102 -34.8636,124.2232777 -45.58674,134.88227 72.58609,63.49594 -51.90934,132.57752 z\" id=\"path3009\" inkscape:flatsided=\"false\" inkscape:randomized=\"0\" inkscape:rounded=\"1\" inkscape:transform-center-x=\"-3.2041926\" inkscape:transform-center-y=\"-2.2224989\" sodipodi:arg1=\"1.1112529\" sodipodi:arg2=\"1.8496929\" sodipodi:cx=\"58.57143\" sodipodi:cy=\"77.14286\" sodipodi:r1=\"191.67184\" sodipodi:r2=\"142.42667\" sodipodi:sides=\"4\" sodipodi:type=\"star\" style=\"color:#000000;fill:#ffffff;fill-opacity:1;fill-rule:nonzero;stroke:#0000ff;stroke-width:14.76689720000000072;stroke-linecap:round;stroke-linejoin:round;stroke-miterlimit:4;stroke-opacity:1;stroke-dasharray:none;stroke-dashoffset:0;marker:none;visibility:visible;display:inline;overflow:visible;enable-background:accumulate\" transform=\"matrix(0.34636374,0.18855258,-0.18855258,0.34636374,130.1848,761.39443)\"/>\n",
        "        <path d=\"m 246.47721,239.07861 c 0,23.71041 -19.22108,42.93149 -42.93148,42.93149 -23.7104,0 -42.93148,-19.22108 -42.93148,-42.93149 0,-23.7104 19.22108,-42.93148 42.93148,-42.93148 23.7104,0 42.93148,19.22108 42.93148,42.93148 z\" id=\"path3779\" sodipodi:cx=\"203.54573\" sodipodi:cy=\"239.07861\" sodipodi:rx=\"42.931484\" sodipodi:ry=\"42.931484\" sodipodi:type=\"arc\" style=\"color:#000000;fill:#ffffff;fill-opacity:1;fill-rule:nonzero;stroke:#0000ff;stroke-width:6.41509438000000021;stroke-linecap:round;stroke-linejoin:round;stroke-miterlimit:4;stroke-opacity:1;stroke-dasharray:none;stroke-dashoffset:0;marker:none;visibility:visible;display:inline;overflow:visible;enable-background:accumulate\" transform=\"matrix(0.72622169,0,0,0.72622169,71.283957,705.33963)\"/>\n",
        "        <path d=\"m 176.48464,838.07229 20.12143,19.30596\" id=\"path3781\" inkscape:connection-end=\"#path3779\" inkscape:connection-end-point=\"d4\" inkscape:connection-start=\"#path3009\" inkscape:connection-start-point=\"d4\" inkscape:connector-curvature=\"0\" inkscape:connector-type=\"polyline\" style=\"fill:#ffffff;stroke:#0000ff;stroke-width:5.82347584;stroke-linecap:butt;stroke-linejoin:miter;stroke-miterlimit:4;stroke-opacity:1;stroke-dasharray:none;display:inline\"/>\n",
        "        <rect height=\"44.707748\" id=\"rect3783\" style=\"color:#000000;fill:#ffffff;fill-opacity:1;fill-rule:nonzero;stroke:#0000ff;stroke-width:4.65878057000000023;stroke-linecap:round;stroke-linejoin:round;stroke-miterlimit:4;stroke-opacity:1;stroke-dasharray:none;stroke-dashoffset:0;marker:none;visibility:visible;display:inline;overflow:visible;enable-background:accumulate\" width=\"44.707748\" x=\"205.5733\" y=\"696.01501\"/>\n",
        "        <path d=\"m 246.47721,239.07861 c 0,23.71041 -19.22108,42.93149 -42.93148,42.93149 -23.7104,0 -42.93148,-19.22108 -42.93148,-42.93149 0,-23.7104 19.22108,-42.93148 42.93148,-42.93148 23.7104,0 42.93148,19.22108 42.93148,42.93148 z\" id=\"path3779-9\" sodipodi:cx=\"203.54573\" sodipodi:cy=\"239.07861\" sodipodi:rx=\"42.931484\" sodipodi:ry=\"42.931484\" sodipodi:type=\"arc\" style=\"color:#000000;fill:#ffffff;fill-opacity:1;fill-rule:nonzero;stroke:#0000ff;stroke-width:12.59259224000000010;stroke-linecap:round;stroke-linejoin:round;stroke-miterlimit:4;stroke-opacity:1;stroke-dasharray:none;stroke-dashoffset:0;marker:none;visibility:visible;display:inline;overflow:visible;enable-background:accumulate\" transform=\"matrix(0.369962,0,0,0.369962,-15.619329,780.5133)\"/>\n",
        "        <path d=\"m 246.47721,239.07861 c 0,23.71041 -19.22108,42.93149 -42.93148,42.93149 -23.7104,0 -42.93148,-19.22108 -42.93148,-42.93149 0,-23.7104 19.22108,-42.93148 42.93148,-42.93148 23.7104,0 42.93148,19.22108 42.93148,42.93148 z\" id=\"path3779-2\" sodipodi:cx=\"203.54573\" sodipodi:cy=\"239.07861\" sodipodi:rx=\"42.931484\" sodipodi:ry=\"42.931484\" sodipodi:type=\"arc\" style=\"color:#000000;fill:#ffffff;fill-opacity:1;fill-rule:nonzero;stroke:#0000ff;stroke-width:12.14285660000000000;stroke-linecap:round;stroke-linejoin:round;stroke-miterlimit:4;stroke-opacity:1;stroke-dasharray:none;stroke-dashoffset:0;marker:none;visibility:visible;display:inline;overflow:visible;enable-background:accumulate\" transform=\"matrix(0.3836643,0,0,0.3836643,-16.643589,634.29021)\"/>\n",
        "        <path d=\"M 95.850383,759.80019 73.201455,737.55728\" id=\"path3816\" inkscape:connection-end=\"#path3779-2\" inkscape:connection-end-point=\"d4\" inkscape:connection-start=\"#path3009\" inkscape:connection-start-point=\"d4\" inkscape:connector-curvature=\"0\" inkscape:connector-type=\"polyline\" style=\"fill:#ffffff;stroke:#0000ff;stroke-width:5.82347584;stroke-linecap:butt;stroke-linejoin:miter;stroke-miterlimit:4;stroke-opacity:1;stroke-dasharray:none;display:inline\"/>\n",
        "        <path d=\"m 94.520848,837.06798 -23.121382,21.1696\" id=\"path3818\" inkscape:connection-end=\"#path3779-9\" inkscape:connection-end-point=\"d4\" inkscape:connection-start=\"#path3009\" inkscape:connection-start-point=\"d4\" inkscape:connector-curvature=\"0\" inkscape:connector-type=\"polyline\" style=\"fill:#ffffff;stroke:#0000ff;stroke-width:5.82347584;stroke-linecap:butt;stroke-linejoin:miter;stroke-miterlimit:4;stroke-opacity:1;stroke-dasharray:none;display:inline\"/>\n",
        "        <rect height=\"21.177355\" id=\"rect3826\" style=\"color:#000000;fill:#ffffff;fill-opacity:1;fill-rule:nonzero;stroke:#0000ff;stroke-width:3.49408554999999987;stroke-linecap:round;stroke-linejoin:round;stroke-miterlimit:4;stroke-opacity:1;stroke-dasharray:none;stroke-dashoffset:0;marker:none;visibility:visible;display:inline;overflow:visible;enable-background:accumulate\" width=\"21.177355\" x=\"164.39511\" y=\"921.90674\"/>\n",
        "        <rect height=\"21.177355\" id=\"rect3826-2\" style=\"color:#000000;fill:#ffffff;fill-opacity:1;fill-rule:nonzero;stroke:#0000ff;stroke-width:3.49408554999999987;stroke-linecap:round;stroke-linejoin:round;stroke-miterlimit:4;stroke-opacity:1;stroke-dasharray:none;stroke-dashoffset:0;marker:none;visibility:visible;display:inline;overflow:visible;enable-background:accumulate\" width=\"21.177355\" x=\"276.16452\" y=\"876.02246\"/>\n",
        "        <rect height=\"21.177355\" id=\"rect3826-3\" style=\"color:#000000;fill:#ffffff;fill-opacity:1;fill-rule:nonzero;stroke:#0000ff;stroke-width:3.49408554999999987;stroke-linecap:round;stroke-linejoin:round;stroke-miterlimit:4;stroke-opacity:1;stroke-dasharray:none;stroke-dashoffset:0;marker:none;visibility:visible;display:inline;overflow:visible;enable-background:accumulate\" width=\"21.177355\" x=\"238.51582\" y=\"811.3139\"/>\n",
        "        <path d=\"m 199.27354,903.02382 -15.56283,18.88292\" id=\"path3853\" inkscape:connection-end=\"#rect3826\" inkscape:connection-end-point=\"d4\" inkscape:connection-start=\"#path3779\" inkscape:connection-start-point=\"d4\" inkscape:connector-curvature=\"0\" inkscape:connector-type=\"polyline\" style=\"fill:#ffffff;stroke:#0000ff;stroke-width:4.65878057;stroke-linecap:butt;stroke-linejoin:miter;stroke-miterlimit:4;stroke-opacity:1;stroke-dasharray:none\"/>\n",
        "        <path d=\"m 250.08652,882.46618 26.078,2.94797\" id=\"path3855\" inkscape:connection-end=\"#rect3826-2\" inkscape:connection-end-point=\"d4\" inkscape:connection-start=\"#path3779\" inkscape:connection-start-point=\"d4\" inkscape:connector-curvature=\"0\" inkscape:connector-type=\"polyline\" style=\"fill:#ffffff;stroke:#0000ff;stroke-width:4.65878057;stroke-linecap:butt;stroke-linejoin:miter;stroke-miterlimit:4;stroke-opacity:1;stroke-dasharray:none;display:inline\"/>\n",
        "        <path d=\"m 243.53726,832.49126 -9.92183,18.87092\" id=\"path3859\" inkscape:connection-end=\"#path3779\" inkscape:connection-end-point=\"d4\" inkscape:connection-start=\"#rect3826-3\" inkscape:connection-start-point=\"d4\" inkscape:connector-curvature=\"0\" inkscape:connector-type=\"polyline\" style=\"fill:#ffffff;stroke:#0000ff;stroke-width:4.65878057;stroke-linecap:butt;stroke-linejoin:miter;stroke-miterlimit:4;stroke-opacity:1;stroke-dasharray:none\"/>\n",
        "        <path d=\"m 143.58536,248.92973 c -112.818003,62.60186 -1.99271,6.44719 -124.223283,-34.8636 -134.882267,-45.58674 -63.495939,72.58609 -132.577517,-51.90934 -62.60185,-112.818003 -6.44719,-1.99271 34.8636,-124.223282 45.586741,-134.882269 -72.58609,-63.49594 51.909342,-132.577516 112.818002,-62.601852 1.99271,-6.447192 124.223281,34.863598 134.882267,45.586741 63.495937,-72.58609 132.577517,51.9093423 62.60185,112.8179977 6.44719,1.9927102 -34.8636,124.2232777 -45.58674,134.88227 72.58609,63.49594 -51.90934,132.57752 z\" id=\"path3009-0\" inkscape:flatsided=\"false\" inkscape:randomized=\"0\" inkscape:rounded=\"1\" inkscape:transform-center-x=\"-1.5140935\" inkscape:transform-center-y=\"-1.3105947\" sodipodi:arg1=\"1.1112529\" sodipodi:arg2=\"1.8496929\" sodipodi:cx=\"58.57143\" sodipodi:cy=\"77.14286\" sodipodi:r1=\"191.67184\" sodipodi:r2=\"142.42667\" sodipodi:sides=\"4\" sodipodi:type=\"star\" style=\"color:#000000;fill:#ccaaff;fill-opacity:1;fill-rule:nonzero;stroke:#000000;stroke-width:14.7668972;stroke-linecap:round;stroke-linejoin:round;stroke-miterlimit:4;stroke-opacity:1;stroke-dasharray:none;stroke-dashoffset:0;marker:none;visibility:visible;display:inline;overflow:visible;enable-background:accumulate\" transform=\"matrix(0.18719613,0.07727001,-0.07727001,0.18719613,383.67966,690.72103)\"/>\n",
        "        <path d=\"m 246.47721,239.07861 a 42.931484,42.931484 0 1 1 -85.86296,0 42.931484,42.931484 0 1 1 85.86296,0 z\" id=\"path3779-5\" sodipodi:cx=\"203.54573\" sodipodi:cy=\"239.07861\" sodipodi:rx=\"42.931484\" sodipodi:ry=\"42.931484\" sodipodi:type=\"arc\" style=\"color:#000000;fill:#ff0000;fill-opacity:1;fill-rule:nonzero;stroke:#000000;stroke-width:6.41509438;stroke-linecap:round;stroke-linejoin:round;stroke-miterlimit:4;stroke-opacity:1;stroke-dasharray:none;stroke-dashoffset:0;marker:none;visibility:visible;display:inline;overflow:visible;enable-background:accumulate\" transform=\"matrix(0.37080386,-0.039845,0.039845,0.37080386,350.52978,665.3315)\"/>\n",
        "        <path d=\"m 411.52706,727.33193 11.33312,8.75351\" id=\"path3781-7\" inkscape:connection-end=\"#path3779-5\" inkscape:connection-end-point=\"d4\" inkscape:connection-start=\"#path3009-0\" inkscape:connection-start-point=\"d4\" inkscape:connector-curvature=\"0\" inkscape:connector-type=\"polyline\" style=\"fill:none;stroke:#000000;stroke-width:2.99054456;stroke-linecap:butt;stroke-linejoin:miter;stroke-miterlimit:4;stroke-opacity:1;stroke-dasharray:none;display:inline\"/>\n",
        "        <rect height=\"22.958887\" id=\"rect3783-1\" style=\"color:#000000;fill:#800080;fill-opacity:1;fill-rule:nonzero;stroke:#000000;stroke-width:2.39243555;stroke-linecap:round;stroke-linejoin:round;stroke-miterlimit:4;stroke-opacity:1;stroke-dasharray:none;stroke-dashoffset:0;marker:none;visibility:visible;display:inline;overflow:visible;enable-background:accumulate\" transform=\"matrix(0.99427616,-0.10684066,0.10684066,0.99427616,0,0)\" width=\"22.958887\" x=\"346.40088\" y=\"694.18561\"/>\n",
        "        <path d=\"m 246.47721,239.07861 a 42.931484,42.931484 0 1 1 -85.86296,0 42.931484,42.931484 0 1 1 85.86296,0 z\" id=\"path3779-9-5\" sodipodi:cx=\"203.54573\" sodipodi:cy=\"239.07861\" sodipodi:rx=\"42.931484\" sodipodi:ry=\"42.931484\" sodipodi:type=\"arc\" style=\"color:#000000;fill:#00ff00;fill-opacity:1;fill-rule:nonzero;stroke:#000000;stroke-width:12.59259224;stroke-linecap:round;stroke-linejoin:round;stroke-miterlimit:4;stroke-opacity:1;stroke-dasharray:none;stroke-dashoffset:0;marker:none;visibility:visible;display:inline;overflow:visible;enable-background:accumulate\" transform=\"matrix(0.18890008,-0.02029839,0.02029839,0.18890008,310.28205,708.4827)\"/>\n",
        "        <path d=\"m 246.47721,239.07861 a 42.931484,42.931484 0 1 1 -85.86296,0 42.931484,42.931484 0 1 1 85.86296,0 z\" id=\"path3779-2-4\" sodipodi:cx=\"203.54573\" sodipodi:cy=\"239.07861\" sodipodi:rx=\"42.931484\" sodipodi:ry=\"42.931484\" sodipodi:type=\"arc\" style=\"color:#000000;fill:#ffff00;fill-opacity:1;fill-rule:nonzero;stroke:#000000;stroke-width:12.1428566;stroke-linecap:round;stroke-linejoin:round;stroke-miterlimit:4;stroke-opacity:1;stroke-dasharray:none;stroke-dashoffset:0;marker:none;visibility:visible;display:inline;overflow:visible;enable-background:accumulate\" transform=\"matrix(0.19589638,-0.02105019,0.02105019,0.19589638,301.73637,633.87839)\"/>\n",
        "        <path d=\"M 366.06127,691.79082 353.27651,681.6764\" id=\"path3816-6\" inkscape:connection-end=\"#path3779-2-4\" inkscape:connection-end-point=\"d4\" inkscape:connection-start=\"#path3009-0\" inkscape:connection-start-point=\"d4\" inkscape:connector-curvature=\"0\" inkscape:connector-type=\"polyline\" style=\"fill:none;stroke:#000000;stroke-width:2.99099994;stroke-linecap:butt;stroke-linejoin:miter;stroke-miterlimit:4;stroke-opacity:1;stroke-dasharray:none;display:inline\"/>\n",
        "        <path d=\"M 369.62181,731.31617 358.97769,743.3938\" id=\"path3818-9\" inkscape:connection-end=\"#path3779-9-5\" inkscape:connection-end-point=\"d4\" inkscape:connection-start=\"#path3009-0\" inkscape:connection-start-point=\"d4\" inkscape:connector-curvature=\"0\" inkscape:connector-type=\"polyline\" style=\"fill:none;stroke:#000000;stroke-width:2.99054456;stroke-linecap:butt;stroke-linejoin:miter;stroke-miterlimit:4;stroke-opacity:1;stroke-dasharray:none;display:inline\"/>\n",
        "        <rect height=\"10.875262\" id=\"rect3826-0\" style=\"color:#000000;fill:#00ff00;fill-opacity:1;fill-rule:nonzero;stroke:#000000;stroke-width:1.79432678;stroke-linecap:round;stroke-linejoin:round;stroke-miterlimit:4;stroke-opacity:1;stroke-dasharray:none;stroke-dashoffset:0;marker:none;visibility:visible;display:inline;overflow:visible;enable-background:accumulate\" transform=\"matrix(0.99427616,-0.10684066,0.10684066,0.99427616,0,0)\" width=\"10.875262\" x=\"325.25455\" y=\"810.18835\"/>\n",
        "        <rect height=\"10.875262\" id=\"rect3826-2-5\" style=\"color:#000000;fill:#ffff00;fill-opacity:1;fill-rule:nonzero;stroke:#000000;stroke-width:1.79432678;stroke-linecap:round;stroke-linejoin:round;stroke-miterlimit:4;stroke-opacity:1;stroke-dasharray:none;stroke-dashoffset:0;marker:none;visibility:visible;display:inline;overflow:visible;enable-background:accumulate\" transform=\"matrix(0.99427616,-0.10684066,0.10684066,0.99427616,0,0)\" width=\"10.875262\" x=\"382.65176\" y=\"786.62531\"/>\n",
        "        <rect height=\"10.875262\" id=\"rect3826-3-4\" style=\"color:#000000;fill:#ffff00;fill-opacity:1;fill-rule:nonzero;stroke:#000000;stroke-width:1.79432678;stroke-linecap:round;stroke-linejoin:round;stroke-miterlimit:4;stroke-opacity:1;stroke-dasharray:none;stroke-dashoffset:0;marker:none;visibility:visible;display:inline;overflow:visible;enable-background:accumulate\" transform=\"matrix(0.99427616,-0.10684066,0.10684066,0.99427616,0,0)\" width=\"10.875262\" x=\"363.31796\" y=\"753.39532\"/>\n",
        "        <path d=\"m 426.72656,759.24541 -6.91025,10.49537\" id=\"path3853-0\" inkscape:connection-end=\"#rect3826-0\" inkscape:connection-end-point=\"d4\" inkscape:connection-start=\"#path3779-5\" inkscape:connection-start-point=\"d4\" inkscape:connector-curvature=\"0\" inkscape:connector-type=\"polyline\" style=\"fill:none;stroke:#000000;stroke-width:2.39243555;stroke-linecap:butt;stroke-linejoin:miter;stroke-miterlimit:4;stroke-opacity:1;stroke-dasharray:none\"/>\n",
        "        <path d=\"m 451.54341,745.96092 13.47697,0.0744\" id=\"path3855-5\" inkscape:connection-end=\"#rect3826-2-5\" inkscape:connection-end-point=\"d4\" inkscape:connection-start=\"#path3779-5\" inkscape:connection-start-point=\"d4\" inkscape:connector-curvature=\"0\" inkscape:connector-type=\"polyline\" style=\"fill:none;stroke:#000000;stroke-width:2.39243555;stroke-linecap:butt;stroke-linejoin:miter;stroke-miterlimit:4;stroke-opacity:1;stroke-dasharray:none;display:inline\"/>\n",
        "        <path d=\"m 445.45747,720.80339 -4.03064,10.17973\" id=\"path3859-9\" inkscape:connection-end=\"#path3779-5\" inkscape:connection-end-point=\"d4\" inkscape:connection-start=\"#rect3826-3-4\" inkscape:connection-start-point=\"d4\" inkscape:connector-curvature=\"0\" inkscape:connector-type=\"polyline\" style=\"fill:none;stroke:#000000;stroke-width:2.39243555;stroke-linecap:butt;stroke-linejoin:miter;stroke-miterlimit:4;stroke-opacity:1;stroke-dasharray:none\"/>\n",
        "        <path d=\"m 143.58536,248.92973 c -112.818003,62.60186 -1.99271,6.44719 -124.223283,-34.8636 -134.882267,-45.58674 -63.495939,72.58609 -132.577517,-51.90934 -62.60185,-112.818003 -6.44719,-1.99271 34.8636,-124.223282 45.586741,-134.882269 -72.58609,-63.49594 51.909342,-132.577516 112.818002,-62.601852 1.99271,-6.447192 124.223281,34.863598 134.882267,45.586741 63.495937,-72.58609 132.577517,51.9093423 62.60185,112.8179977 6.44719,1.9927102 -34.8636,124.2232777 -45.58674,134.88227 72.58609,63.49594 -51.90934,132.57752 z\" id=\"path3009-0-6\" inkscape:flatsided=\"false\" inkscape:randomized=\"0\" inkscape:rounded=\"1\" inkscape:transform-center-x=\"-1.1399369\" inkscape:transform-center-y=\"-1.6464187\" sodipodi:arg1=\"1.1112529\" sodipodi:arg2=\"1.8496929\" sodipodi:cx=\"58.57143\" sodipodi:cy=\"77.14286\" sodipodi:r1=\"191.67184\" sodipodi:r2=\"142.42667\" sodipodi:sides=\"4\" sodipodi:type=\"star\" style=\"color:#000000;fill:#00ffff;fill-opacity:1;fill-rule:nonzero;stroke:#000000;stroke-width:14.7668972;stroke-linecap:round;stroke-linejoin:round;stroke-miterlimit:4;stroke-opacity:1;stroke-dasharray:none;stroke-dashoffset:0;marker:none;visibility:visible;display:inline;overflow:visible;enable-background:accumulate\" transform=\"matrix(0.20054259,0.02820841,-0.02820841,0.20054259,496.90946,812.36047)\"/>\n",
        "        <path d=\"m 246.47721,239.07861 c 0,23.71041 -19.22108,42.93149 -42.93148,42.93149 -23.7104,0 -42.93148,-19.22108 -42.93148,-42.93149 0,-23.7104 19.22108,-42.93148 42.93148,-42.93148 23.7104,0 42.93148,19.22108 42.93148,42.93148 z\" id=\"path3779-5-9\" sodipodi:cx=\"203.54573\" sodipodi:cy=\"239.07861\" sodipodi:rx=\"42.931484\" sodipodi:ry=\"42.931484\" sodipodi:type=\"arc\" style=\"color:#000000;fill:#800080;fill-opacity:1;fill-rule:nonzero;stroke:#000000;stroke-width:6.41509438;stroke-linecap:round;stroke-linejoin:round;stroke-miterlimit:4;stroke-opacity:1;stroke-dasharray:none;stroke-dashoffset:0;marker:none;visibility:visible;display:inline;overflow:visible;enable-background:accumulate\" transform=\"matrix(0.34919296,-0.13094809,0.13094809,0.34919296,458.48039,796.02801)\"/>\n",
        "        <path d=\"m 532.99816,840.88137 13.15624,5.6548\" id=\"path3781-7-4\" inkscape:connection-end=\"#path3779-5-9\" inkscape:connection-end-point=\"d4\" inkscape:connection-start=\"#path3009-0-6\" inkscape:connection-start-point=\"d4\" inkscape:connector-curvature=\"0\" inkscape:connector-type=\"polyline\" style=\"fill:none;stroke:#000000;stroke-width:2.99054456;stroke-linecap:butt;stroke-linejoin:miter;stroke-miterlimit:4;stroke-opacity:1;stroke-dasharray:none;display:inline\"/>\n",
        "        <rect height=\"22.958887\" id=\"rect3783-1-7\" style=\"color:#000000;fill:#00ff00;fill-opacity:1;fill-rule:nonzero;stroke:#000000;stroke-width:2.39243555;stroke-linecap:round;stroke-linejoin:round;stroke-miterlimit:4;stroke-opacity:1;stroke-dasharray:none;stroke-dashoffset:0;marker:none;visibility:visible;display:inline;overflow:visible;enable-background:accumulate\" transform=\"matrix(0.93632853,-0.35112517,0.35112517,0.93632853,0,0)\" width=\"22.958887\" x=\"218.74477\" y=\"901.53931\"/>\n",
        "        <path d=\"m 246.47721,239.07861 c 0,23.71041 -19.22108,42.93149 -42.93148,42.93149 -23.7104,0 -42.93148,-19.22108 -42.93148,-42.93149 0,-23.7104 19.22108,-42.93148 42.93148,-42.93148 23.7104,0 42.93148,19.22108 42.93148,42.93148 z\" id=\"path3779-9-5-3\" sodipodi:cx=\"203.54573\" sodipodi:cy=\"239.07861\" sodipodi:rx=\"42.931484\" sodipodi:ry=\"42.931484\" sodipodi:type=\"arc\" style=\"color:#000000;fill:#ff6600;fill-opacity:1;fill-rule:nonzero;stroke:#000000;stroke-width:12.59259224;stroke-linecap:round;stroke-linejoin:round;stroke-miterlimit:4;stroke-opacity:1;stroke-dasharray:none;stroke-dashoffset:0;marker:none;visibility:visible;display:inline;overflow:visible;enable-background:accumulate\" transform=\"matrix(0.17789075,-0.06670941,0.06670941,0.17789075,430.24911,847.84405)\"/>\n",
        "        <path d=\"m 246.47721,239.07861 c 0,23.71041 -19.22108,42.93149 -42.93148,42.93149 -23.7104,0 -42.93148,-19.22108 -42.93148,-42.93149 0,-23.7104 19.22108,-42.93148 42.93148,-42.93148 23.7104,0 42.93148,19.22108 42.93148,42.93148 z\" id=\"path3779-2-4-9\" sodipodi:cx=\"203.54573\" sodipodi:cy=\"239.07861\" sodipodi:rx=\"42.931484\" sodipodi:ry=\"42.931484\" sodipodi:type=\"arc\" style=\"color:#000000;fill:#008080;fill-opacity:1;fill-rule:nonzero;stroke:#000000;stroke-width:12.1428566;stroke-linecap:round;stroke-linejoin:round;stroke-miterlimit:4;stroke-opacity:1;stroke-dasharray:none;stroke-dashoffset:0;marker:none;visibility:visible;display:inline;overflow:visible;enable-background:accumulate\" transform=\"matrix(0.1844793,-0.06918013,0.06918013,0.1844793,403.3905,777.71953)\"/>\n",
        "        <path d=\"m 480.1128,817.78489 -14.90112,-6.61126\" id=\"path3816-6-7\" inkscape:connection-end=\"#path3779-2-4-9\" inkscape:connection-end-point=\"d4\" inkscape:connection-start=\"#path3009-0-6\" inkscape:connection-start-point=\"d4\" inkscape:connector-curvature=\"0\" inkscape:connector-type=\"polyline\" style=\"fill:none;stroke:#000000;stroke-width:2.99054456;stroke-linecap:butt;stroke-linejoin:miter;stroke-miterlimit:4;stroke-opacity:1;stroke-dasharray:none;display:inline\"/>\n",
        "        <path d=\"m 493.40599,855.17769 -7.30039,14.3482\" id=\"path3818-9-0\" inkscape:connection-end=\"#path3779-9-5-3\" inkscape:connection-end-point=\"d4\" inkscape:connection-start=\"#path3009-0-6\" inkscape:connection-start-point=\"d4\" inkscape:connector-curvature=\"0\" inkscape:connector-type=\"polyline\" style=\"fill:#ff00ff;stroke:#000000;stroke-width:2.99054456;stroke-linecap:butt;stroke-linejoin:miter;stroke-miterlimit:4;stroke-opacity:1;stroke-dasharray:none;display:inline\"/>\n",
        "        <rect height=\"10.875262\" id=\"rect3826-0-7\" style=\"color:#000000;fill:#00ffff;fill-opacity:1;fill-rule:nonzero;stroke:#000000;stroke-width:1.79432678;stroke-linecap:round;stroke-linejoin:round;stroke-miterlimit:4;stroke-opacity:1;stroke-dasharray:none;stroke-dashoffset:0;marker:none;visibility:visible;display:inline;overflow:visible;enable-background:accumulate\" transform=\"matrix(0.93632853,-0.35112517,0.35112517,0.93632853,0,0)\" width=\"10.875262\" x=\"197.5984\" y=\"1017.542\"/>\n",
        "        <rect height=\"10.875262\" id=\"rect3826-2-5-2\" style=\"color:#000000;fill:#ff00ff;fill-opacity:1;fill-rule:nonzero;stroke:#000000;stroke-width:1.79432678;stroke-linecap:round;stroke-linejoin:round;stroke-miterlimit:4;stroke-opacity:1;stroke-dasharray:none;stroke-dashoffset:0;marker:none;visibility:visible;display:inline;overflow:visible;enable-background:accumulate\" transform=\"matrix(0.93632853,-0.35112517,0.35112517,0.93632853,0,0)\" width=\"10.875262\" x=\"254.99562\" y=\"993.979\"/>\n",
        "        <rect height=\"10.875262\" id=\"rect3826-3-4-6\" style=\"color:#000000;fill:#008080;fill-opacity:1;fill-rule:nonzero;stroke:#000000;stroke-width:1.79432678;stroke-linecap:round;stroke-linejoin:round;stroke-miterlimit:4;stroke-opacity:1;stroke-dasharray:none;stroke-dashoffset:0;marker:none;visibility:visible;display:inline;overflow:visible;enable-background:accumulate\" transform=\"matrix(0.93632853,-0.35112517,0.35112517,0.93632853,0,0)\" width=\"10.875262\" x=\"235.66182\" y=\"960.74896\"/>\n",
        "        <path d=\"m 555.66755,868.00319 -4.0783,11.88576\" id=\"path3853-0-1\" inkscape:connection-end=\"#rect3826-0-7\" inkscape:connection-end-point=\"d4\" inkscape:connection-start=\"#path3779-5-9\" inkscape:connection-start-point=\"d4\" inkscape:connector-curvature=\"0\" inkscape:connector-type=\"polyline\" style=\"fill:#00ffff;stroke:#000000;stroke-width:2.39243555;stroke-linecap:butt;stroke-linejoin:miter;stroke-miterlimit:4;stroke-opacity:1;stroke-dasharray:none\"/>\n",
        "        <path d=\"m 576.3934,848.95608 13.07077,-3.28472\" id=\"path3855-5-5\" inkscape:connection-end=\"#rect3826-2-5-2\" inkscape:connection-end-point=\"d4\" inkscape:connection-start=\"#path3779-5-9\" inkscape:connection-start-point=\"d4\" inkscape:connector-curvature=\"0\" inkscape:connector-type=\"polyline\" style=\"fill:none;stroke:#000000;stroke-width:2.39243555;stroke-linecap:butt;stroke-linejoin:miter;stroke-miterlimit:4;stroke-opacity:1;stroke-dasharray:none;display:inline\"/>\n",
        "        <path d=\"m 564.23309,826.10725 -1.36807,10.86287\" id=\"path3859-9-3\" inkscape:connection-end=\"#path3779-5-9\" inkscape:connection-end-point=\"d4\" inkscape:connection-start=\"#rect3826-3-4-6\" inkscape:connection-start-point=\"d4\" inkscape:connector-curvature=\"0\" inkscape:connector-type=\"polyline\" style=\"fill:none;stroke:#000000;stroke-width:2.39243555;stroke-linecap:butt;stroke-linejoin:miter;stroke-miterlimit:4;stroke-opacity:1;stroke-dasharray:none\"/>\n",
        "        <path d=\"m 143.58536,248.92973 c -112.818003,62.60186 -1.99271,6.44719 -124.223283,-34.8636 -134.882267,-45.58674 -63.495939,72.58609 -132.577517,-51.90934 -62.60185,-112.818003 -6.44719,-1.99271 34.8636,-124.223282 45.586741,-134.882269 -72.58609,-63.49594 51.909342,-132.577516 112.818002,-62.601852 1.99271,-6.447192 124.223281,34.863598 134.882267,45.586741 63.495937,-72.58609 132.577517,51.9093423 62.60185,112.8179977 6.44719,1.9927102 -34.8636,124.2232777 -45.58674,134.88227 72.58609,63.49594 -51.90934,132.57752 z\" id=\"path3009-0-66\" inkscape:flatsided=\"false\" inkscape:randomized=\"0\" inkscape:rounded=\"1\" inkscape:transform-center-x=\"-1.9739235\" inkscape:transform-center-y=\"-0.33727109\" sodipodi:arg1=\"1.1112529\" sodipodi:arg2=\"1.8496929\" sodipodi:cx=\"58.57143\" sodipodi:cy=\"77.14286\" sodipodi:r1=\"191.67184\" sodipodi:r2=\"142.42667\" sodipodi:sides=\"4\" sodipodi:type=\"star\" style=\"color:#000000;fill:#00ff00;fill-opacity:1;fill-rule:nonzero;stroke:#000000;stroke-width:14.7668972;stroke-linecap:round;stroke-linejoin:round;stroke-miterlimit:4;stroke-opacity:1;stroke-dasharray:none;stroke-dashoffset:0;marker:none;visibility:visible;display:inline;overflow:visible;enable-background:accumulate\" transform=\"matrix(0.12014041,0.16303168,-0.16303168,0.12014041,414.19273,927.60906)\"/>\n",
        "        <path d=\"m 246.47721,239.07861 c 0,23.71041 -19.22108,42.93149 -42.93148,42.93149 -23.7104,0 -42.93148,-19.22108 -42.93148,-42.93149 0,-23.7104 19.22108,-42.93148 42.93148,-42.93148 23.7104,0 42.93148,19.22108 42.93148,42.93148 z\" id=\"path3779-5-1\" sodipodi:cx=\"203.54573\" sodipodi:cy=\"239.07861\" sodipodi:rx=\"42.931484\" sodipodi:ry=\"42.931484\" sodipodi:type=\"arc\" style=\"color:#000000;fill:#008033;fill-opacity:1;fill-rule:nonzero;stroke:#000000;stroke-width:6.41509438;stroke-linecap:round;stroke-linejoin:round;stroke-miterlimit:4;stroke-opacity:1;stroke-dasharray:none;stroke-dashoffset:0;marker:none;visibility:visible;display:inline;overflow:visible;enable-background:accumulate\" transform=\"matrix(0.33785915,0.15790604,-0.15790604,0.33785915,398.97865,888.72366)\"/>\n",
        "        <path d=\"m 419.06029,973.34901 5.16328,13.35679\" id=\"path3781-7-3\" inkscape:connection-end=\"#path3779-5-1\" inkscape:connection-end-point=\"d4\" inkscape:connection-start=\"#path3009-0-66\" inkscape:connection-start-point=\"d4\" inkscape:connector-curvature=\"0\" inkscape:connector-type=\"polyline\" style=\"fill:none;stroke:#000000;stroke-width:2.99054456;stroke-linecap:butt;stroke-linejoin:miter;stroke-miterlimit:4;stroke-opacity:1;stroke-dasharray:none;display:inline\"/>\n",
        "        <rect height=\"22.958887\" id=\"rect3783-1-9\" style=\"color:#000000;fill:#00ff00;fill-opacity:1;fill-rule:nonzero;stroke:#000000;stroke-width:2.39243555;stroke-linecap:round;stroke-linejoin:round;stroke-miterlimit:4;stroke-opacity:1;stroke-dasharray:none;stroke-dashoffset:0;marker:none;visibility:visible;display:inline;overflow:visible;enable-background:accumulate\" transform=\"matrix(0.90593799,0.42341039,-0.42341039,0.90593799,0,0)\" width=\"22.958887\" x=\"806.70673\" y=\"631.40839\"/>\n",
        "        <path d=\"m 246.47721,239.07861 c 0,23.71041 -19.22108,42.93149 -42.93148,42.93149 -23.7104,0 -42.93148,-19.22108 -42.93148,-42.93149 0,-23.7104 19.22108,-42.93148 42.93148,-42.93148 23.7104,0 42.93148,19.22108 42.93148,42.93148 z\" id=\"path3779-9-5-6\" sodipodi:cx=\"203.54573\" sodipodi:cy=\"239.07861\" sodipodi:rx=\"42.931484\" sodipodi:ry=\"42.931484\" sodipodi:type=\"arc\" style=\"color:#000000;fill:#ff00ff;fill-opacity:1;fill-rule:nonzero;stroke:#000000;stroke-width:12.59259224;stroke-linecap:round;stroke-linejoin:round;stroke-miterlimit:4;stroke-opacity:1;stroke-dasharray:none;stroke-dashoffset:0;marker:none;visibility:visible;display:inline;overflow:visible;enable-background:accumulate\" transform=\"matrix(0.17211693,0.0804427,-0.0804427,0.17211693,342.20337,904.80078)\"/>\n",
        "        <path d=\"m 246.47721,239.07861 c 0,23.71041 -19.22108,42.93149 -42.93148,42.93149 -23.7104,0 -42.93148,-19.22108 -42.93148,-42.93149 0,-23.7104 19.22108,-42.93148 42.93148,-42.93148 23.7104,0 42.93148,19.22108 42.93148,42.93148 z\" id=\"path3779-2-4-97\" sodipodi:cx=\"203.54573\" sodipodi:cy=\"239.07861\" sodipodi:rx=\"42.931484\" sodipodi:ry=\"42.931484\" sodipodi:type=\"arc\" style=\"color:#000000;fill:#ff00ff;fill-opacity:1;fill-rule:nonzero;stroke:#000000;stroke-width:12.1428566;stroke-linecap:round;stroke-linejoin:round;stroke-miterlimit:4;stroke-opacity:1;stroke-dasharray:none;stroke-dashoffset:0;marker:none;visibility:visible;display:inline;overflow:visible;enable-background:accumulate\" transform=\"matrix(0.17849163,0.08342206,-0.08342206,0.17849163,373.52087,836.5509)\"/>\n",
        "        <path d=\"m 398.56602,919.40187 -5.70054,-15.27271\" id=\"path3816-6-79\" inkscape:connection-end=\"#path3779-2-4-97\" inkscape:connection-end-point=\"d4\" inkscape:connection-start=\"#path3009-0-66\" inkscape:connection-start-point=\"d4\" inkscape:connector-curvature=\"0\" inkscape:connector-type=\"polyline\" style=\"fill:none;stroke:#000000;stroke-width:2.99054456;stroke-linecap:butt;stroke-linejoin:miter;stroke-miterlimit:4;stroke-opacity:1;stroke-dasharray:none;display:inline\"/>\n",
        "        <path d=\"m 381.14676,955.05997 -15.35973,4.82131\" id=\"path3818-9-3\" inkscape:connection-end=\"#path3779-9-5-6\" inkscape:connection-end-point=\"d4\" inkscape:connection-start=\"#path3009-0-66\" inkscape:connection-start-point=\"d4\" inkscape:connector-curvature=\"0\" inkscape:connector-type=\"polyline\" style=\"fill:#ff00ff;stroke:#000000;stroke-width:2.99054456;stroke-linecap:butt;stroke-linejoin:miter;stroke-miterlimit:4;stroke-opacity:1;stroke-dasharray:none;display:inline\"/>\n",
        "        <rect height=\"10.875262\" id=\"rect3826-0-1\" style=\"color:#000000;fill:#00ff00;fill-opacity:1;fill-rule:nonzero;stroke:#000000;stroke-width:1.79432678;stroke-linecap:round;stroke-linejoin:round;stroke-miterlimit:4;stroke-opacity:1;stroke-dasharray:none;stroke-dashoffset:0;marker:none;visibility:visible;display:inline;overflow:visible;enable-background:accumulate\" transform=\"matrix(0.90593799,0.42341039,-0.42341039,0.90593799,0,0)\" width=\"10.875262\" x=\"785.56036\" y=\"747.41107\"/>\n",
        "        <rect height=\"10.875262\" id=\"rect3826-2-5-0\" style=\"color:#000000;fill:#2ad4ff;fill-opacity:1;fill-rule:nonzero;stroke:#000000;stroke-width:1.79432678;stroke-linecap:round;stroke-linejoin:round;stroke-miterlimit:4;stroke-opacity:1;stroke-dasharray:none;stroke-dashoffset:0;marker:none;visibility:visible;display:inline;overflow:visible;enable-background:accumulate\" transform=\"matrix(0.90593799,0.42341039,-0.42341039,0.90593799,0,0)\" width=\"10.875262\" x=\"842.95758\" y=\"723.84802\"/>\n",
        "        <rect height=\"10.875262\" id=\"rect3826-3-4-0\" style=\"color:#000000;fill:#aa8800;fill-opacity:1;fill-rule:nonzero;stroke:#000000;stroke-width:1.79432678;stroke-linecap:round;stroke-linejoin:round;stroke-miterlimit:4;stroke-opacity:1;stroke-dasharray:none;stroke-dashoffset:0;marker:none;visibility:visible;display:inline;overflow:visible;enable-background:accumulate\" transform=\"matrix(0.90593799,0.42341039,-0.42341039,0.90593799,0,0)\" width=\"10.875262\" x=\"823.62378\" y=\"690.61804\"/>\n",
        "        <path d=\"m 415.5396,1008.5214 -11.34606,5.401\" id=\"path3853-0-0\" inkscape:connection-end=\"#rect3826-0-1\" inkscape:connection-end-point=\"d4\" inkscape:connection-start=\"#path3779-5-1\" inkscape:connection-start-point=\"d4\" inkscape:connector-curvature=\"0\" inkscape:connector-type=\"polyline\" style=\"fill:none;stroke:#000000;stroke-width:2.39243555;stroke-linecap:butt;stroke-linejoin:miter;stroke-miterlimit:4;stroke-opacity:1;stroke-dasharray:none\"/>\n",
        "        <path d=\"m 443.64921,1010.006 11.49123,7.0417\" id=\"path3855-5-3\" inkscape:connection-end=\"#rect3826-2-5-0\" inkscape:connection-end-point=\"d4\" inkscape:connection-start=\"#path3779-5-1\" inkscape:connection-start-point=\"d4\" inkscape:connector-curvature=\"0\" inkscape:connector-type=\"polyline\" style=\"fill:none;stroke:#000000;stroke-width:2.39243555;stroke-linecap:butt;stroke-linejoin:miter;stroke-miterlimit:4;stroke-opacity:1;stroke-dasharray:none;display:inline\"/>\n",
        "        <path d=\"m 451.46863,985.33213 -8.71914,6.62196\" id=\"path3859-9-8\" inkscape:connection-end=\"#path3779-5-1\" inkscape:connection-end-point=\"d4\" inkscape:connection-start=\"#rect3826-3-4-0\" inkscape:connection-start-point=\"d4\" inkscape:connector-curvature=\"0\" inkscape:connector-type=\"polyline\" style=\"fill:none;stroke:#000000;stroke-width:2.39243555;stroke-linecap:butt;stroke-linejoin:miter;stroke-miterlimit:4;stroke-opacity:1;stroke-dasharray:none\"/>\n",
        "        <path d=\"M 178.14805,189.71932 205.5733,165.63635\" id=\"path3050\" inkscape:connection-end=\"#rect3783\" inkscape:connection-end-point=\"d4\" inkscape:connection-start=\"#path3009\" inkscape:connection-start-point=\"d4\" inkscape:connector-curvature=\"0\" inkscape:connector-type=\"polyline\" style=\"fill:#0000ff;stroke:#0000ff;stroke-width:5;stroke-linecap:butt;stroke-linejoin:miter;stroke-miterlimit:4;stroke-opacity:1;stroke-dasharray:none\" transform=\"translate(0,572.36218)\"/>\n",
        "        <path d=\"M 408.20707,688.44029 420.88886,674.639\" id=\"path3052\" inkscape:connection-end=\"#rect3783-1\" inkscape:connection-end-point=\"d4\" inkscape:connection-start=\"#path3009-0\" inkscape:connection-start-point=\"d4\" inkscape:connector-curvature=\"0\" inkscape:connector-type=\"polyline\" style=\"fill:none;stroke:#000000;stroke-width:2.99099994;stroke-linecap:butt;stroke-linejoin:miter;stroke-miterlimit:4;stroke-opacity:1;stroke-dasharray:none\"/>\n",
        "        <path d=\"m 520.09579,804.0424 8.84454,-16.52509\" id=\"path3054\" inkscape:connection-end=\"#rect3783-1-7\" inkscape:connection-end-point=\"d4\" inkscape:connection-start=\"#path3009-0-6\" inkscape:connection-start-point=\"d4\" inkscape:connector-curvature=\"0\" inkscape:connector-type=\"polyline\" style=\"fill:none;stroke:#000000;stroke-width:2.99099994;stroke-linecap:butt;stroke-linejoin:miter;stroke-miterlimit:4;stroke-opacity:1;stroke-dasharray:none\"/>\n",
        "        <path d=\"m 436.35722,938.35763 17.9955,-5.24086\" id=\"path3058\" inkscape:connection-end=\"#rect3783-1-9\" inkscape:connection-end-point=\"d4\" inkscape:connection-start=\"#path3009-0-66\" inkscape:connection-start-point=\"d4\" inkscape:connector-curvature=\"0\" inkscape:connector-type=\"polyline\" style=\"fill:none;stroke:#000000;stroke-width:2.99099994;stroke-linecap:butt;stroke-linejoin:miter;stroke-miterlimit:4;stroke-opacity:1;stroke-dasharray:none\"/>\n",
        "      </g>\n",
        "    </g>\n",
        "    <path d=\"m 320,564.4585 0,520.2286\" id=\"path3863\" inkscape:connector-curvature=\"0\" style=\"fill:none;stroke:#000000;stroke-width:2;stroke-linecap:butt;stroke-linejoin:miter;stroke-miterlimit:4;stroke-opacity:1;stroke-dasharray:1,1;stroke-dashoffset:0\"/>\n",
        "    <text id=\"text3865\" sodipodi:linespacing=\"125%\" style=\"font-size:36px;font-style:normal;font-variant:normal;font-weight:bold;font-stretch:normal;line-height:125%;letter-spacing:0px;word-spacing:0px;fill:#000000;fill-opacity:1;stroke:none;font-family:Cabin;-inkscape-font-specification:Cabin Bold\" x=\"60\" xml:space=\"preserve\" y=\"632.36218\"><tspan id=\"tspan3867\" sodipodi:role=\"line\" x=\"60\" y=\"632.36218\">Class/Type</tspan></text>\n",
        "    <text id=\"text3869\" sodipodi:linespacing=\"125%\" style=\"font-size:36px;font-style:normal;font-variant:normal;font-weight:bold;font-stretch:normal;line-height:125%;letter-spacing:0px;word-spacing:0px;fill:#000000;fill-opacity:1;stroke:none;font-family:Cabin;-inkscape-font-specification:Cabin Bold\" x=\"340\" xml:space=\"preserve\" y=\"632.36218\"><tspan id=\"tspan3871\" sodipodi:role=\"line\" x=\"340\" y=\"632.36218\">Instances/Objects</tspan></text>\n",
        "  </g>\n",
        "</svg>"
       ],
       "text": [
        "<IPython.core.display.SVG at 0x3065950>"
       ]
      }
     ],
     "prompt_number": 1
    },
    {
     "cell_type": "markdown",
     "metadata": {},
     "source": [
      "### Beispiele f\u00fcr Typen und Klassen\n",
      "\n",
      "* Zahlen, z.B. das Konzept \"Ganzzahl\" wird z.B. durch den Typ `int` realisiert und `42` ist ein Beispiel f\u00fcr so ein Objekt dieses Typs.\n",
      "* Zeichenketten: `basestring` ist das \u00fcbergeordnete Konzept, welches z.B. der Typ `str` sein kann. Ein Beispiel ist `\"Hase\"`."
     ]
    },
    {
     "cell_type": "markdown",
     "metadata": {},
     "source": [
      "Den Typ eines Objekts erf\u00e4hrt man mittels des eingebauten Befehls `type`:"
     ]
    },
    {
     "cell_type": "code",
     "collapsed": false,
     "input": [
      "type(42)"
     ],
     "language": "python",
     "metadata": {},
     "outputs": [
      {
       "metadata": {},
       "output_type": "pyout",
       "prompt_number": 2,
       "text": [
        "int"
       ]
      }
     ],
     "prompt_number": 2
    },
    {
     "cell_type": "code",
     "collapsed": false,
     "input": [
      "type(\"Hase\")"
     ],
     "language": "python",
     "metadata": {},
     "outputs": [
      {
       "metadata": {},
       "output_type": "pyout",
       "prompt_number": 3,
       "text": [
        "str"
       ]
      }
     ],
     "prompt_number": 3
    },
    {
     "cell_type": "markdown",
     "metadata": {},
     "source": [
      "Ein komplexerer Typ ist zum Beispiel das aktuelle Datum mit der aktuellen Uhrzeit.\n",
      "Es wird ein Objekt des Typs \"`datetime.datetime`\" erzeugt, indem der Konstruktor mit ensprechenden Werten bef\u00fcllt wird.\n",
      "Anschlie\u00dfend wird mit \"`.hour`\" und \"`.minute`\" die darin enthaltene Stunde und Minute abgefragt."
     ]
    },
    {
     "cell_type": "code",
     "collapsed": false,
     "input": [
      "from datetime import datetime\n",
      "earlier = datetime(2014, 10, 11, 12, 13)\n",
      "earlier"
     ],
     "language": "python",
     "metadata": {},
     "outputs": [
      {
       "metadata": {},
       "output_type": "pyout",
       "prompt_number": 4,
       "text": [
        "datetime.datetime(2014, 10, 11, 12, 13)"
       ]
      }
     ],
     "prompt_number": 4
    },
    {
     "cell_type": "code",
     "collapsed": false,
     "input": [
      "earlier.hour"
     ],
     "language": "python",
     "metadata": {},
     "outputs": [
      {
       "metadata": {},
       "output_type": "pyout",
       "prompt_number": 5,
       "text": [
        "12"
       ]
      }
     ],
     "prompt_number": 5
    },
    {
     "cell_type": "code",
     "collapsed": false,
     "input": [
      "earlier.minute"
     ],
     "language": "python",
     "metadata": {},
     "outputs": [
      {
       "metadata": {},
       "output_type": "pyout",
       "prompt_number": 6,
       "text": [
        "13"
       ]
      }
     ],
     "prompt_number": 6
    },
    {
     "cell_type": "code",
     "collapsed": false,
     "input": [
      "type(earlier)"
     ],
     "language": "python",
     "metadata": {},
     "outputs": [
      {
       "metadata": {},
       "output_type": "pyout",
       "prompt_number": 7,
       "text": [
        "datetime.datetime"
       ]
      }
     ],
     "prompt_number": 7
    },
    {
     "cell_type": "markdown",
     "metadata": {},
     "source": [
      "Jetzt (also zu einer sp\u00e4teren Zeit) wird das aktuelle Datum abgefragt.\n",
      "Dies geschieht mittels der `.now()` Methode.\n",
      "\n",
      "\"`now`\" verweist nun auf das zweite \"`datetime`\" Objekt, mit der aktuellen Uhrzeit."
     ]
    },
    {
     "cell_type": "code",
     "collapsed": false,
     "input": [
      "now = datetime.now()\n",
      "now"
     ],
     "language": "python",
     "metadata": {},
     "outputs": [
      {
       "metadata": {},
       "output_type": "pyout",
       "prompt_number": 8,
       "text": [
        "datetime.datetime(2015, 1, 21, 21, 40, 47, 251142)"
       ]
      }
     ],
     "prompt_number": 8
    },
    {
     "cell_type": "markdown",
     "metadata": {},
     "source": [
      "Nun wird die Differenz gebildet, welches ein Objekt des Typs \"`datetime.timedelta`\" ist."
     ]
    },
    {
     "cell_type": "code",
     "collapsed": false,
     "input": [
      "timediff = now - earlier\n",
      "timediff"
     ],
     "language": "python",
     "metadata": {},
     "outputs": [
      {
       "metadata": {},
       "output_type": "pyout",
       "prompt_number": 9,
       "text": [
        "datetime.timedelta(102, 34067, 251142)"
       ]
      }
     ],
     "prompt_number": 9
    },
    {
     "cell_type": "code",
     "collapsed": false,
     "input": [
      "timediff.days"
     ],
     "language": "python",
     "metadata": {},
     "outputs": [
      {
       "metadata": {},
       "output_type": "pyout",
       "prompt_number": 10,
       "text": [
        "102"
       ]
      }
     ],
     "prompt_number": 10
    },
    {
     "cell_type": "code",
     "collapsed": false,
     "input": [
      "type(timediff)"
     ],
     "language": "python",
     "metadata": {},
     "outputs": [
      {
       "metadata": {},
       "output_type": "pyout",
       "prompt_number": 11,
       "text": [
        "datetime.timedelta"
       ]
      }
     ],
     "prompt_number": 11
    },
    {
     "cell_type": "markdown",
     "metadata": {},
     "source": [
      "*Bemerkung:* Ein Tipp aus der Praxis ist, Zeitabfragen prinzipiell immer auf die UTC-Zeit umzurechnen.\n",
      "`datetime.utcnow()` liefert hier gleich die passend umgerechnete Zeit. Warum ist das besser?"
     ]
    },
    {
     "cell_type": "markdown",
     "metadata": {},
     "source": [
      "## Klassen\n",
      "\n",
      "Aus einfachen \"Basistypen\" (`str`, `int`, `float`, `list`, ...) werden komplexeren Typen aufgebaut.\n",
      "Die Beschreibung deren Struktur sind die **\"Klassen\"** (engl. \"class\").\n",
      "\n",
      "Eine Klasse wird immer so definiert, dass zuerst das Schl\u00fcsselwort `class` mit dem Namen der Klasse steht.\n",
      "Die anschlie\u00dfenden Klammern geben an, ob die Klasse von einer anderen abgeleitet wird -- \n",
      "ist das nicht der Fall, dann gibt man das Basisobjekt `object` an.\n",
      "\n",
      "Dann folgen, einger\u00fcckt, die Attribute und Methoden der Klasse."
     ]
    },
    {
     "cell_type": "markdown",
     "metadata": {},
     "source": [
      "Im folgenden Beispiel wird mittels einer Klasse `Studierende` der entsprechende Typ definiert,\n",
      "welcher f\u00fcr das Konzept eines einzelnen Studierenden steht."
     ]
    },
    {
     "cell_type": "code",
     "collapsed": true,
     "input": [
      "class Studierende(object):\n",
      "    name = \"Fritz\"\n",
      "    mtrnr = \"0105467\"\n",
      "    stkz = 512"
     ],
     "language": "python",
     "metadata": {},
     "outputs": [],
     "prompt_number": 12
    },
    {
     "cell_type": "markdown",
     "metadata": {},
     "source": [
      "Die drei Attribute dieser Klasse k\u00f6nnen mittels Punktnotation abgefragt werden:"
     ]
    },
    {
     "cell_type": "code",
     "collapsed": false,
     "input": [
      "Studierende.name"
     ],
     "language": "python",
     "metadata": {},
     "outputs": [
      {
       "metadata": {},
       "output_type": "pyout",
       "prompt_number": 13,
       "text": [
        "'Fritz'"
       ]
      }
     ],
     "prompt_number": 13
    },
    {
     "cell_type": "code",
     "collapsed": false,
     "input": [
      "Studierende.stkz"
     ],
     "language": "python",
     "metadata": {},
     "outputs": [
      {
       "metadata": {},
       "output_type": "pyout",
       "prompt_number": 14,
       "text": [
        "512"
       ]
      }
     ],
     "prompt_number": 14
    },
    {
     "cell_type": "markdown",
     "metadata": {},
     "source": [
      "Es ist auch jederzeit m\u00f6glich, die Werte der Attribute zu \u00e4ndern oder neue Attribute hinzuzuf\u00fcgen:"
     ]
    },
    {
     "cell_type": "code",
     "collapsed": false,
     "input": [
      "Studierende.name = \"Susi\""
     ],
     "language": "python",
     "metadata": {},
     "outputs": [],
     "prompt_number": 15
    },
    {
     "cell_type": "code",
     "collapsed": false,
     "input": [
      "Studierende.name"
     ],
     "language": "python",
     "metadata": {},
     "outputs": [
      {
       "metadata": {},
       "output_type": "pyout",
       "prompt_number": 16,
       "text": [
        "'Susi'"
       ]
      }
     ],
     "prompt_number": 16
    },
    {
     "cell_type": "code",
     "collapsed": false,
     "input": [
      "Studierende.lieblinsfarbe = \"purpur\"\n",
      "Studierende.lieblinsfarbe"
     ],
     "language": "python",
     "metadata": {},
     "outputs": [
      {
       "metadata": {},
       "output_type": "pyout",
       "prompt_number": 17,
       "text": [
        "'purpur'"
       ]
      }
     ],
     "prompt_number": 17
    },
    {
     "cell_type": "markdown",
     "metadata": {},
     "source": [
      "Dies ist ein erster Schritt, die Daten in einem Programm zu organisieren.\n",
      "Die Quintessenz einer Klasse ist jedoch,\n",
      "mehr als nur eine konkrete Zusammensetzung dieser Attribute und Methoden zu haben.\n",
      "Man m\u00f6chte mehrere Studierende erzeugen k\u00f6nnen,\n",
      "die zum Beispiel in den Variablen `s1`, `s2`, ... , abgelegt werden\n",
      "und jeweils deren Attribute mit anderen Namen versehen werden.\n",
      "\n",
      "## Instanzen von Klassen\n",
      "\n",
      "Hierf\u00fcr gibt es in Python eine besondere Methode, \n",
      "die Inititalisierungsmethode `__init__(self, *args, **kwargs)`,\n",
      "welche zum automatischen Setzen von Attributen verwendet wird.\n",
      "Sie wird auch \"Konstruktor\" genannt.\n",
      "\n",
      "Das \"Instanzieren\" einer Klasse ist der Geburtsvorgang eines Objekts dieser Klasse.\n",
      "Diese Attribute beinhalten dann die f\u00fcr einen bestimmten Studierenden spezifischen Daten\n",
      "in einer konkreten Instanz einer Klasse -- \n",
      "also nicht mehr in dem allgemeinen Klassenobjekt, welches f\u00fcr alle Instanzen existiert."
     ]
    },
    {
     "cell_type": "code",
     "collapsed": false,
     "input": [
      "# Definition einer zweiten Version der Klasse\n",
      "class Studierende2(object):\n",
      "    def __init__(self, name, mtrnr, stkz):\n",
      "        self.name = name\n",
      "        self.mtrnr = mtrnr\n",
      "        self.stkz = stkz"
     ],
     "language": "python",
     "metadata": {},
     "outputs": [],
     "prompt_number": 18
    },
    {
     "cell_type": "markdown",
     "metadata": {},
     "source": [
      "Instanzierung zweier Studierender:"
     ]
    },
    {
     "cell_type": "code",
     "collapsed": false,
     "input": [
      "ludwig = Studierende2(\"Ludwig Schmidt\", 9100541, 515)\n",
      "clara = Studierende2(\"Clara Bauer\", 97004131, 515)"
     ],
     "language": "python",
     "metadata": {},
     "outputs": [],
     "prompt_number": 19
    },
    {
     "cell_type": "markdown",
     "metadata": {},
     "source": [
      "Im Hintergrund passiert folgendes:\n",
      "Python erzeugt jeweils ein neues (leeres) Objekt im Speicher.\n",
      "Die Methode `__init__(...)` wird aufgerufen, wobei sie als erstes Argument dieses neue (leere) Objekt erh\u00e4lt.\n",
      "Die drei Zeilen innerhalb des Konstruktors setzen nun die Attribute des Objekts auf die \u00fcbergebenen Werte.\n",
      "Dies passiert jeweils f\u00fcr beide Instanzierungsvorg\u00e4nge und die entstehenden Objekte werden in `ludwig` und `clara` abgelegt."
     ]
    },
    {
     "cell_type": "markdown",
     "metadata": {},
     "source": [
      "Zugriff auf Attribute:"
     ]
    },
    {
     "cell_type": "code",
     "collapsed": false,
     "input": [
      "ludwig.name"
     ],
     "language": "python",
     "metadata": {},
     "outputs": [
      {
       "metadata": {},
       "output_type": "pyout",
       "prompt_number": 20,
       "text": [
        "'Ludwig Schmidt'"
       ]
      }
     ],
     "prompt_number": 20
    },
    {
     "cell_type": "code",
     "collapsed": false,
     "input": [
      "clara.mtrnr"
     ],
     "language": "python",
     "metadata": {},
     "outputs": [
      {
       "metadata": {},
       "output_type": "pyout",
       "prompt_number": 21,
       "text": [
        "97004131"
       ]
      }
     ],
     "prompt_number": 21
    },
    {
     "cell_type": "markdown",
     "metadata": {},
     "source": [
      "Typen der Studierenden:"
     ]
    },
    {
     "cell_type": "code",
     "collapsed": false,
     "input": [
      "type(ludwig)"
     ],
     "language": "python",
     "metadata": {},
     "outputs": [
      {
       "metadata": {},
       "output_type": "pyout",
       "prompt_number": 22,
       "text": [
        "__main__.Studierende2"
       ]
      }
     ],
     "prompt_number": 22
    },
    {
     "cell_type": "code",
     "collapsed": false,
     "input": [
      "type(clara)"
     ],
     "language": "python",
     "metadata": {},
     "outputs": [
      {
       "metadata": {},
       "output_type": "pyout",
       "prompt_number": 23,
       "text": [
        "__main__.Studierende2"
       ]
      }
     ],
     "prompt_number": 23
    },
    {
     "cell_type": "markdown",
     "metadata": {},
     "source": [
      "An dieser Stelle eine Zwischenfrage: Was ist der Typ einer Klasse?\n",
      "\n",
      "Beantworte diese Frage mit dem `type` Befehl und versuche dies zu erkl\u00e4ren."
     ]
    },
    {
     "cell_type": "code",
     "collapsed": false,
     "input": [
      "type(Studierende2)"
     ],
     "language": "python",
     "metadata": {},
     "outputs": [
      {
       "metadata": {},
       "output_type": "pyout",
       "prompt_number": 24,
       "text": [
        "type"
       ]
      }
     ],
     "prompt_number": 24
    },
    {
     "cell_type": "markdown",
     "metadata": {},
     "source": [
      "Von hier aus k\u00f6nnen beliebige Operationen auf Basis beider Instanzen gemacht werden:"
     ]
    },
    {
     "cell_type": "code",
     "collapsed": false,
     "input": [
      "ludwig.mtrnr + clara.stkz"
     ],
     "language": "python",
     "metadata": {},
     "outputs": [
      {
       "metadata": {},
       "output_type": "pyout",
       "prompt_number": 25,
       "text": [
        "9101056"
       ]
      }
     ],
     "prompt_number": 25
    },
    {
     "cell_type": "code",
     "collapsed": false,
     "input": [
      "ludwig.name + \" & \" + clara.name"
     ],
     "language": "python",
     "metadata": {},
     "outputs": [
      {
       "metadata": {},
       "output_type": "pyout",
       "prompt_number": 26,
       "text": [
        "'Ludwig Schmidt & Clara Bauer'"
       ]
      }
     ],
     "prompt_number": 26
    },
    {
     "cell_type": "code",
     "collapsed": false,
     "input": [
      "clara.stkz * 55"
     ],
     "language": "python",
     "metadata": {},
     "outputs": [
      {
       "metadata": {},
       "output_type": "pyout",
       "prompt_number": 27,
       "text": [
        "28325"
       ]
      }
     ],
     "prompt_number": 27
    },
    {
     "cell_type": "markdown",
     "metadata": {},
     "source": [
      "## Methoden\n",
      "\n",
      "Wiederholt sich die Verarbeitung der Informationen in den Attributen,\n",
      "so wird diese in einer \"Methode\" (engl. \"method\") festgelegt.\n",
      "Das ist im Wesentlichen eine Funktion,\n",
      "welche als _erstes_ Argument die Instanz des Objekts (engl. \"Reciever\") erh\u00e4lt,\n",
      "und die restlichen Argumente je nach Definition der Methode.\n",
      "Dieses erste Argument wird \u00fcblicherweise immer `self` genannt.\n",
      "Dies ergibt eine direkte Zuordnung von Funktionen zu Instanzen,\n",
      "und tr\u00e4gt damit zur \u00dcbersichtlichkeit bei.\n",
      "\n",
      "Im folgenden wird eine Klasse `Vorlesung` definiert,\n",
      "welche einen Namen, eine Lehrveranstaltungsnummer, einen H\u00f6rsaal, eine Menge von Studierenden, usw. enth\u00e4lt."
     ]
    },
    {
     "cell_type": "code",
     "collapsed": false,
     "input": [
      "class Vorlesung(object):\n",
      "    def __init__(self, name, lvnr):\n",
      "        self.name = name\n",
      "        self.lvnr = lvnr\n",
      "        self.teilnehmer = set()\n",
      "        \n",
      "    def add_studierenden(self, s):\n",
      "        self.teilnehmer.add(s)\n",
      "        \n",
      "    def anzahl_teilnehmer(self):\n",
      "        return len(self.teilnehmer)"
     ],
     "language": "python",
     "metadata": {},
     "outputs": [],
     "prompt_number": 28
    },
    {
     "cell_type": "code",
     "collapsed": false,
     "input": [
      "pp1 = Vorlesung(\"Programmierpraktikum 1\", 25017)\n",
      "pp1.add_studierenden(clara)\n",
      "pp1.add_studierenden(ludwig)"
     ],
     "language": "python",
     "metadata": {},
     "outputs": [],
     "prompt_number": 29
    },
    {
     "cell_type": "code",
     "collapsed": false,
     "input": [
      "pp1.anzahl_teilnehmer()"
     ],
     "language": "python",
     "metadata": {},
     "outputs": [
      {
       "metadata": {},
       "output_type": "pyout",
       "prompt_number": 30,
       "text": [
        "2"
       ]
      }
     ],
     "prompt_number": 30
    },
    {
     "cell_type": "markdown",
     "metadata": {},
     "source": [
      "Noch ein Studierender der sich sp\u00e4ter angemeldet hat:"
     ]
    },
    {
     "cell_type": "code",
     "collapsed": false,
     "input": [
      "paula = Studierende2(\"Paula Power\", \"1004131\", 515)\n",
      "pp1.add_studierenden(paula)\n",
      "pp1.anzahl_teilnehmer()"
     ],
     "language": "python",
     "metadata": {},
     "outputs": [
      {
       "metadata": {},
       "output_type": "pyout",
       "prompt_number": 31,
       "text": [
        "3"
       ]
      }
     ],
     "prompt_number": 31
    },
    {
     "cell_type": "markdown",
     "metadata": {},
     "source": [
      "## Stringdarstellung\n",
      "\n",
      "Neben der schon erw\u00e4hnten eingebauten `__init__(...)` Methode,\n",
      "gibt es noch eine reihe anderer interessanter Methoden.\n",
      "\n",
      "Eine der wichtigeren ist `__str__()` bzw. `__repr__()`,\n",
      "welche aus den Attributen des Objekts eine lesbare Zeichenkette erzeugen.\n",
      "Dies macht Ausgaben f\u00fcr den Menschen viel informativer!"
     ]
    },
    {
     "cell_type": "code",
     "collapsed": false,
     "input": [
      "# ohne __repr__, nur wenig Information:\n",
      "paula"
     ],
     "language": "python",
     "metadata": {},
     "outputs": [
      {
       "metadata": {},
       "output_type": "pyout",
       "prompt_number": 32,
       "text": [
        "<__main__.Studierende2 at 0x318de50>"
       ]
      }
     ],
     "prompt_number": 32
    },
    {
     "cell_type": "code",
     "collapsed": false,
     "input": [
      "# wir f\u00fcgen eine `__repr__` Methode hinzu und definieren eine neue Version der Klasse\n",
      "\n",
      "class Studierende3(object):\n",
      "    def __init__(self, name, mtrnr, stkz):\n",
      "        self.name = name\n",
      "        self.mtrnr = mtrnr\n",
      "        self.stkz = stkz\n",
      "    def __repr__(self):\n",
      "        return \"Student/in '%s' mit Mtrnr %s\" % (self.name, self.mtrnr)"
     ],
     "language": "python",
     "metadata": {},
     "outputs": [],
     "prompt_number": 33
    },
    {
     "cell_type": "markdown",
     "metadata": {},
     "source": [
      "Die Objekte m\u00fcssen neu instanziert werden:"
     ]
    },
    {
     "cell_type": "code",
     "collapsed": false,
     "input": [
      "paula = Studierende3(\"Paula Power\", \"1004131\", 515)\n",
      "paula"
     ],
     "language": "python",
     "metadata": {},
     "outputs": [
      {
       "metadata": {},
       "output_type": "pyout",
       "prompt_number": 34,
       "text": [
        "Student/in 'Paula Power' mit Mtrnr 1004131"
       ]
      }
     ],
     "prompt_number": 34
    },
    {
     "cell_type": "markdown",
     "metadata": {},
     "source": [
      "*Nebenbemerkung:* `__repr__` ist allgmeiner aber `__str__` kommt nur bei `print` oder expliziter Zeichenkettenformatierung zum Zug.\n",
      "Gibt es nur `__repr__` aber kein `__str__`, so wird `__repr__` als fallback verwendet. Daher funktioniert das:"
     ]
    },
    {
     "cell_type": "code",
     "collapsed": false,
     "input": [
      "print(paula)"
     ],
     "language": "python",
     "metadata": {},
     "outputs": [
      {
       "output_type": "stream",
       "stream": "stdout",
       "text": [
        "Student/in 'Paula Power' mit Mtrnr 1004131\n"
       ]
      }
     ],
     "prompt_number": 35
    },
    {
     "cell_type": "markdown",
     "metadata": {},
     "source": [
      "## \"Ableitung\" von Klassen (engl. 'extension')\n",
      "\n",
      "Das Ableiten einer Klasse hat nichts mit dem mathematischen Ableiten zu tun.\n",
      "Es handelt sich hier um eine Technik, um schon bestehende Definitionen zu erweitern.\n",
      "\n",
      "Beispielsweise m\u00f6chten wir eine `Vorlesung2` Klasse definieren,\n",
      "die alles von `Vorlesung` erbt und noch eine weitere Methode hinzuf\u00fcgt.\n",
      "(Hei\u00dft eine neue Methode genau gleich, so wird sie ersetzt)\n",
      "\n",
      "Erzielt wird dies durch Angeben der *Elternklasse* in der Definitionszeile der Klasse:"
     ]
    },
    {
     "cell_type": "code",
     "collapsed": false,
     "input": [
      "class Vorlesung2(Vorlesung):\n",
      "    def remove_studierenden(self, s):\n",
      "        self.teilnehmer.remove(s)"
     ],
     "language": "python",
     "metadata": {},
     "outputs": [],
     "prompt_number": 36
    },
    {
     "cell_type": "code",
     "collapsed": false,
     "input": [
      "ana2 = Vorlesung2(\"Analysis 2\", 25007)\n",
      "ana2.add_studierenden(paula)\n",
      "ana2.anzahl_teilnehmer()"
     ],
     "language": "python",
     "metadata": {},
     "outputs": [
      {
       "metadata": {},
       "output_type": "pyout",
       "prompt_number": 37,
       "text": [
        "1"
       ]
      }
     ],
     "prompt_number": 37
    },
    {
     "cell_type": "code",
     "collapsed": false,
     "input": [
      "ana2.remove_studierenden(paula)\n",
      "ana2.anzahl_teilnehmer()"
     ],
     "language": "python",
     "metadata": {},
     "outputs": [
      {
       "metadata": {},
       "output_type": "pyout",
       "prompt_number": 38,
       "text": [
        "0"
       ]
      }
     ],
     "prompt_number": 38
    },
    {
     "cell_type": "markdown",
     "metadata": {},
     "source": [
      "## Metaprogramming\n",
      "\n",
      "Etwas verwirrend, aber durchaus sinnvoll, ist die Tatsache, dass Klassen selbst Objekte sind.\n",
      "Sie sind Instanzen des Typs `type` und k\u00f6nnen auch in einem Programm erzeugt werden bzw.\n",
      "l\u00e4sst sich das interne Verhalten einer Klasse dadurch beeinflussen."
     ]
    },
    {
     "cell_type": "code",
     "collapsed": false,
     "input": [
      "type(Studierende3)"
     ],
     "language": "python",
     "metadata": {},
     "outputs": [
      {
       "metadata": {},
       "output_type": "pyout",
       "prompt_number": 39,
       "text": [
        "type"
       ]
      }
     ],
     "prompt_number": 39
    },
    {
     "cell_type": "code",
     "collapsed": false,
     "input": [
      "# Programmatrisch erzeugte Klasse\n",
      "ProgCls = type('ProgCls', (), {'f' : lambda self : 2*self.x})\n",
      "pc1 = ProgCls()\n",
      "pc1.x = 11\n",
      "pc1.f()"
     ],
     "language": "python",
     "metadata": {},
     "outputs": [
      {
       "metadata": {},
       "output_type": "pyout",
       "prompt_number": 40,
       "text": [
        "22"
       ]
      }
     ],
     "prompt_number": 40
    }
   ],
   "metadata": {}
  }
 ]
}
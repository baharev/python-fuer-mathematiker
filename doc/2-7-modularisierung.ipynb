{
 "metadata": {
  "name": "",
  "signature": "sha256:650794bf95fd8dc8f7a8c523f16bbfc8b3fef1de0ea0f0703de2b3f2d9f322bc"
 },
 "nbformat": 3,
 "nbformat_minor": 0,
 "worksheets": [
  {
   "cells": [
    {
     "cell_type": "markdown",
     "metadata": {},
     "source": [
      "# Konzept 7: Modularisierung\n",
      "\n",
      "W\u00e4chst ein Programm f\u00fcr ein gr\u00f6\u00dferes Projekt,\n",
      "muss man trotzdem die \u00dcbersicht behalten k\u00f6nnen.\n",
      "Objektorientierte Programmierung ist ein gutes Konzept um die wachsende Komplexit\u00e4t in den Griff zu bekommen --\n",
      "scheitert jedoch, wenn immer mehr unterschiedliche Klassen, Funktionen und Strukturen ins Spiel kommen.\n",
      "Das Schl\u00fcsselkonzept vieler erfolgreichen Programmiersprachen ist \"**Modularisierung**\":\n",
      "es handelt sich hierbei um abgekapselte Einheiten des Programms,\n",
      "die jeweils in sich geschlossen sind und Teil eines gr\u00f6\u00dferen Programmes sein k\u00f6nnen.\n",
      "\n",
      "Dies ist bereits an mehreren Stellen vorgekommen: es handelt sich um die `import`-Statements.\n",
      "Diese laden ein Modul bzw. importieren bestimmte Symbole (welche Variablen, Funktionen oder Sub-Module sein k\u00f6nnen).\n",
      "\n",
      "Solch ein Modul kann im eigenen Programm liegen, oder global verf\u00fcgbar sein."
     ]
    },
    {
     "cell_type": "markdown",
     "metadata": {},
     "source": [
      "*Beispiel:* Das `math` Modul wird importiert,\n",
      "wobei dann die einzelnen Funktionen als Attribute zur Verf\u00fcgung stehen:"
     ]
    },
    {
     "cell_type": "code",
     "collapsed": false,
     "input": [
      "import math\n",
      "print(math.sqrt(4))"
     ],
     "language": "python",
     "metadata": {},
     "outputs": [
      {
       "output_type": "stream",
       "stream": "stdout",
       "text": [
        "2.0\n"
       ]
      }
     ],
     "prompt_number": 1
    },
    {
     "cell_type": "markdown",
     "metadata": {},
     "source": [
      "*Beispiel*: Hier werden die Funktionen `sqrt` und `sin` aus dem Modul `math` importiert."
     ]
    },
    {
     "cell_type": "code",
     "collapsed": false,
     "input": [
      "from math import sqrt, sin\n",
      "print(sin(3.1415))\n",
      "print(sqrt(2))"
     ],
     "language": "python",
     "metadata": {},
     "outputs": [
      {
       "output_type": "stream",
       "stream": "stdout",
       "text": [
        "9.26535896605e-05\n",
        "1.41421356237\n"
       ]
      }
     ],
     "prompt_number": 2
    }
   ],
   "metadata": {}
  }
 ]
}
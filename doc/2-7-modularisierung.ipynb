{
 "cells": [
  {
   "cell_type": "markdown",
   "metadata": {},
   "source": [
    "# Konzept 7: Modularisierung\n",
    "\n",
    "Wächst ein Programm für ein größeres Projekt,\n",
    "muss man trotzdem die Übersicht behalten können.\n",
    "Objektorientierte Programmierung ist ein gutes Konzept um die wachsende Komplexität in den Griff zu bekommen.\n",
    "Das heißt, Methoden in einer Klasse bilden eine natürliche Einheit und bringen daher Ordnung in das gesamte Progamm.\n",
    "\n",
    "Dies scheitert jedoch, wenn immer mehr unterschiedliche Klassen, Funktionen und Strukturen ins Spiel kommen.\n",
    "Das Schlüsselkonzept vieler erfolgreichen Programmiersprachen ist \"**Modularisierung**\":\n",
    "es handelt sich hierbei um abgekapselte Einheiten des Programms,\n",
    "die jeweils in sich geschlossen sind und Teil eines größeren Programmes sein können.\n",
    "\n",
    "Die Verwendung von Modulen ist bereits an vielen Stellen vorgekommen:\n",
    "es handelt sich um die `import`-Statements.\n",
    "Diese laden ein Modul bzw. importieren bestimmte Symbole (welche Variablen, Funktionen oder Sub-Module sein können).\n",
    "\n",
    "Solch ein Modul kann im eigenen Programm liegen, oder global verfügbar sein."
   ]
  },
  {
   "cell_type": "markdown",
   "metadata": {},
   "source": [
    "*Beispiel:* Das `math` Modul wird importiert,\n",
    "wobei dann die einzelnen Funktionen als Attribute zur Verfügung stehen:"
   ]
  },
  {
   "cell_type": "code",
   "execution_count": 1,
   "metadata": {
    "collapsed": false
   },
   "outputs": [
    {
     "name": "stdout",
     "output_type": "stream",
     "text": [
      "2.0\n"
     ]
    }
   ],
   "source": [
    "import math\n",
    "print(math.sqrt(4))"
   ]
  },
  {
   "cell_type": "markdown",
   "metadata": {},
   "source": [
    "*Beispiel*: Hier werden die Funktionen `sqrt` und `sin` aus dem Modul `math` importiert."
   ]
  },
  {
   "cell_type": "code",
   "execution_count": 2,
   "metadata": {
    "collapsed": false
   },
   "outputs": [
    {
     "name": "stdout",
     "output_type": "stream",
     "text": [
      "9.26535896605e-05\n",
      "1.41421356237\n"
     ]
    }
   ],
   "source": [
    "from math import sqrt, sin\n",
    "print(sin(3.1415))\n",
    "print(sqrt(2))"
   ]
  },
  {
   "cell_type": "markdown",
   "metadata": {},
   "source": [
    "## Eigene Module\n",
    "\n",
    "Eigene Module können auf (mindestens) zwei Arten erstellt werden:\n",
    "\n",
    "1. Jede eigenständige `*.py` Datei ist ein Modul.\n",
    "1. Ein Verzeichnis mit darin enthaltenen `__init__.py` Datei. Diese kann leer sein, aber wenn sie Code enthält, wird dieser beim Laden des Moduls ausgeführt.\n",
    "\n",
    "Module können an beliebiger Stelle im Dateisystem abgelegt sein, müssen jedoch in der Liste der `sys.path` Pfade enthalten sein. Diese Liste wird beim Import des gewünschten Moduls durchsucht.\n",
    "\n",
    "[Module in Python 2](https://docs.python.org/2/tutorial/modules.html)"
   ]
  }
 ],
 "metadata": {
  "kernelspec": {
   "display_name": "Python 2",
   "language": "python",
   "name": "python2"
  },
  "language_info": {
   "codemirror_mode": {
    "name": "ipython",
    "version": 2
   },
   "file_extension": ".py",
   "mimetype": "text/x-python",
   "name": "python",
   "nbconvert_exporter": "python",
   "pygments_lexer": "ipython2",
   "version": "2.7.6"
  }
 },
 "nbformat": 4,
 "nbformat_minor": 0
}

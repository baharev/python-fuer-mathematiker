{
 "metadata": {
  "name": "",
  "signature": "sha256:70ec294e18ce3d2a63e9d8e3d24e1f1ca149fd9453a767b944e659fc56c1f007"
 },
 "nbformat": 3,
 "nbformat_minor": 0,
 "worksheets": [
  {
   "cells": [
    {
     "cell_type": "markdown",
     "metadata": {},
     "source": [
      "# Typen und Objekte\n",
      "\n",
      "Alle Mitspieler in einem Programm sind Objekte.\n",
      "Diese beinhalten die gesamte Information, die ein bestimmtes Konzept (\"Typ\") mit Daten erf\u00fcllt.\n",
      "\n",
      "Einfache Beispiele:\n",
      "\n",
      "* Zahlen, z.B. das Konzept \"Ganzzahl\" wird z.B. durch den Typ `int` realisiert und `42` ist ein Beispiel f\u00fcr so ein Objekt dieses Typs.\n",
      "* Zeichenketten: `basestring` ist das \u00fcbergeordnete Konzept, welches z.B. der Typ `str` sein kann. Ein Beispiel ist `\"Hase\"`."
     ]
    },
    {
     "cell_type": "markdown",
     "metadata": {},
     "source": [
      "Den Typ eines Objekts erf\u00e4hrt man mittels des eingebauten Befehls `type`:"
     ]
    },
    {
     "cell_type": "code",
     "collapsed": false,
     "input": [
      "type(42)"
     ],
     "language": "python",
     "metadata": {},
     "outputs": [
      {
       "metadata": {},
       "output_type": "pyout",
       "prompt_number": 1,
       "text": [
        "int"
       ]
      }
     ],
     "prompt_number": 1
    },
    {
     "cell_type": "code",
     "collapsed": false,
     "input": [
      "type(\"Hase\")"
     ],
     "language": "python",
     "metadata": {},
     "outputs": [
      {
       "metadata": {},
       "output_type": "pyout",
       "prompt_number": 2,
       "text": [
        "str"
       ]
      }
     ],
     "prompt_number": 2
    },
    {
     "cell_type": "markdown",
     "metadata": {},
     "source": [
      "Dies sind einfache \"Basistypen\", welche ben\u00fctzt werden um komplexere Typen aufzubauen.\n",
      "Hierf\u00fcr werden sogenannte \"Klassen\" (engl. \"class\") verwendet.\n",
      "\n",
      "Im folgenden Beispiel wird mittels einer Klasse `Studierender` der entsprechende Typ definiert,\n",
      "welcher f\u00fcr das Konzept eines einzelnen Studierenden steht.\n",
      "\n",
      "Das \"Instanzieren\" einer Klasse ist der Geburtsvorgang eines Objekts dieser Klasse.\n",
      "Dabei wird die Inititalisierungsmethode `__init__(self, ...)` aufgerufen,\n",
      "welche passende \"Attribute\" (engl. \"attributes\") anlegt.\n",
      "Diese Attribute beinhalten die f\u00fcr einen bestimmten Studierenden spezifischen Daten."
     ]
    },
    {
     "cell_type": "code",
     "collapsed": false,
     "input": [
      "class Studierender(object):\n",
      "    def __init__(self, name, mtrnr, stkz):\n",
      "        self.name = name\n",
      "        self.mtrnr = mtrnr\n",
      "        self.stkz = stkz"
     ],
     "language": "python",
     "metadata": {},
     "outputs": [],
     "prompt_number": 3
    },
    {
     "cell_type": "markdown",
     "metadata": {},
     "source": [
      "Instanzierung zweier Studierender:"
     ]
    },
    {
     "cell_type": "code",
     "collapsed": false,
     "input": [
      "ludwig = Studierender(\"Ludwig Schmidt\", 9100541, 515)\n",
      "clara = Studierender(\"Clara Bauer\", 97004131, 515)"
     ],
     "language": "python",
     "metadata": {},
     "outputs": [],
     "prompt_number": 4
    },
    {
     "cell_type": "markdown",
     "metadata": {},
     "source": [
      "Zugriff auf Attribute:"
     ]
    },
    {
     "cell_type": "code",
     "collapsed": false,
     "input": [
      "ludwig.name"
     ],
     "language": "python",
     "metadata": {},
     "outputs": [
      {
       "metadata": {},
       "output_type": "pyout",
       "prompt_number": 5,
       "text": [
        "'Ludwig Schmidt'"
       ]
      }
     ],
     "prompt_number": 5
    },
    {
     "cell_type": "code",
     "collapsed": false,
     "input": [
      "clara.mtrnr"
     ],
     "language": "python",
     "metadata": {},
     "outputs": [
      {
       "metadata": {},
       "output_type": "pyout",
       "prompt_number": 6,
       "text": [
        "97004131"
       ]
      }
     ],
     "prompt_number": 6
    },
    {
     "cell_type": "markdown",
     "metadata": {},
     "source": [
      "Typen der Studierenden:"
     ]
    },
    {
     "cell_type": "code",
     "collapsed": false,
     "input": [
      "type(ludwig)"
     ],
     "language": "python",
     "metadata": {},
     "outputs": [
      {
       "metadata": {},
       "output_type": "pyout",
       "prompt_number": 8,
       "text": [
        "__main__.Studierender"
       ]
      }
     ],
     "prompt_number": 8
    },
    {
     "cell_type": "code",
     "collapsed": false,
     "input": [
      "type(clara)"
     ],
     "language": "python",
     "metadata": {},
     "outputs": [
      {
       "metadata": {},
       "output_type": "pyout",
       "prompt_number": 9,
       "text": [
        "__main__.Studierender"
       ]
      }
     ],
     "prompt_number": 9
    },
    {
     "cell_type": "markdown",
     "metadata": {},
     "source": [
      "An dieser Stelle eine Zwischenfrage: Was ist der Typ einer Klasse?\n",
      "\n",
      "Beantworte diese Frage mit dem `type` Befehl und versuche dies zu erkl\u00e4ren."
     ]
    },
    {
     "cell_type": "code",
     "collapsed": false,
     "input": [
      "type(Studierender)"
     ],
     "language": "python",
     "metadata": {},
     "outputs": [
      {
       "metadata": {},
       "output_type": "pyout",
       "prompt_number": 13,
       "text": [
        "type"
       ]
      }
     ],
     "prompt_number": 13
    },
    {
     "cell_type": "markdown",
     "metadata": {},
     "source": [
      "Von hier aus k\u00f6nnen beliebige Operationen auf Basis beider Instanzen gemacht werden:"
     ]
    },
    {
     "cell_type": "code",
     "collapsed": false,
     "input": [
      "ludwig.mtrnr + clara.stkz"
     ],
     "language": "python",
     "metadata": {},
     "outputs": [
      {
       "metadata": {},
       "output_type": "pyout",
       "prompt_number": 10,
       "text": [
        "9101056"
       ]
      }
     ],
     "prompt_number": 10
    },
    {
     "cell_type": "code",
     "collapsed": false,
     "input": [
      "ludwig.name + \" & \" + clara.name"
     ],
     "language": "python",
     "metadata": {},
     "outputs": [
      {
       "metadata": {},
       "output_type": "pyout",
       "prompt_number": 11,
       "text": [
        "'Ludwig Schmidt & Clara Bauer'"
       ]
      }
     ],
     "prompt_number": 11
    },
    {
     "cell_type": "code",
     "collapsed": false,
     "input": [
      "clara.stkz * 55"
     ],
     "language": "python",
     "metadata": {},
     "outputs": [
      {
       "metadata": {},
       "output_type": "pyout",
       "prompt_number": 12,
       "text": [
        "28325"
       ]
      }
     ],
     "prompt_number": 12
    },
    {
     "cell_type": "markdown",
     "metadata": {},
     "source": [
      "## Methoden\n",
      "\n",
      "Wiederholt sich die Verarbeitung der Informationen in den Attributen,\n",
      "so wird diese in einer \"Methode\" (engl. \"method\") festgelegt.\n",
      "Das ist im Wesentlichen eine Funktion,\n",
      "welche als erstes Argument die Instanz des Objekts (engl. \"Reciever\") erh\u00e4lt,\n",
      "und die restlichen Argumente je nach Definition der Methode.\n",
      "Dies ergibt eine direkte Zuordnung von Funktionen zu Instanzen,\n",
      "und tr\u00e4gt damit zur \u00dcbersichtlichkeit bei.\n",
      "\n",
      "Im folgenden wird eine Klasse `Vorlesung` definiert,\n",
      "welche einen Namen, eine Lehrveranstaltungsnummer, einen H\u00f6rsaal, eine Menge von Studierenden, usw. enth\u00e4lt."
     ]
    },
    {
     "cell_type": "code",
     "collapsed": false,
     "input": [
      "class Vorlesung(object):\n",
      "    def __init__(self, name, lvnr):\n",
      "        self.name = name\n",
      "        self.lvnr = lvnr\n",
      "        self.teilnehmer = set()\n",
      "        \n",
      "    def add_studierender(self, s):\n",
      "        self.teilnehmer.add(s)\n",
      "        \n",
      "    def anzahl_teilnehmer(self):\n",
      "        return len(self.teilnehmer)"
     ],
     "language": "python",
     "metadata": {},
     "outputs": [],
     "prompt_number": 23
    },
    {
     "cell_type": "code",
     "collapsed": false,
     "input": [
      "pp1 = Vorlesung(\"Programmierpraktikum 1\", 25017)\n",
      "pp1.add_studierender(clara)\n",
      "pp1.add_studierender(ludwig)"
     ],
     "language": "python",
     "metadata": {},
     "outputs": [],
     "prompt_number": 24
    },
    {
     "cell_type": "code",
     "collapsed": false,
     "input": [
      "pp1.anzahl_teilnehmer()"
     ],
     "language": "python",
     "metadata": {},
     "outputs": [
      {
       "metadata": {},
       "output_type": "pyout",
       "prompt_number": 25,
       "text": [
        "2"
       ]
      }
     ],
     "prompt_number": 25
    },
    {
     "cell_type": "code",
     "collapsed": false,
     "input": [],
     "language": "python",
     "metadata": {},
     "outputs": []
    }
   ],
   "metadata": {}
  }
 ]
}
{
 "metadata": {
  "name": "",
  "signature": "sha256:33c5e25b0fe2bc18e7b3338e1287fc87c72b03bfe03575fc31159b72535214e7"
 },
 "nbformat": 3,
 "nbformat_minor": 0,
 "worksheets": [
  {
   "cells": [
    {
     "cell_type": "markdown",
     "metadata": {},
     "source": [
      "# Logik\n",
      "\n",
      "* `and`: und\n",
      "* `or`: oder\n",
      "* `not`: negation\n",
      "* `^`: xor\n",
      "\n",
      "Wahr, Falsch oder [Unbekannt](http://de.wikipedia.org/wiki/Unvollst\u00e4ndigkeitssatz)."
     ]
    },
    {
     "cell_type": "code",
     "collapsed": false,
     "input": [
      "True and True"
     ],
     "language": "python",
     "metadata": {},
     "outputs": [
      {
       "metadata": {},
       "output_type": "pyout",
       "prompt_number": 1,
       "text": [
        "True"
       ]
      }
     ],
     "prompt_number": 1
    },
    {
     "cell_type": "code",
     "collapsed": false,
     "input": [
      "not True or not False"
     ],
     "language": "python",
     "metadata": {},
     "outputs": [
      {
       "metadata": {},
       "output_type": "pyout",
       "prompt_number": 6,
       "text": [
        "True"
       ]
      }
     ],
     "prompt_number": 6
    },
    {
     "cell_type": "code",
     "collapsed": false,
     "input": [
      "not (True or False)"
     ],
     "language": "python",
     "metadata": {},
     "outputs": [
      {
       "metadata": {},
       "output_type": "pyout",
       "prompt_number": 8,
       "text": [
        "False"
       ]
      }
     ],
     "prompt_number": 8
    },
    {
     "cell_type": "code",
     "collapsed": false,
     "input": [
      "True ^ False"
     ],
     "language": "python",
     "metadata": {},
     "outputs": [
      {
       "metadata": {},
       "output_type": "pyout",
       "prompt_number": 2,
       "text": [
        "True"
       ]
      }
     ],
     "prompt_number": 2
    },
    {
     "cell_type": "code",
     "collapsed": false,
     "input": [
      "True ^ True"
     ],
     "language": "python",
     "metadata": {},
     "outputs": [
      {
       "metadata": {},
       "output_type": "pyout",
       "prompt_number": 4,
       "text": [
        "False"
       ]
      }
     ],
     "prompt_number": 4
    },
    {
     "cell_type": "code",
     "collapsed": false,
     "input": [
      "not (False or False)"
     ],
     "language": "python",
     "metadata": {},
     "outputs": [
      {
       "metadata": {},
       "output_type": "pyout",
       "prompt_number": 5,
       "text": [
        "True"
       ]
      }
     ],
     "prompt_number": 5
    },
    {
     "cell_type": "markdown",
     "metadata": {},
     "source": [
      "## Wahrheitstabelle"
     ]
    },
    {
     "cell_type": "code",
     "collapsed": false,
     "input": [
      "fmt = lambda t : \"X\" if t else \".\""
     ],
     "language": "python",
     "metadata": {},
     "outputs": [],
     "prompt_number": 27
    },
    {
     "cell_type": "code",
     "collapsed": false,
     "input": [
      "def print_table(prop):\n",
      "    from itertools import product\n",
      "\n",
      "    print(\"A  B  C  =>  P\")\n",
      "    print(\"-\" * 14)\n",
      "\n",
      "    for state in product([True, False], repeat=3):\n",
      "        args = '  '.join(fmt(s) for s in state)\n",
      "        res = prop(*state)\n",
      "        print(\"{}  =>  {}\".format(args, fmt(res)))"
     ],
     "language": "python",
     "metadata": {},
     "outputs": [],
     "prompt_number": 28
    },
    {
     "cell_type": "code",
     "collapsed": false,
     "input": [
      "prop1 = lambda a, b, c : (a or (not a and b)) and c\n",
      "print_table(prop1)"
     ],
     "language": "python",
     "metadata": {},
     "outputs": [
      {
       "output_type": "stream",
       "stream": "stdout",
       "text": [
        "A  B  C  =>  P\n",
        "--------------\n",
        "X  X  X  =>  X\n",
        "X  X  .  =>  .\n",
        "X  .  X  =>  X\n",
        "X  .  .  =>  .\n",
        ".  X  X  =>  X\n",
        ".  X  .  =>  .\n",
        ".  .  X  =>  .\n",
        ".  .  .  =>  .\n"
       ]
      }
     ],
     "prompt_number": 29
    },
    {
     "cell_type": "code",
     "collapsed": false,
     "input": [
      "prop2 = lambda a, b, c : (a or b) and c\n",
      "print_table(prop2)"
     ],
     "language": "python",
     "metadata": {},
     "outputs": [
      {
       "output_type": "stream",
       "stream": "stdout",
       "text": [
        "A  B  C  =>  P\n",
        "--------------\n",
        "X  X  X  =>  X\n",
        "X  X  .  =>  .\n",
        "X  .  X  =>  X\n",
        "X  .  .  =>  .\n",
        ".  X  X  =>  X\n",
        ".  X  .  =>  .\n",
        ".  .  X  =>  .\n",
        ".  .  .  =>  .\n"
       ]
      }
     ],
     "prompt_number": 30
    },
    {
     "cell_type": "code",
     "collapsed": false,
     "input": [
      "prop3 = lambda a, b, c : a and (b ^ c)\n",
      "print_table(prop3)"
     ],
     "language": "python",
     "metadata": {},
     "outputs": [
      {
       "output_type": "stream",
       "stream": "stdout",
       "text": [
        "A  B  C  =>  P\n",
        "--------------\n",
        "X  X  X  =>  .\n",
        "X  X  .  =>  X\n",
        "X  .  X  =>  X\n",
        "X  .  .  =>  .\n",
        ".  X  X  =>  .\n",
        ".  X  .  =>  .\n",
        ".  .  X  =>  .\n",
        ".  .  .  =>  .\n"
       ]
      }
     ],
     "prompt_number": 31
    },
    {
     "cell_type": "markdown",
     "metadata": {},
     "source": [
      "## Addition zweier Boolscher Vektoren\n",
      "\n",
      "Die zwei Vektoren werden nach den \u00fcblichen Regeln addiert."
     ]
    },
    {
     "cell_type": "code",
     "collapsed": false,
     "input": [
      "a = [True, True, False, True, True,  False]\n",
      "b =             [True,  True, False, False]"
     ],
     "language": "python",
     "metadata": {},
     "outputs": [],
     "prompt_number": 29
    },
    {
     "cell_type": "code",
     "collapsed": false,
     "input": [
      "def boolean_add(a, b):\n",
      "    size = max(len(a), len(b))\n",
      "    # padding\n",
      "    for v in [a, b]:\n",
      "        while len(v) < size:\n",
      "            v.insert(0, False)\n",
      "            \n",
      "    result = []\n",
      "    c = False\n",
      "    for pos in reversed(range(size)):\n",
      "        s = a[pos] ^ b[pos] ^ c\n",
      "        c = (a[pos] and b[pos]) or (c and (a[pos] ^ b[pos]))\n",
      "        result.insert(0, s)\n",
      "    result.insert(0, c)\n",
      "    return result"
     ],
     "language": "python",
     "metadata": {},
     "outputs": [],
     "prompt_number": 40
    },
    {
     "cell_type": "code",
     "collapsed": false,
     "input": [
      "ab = boolean_add(a, b)\n",
      "ab"
     ],
     "language": "python",
     "metadata": {},
     "outputs": [
      {
       "metadata": {},
       "output_type": "pyout",
       "prompt_number": 41,
       "text": [
        "[True, False, False, False, False, True, False]"
       ]
      }
     ],
     "prompt_number": 41
    },
    {
     "cell_type": "code",
     "collapsed": false,
     "input": [
      "def boolean_to_decimal(b):\n",
      "    result = 0\n",
      "    for i, x in enumerate(reversed(b)):\n",
      "        result += 2**i * x\n",
      "    return result"
     ],
     "language": "python",
     "metadata": {},
     "outputs": [],
     "prompt_number": 42
    },
    {
     "cell_type": "code",
     "collapsed": false,
     "input": [
      "print boolean_to_decimal(a)\n",
      "print boolean_to_decimal(b)\n",
      "print boolean_to_decimal(ab)"
     ],
     "language": "python",
     "metadata": {},
     "outputs": [
      {
       "output_type": "stream",
       "stream": "stdout",
       "text": [
        "54\n",
        "12\n",
        "66\n"
       ]
      }
     ],
     "prompt_number": 43
    }
   ],
   "metadata": {}
  }
 ]
}
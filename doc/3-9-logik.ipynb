{
 "metadata": {
  "name": "",
  "signature": "sha256:3ec908b5e767cd0feb19bd3b0828dccc116676d843b807374813e300f22bb3c0"
 },
 "nbformat": 3,
 "nbformat_minor": 0,
 "worksheets": [
  {
   "cells": [
    {
     "cell_type": "markdown",
     "metadata": {},
     "source": [
      "# Logik\n",
      "\n",
      "* `and`: und\n",
      "* `or`: oder\n",
      "* `not`: negation\n",
      "* `^`: xor\n",
      "\n",
      "Wahr, Falsch oder [Unbekannt](http://de.wikipedia.org/wiki/Unvollst\u00e4ndigkeitssatz)."
     ]
    },
    {
     "cell_type": "markdown",
     "metadata": {},
     "source": [
      "## Wahrheitstabelle"
     ]
    },
    {
     "cell_type": "code",
     "collapsed": false,
     "input": [
      "fmt = lambda t : \"X\" if t else \".\""
     ],
     "language": "python",
     "metadata": {},
     "outputs": [],
     "prompt_number": 27
    },
    {
     "cell_type": "code",
     "collapsed": false,
     "input": [
      "def print_table(prop):\n",
      "    from itertools import product\n",
      "\n",
      "    print(\"A  B  C  =>  P\")\n",
      "    print(\"-\" * 14)\n",
      "\n",
      "    for state in product([True, False], repeat=3):\n",
      "        args = '  '.join(fmt(s) for s in state)\n",
      "        res = prop(*state)\n",
      "        print(\"{}  =>  {}\".format(args, fmt(res)))"
     ],
     "language": "python",
     "metadata": {},
     "outputs": [],
     "prompt_number": 28
    },
    {
     "cell_type": "code",
     "collapsed": false,
     "input": [
      "prop1 = lambda a, b, c : (a or (not a and b)) and c\n",
      "print_table(prop1)"
     ],
     "language": "python",
     "metadata": {},
     "outputs": [
      {
       "output_type": "stream",
       "stream": "stdout",
       "text": [
        "A  B  C  =>  P\n",
        "--------------\n",
        "X  X  X  =>  X\n",
        "X  X  .  =>  .\n",
        "X  .  X  =>  X\n",
        "X  .  .  =>  .\n",
        ".  X  X  =>  X\n",
        ".  X  .  =>  .\n",
        ".  .  X  =>  .\n",
        ".  .  .  =>  .\n"
       ]
      }
     ],
     "prompt_number": 29
    },
    {
     "cell_type": "code",
     "collapsed": false,
     "input": [
      "prop2 = lambda a, b, c : (a or b) and c\n",
      "print_table(prop2)"
     ],
     "language": "python",
     "metadata": {},
     "outputs": [
      {
       "output_type": "stream",
       "stream": "stdout",
       "text": [
        "A  B  C  =>  P\n",
        "--------------\n",
        "X  X  X  =>  X\n",
        "X  X  .  =>  .\n",
        "X  .  X  =>  X\n",
        "X  .  .  =>  .\n",
        ".  X  X  =>  X\n",
        ".  X  .  =>  .\n",
        ".  .  X  =>  .\n",
        ".  .  .  =>  .\n"
       ]
      }
     ],
     "prompt_number": 30
    },
    {
     "cell_type": "code",
     "collapsed": false,
     "input": [
      "prop3 = lambda a, b, c : a and (b ^ c)\n",
      "print_table(prop3)"
     ],
     "language": "python",
     "metadata": {},
     "outputs": [
      {
       "output_type": "stream",
       "stream": "stdout",
       "text": [
        "A  B  C  =>  P\n",
        "--------------\n",
        "X  X  X  =>  .\n",
        "X  X  .  =>  X\n",
        "X  .  X  =>  X\n",
        "X  .  .  =>  .\n",
        ".  X  X  =>  .\n",
        ".  X  .  =>  .\n",
        ".  .  X  =>  .\n",
        ".  .  .  =>  .\n"
       ]
      }
     ],
     "prompt_number": 31
    },
    {
     "cell_type": "code",
     "collapsed": false,
     "input": [],
     "language": "python",
     "metadata": {},
     "outputs": [],
     "prompt_number": 31
    },
    {
     "cell_type": "code",
     "collapsed": false,
     "input": [],
     "language": "python",
     "metadata": {},
     "outputs": []
    }
   ],
   "metadata": {}
  }
 ]
}
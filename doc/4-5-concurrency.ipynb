{
 "metadata": {
  "name": "",
  "signature": "sha256:d4b3e743e6bafc05001eff54665b1bc5bce032e2e104e325f74fd8a4c2074a59"
 },
 "nbformat": 3,
 "nbformat_minor": 0,
 "worksheets": [
  {
   "cells": [
    {
     "cell_type": "heading",
     "level": 1,
     "metadata": {},
     "source": [
      "Co-Routinen, Threads & Subprozesse"
     ]
    },
    {
     "cell_type": "heading",
     "level": 2,
     "metadata": {},
     "source": [
      "Concurrent Programming"
     ]
    },
    {
     "cell_type": "markdown",
     "metadata": {},
     "source": [
      "Das Konzept ***\"concurrent programming\"*** ist eine Sammlung von Techniken,\n",
      "um innerhalb eines Programmes mehrere Aufgaben unabh\u00e4ngig -- oder fast unabh\u00e4ngig -- voneiner bearbeiten zu k\u00f6nnen.\n",
      "Auf entsprechenden Machinen, bzw. in einem Verbund von Computern, k\u00f6nnen diese Aufgaben wenn m\u00f6glich auch gleichzeitig ausgef\u00fchrt werden - das nennt sich ***\"parallel computing\"***.\n",
      "\n",
      "* [Concurrent Computing](http://en.wikipedia.org/wiki/Concurrent_computing)\n",
      "* [Parallel Computing](http://en.wikipedia.org/wiki/Parallel_computing)"
     ]
    },
    {
     "cell_type": "code",
     "collapsed": false,
     "input": [],
     "language": "python",
     "metadata": {},
     "outputs": [],
     "prompt_number": 0
    },
    {
     "cell_type": "markdown",
     "metadata": {},
     "source": [
      "## Co-Routinen\n",
      "\n",
      "Eine der einfachsten Formen von concurrency sind Co-Routinen.\n",
      "Eine Co-Routine verh\u00e4lt sich hierbei ganz \u00e4hnlich zu einer Funktion,\n",
      "welche aber mehrmals hintereinander aufgerufen werden kann (wenn sie sich intern wiederholt).\n",
      "Zu jedem Aufruf gibt es ein dazugeh\u00f6riges Ergebnis oder eine Exception,\n",
      "die andeutet dass die Co-Routine zu Ende ist.\n",
      "\n",
      "Entscheidender Unterschied ist das `yield`-Statement: Es kann an dieser Stelle ein Zwischenergebnis zur\u00fcckgeben oder auf die Eingabe eines Wertes warten.\n",
      "\n",
      "Verwendet werden Co-Routinen, indem sie zuerst Instanziert werden und dann entweder als Iterator zum Einsatz kommen oder explizit `.next()` zum Abrufen des n\u00e4chsten Wertes aufgerufen wird.\n",
      "\n",
      "Wichtig ist zu verstehen, dass Co-Routinen nicht erst beim Aufrufen des `.next()` calls zum Arbeiten beginnen.\n",
      "Sie k\u00f6nnen selbst\u00e4ndig im Hintergrund schon so lange besch\u00e4ftigt sein,\n",
      "bis sie an der Stelle des `yield`-Statements ein fertiges Ergebnis zum Abruf bereit halten.\n",
      "\n",
      "Hier einfache Beispiele:"
     ]
    },
    {
     "cell_type": "code",
     "collapsed": false,
     "input": [
      "def coroutine1():\n",
      "    yield \"abc\"\n",
      "    yield \"xyz\"\n",
      "    yield 777"
     ],
     "language": "python",
     "metadata": {},
     "outputs": [],
     "prompt_number": 9
    },
    {
     "cell_type": "code",
     "collapsed": false,
     "input": [
      "c1 = coroutine1()\n",
      "print(next(c1))\n",
      "print(next(c1))\n",
      "print(next(c1))\n",
      "print(next(c1))"
     ],
     "language": "python",
     "metadata": {},
     "outputs": [
      {
       "output_type": "stream",
       "stream": "stdout",
       "text": [
        "abc\n",
        "xyz\n",
        "777\n"
       ]
      },
      {
       "ename": "StopIteration",
       "evalue": "",
       "output_type": "pyerr",
       "traceback": [
        "\u001b[1;31m---------------------------------------------------------------------------\u001b[0m\n\u001b[1;31mStopIteration\u001b[0m                             Traceback (most recent call last)",
        "\u001b[1;32m<ipython-input-10-ac681be2fb60>\u001b[0m in \u001b[0;36m<module>\u001b[1;34m()\u001b[0m\n\u001b[0;32m      3\u001b[0m \u001b[1;32mprint\u001b[0m\u001b[1;33m(\u001b[0m\u001b[0mnext\u001b[0m\u001b[1;33m(\u001b[0m\u001b[0mc1\u001b[0m\u001b[1;33m)\u001b[0m\u001b[1;33m)\u001b[0m\u001b[1;33m\u001b[0m\u001b[0m\n\u001b[0;32m      4\u001b[0m \u001b[1;32mprint\u001b[0m\u001b[1;33m(\u001b[0m\u001b[0mnext\u001b[0m\u001b[1;33m(\u001b[0m\u001b[0mc1\u001b[0m\u001b[1;33m)\u001b[0m\u001b[1;33m)\u001b[0m\u001b[1;33m\u001b[0m\u001b[0m\n\u001b[1;32m----> 5\u001b[1;33m \u001b[1;32mprint\u001b[0m\u001b[1;33m(\u001b[0m\u001b[0mnext\u001b[0m\u001b[1;33m(\u001b[0m\u001b[0mc1\u001b[0m\u001b[1;33m)\u001b[0m\u001b[1;33m)\u001b[0m\u001b[1;33m\u001b[0m\u001b[0m\n\u001b[0m",
        "\u001b[1;31mStopIteration\u001b[0m: "
       ]
      }
     ],
     "prompt_number": 10
    },
    {
     "cell_type": "code",
     "collapsed": false,
     "input": [
      "def even_numbers(start_value = 0):\n",
      "    x = start_value\n",
      "    while True:\n",
      "        x += 1\n",
      "        if x % 2 == 0:\n",
      "            yield x"
     ],
     "language": "python",
     "metadata": {},
     "outputs": [],
     "prompt_number": 21
    },
    {
     "cell_type": "code",
     "collapsed": false,
     "input": [
      "en = even_numbers(21)\n",
      "for i in range(5):\n",
      "    print(next(en))"
     ],
     "language": "python",
     "metadata": {},
     "outputs": [
      {
       "output_type": "stream",
       "stream": "stdout",
       "text": [
        "22\n",
        "24\n",
        "26\n",
        "28\n",
        "30\n"
       ]
      }
     ],
     "prompt_number": 22
    },
    {
     "cell_type": "markdown",
     "metadata": {},
     "source": [
      "Da Co-Routinen eine spezielle Form von Iteratoren sind,\n",
      "brechen sie in diesem Fall hier nicht von selbst ab.\n",
      "Wir m\u00fcssen daher in dieser `for i in en2` Schleife sicherstellen,\n",
      "dass irgendwann `break` aufgerufen wird!"
     ]
    },
    {
     "cell_type": "code",
     "collapsed": false,
     "input": [
      "en2 = even_numbers(1)\n",
      "for i in en2:\n",
      "    print(i)\n",
      "    if i > 10:\n",
      "        break"
     ],
     "language": "python",
     "metadata": {},
     "outputs": [
      {
       "output_type": "stream",
       "stream": "stdout",
       "text": [
        "2\n",
        "4\n",
        "6\n",
        "8\n",
        "10\n",
        "12\n"
       ]
      }
     ],
     "prompt_number": 23
    },
    {
     "cell_type": "markdown",
     "metadata": {},
     "source": [
      "`variable = yield` und `coroutine_instance.send(arg)` erlauben,\n",
      "Objekte an eine Co-Routine zu schicken.\n",
      "Achtung, das Timing von `next` und `send` darf nicht aus dem Takt kommen!"
     ]
    },
    {
     "cell_type": "code",
     "collapsed": false,
     "input": [
      "def triple():\n",
      "    while True:\n",
      "        print(\"    Ready to recieve values\")\n",
      "        y = yield\n",
      "        print(\"    I got %s\" % y)\n",
      "        yield y * 3"
     ],
     "language": "python",
     "metadata": {},
     "outputs": [],
     "prompt_number": 25
    },
    {
     "cell_type": "code",
     "collapsed": false,
     "input": [
      "t = triple()\n",
      "next(t)     # initialisierung der Co-Routine!\n",
      "print(\"init fertig\")\n",
      "z = t.send(21)\n",
      "print(\"habe %s erhalten\" % z)\n",
      "next(t)\n",
      "z = t.send(-4)\n",
      "print(\"habe %s erhalten\" % z)"
     ],
     "language": "python",
     "metadata": {},
     "outputs": [
      {
       "output_type": "stream",
       "stream": "stdout",
       "text": [
        "    Ready to recieve values\n",
        "init fertig\n",
        "    I got 21\n",
        "habe 63 erhalten\n",
        "    Ready to recieve values\n",
        "    I got -4\n",
        "habe -12 erhalten\n"
       ]
      }
     ],
     "prompt_number": 29
    },
    {
     "cell_type": "markdown",
     "metadata": {},
     "source": [
      "**Bonus**: Verkettungen"
     ]
    },
    {
     "cell_type": "code",
     "collapsed": false,
     "input": [
      "def oddvals():\n",
      "    x = 1\n",
      "    while True:\n",
      "        yield x\n",
      "        x += 2\n",
      "\n",
      "def sumall(co_other):\n",
      "    sum = 0\n",
      "    while True:\n",
      "        sum += next(co_other)\n",
      "        yield sum\n",
      "\n",
      "a1 = oddvals()\n",
      "sa = sumall(a1)\n",
      "for i in range(10):\n",
      "    print(next(sa))"
     ],
     "language": "python",
     "metadata": {},
     "outputs": [
      {
       "output_type": "stream",
       "stream": "stdout",
       "text": [
        "1\n",
        "4\n",
        "9\n",
        "16\n",
        "25\n",
        "36\n",
        "49\n",
        "64\n",
        "81\n",
        "100\n"
       ]
      }
     ],
     "prompt_number": 39
    },
    {
     "cell_type": "markdown",
     "metadata": {},
     "source": [
      "**Kontrolle:**"
     ]
    },
    {
     "cell_type": "code",
     "collapsed": false,
     "input": [
      "[sum(range(1, 2 * x, 2)) for x in range(1, 11)]"
     ],
     "language": "python",
     "metadata": {},
     "outputs": [
      {
       "metadata": {},
       "output_type": "pyout",
       "prompt_number": 38,
       "text": [
        "[1, 4, 9, 16, 25, 36, 49, 64, 81, 100]"
       ]
      }
     ],
     "prompt_number": 38
    },
    {
     "cell_type": "markdown",
     "metadata": {},
     "source": [
      "## Threading"
     ]
    },
    {
     "cell_type": "code",
     "collapsed": false,
     "input": [
      "from threading import Thread\n",
      "from Queue import Queue"
     ],
     "language": "python",
     "metadata": {},
     "outputs": [],
     "prompt_number": 1
    },
    {
     "cell_type": "code",
     "collapsed": false,
     "input": [
      "def calculate(name, input_queue, return_queue):\n",
      "    sum = 0\n",
      "    while True:\n",
      "        c = input_queue.get()\n",
      "        print(\"working in \" + name)\n",
      "        if c < 0:\n",
      "            break\n",
      "        sum += c\n",
      "    return_queue.put(sum)\n",
      "    \n",
      "input_queue = Queue()\n",
      "return_queue = Queue()\n",
      "\n",
      "t1 = Thread(target=calculate, args=(\"T1\", input_queue, return_queue))\n",
      "t2 = Thread(target=calculate, args=(\"T2\", input_queue, return_queue))\n",
      "\n",
      "t1.start()\n",
      "t2.start()\n",
      "\n",
      "for k in range(99999, 99999+20):\n",
      "    input_queue.put(k)\n",
      "\n",
      "input_queue.put(-1)\n",
      "input_queue.put(-1)"
     ],
     "language": "python",
     "metadata": {},
     "outputs": [
      {
       "output_type": "stream",
       "stream": "stdout",
       "text": [
        "working in T2\n",
        "working in T2\n",
        "working in T2\n",
        "working in T2\n",
        "working in T2\n",
        "working in T2\n",
        "working in T1\n",
        "working in T2\n",
        "working in T1\n",
        "working in T2\n",
        "working in T1\n",
        "working in T1\n",
        "working in T1\n",
        "working in T2\n",
        "working in T1\n",
        "working in T2\n",
        "working in T1\n",
        "working in T2\n",
        "working in T1\n",
        "working in T2\n",
        "working in T1\n",
        "working in T2\n"
       ]
      }
     ],
     "prompt_number": 2
    },
    {
     "cell_type": "code",
     "collapsed": false,
     "input": [],
     "language": "python",
     "metadata": {},
     "outputs": [],
     "prompt_number": 2
    }
   ],
   "metadata": {}
  }
 ]
}
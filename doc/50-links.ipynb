{
 "metadata": {
  "name": "",
  "signature": "sha256:2aae325bf8f9ff4d0c29e91284d2bc3c68c15f6f43e6b756a32885c4121da4c0"
 },
 "nbformat": 3,
 "nbformat_minor": 0,
 "worksheets": [
  {
   "cells": [
    {
     "cell_type": "markdown",
     "metadata": {},
     "source": [
      "[INDEX](00-index.ipynb)"
     ]
    },
    {
     "cell_type": "markdown",
     "metadata": {},
     "source": [
      "# Weiterf\u00fchrende Literatur und Links"
     ]
    },
    {
     "cell_type": "markdown",
     "metadata": {},
     "source": [
      "## Python\n",
      "\n",
      "* [Python 2 Tutorial](https://docs.python.org/2/tutorial/index.html)\n",
      "* [Python 3 Tutorial](https://docs.python.org/3/tutorial/index.html)\n",
      "\n",
      "## Classes\n",
      "\n",
      "* [Vincent Knight, Computing for Mathematics](http://vincent-knight.com/Computing_for_mathematics)"
     ]
    },
    {
     "cell_type": "code",
     "collapsed": false,
     "input": [],
     "language": "python",
     "metadata": {},
     "outputs": []
    }
   ],
   "metadata": {}
  }
 ]
}
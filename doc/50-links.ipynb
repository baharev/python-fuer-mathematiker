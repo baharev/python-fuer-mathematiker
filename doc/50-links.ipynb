{
 "metadata": {
  "name": "",
  "signature": "sha256:6a0abd4a1596de0fcc67534e4d783599d58c1204d583afe222e126f335eb1efd"
 },
 "nbformat": 3,
 "nbformat_minor": 0,
 "worksheets": [
  {
   "cells": [
    {
     "cell_type": "markdown",
     "metadata": {},
     "source": [
      "# Weiterf\u00fchrende Literatur und Links"
     ]
    },
    {
     "cell_type": "markdown",
     "metadata": {},
     "source": [
      "## Python\n",
      "\n",
      "* [Python 2 Tutorial](https://docs.python.org/2/tutorial/index.html)\n",
      "* [Python 3 Tutorial](https://docs.python.org/3/tutorial/index.html)\n",
      "\n",
      "## Kurse\n",
      "\n",
      "* [Computing for Mathematics - Vincent Knight](http://vincent-knight.com/Computing_for_mathematics)\n",
      "* [Scientific Computing with Python - J.R. Johansson](http://nbviewer.ipython.org/github/jrjohansson/scientific-python-lectures/tree/master/)\n",
      "* [A Crash Course in Python for Scientists - Rick Muller - Sandia National Laboratories](http://nbviewer.ipython.org/gist/rpmuller/5920182)"
     ]
    },
    {
     "cell_type": "code",
     "collapsed": false,
     "input": [],
     "language": "python",
     "metadata": {},
     "outputs": []
    }
   ],
   "metadata": {}
  }
 ]
}
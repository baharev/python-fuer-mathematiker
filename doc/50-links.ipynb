{
 "metadata": {
  "name": "",
  "signature": "sha256:70a37704773722afd1cb70c4198ecb5113ffccf8f0d44bf34315e861f32d30cf"
 },
 "nbformat": 3,
 "nbformat_minor": 0,
 "worksheets": [
  {
   "cells": [
    {
     "cell_type": "markdown",
     "metadata": {},
     "source": [
      "# Weiterf\u00fchrende Literatur und Links"
     ]
    },
    {
     "cell_type": "markdown",
     "metadata": {},
     "source": [
      "## Python\n",
      "\n",
      "* [Python 2 Tutorial](https://docs.python.org/2/tutorial/index.html)\n",
      "* [Python 3 Tutorial](https://docs.python.org/3/tutorial/index.html)"
     ]
    },
    {
     "cell_type": "markdown",
     "metadata": {},
     "source": [
      "## Kurse\n",
      "\n",
      "* [Computing for Mathematics - Vincent Knight](http://vincent-knight.com/Computing_for_mathematics)\n",
      "* [Scientific Computing with Python - J.R. Johansson](http://nbviewer.ipython.org/github/jrjohansson/scientific-python-lectures/tree/master/)\n",
      "* [A Crash Course in Python for Scientists - Rick Muller - Sandia National Laboratories](http://nbviewer.ipython.org/gist/rpmuller/5920182)"
     ]
    },
    {
     "cell_type": "markdown",
     "metadata": {},
     "source": [
      "## Bibliotheken und Software\n",
      "\n",
      "* [Sage](http://www.sagemath.org) bzw. [SageMathCloud](https://cloud.sagemath.com)\n",
      "* [SymPy](http://www.sympy.org)\n",
      "* [NumPy](http://www.numpy.org)"
     ]
    },
    {
     "cell_type": "code",
     "collapsed": false,
     "input": [],
     "language": "python",
     "metadata": {},
     "outputs": [],
     "prompt_number": 0
    }
   ],
   "metadata": {}
  }
 ]
}
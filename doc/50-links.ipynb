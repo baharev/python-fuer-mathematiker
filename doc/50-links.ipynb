{
 "metadata": {
  "name": "",
  "signature": "sha256:44f361a09e95c6f30628c1a5575c65bf2b514b888b4ef0b8eb59096504f4a1fa"
 },
 "nbformat": 3,
 "nbformat_minor": 0,
 "worksheets": [
  {
   "cells": [
    {
     "cell_type": "markdown",
     "metadata": {},
     "source": [
      "# Weiterf\u00fchrende Literatur und Links"
     ]
    },
    {
     "cell_type": "markdown",
     "metadata": {},
     "source": [
      "## Python\n",
      "\n",
      "* [Python 2 Tutorial](https://docs.python.org/2/tutorial/index.html)\n",
      "* [Python 3 Tutorial](https://docs.python.org/3/tutorial/index.html)\n",
      "\n",
      "## Classes\n",
      "\n",
      "* [Vincent Knight, Computing for Mathematics](http://vincent-knight.com/Computing_for_mathematics)"
     ]
    },
    {
     "cell_type": "code",
     "collapsed": false,
     "input": [],
     "language": "python",
     "metadata": {},
     "outputs": []
    }
   ],
   "metadata": {}
  }
 ]
}
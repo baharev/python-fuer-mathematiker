{
 "metadata": {
  "name": "",
  "signature": "sha256:affbd57b635749a46a66ef4840582218b3bcbf43f959e9fdfd9ee3b38af93da9"
 },
 "nbformat": 3,
 "nbformat_minor": 0,
 "worksheets": [
  {
   "cells": [
    {
     "cell_type": "markdown",
     "metadata": {},
     "source": [
      "# Weiterf\u00fchrende Literatur und Links"
     ]
    },
    {
     "cell_type": "markdown",
     "metadata": {},
     "source": [
      "## Python\n",
      "\n",
      "* Tutorial: [Python 2](https://docs.python.org/2/tutorial/index.html), [Python 3](https://docs.python.org/3/tutorial/index.html)\n",
      "\n",
      "* Built-in Funktionen: [Version 2](https://docs.python.org/2/library/functions.html),\n",
      "  [Version 3](https://docs.python.org/3/library/functions.html)"
     ]
    },
    {
     "cell_type": "markdown",
     "metadata": {},
     "source": [
      "## Python Intros\n",
      "\n",
      "* [Introduction to Python](http://introtopython.org/) - Introduction to Python is a resource for students who want to learn Python as their first language.\n",
      "* [Google's Python Class](https://developers.google.com/edu/python/)\n"
     ]
    },
    {
     "cell_type": "markdown",
     "metadata": {},
     "source": [
      "## Kurse\n",
      "\n",
      "* [Computing for Mathematics - Vincent Knight](http://vincent-knight.com/Computing_for_mathematics)\n",
      "* [Scientific Computing with Python - J.R. Johansson](http://nbviewer.ipython.org/github/jrjohansson/scientific-python-lectures/tree/master/)\n",
      "* [A Crash Course in Python for Scientists - Rick Muller - Sandia National Laboratories](http://nbviewer.ipython.org/gist/rpmuller/5920182)"
     ]
    },
    {
     "cell_type": "markdown",
     "metadata": {},
     "source": [
      "## Bibliotheken und Software\n",
      "\n",
      "* [Sage](http://www.sagemath.org) bzw. [SageMathCloud](https://cloud.sagemath.com)\n",
      "* [SymPy](http://www.sympy.org)\n",
      "* [NumPy](http://www.numpy.org)\n",
      "* [Matplotlib](http://www.matplotlib.org)\n",
      "\n",
      "### Tutorials\n",
      "\n",
      "* [Matplotlib tutorial](http://www.labri.fr/perso/nrougier/teaching/matplotlib/)"
     ]
    },
    {
     "cell_type": "markdown",
     "metadata": {},
     "source": [
      "## Literatur\n",
      "\n",
      "* [Best Practices for Scientific Computing - PLOS Biology, 2014](http://www.plosbiology.org/article/info%3Adoi%2F10.1371%2Fjournal.pbio.100174)"
     ]
    },
    {
     "cell_type": "code",
     "collapsed": false,
     "input": [],
     "language": "python",
     "metadata": {},
     "outputs": []
    }
   ],
   "metadata": {}
  }
 ]
}
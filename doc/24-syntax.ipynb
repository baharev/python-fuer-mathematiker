{
 "metadata": {
  "name": "",
  "signature": "sha256:68c411f261048ec1971f8c46c1da21345323193dc6eb78c5feb75fbb67db737d"
 },
 "nbformat": 3,
 "nbformat_minor": 0,
 "worksheets": [
  {
   "cells": [
    {
     "cell_type": "markdown",
     "metadata": {},
     "source": [
      "# Konzept 4: Syntax\n",
      "\n",
      "Jedes Computerprogramm ist eine formalisierte Sprache.\n",
      "Das hei\u00dft, jeder Buchstabe und jedes Zeichen muss strengen formalen Regeln gen\u00fcgen,\n",
      "um korrekt verstanden zu werden.\n",
      "\n",
      "Python's wichtisten Regeln:\n",
      "\n",
      "* *Ausdruck (expression):* ein Einzeiler, der aus Rechenzeichen, Variablen, eingebauten Befehlen, Klammern und sonstigen Zeichen wie einem Punkt besteht. \n",
      "\n",
      "```\n",
      "    f(5.5)\n",
      "    max(1,4,11)\n",
      "    min(max(4,1000) - max(-60, x))\n",
      "    geschwindigkeit.diff(x)\n",
      "```\n",
      "    "
     ]
    },
    {
     "cell_type": "markdown",
     "metadata": {},
     "source": [
      "* *Zuweisung (assignment):* `variable = <Ausdruck>`\n",
      "\n",
      "```\n",
      "    apfel = 11 + 7\n",
      "    birne = 2 * apfel + 1\n",
      "    y = max(2, min(99, x))\n",
      "    v = geschwindigkeit(t = 1.4)\n",
      "```"
     ]
    },
    {
     "cell_type": "markdown",
     "metadata": {},
     "source": [
      "* *Bl\u00f6cke (blocks)*: Ein Block Code ist eine zeilenweise Liste von Ausdr\u00fccken, welche gleich weit einger\u00fcckt sind.\n",
      "In der Zeile vor so einem Block steht immer eine Funktions oder Klassendefinition, bzw. eine Kontrollstruktur.\n",
      "\n",
      "```\n",
      "if x > 0:\n",
      "    y = 2*x + 1\n",
      "    birne = apfel - x\n",
      "    \n",
      "```\n",
      "Verschachtelung von einger\u00fcckten Bl\u00f6cken:\n",
      "\n",
      "```\n",
      "def f(x):\n",
      "    k = 0\n",
      "    if x > 0:\n",
      "        k = k + 2*x\n",
      "        \n",
      "    elif x < 0:\n",
      "        for i in range(-x):\n",
      "            k = k - i**2\n",
      "            x = x + (2*i + x)\n",
      "```\n",
      "\n",
      "Wichtig ist, dass die Einr\u00fcckungen konsistent sind und am Ende eines verschachtelten Blocks wieder auf das Niveau des umschlie\u00dfenden Blocks zur\u00fcckger\u00fcckt wird."
     ]
    },
    {
     "cell_type": "code",
     "collapsed": false,
     "input": [],
     "language": "python",
     "metadata": {},
     "outputs": [],
     "prompt_number": 0
    },
    {
     "cell_type": "code",
     "collapsed": false,
     "input": [],
     "language": "python",
     "metadata": {},
     "outputs": [],
     "prompt_number": 0
    },
    {
     "cell_type": "code",
     "collapsed": false,
     "input": [],
     "language": "python",
     "metadata": {},
     "outputs": [],
     "prompt_number": 0
    },
    {
     "cell_type": "markdown",
     "metadata": {},
     "source": [
      "**Bemerkung**: Wer sich mit den syntaktischen Feinheiten von Python genauer besch\u00e4ftigen will,\n",
      "kann dies in der\n",
      "[offiziellen Dokumentation](https://docs.python.org/2/reference/grammar.html), bzw.\n",
      "[Version 3](https://docs.python.org/3/reference/grammar.html) machen."
     ]
    },
    {
     "cell_type": "code",
     "collapsed": false,
     "input": [],
     "language": "python",
     "metadata": {},
     "outputs": []
    }
   ],
   "metadata": {}
  }
 ]
}
{
 "metadata": {
  "name": "",
  "signature": "sha256:03b6a3eed94f97d57beeac4d66c13e8c5d9e46c171001f2cad05e2493c82624d"
 },
 "nbformat": 3,
 "nbformat_minor": 0,
 "worksheets": [
  {
   "cells": [
    {
     "cell_type": "markdown",
     "metadata": {},
     "source": [
      "[INDEX](00-index.ipynb)"
     ]
    },
    {
     "cell_type": "code",
     "collapsed": false,
     "input": [
      "# Ausdr\u00fccke und Variablen"
     ],
     "language": "python",
     "metadata": {},
     "outputs": [],
     "prompt_number": 1
    },
    {
     "cell_type": "markdown",
     "metadata": {},
     "source": [
      "## Konzept 0: Ausdr\u00fccke\n",
      "\n",
      "Eine ganz einfache Variante sind einfache Rechnungen.\n",
      "In jeder Zelle stehen in oder mehrere Zeilen Programmcode, die mittels `Shift+Return` ausgewertet werden.\n",
      "(`Ctrl+Return` gibt es auch, es wird hierbei nicht zur n\u00e4chsten Zelle vorw\u00e4rts gesprungen)\n",
      "z.B.:"
     ]
    },
    {
     "cell_type": "code",
     "collapsed": false,
     "input": [
      "3+8"
     ],
     "language": "python",
     "metadata": {},
     "outputs": [
      {
       "metadata": {},
       "output_type": "pyout",
       "prompt_number": 2,
       "text": [
        "11"
       ]
      }
     ],
     "prompt_number": 2
    },
    {
     "cell_type": "code",
     "collapsed": false,
     "input": [
      "5 + (1 + 5) / 2"
     ],
     "language": "python",
     "metadata": {},
     "outputs": [
      {
       "metadata": {},
       "output_type": "pyout",
       "prompt_number": 3,
       "text": [
        "8"
       ]
      }
     ],
     "prompt_number": 3
    },
    {
     "cell_type": "code",
     "collapsed": false,
     "input": [],
     "language": "python",
     "metadata": {},
     "outputs": []
    },
    {
     "cell_type": "markdown",
     "metadata": {},
     "source": [
      "Apropos Sprachversionen: aus \"mathematischer\" Sicht gibt es bei Divisionen einen entscheidenden Unterschied. In Version 2 ist die Division mit \"`/`\" abrundend auf die n\u00e4chste Ganzzahl, w\u00e4hrend in Verion 3 die handels\u00fcbliche Interpretation einer Division verwendet wird (abrundend ist \"`//`\").\n",
      "\n",
      "Mittels \"`from __future__ import division`\" kann in Version 2 das Verhalten von Version 3 erzwungen werden:"
     ]
    },
    {
     "cell_type": "code",
     "collapsed": false,
     "input": [
      "9 / 4"
     ],
     "language": "python",
     "metadata": {},
     "outputs": [
      {
       "metadata": {},
       "output_type": "pyout",
       "prompt_number": 6,
       "text": [
        "2"
       ]
      }
     ],
     "prompt_number": 6
    },
    {
     "cell_type": "code",
     "collapsed": false,
     "input": [
      "from __future__ import division\n",
      "9 / 4"
     ],
     "language": "python",
     "metadata": {},
     "outputs": [
      {
       "metadata": {},
       "output_type": "pyout",
       "prompt_number": 7,
       "text": [
        "2.25"
       ]
      }
     ],
     "prompt_number": 7
    },
    {
     "cell_type": "markdown",
     "metadata": {},
     "source": [
      "Im Allgmeinen ist es eine gute Idee, diesen Import immer zu aktivieren."
     ]
    },
    {
     "cell_type": "markdown",
     "metadata": {},
     "source": [
      "## Konzept 1: Variablen\n",
      "\n",
      "Die Quintessenz eines Programmes ist dessen Flexibilit\u00e4t gegen\u00fcber Eingaben.\n",
      "W\u00e4re die Eingabe fest vorgegeben,\n",
      "g\u00e4be es nur wenig Gr\u00fcnde das Programm mehr als nur einmal aufzurufen!"
     ]
    },
    {
     "cell_type": "markdown",
     "metadata": {},
     "source": [
      "_Quiz:_ Gib einen Grund an, warum ein Programm ohne Dateneingabe mehrmals aufgerufen werden k\u00f6nnte?"
     ]
    },
    {
     "cell_type": "markdown",
     "metadata": {},
     "source": [
      "Antwort: "
     ]
    },
    {
     "cell_type": "markdown",
     "metadata": {},
     "source": [
      "Zuweisungen passieren so, dass in der Zeile zuerst eine Variable steht,\n",
      "dann ein Gleichzeitszeichen, und dann ein Ausdruck der Ausgewertet wird.\n",
      "Hinweis: Der Wert der Variablen `x` ist in der darunterliegenden Zelle weiterhin verf\u00fcgbar."
     ]
    },
    {
     "cell_type": "code",
     "collapsed": false,
     "input": [
      "x = 4\n",
      "5 * x + 1"
     ],
     "language": "python",
     "metadata": {},
     "outputs": [
      {
       "metadata": {},
       "output_type": "pyout",
       "prompt_number": 9,
       "text": [
        "21"
       ]
      }
     ],
     "prompt_number": 9
    },
    {
     "cell_type": "code",
     "collapsed": false,
     "input": [
      "y = 2 * x + 1\n",
      "9 - y - x"
     ],
     "language": "python",
     "metadata": {},
     "outputs": [
      {
       "metadata": {},
       "output_type": "pyout",
       "prompt_number": 10,
       "text": [
        "-4"
       ]
      }
     ],
     "prompt_number": 10
    },
    {
     "cell_type": "markdown",
     "metadata": {},
     "source": [
      "Wichtig ist, dass die Zuweisung an `x` vor dessen Verwendung in der zweiten Zelle passiert.\n",
      "Eine Variable ohne vorheriger Zuweisung erzeugt einen Fehler:"
     ]
    },
    {
     "cell_type": "code",
     "collapsed": false,
     "input": [
      "p + 23"
     ],
     "language": "python",
     "metadata": {},
     "outputs": [
      {
       "ename": "NameError",
       "evalue": "name 'p' is not defined",
       "output_type": "pyerr",
       "traceback": [
        "\u001b[1;31m---------------------------------------------------------------------------\u001b[0m\n\u001b[1;31mNameError\u001b[0m                                 Traceback (most recent call last)",
        "\u001b[1;32m<ipython-input-11-2fe5b48a1d33>\u001b[0m in \u001b[0;36m<module>\u001b[1;34m()\u001b[0m\n\u001b[1;32m----> 1\u001b[1;33m \u001b[0mp\u001b[0m \u001b[1;33m+\u001b[0m \u001b[1;36m23\u001b[0m\u001b[1;33m\u001b[0m\u001b[0m\n\u001b[0m",
        "\u001b[1;31mNameError\u001b[0m: name 'p' is not defined"
       ]
      }
     ],
     "prompt_number": 11
    },
    {
     "cell_type": "markdown",
     "metadata": {},
     "source": [
      "Variablen k\u00f6nnen (und sollen meistens) mehr als einen Buchstaben haben.\n",
      "Dabei sind Gro\u00df- und Kleinbuchstaben und Zahlen ab dem zweiten Zeichen erlaubt.\n",
      "Als einziges Sonderzeichen gibt es den `_` Unterstrich.\n",
      "(das gilt f\u00fcr Python in der Sprachversion 2, Version 3 erlaubt mehr Zeichen.)"
     ]
    },
    {
     "cell_type": "code",
     "collapsed": false,
     "input": [
      "apfel_preis = 0.99\n",
      "stueck = 13\n",
      "preis = stueck * apfel_preis\n",
      "print(preis)"
     ],
     "language": "python",
     "metadata": {},
     "outputs": [
      {
       "output_type": "stream",
       "stream": "stdout",
       "text": [
        "12.87\n"
       ]
      }
     ],
     "prompt_number": 12
    },
    {
     "cell_type": "markdown",
     "metadata": {},
     "source": [
      "Die vorhergehende Zelle definiert mehrere Variablen und berechnet den Preis des Einkaufs.\n",
      "Das Wort `print` mit anschlie\u00dfenden Klammern gibt den Inhalt der Variablen `preis` aus\n",
      "und ist ein Beispiel f\u00fcr den Aufruf einer Funktion."
     ]
    },
    {
     "cell_type": "code",
     "collapsed": false,
     "input": [],
     "language": "python",
     "metadata": {},
     "outputs": []
    }
   ],
   "metadata": {}
  }
 ]
}
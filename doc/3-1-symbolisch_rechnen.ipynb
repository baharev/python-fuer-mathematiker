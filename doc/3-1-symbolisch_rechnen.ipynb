{
 "metadata": {
  "name": "",
  "signature": "sha256:90efcf4e4f89821d92f67e3a087a5c0c059074c6d40efbc5f3440badea2db88c"
 },
 "nbformat": 3,
 "nbformat_minor": 0,
 "worksheets": [
  {
   "cells": [
    {
     "cell_type": "markdown",
     "metadata": {},
     "source": [
      "# Symbolisches Rechnen mit SymPy\n",
      "\n",
      "[SymPy](http://www.sympy.org) ist eine Bibliothek f\u00fcr symbolisches Rechnen in Python."
     ]
    },
    {
     "cell_type": "markdown",
     "metadata": {},
     "source": [
      "## Variablen und symblische Ausdr\u00fccke\n",
      "\n",
      "Als allererste Zutat f\u00fcr symblische Ausdr\u00fccke m\u00fcssen Variablen definiert werden.\n",
      "Hierf\u00fcr gibt es entweder die einfache `from sympy.abc import x` Variante,\n",
      "oder \u00fcber die `sympy.symbols` Funktion werden Name(n) und eventuell spezielle Absch\u00e4tzungen (\"ganzzahlig\", ...) festgelegt."
     ]
    },
    {
     "cell_type": "code",
     "collapsed": false,
     "input": [
      "from __future__ import division\n",
      "import sympy as sy"
     ],
     "language": "python",
     "metadata": {},
     "outputs": [],
     "prompt_number": 1
    },
    {
     "cell_type": "code",
     "collapsed": false,
     "input": [
      "from sympy.abc import x, y"
     ],
     "language": "python",
     "metadata": {},
     "outputs": [],
     "prompt_number": 2
    },
    {
     "cell_type": "code",
     "collapsed": false,
     "input": [
      "type(x)"
     ],
     "language": "python",
     "metadata": {},
     "outputs": [
      {
       "metadata": {},
       "output_type": "pyout",
       "prompt_number": 3,
       "text": [
        "sympy.core.symbol.Symbol"
       ]
      }
     ],
     "prompt_number": 3
    },
    {
     "cell_type": "markdown",
     "metadata": {},
     "source": [
      "Ein einfacher, erster Ausdruck:"
     ]
    },
    {
     "cell_type": "code",
     "collapsed": false,
     "input": [
      "x + y"
     ],
     "language": "python",
     "metadata": {},
     "outputs": [
      {
       "metadata": {},
       "output_type": "pyout",
       "prompt_number": 4,
       "text": [
        "x + y"
       ]
      }
     ],
     "prompt_number": 4
    },
    {
     "cell_type": "markdown",
     "metadata": {},
     "source": [
      "... und dessen Typ ist (ein wenig \u00fcberraschend?) `Add`."
     ]
    },
    {
     "cell_type": "code",
     "collapsed": false,
     "input": [
      "type(x + y)"
     ],
     "language": "python",
     "metadata": {},
     "outputs": [
      {
       "metadata": {},
       "output_type": "pyout",
       "prompt_number": 5,
       "text": [
        "sympy.core.add.Add"
       ]
      }
     ],
     "prompt_number": 5
    },
    {
     "cell_type": "markdown",
     "metadata": {},
     "source": [
      "Das liegt daran, dass ein symbolischer Ausdruck ein Baum von Operationen mit Argumenten ist.\n",
      "Die Wurzel ist in diesem Fall die Addition, und die beiden Variablen sind die Argumente der Addition."
     ]
    },
    {
     "cell_type": "markdown",
     "metadata": {},
     "source": [
      "Zusammensetzung eines anderen, gr\u00f6\u00dferen Ausdrucks:"
     ]
    },
    {
     "cell_type": "code",
     "collapsed": false,
     "input": [
      "(2*x**2 + 3) / (y + 5)"
     ],
     "language": "python",
     "metadata": {},
     "outputs": [
      {
       "metadata": {},
       "output_type": "pyout",
       "prompt_number": 6,
       "text": [
        "(2*x**2 + 3)/(y + 5)"
       ]
      }
     ],
     "prompt_number": 6
    },
    {
     "cell_type": "markdown",
     "metadata": {},
     "source": [
      "Zuweisung an eine Variable und Auswertung durch Substitution:"
     ]
    },
    {
     "cell_type": "code",
     "collapsed": false,
     "input": [
      "ex1 = (2*x**2 + 3) / (y + 5)\n",
      "ex1.subs(x, 21)"
     ],
     "language": "python",
     "metadata": {},
     "outputs": [
      {
       "metadata": {},
       "output_type": "pyout",
       "prompt_number": 7,
       "text": [
        "885/(y + 5)"
       ]
      }
     ],
     "prompt_number": 7
    },
    {
     "cell_type": "code",
     "collapsed": false,
     "input": [
      "ex1.subs({x : 11, y : 3.14})"
     ],
     "language": "python",
     "metadata": {},
     "outputs": [
      {
       "metadata": {},
       "output_type": "pyout",
       "prompt_number": 8,
       "text": [
        "30.0982800982801"
       ]
      }
     ],
     "prompt_number": 8
    },
    {
     "cell_type": "markdown",
     "metadata": {},
     "source": [
      "Sympy's `srepr` Funktion zeigt den Aufbau des Ausdrucks als Komposition aller Funktionen an:"
     ]
    },
    {
     "cell_type": "code",
     "collapsed": false,
     "input": [
      "sy.srepr(ex1)"
     ],
     "language": "python",
     "metadata": {},
     "outputs": [
      {
       "metadata": {},
       "output_type": "pyout",
       "prompt_number": 9,
       "text": [
        "\"Mul(Add(Mul(Integer(2), Pow(Symbol('x'), Integer(2))), Integer(3)), Pow(Add(Symbol('y'), Integer(5)), Integer(-1)))\""
       ]
      }
     ],
     "prompt_number": 9
    },
    {
     "cell_type": "markdown",
     "metadata": {},
     "source": [
      "### 2D-Text Darstellung\n",
      "\n",
      "Der Ausdruck wird in [ASCII-Art](http://en.wikipedia.org/wiki/ASCII_art) umgewandelt."
     ]
    },
    {
     "cell_type": "code",
     "collapsed": false,
     "input": [
      "sy.pprint(ex1)"
     ],
     "language": "python",
     "metadata": {},
     "outputs": [
      {
       "output_type": "stream",
       "stream": "stdout",
       "text": [
        "   2    \n",
        "2\u22c5x  + 3\n",
        "\u2500\u2500\u2500\u2500\u2500\u2500\u2500\u2500\n",
        " y + 5  \n"
       ]
      }
     ],
     "prompt_number": 10
    },
    {
     "cell_type": "markdown",
     "metadata": {},
     "source": [
      "### LaTeX Konvertierung und Darstellung\n",
      "\n",
      "Sympy's `latex()` Funktion konvertiert den Ausdruck zu einem entsprechenden LaTeX-Formel string.\n",
      "Anschlie\u00dfend zeigt die `Math()` Funktion von IPython diese LaTeX Formel hier im Notebook an."
     ]
    },
    {
     "cell_type": "code",
     "collapsed": false,
     "input": [
      "sy.latex(ex1)"
     ],
     "language": "python",
     "metadata": {},
     "outputs": [
      {
       "metadata": {},
       "output_type": "pyout",
       "prompt_number": 11,
       "text": [
        "'\\\\frac{2 x^{2} + 3}{y + 5}'"
       ]
      }
     ],
     "prompt_number": 11
    },
    {
     "cell_type": "code",
     "collapsed": false,
     "input": [
      "from IPython.display import Math\n",
      "Math(sy.latex(ex1))"
     ],
     "language": "python",
     "metadata": {},
     "outputs": [
      {
       "latex": [
        "$$\\frac{2 x^{2} + 3}{y + 5}$$"
       ],
       "metadata": {},
       "output_type": "pyout",
       "prompt_number": 12,
       "text": [
        "<IPython.core.display.Math at 0x47fcb90>"
       ]
      }
     ],
     "prompt_number": 12
    },
    {
     "cell_type": "markdown",
     "metadata": {},
     "source": [
      "## IPython support f\u00fcr SymPy Ausdr\u00fccke\n",
      "\n",
      "Durch einmaliges Ausf\u00fchren von `init_printing()` werden alle SymPy Ausdr\u00fccke automatisch in $\\LaTeX{}$ dargestellt."
     ]
    },
    {
     "cell_type": "code",
     "collapsed": false,
     "input": [
      "from sympy import init_printing\n",
      "init_printing()"
     ],
     "language": "python",
     "metadata": {},
     "outputs": [],
     "prompt_number": 13
    },
    {
     "cell_type": "code",
     "collapsed": false,
     "input": [
      "ex1"
     ],
     "language": "python",
     "metadata": {},
     "outputs": [
      {
       "latex": [
        "$$\\frac{2 x^{2} + 3}{y + 5}$$"
       ],
       "metadata": {},
       "output_type": "pyout",
       "png": "[encoded data removed]",
       "prompt_number": 14,
       "text": [
        "   2    \n",
        "2\u22c5x  + 3\n",
        "\u2500\u2500\u2500\u2500\u2500\u2500\u2500\u2500\n",
        " y + 5  "
       ]
      }
     ],
     "prompt_number": 14
    },
    {
     "cell_type": "markdown",
     "metadata": {},
     "source": [
      "### Grafische Darstellung\n",
      "\n",
      "Den Baum des symbolischen Ausdruckt kann man auch grafisch Darstellen.\n",
      "Zuerst konvertiert `dotprint` den Ausdruck in das `dot`-Format zur Visualisierung von Graphen,\n",
      "und dann wird es mit dem passenden Linux Utility gerendert und dargestellt."
     ]
    },
    {
     "cell_type": "code",
     "collapsed": false,
     "input": [
      "from sympy.printing.dot import dotprint\n",
      "\n",
      "# input and output filenames\n",
      "import os\n",
      "fname = os.path.join(\"res\", \"sympy-ex1\")\n",
      "fname_dot = fname + \".dot\"\n",
      "fname_svg = fname + \".svg\"\n",
      "\n",
      "# writing the output of dotprint to the given file\n",
      "with open(fname_dot, \"w\") as dot_file:\n",
      "    dot_file.write(dotprint(ex1))\n",
      "\n",
      "# rendering the *.dot to *.svg\n",
      "! dot -Tsvg -o $fname_svg $fname_dot\n",
      "\n",
      "# showing the resulting *.svg file here in the notebook\n",
      "from IPython.display import SVG\n",
      "SVG(filename = fname_svg)"
     ],
     "language": "python",
     "metadata": {},
     "outputs": [
      {
       "metadata": {},
       "output_type": "pyout",
       "prompt_number": 15,
       "svg": [
        "<svg height=\"332pt\" viewBox=\"0.00 0.00 350.00 332.00\" width=\"350pt\" xmlns=\"http://www.w3.org/2000/svg\" xmlns:xlink=\"http://www.w3.org/1999/xlink\">\n",
        "<g class=\"graph\" id=\"graph0\" transform=\"scale(1 1) rotate(0) translate(4 328)\">\n",
        "<title>%3</title>\n",
        "<polygon fill=\"white\" points=\"-4,4 -4,-328 346,-328 346,4 -4,4\" stroke=\"none\"/>\n",
        "<!-- Mul(Add(Integer(3), Mul(Integer(2), Pow(Symbol(x), Integer(2)))), Pow(Add(Integer(5), Symbol(y)), NegativeOne()))_() -->\n",
        "<g class=\"node\" id=\"node1\"><title>Mul(Add(Integer(3), Mul(Integer(2), Pow(Symbol(x), Integer(2)))), Pow(Add(Integer(5), Symbol(y)), NegativeOne()))_()</title>\n",
        "<ellipse cx=\"153\" cy=\"-306\" fill=\"none\" rx=\"27\" ry=\"18\" stroke=\"black\"/>\n",
        "<text font-family=\"Times,serif\" font-size=\"14.00\" text-anchor=\"middle\" x=\"153\" y=\"-302.3\">Mul</text>\n",
        "</g>\n",
        "<!-- Pow(Add(Integer(5), Symbol(y)), NegativeOne())_(0,) -->\n",
        "<g class=\"node\" id=\"node2\"><title>Pow(Add(Integer(5), Symbol(y)), NegativeOne())_(0,)</title>\n",
        "<ellipse cx=\"117\" cy=\"-234\" fill=\"none\" rx=\"27\" ry=\"18\" stroke=\"black\"/>\n",
        "<text font-family=\"Times,serif\" font-size=\"14.00\" text-anchor=\"middle\" x=\"117\" y=\"-230.3\">Pow</text>\n",
        "</g>\n",
        "<!-- Mul(Add(Integer(3), Mul(Integer(2), Pow(Symbol(x), Integer(2)))), Pow(Add(Integer(5), Symbol(y)), NegativeOne()))_()&#45;&gt;Pow(Add(Integer(5), Symbol(y)), NegativeOne())_(0,) -->\n",
        "<g class=\"edge\" id=\"edge1\"><title>Mul(Add(Integer(3), Mul(Integer(2), Pow(Symbol(x), Integer(2)))), Pow(Add(Integer(5), Symbol(y)), NegativeOne()))_()-&gt;Pow(Add(Integer(5), Symbol(y)), NegativeOne())_(0,)</title>\n",
        "<path d=\"M144.65,-288.765C140.288,-280.283 134.853,-269.714 129.959,-260.197\" fill=\"none\" stroke=\"black\"/>\n",
        "<polygon fill=\"black\" points=\"132.99,-258.439 125.304,-251.147 126.765,-261.641 132.99,-258.439\" stroke=\"black\"/>\n",
        "</g>\n",
        "<!-- Add(Integer(3), Mul(Integer(2), Pow(Symbol(x), Integer(2))))_(1,) -->\n",
        "<g class=\"node\" id=\"node7\"><title>Add(Integer(3), Mul(Integer(2), Pow(Symbol(x), Integer(2))))_(1,)</title>\n",
        "<ellipse cx=\"189\" cy=\"-234\" fill=\"none\" rx=\"27\" ry=\"18\" stroke=\"black\"/>\n",
        "<text font-family=\"Times,serif\" font-size=\"14.00\" text-anchor=\"middle\" x=\"189\" y=\"-230.3\">Add</text>\n",
        "</g>\n",
        "<!-- Mul(Add(Integer(3), Mul(Integer(2), Pow(Symbol(x), Integer(2)))), Pow(Add(Integer(5), Symbol(y)), NegativeOne()))_()&#45;&gt;Add(Integer(3), Mul(Integer(2), Pow(Symbol(x), Integer(2))))_(1,) -->\n",
        "<g class=\"edge\" id=\"edge2\"><title>Mul(Add(Integer(3), Mul(Integer(2), Pow(Symbol(x), Integer(2)))), Pow(Add(Integer(5), Symbol(y)), NegativeOne()))_()-&gt;Add(Integer(3), Mul(Integer(2), Pow(Symbol(x), Integer(2))))_(1,)</title>\n",
        "<path d=\"M161.35,-288.765C165.712,-280.283 171.147,-269.714 176.041,-260.197\" fill=\"none\" stroke=\"black\"/>\n",
        "<polygon fill=\"black\" points=\"179.235,-261.641 180.696,-251.147 173.01,-258.439 179.235,-261.641\" stroke=\"black\"/>\n",
        "</g>\n",
        "<!-- Add(Integer(5), Symbol(y))_(0, 0) -->\n",
        "<g class=\"node\" id=\"node3\"><title>Add(Integer(5), Symbol(y))_(0, 0)</title>\n",
        "<ellipse cx=\"45\" cy=\"-162\" fill=\"none\" rx=\"27\" ry=\"18\" stroke=\"black\"/>\n",
        "<text font-family=\"Times,serif\" font-size=\"14.00\" text-anchor=\"middle\" x=\"45\" y=\"-158.3\">Add</text>\n",
        "</g>\n",
        "<!-- Pow(Add(Integer(5), Symbol(y)), NegativeOne())_(0,)&#45;&gt;Add(Integer(5), Symbol(y))_(0, 0) -->\n",
        "<g class=\"edge\" id=\"edge3\"><title>Pow(Add(Integer(5), Symbol(y)), NegativeOne())_(0,)-&gt;Add(Integer(5), Symbol(y))_(0, 0)</title>\n",
        "<path d=\"M102.43,-218.834C92.2501,-208.938 78.4761,-195.546 66.9694,-184.359\" fill=\"none\" stroke=\"black\"/>\n",
        "<polygon fill=\"black\" points=\"69.4055,-181.846 59.7957,-177.385 64.5259,-186.865 69.4055,-181.846\" stroke=\"black\"/>\n",
        "</g>\n",
        "<!-- NegativeOne()_(0, 1) -->\n",
        "<g class=\"node\" id=\"node6\"><title>NegativeOne()_(0, 1)</title>\n",
        "<ellipse cx=\"117\" cy=\"-162\" fill=\"none\" rx=\"27\" ry=\"18\" stroke=\"black\"/>\n",
        "<text font-family=\"Times,serif\" font-size=\"14.00\" text-anchor=\"middle\" x=\"117\" y=\"-158.3\">-1</text>\n",
        "</g>\n",
        "<!-- Pow(Add(Integer(5), Symbol(y)), NegativeOne())_(0,)&#45;&gt;NegativeOne()_(0, 1) -->\n",
        "<g class=\"edge\" id=\"edge4\"><title>Pow(Add(Integer(5), Symbol(y)), NegativeOne())_(0,)-&gt;NegativeOne()_(0, 1)</title>\n",
        "<path d=\"M117,-215.697C117,-207.983 117,-198.712 117,-190.112\" fill=\"none\" stroke=\"black\"/>\n",
        "<polygon fill=\"black\" points=\"120.5,-190.104 117,-180.104 113.5,-190.104 120.5,-190.104\" stroke=\"black\"/>\n",
        "</g>\n",
        "<!-- Integer(5)_(0, 0, 0) -->\n",
        "<g class=\"node\" id=\"node4\"><title>Integer(5)_(0, 0, 0)</title>\n",
        "<ellipse cx=\"27\" cy=\"-90\" fill=\"none\" rx=\"27\" ry=\"18\" stroke=\"black\"/>\n",
        "<text font-family=\"Times,serif\" font-size=\"14.00\" text-anchor=\"middle\" x=\"27\" y=\"-86.3\">5</text>\n",
        "</g>\n",
        "<!-- Add(Integer(5), Symbol(y))_(0, 0)&#45;&gt;Integer(5)_(0, 0, 0) -->\n",
        "<g class=\"edge\" id=\"edge5\"><title>Add(Integer(5), Symbol(y))_(0, 0)-&gt;Integer(5)_(0, 0, 0)</title>\n",
        "<path d=\"M40.6427,-144.055C38.6086,-136.145 36.1388,-126.54 33.8626,-117.688\" fill=\"none\" stroke=\"black\"/>\n",
        "<polygon fill=\"black\" points=\"37.1974,-116.602 31.3172,-107.789 30.4179,-118.346 37.1974,-116.602\" stroke=\"black\"/>\n",
        "</g>\n",
        "<!-- Symbol(y)_(0, 0, 1) -->\n",
        "<g class=\"node\" id=\"node5\"><title>Symbol(y)_(0, 0, 1)</title>\n",
        "<ellipse cx=\"99\" cy=\"-90\" fill=\"none\" rx=\"27\" ry=\"18\" stroke=\"black\"/>\n",
        "<text font-family=\"Times,serif\" font-size=\"14.00\" text-anchor=\"middle\" x=\"99\" y=\"-86.3\">y</text>\n",
        "</g>\n",
        "<!-- Add(Integer(5), Symbol(y))_(0, 0)&#45;&gt;Symbol(y)_(0, 0, 1) -->\n",
        "<g class=\"edge\" id=\"edge6\"><title>Add(Integer(5), Symbol(y))_(0, 0)-&gt;Symbol(y)_(0, 0, 1)</title>\n",
        "<path d=\"M56.9844,-145.465C63.9755,-136.402 72.9362,-124.786 80.7851,-114.612\" fill=\"none\" stroke=\"black\"/>\n",
        "<polygon fill=\"black\" points=\"83.7123,-116.548 87.0492,-106.492 78.1698,-112.272 83.7123,-116.548\" stroke=\"black\"/>\n",
        "</g>\n",
        "<!-- Integer(3)_(1, 0) -->\n",
        "<g class=\"node\" id=\"node8\"><title>Integer(3)_(1, 0)</title>\n",
        "<ellipse cx=\"189\" cy=\"-162\" fill=\"none\" rx=\"27\" ry=\"18\" stroke=\"black\"/>\n",
        "<text font-family=\"Times,serif\" font-size=\"14.00\" text-anchor=\"middle\" x=\"189\" y=\"-158.3\">3</text>\n",
        "</g>\n",
        "<!-- Add(Integer(3), Mul(Integer(2), Pow(Symbol(x), Integer(2))))_(1,)&#45;&gt;Integer(3)_(1, 0) -->\n",
        "<g class=\"edge\" id=\"edge7\"><title>Add(Integer(3), Mul(Integer(2), Pow(Symbol(x), Integer(2))))_(1,)-&gt;Integer(3)_(1, 0)</title>\n",
        "<path d=\"M189,-215.697C189,-207.983 189,-198.712 189,-190.112\" fill=\"none\" stroke=\"black\"/>\n",
        "<polygon fill=\"black\" points=\"192.5,-190.104 189,-180.104 185.5,-190.104 192.5,-190.104\" stroke=\"black\"/>\n",
        "</g>\n",
        "<!-- Mul(Integer(2), Pow(Symbol(x), Integer(2)))_(1, 1) -->\n",
        "<g class=\"node\" id=\"node9\"><title>Mul(Integer(2), Pow(Symbol(x), Integer(2)))_(1, 1)</title>\n",
        "<ellipse cx=\"261\" cy=\"-162\" fill=\"none\" rx=\"27\" ry=\"18\" stroke=\"black\"/>\n",
        "<text font-family=\"Times,serif\" font-size=\"14.00\" text-anchor=\"middle\" x=\"261\" y=\"-158.3\">Mul</text>\n",
        "</g>\n",
        "<!-- Add(Integer(3), Mul(Integer(2), Pow(Symbol(x), Integer(2))))_(1,)&#45;&gt;Mul(Integer(2), Pow(Symbol(x), Integer(2)))_(1, 1) -->\n",
        "<g class=\"edge\" id=\"edge8\"><title>Add(Integer(3), Mul(Integer(2), Pow(Symbol(x), Integer(2))))_(1,)-&gt;Mul(Integer(2), Pow(Symbol(x), Integer(2)))_(1, 1)</title>\n",
        "<path d=\"M203.57,-218.834C213.75,-208.938 227.524,-195.546 239.031,-184.359\" fill=\"none\" stroke=\"black\"/>\n",
        "<polygon fill=\"black\" points=\"241.474,-186.865 246.204,-177.385 236.595,-181.846 241.474,-186.865\" stroke=\"black\"/>\n",
        "</g>\n",
        "<!-- Integer(2)_(1, 1, 0) -->\n",
        "<g class=\"node\" id=\"node10\"><title>Integer(2)_(1, 1, 0)</title>\n",
        "<ellipse cx=\"207\" cy=\"-90\" fill=\"none\" rx=\"27\" ry=\"18\" stroke=\"black\"/>\n",
        "<text font-family=\"Times,serif\" font-size=\"14.00\" text-anchor=\"middle\" x=\"207\" y=\"-86.3\">2</text>\n",
        "</g>\n",
        "<!-- Mul(Integer(2), Pow(Symbol(x), Integer(2)))_(1, 1)&#45;&gt;Integer(2)_(1, 1, 0) -->\n",
        "<g class=\"edge\" id=\"edge9\"><title>Mul(Integer(2), Pow(Symbol(x), Integer(2)))_(1, 1)-&gt;Integer(2)_(1, 1, 0)</title>\n",
        "<path d=\"M249.016,-145.465C242.024,-136.402 233.064,-124.786 225.215,-114.612\" fill=\"none\" stroke=\"black\"/>\n",
        "<polygon fill=\"black\" points=\"227.83,-112.272 218.951,-106.492 222.288,-116.548 227.83,-112.272\" stroke=\"black\"/>\n",
        "</g>\n",
        "<!-- Pow(Symbol(x), Integer(2))_(1, 1, 1) -->\n",
        "<g class=\"node\" id=\"node11\"><title>Pow(Symbol(x), Integer(2))_(1, 1, 1)</title>\n",
        "<ellipse cx=\"279\" cy=\"-90\" fill=\"none\" rx=\"27\" ry=\"18\" stroke=\"black\"/>\n",
        "<text font-family=\"Times,serif\" font-size=\"14.00\" text-anchor=\"middle\" x=\"279\" y=\"-86.3\">Pow</text>\n",
        "</g>\n",
        "<!-- Mul(Integer(2), Pow(Symbol(x), Integer(2)))_(1, 1)&#45;&gt;Pow(Symbol(x), Integer(2))_(1, 1, 1) -->\n",
        "<g class=\"edge\" id=\"edge10\"><title>Mul(Integer(2), Pow(Symbol(x), Integer(2)))_(1, 1)-&gt;Pow(Symbol(x), Integer(2))_(1, 1, 1)</title>\n",
        "<path d=\"M265.357,-144.055C267.391,-136.145 269.861,-126.54 272.137,-117.688\" fill=\"none\" stroke=\"black\"/>\n",
        "<polygon fill=\"black\" points=\"275.582,-118.346 274.683,-107.789 268.803,-116.602 275.582,-118.346\" stroke=\"black\"/>\n",
        "</g>\n",
        "<!-- Symbol(x)_(1, 1, 1, 0) -->\n",
        "<g class=\"node\" id=\"node12\"><title>Symbol(x)_(1, 1, 1, 0)</title>\n",
        "<ellipse cx=\"243\" cy=\"-18\" fill=\"none\" rx=\"27\" ry=\"18\" stroke=\"black\"/>\n",
        "<text font-family=\"Times,serif\" font-size=\"14.00\" text-anchor=\"middle\" x=\"243\" y=\"-14.3\">x</text>\n",
        "</g>\n",
        "<!-- Pow(Symbol(x), Integer(2))_(1, 1, 1)&#45;&gt;Symbol(x)_(1, 1, 1, 0) -->\n",
        "<g class=\"edge\" id=\"edge11\"><title>Pow(Symbol(x), Integer(2))_(1, 1, 1)-&gt;Symbol(x)_(1, 1, 1, 0)</title>\n",
        "<path d=\"M270.65,-72.7646C266.288,-64.2831 260.853,-53.7144 255.959,-44.1974\" fill=\"none\" stroke=\"black\"/>\n",
        "<polygon fill=\"black\" points=\"258.99,-42.4395 251.304,-35.1473 252.765,-45.6409 258.99,-42.4395\" stroke=\"black\"/>\n",
        "</g>\n",
        "<!-- Integer(2)_(1, 1, 1, 1) -->\n",
        "<g class=\"node\" id=\"node13\"><title>Integer(2)_(1, 1, 1, 1)</title>\n",
        "<ellipse cx=\"315\" cy=\"-18\" fill=\"none\" rx=\"27\" ry=\"18\" stroke=\"black\"/>\n",
        "<text font-family=\"Times,serif\" font-size=\"14.00\" text-anchor=\"middle\" x=\"315\" y=\"-14.3\">2</text>\n",
        "</g>\n",
        "<!-- Pow(Symbol(x), Integer(2))_(1, 1, 1)&#45;&gt;Integer(2)_(1, 1, 1, 1) -->\n",
        "<g class=\"edge\" id=\"edge12\"><title>Pow(Symbol(x), Integer(2))_(1, 1, 1)-&gt;Integer(2)_(1, 1, 1, 1)</title>\n",
        "<path d=\"M287.35,-72.7646C291.712,-64.2831 297.147,-53.7144 302.041,-44.1974\" fill=\"none\" stroke=\"black\"/>\n",
        "<polygon fill=\"black\" points=\"305.235,-45.6409 306.696,-35.1473 299.01,-42.4395 305.235,-45.6409\" stroke=\"black\"/>\n",
        "</g>\n",
        "</g>\n",
        "</svg>"
       ],
       "text": [
        "<IPython.core.display.SVG at 0x49102d0>"
       ]
      }
     ],
     "prompt_number": 15
    },
    {
     "cell_type": "markdown",
     "metadata": {},
     "source": [
      "Ganzzahlige Variablen, $i \\in \\mathbb{Z}$:"
     ]
    },
    {
     "cell_type": "code",
     "collapsed": false,
     "input": [
      "i = sy.symbols(\"i\", integer=True)\n",
      "i.is_integer"
     ],
     "language": "python",
     "metadata": {},
     "outputs": [
      {
       "metadata": {},
       "output_type": "pyout",
       "prompt_number": 16,
       "text": [
        "True"
       ]
      }
     ],
     "prompt_number": 16
    },
    {
     "cell_type": "code",
     "collapsed": false,
     "input": [
      "(3*i + 1).is_integer"
     ],
     "language": "python",
     "metadata": {},
     "outputs": [
      {
       "metadata": {},
       "output_type": "pyout",
       "prompt_number": 17,
       "text": [
        "True"
       ]
      }
     ],
     "prompt_number": 17
    },
    {
     "cell_type": "code",
     "collapsed": false,
     "input": [
      "print(i.is_nonnegative)"
     ],
     "language": "python",
     "metadata": {},
     "outputs": [
      {
       "output_type": "stream",
       "stream": "stdout",
       "text": [
        "None\n"
       ]
      }
     ],
     "prompt_number": 18
    },
    {
     "cell_type": "markdown",
     "metadata": {},
     "source": [
      "$t \\in\\mathbb{R}\\;\\bigwedge\\;t \\geq 0$"
     ]
    },
    {
     "cell_type": "code",
     "collapsed": false,
     "input": [
      "t = sy.symbols(\"t\", real=True, nonnegative=True)\n",
      "print((3*t).is_nonnegative)\n",
      "print(t.is_real)"
     ],
     "language": "python",
     "metadata": {},
     "outputs": [
      {
       "output_type": "stream",
       "stream": "stdout",
       "text": [
        "True\n",
        "True\n"
       ]
      }
     ],
     "prompt_number": 19
    },
    {
     "cell_type": "code",
     "collapsed": false,
     "input": [
      "print((i * t).is_integer)"
     ],
     "language": "python",
     "metadata": {},
     "outputs": [
      {
       "output_type": "stream",
       "stream": "stdout",
       "text": [
        "None\n"
       ]
      }
     ],
     "prompt_number": 20
    },
    {
     "cell_type": "code",
     "collapsed": false,
     "input": [
      "# squared value plus non-negative variable is non-negative\n",
      "print((i**2 + t).is_nonnegative)"
     ],
     "language": "python",
     "metadata": {},
     "outputs": [
      {
       "output_type": "stream",
       "stream": "stdout",
       "text": [
        "True\n"
       ]
      }
     ],
     "prompt_number": 21
    },
    {
     "cell_type": "markdown",
     "metadata": {},
     "source": [
      "## Manipulieren eines Ausdrucks\n",
      "\n",
      "Hiervon gibt es verschiedene Varianten, je nach dem welche Art der Vereinfachung vorgenommen werden soll. \n",
      "\n",
      "* `.simplify()`: probiert intern einige Varianten, bewertet die Verbesserungen (wenn vorhanden), und sucht die beste aus.\n",
      "* `.expand()`: Ausmultiplizieren, ...\n",
      "* `.collect(<variable>)`: Herausziehen eines oder mehrerer Faktoren bzw. Subausdr\u00fccke\n",
      "* `.factor()`: Faktorisieren\n",
      "* `.cancel()`: K\u00fcrzen\n",
      "* `.trigsimp()`: Trigonometrische Formeln\n",
      "* usw. [siehe Dokumentation](http://docs.sympy.org/latest/tutorial/simplification.html)"
     ]
    },
    {
     "cell_type": "code",
     "collapsed": false,
     "input": [
      "ex2 =  (1 - x) * (4 + 5 * x) * (1 + x)\n",
      "ex2"
     ],
     "language": "python",
     "metadata": {},
     "outputs": [
      {
       "latex": [
        "$$\\left(- x + 1\\right) \\left(x + 1\\right) \\left(5 x + 4\\right)$$"
       ],
       "metadata": {},
       "output_type": "pyout",
       "png": "[encoded data removed]",
       "prompt_number": 22,
       "text": [
        "(-x + 1)\u22c5(x + 1)\u22c5(5\u22c5x + 4)"
       ]
      }
     ],
     "prompt_number": 22
    },
    {
     "cell_type": "code",
     "collapsed": false,
     "input": [
      "ex3 = ex2.expand()\n",
      "ex3"
     ],
     "language": "python",
     "metadata": {},
     "outputs": [
      {
       "latex": [
        "$$- 5 x^{3} - 4 x^{2} + 5 x + 4$$"
       ],
       "metadata": {},
       "output_type": "pyout",
       "png": "[encoded data removed]",
       "prompt_number": 23,
       "text": [
        "     3      2          \n",
        "- 5\u22c5x  - 4\u22c5x  + 5\u22c5x + 4"
       ]
      }
     ],
     "prompt_number": 23
    },
    {
     "cell_type": "code",
     "collapsed": false,
     "input": [
      "ex3.factor()"
     ],
     "language": "python",
     "metadata": {},
     "outputs": [
      {
       "latex": [
        "$$- \\left(x - 1\\right) \\left(x + 1\\right) \\left(5 x + 4\\right)$$"
       ],
       "metadata": {},
       "output_type": "pyout",
       "png": "[encoded data removed]",
       "prompt_number": 24,
       "text": [
        "-(x - 1)\u22c5(x + 1)\u22c5(5\u22c5x + 4)"
       ]
      }
     ],
     "prompt_number": 24
    },
    {
     "cell_type": "code",
     "collapsed": false,
     "input": [
      "ex5 = sy.sin(1 + x)**2 / sy.cos(1+x)**2\n",
      "ex5"
     ],
     "language": "python",
     "metadata": {},
     "outputs": [
      {
       "latex": [
        "$$\\frac{\\sin^{2}{\\left (x + 1 \\right )}}{\\cos^{2}{\\left (x + 1 \\right )}}$$"
       ],
       "metadata": {},
       "output_type": "pyout",
       "png": "[encoded data removed]",
       "prompt_number": 25,
       "text": [
        "   2       \n",
        "sin (x + 1)\n",
        "\u2500\u2500\u2500\u2500\u2500\u2500\u2500\u2500\u2500\u2500\u2500\n",
        "   2       \n",
        "cos (x + 1)"
       ]
      }
     ],
     "prompt_number": 25
    },
    {
     "cell_type": "code",
     "collapsed": false,
     "input": [
      "ex5.trigsimp()"
     ],
     "language": "python",
     "metadata": {},
     "outputs": [
      {
       "latex": [
        "$$\\tan^{2}{\\left (x + 1 \\right )}$$"
       ],
       "metadata": {},
       "output_type": "pyout",
       "png": "[encoded data removed]",
       "prompt_number": 26,
       "text": [
        "   2       \n",
        "tan (x + 1)"
       ]
      }
     ],
     "prompt_number": 26
    },
    {
     "cell_type": "code",
     "collapsed": false,
     "input": [
      "a, b = sy.symbols('a b', positive=True)\n",
      "ex6 = sy.log(a) + sy.log(b) + sy.log(1 + a) - sy.log(1/b)\n",
      "ex6"
     ],
     "language": "python",
     "metadata": {},
     "outputs": [
      {
       "latex": [
        "$$\\log{\\left (a \\right )} - \\log{\\left (\\frac{1}{b} \\right )} + \\log{\\left (b \\right )} + \\log{\\left (a + 1 \\right )}$$"
       ],
       "metadata": {},
       "output_type": "pyout",
       "png": "[encoded data removed]",
       "prompt_number": 27,
       "text": [
        "            \u239b1\u239e                      \n",
        "log(a) - log\u239c\u2500\u239f + log(b) + log(a + 1)\n",
        "            \u239db\u23a0                      "
       ]
      }
     ],
     "prompt_number": 27
    },
    {
     "cell_type": "code",
     "collapsed": false,
     "input": [
      "ex6.simplify()"
     ],
     "language": "python",
     "metadata": {},
     "outputs": [
      {
       "latex": [
        "$$\\log{\\left (a b^{2} \\left(a + 1\\right) \\right )}$$"
       ],
       "metadata": {},
       "output_type": "pyout",
       "png": "[encoded data removed]",
       "prompt_number": 28,
       "text": [
        "   \u239b   2        \u239e\n",
        "log\u239da\u22c5b \u22c5(a + 1)\u23a0"
       ]
      }
     ],
     "prompt_number": 28
    },
    {
     "cell_type": "code",
     "collapsed": false,
     "input": [
      "ex7 = (3*x**2 + x) / x\n",
      "ex7"
     ],
     "language": "python",
     "metadata": {},
     "outputs": [
      {
       "latex": [
        "$$\\frac{1}{x} \\left(3 x^{2} + x\\right)$$"
       ],
       "metadata": {},
       "output_type": "pyout",
       "png": "[encoded data removed]",
       "prompt_number": 29,
       "text": [
        "   2    \n",
        "3\u22c5x  + x\n",
        "\u2500\u2500\u2500\u2500\u2500\u2500\u2500\u2500\n",
        "   x    "
       ]
      }
     ],
     "prompt_number": 29
    },
    {
     "cell_type": "code",
     "collapsed": false,
     "input": [
      "ex7.cancel()"
     ],
     "language": "python",
     "metadata": {},
     "outputs": [
      {
       "latex": [
        "$$3 x + 1$$"
       ],
       "metadata": {},
       "output_type": "pyout",
       "png": "[encoded data removed]",
       "prompt_number": 30,
       "text": [
        "3\u22c5x + 1"
       ]
      }
     ],
     "prompt_number": 30
    },
    {
     "cell_type": "code",
     "collapsed": false,
     "input": [
      "ex8 = a*sy.log(x) + b*sy.cos(3*x) + t * sy.log(x)\n",
      "ex8"
     ],
     "language": "python",
     "metadata": {},
     "outputs": [
      {
       "latex": [
        "$$a \\log{\\left (x \\right )} + b \\cos{\\left (3 x \\right )} + t \\log{\\left (x \\right )}$$"
       ],
       "metadata": {},
       "output_type": "pyout",
       "png": "[encoded data removed]",
       "prompt_number": 31,
       "text": [
        "a\u22c5log(x) + b\u22c5cos(3\u22c5x) + t\u22c5log(x)"
       ]
      }
     ],
     "prompt_number": 31
    },
    {
     "cell_type": "code",
     "collapsed": false,
     "input": [
      "ex8.collect(sy.log(x))"
     ],
     "language": "python",
     "metadata": {},
     "outputs": [
      {
       "latex": [
        "$$b \\cos{\\left (3 x \\right )} + \\left(a + t\\right) \\log{\\left (x \\right )}$$"
       ],
       "metadata": {},
       "output_type": "pyout",
       "png": "[encoded data removed]",
       "prompt_number": 32,
       "text": [
        "b\u22c5cos(3\u22c5x) + (a + t)\u22c5log(x)"
       ]
      }
     ],
     "prompt_number": 32
    },
    {
     "cell_type": "markdown",
     "metadata": {},
     "source": [
      "## Gleichungen\n",
      "\n",
      "Die Gegen\u00fcberstellung zweier Ausdr\u00fccke ergibt eine Gleichung. \n",
      "SymPy ist hier etwas unfreundlich und verlangt die Verwendung des `sympy.Eq` Operators."
     ]
    },
    {
     "cell_type": "code",
     "collapsed": false,
     "input": [
      "eq1 = sy.Eq(3 * x, 9 * x**2 - 2*x - 1)\n",
      "eq1"
     ],
     "language": "python",
     "metadata": {},
     "outputs": [
      {
       "latex": [
        "$$3 x = 9 x^{2} - 2 x - 1$$"
       ],
       "metadata": {},
       "output_type": "pyout",
       "png": "[encoded data removed]",
       "prompt_number": 33,
       "text": [
        "         2          \n",
        "3\u22c5x = 9\u22c5x  - 2\u22c5x - 1"
       ]
      }
     ],
     "prompt_number": 33
    },
    {
     "cell_type": "code",
     "collapsed": false,
     "input": [
      "# right-/left-hand-side\n",
      "eq1.rhs"
     ],
     "language": "python",
     "metadata": {},
     "outputs": [
      {
       "latex": [
        "$$9 x^{2} - 2 x - 1$$"
       ],
       "metadata": {},
       "output_type": "pyout",
       "png": "[encoded data removed]",
       "prompt_number": 34,
       "text": [
        "   2          \n",
        "9\u22c5x  - 2\u22c5x - 1"
       ]
      }
     ],
     "prompt_number": 34
    },
    {
     "cell_type": "code",
     "collapsed": false,
     "input": [
      "eq1.lhs.subs({x : 42})"
     ],
     "language": "python",
     "metadata": {},
     "outputs": [
      {
       "latex": [
        "$$126$$"
       ],
       "metadata": {},
       "output_type": "pyout",
       "png": "[encoded data removed]",
       "prompt_number": 35,
       "text": [
        "126"
       ]
      }
     ],
     "prompt_number": 35
    },
    {
     "cell_type": "code",
     "collapsed": false,
     "input": [],
     "language": "python",
     "metadata": {},
     "outputs": [],
     "prompt_number": 35
    },
    {
     "cell_type": "markdown",
     "metadata": {},
     "source": [
      "## L\u00f6sen von Gleichungen: `solve`\n",
      "\n",
      "Eine der Standardanwendungen symbolischer Software is das symbolische L\u00f6sen von Gleichungen bzw. Gleichungssystemen."
     ]
    },
    {
     "cell_type": "code",
     "collapsed": false,
     "input": [
      "eq1_sol = sy.solve(eq1)\n",
      "eq1_sol"
     ],
     "language": "python",
     "metadata": {},
     "outputs": [
      {
       "latex": [
        "$$\\left [ \\frac{5}{18} + \\frac{\\sqrt{61}}{18}, \\quad - \\frac{\\sqrt{61}}{18} + \\frac{5}{18}\\right ]$$"
       ],
       "metadata": {},
       "output_type": "pyout",
       "png": "[encoded data removed]",
       "prompt_number": 36,
       "text": [
        "\u23a1       ____      ____     \u23a4\n",
        "\u23a25    \u2572\u2571 61     \u2572\u2571 61    5 \u23a5\n",
        "\u23a2\u2500\u2500 + \u2500\u2500\u2500\u2500\u2500\u2500, - \u2500\u2500\u2500\u2500\u2500\u2500 + \u2500\u2500\u23a5\n",
        "\u23a318     18        18     18\u23a6"
       ]
      }
     ],
     "prompt_number": 36
    },
    {
     "cell_type": "markdown",
     "metadata": {},
     "source": [
      "L\u00f6sung 1 einsetzen:"
     ]
    },
    {
     "cell_type": "code",
     "collapsed": false,
     "input": [
      "eq1_sol1 = eq1.subs({x:eq1_sol[0]})\n",
      "eq1_sol1"
     ],
     "language": "python",
     "metadata": {},
     "outputs": [
      {
       "latex": [
        "$$\\frac{5}{6} + \\frac{\\sqrt{61}}{6} = - \\frac{14}{9} - \\frac{\\sqrt{61}}{9} + 9 \\left(\\frac{5}{18} + \\frac{\\sqrt{61}}{18}\\right)^{2}$$"
       ],
       "metadata": {},
       "output_type": "pyout",
       "png": "[encoded data removed]",
       "prompt_number": 37,
       "text": [
        "                                            2\n",
        "      ____            ____     \u239b       ____\u239e \n",
        "5   \u2572\u2571 61      14   \u2572\u2571 61      \u239c5    \u2572\u2571 61 \u239f \n",
        "\u2500 + \u2500\u2500\u2500\u2500\u2500\u2500 = - \u2500\u2500 - \u2500\u2500\u2500\u2500\u2500\u2500 + 9\u22c5\u239c\u2500\u2500 + \u2500\u2500\u2500\u2500\u2500\u2500\u239f \n",
        "6     6        9      9        \u239d18     18  \u23a0 "
       ]
      }
     ],
     "prompt_number": 37
    },
    {
     "cell_type": "code",
     "collapsed": false,
     "input": [
      "eq1_sol1.expand()"
     ],
     "language": "python",
     "metadata": {},
     "outputs": [
      {
       "latex": [
        "$$\\mathrm{True}$$"
       ],
       "metadata": {},
       "output_type": "pyout",
       "png": "[encoded data removed]",
       "prompt_number": 38,
       "text": [
        "True"
       ]
      }
     ],
     "prompt_number": 38
    },
    {
     "cell_type": "markdown",
     "metadata": {},
     "source": [
      "Ein ganzes Gleichungssystem l\u00f6sen.\n",
      "(Die rechte Seite nach links brinen erspart den Aufruf von `Eq( ... )`)"
     ]
    },
    {
     "cell_type": "code",
     "collapsed": false,
     "input": [
      "from sympy.abc import x, y, z\n",
      "\n",
      "eqn3 = [2 * x**2 - y            - 2,\n",
      "        3 * x    - y      - z   + 4,\n",
      "            x    + y      - z   + 8]\n",
      "\n",
      "sol3 = sy.solve(eqn3)\n",
      "\n",
      "for sol in sol3:\n",
      "    subsol = [e.subs(sol).simplify() for e in eqn3]\n",
      "    print(\"%-30s -> eingesetzt: %s\" % (sol, subsol))"
     ],
     "language": "python",
     "metadata": {},
     "outputs": [
      {
       "output_type": "stream",
       "stream": "stdout",
       "text": [
        "{x: 0, z: 6, y: -2}            -> eingesetzt: [0, 0, 0]\n",
        "{x: 1/2, z: 7, y: -3/2}        -> eingesetzt: [0, 0, 0]\n"
       ]
      }
     ],
     "prompt_number": 39
    },
    {
     "cell_type": "markdown",
     "metadata": {},
     "source": [
      "## Differentialgleichungen\n",
      "\n",
      "Der fundamentale Unterschied zu normalen Gleichungen ist,\n",
      "dass es symbolische Variablen f\u00fcr Funktionen gibt: $f$, $g$, ...\n",
      "Diese werden mit der `symbols` Funktion erzeugt,\n",
      "deren `cls` (Klasse) auf `Function` gesetzt wird,\n",
      "bzw. das Argument `function = True` angegeben wird.\n",
      "Dadurch l\u00e4sst sich eine Funktion $f(x)$ ganz allgemein in Python durch `f(x)` konstruieren."
     ]
    },
    {
     "cell_type": "code",
     "collapsed": false,
     "input": [
      "from sympy import symbols, Function, Eq\n",
      "f = symbols(\"f\", cls=Function)\n",
      "f(x)"
     ],
     "language": "python",
     "metadata": {},
     "outputs": [
      {
       "latex": [
        "$$f{\\left (x \\right )}$$"
       ],
       "metadata": {},
       "output_type": "pyout",
       "png": "[encoded data removed]",
       "prompt_number": 40,
       "text": [
        "f(x)"
       ]
      }
     ],
     "prompt_number": 40
    },
    {
     "cell_type": "code",
     "collapsed": false,
     "input": [
      "dgl1 = Eq(f(x) + f(x).diff(x), y)\n",
      "dgl1"
     ],
     "language": "python",
     "metadata": {},
     "outputs": [
      {
       "latex": [
        "$$f{\\left (x \\right )} + \\frac{d}{d x} f{\\left (x \\right )} = y$$"
       ],
       "metadata": {},
       "output_type": "pyout",
       "png": "[encoded data removed]",
       "prompt_number": 41,
       "text": [
        "       d           \n",
        "f(x) + \u2500\u2500(f(x)) = y\n",
        "       dx          "
       ]
      }
     ],
     "prompt_number": 41
    },
    {
     "cell_type": "code",
     "collapsed": false,
     "input": [
      "from sympy import dsolve\n",
      "dsolve(dgl1, f(x))"
     ],
     "language": "python",
     "metadata": {},
     "outputs": [
      {
       "latex": [
        "$$f{\\left (x \\right )} = C_{1} e^{- x} + y$$"
       ],
       "metadata": {},
       "output_type": "pyout",
       "png": "[encoded data removed]",
       "prompt_number": 42,
       "text": [
        "           -x    \n",
        "f(x) = C\u2081\u22c5\u212f   + y"
       ]
      }
     ],
     "prompt_number": 42
    },
    {
     "cell_type": "code",
     "collapsed": false,
     "input": [
      "dgl2 = f(x).diff(x, x) + f(x)\n",
      "dgl2"
     ],
     "language": "python",
     "metadata": {},
     "outputs": [
      {
       "latex": [
        "$$f{\\left (x \\right )} + \\frac{d^{2}}{d x^{2}}  f{\\left (x \\right )}$$"
       ],
       "metadata": {},
       "output_type": "pyout",
       "png": "[encoded data removed]",
       "prompt_number": 43,
       "text": [
        "         2      \n",
        "        d       \n",
        "f(x) + \u2500\u2500\u2500(f(x))\n",
        "         2      \n",
        "       dx       "
       ]
      }
     ],
     "prompt_number": 43
    },
    {
     "cell_type": "code",
     "collapsed": false,
     "input": [
      "dsolve(dgl2, f(x))"
     ],
     "language": "python",
     "metadata": {},
     "outputs": [
      {
       "latex": [
        "$$f{\\left (x \\right )} = C_{1} \\sin{\\left (x \\right )} + C_{2} \\cos{\\left (x \\right )}$$"
       ],
       "metadata": {},
       "output_type": "pyout",
       "png": "[encoded data removed]",
       "prompt_number": 44,
       "text": [
        "f(x) = C\u2081\u22c5sin(x) + C\u2082\u22c5cos(x)"
       ]
      }
     ],
     "prompt_number": 44
    },
    {
     "cell_type": "markdown",
     "metadata": {},
     "source": [
      "## Limes\n",
      "\n",
      "Die Definition des Limes: \n",
      "    \n",
      "$$\\lim_{x\\to a}f(x)=L \\; \\text{iff} \\; \\forall\\; \\epsilon>0\\; \\exists\\; \\delta \\; \\text{such that} \\; \\forall\\; x: |x-a|<\\delta \\Rightarrow |f(x)-L|\\leq \\epsilon $$"
     ]
    },
    {
     "cell_type": "code",
     "collapsed": false,
     "input": [
      "from sympy import limit\n",
      "from sympy.abc import x"
     ],
     "language": "python",
     "metadata": {},
     "outputs": [],
     "prompt_number": 45
    },
    {
     "cell_type": "code",
     "collapsed": false,
     "input": [
      "f = (3 * x**3) / (1 - 2*x**2 + x**3)"
     ],
     "language": "python",
     "metadata": {},
     "outputs": [],
     "prompt_number": 46
    },
    {
     "cell_type": "markdown",
     "metadata": {},
     "source": [
      "Numerische Approximation\n",
      "\n",
      "`f.subs(<variable>, <wert>)` substituiert hier die angegebene Variable mit dem gegebenen Wert;\n",
      "und `.evalf()` wertet den Ausdruck aus."
     ]
    },
    {
     "cell_type": "code",
     "collapsed": false,
     "input": [
      "for x_val in range(1000, 20000, 1000):\n",
      "    fx = f.subs(x, x_val).evalf()\n",
      "    print(\"%7d -> %14.11f\" % (x_val, fx))"
     ],
     "language": "python",
     "metadata": {},
     "outputs": [
      {
       "output_type": "stream",
       "stream": "stdout",
       "text": [
        "   1000 ->  3.00601202104\n",
        "   2000 ->  3.00300300263\n",
        "   3000 ->  3.00200133411\n",
        "   4000 ->  3.00150075033\n",
        "   5000 ->  3.00120048017\n",
        "   6000 ->  3.00100033343\n",
        "   7000 ->  3.00085738782\n",
        "   8000 ->  3.00075018754\n",
        "   9000 ->  3.00066681484\n",
        "  10000 ->  3.00060012002\n",
        "  11000 ->  3.00054555373\n",
        "  12000 ->  3.00050008335\n",
        "  13000 ->  3.00046160948\n",
        "  14000 ->  3.00042863266\n",
        "  15000 ->  3.00040005334\n",
        "  16000 ->  3.00037504688\n",
        "  17000 ->  3.00035298270\n",
        "  18000 ->  3.00033337037\n",
        "  19000 ->  3.00031582272\n"
       ]
      }
     ],
     "prompt_number": 47
    },
    {
     "cell_type": "markdown",
     "metadata": {},
     "source": [
      "*Bemerkung:* SymPy's `oo` steht f\u00fcr $\\infty$"
     ]
    },
    {
     "cell_type": "code",
     "collapsed": false,
     "input": [
      "from sympy import oo\n",
      "limit(f, x, oo)"
     ],
     "language": "python",
     "metadata": {},
     "outputs": [
      {
       "latex": [
        "$$3$$"
       ],
       "metadata": {},
       "output_type": "pyout",
       "png": "[encoded data removed]",
       "prompt_number": 48,
       "text": [
        "3"
       ]
      }
     ],
     "prompt_number": 48
    },
    {
     "cell_type": "code",
     "collapsed": false,
     "input": [
      "limit(f, x, -oo)"
     ],
     "language": "python",
     "metadata": {},
     "outputs": [
      {
       "latex": [
        "$$3$$"
       ],
       "metadata": {},
       "output_type": "pyout",
       "png": "[encoded data removed]",
       "prompt_number": 49,
       "text": [
        "3"
       ]
      }
     ],
     "prompt_number": 49
    },
    {
     "cell_type": "code",
     "collapsed": false,
     "input": [
      "limit(f, x, 0)"
     ],
     "language": "python",
     "metadata": {},
     "outputs": [
      {
       "latex": [
        "$$0$$"
       ],
       "metadata": {},
       "output_type": "pyout",
       "png": "[encoded data removed]",
       "prompt_number": 50,
       "text": [
        "0"
       ]
      }
     ],
     "prompt_number": 50
    },
    {
     "cell_type": "markdown",
     "metadata": {},
     "source": [
      "Dies ist auch mit mehrstelligen Funktionen machbar:"
     ]
    },
    {
     "cell_type": "code",
     "collapsed": false,
     "input": [
      "from sympy import sin\n",
      "from sympy.abc import x, y\n",
      "f2 = (sin(x) + x**2 * y**2 - x**3 * y**3) / (1 - x - 2 * (x + 2 * y)**3)"
     ],
     "language": "python",
     "metadata": {},
     "outputs": [],
     "prompt_number": 51
    },
    {
     "cell_type": "code",
     "collapsed": false,
     "input": [
      "limit(f2, x, oo)"
     ],
     "language": "python",
     "metadata": {},
     "outputs": [
      {
       "latex": [
        "$$0$$"
       ],
       "metadata": {},
       "output_type": "pyout",
       "png": "[encoded data removed]",
       "prompt_number": 52,
       "text": [
        "0"
       ]
      }
     ],
     "prompt_number": 52
    },
    {
     "cell_type": "code",
     "collapsed": false,
     "input": [
      "limit(f2, y, oo)"
     ],
     "language": "python",
     "metadata": {},
     "outputs": [
      {
       "latex": [
        "$$\\frac{x^{3}}{16}$$"
       ],
       "metadata": {},
       "output_type": "pyout",
       "png": "[encoded data removed]",
       "prompt_number": 53,
       "text": [
        " 3\n",
        "x \n",
        "\u2500\u2500\n",
        "16"
       ]
      }
     ],
     "prompt_number": 53
    },
    {
     "cell_type": "markdown",
     "metadata": {},
     "source": [
      "Bei Polstellen ist es wichtig, von welcher Seite der Limes angegangen wird:"
     ]
    },
    {
     "cell_type": "code",
     "collapsed": false,
     "input": [
      "f_pol = 1 / (-27 + x**3)"
     ],
     "language": "python",
     "metadata": {},
     "outputs": [],
     "prompt_number": 54
    },
    {
     "cell_type": "code",
     "collapsed": false,
     "input": [
      "limit(f_pol, x, 3, dir=\"+\")"
     ],
     "language": "python",
     "metadata": {},
     "outputs": [
      {
       "latex": [
        "$$\\infty$$"
       ],
       "metadata": {},
       "output_type": "pyout",
       "png": "[encoded data removed]",
       "prompt_number": 55,
       "text": [
        "\u221e"
       ]
      }
     ],
     "prompt_number": 55
    },
    {
     "cell_type": "code",
     "collapsed": false,
     "input": [
      "limit(f_pol, x, 3, dir=\"-\")"
     ],
     "language": "python",
     "metadata": {},
     "outputs": [
      {
       "latex": [
        "$$-\\infty$$"
       ],
       "metadata": {},
       "output_type": "pyout",
       "png": "[encoded data removed]",
       "prompt_number": 56,
       "text": [
        "-\u221e"
       ]
      }
     ],
     "prompt_number": 56
    },
    {
     "cell_type": "markdown",
     "metadata": {},
     "source": [
      "## Reihenentwicklung\n",
      "\n",
      "Ein Ausdruck wird an einem bestimmten Punkt entwickelt."
     ]
    },
    {
     "cell_type": "code",
     "collapsed": false,
     "input": [
      "from sympy import sin\n",
      "from sympy.abc import x"
     ],
     "language": "python",
     "metadata": {},
     "outputs": [],
     "prompt_number": 57
    },
    {
     "cell_type": "code",
     "collapsed": false,
     "input": [
      "f3 = sin(x) * x\n",
      "f3"
     ],
     "language": "python",
     "metadata": {},
     "outputs": [
      {
       "latex": [
        "$$x \\sin{\\left (x \\right )}$$"
       ],
       "metadata": {},
       "output_type": "pyout",
       "png": "[encoded data removed]",
       "prompt_number": 58,
       "text": [
        "x\u22c5sin(x)"
       ]
      }
     ],
     "prompt_number": 58
    },
    {
     "cell_type": "markdown",
     "metadata": {},
     "source": [
      "An der Stelle $x_0 = 0$ mit 10 Gliedern:"
     ]
    },
    {
     "cell_type": "code",
     "collapsed": false,
     "input": [
      "f3_series_0 = f3.series(x = x, x0 = 0, n = 10)\n",
      "f3_series_0"
     ],
     "language": "python",
     "metadata": {},
     "outputs": [
      {
       "latex": [
        "$$x^{2} - \\frac{x^{4}}{6} + \\frac{x^{6}}{120} - \\frac{x^{8}}{5040} + \\mathcal{O}\\left(x^{10}\\right)$$"
       ],
       "metadata": {},
       "output_type": "pyout",
       "png": "[encoded data removed]",
       "prompt_number": 59,
       "text": [
        "      4     6     8          \n",
        " 2   x     x     x      \u239b 10\u239e\n",
        "x  - \u2500\u2500 + \u2500\u2500\u2500 - \u2500\u2500\u2500\u2500 + O\u239dx  \u23a0\n",
        "     6    120   5040         "
       ]
      }
     ],
     "prompt_number": 59
    },
    {
     "cell_type": "markdown",
     "metadata": {},
     "source": [
      "An der Stelle $x_0 = \\pi$ mit 5 Gliedern:"
     ]
    },
    {
     "cell_type": "code",
     "collapsed": false,
     "input": [
      "f3_series_pi = f3.series(x = x, x0 = sy.pi, n = 5)\n",
      "f3_series_pi"
     ],
     "language": "python",
     "metadata": {},
     "outputs": [
      {
       "latex": [
        "$$- \\pi \\left(x - \\pi\\right) - \\left(x - \\pi\\right)^{2} + \\frac{\\pi}{6} \\left(x - \\pi\\right)^{3} + \\frac{1}{6} \\left(x - \\pi\\right)^{4} + \\mathcal{O}\\left(\\left(x - \\pi\\right)^{5}; x\\rightarrow\\pi\\right)$$"
       ],
       "metadata": {},
       "output_type": "pyout",
       "png": "[encoded data removed]",
       "prompt_number": 60,
       "text": [
        "                                 3          4                     \n",
        "                    2   \u03c0\u22c5(x - \u03c0)    (x - \u03c0)     \u239b       5       \u239e\n",
        "-\u03c0\u22c5(x - \u03c0) - (x - \u03c0)  + \u2500\u2500\u2500\u2500\u2500\u2500\u2500\u2500\u2500\u2500 + \u2500\u2500\u2500\u2500\u2500\u2500\u2500\u2500 + O\u239d(x - \u03c0) ; x \u2192 \u03c0\u23a0\n",
        "                            6           6                         "
       ]
      }
     ],
     "prompt_number": 60
    },
    {
     "cell_type": "code",
     "collapsed": false,
     "input": [
      "f3_series_pi.expand()"
     ],
     "language": "python",
     "metadata": {},
     "outputs": [
      {
       "latex": [
        "$$\\mathcal{O}\\left(1; x\\rightarrow\\pi\\right)$$"
       ],
       "metadata": {},
       "output_type": "pyout",
       "png": "[encoded data removed]",
       "prompt_number": 61,
       "text": [
        "O(1; x \u2192 \u03c0)"
       ]
      }
     ],
     "prompt_number": 61
    },
    {
     "cell_type": "markdown",
     "metadata": {},
     "source": [
      "## Integral\n",
      "\n",
      "Sympy kann bestimmte und unbestimmte Integrale berechnen."
     ]
    },
    {
     "cell_type": "code",
     "collapsed": false,
     "input": [
      "from sympy import integrate, cos, pi, exp\n",
      "from sympy.abc import x\n",
      "\n",
      "integrate((1 - x**2) * cos(x), x)"
     ],
     "language": "python",
     "metadata": {},
     "outputs": [
      {
       "latex": [
        "$$- x^{2} \\sin{\\left (x \\right )} - 2 x \\cos{\\left (x \\right )} + 3 \\sin{\\left (x \\right )}$$"
       ],
       "metadata": {},
       "output_type": "pyout",
       "png": "[encoded data removed]",
       "prompt_number": 62,
       "text": [
        "   2                               \n",
        "- x \u22c5sin(x) - 2\u22c5x\u22c5cos(x) + 3\u22c5sin(x)"
       ]
      }
     ],
     "prompt_number": 62
    },
    {
     "cell_type": "code",
     "collapsed": false,
     "input": [
      "from sympy.abc import t\n",
      "integrate((1 - x**2) * cos(x), (x, -pi, pi))"
     ],
     "language": "python",
     "metadata": {},
     "outputs": [
      {
       "latex": [
        "$$4 \\pi$$"
       ],
       "metadata": {},
       "output_type": "pyout",
       "png": "[encoded data removed]",
       "prompt_number": 63,
       "text": [
        "4\u22c5\u03c0"
       ]
      }
     ],
     "prompt_number": 63
    },
    {
     "cell_type": "code",
     "collapsed": false,
     "input": [
      "from sympy.abc import y\n",
      "exp2 = exp(-x**2) * exp(-y**2)\n",
      "exp2.simplify()\n",
      "exp2"
     ],
     "language": "python",
     "metadata": {},
     "outputs": [
      {
       "latex": [
        "$$e^{- x^{2}} e^{- y^{2}}$$"
       ],
       "metadata": {},
       "output_type": "pyout",
       "png": "[encoded data removed]",
       "prompt_number": 64,
       "text": [
        "   2    2\n",
        " -x   -y \n",
        "\u212f   \u22c5\u212f   "
       ]
      }
     ],
     "prompt_number": 64
    },
    {
     "cell_type": "markdown",
     "metadata": {},
     "source": [
      "Integral der Funktion $\\operatorname{exp2}(x,\\,y)$ nach $y$"
     ]
    },
    {
     "cell_type": "code",
     "collapsed": false,
     "input": [
      "integrate(exp2, y)"
     ],
     "language": "python",
     "metadata": {},
     "outputs": [
      {
       "latex": [
        "$$\\frac{\\sqrt{\\pi}}{2} e^{- x^{2}} \\operatorname{erf}{\\left (y \\right )}$$"
       ],
       "metadata": {},
       "output_type": "pyout",
       "png": "[encoded data removed]",
       "prompt_number": 65,
       "text": [
        "         2       \n",
        "  ___  -x        \n",
        "\u2572\u2571 \u03c0 \u22c5\u212f   \u22c5erf(y)\n",
        "\u2500\u2500\u2500\u2500\u2500\u2500\u2500\u2500\u2500\u2500\u2500\u2500\u2500\u2500\u2500\u2500\u2500\n",
        "        2        "
       ]
      }
     ],
     "prompt_number": 65
    },
    {
     "cell_type": "markdown",
     "metadata": {},
     "source": [
      "Bestimmtes Integral:\n",
      "\n",
      "$$\\int_{-\\infty}^{\\infty}\\!\\int_{-\\infty}^{\\infty}\\!\\!\\operatorname{exp2}(x,\\,y)\\,\\mathrm{d}x = ?$$"
     ]
    },
    {
     "cell_type": "code",
     "collapsed": false,
     "input": [
      "from sympy import oo\n",
      "integrate(exp2, (x, -oo, oo), (y, -oo, oo))"
     ],
     "language": "python",
     "metadata": {},
     "outputs": [
      {
       "latex": [
        "$$\\pi$$"
       ],
       "metadata": {},
       "output_type": "pyout",
       "png": "[encoded data removed]",
       "prompt_number": 66,
       "text": [
        "\u03c0"
       ]
      }
     ],
     "prompt_number": 66
    },
    {
     "cell_type": "markdown",
     "metadata": {},
     "source": [
      "## Unausgewertete Ausdr\u00fccke\n",
      "\n",
      "Viele der bislang vorgestellten Funktionen haben \u00e4quivalent dazu Kontruktoren f\u00fcr Ausdr\u00fccke.\n",
      "Diese k\u00f6nnen wie gehabt dargestellt werden,\n",
      "es sind Substitutionen m\u00f6glich,\n",
      "und werden mit der `.doit()` Methode ausgewertet."
     ]
    },
    {
     "cell_type": "code",
     "collapsed": false,
     "input": [
      "from sympy import exp, Limit, latex, oo\n",
      "from sympy.abc import x\n",
      "\n",
      "limit_expr = Limit(1 - exp(1 / x), x, oo)\n",
      "limit_expr"
     ],
     "language": "python",
     "metadata": {},
     "outputs": [
      {
       "latex": [
        "$$\\lim_{x \\to \\infty}\\left(- e^{\\frac{1}{x}} + 1\\right)$$"
       ],
       "metadata": {},
       "output_type": "pyout",
       "png": "[encoded data removed]",
       "prompt_number": 67,
       "text": [
        "       1    \n",
        "       \u2500    \n",
        "       x    \n",
        "lim - \u212f  + 1\n",
        "x\u2500\u2192\u221e        "
       ]
      }
     ],
     "prompt_number": 67
    },
    {
     "cell_type": "code",
     "collapsed": false,
     "input": [
      "limit_expr.doit()"
     ],
     "language": "python",
     "metadata": {},
     "outputs": [
      {
       "latex": [
        "$$0$$"
       ],
       "metadata": {},
       "output_type": "pyout",
       "png": "[encoded data removed]",
       "prompt_number": 68,
       "text": [
        "0"
       ]
      }
     ],
     "prompt_number": 68
    },
    {
     "cell_type": "code",
     "collapsed": false,
     "input": [
      "from sympy import Integral\n",
      "from sympy.abc import y\n",
      "\n",
      "int_expr = Integral(1 / y, x)\n",
      "int_expr = int_expr.subs(y, exp(1/x))\n",
      "\n",
      "Math(latex(int_expr) + \"=\" + latex(int_expr.doit()))"
     ],
     "language": "python",
     "metadata": {},
     "outputs": [
      {
       "latex": [
        "$$\\int e^{- \\frac{1}{x}}\\, dx=x e^{- \\frac{1}{x}} + \\operatorname{Ei}{\\left (\\frac{e^{i \\pi}}{x} \\right )}$$"
       ],
       "metadata": {},
       "output_type": "pyout",
       "prompt_number": 69,
       "text": [
        "<IPython.core.display.Math at 0x5149910>"
       ]
      }
     ],
     "prompt_number": 69
    },
    {
     "cell_type": "code",
     "collapsed": false,
     "input": [
      "Integral(exp2, x, y)"
     ],
     "language": "python",
     "metadata": {},
     "outputs": [
      {
       "latex": [
        "$$\\iint e^{- x^{2}} e^{- y^{2}}\\, dx\\, dy$$"
       ],
       "metadata": {},
       "output_type": "pyout",
       "png": "[encoded data removed]",
       "prompt_number": 70,
       "text": [
        "\u2320 \u2320                \n",
        "\u23ae \u23ae    2    2      \n",
        "\u23ae \u23ae  -x   -y       \n",
        "\u23ae \u23ae \u212f   \u22c5\u212f    dx dy\n",
        "\u2321 \u2321                "
       ]
      }
     ],
     "prompt_number": 70
    },
    {
     "cell_type": "code",
     "collapsed": false,
     "input": [
      "Integral(exp2, x, y).doit()"
     ],
     "language": "python",
     "metadata": {},
     "outputs": [
      {
       "latex": [
        "$$\\frac{\\pi}{4} \\operatorname{erf}{\\left (x \\right )} \\operatorname{erf}{\\left (y \\right )}$$"
       ],
       "metadata": {},
       "output_type": "pyout",
       "png": "[encoded data removed]",
       "prompt_number": 71,
       "text": [
        "\u03c0\u22c5erf(x)\u22c5erf(y)\n",
        "\u2500\u2500\u2500\u2500\u2500\u2500\u2500\u2500\u2500\u2500\u2500\u2500\u2500\u2500\u2500\n",
        "       4       "
       ]
      }
     ],
     "prompt_number": 71
    },
    {
     "cell_type": "code",
     "collapsed": false,
     "input": [
      "exp2_i2 = Integral(exp2, (x, -1, 1), (y, -1, 1))\n",
      "exp2_i2"
     ],
     "language": "python",
     "metadata": {},
     "outputs": [
      {
       "latex": [
        "$$\\int_{-1}^{1}\\int_{-1}^{1} e^{- x^{2}} e^{- y^{2}}\\, dx\\, dy$$"
       ],
       "metadata": {},
       "output_type": "pyout",
       "png": "[encoded data removed]",
       "prompt_number": 72,
       "text": [
        "1  1                 \n",
        "\u2320  \u2320                 \n",
        "\u23ae  \u23ae     2    2      \n",
        "\u23ae  \u23ae   -x   -y       \n",
        "\u23ae  \u23ae  \u212f   \u22c5\u212f    dx dy\n",
        "\u2321  \u2321                 \n",
        "-1 -1                "
       ]
      }
     ],
     "prompt_number": 72
    },
    {
     "cell_type": "code",
     "collapsed": false,
     "input": [
      "exp2_i2.doit()"
     ],
     "language": "python",
     "metadata": {},
     "outputs": [
      {
       "latex": [
        "$$\\pi \\operatorname{erf}^{2}{\\left (1 \\right )}$$"
       ],
       "metadata": {},
       "output_type": "pyout",
       "png": "[encoded data removed]",
       "prompt_number": 73,
       "text": [
        "     2   \n",
        "\u03c0\u22c5erf (1)"
       ]
      }
     ],
     "prompt_number": 73
    },
    {
     "cell_type": "markdown",
     "metadata": {},
     "source": [
      "Der interne Graph des Integralausdrucks `int_expr`:"
     ]
    },
    {
     "cell_type": "code",
     "collapsed": false,
     "input": [
      "# input and output filenames\n",
      "import os\n",
      "fname = os.path.join(\"res\", \"sympy-int\")\n",
      "fname_dot = fname + \".dot\"\n",
      "fname_svg = fname + \".svg\"\n",
      "\n",
      "# writing the output of dotprint to the given file\n",
      "with open(fname_dot, \"w\") as dot_file:\n",
      "    dot_file.write(dotprint(int_expr))\n",
      "\n",
      "# rendering the *.dot to *.svg\n",
      "! dot -Tsvg -o $fname_svg $fname_dot\n",
      "\n",
      "# showing the resulting *.svg file here in the notebook\n",
      "from IPython.display import SVG\n",
      "SVG(filename = fname_svg)"
     ],
     "language": "python",
     "metadata": {},
     "outputs": [
      {
       "metadata": {},
       "output_type": "pyout",
       "prompt_number": 74,
       "svg": [
        "<svg height=\"332pt\" viewBox=\"0.00 0.00 178.00 332.00\" width=\"178pt\" xmlns=\"http://www.w3.org/2000/svg\" xmlns:xlink=\"http://www.w3.org/1999/xlink\">\n",
        "<g class=\"graph\" id=\"graph0\" transform=\"scale(1 1) rotate(0) translate(4 328)\">\n",
        "<title>%3</title>\n",
        "<polygon fill=\"white\" points=\"-4,4 -4,-328 174,-328 174,4 -4,4\" stroke=\"none\"/>\n",
        "<!-- Integral(exp(Mul(NegativeOne(), Pow(Symbol(x), NegativeOne()))), Tuple(Symbol(x)))_() -->\n",
        "<g class=\"node\" id=\"node1\"><title>Integral(exp(Mul(NegativeOne(), Pow(Symbol(x), NegativeOne()))), Tuple(Symbol(x)))_()</title>\n",
        "<ellipse cx=\"101\" cy=\"-306\" fill=\"none\" rx=\"38.0212\" ry=\"18\" stroke=\"black\"/>\n",
        "<text font-family=\"Times,serif\" font-size=\"14.00\" text-anchor=\"middle\" x=\"101\" y=\"-302.3\">Integral</text>\n",
        "</g>\n",
        "<!-- exp(Mul(NegativeOne(), Pow(Symbol(x), NegativeOne())))_(0,) -->\n",
        "<g class=\"node\" id=\"node2\"><title>exp(Mul(NegativeOne(), Pow(Symbol(x), NegativeOne())))_(0,)</title>\n",
        "<ellipse cx=\"63\" cy=\"-234\" fill=\"none\" rx=\"27\" ry=\"18\" stroke=\"black\"/>\n",
        "<text font-family=\"Times,serif\" font-size=\"14.00\" text-anchor=\"middle\" x=\"63\" y=\"-230.3\">exp</text>\n",
        "</g>\n",
        "<!-- Integral(exp(Mul(NegativeOne(), Pow(Symbol(x), NegativeOne()))), Tuple(Symbol(x)))_()&#45;&gt;exp(Mul(NegativeOne(), Pow(Symbol(x), NegativeOne())))_(0,) -->\n",
        "<g class=\"edge\" id=\"edge1\"><title>Integral(exp(Mul(NegativeOne(), Pow(Symbol(x), NegativeOne()))), Tuple(Symbol(x)))_()-&gt;exp(Mul(NegativeOne(), Pow(Symbol(x), NegativeOne())))_(0,)</title>\n",
        "<path d=\"M91.9945,-288.411C87.4514,-280.042 81.8425,-269.71 76.7722,-260.37\" fill=\"none\" stroke=\"black\"/>\n",
        "<polygon fill=\"black\" points=\"79.7878,-258.589 71.9408,-251.47 73.6358,-261.928 79.7878,-258.589\" stroke=\"black\"/>\n",
        "</g>\n",
        "<!-- Tuple(Symbol(x))_(1,) -->\n",
        "<g class=\"node\" id=\"node8\"><title>Tuple(Symbol(x))_(1,)</title>\n",
        "<ellipse cx=\"139\" cy=\"-234\" fill=\"none\" rx=\"31.2965\" ry=\"18\" stroke=\"blue\"/>\n",
        "<text font-family=\"Times,serif\" font-size=\"14.00\" text-anchor=\"middle\" x=\"139\" y=\"-230.3\">Tuple</text>\n",
        "</g>\n",
        "<!-- Integral(exp(Mul(NegativeOne(), Pow(Symbol(x), NegativeOne()))), Tuple(Symbol(x)))_()&#45;&gt;Tuple(Symbol(x))_(1,) -->\n",
        "<g class=\"edge\" id=\"edge2\"><title>Integral(exp(Mul(NegativeOne(), Pow(Symbol(x), NegativeOne()))), Tuple(Symbol(x)))_()-&gt;Tuple(Symbol(x))_(1,)</title>\n",
        "<path d=\"M110.005,-288.411C114.549,-280.042 120.158,-269.71 125.228,-260.37\" fill=\"none\" stroke=\"black\"/>\n",
        "<polygon fill=\"black\" points=\"128.364,-261.928 130.059,-251.47 122.212,-258.589 128.364,-261.928\" stroke=\"black\"/>\n",
        "</g>\n",
        "<!-- Mul(NegativeOne(), Pow(Symbol(x), NegativeOne()))_(0, 0) -->\n",
        "<g class=\"node\" id=\"node3\"><title>Mul(NegativeOne(), Pow(Symbol(x), NegativeOne()))_(0, 0)</title>\n",
        "<ellipse cx=\"63\" cy=\"-162\" fill=\"none\" rx=\"27\" ry=\"18\" stroke=\"black\"/>\n",
        "<text font-family=\"Times,serif\" font-size=\"14.00\" text-anchor=\"middle\" x=\"63\" y=\"-158.3\">Mul</text>\n",
        "</g>\n",
        "<!-- exp(Mul(NegativeOne(), Pow(Symbol(x), NegativeOne())))_(0,)&#45;&gt;Mul(NegativeOne(), Pow(Symbol(x), NegativeOne()))_(0, 0) -->\n",
        "<g class=\"edge\" id=\"edge3\"><title>exp(Mul(NegativeOne(), Pow(Symbol(x), NegativeOne())))_(0,)-&gt;Mul(NegativeOne(), Pow(Symbol(x), NegativeOne()))_(0, 0)</title>\n",
        "<path d=\"M63,-215.697C63,-207.983 63,-198.712 63,-190.112\" fill=\"none\" stroke=\"black\"/>\n",
        "<polygon fill=\"black\" points=\"66.5001,-190.104 63,-180.104 59.5001,-190.104 66.5001,-190.104\" stroke=\"black\"/>\n",
        "</g>\n",
        "<!-- NegativeOne()_(0, 0, 0) -->\n",
        "<g class=\"node\" id=\"node4\"><title>NegativeOne()_(0, 0, 0)</title>\n",
        "<ellipse cx=\"27\" cy=\"-90\" fill=\"none\" rx=\"27\" ry=\"18\" stroke=\"black\"/>\n",
        "<text font-family=\"Times,serif\" font-size=\"14.00\" text-anchor=\"middle\" x=\"27\" y=\"-86.3\">-1</text>\n",
        "</g>\n",
        "<!-- Mul(NegativeOne(), Pow(Symbol(x), NegativeOne()))_(0, 0)&#45;&gt;NegativeOne()_(0, 0, 0) -->\n",
        "<g class=\"edge\" id=\"edge4\"><title>Mul(NegativeOne(), Pow(Symbol(x), NegativeOne()))_(0, 0)-&gt;NegativeOne()_(0, 0, 0)</title>\n",
        "<path d=\"M54.6504,-144.765C50.2885,-136.283 44.8531,-125.714 39.9587,-116.197\" fill=\"none\" stroke=\"black\"/>\n",
        "<polygon fill=\"black\" points=\"42.9904,-114.439 35.3043,-107.147 36.7654,-117.641 42.9904,-114.439\" stroke=\"black\"/>\n",
        "</g>\n",
        "<!-- Pow(Symbol(x), NegativeOne())_(0, 0, 1) -->\n",
        "<g class=\"node\" id=\"node5\"><title>Pow(Symbol(x), NegativeOne())_(0, 0, 1)</title>\n",
        "<ellipse cx=\"99\" cy=\"-90\" fill=\"none\" rx=\"27\" ry=\"18\" stroke=\"black\"/>\n",
        "<text font-family=\"Times,serif\" font-size=\"14.00\" text-anchor=\"middle\" x=\"99\" y=\"-86.3\">Pow</text>\n",
        "</g>\n",
        "<!-- Mul(NegativeOne(), Pow(Symbol(x), NegativeOne()))_(0, 0)&#45;&gt;Pow(Symbol(x), NegativeOne())_(0, 0, 1) -->\n",
        "<g class=\"edge\" id=\"edge5\"><title>Mul(NegativeOne(), Pow(Symbol(x), NegativeOne()))_(0, 0)-&gt;Pow(Symbol(x), NegativeOne())_(0, 0, 1)</title>\n",
        "<path d=\"M71.3496,-144.765C75.7115,-136.283 81.1469,-125.714 86.0413,-116.197\" fill=\"none\" stroke=\"black\"/>\n",
        "<polygon fill=\"black\" points=\"89.2346,-117.641 90.6957,-107.147 83.0096,-114.439 89.2346,-117.641\" stroke=\"black\"/>\n",
        "</g>\n",
        "<!-- Symbol(x)_(0, 0, 1, 0) -->\n",
        "<g class=\"node\" id=\"node6\"><title>Symbol(x)_(0, 0, 1, 0)</title>\n",
        "<ellipse cx=\"63\" cy=\"-18\" fill=\"none\" rx=\"27\" ry=\"18\" stroke=\"black\"/>\n",
        "<text font-family=\"Times,serif\" font-size=\"14.00\" text-anchor=\"middle\" x=\"63\" y=\"-14.3\">x</text>\n",
        "</g>\n",
        "<!-- Pow(Symbol(x), NegativeOne())_(0, 0, 1)&#45;&gt;Symbol(x)_(0, 0, 1, 0) -->\n",
        "<g class=\"edge\" id=\"edge6\"><title>Pow(Symbol(x), NegativeOne())_(0, 0, 1)-&gt;Symbol(x)_(0, 0, 1, 0)</title>\n",
        "<path d=\"M90.6504,-72.7646C86.2885,-64.2831 80.8531,-53.7144 75.9587,-44.1974\" fill=\"none\" stroke=\"black\"/>\n",
        "<polygon fill=\"black\" points=\"78.9904,-42.4395 71.3043,-35.1473 72.7654,-45.6409 78.9904,-42.4395\" stroke=\"black\"/>\n",
        "</g>\n",
        "<!-- NegativeOne()_(0, 0, 1, 1) -->\n",
        "<g class=\"node\" id=\"node7\"><title>NegativeOne()_(0, 0, 1, 1)</title>\n",
        "<ellipse cx=\"135\" cy=\"-18\" fill=\"none\" rx=\"27\" ry=\"18\" stroke=\"black\"/>\n",
        "<text font-family=\"Times,serif\" font-size=\"14.00\" text-anchor=\"middle\" x=\"135\" y=\"-14.3\">-1</text>\n",
        "</g>\n",
        "<!-- Pow(Symbol(x), NegativeOne())_(0, 0, 1)&#45;&gt;NegativeOne()_(0, 0, 1, 1) -->\n",
        "<g class=\"edge\" id=\"edge7\"><title>Pow(Symbol(x), NegativeOne())_(0, 0, 1)-&gt;NegativeOne()_(0, 0, 1, 1)</title>\n",
        "<path d=\"M107.35,-72.7646C111.712,-64.2831 117.147,-53.7144 122.041,-44.1974\" fill=\"none\" stroke=\"black\"/>\n",
        "<polygon fill=\"black\" points=\"125.235,-45.6409 126.696,-35.1473 119.01,-42.4395 125.235,-45.6409\" stroke=\"black\"/>\n",
        "</g>\n",
        "<!-- Symbol(x)_(1, 0) -->\n",
        "<g class=\"node\" id=\"node9\"><title>Symbol(x)_(1, 0)</title>\n",
        "<ellipse cx=\"139\" cy=\"-162\" fill=\"none\" rx=\"27\" ry=\"18\" stroke=\"black\"/>\n",
        "<text font-family=\"Times,serif\" font-size=\"14.00\" text-anchor=\"middle\" x=\"139\" y=\"-158.3\">x</text>\n",
        "</g>\n",
        "<!-- Tuple(Symbol(x))_(1,)&#45;&gt;Symbol(x)_(1, 0) -->\n",
        "<g class=\"edge\" id=\"edge8\"><title>Tuple(Symbol(x))_(1,)-&gt;Symbol(x)_(1, 0)</title>\n",
        "<path d=\"M139,-215.697C139,-207.983 139,-198.712 139,-190.112\" fill=\"none\" stroke=\"black\"/>\n",
        "<polygon fill=\"black\" points=\"142.5,-190.104 139,-180.104 135.5,-190.104 142.5,-190.104\" stroke=\"black\"/>\n",
        "</g>\n",
        "</g>\n",
        "</svg>"
       ],
       "text": [
        "<IPython.core.display.SVG at 0x4d875d0>"
       ]
      }
     ],
     "prompt_number": 74
    }
   ],
   "metadata": {}
  }
 ]
}
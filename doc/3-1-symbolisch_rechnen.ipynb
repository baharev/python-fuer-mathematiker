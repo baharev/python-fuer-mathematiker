{
 "metadata": {
  "name": "",
  "signature": "sha256:96f55d80e41617d302c738a9da9ac79b326295e499fecd73736976edc56d2775"
 },
 "nbformat": 3,
 "nbformat_minor": 0,
 "worksheets": [
  {
   "cells": [
    {
     "cell_type": "markdown",
     "metadata": {},
     "source": [
      "# Symbolisches Rechnen mit SymPy\n",
      "\n",
      "[SymPy](http://www.sympy.org) ist eine Python Bibliothek f\u00fcr symbolisches Rechnen."
     ]
    },
    {
     "cell_type": "markdown",
     "metadata": {},
     "source": [
      "## Variablen und symblische Ausdr\u00fccke\n",
      "\n",
      "Als allererste Zutat f\u00fcr symblische Ausdr\u00fccke m\u00fcssen Variablen definiert werden.\n",
      "Hierf\u00fcr gibt es entweder die einfache `from sympy.abc import x` Variante,\n",
      "oder \u00fcber die `sympy.symbols` Funktion werden Name(n) und eventuell spezielle Absch\u00e4tzungen (\"ganzzahlig\", ...) festgelegt."
     ]
    },
    {
     "cell_type": "code",
     "collapsed": false,
     "input": [
      "from __future__ import division\n",
      "import sympy as sy"
     ],
     "language": "python",
     "metadata": {},
     "outputs": [],
     "prompt_number": 1
    },
    {
     "cell_type": "code",
     "collapsed": false,
     "input": [
      "from sympy.abc import x, y"
     ],
     "language": "python",
     "metadata": {},
     "outputs": [],
     "prompt_number": 2
    },
    {
     "cell_type": "code",
     "collapsed": false,
     "input": [
      "type(x)"
     ],
     "language": "python",
     "metadata": {},
     "outputs": [
      {
       "metadata": {},
       "output_type": "pyout",
       "prompt_number": 3,
       "text": [
        "sympy.core.symbol.Symbol"
       ]
      }
     ],
     "prompt_number": 3
    },
    {
     "cell_type": "markdown",
     "metadata": {},
     "source": [
      "Zusammensetzung eines Ausdrucks:"
     ]
    },
    {
     "cell_type": "code",
     "collapsed": false,
     "input": [
      "2*x**2 + 3 * y + 5"
     ],
     "language": "python",
     "metadata": {},
     "outputs": [
      {
       "metadata": {},
       "output_type": "pyout",
       "prompt_number": 4,
       "text": [
        "2*x**2 + 3*y + 5"
       ]
      }
     ],
     "prompt_number": 4
    },
    {
     "cell_type": "markdown",
     "metadata": {},
     "source": [
      "Zuweisung an eine Variable und Auswertung durch Substitution:"
     ]
    },
    {
     "cell_type": "code",
     "collapsed": false,
     "input": [
      "ex1 = 3 * x ** 2 - 2 * y + 1\n",
      "ex1.subs(x, 21)"
     ],
     "language": "python",
     "metadata": {},
     "outputs": [
      {
       "metadata": {},
       "output_type": "pyout",
       "prompt_number": 5,
       "text": [
        "-2*y + 1324"
       ]
      }
     ],
     "prompt_number": 5
    },
    {
     "cell_type": "code",
     "collapsed": false,
     "input": [
      "ex1.subs({x : 11, y : 3.14})"
     ],
     "language": "python",
     "metadata": {},
     "outputs": [
      {
       "metadata": {},
       "output_type": "pyout",
       "prompt_number": 6,
       "text": [
        "357.720000000000"
       ]
      }
     ],
     "prompt_number": 6
    },
    {
     "cell_type": "markdown",
     "metadata": {},
     "source": [
      "Ganzzahlige Variablen, $i \\in \\mathbb{Z}$:"
     ]
    },
    {
     "cell_type": "code",
     "collapsed": false,
     "input": [
      "i = sy.symbols(\"i\", integer=True)\n",
      "i.is_integer"
     ],
     "language": "python",
     "metadata": {},
     "outputs": [
      {
       "metadata": {},
       "output_type": "pyout",
       "prompt_number": 7,
       "text": [
        "True"
       ]
      }
     ],
     "prompt_number": 7
    },
    {
     "cell_type": "code",
     "collapsed": false,
     "input": [
      "(3*i + 1).is_integer"
     ],
     "language": "python",
     "metadata": {},
     "outputs": [
      {
       "metadata": {},
       "output_type": "pyout",
       "prompt_number": 8,
       "text": [
        "True"
       ]
      }
     ],
     "prompt_number": 8
    },
    {
     "cell_type": "code",
     "collapsed": false,
     "input": [
      "print(i.is_nonnegative)"
     ],
     "language": "python",
     "metadata": {},
     "outputs": [
      {
       "output_type": "stream",
       "stream": "stdout",
       "text": [
        "None\n"
       ]
      }
     ],
     "prompt_number": 9
    },
    {
     "cell_type": "markdown",
     "metadata": {},
     "source": [
      "$t \\in\\mathbb{R}\\;\\bigwedge\\;t \\geq 0$"
     ]
    },
    {
     "cell_type": "code",
     "collapsed": false,
     "input": [
      "t = sy.symbols(\"t\", real=True, nonnegative=True)\n",
      "print((3*t).is_nonnegative)\n",
      "print(t.is_real)"
     ],
     "language": "python",
     "metadata": {},
     "outputs": [
      {
       "output_type": "stream",
       "stream": "stdout",
       "text": [
        "True\n",
        "True\n"
       ]
      }
     ],
     "prompt_number": 10
    },
    {
     "cell_type": "code",
     "collapsed": false,
     "input": [
      "print((i * t).is_integer)"
     ],
     "language": "python",
     "metadata": {},
     "outputs": [
      {
       "output_type": "stream",
       "stream": "stdout",
       "text": [
        "None\n"
       ]
      }
     ],
     "prompt_number": 11
    },
    {
     "cell_type": "code",
     "collapsed": false,
     "input": [
      "# squared value plus non-negative variable is non-negative\n",
      "print((i**2 + t).is_nonnegative)"
     ],
     "language": "python",
     "metadata": {},
     "outputs": [
      {
       "output_type": "stream",
       "stream": "stdout",
       "text": [
        "True\n"
       ]
      }
     ],
     "prompt_number": 12
    },
    {
     "cell_type": "markdown",
     "metadata": {},
     "source": [
      "### Vereinfachen eines Ausdrucks\n",
      "\n",
      "Hiervon gibt es verschiedene Varianten, je nach dem welche Art der Vereinfachung vorgenommen werden soll. \n",
      "\n",
      "* `.simplify()`: probiert intern einige Varianten, bewertet die Verbesserungen (wenn vorhanden), und sucht die beste aus.\n",
      "* `.expand()`: Ausmultiplizieren, ...\n",
      "* `.collect(<variable>)`: Herausziehen eines oder mehrerer Faktoren bzw. Subausdr\u00fccke\n",
      "* `.factor()`: Faktorisieren\n",
      "* `.cancel()`: K\u00fcrzen\n",
      "* `.trigsimp()`: Trigonometrische Formeln\n",
      "* usw. [siehe Dokumentation](http://docs.sympy.org/latest/tutorial/simplification.html)"
     ]
    },
    {
     "cell_type": "code",
     "collapsed": false,
     "input": [
      "ex2 =  (1 - x) * (4 + 5 * x) * (1 + x)\n",
      "ex2"
     ],
     "language": "python",
     "metadata": {},
     "outputs": [
      {
       "metadata": {},
       "output_type": "pyout",
       "prompt_number": 13,
       "text": [
        "(-x + 1)*(x + 1)*(5*x + 4)"
       ]
      }
     ],
     "prompt_number": 13
    },
    {
     "cell_type": "code",
     "collapsed": false,
     "input": [
      "ex3 = ex2.expand()\n",
      "ex3"
     ],
     "language": "python",
     "metadata": {},
     "outputs": [
      {
       "metadata": {},
       "output_type": "pyout",
       "prompt_number": 14,
       "text": [
        "-5*x**3 - 4*x**2 + 5*x + 4"
       ]
      }
     ],
     "prompt_number": 14
    },
    {
     "cell_type": "code",
     "collapsed": false,
     "input": [
      "ex3.factor()"
     ],
     "language": "python",
     "metadata": {},
     "outputs": [
      {
       "metadata": {},
       "output_type": "pyout",
       "prompt_number": 15,
       "text": [
        "-(x - 1)*(x + 1)*(5*x + 4)"
       ]
      }
     ],
     "prompt_number": 15
    },
    {
     "cell_type": "code",
     "collapsed": false,
     "input": [
      "ex5 = sy.sin(1 + x)**2 / sy.cos(1+x)**2\n",
      "ex5"
     ],
     "language": "python",
     "metadata": {},
     "outputs": [
      {
       "metadata": {},
       "output_type": "pyout",
       "prompt_number": 16,
       "text": [
        "sin(x + 1)**2/cos(x + 1)**2"
       ]
      }
     ],
     "prompt_number": 16
    },
    {
     "cell_type": "code",
     "collapsed": false,
     "input": [
      "ex5.trigsimp()"
     ],
     "language": "python",
     "metadata": {},
     "outputs": [
      {
       "metadata": {},
       "output_type": "pyout",
       "prompt_number": 17,
       "text": [
        "tan(x + 1)**2"
       ]
      }
     ],
     "prompt_number": 17
    },
    {
     "cell_type": "code",
     "collapsed": false,
     "input": [
      "a, b = sy.symbols('a b', positive=True)\n",
      "ex6 = sy.log(a) + sy.log(b) + sy.log(1 + a) - sy.log(1/b)\n",
      "ex6"
     ],
     "language": "python",
     "metadata": {},
     "outputs": [
      {
       "metadata": {},
       "output_type": "pyout",
       "prompt_number": 18,
       "text": [
        "log(a) - log(1/b) + log(b) + log(a + 1)"
       ]
      }
     ],
     "prompt_number": 18
    },
    {
     "cell_type": "code",
     "collapsed": false,
     "input": [
      "ex6.simplify()"
     ],
     "language": "python",
     "metadata": {},
     "outputs": [
      {
       "metadata": {},
       "output_type": "pyout",
       "prompt_number": 19,
       "text": [
        "log(a*b**2*(a + 1))"
       ]
      }
     ],
     "prompt_number": 19
    },
    {
     "cell_type": "code",
     "collapsed": false,
     "input": [
      "ex7 = (3*x**2 + x) / x\n",
      "ex7"
     ],
     "language": "python",
     "metadata": {},
     "outputs": [
      {
       "metadata": {},
       "output_type": "pyout",
       "prompt_number": 20,
       "text": [
        "(3*x**2 + x)/x"
       ]
      }
     ],
     "prompt_number": 20
    },
    {
     "cell_type": "code",
     "collapsed": false,
     "input": [
      "ex7.cancel()"
     ],
     "language": "python",
     "metadata": {},
     "outputs": [
      {
       "metadata": {},
       "output_type": "pyout",
       "prompt_number": 21,
       "text": [
        "3*x + 1"
       ]
      }
     ],
     "prompt_number": 21
    },
    {
     "cell_type": "code",
     "collapsed": false,
     "input": [
      "ex8 = a*sy.log(x) + b*sy.cos(3*x) + t * sy.log(x)\n",
      "ex8"
     ],
     "language": "python",
     "metadata": {},
     "outputs": [
      {
       "metadata": {},
       "output_type": "pyout",
       "prompt_number": 22,
       "text": [
        "a*log(x) + b*cos(3*x) + t*log(x)"
       ]
      }
     ],
     "prompt_number": 22
    },
    {
     "cell_type": "code",
     "collapsed": false,
     "input": [
      "ex8.collect(sy.log(x))"
     ],
     "language": "python",
     "metadata": {},
     "outputs": [
      {
       "metadata": {},
       "output_type": "pyout",
       "prompt_number": 23,
       "text": [
        "b*cos(3*x) + (a + t)*log(x)"
       ]
      }
     ],
     "prompt_number": 23
    },
    {
     "cell_type": "markdown",
     "metadata": {},
     "source": [
      "## Gleichungen\n",
      "\n",
      "Die Gegen\u00fcberstellung zweier Ausdr\u00fccke ergibt eine Gleichung. \n",
      "SymPy ist hier etwas unfreundlich und verlangt die Verwendung des `sympy.Eq` Operators."
     ]
    },
    {
     "cell_type": "code",
     "collapsed": false,
     "input": [
      "eq1 = sy.Eq(3 * x, 9 * x**2 - 2*x - 1)\n",
      "eq1"
     ],
     "language": "python",
     "metadata": {},
     "outputs": [
      {
       "metadata": {},
       "output_type": "pyout",
       "prompt_number": 24,
       "text": [
        "3*x == 9*x**2 - 2*x - 1"
       ]
      }
     ],
     "prompt_number": 24
    },
    {
     "cell_type": "code",
     "collapsed": false,
     "input": [
      "# right-/left-hand-side\n",
      "eq1.rhs"
     ],
     "language": "python",
     "metadata": {},
     "outputs": [
      {
       "metadata": {},
       "output_type": "pyout",
       "prompt_number": 25,
       "text": [
        "9*x**2 - 2*x - 1"
       ]
      }
     ],
     "prompt_number": 25
    },
    {
     "cell_type": "code",
     "collapsed": false,
     "input": [
      "eq1.lhs.subs({x : 42})"
     ],
     "language": "python",
     "metadata": {},
     "outputs": [
      {
       "metadata": {},
       "output_type": "pyout",
       "prompt_number": 26,
       "text": [
        "126"
       ]
      }
     ],
     "prompt_number": 26
    },
    {
     "cell_type": "code",
     "collapsed": false,
     "input": [],
     "language": "python",
     "metadata": {},
     "outputs": [],
     "prompt_number": 26
    },
    {
     "cell_type": "markdown",
     "metadata": {},
     "source": [
      "## L\u00f6sen von Gleichungen: `solve`\n",
      "\n",
      "Eine der Standardanwendungen symbolischer Software is das symbolische L\u00f6sen von Gleichungen bzw. Gleichungssystemen."
     ]
    },
    {
     "cell_type": "code",
     "collapsed": false,
     "input": [
      "eq1_sol = sy.solve(eq1)\n",
      "eq1_sol"
     ],
     "language": "python",
     "metadata": {},
     "outputs": [
      {
       "metadata": {},
       "output_type": "pyout",
       "prompt_number": 27,
       "text": [
        "[5/18 + sqrt(61)/18, -sqrt(61)/18 + 5/18]"
       ]
      }
     ],
     "prompt_number": 27
    },
    {
     "cell_type": "markdown",
     "metadata": {},
     "source": [
      "L\u00f6sung 1 einsetzen:"
     ]
    },
    {
     "cell_type": "code",
     "collapsed": false,
     "input": [
      "eq1_sol1 = eq1.subs({x:eq1_sol[0]})\n",
      "eq1_sol1"
     ],
     "language": "python",
     "metadata": {},
     "outputs": [
      {
       "metadata": {},
       "output_type": "pyout",
       "prompt_number": 28,
       "text": [
        "5/6 + sqrt(61)/6 == -14/9 - sqrt(61)/9 + 9*(5/18 + sqrt(61)/18)**2"
       ]
      }
     ],
     "prompt_number": 28
    },
    {
     "cell_type": "code",
     "collapsed": false,
     "input": [
      "eq1_sol1.expand()"
     ],
     "language": "python",
     "metadata": {},
     "outputs": [
      {
       "metadata": {},
       "output_type": "pyout",
       "prompt_number": 29,
       "text": [
        "True"
       ]
      }
     ],
     "prompt_number": 29
    },
    {
     "cell_type": "markdown",
     "metadata": {},
     "source": [
      "Ein ganzes Gleichungssystem l\u00f6sen.\n",
      "(Die rechte Seite nach links brinen erspart den Aufruf von `Eq( ... )`)"
     ]
    },
    {
     "cell_type": "code",
     "collapsed": false,
     "input": [
      "from sympy.abc import x, y, z\n",
      "\n",
      "eqn3 = [2 * x**2 - y            - 2,\n",
      "        3 * x    - y      - z   + 4,\n",
      "            x    + y      - z   + 8]\n",
      "\n",
      "sol3 = sy.solve(eqn3)\n",
      "\n",
      "for sol in sol3:\n",
      "    subsol = [e.subs(sol).simplify() for e in eqn3]\n",
      "    print(\"%-30s -> eingesetzt: %s\" % (sol, subsol))"
     ],
     "language": "python",
     "metadata": {},
     "outputs": [
      {
       "output_type": "stream",
       "stream": "stdout",
       "text": [
        "{x: 0, z: 6, y: -2}            -> eingesetzt: [0, 0, 0]\n",
        "{x: 1/2, z: 7, y: -3/2}        -> eingesetzt: [0, 0, 0]\n"
       ]
      }
     ],
     "prompt_number": 30
    },
    {
     "cell_type": "markdown",
     "metadata": {},
     "source": [
      "## Limes\n",
      "\n",
      "Die Definition des Limes: \n",
      "    \n",
      "$$\\lim_{x\\to a}f(x)=L \\; \\text{iff} \\; \\forall\\; \\epsilon>0\\; \\exists\\; \\delta \\; \\text{such that} \\; \\forall\\; x: |x-a|<\\delta \\Rightarrow |f(x)-L|\\leq \\epsilon $$"
     ]
    },
    {
     "cell_type": "code",
     "collapsed": false,
     "input": [
      "from sympy import limit\n",
      "from sympy.abc import x"
     ],
     "language": "python",
     "metadata": {},
     "outputs": [],
     "prompt_number": 31
    },
    {
     "cell_type": "code",
     "collapsed": false,
     "input": [
      "f = (3 * x**3) / (1 - 2*x**2 + x**3)"
     ],
     "language": "python",
     "metadata": {},
     "outputs": [],
     "prompt_number": 32
    },
    {
     "cell_type": "markdown",
     "metadata": {},
     "source": [
      "Numerische Approximation\n",
      "\n",
      "`f.subs(<variable>, <wert>)` substituiert hier die angegebene Variable mit dem gegebenen Wert;\n",
      "und `.evalf()` wertet den Ausdruck aus."
     ]
    },
    {
     "cell_type": "code",
     "collapsed": false,
     "input": [
      "for x_val in range(1000, 20000, 1000):\n",
      "    fx = f.subs(x, x_val).evalf()\n",
      "    print(\"%7d -> %14.11f\" % (x_val, fx))"
     ],
     "language": "python",
     "metadata": {},
     "outputs": [
      {
       "output_type": "stream",
       "stream": "stdout",
       "text": [
        "   1000 ->  3.00601202104\n",
        "   2000 ->  3.00300300263\n",
        "   3000 ->  3.00200133411\n",
        "   4000 ->  3.00150075033\n",
        "   5000 ->  3.00120048017\n",
        "   6000 ->  3.00100033343\n",
        "   7000 ->  3.00085738782\n",
        "   8000 ->  3.00075018754\n",
        "   9000 ->  3.00066681484\n",
        "  10000 ->  3.00060012002\n",
        "  11000 ->  3.00054555373\n",
        "  12000 ->  3.00050008335\n",
        "  13000 ->  3.00046160948\n",
        "  14000 ->  3.00042863266\n",
        "  15000 ->  3.00040005334\n",
        "  16000 ->  3.00037504688\n",
        "  17000 ->  3.00035298270\n",
        "  18000 ->  3.00033337037\n",
        "  19000 ->  3.00031582272"
       ]
      },
      {
       "output_type": "stream",
       "stream": "stdout",
       "text": [
        "\n"
       ]
      }
     ],
     "prompt_number": 33
    },
    {
     "cell_type": "code",
     "collapsed": false,
     "input": [
      "limit(f, x, sy.oo)"
     ],
     "language": "python",
     "metadata": {},
     "outputs": [
      {
       "metadata": {},
       "output_type": "pyout",
       "prompt_number": 34,
       "text": [
        "3"
       ]
      }
     ],
     "prompt_number": 34
    },
    {
     "cell_type": "code",
     "collapsed": false,
     "input": [
      "limit(f, x, -sy.oo)"
     ],
     "language": "python",
     "metadata": {},
     "outputs": [
      {
       "metadata": {},
       "output_type": "pyout",
       "prompt_number": 35,
       "text": [
        "3"
       ]
      }
     ],
     "prompt_number": 35
    },
    {
     "cell_type": "code",
     "collapsed": false,
     "input": [
      "limit(f, x, 0)"
     ],
     "language": "python",
     "metadata": {},
     "outputs": [
      {
       "metadata": {},
       "output_type": "pyout",
       "prompt_number": 36,
       "text": [
        "0"
       ]
      }
     ],
     "prompt_number": 36
    },
    {
     "cell_type": "markdown",
     "metadata": {},
     "source": [
      "Dies ist auch mit mehrwertigen Funktionen machbar:"
     ]
    },
    {
     "cell_type": "code",
     "collapsed": false,
     "input": [
      "from sympy import sin\n",
      "from sympy.abc import x, y\n",
      "f2 = (sin(x) + x**2 * y**2 - x**3 * y**3) / (1 - x - 2 * (x + 2 * y)**3)"
     ],
     "language": "python",
     "metadata": {},
     "outputs": [],
     "prompt_number": 37
    },
    {
     "cell_type": "code",
     "collapsed": false,
     "input": [
      "limit(f2, x, sy.oo)"
     ],
     "language": "python",
     "metadata": {},
     "outputs": [
      {
       "metadata": {},
       "output_type": "pyout",
       "prompt_number": 38,
       "text": [
        "0"
       ]
      }
     ],
     "prompt_number": 38
    },
    {
     "cell_type": "code",
     "collapsed": false,
     "input": [
      "limit(f2, y, sy.oo)"
     ],
     "language": "python",
     "metadata": {},
     "outputs": [
      {
       "metadata": {},
       "output_type": "pyout",
       "prompt_number": 39,
       "text": [
        "x**3/16"
       ]
      }
     ],
     "prompt_number": 39
    },
    {
     "cell_type": "markdown",
     "metadata": {},
     "source": [
      "Bei Polstellen ist es wichtig, von welcher Seite der Limes angegangen wird:"
     ]
    },
    {
     "cell_type": "code",
     "collapsed": false,
     "input": [
      "f_pol = 1 / (-27 + x**3)"
     ],
     "language": "python",
     "metadata": {},
     "outputs": [],
     "prompt_number": 40
    },
    {
     "cell_type": "code",
     "collapsed": false,
     "input": [
      "limit(f_pol, x, 3, dir=\"+\")"
     ],
     "language": "python",
     "metadata": {},
     "outputs": [
      {
       "metadata": {},
       "output_type": "pyout",
       "prompt_number": 41,
       "text": [
        "oo"
       ]
      }
     ],
     "prompt_number": 41
    },
    {
     "cell_type": "code",
     "collapsed": false,
     "input": [
      "limit(f_pol, x, 3, dir=\"-\")"
     ],
     "language": "python",
     "metadata": {},
     "outputs": [
      {
       "metadata": {},
       "output_type": "pyout",
       "prompt_number": 42,
       "text": [
        "-oo"
       ]
      }
     ],
     "prompt_number": 42
    },
    {
     "cell_type": "code",
     "collapsed": false,
     "input": [],
     "language": "python",
     "metadata": {},
     "outputs": [],
     "prompt_number": 42
    }
   ],
   "metadata": {}
  }
 ]
}
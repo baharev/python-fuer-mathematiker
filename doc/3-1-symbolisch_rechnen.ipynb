{
 "metadata": {
  "name": "",
  "signature": "sha256:e60621c5dfa8dd6e243a82219d67c80882f5d765be68fbfe7289255a5254a06e"
 },
 "nbformat": 3,
 "nbformat_minor": 0,
 "worksheets": [
  {
   "cells": [
    {
     "cell_type": "markdown",
     "metadata": {},
     "source": [
      "# Symbolisches Rechnen mit SymPy\n",
      "\n",
      "[SymPy](http://www.sympy.org) ist eine Bibliothek f\u00fcr symbolisches Rechnen in Python."
     ]
    },
    {
     "cell_type": "markdown",
     "metadata": {},
     "source": [
      "## Variablen und symblische Ausdr\u00fccke\n",
      "\n",
      "Als allererste Zutat f\u00fcr symblische Ausdr\u00fccke m\u00fcssen Variablen definiert werden.\n",
      "Hierf\u00fcr gibt es entweder die einfache `from sympy.abc import x` Variante,\n",
      "oder \u00fcber die `sympy.symbols` Funktion werden Name(n) und eventuell spezielle Absch\u00e4tzungen (\"ganzzahlig\", ...) festgelegt."
     ]
    },
    {
     "cell_type": "code",
     "collapsed": false,
     "input": [
      "from __future__ import division\n",
      "import sympy as sy"
     ],
     "language": "python",
     "metadata": {},
     "outputs": [],
     "prompt_number": 1
    },
    {
     "cell_type": "code",
     "collapsed": false,
     "input": [
      "from sympy.abc import x, y"
     ],
     "language": "python",
     "metadata": {},
     "outputs": [],
     "prompt_number": 2
    },
    {
     "cell_type": "code",
     "collapsed": false,
     "input": [
      "type(x)"
     ],
     "language": "python",
     "metadata": {},
     "outputs": [
      {
       "metadata": {},
       "output_type": "pyout",
       "prompt_number": 3,
       "text": [
        "sympy.core.symbol.Symbol"
       ]
      }
     ],
     "prompt_number": 3
    },
    {
     "cell_type": "markdown",
     "metadata": {},
     "source": [
      "Ein einfacher, erster Ausdruck:"
     ]
    },
    {
     "cell_type": "code",
     "collapsed": false,
     "input": [
      "x + y"
     ],
     "language": "python",
     "metadata": {},
     "outputs": [
      {
       "metadata": {},
       "output_type": "pyout",
       "prompt_number": 4,
       "text": [
        "x + y"
       ]
      }
     ],
     "prompt_number": 4
    },
    {
     "cell_type": "markdown",
     "metadata": {},
     "source": [
      "... und dessen Typ ist (ein wenig \u00fcberraschend?) `Add`."
     ]
    },
    {
     "cell_type": "code",
     "collapsed": false,
     "input": [
      "type(x + y)"
     ],
     "language": "python",
     "metadata": {},
     "outputs": [
      {
       "metadata": {},
       "output_type": "pyout",
       "prompt_number": 5,
       "text": [
        "sympy.core.add.Add"
       ]
      }
     ],
     "prompt_number": 5
    },
    {
     "cell_type": "markdown",
     "metadata": {},
     "source": [
      "Das liegt daran, dass ein symbolischer Ausdruck ein Baum von Operationen mit Argumenten ist.\n",
      "Die Wurzel ist in diesem Fall die Addition, und die beiden Variablen sind die Argumente der Addition."
     ]
    },
    {
     "cell_type": "markdown",
     "metadata": {},
     "source": [
      "Zusammensetzung eines anderen, gr\u00f6\u00dferen Ausdrucks:"
     ]
    },
    {
     "cell_type": "code",
     "collapsed": false,
     "input": [
      "(2*x**2 + 3) / (y + 5)"
     ],
     "language": "python",
     "metadata": {},
     "outputs": [
      {
       "metadata": {},
       "output_type": "pyout",
       "prompt_number": 6,
       "text": [
        "(2*x**2 + 3)/(y + 5)"
       ]
      }
     ],
     "prompt_number": 6
    },
    {
     "cell_type": "markdown",
     "metadata": {},
     "source": [
      "Zuweisung an eine Variable und Auswertung durch Substitution:"
     ]
    },
    {
     "cell_type": "code",
     "collapsed": false,
     "input": [
      "ex1 = (2*x**2 + 3) / (y + 5)\n",
      "ex1.subs(x, 21)"
     ],
     "language": "python",
     "metadata": {},
     "outputs": [
      {
       "metadata": {},
       "output_type": "pyout",
       "prompt_number": 7,
       "text": [
        "885/(y + 5)"
       ]
      }
     ],
     "prompt_number": 7
    },
    {
     "cell_type": "code",
     "collapsed": false,
     "input": [
      "ex1.subs({x : 11, y : 3.14})"
     ],
     "language": "python",
     "metadata": {},
     "outputs": [
      {
       "metadata": {},
       "output_type": "pyout",
       "prompt_number": 8,
       "text": [
        "30.0982800982801"
       ]
      }
     ],
     "prompt_number": 8
    },
    {
     "cell_type": "markdown",
     "metadata": {},
     "source": [
      "`.evalf()` wertet Ausdr\u00fccke numerisch aus:"
     ]
    },
    {
     "cell_type": "code",
     "collapsed": false,
     "input": [
      "from sympy import pi, sin, sqrt\n",
      "ex2 = sqrt(2 * sin(x)) / pi\n",
      "ex2"
     ],
     "language": "python",
     "metadata": {},
     "outputs": [
      {
       "metadata": {},
       "output_type": "pyout",
       "prompt_number": 9,
       "text": [
        "sqrt(2)*sqrt(sin(x))/pi"
       ]
      }
     ],
     "prompt_number": 9
    },
    {
     "cell_type": "code",
     "collapsed": false,
     "input": [
      "ex2.evalf(subs = {x : 1})"
     ],
     "language": "python",
     "metadata": {},
     "outputs": [
      {
       "metadata": {},
       "output_type": "pyout",
       "prompt_number": 10,
       "text": [
        "0.412937855327941"
       ]
      }
     ],
     "prompt_number": 10
    },
    {
     "cell_type": "code",
     "collapsed": false,
     "input": [
      "ex2.evalf(100, subs = {x : 1})"
     ],
     "language": "python",
     "metadata": {},
     "outputs": [
      {
       "metadata": {},
       "output_type": "pyout",
       "prompt_number": 11,
       "text": [
        "0.4129378553279408383569413918993854348289426830297614114255099495993100683862339505790006113904633237"
       ]
      }
     ],
     "prompt_number": 11
    },
    {
     "cell_type": "markdown",
     "metadata": {},
     "source": [
      "Sympy's \"`srepr`\" Funktion zeigt den Aufbau des Ausdrucks als Komposition aller Funktionen an:"
     ]
    },
    {
     "cell_type": "code",
     "collapsed": false,
     "input": [
      "sy.srepr(ex1)"
     ],
     "language": "python",
     "metadata": {},
     "outputs": [
      {
       "metadata": {},
       "output_type": "pyout",
       "prompt_number": 12,
       "text": [
        "\"Mul(Add(Mul(Integer(2), Pow(Symbol('x'), Integer(2))), Integer(3)), Pow(Add(Symbol('y'), Integer(5)), Integer(-1)))\""
       ]
      }
     ],
     "prompt_number": 12
    },
    {
     "cell_type": "markdown",
     "metadata": {},
     "source": [
      "### 2D-Text Darstellung\n",
      "\n",
      "Der Ausdruck wird in [ASCII-Art](http://en.wikipedia.org/wiki/ASCII_art) umgewandelt."
     ]
    },
    {
     "cell_type": "code",
     "collapsed": false,
     "input": [
      "sy.pprint(ex1)"
     ],
     "language": "python",
     "metadata": {},
     "outputs": [
      {
       "output_type": "stream",
       "stream": "stdout",
       "text": [
        "   2    \n",
        "2\u22c5x  + 3\n",
        "\u2500\u2500\u2500\u2500\u2500\u2500\u2500\u2500\n",
        " y + 5  \n"
       ]
      }
     ],
     "prompt_number": 13
    },
    {
     "cell_type": "markdown",
     "metadata": {},
     "source": [
      "### LaTeX Konvertierung und Darstellung\n",
      "\n",
      "Sympy's `latex()` Funktion konvertiert den Ausdruck zu einem entsprechenden LaTeX-Formel string.\n",
      "Anschlie\u00dfend zeigt die `Math()` Funktion von IPython diese LaTeX Formel hier im Notebook an."
     ]
    },
    {
     "cell_type": "code",
     "collapsed": false,
     "input": [
      "sy.latex(ex1)"
     ],
     "language": "python",
     "metadata": {},
     "outputs": [
      {
       "metadata": {},
       "output_type": "pyout",
       "prompt_number": 14,
       "text": [
        "'\\\\frac{2 x^{2} + 3}{y + 5}'"
       ]
      }
     ],
     "prompt_number": 14
    },
    {
     "cell_type": "code",
     "collapsed": false,
     "input": [
      "from IPython.display import Math\n",
      "Math(sy.latex(ex1))"
     ],
     "language": "python",
     "metadata": {},
     "outputs": [
      {
       "latex": [
        "$$\\frac{2 x^{2} + 3}{y + 5}$$"
       ],
       "metadata": {},
       "output_type": "pyout",
       "prompt_number": 15,
       "text": [
        "<IPython.core.display.Math at 0x2c7a790>"
       ]
      }
     ],
     "prompt_number": 15
    },
    {
     "cell_type": "markdown",
     "metadata": {},
     "source": [
      "## IPython Notebook Support f\u00fcr SymPy Ausdr\u00fccke\n",
      "\n",
      "Durch einmaliges Ausf\u00fchren von `init_printing()` werden alle SymPy Ausdr\u00fccke automatisch in $\\LaTeX{}$ dargestellt."
     ]
    },
    {
     "cell_type": "code",
     "collapsed": false,
     "input": [
      "from sympy import init_printing\n",
      "init_printing()"
     ],
     "language": "python",
     "metadata": {},
     "outputs": [],
     "prompt_number": 16
    },
    {
     "cell_type": "code",
     "collapsed": false,
     "input": [
      "ex1"
     ],
     "language": "python",
     "metadata": {},
     "outputs": [
      {
       "latex": [
        "$$\\frac{2 x^{2} + 3}{y + 5}$$"
       ],
       "metadata": {},
       "output_type": "pyout",
       "png": "[encoded data removed]",
       "prompt_number": 17,
       "text": [
        "   2    \n",
        "2\u22c5x  + 3\n",
        "\u2500\u2500\u2500\u2500\u2500\u2500\u2500\u2500\n",
        " y + 5  "
       ]
      }
     ],
     "prompt_number": 17
    },
    {
     "cell_type": "markdown",
     "metadata": {},
     "source": [
      "### Grafische Darstellung\n",
      "\n",
      "Den Baum des symbolischen Ausdruckt kann man auch grafisch Darstellen.\n",
      "Zuerst konvertiert `dotprint` den Ausdruck in das `dot`-Format zur Visualisierung von Graphen,\n",
      "und dann wird es mit dem passenden Linux Utility gerendert und dargestellt."
     ]
    },
    {
     "cell_type": "code",
     "collapsed": false,
     "input": [
      "def expr_to_dotgraph(name, expr):\n",
      "    from sympy.printing.dot import dotprint\n",
      "\n",
      "    # input and output filenames\n",
      "    import os\n",
      "    fname = os.path.join(\"res\", name)\n",
      "    fname_dot = fname + \".dot\"\n",
      "    fname_svg = fname + \".svg\"\n",
      "\n",
      "    # writing the output of dotprint to the given file\n",
      "    with open(fname_dot, \"w\") as dot_file:\n",
      "        dot_file.write(dotprint(expr))\n",
      "\n",
      "    # rendering the *.dot to *.svg\n",
      "    ! dot -Tsvg -o $fname_svg $fname_dot\n",
      "\n",
      "    # showing the resulting *.svg file here in the notebook\n",
      "    from IPython.display import SVG\n",
      "    return SVG(filename = fname_svg)"
     ],
     "language": "python",
     "metadata": {},
     "outputs": [],
     "prompt_number": 18
    },
    {
     "cell_type": "code",
     "collapsed": false,
     "input": [
      "expr_to_dotgraph(\"sympy-ex1\", ex1)"
     ],
     "language": "python",
     "metadata": {},
     "outputs": [
      {
       "metadata": {},
       "output_type": "pyout",
       "prompt_number": 19,
       "svg": [
        "<svg height=\"342pt\" viewBox=\"0.00 0.00 357.00 342.00\" width=\"357pt\" xmlns=\"http://www.w3.org/2000/svg\" xmlns:xlink=\"http://www.w3.org/1999/xlink\">\n",
        "<g class=\"graph\" id=\"graph1\" transform=\"scale(1 1) rotate(0) translate(4 338)\">\n",
        "<title>_anonymous_0</title>\n",
        "<polygon fill=\"white\" points=\"-4,5 -4,-338 354,-338 354,5 -4,5\" stroke=\"white\"/>\n",
        "<!-- Mul(Add(Integer(3), Mul(Integer(2), Pow(Symbol(x), Integer(2)))), Pow(Add(Integer(5), Symbol(y)), NegativeOne()))_() -->\n",
        "<g class=\"node\" id=\"node1\"><title>Mul(Add(Integer(3), Mul(Integer(2), Pow(Symbol(x), Integer(2)))), Pow(Add(Integer(5), Symbol(y)), NegativeOne()))_()</title>\n",
        "<ellipse cx=\"159\" cy=\"-315\" fill=\"none\" rx=\"28.9914\" ry=\"18.3848\" stroke=\"black\"/>\n",
        "<text font-family=\"Times Roman,serif\" font-size=\"14.00\" text-anchor=\"middle\" x=\"159\" y=\"-311.4\">Mul</text>\n",
        "</g>\n",
        "<!-- Pow(Add(Integer(5), Symbol(y)), NegativeOne())_(0,) -->\n",
        "<g class=\"node\" id=\"node2\"><title>Pow(Add(Integer(5), Symbol(y)), NegativeOne())_(0,)</title>\n",
        "<ellipse cx=\"119\" cy=\"-241\" fill=\"none\" rx=\"32.0265\" ry=\"18.3848\" stroke=\"black\"/>\n",
        "<text font-family=\"Times Roman,serif\" font-size=\"14.00\" text-anchor=\"middle\" x=\"119\" y=\"-237.4\">Pow</text>\n",
        "</g>\n",
        "<!-- Mul(Add(Integer(3), Mul(Integer(2), Pow(Symbol(x), Integer(2)))), Pow(Add(Integer(5), Symbol(y)), NegativeOne()))_()&#45;&gt;Pow(Add(Integer(5), Symbol(y)), NegativeOne())_(0,) -->\n",
        "<g class=\"edge\" id=\"edge2\"><title>Mul(Add(Integer(3), Mul(Integer(2), Pow(Symbol(x), Integer(2)))), Pow(Add(Integer(5), Symbol(y)), NegativeOne()))_()-&gt;Pow(Add(Integer(5), Symbol(y)), NegativeOne())_(0,)</title>\n",
        "<path d=\"M149.521,-297.463C144.724,-288.589 138.798,-277.626 133.447,-267.728\" fill=\"none\" stroke=\"black\"/>\n",
        "<polygon fill=\"black\" points=\"136.384,-265.8 128.55,-258.668 130.226,-269.129 136.384,-265.8\" stroke=\"black\"/>\n",
        "</g>\n",
        "<!-- Add(Integer(3), Mul(Integer(2), Pow(Symbol(x), Integer(2))))_(1,) -->\n",
        "<g class=\"node\" id=\"node7\"><title>Add(Integer(3), Mul(Integer(2), Pow(Symbol(x), Integer(2))))_(1,)</title>\n",
        "<ellipse cx=\"199\" cy=\"-241\" fill=\"none\" rx=\"29.9071\" ry=\"18.3848\" stroke=\"black\"/>\n",
        "<text font-family=\"Times Roman,serif\" font-size=\"14.00\" text-anchor=\"middle\" x=\"199\" y=\"-237.4\">Add</text>\n",
        "</g>\n",
        "<!-- Mul(Add(Integer(3), Mul(Integer(2), Pow(Symbol(x), Integer(2)))), Pow(Add(Integer(5), Symbol(y)), NegativeOne()))_()&#45;&gt;Add(Integer(3), Mul(Integer(2), Pow(Symbol(x), Integer(2))))_(1,) -->\n",
        "<g class=\"edge\" id=\"edge4\"><title>Mul(Add(Integer(3), Mul(Integer(2), Pow(Symbol(x), Integer(2)))), Pow(Add(Integer(5), Symbol(y)), NegativeOne()))_()-&gt;Add(Integer(3), Mul(Integer(2), Pow(Symbol(x), Integer(2))))_(1,)</title>\n",
        "<path d=\"M168.479,-297.463C173.276,-288.589 179.202,-277.626 184.553,-267.728\" fill=\"none\" stroke=\"black\"/>\n",
        "<polygon fill=\"black\" points=\"187.774,-269.129 189.45,-258.668 181.616,-265.8 187.774,-269.129\" stroke=\"black\"/>\n",
        "</g>\n",
        "<!-- Add(Integer(5), Symbol(y))_(0, 0) -->\n",
        "<g class=\"node\" id=\"node3\"><title>Add(Integer(5), Symbol(y))_(0, 0)</title>\n",
        "<ellipse cx=\"46\" cy=\"-167\" fill=\"none\" rx=\"29.9071\" ry=\"18.3848\" stroke=\"black\"/>\n",
        "<text font-family=\"Times Roman,serif\" font-size=\"14.00\" text-anchor=\"middle\" x=\"46\" y=\"-163.4\">Add</text>\n",
        "</g>\n",
        "<!-- Pow(Add(Integer(5), Symbol(y)), NegativeOne())_(0,)&#45;&gt;Add(Integer(5), Symbol(y))_(0, 0) -->\n",
        "<g class=\"edge\" id=\"edge6\"><title>Pow(Add(Integer(5), Symbol(y)), NegativeOne())_(0,)-&gt;Add(Integer(5), Symbol(y))_(0, 0)</title>\n",
        "<path d=\"M102.799,-224.577C92.8333,-214.475 79.9076,-201.372 68.9048,-190.219\" fill=\"none\" stroke=\"black\"/>\n",
        "<polygon fill=\"black\" points=\"71.1692,-187.53 61.6547,-182.869 66.1859,-192.446 71.1692,-187.53\" stroke=\"black\"/>\n",
        "</g>\n",
        "<!-- NegativeOne()_(0, 1) -->\n",
        "<g class=\"node\" id=\"node6\"><title>NegativeOne()_(0, 1)</title>\n",
        "<ellipse cx=\"121\" cy=\"-167\" fill=\"none\" rx=\"27\" ry=\"18.3848\" stroke=\"black\"/>\n",
        "<text font-family=\"Times Roman,serif\" font-size=\"14.00\" text-anchor=\"middle\" x=\"121\" y=\"-163.4\">-1</text>\n",
        "</g>\n",
        "<!-- Pow(Add(Integer(5), Symbol(y)), NegativeOne())_(0,)&#45;&gt;NegativeOne()_(0, 1) -->\n",
        "<g class=\"edge\" id=\"edge8\"><title>Pow(Add(Integer(5), Symbol(y)), NegativeOne())_(0,)-&gt;NegativeOne()_(0, 1)</title>\n",
        "<path d=\"M119.505,-222.327C119.723,-214.264 119.982,-204.648 120.224,-195.711\" fill=\"none\" stroke=\"black\"/>\n",
        "<polygon fill=\"black\" points=\"123.724,-195.758 120.495,-185.667 116.726,-195.569 123.724,-195.758\" stroke=\"black\"/>\n",
        "</g>\n",
        "<!-- Integer(5)_(0, 0, 0) -->\n",
        "<g class=\"node\" id=\"node4\"><title>Integer(5)_(0, 0, 0)</title>\n",
        "<ellipse cx=\"27\" cy=\"-93\" fill=\"none\" rx=\"27\" ry=\"18.3848\" stroke=\"black\"/>\n",
        "<text font-family=\"Times Roman,serif\" font-size=\"14.00\" text-anchor=\"middle\" x=\"27\" y=\"-89.4\">5</text>\n",
        "</g>\n",
        "<!-- Add(Integer(5), Symbol(y))_(0, 0)&#45;&gt;Integer(5)_(0, 0, 0) -->\n",
        "<g class=\"edge\" id=\"edge10\"><title>Add(Integer(5), Symbol(y))_(0, 0)-&gt;Integer(5)_(0, 0, 0)</title>\n",
        "<path d=\"M41.3034,-148.708C39.1795,-140.436 36.6211,-130.472 34.2587,-121.271\" fill=\"none\" stroke=\"black\"/>\n",
        "<polygon fill=\"black\" points=\"37.5855,-120.154 31.7084,-111.338 30.8054,-121.894 37.5855,-120.154\" stroke=\"black\"/>\n",
        "</g>\n",
        "<!-- Symbol(y)_(0, 0, 1) -->\n",
        "<g class=\"node\" id=\"node5\"><title>Symbol(y)_(0, 0, 1)</title>\n",
        "<ellipse cx=\"99\" cy=\"-93\" fill=\"none\" rx=\"27\" ry=\"18.3848\" stroke=\"black\"/>\n",
        "<text font-family=\"Times Roman,serif\" font-size=\"14.00\" text-anchor=\"middle\" x=\"99\" y=\"-89.4\">y</text>\n",
        "</g>\n",
        "<!-- Add(Integer(5), Symbol(y))_(0, 0)&#45;&gt;Symbol(y)_(0, 0, 1) -->\n",
        "<g class=\"edge\" id=\"edge12\"><title>Add(Integer(5), Symbol(y))_(0, 0)-&gt;Symbol(y)_(0, 0, 1)</title>\n",
        "<path d=\"M58.2925,-149.837C65.0295,-140.43 73.506,-128.595 80.9775,-118.164\" fill=\"none\" stroke=\"black\"/>\n",
        "<polygon fill=\"black\" points=\"83.9796,-119.983 86.9569,-109.815 78.2886,-115.907 83.9796,-119.983\" stroke=\"black\"/>\n",
        "</g>\n",
        "<!-- Integer(3)_(1, 0) -->\n",
        "<g class=\"node\" id=\"node8\"><title>Integer(3)_(1, 0)</title>\n",
        "<ellipse cx=\"197\" cy=\"-167\" fill=\"none\" rx=\"27\" ry=\"18.3848\" stroke=\"black\"/>\n",
        "<text font-family=\"Times Roman,serif\" font-size=\"14.00\" text-anchor=\"middle\" x=\"197\" y=\"-163.4\">3</text>\n",
        "</g>\n",
        "<!-- Add(Integer(3), Mul(Integer(2), Pow(Symbol(x), Integer(2))))_(1,)&#45;&gt;Integer(3)_(1, 0) -->\n",
        "<g class=\"edge\" id=\"edge14\"><title>Add(Integer(3), Mul(Integer(2), Pow(Symbol(x), Integer(2))))_(1,)-&gt;Integer(3)_(1, 0)</title>\n",
        "<path d=\"M198.495,-222.327C198.277,-214.264 198.018,-204.648 197.776,-195.711\" fill=\"none\" stroke=\"black\"/>\n",
        "<polygon fill=\"black\" points=\"201.274,-195.569 197.505,-185.667 194.276,-195.758 201.274,-195.569\" stroke=\"black\"/>\n",
        "</g>\n",
        "<!-- Mul(Integer(2), Pow(Symbol(x), Integer(2)))_(1, 1) -->\n",
        "<g class=\"node\" id=\"node9\"><title>Mul(Integer(2), Pow(Symbol(x), Integer(2)))_(1, 1)</title>\n",
        "<ellipse cx=\"271\" cy=\"-167\" fill=\"none\" rx=\"28.9914\" ry=\"18.3848\" stroke=\"black\"/>\n",
        "<text font-family=\"Times Roman,serif\" font-size=\"14.00\" text-anchor=\"middle\" x=\"271\" y=\"-163.4\">Mul</text>\n",
        "</g>\n",
        "<!-- Add(Integer(3), Mul(Integer(2), Pow(Symbol(x), Integer(2))))_(1,)&#45;&gt;Mul(Integer(2), Pow(Symbol(x), Integer(2)))_(1, 1) -->\n",
        "<g class=\"edge\" id=\"edge16\"><title>Add(Integer(3), Mul(Integer(2), Pow(Symbol(x), Integer(2))))_(1,)-&gt;Mul(Integer(2), Pow(Symbol(x), Integer(2)))_(1, 1)</title>\n",
        "<path d=\"M214.623,-224.943C224.503,-214.789 237.435,-201.497 248.421,-190.206\" fill=\"none\" stroke=\"black\"/>\n",
        "<polygon fill=\"black\" points=\"251.19,-192.379 255.655,-182.771 246.173,-187.498 251.19,-192.379\" stroke=\"black\"/>\n",
        "</g>\n",
        "<!-- Integer(2)_(1, 1, 0) -->\n",
        "<g class=\"node\" id=\"node10\"><title>Integer(2)_(1, 1, 0)</title>\n",
        "<ellipse cx=\"209\" cy=\"-93\" fill=\"none\" rx=\"27\" ry=\"18.3848\" stroke=\"black\"/>\n",
        "<text font-family=\"Times Roman,serif\" font-size=\"14.00\" text-anchor=\"middle\" x=\"209\" y=\"-89.4\">2</text>\n",
        "</g>\n",
        "<!-- Mul(Integer(2), Pow(Symbol(x), Integer(2)))_(1, 1)&#45;&gt;Integer(2)_(1, 1, 0) -->\n",
        "<g class=\"edge\" id=\"edge18\"><title>Mul(Integer(2), Pow(Symbol(x), Integer(2)))_(1, 1)-&gt;Integer(2)_(1, 1, 0)</title>\n",
        "<path d=\"M257.24,-150.577C248.996,-140.737 238.366,-128.05 229.184,-117.091\" fill=\"none\" stroke=\"black\"/>\n",
        "<polygon fill=\"black\" points=\"231.613,-114.54 222.508,-109.122 226.247,-119.035 231.613,-114.54\" stroke=\"black\"/>\n",
        "</g>\n",
        "<!-- Pow(Symbol(x), Integer(2))_(1, 1, 1) -->\n",
        "<g class=\"node\" id=\"node11\"><title>Pow(Symbol(x), Integer(2))_(1, 1, 1)</title>\n",
        "<ellipse cx=\"286\" cy=\"-93\" fill=\"none\" rx=\"32.0265\" ry=\"18.3848\" stroke=\"black\"/>\n",
        "<text font-family=\"Times Roman,serif\" font-size=\"14.00\" text-anchor=\"middle\" x=\"286\" y=\"-89.4\">Pow</text>\n",
        "</g>\n",
        "<!-- Mul(Integer(2), Pow(Symbol(x), Integer(2)))_(1, 1)&#45;&gt;Pow(Symbol(x), Integer(2))_(1, 1, 1) -->\n",
        "<g class=\"edge\" id=\"edge20\"><title>Mul(Integer(2), Pow(Symbol(x), Integer(2)))_(1, 1)-&gt;Pow(Symbol(x), Integer(2))_(1, 1, 1)</title>\n",
        "<path d=\"M274.785,-148.327C276.45,-140.114 278.441,-130.29 280.281,-121.214\" fill=\"none\" stroke=\"black\"/>\n",
        "<polygon fill=\"black\" points=\"283.712,-121.907 282.268,-111.411 276.851,-120.516 283.712,-121.907\" stroke=\"black\"/>\n",
        "</g>\n",
        "<!-- Symbol(x)_(1, 1, 1, 0) -->\n",
        "<g class=\"node\" id=\"node12\"><title>Symbol(x)_(1, 1, 1, 0)</title>\n",
        "<ellipse cx=\"250\" cy=\"-19\" fill=\"none\" rx=\"27\" ry=\"18.3848\" stroke=\"black\"/>\n",
        "<text font-family=\"Times Roman,serif\" font-size=\"14.00\" text-anchor=\"middle\" x=\"250\" y=\"-15.4\">x</text>\n",
        "</g>\n",
        "<!-- Pow(Symbol(x), Integer(2))_(1, 1, 1)&#45;&gt;Symbol(x)_(1, 1, 1, 0) -->\n",
        "<g class=\"edge\" id=\"edge22\"><title>Pow(Symbol(x), Integer(2))_(1, 1, 1)-&gt;Symbol(x)_(1, 1, 1, 0)</title>\n",
        "<path d=\"M277.285,-75.0867C273.04,-66.3607 267.846,-55.6843 263.134,-45.9971\" fill=\"none\" stroke=\"black\"/>\n",
        "<polygon fill=\"black\" points=\"266.156,-44.2096 258.634,-36.7484 259.862,-47.2719 266.156,-44.2096\" stroke=\"black\"/>\n",
        "</g>\n",
        "<!-- Integer(2)_(1, 1, 1, 1) -->\n",
        "<g class=\"node\" id=\"node13\"><title>Integer(2)_(1, 1, 1, 1)</title>\n",
        "<ellipse cx=\"322\" cy=\"-19\" fill=\"none\" rx=\"27\" ry=\"18.3848\" stroke=\"black\"/>\n",
        "<text font-family=\"Times Roman,serif\" font-size=\"14.00\" text-anchor=\"middle\" x=\"322\" y=\"-15.4\">2</text>\n",
        "</g>\n",
        "<!-- Pow(Symbol(x), Integer(2))_(1, 1, 1)&#45;&gt;Integer(2)_(1, 1, 1, 1) -->\n",
        "<g class=\"edge\" id=\"edge24\"><title>Pow(Symbol(x), Integer(2))_(1, 1, 1)-&gt;Integer(2)_(1, 1, 1, 1)</title>\n",
        "<path d=\"M294.715,-75.0867C298.96,-66.3607 304.154,-55.6843 308.866,-45.9971\" fill=\"none\" stroke=\"black\"/>\n",
        "<polygon fill=\"black\" points=\"312.138,-47.2719 313.366,-36.7484 305.844,-44.2096 312.138,-47.2719\" stroke=\"black\"/>\n",
        "</g>\n",
        "</g>\n",
        "</svg>"
       ],
       "text": [
        "<IPython.core.display.SVG at 0x2c7aa50>"
       ]
      }
     ],
     "prompt_number": 19
    },
    {
     "cell_type": "markdown",
     "metadata": {},
     "source": [
      "## Spezielle Variablen\n",
      "\n",
      "**Ganzzahlig:** $i \\in \\mathbb{Z}$:"
     ]
    },
    {
     "cell_type": "code",
     "collapsed": false,
     "input": [
      "i = sy.symbols(\"i\", integer=True)\n",
      "i.is_integer"
     ],
     "language": "python",
     "metadata": {},
     "outputs": [
      {
       "metadata": {},
       "output_type": "pyout",
       "prompt_number": 20,
       "text": [
        "True"
       ]
      }
     ],
     "prompt_number": 20
    },
    {
     "cell_type": "code",
     "collapsed": false,
     "input": [
      "(3*i + 1).is_integer"
     ],
     "language": "python",
     "metadata": {},
     "outputs": [
      {
       "metadata": {},
       "output_type": "pyout",
       "prompt_number": 21,
       "text": [
        "True"
       ]
      }
     ],
     "prompt_number": 21
    },
    {
     "cell_type": "code",
     "collapsed": false,
     "input": [
      "print(i.is_nonnegative)"
     ],
     "language": "python",
     "metadata": {},
     "outputs": [
      {
       "output_type": "stream",
       "stream": "stdout",
       "text": [
        "None\n"
       ]
      }
     ],
     "prompt_number": 22
    },
    {
     "cell_type": "markdown",
     "metadata": {},
     "source": [
      "**Reel und nicht negativ**: $t \\in\\mathbb{R}\\;\\bigwedge\\;t \\geq 0$"
     ]
    },
    {
     "cell_type": "code",
     "collapsed": false,
     "input": [
      "t = sy.symbols(\"t\", real=True, nonnegative=True)\n",
      "print((3*t).is_nonnegative)"
     ],
     "language": "python",
     "metadata": {},
     "outputs": [
      {
       "output_type": "stream",
       "stream": "stdout",
       "text": [
        "True\n"
       ]
      }
     ],
     "prompt_number": 23
    },
    {
     "cell_type": "code",
     "collapsed": false,
     "input": [
      "print(t.is_real)"
     ],
     "language": "python",
     "metadata": {},
     "outputs": [
      {
       "output_type": "stream",
       "stream": "stdout",
       "text": [
        "True\n"
       ]
      }
     ],
     "prompt_number": 24
    },
    {
     "cell_type": "code",
     "collapsed": false,
     "input": [
      "print((i * t).is_integer)"
     ],
     "language": "python",
     "metadata": {},
     "outputs": [
      {
       "output_type": "stream",
       "stream": "stdout",
       "text": [
        "None\n"
       ]
      }
     ],
     "prompt_number": 25
    },
    {
     "cell_type": "code",
     "collapsed": false,
     "input": [
      "# squared value plus non-negative variable is non-negative\n",
      "print((i**2 + t).is_nonnegative)"
     ],
     "language": "python",
     "metadata": {},
     "outputs": [
      {
       "output_type": "stream",
       "stream": "stdout",
       "text": [
        "True\n"
       ]
      }
     ],
     "prompt_number": 26
    },
    {
     "cell_type": "markdown",
     "metadata": {},
     "source": [
      "## Manipulieren eines Ausdrucks\n",
      "\n",
      "Hiervon gibt es verschiedene Varianten, je nach dem welche Art der Vereinfachung vorgenommen werden soll. \n",
      "\n",
      "* `.simplify()`: probiert intern einige Varianten, bewertet die Verbesserungen (wenn vorhanden), und sucht die beste aus.\n",
      "* `.expand()`: Ausmultiplizieren, ...\n",
      "* `.collect(<variable>)`: Herausziehen eines oder mehrerer Faktoren bzw. Subausdr\u00fccke\n",
      "* `.factor()`: Faktorisieren\n",
      "* `.cancel()`: K\u00fcrzen\n",
      "* `.trigsimp()`: Trigonometrische Formeln\n",
      "* usw. [siehe Dokumentation](http://docs.sympy.org/latest/tutorial/simplification.html)"
     ]
    },
    {
     "cell_type": "code",
     "collapsed": false,
     "input": [
      "ex2 =  (1 - x) * (4 + 5 * x) * (1 + x)\n",
      "ex2"
     ],
     "language": "python",
     "metadata": {},
     "outputs": [
      {
       "latex": [
        "$$\\left(- x + 1\\right) \\left(x + 1\\right) \\left(5 x + 4\\right)$$"
       ],
       "metadata": {},
       "output_type": "pyout",
       "png": "[encoded data removed]",
       "prompt_number": 27,
       "text": [
        "(-x + 1)\u22c5(x + 1)\u22c5(5\u22c5x + 4)"
       ]
      }
     ],
     "prompt_number": 27
    },
    {
     "cell_type": "code",
     "collapsed": false,
     "input": [
      "ex3 = ex2.expand()\n",
      "ex3"
     ],
     "language": "python",
     "metadata": {},
     "outputs": [
      {
       "latex": [
        "$$- 5 x^{3} - 4 x^{2} + 5 x + 4$$"
       ],
       "metadata": {},
       "output_type": "pyout",
       "png": "[encoded data removed]",
       "prompt_number": 28,
       "text": [
        "     3      2          \n",
        "- 5\u22c5x  - 4\u22c5x  + 5\u22c5x + 4"
       ]
      }
     ],
     "prompt_number": 28
    },
    {
     "cell_type": "code",
     "collapsed": false,
     "input": [
      "ex3.factor()"
     ],
     "language": "python",
     "metadata": {},
     "outputs": [
      {
       "latex": [
        "$$- \\left(x - 1\\right) \\left(x + 1\\right) \\left(5 x + 4\\right)$$"
       ],
       "metadata": {},
       "output_type": "pyout",
       "png": "[encoded data removed]",
       "prompt_number": 29,
       "text": [
        "-(x - 1)\u22c5(x + 1)\u22c5(5\u22c5x + 4)"
       ]
      }
     ],
     "prompt_number": 29
    },
    {
     "cell_type": "code",
     "collapsed": false,
     "input": [
      "ex5 = sy.sin(1 + x)**2 / sy.cos(1+x)**2\n",
      "ex5"
     ],
     "language": "python",
     "metadata": {},
     "outputs": [
      {
       "latex": [
        "$$\\frac{\\sin^{2}{\\left (x + 1 \\right )}}{\\cos^{2}{\\left (x + 1 \\right )}}$$"
       ],
       "metadata": {},
       "output_type": "pyout",
       "png": "[encoded data removed]",
       "prompt_number": 30,
       "text": [
        "   2       \n",
        "sin (x + 1)\n",
        "\u2500\u2500\u2500\u2500\u2500\u2500\u2500\u2500\u2500\u2500\u2500\n",
        "   2       \n",
        "cos (x + 1)"
       ]
      }
     ],
     "prompt_number": 30
    },
    {
     "cell_type": "code",
     "collapsed": false,
     "input": [
      "ex5.trigsimp()"
     ],
     "language": "python",
     "metadata": {},
     "outputs": [
      {
       "latex": [
        "$$\\tan^{2}{\\left (x + 1 \\right )}$$"
       ],
       "metadata": {},
       "output_type": "pyout",
       "png": "[encoded data removed]",
       "prompt_number": 31,
       "text": [
        "   2       \n",
        "tan (x + 1)"
       ]
      }
     ],
     "prompt_number": 31
    },
    {
     "cell_type": "code",
     "collapsed": false,
     "input": [
      "a, b = sy.symbols('a b', positive=True)\n",
      "ex6 = sy.log(a) + sy.log(b) + sy.log(1 + a) - sy.log(1/b)\n",
      "ex6"
     ],
     "language": "python",
     "metadata": {},
     "outputs": [
      {
       "latex": [
        "$$\\log{\\left (a \\right )} - \\log{\\left (\\frac{1}{b} \\right )} + \\log{\\left (b \\right )} + \\log{\\left (a + 1 \\right )}$$"
       ],
       "metadata": {},
       "output_type": "pyout",
       "png": "[encoded data removed]",
       "prompt_number": 32,
       "text": [
        "            \u239b1\u239e                      \n",
        "log(a) - log\u239c\u2500\u239f + log(b) + log(a + 1)\n",
        "            \u239db\u23a0                      "
       ]
      }
     ],
     "prompt_number": 32
    },
    {
     "cell_type": "code",
     "collapsed": false,
     "input": [
      "ex6.simplify()"
     ],
     "language": "python",
     "metadata": {},
     "outputs": [
      {
       "latex": [
        "$$\\log{\\left (a b^{2} \\left(a + 1\\right) \\right )}$$"
       ],
       "metadata": {},
       "output_type": "pyout",
       "png": "[encoded data removed]",
       "prompt_number": 33,
       "text": [
        "   \u239b   2        \u239e\n",
        "log\u239da\u22c5b \u22c5(a + 1)\u23a0"
       ]
      }
     ],
     "prompt_number": 33
    },
    {
     "cell_type": "code",
     "collapsed": false,
     "input": [
      "ex7 = (3*x**2 + x) / x\n",
      "ex7"
     ],
     "language": "python",
     "metadata": {},
     "outputs": [
      {
       "latex": [
        "$$\\frac{1}{x} \\left(3 x^{2} + x\\right)$$"
       ],
       "metadata": {},
       "output_type": "pyout",
       "png": "[encoded data removed]",
       "prompt_number": 34,
       "text": [
        "   2    \n",
        "3\u22c5x  + x\n",
        "\u2500\u2500\u2500\u2500\u2500\u2500\u2500\u2500\n",
        "   x    "
       ]
      }
     ],
     "prompt_number": 34
    },
    {
     "cell_type": "code",
     "collapsed": false,
     "input": [
      "ex7.cancel()"
     ],
     "language": "python",
     "metadata": {},
     "outputs": [
      {
       "latex": [
        "$$3 x + 1$$"
       ],
       "metadata": {},
       "output_type": "pyout",
       "png": "[encoded data removed]",
       "prompt_number": 35,
       "text": [
        "3\u22c5x + 1"
       ]
      }
     ],
     "prompt_number": 35
    },
    {
     "cell_type": "code",
     "collapsed": false,
     "input": [
      "ex8 = a*sy.log(x) + b*sy.cos(3*x) + t * sy.log(x)\n",
      "ex8"
     ],
     "language": "python",
     "metadata": {},
     "outputs": [
      {
       "latex": [
        "$$a \\log{\\left (x \\right )} + b \\cos{\\left (3 x \\right )} + t \\log{\\left (x \\right )}$$"
       ],
       "metadata": {},
       "output_type": "pyout",
       "png": "[encoded data removed]",
       "prompt_number": 36,
       "text": [
        "a\u22c5log(x) + b\u22c5cos(3\u22c5x) + t\u22c5log(x)"
       ]
      }
     ],
     "prompt_number": 36
    },
    {
     "cell_type": "code",
     "collapsed": false,
     "input": [
      "ex8.collect(sy.log(x))"
     ],
     "language": "python",
     "metadata": {},
     "outputs": [
      {
       "latex": [
        "$$b \\cos{\\left (3 x \\right )} + \\left(a + t\\right) \\log{\\left (x \\right )}$$"
       ],
       "metadata": {},
       "output_type": "pyout",
       "png": "[encoded data removed]",
       "prompt_number": 37,
       "text": [
        "b\u22c5cos(3\u22c5x) + (a + t)\u22c5log(x)"
       ]
      }
     ],
     "prompt_number": 37
    },
    {
     "cell_type": "markdown",
     "metadata": {},
     "source": [
      "## Gleichungen\n",
      "\n",
      "Die Gegen\u00fcberstellung zweier Ausdr\u00fccke ergibt eine Gleichung. \n",
      "SymPy ist hier etwas unfreundlich und verlangt die Verwendung des `sympy.Eq` Operators."
     ]
    },
    {
     "cell_type": "code",
     "collapsed": false,
     "input": [
      "eq1 = sy.Eq(3 * x, 9 * x**2 - 2*x - 1)\n",
      "eq1"
     ],
     "language": "python",
     "metadata": {},
     "outputs": [
      {
       "latex": [
        "$$3 x = 9 x^{2} - 2 x - 1$$"
       ],
       "metadata": {},
       "output_type": "pyout",
       "png": "[encoded data removed]",
       "prompt_number": 38,
       "text": [
        "         2          \n",
        "3\u22c5x = 9\u22c5x  - 2\u22c5x - 1"
       ]
      }
     ],
     "prompt_number": 38
    },
    {
     "cell_type": "markdown",
     "metadata": {},
     "source": [
      "Linke- und Rechte-Seite mittels `.lhs` und `.rhs`:"
     ]
    },
    {
     "cell_type": "code",
     "collapsed": false,
     "input": [
      "eq1.rhs"
     ],
     "language": "python",
     "metadata": {},
     "outputs": [
      {
       "latex": [
        "$$9 x^{2} - 2 x - 1$$"
       ],
       "metadata": {},
       "output_type": "pyout",
       "png": "[encoded data removed]",
       "prompt_number": 39,
       "text": [
        "   2          \n",
        "9\u22c5x  - 2\u22c5x - 1"
       ]
      }
     ],
     "prompt_number": 39
    },
    {
     "cell_type": "markdown",
     "metadata": {},
     "source": [
      "... was wieder einen Ausdruck (siehe oben) liefert, in dem z.B. Substituiert werden kann."
     ]
    },
    {
     "cell_type": "code",
     "collapsed": false,
     "input": [
      "eq1.lhs.subs({x : 42})"
     ],
     "language": "python",
     "metadata": {},
     "outputs": [
      {
       "latex": [
        "$$126$$"
       ],
       "metadata": {},
       "output_type": "pyout",
       "png": "[encoded data removed]",
       "prompt_number": 40,
       "text": [
        "126"
       ]
      }
     ],
     "prompt_number": 40
    },
    {
     "cell_type": "markdown",
     "metadata": {},
     "source": [
      "## L\u00f6sen von Gleichungen: `solve`\n",
      "\n",
      "Eine der Standardanwendungen symbolischer Software is das symbolische L\u00f6sen von Gleichungen bzw. Gleichungssystemen."
     ]
    },
    {
     "cell_type": "code",
     "collapsed": false,
     "input": [
      "eq1_sol = sy.solve(eq1)\n",
      "eq1_sol"
     ],
     "language": "python",
     "metadata": {},
     "outputs": [
      {
       "latex": [
        "$$\\left [ \\frac{5}{18} + \\frac{\\sqrt{61}}{18}, \\quad - \\frac{\\sqrt{61}}{18} + \\frac{5}{18}\\right ]$$"
       ],
       "metadata": {},
       "output_type": "pyout",
       "png": "[encoded data removed]",
       "prompt_number": 41,
       "text": [
        "\u23a1       ____      ____     \u23a4\n",
        "\u23a25    \u2572\u2571 61     \u2572\u2571 61    5 \u23a5\n",
        "\u23a2\u2500\u2500 + \u2500\u2500\u2500\u2500\u2500\u2500, - \u2500\u2500\u2500\u2500\u2500\u2500 + \u2500\u2500\u23a5\n",
        "\u23a318     18        18     18\u23a6"
       ]
      }
     ],
     "prompt_number": 41
    },
    {
     "cell_type": "markdown",
     "metadata": {},
     "source": [
      "L\u00f6sung 1 einsetzen:"
     ]
    },
    {
     "cell_type": "code",
     "collapsed": false,
     "input": [
      "eq1_sol1 = eq1.subs({x:eq1_sol[0]})\n",
      "eq1_sol1"
     ],
     "language": "python",
     "metadata": {},
     "outputs": [
      {
       "latex": [
        "$$\\frac{5}{6} + \\frac{\\sqrt{61}}{6} = - \\frac{14}{9} - \\frac{\\sqrt{61}}{9} + 9 \\left(\\frac{5}{18} + \\frac{\\sqrt{61}}{18}\\right)^{2}$$"
       ],
       "metadata": {},
       "output_type": "pyout",
       "png": "[encoded data removed]",
       "prompt_number": 42,
       "text": [
        "                                            2\n",
        "      ____            ____     \u239b       ____\u239e \n",
        "5   \u2572\u2571 61      14   \u2572\u2571 61      \u239c5    \u2572\u2571 61 \u239f \n",
        "\u2500 + \u2500\u2500\u2500\u2500\u2500\u2500 = - \u2500\u2500 - \u2500\u2500\u2500\u2500\u2500\u2500 + 9\u22c5\u239c\u2500\u2500 + \u2500\u2500\u2500\u2500\u2500\u2500\u239f \n",
        "6     6        9      9        \u239d18     18  \u23a0 "
       ]
      }
     ],
     "prompt_number": 42
    },
    {
     "cell_type": "code",
     "collapsed": false,
     "input": [
      "eq1_sol1.expand()"
     ],
     "language": "python",
     "metadata": {},
     "outputs": [
      {
       "latex": [
        "$$\\mathrm{True}$$"
       ],
       "metadata": {},
       "output_type": "pyout",
       "png": "[encoded data removed]",
       "prompt_number": 43,
       "text": [
        "True"
       ]
      }
     ],
     "prompt_number": 43
    },
    {
     "cell_type": "markdown",
     "metadata": {},
     "source": [
      "Ein ganzes Gleichungssystem l\u00f6sen.\n",
      "(Die rechte Seite nach links brinen erspart den Aufruf von `Eq( ... )`)"
     ]
    },
    {
     "cell_type": "code",
     "collapsed": false,
     "input": [
      "from sympy.abc import x, y, z\n",
      "\n",
      "eqn3 = [2 * x**2 - y            - 2,\n",
      "        3 * x    - y      - z   + 4,\n",
      "            x    + y      - z   + 8]\n",
      "\n",
      "sol3 = sy.solve(eqn3)\n",
      "\n",
      "for sol in sol3:\n",
      "    subsol = [e.subs(sol).simplify() for e in eqn3]\n",
      "    print(\"%-30s -> eingesetzt: %s\" % (sol, subsol))"
     ],
     "language": "python",
     "metadata": {},
     "outputs": [
      {
       "output_type": "stream",
       "stream": "stdout",
       "text": [
        "{x: 0, z: 6, y: -2}            -> eingesetzt: [0, 0, 0]\n",
        "{x: 1/2, z: 7, y: -3/2}        -> eingesetzt: [0, 0, 0]\n"
       ]
      }
     ],
     "prompt_number": 44
    },
    {
     "cell_type": "markdown",
     "metadata": {},
     "source": [
      "## Differentialgleichungen\n",
      "\n",
      "Der fundamentale Unterschied zu normalen Gleichungen ist,\n",
      "dass es symbolische Variablen f\u00fcr Funktionen gibt: $f$, $g$, ...\n",
      "Diese werden mit der `symbols` Funktion erzeugt,\n",
      "deren `cls` (Klasse) auf `Function` gesetzt wird,\n",
      "bzw. das Argument `function = True` angegeben wird.\n",
      "Dadurch l\u00e4sst sich eine Funktion $f(x)$ ganz allgemein in Python durch `f(x)` konstruieren."
     ]
    },
    {
     "cell_type": "code",
     "collapsed": false,
     "input": [
      "from sympy import symbols, Function, Eq\n",
      "f = symbols(\"f\", cls=Function)\n",
      "f(x)"
     ],
     "language": "python",
     "metadata": {},
     "outputs": [
      {
       "latex": [
        "$$f{\\left (x \\right )}$$"
       ],
       "metadata": {},
       "output_type": "pyout",
       "png": "[encoded data removed]",
       "prompt_number": 45,
       "text": [
        "f(x)"
       ]
      }
     ],
     "prompt_number": 45
    },
    {
     "cell_type": "code",
     "collapsed": false,
     "input": [
      "dgl1 = Eq(f(x) + f(x).diff(x), y)\n",
      "dgl1"
     ],
     "language": "python",
     "metadata": {},
     "outputs": [
      {
       "latex": [
        "$$f{\\left (x \\right )} + \\frac{d}{d x} f{\\left (x \\right )} = y$$"
       ],
       "metadata": {},
       "output_type": "pyout",
       "png": "[encoded data removed]",
       "prompt_number": 46,
       "text": [
        "       d           \n",
        "f(x) + \u2500\u2500(f(x)) = y\n",
        "       dx          "
       ]
      }
     ],
     "prompt_number": 46
    },
    {
     "cell_type": "code",
     "collapsed": false,
     "input": [
      "from sympy import dsolve\n",
      "dsolve(dgl1, f(x))"
     ],
     "language": "python",
     "metadata": {},
     "outputs": [
      {
       "latex": [
        "$$f{\\left (x \\right )} = C_{1} e^{- x} + y$$"
       ],
       "metadata": {},
       "output_type": "pyout",
       "png": "[encoded data removed]",
       "prompt_number": 47,
       "text": [
        "           -x    \n",
        "f(x) = C\u2081\u22c5\u212f   + y"
       ]
      }
     ],
     "prompt_number": 47
    },
    {
     "cell_type": "code",
     "collapsed": false,
     "input": [
      "dgl2 = f(x).diff(x, x) + f(x)\n",
      "dgl2"
     ],
     "language": "python",
     "metadata": {},
     "outputs": [
      {
       "latex": [
        "$$f{\\left (x \\right )} + \\frac{d^{2}}{d x^{2}}  f{\\left (x \\right )}$$"
       ],
       "metadata": {},
       "output_type": "pyout",
       "png": "[encoded data removed]",
       "prompt_number": 48,
       "text": [
        "         2      \n",
        "        d       \n",
        "f(x) + \u2500\u2500\u2500(f(x))\n",
        "         2      \n",
        "       dx       "
       ]
      }
     ],
     "prompt_number": 48
    },
    {
     "cell_type": "code",
     "collapsed": false,
     "input": [
      "dsolve(dgl2, f(x))"
     ],
     "language": "python",
     "metadata": {},
     "outputs": [
      {
       "latex": [
        "$$f{\\left (x \\right )} = C_{1} \\sin{\\left (x \\right )} + C_{2} \\cos{\\left (x \\right )}$$"
       ],
       "metadata": {},
       "output_type": "pyout",
       "png": "[encoded data removed]",
       "prompt_number": 49,
       "text": [
        "f(x) = C\u2081\u22c5sin(x) + C\u2082\u22c5cos(x)"
       ]
      }
     ],
     "prompt_number": 49
    },
    {
     "cell_type": "markdown",
     "metadata": {},
     "source": [
      "## Ungleichungen\n",
      "\n",
      "\u00c4hnlich zu Gleichungen, [k\u00f6nnen auch Ungleichungen behandelt werden](http://docs.sympy.org/latest/modules/solvers/inequalities.html)."
     ]
    },
    {
     "cell_type": "code",
     "collapsed": false,
     "input": [
      "from sympy.solvers.inequalities import solve_univariate_inequality\n",
      "from sympy import symbols"
     ],
     "language": "python",
     "metadata": {},
     "outputs": [],
     "prompt_number": 50
    },
    {
     "cell_type": "code",
     "collapsed": false,
     "input": [
      "x = symbols(\"x\", real=True)"
     ],
     "language": "python",
     "metadata": {},
     "outputs": [],
     "prompt_number": 51
    },
    {
     "cell_type": "code",
     "collapsed": false,
     "input": [
      "solve_univariate_inequality(x**2 + 1 >= 3, x)"
     ],
     "language": "python",
     "metadata": {},
     "outputs": [
      {
       "latex": [
        "$$\\left(x \\leq - \\sqrt{2} \\wedge -\\infty < x\\right) \\vee \\left(\\sqrt{2} \\leq x \\wedge x < \\infty\\right)$$"
       ],
       "metadata": {},
       "output_type": "pyout",
       "png": "[encoded data removed]",
       "prompt_number": 52,
       "text": [
        "\u239b       ___         \u239e   \u239b  ___            \u239e\n",
        "\u239dx \u2264 -\u2572\u2571 2  \u2227 -\u221e < x\u23a0 \u2228 \u239d\u2572\u2571 2  \u2264 x \u2227 x < \u221e\u23a0"
       ]
      }
     ],
     "prompt_number": 52
    },
    {
     "cell_type": "code",
     "collapsed": false,
     "input": [
      "solve_univariate_inequality(x**2 + 1 >= 3, x, relational=False)"
     ],
     "language": "python",
     "metadata": {},
     "outputs": [
      {
       "latex": [
        "$$\\left(-\\infty, - \\sqrt{2}\\right] \\cup \\left[\\sqrt{2}, \\infty\\right)$$"
       ],
       "metadata": {},
       "output_type": "pyout",
       "png": "[encoded data removed]",
       "prompt_number": 53,
       "text": [
        "\u239b       ___\u23a4   \u23a1  ___   \u239e\n",
        "\u239d-\u221e, -\u2572\u2571 2 \u23a6 \u222a \u23a3\u2572\u2571 2 , \u221e\u23a0"
       ]
      }
     ],
     "prompt_number": 53
    },
    {
     "cell_type": "code",
     "collapsed": false,
     "input": [
      "from sympy import sin\n",
      "solve_univariate_inequality(sin(x) > 0.5, x, relational=False)"
     ],
     "language": "python",
     "metadata": {},
     "outputs": [
      {
       "latex": [
        "$$\\left(0.523598775598299, 2.61799387799149\\right)$$"
       ],
       "metadata": {},
       "output_type": "pyout",
       "png": "[encoded data removed]",
       "prompt_number": 54,
       "text": [
        "(0.523598775598299, 2.61799387799149)"
       ]
      }
     ],
     "prompt_number": 54
    },
    {
     "cell_type": "markdown",
     "metadata": {},
     "source": [
      "## Diophantische Gleichungen\n",
      "\n",
      "Das Ziel ist, eine Gleichung $f(x_1,\\,x_2,\\,\\dots,\\,x_n) = 0$ mit $n \\geq 2$ vielen Variablen $x_i \\in \\mathbb{Z}$ zu l\u00f6sen.\n",
      "Siehe [hier](http://docs.sympy.org/latest/modules/solvers/diophantine.html)"
     ]
    },
    {
     "cell_type": "code",
     "collapsed": false,
     "input": [
      "from sympy.solvers.diophantine import diophantine\n",
      "from sympy import symbols\n",
      "a, b = symbols(\"a, b\", integer=True)"
     ],
     "language": "python",
     "metadata": {},
     "outputs": [],
     "prompt_number": 55
    },
    {
     "cell_type": "code",
     "collapsed": false,
     "input": [
      "diophantine(2 * a + b)"
     ],
     "language": "python",
     "metadata": {},
     "outputs": [
      {
       "latex": [
        "$$\\left\\{\\left ( t, \\quad - 2 t\\right )\\right\\}$$"
       ],
       "metadata": {},
       "output_type": "pyout",
       "png": "[encoded data removed]",
       "prompt_number": 56,
       "text": [
        "set([(t, -2\u22c5t)])"
       ]
      }
     ],
     "prompt_number": 56
    },
    {
     "cell_type": "code",
     "collapsed": false,
     "input": [
      "diophantine(2 * a + 3 * b**2 - 10)"
     ],
     "language": "python",
     "metadata": {},
     "outputs": [
      {
       "latex": [
        "$$\\left\\{\\left ( - 6 t^{2} + 5, \\quad - 2 t\\right )\\right\\}$$"
       ],
       "metadata": {},
       "output_type": "pyout",
       "png": "[encoded data removed]",
       "prompt_number": 57,
       "text": [
        "   \u239b\u23a1\u239b     2          \u239e\u23a4\u239e\n",
        "set\u239d\u23a3\u239d- 6\u22c5t  + 5, -2\u22c5t\u23a0\u23a6\u23a0"
       ]
      }
     ],
     "prompt_number": 57
    },
    {
     "cell_type": "markdown",
     "metadata": {},
     "source": [
      "## Limes\n",
      "\n",
      "Die Definition des Limes: \n",
      "    \n",
      "$$\\lim_{x\\to a}f(x)=L \\; \\text{iff} \\; \\forall\\; \\epsilon>0\\; \\exists\\; \\delta \\; \\text{such that} \\; \\forall\\; x: |x-a|<\\delta \\Rightarrow |f(x)-L|\\leq \\epsilon $$"
     ]
    },
    {
     "cell_type": "code",
     "collapsed": false,
     "input": [
      "from sympy import limit\n",
      "from sympy.abc import x"
     ],
     "language": "python",
     "metadata": {},
     "outputs": [],
     "prompt_number": 58
    },
    {
     "cell_type": "code",
     "collapsed": false,
     "input": [
      "f = (3 * x**3) / (1 - 2*x**2 + x**3)"
     ],
     "language": "python",
     "metadata": {},
     "outputs": [],
     "prompt_number": 59
    },
    {
     "cell_type": "markdown",
     "metadata": {},
     "source": [
      "Numerische Approximation\n",
      "\n",
      "`f.subs(<variable>, <wert>)` substituiert hier die angegebene Variable mit dem gegebenen Wert;\n",
      "und `.evalf()` wertet den Ausdruck aus."
     ]
    },
    {
     "cell_type": "code",
     "collapsed": false,
     "input": [
      "for x_val in range(1000, 20000, 1000):\n",
      "    fx = f.subs(x, x_val).evalf()\n",
      "    print(\"%7d -> %14.11f\" % (x_val, fx))"
     ],
     "language": "python",
     "metadata": {},
     "outputs": [
      {
       "output_type": "stream",
       "stream": "stdout",
       "text": [
        "   1000 ->  3.00601202104\n",
        "   2000 ->  3.00300300263\n",
        "   3000 ->  3.00200133411\n",
        "   4000 ->  3.00150075033\n",
        "   5000 ->  3.00120048017\n",
        "   6000 ->  3.00100033343\n",
        "   7000 ->  3.00085738782\n",
        "   8000 ->  3.00075018754\n",
        "   9000 ->  3.00066681484\n",
        "  10000 ->  3.00060012002\n",
        "  11000 ->  3.00054555373\n",
        "  12000 ->  3.00050008335\n",
        "  13000 ->  3.00046160948\n",
        "  14000 ->  3.00042863266\n",
        "  15000 ->  3.00040005334\n",
        "  16000 ->  3.00037504688\n",
        "  17000 ->  3.00035298270\n",
        "  18000 ->  3.00033337037"
       ]
      },
      {
       "output_type": "stream",
       "stream": "stdout",
       "text": [
        "\n",
        "  19000 ->  3.00031582272\n"
       ]
      }
     ],
     "prompt_number": 60
    },
    {
     "cell_type": "markdown",
     "metadata": {},
     "source": [
      "*Bemerkung:* SymPy's `oo` steht f\u00fcr $\\infty$"
     ]
    },
    {
     "cell_type": "code",
     "collapsed": false,
     "input": [
      "from sympy import oo\n",
      "limit(f, x, oo)"
     ],
     "language": "python",
     "metadata": {},
     "outputs": [
      {
       "latex": [
        "$$3$$"
       ],
       "metadata": {},
       "output_type": "pyout",
       "png": "[encoded data removed]",
       "prompt_number": 61,
       "text": [
        "3"
       ]
      }
     ],
     "prompt_number": 61
    },
    {
     "cell_type": "code",
     "collapsed": false,
     "input": [
      "limit(f, x, -oo)"
     ],
     "language": "python",
     "metadata": {},
     "outputs": [
      {
       "latex": [
        "$$3$$"
       ],
       "metadata": {},
       "output_type": "pyout",
       "png": "[encoded data removed]",
       "prompt_number": 62,
       "text": [
        "3"
       ]
      }
     ],
     "prompt_number": 62
    },
    {
     "cell_type": "code",
     "collapsed": false,
     "input": [
      "limit(f, x, 0)"
     ],
     "language": "python",
     "metadata": {},
     "outputs": [
      {
       "latex": [
        "$$0$$"
       ],
       "metadata": {},
       "output_type": "pyout",
       "png": "[encoded data removed]",
       "prompt_number": 63,
       "text": [
        "0"
       ]
      }
     ],
     "prompt_number": 63
    },
    {
     "cell_type": "markdown",
     "metadata": {},
     "source": [
      "Dies ist auch mit mehrstelligen Funktionen machbar:"
     ]
    },
    {
     "cell_type": "code",
     "collapsed": false,
     "input": [
      "from sympy import sin\n",
      "from sympy.abc import x, y\n",
      "f2 = (sin(x) + x**2 * y**2 - x**3 * y**3) / (1 - x - 2 * (x + 2 * y)**3)"
     ],
     "language": "python",
     "metadata": {},
     "outputs": [],
     "prompt_number": 64
    },
    {
     "cell_type": "code",
     "collapsed": false,
     "input": [
      "limit(f2, x, oo)"
     ],
     "language": "python",
     "metadata": {},
     "outputs": [
      {
       "latex": [
        "$$0$$"
       ],
       "metadata": {},
       "output_type": "pyout",
       "png": "[encoded data removed]",
       "prompt_number": 65,
       "text": [
        "0"
       ]
      }
     ],
     "prompt_number": 65
    },
    {
     "cell_type": "code",
     "collapsed": false,
     "input": [
      "limit(f2, y, oo)"
     ],
     "language": "python",
     "metadata": {},
     "outputs": [
      {
       "latex": [
        "$$\\frac{x^{3}}{16}$$"
       ],
       "metadata": {},
       "output_type": "pyout",
       "png": "[encoded data removed]",
       "prompt_number": 66,
       "text": [
        " 3\n",
        "x \n",
        "\u2500\u2500\n",
        "16"
       ]
      }
     ],
     "prompt_number": 66
    },
    {
     "cell_type": "markdown",
     "metadata": {},
     "source": [
      "Bei Polstellen ist es wichtig, von welcher Seite der Limes angegangen wird:"
     ]
    },
    {
     "cell_type": "code",
     "collapsed": false,
     "input": [
      "f_pol = 1 / (-27 + x**3)"
     ],
     "language": "python",
     "metadata": {},
     "outputs": [],
     "prompt_number": 67
    },
    {
     "cell_type": "code",
     "collapsed": false,
     "input": [
      "limit(f_pol, x, 3, dir=\"+\")"
     ],
     "language": "python",
     "metadata": {},
     "outputs": [
      {
       "latex": [
        "$$\\infty$$"
       ],
       "metadata": {},
       "output_type": "pyout",
       "png": "[encoded data removed]",
       "prompt_number": 68,
       "text": [
        "\u221e"
       ]
      }
     ],
     "prompt_number": 68
    },
    {
     "cell_type": "code",
     "collapsed": false,
     "input": [
      "limit(f_pol, x, 3, dir=\"-\")"
     ],
     "language": "python",
     "metadata": {},
     "outputs": [
      {
       "latex": [
        "$$-\\infty$$"
       ],
       "metadata": {},
       "output_type": "pyout",
       "png": "[encoded data removed]",
       "prompt_number": 69,
       "text": [
        "-\u221e"
       ]
      }
     ],
     "prompt_number": 69
    },
    {
     "cell_type": "markdown",
     "metadata": {},
     "source": [
      "## Reihenentwicklung\n",
      "\n",
      "Ein Ausdruck wird an einem bestimmten Punkt entwickelt."
     ]
    },
    {
     "cell_type": "code",
     "collapsed": false,
     "input": [
      "from sympy import sin\n",
      "from sympy.abc import x"
     ],
     "language": "python",
     "metadata": {},
     "outputs": [],
     "prompt_number": 70
    },
    {
     "cell_type": "code",
     "collapsed": false,
     "input": [
      "f3 = sin(x) * x\n",
      "f3"
     ],
     "language": "python",
     "metadata": {},
     "outputs": [
      {
       "latex": [
        "$$x \\sin{\\left (x \\right )}$$"
       ],
       "metadata": {},
       "output_type": "pyout",
       "png": "[encoded data removed]",
       "prompt_number": 71,
       "text": [
        "x\u22c5sin(x)"
       ]
      }
     ],
     "prompt_number": 71
    },
    {
     "cell_type": "markdown",
     "metadata": {},
     "source": [
      "An der Stelle $x_0 = 0$ mit 10 Gliedern:"
     ]
    },
    {
     "cell_type": "code",
     "collapsed": false,
     "input": [
      "f3_series_0 = f3.series(x = x, x0 = 0, n = 10)\n",
      "f3_series_0"
     ],
     "language": "python",
     "metadata": {},
     "outputs": [
      {
       "latex": [
        "$$x^{2} - \\frac{x^{4}}{6} + \\frac{x^{6}}{120} - \\frac{x^{8}}{5040} + \\mathcal{O}\\left(x^{10}\\right)$$"
       ],
       "metadata": {},
       "output_type": "pyout",
       "png": "[encoded data removed]",
       "prompt_number": 72,
       "text": [
        "      4     6     8          \n",
        " 2   x     x     x      \u239b 10\u239e\n",
        "x  - \u2500\u2500 + \u2500\u2500\u2500 - \u2500\u2500\u2500\u2500 + O\u239dx  \u23a0\n",
        "     6    120   5040         "
       ]
      }
     ],
     "prompt_number": 72
    },
    {
     "cell_type": "markdown",
     "metadata": {},
     "source": [
      "An der Stelle $x_0 = \\pi$ mit 5 Gliedern:"
     ]
    },
    {
     "cell_type": "code",
     "collapsed": false,
     "input": [
      "f3_series_pi = f3.series(x = x, x0 = sy.pi, n = 5)\n",
      "f3_series_pi"
     ],
     "language": "python",
     "metadata": {},
     "outputs": [
      {
       "latex": [
        "$$- \\pi \\left(x - \\pi\\right) - \\left(x - \\pi\\right)^{2} + \\frac{\\pi}{6} \\left(x - \\pi\\right)^{3} + \\frac{1}{6} \\left(x - \\pi\\right)^{4} + \\mathcal{O}\\left(\\left(x - \\pi\\right)^{5}; x\\rightarrow\\pi\\right)$$"
       ],
       "metadata": {},
       "output_type": "pyout",
       "png": "[encoded data removed]",
       "prompt_number": 73,
       "text": [
        "                                 3          4                     \n",
        "                    2   \u03c0\u22c5(x - \u03c0)    (x - \u03c0)     \u239b       5       \u239e\n",
        "-\u03c0\u22c5(x - \u03c0) - (x - \u03c0)  + \u2500\u2500\u2500\u2500\u2500\u2500\u2500\u2500\u2500\u2500 + \u2500\u2500\u2500\u2500\u2500\u2500\u2500\u2500 + O\u239d(x - \u03c0) ; x \u2192 \u03c0\u23a0\n",
        "                            6           6                         "
       ]
      }
     ],
     "prompt_number": 73
    },
    {
     "cell_type": "code",
     "collapsed": false,
     "input": [
      "f3_series_pi.expand()"
     ],
     "language": "python",
     "metadata": {},
     "outputs": [
      {
       "latex": [
        "$$\\mathcal{O}\\left(1; x\\rightarrow\\pi\\right)$$"
       ],
       "metadata": {},
       "output_type": "pyout",
       "png": "[encoded data removed]",
       "prompt_number": 74,
       "text": [
        "O(1; x \u2192 \u03c0)"
       ]
      }
     ],
     "prompt_number": 74
    },
    {
     "cell_type": "markdown",
     "metadata": {},
     "source": [
      "## Integral\n",
      "\n",
      "Sympy kann bestimmte und unbestimmte Integrale berechnen."
     ]
    },
    {
     "cell_type": "code",
     "collapsed": false,
     "input": [
      "from sympy import integrate, cos, pi, exp\n",
      "from sympy.abc import x\n",
      "\n",
      "integrate((1 - x**2) * cos(x), x)"
     ],
     "language": "python",
     "metadata": {},
     "outputs": [
      {
       "latex": [
        "$$- x^{2} \\sin{\\left (x \\right )} - 2 x \\cos{\\left (x \\right )} + 3 \\sin{\\left (x \\right )}$$"
       ],
       "metadata": {},
       "output_type": "pyout",
       "png": "[encoded data removed]",
       "prompt_number": 75,
       "text": [
        "   2                               \n",
        "- x \u22c5sin(x) - 2\u22c5x\u22c5cos(x) + 3\u22c5sin(x)"
       ]
      }
     ],
     "prompt_number": 75
    },
    {
     "cell_type": "code",
     "collapsed": false,
     "input": [
      "from sympy.abc import t\n",
      "integrate((1 - x**2) * cos(x), (x, -pi, pi))"
     ],
     "language": "python",
     "metadata": {},
     "outputs": [
      {
       "latex": [
        "$$4 \\pi$$"
       ],
       "metadata": {},
       "output_type": "pyout",
       "png": "[encoded data removed]",
       "prompt_number": 76,
       "text": [
        "4\u22c5\u03c0"
       ]
      }
     ],
     "prompt_number": 76
    },
    {
     "cell_type": "code",
     "collapsed": false,
     "input": [
      "from sympy.abc import y\n",
      "exp2 = exp(-x**2) * exp(-y**2)\n",
      "exp2.simplify()\n",
      "exp2"
     ],
     "language": "python",
     "metadata": {},
     "outputs": [
      {
       "latex": [
        "$$e^{- x^{2}} e^{- y^{2}}$$"
       ],
       "metadata": {},
       "output_type": "pyout",
       "png": "[encoded data removed]",
       "prompt_number": 77,
       "text": [
        "   2    2\n",
        " -x   -y \n",
        "\u212f   \u22c5\u212f   "
       ]
      }
     ],
     "prompt_number": 77
    },
    {
     "cell_type": "markdown",
     "metadata": {},
     "source": [
      "Integral der Funktion $\\operatorname{exp2}(x,\\,y)$ nach $y$"
     ]
    },
    {
     "cell_type": "code",
     "collapsed": false,
     "input": [
      "integrate(exp2, y)"
     ],
     "language": "python",
     "metadata": {},
     "outputs": [
      {
       "latex": [
        "$$\\frac{\\sqrt{\\pi}}{2} e^{- x^{2}} \\operatorname{erf}{\\left (y \\right )}$$"
       ],
       "metadata": {},
       "output_type": "pyout",
       "png": "[encoded data removed]",
       "prompt_number": 78,
       "text": [
        "         2       \n",
        "  ___  -x        \n",
        "\u2572\u2571 \u03c0 \u22c5\u212f   \u22c5erf(y)\n",
        "\u2500\u2500\u2500\u2500\u2500\u2500\u2500\u2500\u2500\u2500\u2500\u2500\u2500\u2500\u2500\u2500\u2500\n",
        "        2        "
       ]
      }
     ],
     "prompt_number": 78
    },
    {
     "cell_type": "markdown",
     "metadata": {},
     "source": [
      "Bestimmtes Integral:\n",
      "\n",
      "$$\\int_{-\\infty}^{\\infty}\\!\\int_{-\\infty}^{\\infty}\\!\\!\\operatorname{exp2}(x,\\,y)\\,\\mathrm{d}x = ?$$"
     ]
    },
    {
     "cell_type": "code",
     "collapsed": false,
     "input": [
      "from sympy import oo\n",
      "integrate(exp2, (x, -oo, oo), (y, -oo, oo))"
     ],
     "language": "python",
     "metadata": {},
     "outputs": [
      {
       "latex": [
        "$$\\pi$$"
       ],
       "metadata": {},
       "output_type": "pyout",
       "png": "[encoded data removed]",
       "prompt_number": 79,
       "text": [
        "\u03c0"
       ]
      }
     ],
     "prompt_number": 79
    },
    {
     "cell_type": "markdown",
     "metadata": {},
     "source": [
      "## Unausgewertete Ausdr\u00fccke\n",
      "\n",
      "Viele der bislang vorgestellten Funktionen haben \u00e4quivalent dazu Kontruktoren f\u00fcr Ausdr\u00fccke.\n",
      "Diese k\u00f6nnen wie gehabt dargestellt werden,\n",
      "es sind Substitutionen m\u00f6glich,\n",
      "und werden mit der `.doit()` Methode ausgewertet."
     ]
    },
    {
     "cell_type": "code",
     "collapsed": false,
     "input": [
      "from sympy import exp, Limit, latex, oo\n",
      "from sympy.abc import x\n",
      "\n",
      "limit_expr = Limit(1 - exp(1 / x), x, oo)\n",
      "limit_expr"
     ],
     "language": "python",
     "metadata": {},
     "outputs": [
      {
       "latex": [
        "$$\\lim_{x \\to \\infty}\\left(- e^{\\frac{1}{x}} + 1\\right)$$"
       ],
       "metadata": {},
       "output_type": "pyout",
       "png": "[encoded data removed]",
       "prompt_number": 80,
       "text": [
        "       1    \n",
        "       \u2500    \n",
        "       x    \n",
        "lim - \u212f  + 1\n",
        "x\u2500\u2192\u221e        "
       ]
      }
     ],
     "prompt_number": 80
    },
    {
     "cell_type": "code",
     "collapsed": false,
     "input": [
      "limit_expr.doit()"
     ],
     "language": "python",
     "metadata": {},
     "outputs": [
      {
       "latex": [
        "$$0$$"
       ],
       "metadata": {},
       "output_type": "pyout",
       "png": "[encoded data removed]",
       "prompt_number": 81,
       "text": [
        "0"
       ]
      }
     ],
     "prompt_number": 81
    },
    {
     "cell_type": "code",
     "collapsed": false,
     "input": [
      "from sympy import Integral\n",
      "from sympy.abc import y\n",
      "\n",
      "int_expr = Integral(1 / y, x)\n",
      "int_expr = int_expr.subs(y, exp(1/x))\n",
      "\n",
      "Math(latex(int_expr) + \"=\" + latex(int_expr.doit()))"
     ],
     "language": "python",
     "metadata": {},
     "outputs": [
      {
       "latex": [
        "$$\\int e^{- \\frac{1}{x}}\\, dx=x e^{- \\frac{1}{x}} + \\operatorname{Ei}{\\left (\\frac{e^{i \\pi}}{x} \\right )}$$"
       ],
       "metadata": {},
       "output_type": "pyout",
       "prompt_number": 82,
       "text": [
        "<IPython.core.display.Math at 0x35def50>"
       ]
      }
     ],
     "prompt_number": 82
    },
    {
     "cell_type": "code",
     "collapsed": false,
     "input": [
      "Integral(exp2, x, y)"
     ],
     "language": "python",
     "metadata": {},
     "outputs": [
      {
       "latex": [
        "$$\\iint e^{- x^{2}} e^{- y^{2}}\\, dx\\, dy$$"
       ],
       "metadata": {},
       "output_type": "pyout",
       "png": "[encoded data removed]",
       "prompt_number": 83,
       "text": [
        "\u2320 \u2320                \n",
        "\u23ae \u23ae    2    2      \n",
        "\u23ae \u23ae  -x   -y       \n",
        "\u23ae \u23ae \u212f   \u22c5\u212f    dx dy\n",
        "\u2321 \u2321                "
       ]
      }
     ],
     "prompt_number": 83
    },
    {
     "cell_type": "code",
     "collapsed": false,
     "input": [
      "Integral(exp2, x, y).doit()"
     ],
     "language": "python",
     "metadata": {},
     "outputs": [
      {
       "latex": [
        "$$\\frac{\\pi}{4} \\operatorname{erf}{\\left (x \\right )} \\operatorname{erf}{\\left (y \\right )}$$"
       ],
       "metadata": {},
       "output_type": "pyout",
       "png": "[encoded data removed]",
       "prompt_number": 84,
       "text": [
        "\u03c0\u22c5erf(x)\u22c5erf(y)\n",
        "\u2500\u2500\u2500\u2500\u2500\u2500\u2500\u2500\u2500\u2500\u2500\u2500\u2500\u2500\u2500\n",
        "       4       "
       ]
      }
     ],
     "prompt_number": 84
    },
    {
     "cell_type": "code",
     "collapsed": false,
     "input": [
      "exp2_i2 = Integral(exp2, (x, -1, 1), (y, -1, 1))\n",
      "exp2_i2"
     ],
     "language": "python",
     "metadata": {},
     "outputs": [
      {
       "latex": [
        "$$\\int_{-1}^{1}\\int_{-1}^{1} e^{- x^{2}} e^{- y^{2}}\\, dx\\, dy$$"
       ],
       "metadata": {},
       "output_type": "pyout",
       "png": "[encoded data removed]",
       "prompt_number": 85,
       "text": [
        "1  1                 \n",
        "\u2320  \u2320                 \n",
        "\u23ae  \u23ae     2    2      \n",
        "\u23ae  \u23ae   -x   -y       \n",
        "\u23ae  \u23ae  \u212f   \u22c5\u212f    dx dy\n",
        "\u2321  \u2321                 \n",
        "-1 -1                "
       ]
      }
     ],
     "prompt_number": 85
    },
    {
     "cell_type": "code",
     "collapsed": false,
     "input": [
      "exp2_i2.doit()"
     ],
     "language": "python",
     "metadata": {},
     "outputs": [
      {
       "latex": [
        "$$\\pi \\operatorname{erf}^{2}{\\left (1 \\right )}$$"
       ],
       "metadata": {},
       "output_type": "pyout",
       "png": "[encoded data removed]",
       "prompt_number": 86,
       "text": [
        "     2   \n",
        "\u03c0\u22c5erf (1)"
       ]
      }
     ],
     "prompt_number": 86
    },
    {
     "cell_type": "code",
     "collapsed": false,
     "input": [
      "exp2_i2.doit().evalf()"
     ],
     "language": "python",
     "metadata": {},
     "outputs": [
      {
       "latex": [
        "$$2.23098514140413$$"
       ],
       "metadata": {},
       "output_type": "pyout",
       "png": "[encoded data removed]",
       "prompt_number": 87,
       "text": [
        "2.23098514140413"
       ]
      }
     ],
     "prompt_number": 87
    },
    {
     "cell_type": "markdown",
     "metadata": {},
     "source": [
      "Der interne Graph des Integralausdrucks `int_expr`:"
     ]
    },
    {
     "cell_type": "code",
     "collapsed": false,
     "input": [
      "expr_to_dotgraph(\"sympy-int\", int_expr)"
     ],
     "language": "python",
     "metadata": {},
     "outputs": [
      {
       "metadata": {},
       "output_type": "pyout",
       "prompt_number": 88,
       "svg": [
        "<svg height=\"342pt\" viewBox=\"0.00 0.00 194.00 342.00\" width=\"194pt\" xmlns=\"http://www.w3.org/2000/svg\" xmlns:xlink=\"http://www.w3.org/1999/xlink\">\n",
        "<g class=\"graph\" id=\"graph1\" transform=\"scale(1 1) rotate(0) translate(4 338)\">\n",
        "<title>_anonymous_0</title>\n",
        "<polygon fill=\"white\" points=\"-4,5 -4,-338 191,-338 191,5 -4,5\" stroke=\"white\"/>\n",
        "<!-- Integral(exp(Mul(NegativeOne(), Pow(Symbol(x), NegativeOne()))), Tuple(Symbol(x)))_() -->\n",
        "<g class=\"node\" id=\"node1\"><title>Integral(exp(Mul(NegativeOne(), Pow(Symbol(x), NegativeOne()))), Tuple(Symbol(x)))_()</title>\n",
        "<ellipse cx=\"107\" cy=\"-315\" fill=\"none\" rx=\"50.2046\" ry=\"18.3848\" stroke=\"black\"/>\n",
        "<text font-family=\"Times Roman,serif\" font-size=\"14.00\" text-anchor=\"middle\" x=\"107\" y=\"-311.4\">Integral</text>\n",
        "</g>\n",
        "<!-- exp(Mul(NegativeOne(), Pow(Symbol(x), NegativeOne())))_(0,) -->\n",
        "<g class=\"node\" id=\"node2\"><title>exp(Mul(NegativeOne(), Pow(Symbol(x), NegativeOne())))_(0,)</title>\n",
        "<ellipse cx=\"65\" cy=\"-241\" fill=\"none\" rx=\"28.9914\" ry=\"18.3848\" stroke=\"black\"/>\n",
        "<text font-family=\"Times Roman,serif\" font-size=\"14.00\" text-anchor=\"middle\" x=\"65\" y=\"-237.4\">exp</text>\n",
        "</g>\n",
        "<!-- Integral(exp(Mul(NegativeOne(), Pow(Symbol(x), NegativeOne()))), Tuple(Symbol(x)))_()&#45;&gt;exp(Mul(NegativeOne(), Pow(Symbol(x), NegativeOne())))_(0,) -->\n",
        "<g class=\"edge\" id=\"edge2\"><title>Integral(exp(Mul(NegativeOne(), Pow(Symbol(x), NegativeOne()))), Tuple(Symbol(x)))_()-&gt;exp(Mul(NegativeOne(), Pow(Symbol(x), NegativeOne())))_(0,)</title>\n",
        "<path d=\"M96.618,-296.708C91.6108,-287.886 85.5108,-277.138 80.0093,-267.445\" fill=\"none\" stroke=\"black\"/>\n",
        "<polygon fill=\"black\" points=\"82.9534,-265.541 74.9734,-258.572 76.8656,-268.997 82.9534,-265.541\" stroke=\"black\"/>\n",
        "</g>\n",
        "<!-- Tuple(Symbol(x))_(1,) -->\n",
        "<g class=\"node\" id=\"node8\"><title>Tuple(Symbol(x))_(1,)</title>\n",
        "<ellipse cx=\"149\" cy=\"-241\" fill=\"none\" rx=\"36.977\" ry=\"18.3848\" stroke=\"blue\"/>\n",
        "<text font-family=\"Times Roman,serif\" font-size=\"14.00\" text-anchor=\"middle\" x=\"149\" y=\"-237.4\">Tuple</text>\n",
        "</g>\n",
        "<!-- Integral(exp(Mul(NegativeOne(), Pow(Symbol(x), NegativeOne()))), Tuple(Symbol(x)))_()&#45;&gt;Tuple(Symbol(x))_(1,) -->\n",
        "<g class=\"edge\" id=\"edge4\"><title>Integral(exp(Mul(NegativeOne(), Pow(Symbol(x), NegativeOne()))), Tuple(Symbol(x)))_()-&gt;Tuple(Symbol(x))_(1,)</title>\n",
        "<path d=\"M117.382,-296.708C122.352,-287.951 128.4,-277.296 133.869,-267.659\" fill=\"none\" stroke=\"black\"/>\n",
        "<polygon fill=\"black\" points=\"136.99,-269.251 138.882,-258.826 130.902,-265.796 136.99,-269.251\" stroke=\"black\"/>\n",
        "</g>\n",
        "<!-- Mul(NegativeOne(), Pow(Symbol(x), NegativeOne()))_(0, 0) -->\n",
        "<g class=\"node\" id=\"node3\"><title>Mul(NegativeOne(), Pow(Symbol(x), NegativeOne()))_(0, 0)</title>\n",
        "<ellipse cx=\"65\" cy=\"-167\" fill=\"none\" rx=\"28.9914\" ry=\"18.3848\" stroke=\"black\"/>\n",
        "<text font-family=\"Times Roman,serif\" font-size=\"14.00\" text-anchor=\"middle\" x=\"65\" y=\"-163.4\">Mul</text>\n",
        "</g>\n",
        "<!-- exp(Mul(NegativeOne(), Pow(Symbol(x), NegativeOne())))_(0,)&#45;&gt;Mul(NegativeOne(), Pow(Symbol(x), NegativeOne()))_(0, 0) -->\n",
        "<g class=\"edge\" id=\"edge6\"><title>exp(Mul(NegativeOne(), Pow(Symbol(x), NegativeOne())))_(0,)-&gt;Mul(NegativeOne(), Pow(Symbol(x), NegativeOne()))_(0, 0)</title>\n",
        "<path d=\"M65,-222.327C65,-214.264 65,-204.648 65,-195.711\" fill=\"none\" stroke=\"black\"/>\n",
        "<polygon fill=\"black\" points=\"68.5001,-195.667 65,-185.667 61.5001,-195.667 68.5001,-195.667\" stroke=\"black\"/>\n",
        "</g>\n",
        "<!-- NegativeOne()_(0, 0, 0) -->\n",
        "<g class=\"node\" id=\"node4\"><title>NegativeOne()_(0, 0, 0)</title>\n",
        "<ellipse cx=\"27\" cy=\"-93\" fill=\"none\" rx=\"27\" ry=\"18.3848\" stroke=\"black\"/>\n",
        "<text font-family=\"Times Roman,serif\" font-size=\"14.00\" text-anchor=\"middle\" x=\"27\" y=\"-89.4\">-1</text>\n",
        "</g>\n",
        "<!-- Mul(NegativeOne(), Pow(Symbol(x), NegativeOne()))_(0, 0)&#45;&gt;NegativeOne()_(0, 0, 0) -->\n",
        "<g class=\"edge\" id=\"edge8\"><title>Mul(NegativeOne(), Pow(Symbol(x), NegativeOne()))_(0, 0)-&gt;NegativeOne()_(0, 0, 0)</title>\n",
        "<path d=\"M55.8013,-149.087C51.2404,-140.205 45.6419,-129.303 40.5975,-119.479\" fill=\"none\" stroke=\"black\"/>\n",
        "<polygon fill=\"black\" points=\"43.6645,-117.79 35.9829,-110.493 37.4375,-120.988 43.6645,-117.79\" stroke=\"black\"/>\n",
        "</g>\n",
        "<!-- Pow(Symbol(x), NegativeOne())_(0, 0, 1) -->\n",
        "<g class=\"node\" id=\"node5\"><title>Pow(Symbol(x), NegativeOne())_(0, 0, 1)</title>\n",
        "<ellipse cx=\"104\" cy=\"-93\" fill=\"none\" rx=\"32.0265\" ry=\"18.3848\" stroke=\"black\"/>\n",
        "<text font-family=\"Times Roman,serif\" font-size=\"14.00\" text-anchor=\"middle\" x=\"104\" y=\"-89.4\">Pow</text>\n",
        "</g>\n",
        "<!-- Mul(NegativeOne(), Pow(Symbol(x), NegativeOne()))_(0, 0)&#45;&gt;Pow(Symbol(x), NegativeOne())_(0, 0, 1) -->\n",
        "<g class=\"edge\" id=\"edge10\"><title>Mul(NegativeOne(), Pow(Symbol(x), NegativeOne()))_(0, 0)-&gt;Pow(Symbol(x), NegativeOne())_(0, 0, 1)</title>\n",
        "<path d=\"M74.2425,-149.463C78.8854,-140.653 84.613,-129.786 89.7994,-119.945\" fill=\"none\" stroke=\"black\"/>\n",
        "<polygon fill=\"black\" points=\"92.9868,-121.404 94.553,-110.925 86.7942,-118.14 92.9868,-121.404\" stroke=\"black\"/>\n",
        "</g>\n",
        "<!-- Symbol(x)_(0, 0, 1, 0) -->\n",
        "<g class=\"node\" id=\"node6\"><title>Symbol(x)_(0, 0, 1, 0)</title>\n",
        "<ellipse cx=\"68\" cy=\"-19\" fill=\"none\" rx=\"27\" ry=\"18.3848\" stroke=\"black\"/>\n",
        "<text font-family=\"Times Roman,serif\" font-size=\"14.00\" text-anchor=\"middle\" x=\"68\" y=\"-15.4\">x</text>\n",
        "</g>\n",
        "<!-- Pow(Symbol(x), NegativeOne())_(0, 0, 1)&#45;&gt;Symbol(x)_(0, 0, 1, 0) -->\n",
        "<g class=\"edge\" id=\"edge12\"><title>Pow(Symbol(x), NegativeOne())_(0, 0, 1)-&gt;Symbol(x)_(0, 0, 1, 0)</title>\n",
        "<path d=\"M95.2854,-75.0867C91.0403,-66.3607 85.8464,-55.6843 81.1337,-45.9971\" fill=\"none\" stroke=\"black\"/>\n",
        "<polygon fill=\"black\" points=\"84.1564,-44.2096 76.6343,-36.7484 77.8617,-47.2719 84.1564,-44.2096\" stroke=\"black\"/>\n",
        "</g>\n",
        "<!-- NegativeOne()_(0, 0, 1, 1) -->\n",
        "<g class=\"node\" id=\"node7\"><title>NegativeOne()_(0, 0, 1, 1)</title>\n",
        "<ellipse cx=\"140\" cy=\"-19\" fill=\"none\" rx=\"27\" ry=\"18.3848\" stroke=\"black\"/>\n",
        "<text font-family=\"Times Roman,serif\" font-size=\"14.00\" text-anchor=\"middle\" x=\"140\" y=\"-15.4\">-1</text>\n",
        "</g>\n",
        "<!-- Pow(Symbol(x), NegativeOne())_(0, 0, 1)&#45;&gt;NegativeOne()_(0, 0, 1, 1) -->\n",
        "<g class=\"edge\" id=\"edge14\"><title>Pow(Symbol(x), NegativeOne())_(0, 0, 1)-&gt;NegativeOne()_(0, 0, 1, 1)</title>\n",
        "<path d=\"M112.715,-75.0867C116.96,-66.3607 122.154,-55.6843 126.866,-45.9971\" fill=\"none\" stroke=\"black\"/>\n",
        "<polygon fill=\"black\" points=\"130.138,-47.2719 131.366,-36.7484 123.844,-44.2096 130.138,-47.2719\" stroke=\"black\"/>\n",
        "</g>\n",
        "<!-- Symbol(x)_(1, 0) -->\n",
        "<g class=\"node\" id=\"node9\"><title>Symbol(x)_(1, 0)</title>\n",
        "<ellipse cx=\"149\" cy=\"-167\" fill=\"none\" rx=\"27\" ry=\"18.3848\" stroke=\"black\"/>\n",
        "<text font-family=\"Times Roman,serif\" font-size=\"14.00\" text-anchor=\"middle\" x=\"149\" y=\"-163.4\">x</text>\n",
        "</g>\n",
        "<!-- Tuple(Symbol(x))_(1,)&#45;&gt;Symbol(x)_(1, 0) -->\n",
        "<g class=\"edge\" id=\"edge16\"><title>Tuple(Symbol(x))_(1,)-&gt;Symbol(x)_(1, 0)</title>\n",
        "<path d=\"M149,-222.327C149,-214.264 149,-204.648 149,-195.711\" fill=\"none\" stroke=\"black\"/>\n",
        "<polygon fill=\"black\" points=\"152.5,-195.667 149,-185.667 145.5,-195.667 152.5,-195.667\" stroke=\"black\"/>\n",
        "</g>\n",
        "</g>\n",
        "</svg>"
       ],
       "text": [
        "<IPython.core.display.SVG at 0x3833210>"
       ]
      }
     ],
     "prompt_number": 88
    }
   ],
   "metadata": {}
  }
 ]
}
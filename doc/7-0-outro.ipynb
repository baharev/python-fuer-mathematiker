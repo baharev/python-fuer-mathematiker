{
 "metadata": {
  "name": "",
  "signature": "sha256:90f58ba8a2be88bb0c0722330a0853cad32acfbed45de223a75442b64213436d"
 },
 "nbformat": 3,
 "nbformat_minor": 0,
 "worksheets": [
  {
   "cells": [
    {
     "cell_type": "markdown",
     "metadata": {},
     "source": [
      "# Nachwort"
     ]
    },
    {
     "cell_type": "markdown",
     "metadata": {},
     "source": [
      "## License Note\n",
      "\n",
      "All text, images, media and code examples are covered by\n",
      "[CC BY-SA 4.0 International](https://creativecommons.org/licenses/by-sa/4.0/).\n",
      "\n",
      "The only exception are full Python codefiles,\n",
      "where their License is either explained in their respective headers or in absence of that,\n",
      "defaults to [Apache 2.0](http://www.apache.org/licenses/LICENSE-2.0.html)\n"
     ]
    }
   ],
   "metadata": {}
  }
 ]
}
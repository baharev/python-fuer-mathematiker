{
 "metadata": {
  "name": "",
  "signature": "sha256:cbd88964f583a31ec8fceba6cb0e9aebdb3bb8144bb4abdbd91cd89768d77da3"
 },
 "nbformat": 3,
 "nbformat_minor": 0,
 "worksheets": [
  {
   "cells": [
    {
     "cell_type": "markdown",
     "metadata": {},
     "source": [
      "# Nachwort"
     ]
    },
    {
     "cell_type": "markdown",
     "metadata": {},
     "source": [
      "## Lizenz\n",
      "\n",
      "[CC Attribution-ShareAlike 4.0 International](https://creativecommons.org/licenses/by-sa/4.0/)"
     ]
    },
    {
     "cell_type": "code",
     "collapsed": false,
     "input": [],
     "language": "python",
     "metadata": {},
     "outputs": []
    }
   ],
   "metadata": {}
  }
 ]
}
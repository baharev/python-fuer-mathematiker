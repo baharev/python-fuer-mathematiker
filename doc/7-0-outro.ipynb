{
 "metadata": {
  "name": "",
  "signature": "sha256:c8bef47c983f8b5149df3f32fd59c6493eb1a3350e3e367fe87080caddef270c"
 },
 "nbformat": 3,
 "nbformat_minor": 0,
 "worksheets": [
  {
   "cells": [
    {
     "cell_type": "markdown",
     "metadata": {},
     "source": [
      "# Nachwort"
     ]
    },
    {
     "cell_type": "markdown",
     "metadata": {},
     "source": [
      "## Lizenz\n",
      "\n",
      "[CC Attribution-ShareAlike 4.0 International](https://creativecommons.org/licenses/by-sa/4.0/)"
     ]
    }
   ],
   "metadata": {}
  }
 ]
}
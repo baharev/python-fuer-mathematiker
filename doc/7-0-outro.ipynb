{
 "metadata": {
  "name": "",
  "signature": "sha256:64575a0d3d9869d073b61e1c48b0a344c13b835d23590ea57a993c9fb8013af3"
 },
 "nbformat": 3,
 "nbformat_minor": 0,
 "worksheets": [
  {
   "cells": [
    {
     "cell_type": "heading",
     "level": 1,
     "metadata": {},
     "source": [
      "Autoren"
     ]
    },
    {
     "cell_type": "code",
     "collapsed": false,
     "input": [
      "authornames = ! git log --pretty=format:\"%aN <%aE>\" HEAD\n",
      "set(authornames)"
     ],
     "language": "python",
     "metadata": {},
     "outputs": [
      {
       "metadata": {},
       "output_type": "pyout",
       "prompt_number": 19,
       "text": [
        "{'Harald Schilly <harald.schilly@gmail.com>',\n",
        " 'Harald Schilly <harald.schilly@univie.ac.at>'}"
       ]
      }
     ],
     "prompt_number": 19
    },
    {
     "cell_type": "markdown",
     "metadata": {},
     "source": [
      "## Harald Schilly\n",
      "\n",
      "* [Webseite](http://harald.schil.ly)\n",
      "* [GitHub](http://github.com/haraldschilly)"
     ]
    },
    {
     "cell_type": "markdown",
     "metadata": {},
     "source": [
      "# Nachwort"
     ]
    },
    {
     "cell_type": "markdown",
     "metadata": {},
     "source": [
      "## License Note\n",
      "\n",
      "All text, images, media and code examples are covered by\n",
      "[CC BY-SA 4.0 International](https://creativecommons.org/licenses/by-sa/4.0/).\n",
      "\n",
      "The only exception are full Python codefiles,\n",
      "where their License is either explained in their respective headers or in absence of that,\n",
      "defaults to [Apache 2.0](http://www.apache.org/licenses/LICENSE-2.0.html)\n"
     ]
    }
   ],
   "metadata": {}
  }
 ]
}
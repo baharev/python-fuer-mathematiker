{
 "metadata": {
  "name": "",
  "signature": "sha256:a0adab344ca542386539dbdd327f8b073da1f78490e8e5fc2a96655c079ee340"
 },
 "nbformat": 3,
 "nbformat_minor": 0,
 "worksheets": [
  {
   "cells": [
    {
     "cell_type": "markdown",
     "metadata": {},
     "source": [
      "[INDEX](00-index.ipynb)"
     ]
    },
    {
     "cell_type": "markdown",
     "metadata": {},
     "source": [
      "# Konzept 7: Modularisierung\n",
      "\n",
      "Die Sprache \"Python\" f\u00fcr sich bietet nur sehr wenige Funktionen.\n",
      "Alles beschr\u00e4nkt sich auf elementare Elemente der Sprache.\n",
      "\n",
      "Ein \"Module\" (engl. \"module\") ist hingegen eine Sammlung von Funktionen und Datenstrukturen,\n",
      "um von einem Programm aus komplexere Abl\u00e4ufe aufrufen zu k\u00f6nnen."
     ]
    },
    {
     "cell_type": "code",
     "collapsed": false,
     "input": [
      "from math import sqrt, sin\n",
      "print(sin(3.1415))\n",
      "print(sqrt(2))"
     ],
     "language": "python",
     "metadata": {},
     "outputs": [
      {
       "output_type": "stream",
       "stream": "stdout",
       "text": [
        "9.26535896605e-05\n",
        "1.41421356237\n"
       ]
      }
     ],
     "prompt_number": 1
    },
    {
     "cell_type": "markdown",
     "metadata": {},
     "source": [
      "In der vorhergehenden Zelle werden die Funktionen `sqrt` und `sin` aus dem Modul `math` importiert."
     ]
    },
    {
     "cell_type": "markdown",
     "metadata": {},
     "source": [
      "Alternativ kann das gesamte Modul importiert werden,\n",
      "wobei die Funktionen dann Attribute dieses Moduls sind:"
     ]
    },
    {
     "cell_type": "code",
     "collapsed": false,
     "input": [
      "import math\n",
      "print(math.sqrt(4))"
     ],
     "language": "python",
     "metadata": {},
     "outputs": [
      {
       "output_type": "stream",
       "stream": "stdout",
       "text": [
        "2.0\n"
       ]
      }
     ],
     "prompt_number": 2
    },
    {
     "cell_type": "code",
     "collapsed": false,
     "input": [],
     "language": "python",
     "metadata": {},
     "outputs": []
    }
   ],
   "metadata": {}
  }
 ]
}
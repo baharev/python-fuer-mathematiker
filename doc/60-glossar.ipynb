{
 "metadata": {
  "name": "",
  "signature": "sha256:9d8d1b959aab2e565fe585667a11c8afa5828a6186a2f5b5529b8b4a61b9fe60"
 },
 "nbformat": 3,
 "nbformat_minor": 0,
 "worksheets": [
  {
   "cells": [
    {
     "cell_type": "markdown",
     "metadata": {},
     "source": [
      "# Glossar"
     ]
    },
    {
     "cell_type": "code",
     "collapsed": false,
     "input": [],
     "language": "python",
     "metadata": {},
     "outputs": []
    }
   ],
   "metadata": {}
  }
 ]
}
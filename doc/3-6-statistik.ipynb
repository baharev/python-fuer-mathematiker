{
 "metadata": {
  "name": "",
  "signature": "sha256:13431216a608f5182df5cdd9b8d6835dd0a47317b14dd92549a8e892cf37bdc2"
 },
 "nbformat": 3,
 "nbformat_minor": 0,
 "worksheets": [
  {
   "cells": [
    {
     "cell_type": "markdown",
     "metadata": {},
     "source": [
      "# Statistik\n",
      "\n",
      "Dieses Kapitel umfasst die grafische Darstellung und Analyse von empirischen Daten."
     ]
    },
    {
     "cell_type": "markdown",
     "metadata": {},
     "source": [
      "## Zufallszahlen\n",
      "\n",
      "Obwohl streng gesprochen keine Statistik,\n",
      "sind Zufallszahlen in Computerprogrammen immer wieder notwendig\n",
      "und ein praktisches Hilfsmittel um diverse Statistiken zu illustrieren.\n",
      "\n",
      "Python's internes `random` modul hat einige praktische Funktionen:"
     ]
    },
    {
     "cell_type": "code",
     "collapsed": false,
     "input": [
      "import random"
     ],
     "language": "python",
     "metadata": {},
     "outputs": [],
     "prompt_number": 1
    },
    {
     "cell_type": "markdown",
     "metadata": {},
     "source": [
      "Flie\u00dfkommazahl in [0, 1)"
     ]
    },
    {
     "cell_type": "code",
     "collapsed": false,
     "input": [
      "random.random()"
     ],
     "language": "python",
     "metadata": {},
     "outputs": [
      {
       "metadata": {},
       "output_type": "pyout",
       "prompt_number": 2,
       "text": [
        "0.3068983629187345"
       ]
      }
     ],
     "prompt_number": 2
    },
    {
     "cell_type": "markdown",
     "metadata": {},
     "source": [
      "zuf\u00e4llige Ganzzahl"
     ]
    },
    {
     "cell_type": "code",
     "collapsed": false,
     "input": [
      "random.randint(-10, 10)"
     ],
     "language": "python",
     "metadata": {},
     "outputs": [
      {
       "metadata": {},
       "output_type": "pyout",
       "prompt_number": 3,
       "text": [
        "-7"
       ]
      }
     ],
     "prompt_number": 3
    },
    {
     "cell_type": "code",
     "collapsed": false,
     "input": [
      "mischen einer Liste (hier, die Zahlen von 0 bis 9)"
     ],
     "language": "python",
     "metadata": {},
     "outputs": [
      {
       "ename": "SyntaxError",
       "evalue": "invalid syntax (<ipython-input-4-75a6e187314f>, line 1)",
       "output_type": "pyerr",
       "traceback": [
        "\u001b[1;36m  File \u001b[1;32m\"<ipython-input-4-75a6e187314f>\"\u001b[1;36m, line \u001b[1;32m1\u001b[0m\n\u001b[1;33m    mischen einer Liste (hier, die Zahlen von 0 bis 9)\u001b[0m\n\u001b[1;37m                ^\u001b[0m\n\u001b[1;31mSyntaxError\u001b[0m\u001b[1;31m:\u001b[0m invalid syntax\n"
       ]
      }
     ],
     "prompt_number": 4
    },
    {
     "cell_type": "code",
     "collapsed": false,
     "input": [
      "x = range(10)\n",
      "random.shuffle(x)\n",
      "print(x)"
     ],
     "language": "python",
     "metadata": {},
     "outputs": [
      {
       "output_type": "stream",
       "stream": "stdout",
       "text": [
        "[2, 6, 8, 7, 9, 5, 4, 3, 0, 1]\n"
       ]
      }
     ],
     "prompt_number": 5
    },
    {
     "cell_type": "markdown",
     "metadata": {},
     "source": [
      "Gau\u00df'sche Normalverteilung, wobei `mu` der Mittelwert und `sigma` die Standardabweichung ist."
     ]
    },
    {
     "cell_type": "code",
     "collapsed": false,
     "input": [
      "random.normalvariate(mu = 1, sigma = 2)"
     ],
     "language": "python",
     "metadata": {},
     "outputs": [
      {
       "metadata": {},
       "output_type": "pyout",
       "prompt_number": 6,
       "text": [
        "-0.04496699262146309"
       ]
      }
     ],
     "prompt_number": 6
    },
    {
     "cell_type": "markdown",
     "metadata": {},
     "source": [
      "Da Zufallszahlen in Programmen unvorhersebar sind,\n",
      "jedoch mit einer deterministischen Methode berechnet werden,\n",
      "gibt es die M\u00f6glichkeit den internen Status des Zufallszahlengenerators zu setzen.\n",
      "Dies passiert mit der `seed` Funktion und ist f\u00fcr Tests oder das reproduzieren bestimmter Ergebnisse n\u00fctzlich."
     ]
    },
    {
     "cell_type": "code",
     "collapsed": false,
     "input": [
      "# zweimal genau dieselbe Zufallszahl!\n",
      "random.seed(42)\n",
      "print(random.random(), random.normalvariate(mu = 1, sigma = 2))\n",
      "random.seed(42)\n",
      "print(random.random(), random.normalvariate(mu = 1, sigma = 2))"
     ],
     "language": "python",
     "metadata": {},
     "outputs": [
      {
       "output_type": "stream",
       "stream": "stdout",
       "text": [
        "(0.6394267984578837, -1.2479729469788396)\n",
        "(0.6394267984578837, -1.2479729469788396)\n"
       ]
      }
     ],
     "prompt_number": 7
    },
    {
     "cell_type": "markdown",
     "metadata": {},
     "source": [
      "## Abz\u00e4hlstatistiken\n",
      "\n",
      "Mittels der Klasse [`Counter` in den `collections`](https://docs.python.org/2/library/collections.html#collections.Counter)\n",
      "([Counter in Python 3](https://docs.python.org/3/library/collections.html#collections.Counter)) k\u00f6nnen Listen abgez\u00e4hlt werden."
     ]
    },
    {
     "cell_type": "code",
     "collapsed": false,
     "input": [
      "from collections import Counter\n",
      "from random import randint"
     ],
     "language": "python",
     "metadata": {},
     "outputs": [],
     "prompt_number": 8
    },
    {
     "cell_type": "markdown",
     "metadata": {},
     "source": [
      "Multipliziere 10000 mal zwei zuf\u00e4llig von 1 bis 4 gew\u00e4hlte Ganze Zahlen.\n",
      "Welche H\u00e4ufigkeiten gibt es und was sind die drei h\u00e4ufigsten Zahlen?"
     ]
    },
    {
     "cell_type": "code",
     "collapsed": false,
     "input": [
      "numbers = [randint(1, 4) * randint(1, 4) for i in range(10000)]\n",
      "c = Counter(numbers)\n",
      "c"
     ],
     "language": "python",
     "metadata": {},
     "outputs": [
      {
       "metadata": {},
       "output_type": "pyout",
       "prompt_number": 9,
       "text": [
        "Counter({4: 1825, 6: 1280, 3: 1252, 12: 1246, 2: 1222, 8: 1217, 16: 687, 1: 650, 9: 621})"
       ]
      }
     ],
     "prompt_number": 9
    },
    {
     "cell_type": "code",
     "collapsed": false,
     "input": [
      "c.most_common(3)"
     ],
     "language": "python",
     "metadata": {},
     "outputs": [
      {
       "metadata": {},
       "output_type": "pyout",
       "prompt_number": 10,
       "text": [
        "[(4, 1825), (6, 1280), (3, 1252)]"
       ]
      }
     ],
     "prompt_number": 10
    },
    {
     "cell_type": "markdown",
     "metadata": {},
     "source": [
      "Einfaches Balkendiagramm, mit Skalierung.\n",
      "Beachte, dass einige Zahlen \u00fcberhaupt nicht vorkommen.\n",
      "\n",
      "**Frage**: warum kommt die 4 am h\u00e4ufigsten vor?"
     ]
    },
    {
     "cell_type": "code",
     "collapsed": false,
     "input": [
      "for i in range(1, 17):\n",
      "    print(\"%2d: \" % i + \"-\" * (c[i]/30))"
     ],
     "language": "python",
     "metadata": {},
     "outputs": [
      {
       "output_type": "stream",
       "stream": "stdout",
       "text": [
        " 1: ---------------------\n",
        " 2: ----------------------------------------\n",
        " 3: -----------------------------------------\n",
        " 4: ------------------------------------------------------------\n",
        " 5: \n",
        " 6: ------------------------------------------\n",
        " 7: \n",
        " 8: ----------------------------------------\n",
        " 9: --------------------\n",
        "10: \n",
        "11: \n",
        "12: -----------------------------------------\n",
        "13: \n",
        "14: \n",
        "15: \n",
        "16: ----------------------\n"
       ]
      }
     ],
     "prompt_number": 11
    },
    {
     "cell_type": "markdown",
     "metadata": {},
     "source": [
      "### Plot Normal-/Exponential verteilter Punkte"
     ]
    },
    {
     "cell_type": "code",
     "collapsed": false,
     "input": [
      "N = 1000 # Anzahl der Punkte\n",
      "xx = [ random.expovariate(.5)      for _ in range(N)]\n",
      "yy = [ random.normalvariate(10, 2) for _ in range(N)]\n",
      "\n",
      "%matplotlib inline\n",
      "import matplotlib.pyplot as plt\n",
      "plt.scatter(xx, yy, marker=\".\", color=\"black\", alpha=.5)"
     ],
     "language": "python",
     "metadata": {},
     "outputs": [
      {
       "metadata": {},
       "output_type": "pyout",
       "prompt_number": 12,
       "text": [
        "<matplotlib.collections.PathCollection at 0x2a49050>"
       ]
      },
      {
       "metadata": {},
       "output_type": "display_data",
       "png": "[encoded data removed]",
       "text": [
        "<matplotlib.figure.Figure at 0x1533a10>"
       ]
      }
     ],
     "prompt_number": 12
    },
    {
     "cell_type": "markdown",
     "metadata": {},
     "source": [
      "## NumPy/SciPy\n",
      "\n",
      "NumPy liefert in [numpy.random](http://docs.scipy.org/doc/numpy/reference/routines.random.html) eine F\u00fclle von Funktionen f\u00fcr das effiziente Sampeln verschiedener Verteilungen in Arrays."
     ]
    },
    {
     "cell_type": "markdown",
     "metadata": {},
     "source": [
      "Die vorhergehenden `xx` und `yy` listen lassen sich viel effizienter als NumPy Vektoren erzeugen:"
     ]
    },
    {
     "cell_type": "code",
     "collapsed": false,
     "input": [
      "import numpy as np\n",
      "xx = np.random.exponential(scale = 5, size = N)\n",
      "yy = 10 + 2 * np.random.randn(N)\n",
      "plt.scatter(xx, yy, color=\"black\", marker=\".\", alpha=.5)"
     ],
     "language": "python",
     "metadata": {},
     "outputs": [
      {
       "metadata": {},
       "output_type": "pyout",
       "prompt_number": 13,
       "text": [
        "<matplotlib.collections.PathCollection at 0x2d6d150>"
       ]
      },
      {
       "metadata": {},
       "output_type": "display_data",
       "png": "[encoded data removed]",
       "text": [
        "<matplotlib.figure.Figure at 0x2a59590>"
       ]
      }
     ],
     "prompt_number": 13
    },
    {
     "cell_type": "markdown",
     "metadata": {},
     "source": [
      "SciPy beinhaltet in [scipy.stats](http://docs.scipy.org/doc/scipy-dev/reference/stats.html) eine Sammlung von statistischen Verteilungen, Methoden und Tests.\n",
      "Viele allt\u00e4gliche Anwendungen sind damit abgedeckt.\n",
      "\n",
      "Das allgemeine Schema ist hierbei so,\n",
      "dass f\u00fcr jede der diskreten oder kontinuierlichen Verteilungen jeweils eine Liste bestimmter Funktionen implementiert sind.\n",
      "\n",
      "* `pdf` und `cdf` sind beispielsweise die Dichte- und kumulierten Dichteverteilungen,\n",
      "* `rvs` zum Sampeln zuf\u00e4lliger Werte,\n",
      "* und schlie\u00dflich `fit` zum Anpassen an gegebene Daten und\n",
      "* `stats` f\u00fcr generelle Daten \u00fcber die Verteilung."
     ]
    },
    {
     "cell_type": "code",
     "collapsed": false,
     "input": [
      "import scipy.stats as sps"
     ],
     "language": "python",
     "metadata": {},
     "outputs": [],
     "prompt_number": 14
    },
    {
     "cell_type": "markdown",
     "metadata": {},
     "source": [
      "10 Bernulli-verteilte Zahlen, mit Wahrscheinlichkeitsparameter `p = 0.2`:"
     ]
    },
    {
     "cell_type": "code",
     "collapsed": false,
     "input": [
      "sps.bernoulli.rvs(.2, size = 10)"
     ],
     "language": "python",
     "metadata": {},
     "outputs": [
      {
       "metadata": {},
       "output_type": "pyout",
       "prompt_number": 15,
       "text": [
        "array([0, 1, 1, 0, 0, 0, 1, 1, 0, 0])"
       ]
      }
     ],
     "prompt_number": 15
    },
    {
     "cell_type": "markdown",
     "metadata": {},
     "source": [
      "Rekonstruktion unserer Parameter der Normalverteilung (siehe `yy` oben)"
     ]
    },
    {
     "cell_type": "code",
     "collapsed": false,
     "input": [
      "sps.norm.fit(yy)"
     ],
     "language": "python",
     "metadata": {},
     "outputs": [
      {
       "metadata": {},
       "output_type": "pyout",
       "prompt_number": 16,
       "text": [
        "(9.8967461081415866, 2.0509406821999216)"
       ]
      }
     ],
     "prompt_number": 16
    },
    {
     "cell_type": "markdown",
     "metadata": {},
     "source": [
      "Es gibt in `scipy.stats` auch eine Reihe von statistischen Funktionen und Tests.\n",
      "Beispielsweise gibt es den ber\u00fchmten [T-Test](http://en.wikipedia.org/wiki/Student's_t-test),\n",
      "um herauszufinden ob zwei unterschiedliche Samples den gleichen Mittelwert haben."
     ]
    },
    {
     "cell_type": "markdown",
     "metadata": {},
     "source": [
      "### (Welch's) T-Test\n",
      "\n",
      "`male` und `female` sind hier normalverteilte Pr\u00fcfungsergebnisse.\n",
      "Gibt es einen signifikanten Unterschied?\n",
      "Die $H_0$ [Nullhypothese](http://en.wikipedia.org/wiki/Null_hypothesis) w\u00e4re, dass die Mittelwerte gleich sind.\n",
      "Die Ergebnisse des Tests liegen aber \u00fcber der 1% bzw. 5% Schranke liegen und daher kann diese Nullhypothese nicht verworfen werden.\n",
      "In der Tat sind die Mittelwerte jedoch nicht gleich, n\u00e4mlich `3.2` bzw. `3.3`,\n",
      "jedoch kann der Test dies aufgrund der kleinen Datenmenge bzw. gro\u00dfen Streuung dies nicht erkennen."
     ]
    },
    {
     "cell_type": "code",
     "collapsed": false,
     "input": [
      "male = sps.norm.rvs(loc=3.2,scale=1.4,size=30)\n",
      "female = sps.norm.rvs(loc=3.3,scale=1.4,size=20)\n",
      "sps.ttest_ind(male, female, equal_var = False)"
     ],
     "language": "python",
     "metadata": {},
     "outputs": [
      {
       "metadata": {},
       "output_type": "pyout",
       "prompt_number": 24,
       "text": [
        "(array(0.7336554292857781), 0.46673218545034301)"
       ]
      }
     ],
     "prompt_number": 24
    },
    {
     "cell_type": "markdown",
     "metadata": {},
     "source": [
      "## Statsmodels\n",
      "\n",
      "Eine m\u00e4chtigere Bibliothek f\u00fcr statistische Modellierung und Rechnung ist [Statsmodels](http://statsmodels.sourceforge.net/)."
     ]
    },
    {
     "cell_type": "code",
     "collapsed": false,
     "input": [],
     "language": "python",
     "metadata": {},
     "outputs": [],
     "prompt_number": 16
    }
   ],
   "metadata": {}
  }
 ]
}
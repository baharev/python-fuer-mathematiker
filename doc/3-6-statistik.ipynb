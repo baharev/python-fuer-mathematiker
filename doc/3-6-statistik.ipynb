{
 "metadata": {
  "name": "",
  "signature": "sha256:ed0868e2a025dd447ebab19ccab542ad1e991cc553cba736de7d2145d38d3d3d"
 },
 "nbformat": 3,
 "nbformat_minor": 0,
 "worksheets": [
  {
   "cells": [
    {
     "cell_type": "markdown",
     "metadata": {},
     "source": [
      "# Statistik\n",
      "\n",
      "Dieses Kapitel umfasst die grafische Darstellung und Analyse von empirischen Daten."
     ]
    },
    {
     "cell_type": "markdown",
     "metadata": {},
     "source": [
      "## Abz\u00e4hlstatistiken\n",
      "\n",
      "Mittels der Klasse [`Counter` in den `collections`](https://docs.python.org/2/library/collections.html#collections.Counter)\n",
      "([Counter in Python 3](https://docs.python.org/3/library/collections.html#collections.Counter)) k\u00f6nnen Listen abgez\u00e4hlt werden."
     ]
    },
    {
     "cell_type": "code",
     "collapsed": false,
     "input": [
      "from collections import Counter\n",
      "from random import randint"
     ],
     "language": "python",
     "metadata": {},
     "outputs": [],
     "prompt_number": 2
    },
    {
     "cell_type": "markdown",
     "metadata": {},
     "source": [
      "Multipliziere 10000 mal zwei zuf\u00e4llig von 1 bis 4 gew\u00e4hlte Ganze Zahlen.\n",
      "Welche H\u00e4ufigkeiten gibt es und was sind die drei h\u00e4ufigsten Zahlen?"
     ]
    },
    {
     "cell_type": "code",
     "collapsed": false,
     "input": [
      "numbers = [randint(1, 4) * randint(1, 4) for i in range(10000)]\n",
      "c = Counter(numbers)\n",
      "c"
     ],
     "language": "python",
     "metadata": {},
     "outputs": [
      {
       "metadata": {},
       "output_type": "pyout",
       "prompt_number": 3,
       "text": [
        "Counter({4: 1850, 8: 1267, 2: 1252, 6: 1244, 3: 1243, 12: 1220, 1: 673, 16: 654, 9: 597})"
       ]
      }
     ],
     "prompt_number": 3
    },
    {
     "cell_type": "code",
     "collapsed": false,
     "input": [
      "c.most_common(3)"
     ],
     "language": "python",
     "metadata": {},
     "outputs": [
      {
       "metadata": {},
       "output_type": "pyout",
       "prompt_number": 4,
       "text": [
        "[(4, 1850), (8, 1267), (2, 1252)]"
       ]
      }
     ],
     "prompt_number": 4
    },
    {
     "cell_type": "markdown",
     "metadata": {},
     "source": [
      "Einfaches Balkendiagramm, mit Skalierung.\n",
      "Beachte, dass einige Zahlen \u00fcberhaupt nicht vorkommen.\n",
      "\n",
      "**Frage**: warum kommt die 4 am h\u00e4ufigsten vor?"
     ]
    },
    {
     "cell_type": "code",
     "collapsed": false,
     "input": [
      "for i in range(1, 17):\n",
      "    print(\"%2d: \" % i + \"-\" * (c[i]/30))"
     ],
     "language": "python",
     "metadata": {},
     "outputs": [
      {
       "output_type": "stream",
       "stream": "stdout",
       "text": [
        " 1: ----------------------\n",
        " 2: -----------------------------------------\n",
        " 3: -----------------------------------------\n",
        " 4: -------------------------------------------------------------\n",
        " 5: \n",
        " 6: -----------------------------------------\n",
        " 7: \n",
        " 8: ------------------------------------------\n",
        " 9: -------------------\n",
        "10: \n",
        "11: \n",
        "12: ----------------------------------------\n",
        "13: \n",
        "14: \n",
        "15: \n",
        "16: ---------------------\n"
       ]
      }
     ],
     "prompt_number": 5
    },
    {
     "cell_type": "code",
     "collapsed": false,
     "input": [],
     "language": "python",
     "metadata": {},
     "outputs": [],
     "prompt_number": 5
    },
    {
     "cell_type": "markdown",
     "metadata": {},
     "source": [
      "## NumPy/SciPy\n",
      "\n",
      "SciPy beinhaltet in [scipy.stats](http://docs.scipy.org/doc/scipy-dev/reference/stats.html) eine Sammlung von statistischen Verteilungen, Methoden und Tests.\n",
      "Viele allt\u00e4gliche Anwendungen sind damit abgedeckt."
     ]
    },
    {
     "cell_type": "code",
     "collapsed": false,
     "input": [],
     "language": "python",
     "metadata": {},
     "outputs": [],
     "prompt_number": 5
    },
    {
     "cell_type": "markdown",
     "metadata": {},
     "source": [
      "## Statsmodels\n",
      "\n",
      "Eine m\u00e4chtige Bibliothek f\u00fcr statistische Modellierung ist [Statsmodels](http://statsmodels.sourceforge.net/).\n"
     ]
    },
    {
     "cell_type": "code",
     "collapsed": false,
     "input": [],
     "language": "python",
     "metadata": {},
     "outputs": [],
     "prompt_number": 5
    }
   ],
   "metadata": {}
  }
 ]
}
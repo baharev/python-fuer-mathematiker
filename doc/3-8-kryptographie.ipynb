{
 "metadata": {
  "name": "",
  "signature": "sha256:da31713c0799c50028ef420fa4b69c6f39416fcee3278614ec66b7f5d288d1ce"
 },
 "nbformat": 3,
 "nbformat_minor": 0,
 "worksheets": [
  {
   "cells": [
    {
     "cell_type": "heading",
     "level": 1,
     "metadata": {},
     "source": [
      "Kryptographie"
     ]
    },
    {
     "cell_type": "markdown",
     "metadata": {},
     "source": [
      "Geheimnisse werden bevorzugt verschl\u00fcsselt \u00fcbermittelt.\n",
      "Dieses Kapitel zeigt einige Varianten, \n",
      "wie einfache Verschl\u00fcsselungsmethoden implementiert werden k\u00f6nnen."
     ]
    },
    {
     "cell_type": "markdown",
     "metadata": {},
     "source": [
      "## Caesarkodierung\n",
      "\n",
      "Die [Caesarkodierung](http://de.wikipedia.org/wiki/Caesar-Verschl%C3%BCsselung) geht auf einfaches Vertauschen von Buchstaben zur\u00fcck."
     ]
    },
    {
     "cell_type": "code",
     "collapsed": false,
     "input": [
      "from string import uppercase\n",
      "start = ord(\"A\")\n",
      "end = ord(\"Z\")\n",
      "length = end - start"
     ],
     "language": "python",
     "metadata": {},
     "outputs": [],
     "prompt_number": 1
    },
    {
     "cell_type": "code",
     "collapsed": false,
     "input": [
      "def create_code(n):\n",
      "    def encoder(word):\n",
      "        cipher = []\n",
      "        for char in word:\n",
      "            if char in uppercase:\n",
      "                enc = chr((ord(char) - start + n) % length + start)\n",
      "                cipher.append(enc)\n",
      "            else:\n",
      "                cipher.append(char)\n",
      "        return ''.join(cipher)\n",
      "    return encoder"
     ],
     "language": "python",
     "metadata": {},
     "outputs": [],
     "prompt_number": 2
    },
    {
     "cell_type": "code",
     "collapsed": false,
     "input": [
      "code1 = create_code(11)\n",
      "cc = code1(\"DAS IST GEHEIM\")\n",
      "cc"
     ],
     "language": "python",
     "metadata": {},
     "outputs": [
      {
       "metadata": {},
       "output_type": "pyout",
       "prompt_number": 3,
       "text": [
        "'OLE TEF RPSPTX'"
       ]
      }
     ],
     "prompt_number": 3
    },
    {
     "cell_type": "code",
     "collapsed": false,
     "input": [
      "code2 = create_code(-11)\n",
      "code2(cc)"
     ],
     "language": "python",
     "metadata": {},
     "outputs": [
      {
       "metadata": {},
       "output_type": "pyout",
       "prompt_number": 4,
       "text": [
        "'DAS IST GEHEIM'"
       ]
      }
     ],
     "prompt_number": 4
    },
    {
     "cell_type": "markdown",
     "metadata": {},
     "source": [
      "Das Problem ist, die H\u00e4ufigkeit der einzelnen Buchstaben ist nicht gleich.\n",
      "Daher l\u00e4sst sich mit einer einfachen Statistik erahnen,\n",
      "welcher Buchstabe wie verschl\u00fcsselt ist."
     ]
    },
    {
     "cell_type": "code",
     "collapsed": false,
     "input": [],
     "language": "python",
     "metadata": {},
     "outputs": [],
     "prompt_number": 4
    },
    {
     "cell_type": "code",
     "collapsed": false,
     "input": [],
     "language": "python",
     "metadata": {},
     "outputs": [],
     "prompt_number": 4
    },
    {
     "cell_type": "code",
     "collapsed": false,
     "input": [
      "%matplotlib inline\n",
      "import matplotlib.pyplot as plt"
     ],
     "language": "python",
     "metadata": {},
     "outputs": [],
     "prompt_number": 5
    },
    {
     "cell_type": "code",
     "collapsed": false,
     "input": [
      "# use a counter, greate a plt.hbar plot, and set the y_axis labels to uppercase"
     ],
     "language": "python",
     "metadata": {},
     "outputs": [],
     "prompt_number": 6
    },
    {
     "cell_type": "heading",
     "level": 2,
     "metadata": {},
     "source": [
      "Enigma"
     ]
    },
    {
     "cell_type": "markdown",
     "metadata": {},
     "source": [
      "Die [Enigma Verschl\u00fcsselungsmaschine](http://en.wikipedia.org/wiki/Enigma_machine) ist \u00e4hnlich einer Schreibmaschine.\n",
      "Buchstaben von \"A\" bis \"Z\" werden gedr\u00fcckt,\n",
      "um variabel verdrahteten Stromkreise zu schlie\u00dfen.\n",
      "Nach jedem Tastendruck drehen die Rotoren um einen Schritt weiter.\n",
      "Je nach der Stellung der Rotoren (und einem fixen Steckbrett) leuchten L\u00e4mpchen von \"A\" bis \"Z\" auf.\n",
      "\n",
      "Im folgenden programmieren wir eine an die Enigma Maschine angelehnte Verschl\u00fcsselungsmethode in Python.\n",
      "Zur besseren Lesbarkeit inkludieren wir auch das Leerzeichen, und alle anderen Zeichen werden ohne Verschl\u00fcsselung als \".\" wiedergegeben.\n",
      "Das Steckbrett wird ausgelassen, es w\u00fcrde nur zus\u00e4tzlich noch ein paar Buchstaben untereinander austauschen.\n",
      "\n",
      "Die Funktionsweise ist die folgende:\n",
      "Die Rotoren und der Reflektor haben intern eine zuf\u00e4llige Permutation gespeichert.\n",
      "Der initiale Buchstabenindex wird durch die Rotoren zum Permutieren geschickt,\n",
      "der starre Reflektor dreht den \"Stromfluss\" um,\n",
      "und in umgekehrter Reihenfolge die inversen Permutationsoperationen der Rotoren abzuarbeiten.\n",
      "\n",
      "Nach jedem Buchstaben springt das Z\u00e4hlwerk der Rotoren um eins weiter.\n",
      "\n",
      "Zur Entschl\u00fcsselung m\u00fcssen die Rotoren der Enigma wieder in ihren Anfangszustand zur\u00fcckgesetzt werden.\n",
      "\n",
      "Anzumerken ist au\u00dferdem, dass in der echten Version nur eine kleine Anzahl von Rotor und Reflektor Permutationen existierten. Diese Implementation hier erlaubt jegliche Art von Permutationen, eben auch solche, welche einen Kurzschluss im Stromkreis erzeugen w\u00fcrden.\n",
      "\n",
      "Eine wahrheitsgetreuere Implementation liefert [py-enigma](http://py-enigma.readthedocs.org/en/latest/)"
     ]
    },
    {
     "cell_type": "code",
     "collapsed": false,
     "input": [
      "class Rotor(object):\n",
      "    \"\"\"\n",
      "    Der Rotor permutiert den eingegebenen Buchstaben entsprechend seiner Rotationsstellung.\n",
      "    Nach einer vollen Rotation wird an den n\u00e4chsten Rotor das Signal zum Vorr\u00fccken weitergegeben.\n",
      "    \"\"\"\n",
      "    def __init__(self, length):\n",
      "        self.length = length\n",
      "        self.permutation = range(length)\n",
      "        from random import shuffle\n",
      "        shuffle(self.permutation)\n",
      "        self.position = 0\n",
      "        self.next_rotor = None\n",
      "\n",
      "    def rotate(self):\n",
      "        self.position = (self.position + 1) % self.length\n",
      "        if self.position == 0:\n",
      "            self.next_rotor.rotate()\n",
      "            \n",
      "    def reset(self):\n",
      "        self.position = 0\n",
      "\n",
      "    def forward(self, c):\n",
      "        idx = (self.position + c) % self.length\n",
      "        return self.permutation[idx]\n",
      "    \n",
      "    def inverse(self, c):\n",
      "        idx = self.permutation.index(c)\n",
      "        return (idx - self.position) % self.length"
     ],
     "language": "python",
     "metadata": {},
     "outputs": [],
     "prompt_number": 7
    },
    {
     "cell_type": "code",
     "collapsed": false,
     "input": [
      "class Reflector(Rotor):\n",
      "    \"\"\"\n",
      "    Am Ende der Reihe von Rotoren, gibt es einen Reflector (Unterklasse von Rotor).\n",
      "    Er schickt das Signal an eine permutierte Stelle zur\u00fcck f\u00fcr die inverse Operation.\n",
      "    \n",
      "    Es gab Varianten mit einem rotierendne Reflektor, hier ist er starr.\n",
      "    \"\"\"\n",
      "    def __init__(self, l):\n",
      "        super(Reflector, self).__init__(l)\n",
      "    \n",
      "    def rotate(self):\n",
      "        pass\n",
      "    \n",
      "    def reset(self):\n",
      "        pass\n",
      "\n",
      "    def reflect(self, c, encrypt):\n",
      "        if encrypt:\n",
      "            return self.permutation[c]\n",
      "        else:\n",
      "            return self.permutation.index(c)"
     ],
     "language": "python",
     "metadata": {},
     "outputs": [],
     "prompt_number": 8
    },
    {
     "cell_type": "code",
     "collapsed": false,
     "input": [
      "class Enigma(object):\n",
      "    \"\"\"\n",
      "    Diese Enigma Hauptklasse instanziert die Rotoren und den Reflektor.\n",
      "    Die Methode `run` simuliert den Stromfluss durch die Rotoren und den Reflektor.\n",
      "    \"\"\"\n",
      "    def __init__(self):\n",
      "        import string\n",
      "        self.letters = list(string.uppercase + \" \")\n",
      "        l = len(self.letters)\n",
      "        \n",
      "        self.rotors = rotors = [Rotor(l), Rotor(l), Rotor(l), Rotor(l)]\n",
      "        self.reflector = Reflector(l)\n",
      "        \n",
      "        for i in range(len(rotors) - 1):\n",
      "            rotors[i].next_rotor = rotors[i+1]\n",
      "    \n",
      "    def reset(self):\n",
      "        for r in self.rotors:\n",
      "            r.reset()\n",
      "        self.reflector.reset()\n",
      "        \n",
      "    def run(self, char, encrypt = True):\n",
      "        char = char.upper()\n",
      "        if char not in self.letters:\n",
      "            return \".\"\n",
      "        c = self.letters.index(char)\n",
      "        for r in self.rotors:\n",
      "            c = r.forward(c)\n",
      "        c = self.reflector.reflect(c, encrypt)\n",
      "        for r in self.rotors[::-1]:\n",
      "            c = r.inverse(c)\n",
      "        self.rotors[0].rotate()\n",
      "        return self.letters[c]"
     ],
     "language": "python",
     "metadata": {},
     "outputs": [],
     "prompt_number": 9
    },
    {
     "cell_type": "code",
     "collapsed": false,
     "input": [
      "import random\n",
      "seed = 1938 # damit die Zufallsresultate immer gleich sind.\n",
      "random.seed(seed)\n",
      "e = Enigma()"
     ],
     "language": "python",
     "metadata": {},
     "outputs": [],
     "prompt_number": 10
    },
    {
     "cell_type": "code",
     "collapsed": false,
     "input": [
      "from __future__ import print_function\n",
      "plain = \"\"\"\\\n",
      "DIES IST EIN GEHEIMER TEXT DEN DIE PROGRAMMIERSPRACHE \\\n",
      "PYTHON IN EINER AN DIE MECHANIK DER ENIGMA CHIFFRIERMASCHINE \\\n",
      "ANGELEHNTEN WEISE VERSCHUESSELN UND ENTSCHLUESSLEN KANN\\\n",
      "\"\"\"\n",
      "e.reset()\n",
      "cipher = \"\".join(e.run(char) for char in plain)\n",
      "print(cipher)"
     ],
     "language": "python",
     "metadata": {},
     "outputs": [
      {
       "output_type": "stream",
       "stream": "stdout",
       "text": [
        "KFNZGRFWKNLABHHJDATYOZRDWASHDMFMXMRTDJKXPZHDPL JPDYUKVERRNHGOYLMYWGQZTVGLVKYYZG QDLQZXPMQITOEXQZYTGTEJNFHPULOGNPCKOYTANFXIKQFRPETHQBZPIHAWRMWKIBFIJJAUWZQCBKZJGWEIRNTRBJJW\n"
       ]
      }
     ],
     "prompt_number": 11
    },
    {
     "cell_type": "code",
     "collapsed": false,
     "input": [
      "e.reset()\n",
      "for char in cipher:\n",
      "    print(e.run(char, encrypt=False), end=\"\")"
     ],
     "language": "python",
     "metadata": {},
     "outputs": [
      {
       "output_type": "stream",
       "stream": "stdout",
       "text": [
        "DIES IST EIN GEHEIMER TEXT DEN DIE PROGRAMMIERSPRACHE PYTHON IN EINER AN DIE MECHANIK DER ENIGMA CHIFFRIERMASCHINE ANGELEHNTEN WEISE VERSCHUESSELN UND ENTSCHLUESSLEN KANN"
       ]
      }
     ],
     "prompt_number": 12
    },
    {
     "cell_type": "code",
     "collapsed": false,
     "input": [],
     "language": "python",
     "metadata": {},
     "outputs": [],
     "prompt_number": 12
    }
   ],
   "metadata": {}
  }
 ]
}
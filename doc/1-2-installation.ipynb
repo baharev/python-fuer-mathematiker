{
 "cells": [
  {
   "cell_type": "markdown",
   "metadata": {},
   "source": [
    "# Installation"
   ]
  },
  {
   "cell_type": "markdown",
   "metadata": {},
   "source": [
    "Um mit den hier vorliegenden Unterlagen arbeiten zu können,\n",
    "braucht man Python und einige dazugehörige Software-Bibliotheken.\n",
    "\n",
    "Für Windows, Mac und Linux gibt es hierfür Distributionen für wissenschaftliche Zwecke:\n",
    "\n",
    "* [Canopy von Enthought](https://www.enthought.com/products/canopy/)\n",
    "* [Anaconda von Continuum Analytics](https://store.continuum.io/cshop/anaconda/)\n",
    "\n",
    "bzw. für Debian/Ubuntu Linux die entsprechenden mitgelieferten Softwarepakete: `python`, `python-numpy`, `python-scipy`, `python-sympy`, `ipython`, `python-pandas`, `python-matplotlib`, `python-networkx`, ...\n",
    "\n",
    "Alternativ lässt sich auch online arbeiten:\n",
    "\n",
    "* [SageMathCloud](https://cloud.sagemath.com)\n",
    "\n",
    "Nicht unebdingt notwendig, da nur an wenigen Stellen verwendet, kommen auch einige andere Tools vor:\n",
    "\n",
    "* [dot von graphviz](http://www.graphviz.org/): plottet graphen\n",
    "* [Git](http://www.git-scm.com/): Versionskontrolle"
   ]
  },
  {
   "cell_type": "markdown",
   "metadata": {},
   "source": [
    "Die hier momentan verwendeten Bibliotheken haben diese Versionsnummern:"
   ]
  },
  {
   "cell_type": "code",
   "execution_count": 3,
   "metadata": {
    "collapsed": false
   },
   "outputs": [
    {
     "name": "stdout",
     "output_type": "stream",
     "text": [
      "Zeitpunkt: 2015-03-13\n",
      "Python: 2.7.6 | 64-bit | (default, Sep 15 2014, 17:36:10) \n",
      "bs4             4.3.2\n",
      "csv             1.0\n",
      "cython          0.22\n",
      "json            2.0.9\n",
      "matplotlib      1.4.3\n",
      "mpmath          0.17\n",
      "networkx        1.9.1\n",
      "numpy           1.8.1\n",
      "pandas          0.15.2\n",
      "scipy           0.15.1\n",
      "sklearn         0.15.2\n",
      "sqlite3         2.6.0\n",
      "statsmodels     0.6.1\n",
      "sympy           0.7.6\n",
      "yaml            3.11\n"
     ]
    }
   ],
   "source": [
    "import datetime\n",
    "print(\"Zeitpunkt: %s\" % datetime.date.today())\n",
    "\n",
    "import sys\n",
    "print(\"Python: %s\" % sys.version.splitlines()[0])\n",
    "\n",
    "# bs4: beautifulsoup4\n",
    "libs = ['numpy', 'scipy', 'matplotlib', 'sympy', 'mpmath', 'pandas', 'statsmodels',\n",
    "        'sklearn', 'networkx', 'yaml', 'json', 'csv', 'sqlite3', 'cython', \"bs4\"]\n",
    "from importlib import import_module\n",
    "for lib_name in sorted(libs):\n",
    "    lib = import_module(lib_name)\n",
    "    try:\n",
    "        vers = lib.__version__\n",
    "    except:\n",
    "        vers = lib.version\n",
    "    print(\"{:<15s} {}\".format(lib_name, vers))"
   ]
  }
 ],
 "metadata": {
  "kernelspec": {
   "display_name": "Python 2",
   "language": "python",
   "name": "python2"
  },
  "language_info": {
   "codemirror_mode": {
    "name": "ipython",
    "version": 2
   },
   "file_extension": ".py",
   "mimetype": "text/x-python",
   "name": "python",
   "nbconvert_exporter": "python",
   "pygments_lexer": "ipython2",
   "version": "2.7.6"
  }
 },
 "nbformat": 4,
 "nbformat_minor": 0
}

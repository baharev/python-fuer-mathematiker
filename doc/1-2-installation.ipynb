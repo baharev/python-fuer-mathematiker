{
 "metadata": {
  "name": "",
  "signature": "sha256:5c5535531b001e695aca8acc02c7bce63f564cf642a2b5320f78684c1a499aa1"
 },
 "nbformat": 3,
 "nbformat_minor": 0,
 "worksheets": [
  {
   "cells": [
    {
     "cell_type": "heading",
     "level": 1,
     "metadata": {},
     "source": [
      "Installation"
     ]
    },
    {
     "cell_type": "markdown",
     "metadata": {},
     "source": [
      "Um mit den hier vorliegenden Unterlagen arbeiten zu k\u00f6nnen,\n",
      "braucht man Python und einige dazugeh\u00f6rige Software-Bibliotheken.\n",
      "\n",
      "F\u00fcr Windows, Mac und Linux gibt es hierf\u00fcr Distributionen f\u00fcr wissenschaftliche Zwecke:\n",
      "\n",
      "* [Canopy von Enthought](https://www.enthought.com/products/canopy/)\n",
      "* [Anaconda von Continuum Analytics](https://store.continuum.io/cshop/anaconda/)\n",
      "\n",
      "bzw. f\u00fcr Debian/Ubuntu Linux die entsprechenden mitgelieferten Softwarepakete: `python`, `python-numpy`, `python-scipy`, `python-sympy`, `ipython`, `python-pandas`, `python-matplotlib`, `python-networkx`, ...\n",
      "\n",
      "Alternativ l\u00e4sst sich auch online arbeiten:\n",
      "\n",
      "* [SageMathCloud](https://cloud.sagemath.com)\n",
      "\n",
      "Nicht unebdingt notwendig, da nur an wenigen Stellen verwendet, kommen auch einige andere Tools vor:\n",
      "\n",
      "* [dot von graphviz](http://www.graphviz.org/): plottet graphen\n",
      "* [Git](http://www.git-scm.com/): Versionskontrolle"
     ]
    },
    {
     "cell_type": "markdown",
     "metadata": {},
     "source": [
      "Die hier momentan verwendeten Bibliotheken haben diese Versionsnummern:"
     ]
    },
    {
     "cell_type": "code",
     "collapsed": false,
     "input": [
      "import datetime\n",
      "print(\"Zeitpunkt: %s\" % datetime.date.today())\n",
      "\n",
      "import sys\n",
      "versions = [[\"Python\", sys.version.splitlines()[0]]]\n",
      "\n",
      "libs = [\"numpy\", \"scipy\", \"pandas\", \"matplotlib\", \"sympy\", \"IPython\", \"networkx\"]\n",
      "\n",
      "from importlib import import_module\n",
      "for lib_name in sorted(libs):\n",
      "    lib = import_module(lib_name)\n",
      "    versions.append([lib_name, lib.__version__])\n",
      "versions"
     ],
     "language": "python",
     "metadata": {},
     "outputs": [
      {
       "output_type": "stream",
       "stream": "stdout",
       "text": [
        "Zeitpunkt: 2014-12-30\n"
       ]
      },
      {
       "metadata": {},
       "output_type": "pyout",
       "prompt_number": 19,
       "text": [
        "[['Python', '2.7.6 | 64-bit | (default, Sep 15 2014, 17:36:10) '],\n",
        " ['IPython', '2.3.1'],\n",
        " ['matplotlib', '1.4.2'],\n",
        " ['networkx', '1.9.1'],\n",
        " ['numpy', '1.8.1'],\n",
        " ['pandas', '0.15.2'],\n",
        " ['scipy', '0.14.1rc1'],\n",
        " ['sympy', '0.7.6']]"
       ]
      }
     ],
     "prompt_number": 19
    }
   ],
   "metadata": {}
  }
 ]
}
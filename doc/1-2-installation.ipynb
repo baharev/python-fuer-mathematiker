{
 "metadata": {
  "name": "",
  "signature": "sha256:167599146943e5caf09d71076e95dbb7234f6285f263f3519c1efaffe16527f6"
 },
 "nbformat": 3,
 "nbformat_minor": 0,
 "worksheets": [
  {
   "cells": [
    {
     "cell_type": "heading",
     "level": 1,
     "metadata": {},
     "source": [
      "Installation"
     ]
    },
    {
     "cell_type": "markdown",
     "metadata": {},
     "source": [
      "Um mit den hier vorliegenden Unterlagen arbeiten zu k\u00f6nnen,\n",
      "braucht man Python und einige dazugeh\u00f6rige Software-Bibliotheken.\n",
      "\n",
      "F\u00fcr Windows, Mac und Linux gibt es hierf\u00fcr Distributionen f\u00fcr wissenschaftliche Zwecke:\n",
      "\n",
      "* [Canopy von Enthought](https://www.enthought.com/products/canopy/)\n",
      "* [Anaconda von Continuum Analytics](https://store.continuum.io/cshop/anaconda/)\n",
      "\n",
      "bzw. f\u00fcr Debian/Ubuntu Linux die entsprechenden mitgelieferten Softwarepakete: `python`, `python-numpy`, `python-scipy`, `python-sympy`, `ipython`, `python-pandas`, `python-matplotlib`, `python-networkx`, ...\n",
      "\n",
      "Alternativ l\u00e4sst sich auch online arbeiten:\n",
      "\n",
      "* [SageMathCloud](https://cloud.sagemath.com)\n",
      "\n",
      "Nicht unebdingt notwendig, da nur an wenigen Stellen verwendet, kommen auch einige andere Tools vor:\n",
      "\n",
      "* [dot von graphviz](http://www.graphviz.org/): plottet graphen\n",
      "* [Git](http://www.git-scm.com/): Versionskontrolle"
     ]
    },
    {
     "cell_type": "markdown",
     "metadata": {},
     "source": [
      "Die hier momentan verwendeten Bibliotheken haben diese Versionsnummern:"
     ]
    },
    {
     "cell_type": "code",
     "collapsed": false,
     "input": [
      "import datetime\n",
      "print(\"Zeitpunkt: %s\" % datetime.date.today())\n",
      "\n",
      "import sys\n",
      "print(\"Python: %s\" % sys.version.splitlines()[0])\n",
      "\n",
      "libs = ['numpy', 'scipy', 'matplotlib', 'sympy', 'mpmath', 'pandas', 'statsmodels',\n",
      "        'sklearn', 'networkx', 'yaml', 'json', 'csv', 'sqlite3', 'cython', \"bs4\"]\n",
      "from importlib import import_module\n",
      "for lib_name in sorted(libs):\n",
      "    lib = import_module(lib_name)\n",
      "    try:\n",
      "        vers = lib.__version__\n",
      "    except:\n",
      "        vers = lib.version\n",
      "    print(\"{:<15s} {}\".format(lib_name, vers))"
     ],
     "language": "python",
     "metadata": {},
     "outputs": [
      {
       "output_type": "stream",
       "stream": "stdout",
       "text": [
        "Zeitpunkt: 2015-02-20\n",
        "Python: 2.7.6 | 64-bit | (default, Sep 15 2014, 17:36:10) \n",
        "bs4             4.3.2"
       ]
      },
      {
       "output_type": "stream",
       "stream": "stdout",
       "text": [
        "\n",
        "csv             1.0"
       ]
      },
      {
       "output_type": "stream",
       "stream": "stdout",
       "text": [
        "\n",
        "cython          0.21.2\n",
        "json            2.0.9\n",
        "matplotlib      1.4.2"
       ]
      },
      {
       "output_type": "stream",
       "stream": "stdout",
       "text": [
        "\n",
        "mpmath          0.17"
       ]
      },
      {
       "output_type": "stream",
       "stream": "stdout",
       "text": [
        "\n",
        "networkx        1.9.1"
       ]
      },
      {
       "output_type": "stream",
       "stream": "stdout",
       "text": [
        "\n",
        "numpy           1.8.1\n",
        "pandas          0.15.2"
       ]
      },
      {
       "output_type": "stream",
       "stream": "stdout",
       "text": [
        "\n",
        "scipy           0.15.1\n",
        "sklearn         0.15.2\n",
        "sqlite3         2.6.0\n",
        "statsmodels     0.6.1"
       ]
      },
      {
       "output_type": "stream",
       "stream": "stdout",
       "text": [
        "\n",
        "sympy           0.7.6"
       ]
      },
      {
       "output_type": "stream",
       "stream": "stdout",
       "text": [
        "\n",
        "yaml            3.11"
       ]
      },
      {
       "output_type": "stream",
       "stream": "stdout",
       "text": [
        "\n"
       ]
      }
     ],
     "prompt_number": 1
    },
    {
     "cell_type": "code",
     "collapsed": false,
     "input": [],
     "language": "python",
     "metadata": {},
     "outputs": []
    }
   ],
   "metadata": {}
  }
 ]
}
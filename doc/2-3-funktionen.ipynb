{
 "metadata": {
  "name": "",
  "signature": "sha256:a0b94440b8fa246f740bfdbebb7efef27c6415bfabf15a961a11275e85a9bee9"
 },
 "nbformat": 3,
 "nbformat_minor": 0,
 "worksheets": [
  {
   "cells": [
    {
     "cell_type": "markdown",
     "metadata": {},
     "source": [
      "# Konzept 3: Funktionen\n",
      "\n",
      "Eine **Funktion** hat den Sinn, einen Block von Anweisungen auf Abruf verf\u00fcgbar zu haben.\n",
      "Es k\u00f6nnen Objekte als Argumente \u00fcbergeben werden und ein oder mehrere Objekte als Ausgabe zur\u00fcckgegeben werden.\n",
      "Funktionen werden durch nach dem Variablennamen nachgestellte geschwungene Klammern \"`(...)`\" aufgerufen\n",
      "\n",
      "Beispiel: `math.sqrt(2)` berechnet die Quadratwurzel aus 2.\n",
      "\n",
      "In den Klammern stehen die sogenannten \"Argumente\" dieser Funktion,\n",
      "welche f\u00fcr die Auswertung \u00fcbergeben werden -- werden keine Argumente \u00fcbergeben, so bleiben die Klammern leer.\n",
      "Zur\u00fcckgegeben wird das Ergebnis nach Ausf\u00fchrung des Codes in der Funktion."
     ]
    },
    {
     "cell_type": "markdown",
     "metadata": {},
     "source": [
      "Definiert werden Funktionen mittels \"`def name(argument1, argument2, ...):`\" und \"`return ...`\" gibt an, was zur\u00fcckgegeben wird:"
     ]
    },
    {
     "cell_type": "code",
     "collapsed": false,
     "input": [
      "def meine_funktion(x, b):\n",
      "    y = x + b\n",
      "    z = 2*y + x\n",
      "    return z * y"
     ],
     "language": "python",
     "metadata": {},
     "outputs": [],
     "prompt_number": 1
    },
    {
     "cell_type": "markdown",
     "metadata": {},
     "source": [
      "Die Variable `meine_funktion` beinhaltet das Funktionsobjekt, wobei die Hexadezimalzahl die (wenig informative) Speichadresse ist:"
     ]
    },
    {
     "cell_type": "code",
     "collapsed": false,
     "input": [
      "print(meine_funktion)"
     ],
     "language": "python",
     "metadata": {},
     "outputs": [
      {
       "output_type": "stream",
       "stream": "stdout",
       "text": [
        "<function meine_funktion at 0x2a437d0>\n"
       ]
      }
     ],
     "prompt_number": 2
    },
    {
     "cell_type": "markdown",
     "metadata": {},
     "source": [
      "Aufruf diese \"callable\" Funktion mittels Argumenten in runder Klammer:"
     ]
    },
    {
     "cell_type": "code",
     "collapsed": false,
     "input": [
      "meine_funktion(4.4, 11)"
     ],
     "language": "python",
     "metadata": {},
     "outputs": [
      {
       "metadata": {},
       "output_type": "pyout",
       "prompt_number": 3,
       "text": [
        "542.08"
       ]
      }
     ],
     "prompt_number": 3
    },
    {
     "cell_type": "code",
     "collapsed": false,
     "input": [
      "meine_funktion(-1, 2)"
     ],
     "language": "python",
     "metadata": {},
     "outputs": [
      {
       "metadata": {},
       "output_type": "pyout",
       "prompt_number": 4,
       "text": [
        "1"
       ]
      }
     ],
     "prompt_number": 4
    },
    {
     "cell_type": "markdown",
     "metadata": {},
     "source": [
      "Werden Variablen als Argumente an die Funktion \u00fcbergeben,\n",
      "wird das Objekt auf das sie Verweisen \u00fcbergeben -- das hat nichts mit dem Variablennamen zu tun.\n",
      "Beispiel:"
     ]
    },
    {
     "cell_type": "code",
     "collapsed": false,
     "input": [
      "y = 3\n",
      "paul = -1\n",
      "meine_funktion(y, paul)"
     ],
     "language": "python",
     "metadata": {},
     "outputs": [
      {
       "metadata": {},
       "output_type": "pyout",
       "prompt_number": 5,
       "text": [
        "14"
       ]
      }
     ],
     "prompt_number": 5
    },
    {
     "cell_type": "markdown",
     "metadata": {},
     "source": [
      "Eine weitere Art eine Funktion zu definieren ist ein \"Lambda Ausdruck\".\n",
      "Dies ist ein Einzeiler und erspart eine \"ganze\" Funktion schreiben zu m\u00fcssen.\n",
      "H\u00e4ufig werden diese Lambdaausdr\u00fccke an Funktion \u00fcbergeben.\n",
      "\n",
      "Beispiel:"
     ]
    },
    {
     "cell_type": "code",
     "collapsed": false,
     "input": [
      "f2 = lambda k : k**2 + 5"
     ],
     "language": "python",
     "metadata": {},
     "outputs": [],
     "prompt_number": 6
    },
    {
     "cell_type": "code",
     "collapsed": false,
     "input": [
      "f2(2)"
     ],
     "language": "python",
     "metadata": {},
     "outputs": [
      {
       "metadata": {},
       "output_type": "pyout",
       "prompt_number": 7,
       "text": [
        "9"
       ]
      }
     ],
     "prompt_number": 7
    },
    {
     "cell_type": "code",
     "collapsed": false,
     "input": [
      "f2(-10)"
     ],
     "language": "python",
     "metadata": {},
     "outputs": [
      {
       "metadata": {},
       "output_type": "pyout",
       "prompt_number": 8,
       "text": [
        "105"
       ]
      }
     ],
     "prompt_number": 8
    },
    {
     "cell_type": "markdown",
     "metadata": {},
     "source": [
      "**Zwischenbemerkung:**\n",
      "\n",
      "Ganz allemein gilt f\u00fcr Python,\n",
      "dass jedes `Objekt`, welches aufgerufen werden kann (engl. \"callable\"),\n",
      "durch die an den Variablennamen nachgestellten geschwungenen Klammern \"`(...)`\" aufgerufen wird.\n",
      "Der \u00dcberbegriff all dieser Objekte ist \"aufrufbar\" (engl. \"callable\"), und solche Funktionen sind prominente Vertreter davon. Sp\u00e4ter mehr ;-)"
     ]
    },
    {
     "cell_type": "markdown",
     "metadata": {},
     "source": [
      "Die **R\u00fcckgabe** einer Funktion kann auch **mehrstellig** sein.\n",
      "Dies wird dann verwendet, um die Ergebnisse mehr als nur einer Berechnung zur\u00fcckzugeben."
     ]
    },
    {
     "cell_type": "code",
     "collapsed": false,
     "input": [
      "def mehrstellig(x):\n",
      "    k = 2 * x - 1\n",
      "    l = 90 - x\n",
      "    return k, l"
     ],
     "language": "python",
     "metadata": {},
     "outputs": [],
     "prompt_number": 9
    },
    {
     "cell_type": "code",
     "collapsed": false,
     "input": [
      "mehrstellig(4)"
     ],
     "language": "python",
     "metadata": {},
     "outputs": [
      {
       "metadata": {},
       "output_type": "pyout",
       "prompt_number": 10,
       "text": [
        "(7, 86)"
       ]
      }
     ],
     "prompt_number": 10
    },
    {
     "cell_type": "code",
     "collapsed": false,
     "input": [
      "a, b = mehrstellig(10)\n",
      "print(a)\n",
      "print(b)"
     ],
     "language": "python",
     "metadata": {},
     "outputs": [
      {
       "output_type": "stream",
       "stream": "stdout",
       "text": [
        "19\n",
        "80\n"
       ]
      }
     ],
     "prompt_number": 11
    },
    {
     "cell_type": "markdown",
     "metadata": {},
     "source": [
      "## Aufrufsyntax (call syntax)\n",
      "\n",
      "Im Detail gibt es verschiedene Arten wie diese aufrufbaren Objekte (Funktionen, ...) aufgerufen werden k\u00f6nnen.\n",
      "Dabei unterscheidet man \n",
      "\n",
      "* **positionsabh\u00e4ngige Argumente**: die \u00dcbergabe an die Funktion erfolgt anhand der Position, und\n",
      "* **Schl\u00fcsselwortargumente**: die Variablen in der Funktionsdefinition werden explizite Werte \u00fcbergeben.\n",
      "\n",
      "Des weiteren gibt es optional Werte f\u00fcr Schl\u00fcsselwortargumente,\n",
      "die einen Standardwert f\u00fcr das jeweilige Argument (engl. \"default value\") vorgeben.\n",
      "Dieser wird dann angenommen, wenn beim Aufruf dieses Argument nicht \u00fcbergeben wird.\n",
      "\n",
      "Im folgenden Beispiel wird eine Funktion mit den Argumenten \"x\", \"y\", \"name\" und \"color\" defininiert\n",
      "und anschlie\u00dfend auf unterschiedliche Arten aufgerufen."
     ]
    },
    {
     "cell_type": "code",
     "collapsed": false,
     "input": [
      "def func(x, y, name, color=\"red\"):\n",
      "    print \"%s's position is %d.%d with color %s\" % (name, x, y, color)"
     ],
     "language": "python",
     "metadata": {},
     "outputs": [],
     "prompt_number": 12
    },
    {
     "cell_type": "code",
     "collapsed": false,
     "input": [
      "# 4-tes Argument ist die Farbe (position)\n",
      "func(9, 0, \"julia\", \"pink\")"
     ],
     "language": "python",
     "metadata": {},
     "outputs": [
      {
       "output_type": "stream",
       "stream": "stdout",
       "text": [
        "julia's position is 9.0 with color pink\n"
       ]
      }
     ],
     "prompt_number": 13
    },
    {
     "cell_type": "code",
     "collapsed": false,
     "input": [
      "# default color = red\n",
      "func(4, 5, \"joe\")"
     ],
     "language": "python",
     "metadata": {},
     "outputs": [
      {
       "output_type": "stream",
       "stream": "stdout",
       "text": [
        "joe's position is 4.5 with color red\n"
       ]
      }
     ],
     "prompt_number": 14
    },
    {
     "cell_type": "code",
     "collapsed": false,
     "input": [
      "func(1, 7, \"jane\", color=\"yellow\")"
     ],
     "language": "python",
     "metadata": {},
     "outputs": [
      {
       "output_type": "stream",
       "stream": "stdout",
       "text": [
        "jane's position is 1.7 with color yellow\n"
       ]
      }
     ],
     "prompt_number": 15
    },
    {
     "cell_type": "code",
     "collapsed": false,
     "input": [
      "# gemischte Reihenfolge\n",
      "func(y = 11, color=\"grey\", x = 3, name=\"jim\")"
     ],
     "language": "python",
     "metadata": {},
     "outputs": [
      {
       "output_type": "stream",
       "stream": "stdout",
       "text": [
        "jim's position is 3.11 with color grey\n"
       ]
      }
     ],
     "prompt_number": 16
    },
    {
     "cell_type": "markdown",
     "metadata": {},
     "source": [
      "## Indirekte Wert\u00fcbergabe\n",
      "\n",
      "Dar\u00fcber hinaus gibt es die M\u00f6glichkeit, die Argumente vorher in einer Liste oder Map abzuspeichern.\n",
      "Diese Objekte werden erst sp\u00e4ter im Kapitel \u00fcber Datenstrukturen behandelt,\n",
      "werden aber zur Vollst\u00e4ndigkeit hier erw\u00e4hnt.\n",
      "\n",
      "Es werden Variablen definiert, die die Werte f\u00fcr den Funktionsaufruf beinhalten.\n",
      "Dann gibt der Stern \"`*`\" bzw. Doppelstern \"`**`\" an,\n",
      "die Werte der jeweiligen Variablen als Argumente im Funktionsaufruf einzubauen.\n",
      "Der einfache Stern steht f\u00fcr Positionsargumente (Listen) und der Doppelstern f\u00fcr Schl\u00fcsselw\u00f6rter."
     ]
    },
    {
     "cell_type": "code",
     "collapsed": false,
     "input": [
      "argumentliste = [5, 9, \"jack\"]\n",
      "func(*argumentliste)"
     ],
     "language": "python",
     "metadata": {},
     "outputs": [
      {
       "output_type": "stream",
       "stream": "stdout",
       "text": [
        "jack's position is 5.9 with color red\n"
       ]
      }
     ],
     "prompt_number": 17
    },
    {
     "cell_type": "code",
     "collapsed": false,
     "input": [
      "schluesselwoerter = {\"name\" : \"jenny\", \"color\" : \"black\" }\n",
      "func(9, 2, **schluesselwoerter)"
     ],
     "language": "python",
     "metadata": {},
     "outputs": [
      {
       "output_type": "stream",
       "stream": "stdout",
       "text": [
        "jenny's position is 9.2 with color black\n"
       ]
      }
     ],
     "prompt_number": 18
    },
    {
     "cell_type": "markdown",
     "metadata": {},
     "source": [
      "**ACHTUNG:** es muss alles eindeutig bleiben"
     ]
    },
    {
     "cell_type": "code",
     "collapsed": false,
     "input": [
      "func(*argumentliste, **schluesselwoerter)"
     ],
     "language": "python",
     "metadata": {},
     "outputs": [
      {
       "ename": "TypeError",
       "evalue": "func() got multiple values for keyword argument 'name'",
       "output_type": "pyerr",
       "traceback": [
        "\u001b[1;31m---------------------------------------------------------------------------\u001b[0m\n\u001b[1;31mTypeError\u001b[0m                                 Traceback (most recent call last)",
        "\u001b[1;32m<ipython-input-19-19535a24702b>\u001b[0m in \u001b[0;36m<module>\u001b[1;34m()\u001b[0m\n\u001b[1;32m----> 1\u001b[1;33m \u001b[0mfunc\u001b[0m\u001b[1;33m(\u001b[0m\u001b[1;33m*\u001b[0m\u001b[0margumentliste\u001b[0m\u001b[1;33m,\u001b[0m \u001b[1;33m**\u001b[0m\u001b[0mschluesselwoerter\u001b[0m\u001b[1;33m)\u001b[0m\u001b[1;33m\u001b[0m\u001b[0m\n\u001b[0m",
        "\u001b[1;31mTypeError\u001b[0m: func() got multiple values for keyword argument 'name'"
       ]
      }
     ],
     "prompt_number": 19
    },
    {
     "cell_type": "code",
     "collapsed": false,
     "input": [
      "# KORREKTUR: weglassen des letzten Arguments in der liste \"argumentliste\"\n",
      "func(*argumentliste[:-1], **schluesselwoerter)"
     ],
     "language": "python",
     "metadata": {},
     "outputs": [
      {
       "output_type": "stream",
       "stream": "stdout",
       "text": [
        "jenny's position is 5.9 with color black\n"
       ]
      }
     ],
     "prompt_number": 20
    },
    {
     "cell_type": "markdown",
     "metadata": {},
     "source": [
      "Diese Varianten des Funktionsaufrufs m\u00f6gen eventuell etwas verwirren,\n",
      "sind jedoch dann sehr n\u00fctzlich, wenn Argumente von Funktionen weitergereicht oder (leicht abgewandelt) wiederverwendet werden."
     ]
    },
    {
     "cell_type": "markdown",
     "metadata": {},
     "source": [
      "## Bonus: Verschachtelte Funktionen\n",
      "\n",
      "Funktionen k\u00f6nnen an Funktionen \u00fcbergeben werden."
     ]
    },
    {
     "cell_type": "code",
     "collapsed": false,
     "input": [
      "def f_inner(x):\n",
      "    k = 2 * x\n",
      "    return k + 1\n",
      "\n",
      "def f_outer(func, v):\n",
      "    p = func(v + 1) - v\n",
      "    return p - 5"
     ],
     "language": "python",
     "metadata": {},
     "outputs": [],
     "prompt_number": 21
    },
    {
     "cell_type": "code",
     "collapsed": false,
     "input": [
      "f_outer(f_inner, 10)"
     ],
     "language": "python",
     "metadata": {},
     "outputs": [
      {
       "metadata": {},
       "output_type": "pyout",
       "prompt_number": 22,
       "text": [
        "8"
       ]
      }
     ],
     "prompt_number": 22
    },
    {
     "cell_type": "markdown",
     "metadata": {},
     "source": [
      "## Bonus: Decorator\n",
      "\n",
      "Ein *Decorator* ist eine Funktion, die eine Funktion auf eine Funktion abbildet.\n",
      "Er wird verwendet, um das Verhalten mehrerer Funktionen uniform zu beeinflussen\n",
      "indem er auf diese Funktionen angewendet wird.\n",
      "\n",
      "Folgendes Beispiel definiert einen Decorator,\n",
      "welcher neben dem Ergebnis der Funktion auch die Argumente und den Typ der R\u00fcckgabe ausgibt."
     ]
    },
    {
     "cell_type": "code",
     "collapsed": false,
     "input": [
      "def verbose(func):\n",
      "    def inner(*args, **kwargs):\n",
      "        print(\"args:   %s\" % str(args))\n",
      "        print(\"kwargs: %s\" % str(kwargs))\n",
      "        result = func(*args, **kwargs)\n",
      "        print(\"return: %s\" % type(result))\n",
      "        return result\n",
      "    return inner"
     ],
     "language": "python",
     "metadata": {},
     "outputs": [],
     "prompt_number": 23
    },
    {
     "cell_type": "code",
     "collapsed": false,
     "input": [
      "@verbose\n",
      "def f1(a, b):\n",
      "    return a + b\n",
      "\n",
      "@verbose\n",
      "def f2(word):\n",
      "    return word[::-1]"
     ],
     "language": "python",
     "metadata": {},
     "outputs": [],
     "prompt_number": 24
    },
    {
     "cell_type": "code",
     "collapsed": false,
     "input": [
      "print f1(5, 11)"
     ],
     "language": "python",
     "metadata": {},
     "outputs": [
      {
       "output_type": "stream",
       "stream": "stdout",
       "text": [
        "args:   (5, 11)\n",
        "kwargs: {}\n",
        "return: <type 'int'>\n",
        "16\n"
       ]
      }
     ],
     "prompt_number": 25
    },
    {
     "cell_type": "code",
     "collapsed": false,
     "input": [
      "print f2(\"hello\")"
     ],
     "language": "python",
     "metadata": {},
     "outputs": [
      {
       "output_type": "stream",
       "stream": "stdout",
       "text": [
        "args:   ('hello',)\n",
        "kwargs: {}\n",
        "return: <type 'str'>\n",
        "olleh\n"
       ]
      }
     ],
     "prompt_number": 26
    },
    {
     "cell_type": "markdown",
     "metadata": {},
     "source": [
      "## Functools/Itertools\n",
      "\n",
      "Die [Functools](https://docs.python.org/2/library/functools.html)\n",
      "([Py3 functools](https://docs.python.org/3/library/functools.html))\n",
      "und [Itertools](https://docs.python.org/2/library/itertools.html)\n",
      "(Py3 itertools](https://docs.python.org/3/library/itertools.html)\n",
      "Bibliotheken beinhaltet mehrere Funktionen,\n",
      "um mit Funktionen arbeiten zu k\u00f6nnen bzw.\n",
      "um Operationen h\u00f6herer Ordnung auf Funktionen anwenden zu k\u00f6nnen.\n",
      "\n",
      "Praktisch erweisen sich hier auch all diejenigen Funktionen,\n",
      "welche helfen iterative Berechnungen durch Funktionsaufrufe erledigen zu k\u00f6nnen.\n",
      "Dies ist an die Konzepte aus der [funktionalen Programmierung](http://en.wikipedia.org/wiki/Functional_programming) angelehnt.\n",
      "Vertreter sind auch die Schl\u00fcsselw\u00f6rter `filter`, `reduce` (ein Py3 in Itertools), `zip`, ..."
     ]
    },
    {
     "cell_type": "code",
     "collapsed": false,
     "input": [
      "import itertools as it\n",
      "sumdivby7 = lambda x : sum(x) % 7 == 0\n",
      "filter(sumdivby7, zip(it.cycle([2, 3, 5, 7, 13, 17]), range(70)))"
     ],
     "language": "python",
     "metadata": {},
     "outputs": [
      {
       "metadata": {},
       "output_type": "pyout",
       "prompt_number": 27,
       "text": [
        "[(5, 2), (17, 11), (2, 12), (7, 21), (13, 22), (3, 25), (5, 44), (17, 53), (2, 54), (7, 63), (13, 64), (3, 67)]"
       ]
      }
     ],
     "prompt_number": 27
    }
   ],
   "metadata": {}
  }
 ]
}
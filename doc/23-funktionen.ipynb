{
 "metadata": {
  "name": "",
  "signature": "sha256:28691f82be3c35850a0b7622945d3ce73eb28dfc44a42d7dec0edebc7fcb0c13"
 },
 "nbformat": 3,
 "nbformat_minor": 0,
 "worksheets": [
  {
   "cells": [
    {
     "cell_type": "markdown",
     "metadata": {},
     "source": [
      "# Konzept 3: Funktionen\n",
      "\n",
      "Kann das `Objekt`, auf das eine Variable verweist, aufgerufen werden (engl. \"callable\"),\n",
      "so kennzeichnen die daran anschlie\u00dfenden geschwungenen Klammern \"`( ... )`\",\n",
      "dass so ein Funktionsaufruf passieren soll.\n",
      "In den Klammern sind die sogenannten \"Argumente\" dieser Funktion,\n",
      "welche f\u00fcr die Auswertung \u00fcbergeben werden.\n",
      "Zur\u00fcckgegeben wird das Ergebnis, welches f\u00fcr weitere Berechnungen verwendet werden kann."
     ]
    },
    {
     "cell_type": "markdown",
     "metadata": {},
     "source": [
      "Definiert werden Funktionen \u00fcbrigens mittels \"`def name(argumente...)`\" und \"`return ...`\" gibt an, was zur\u00fcckgegeben wird:"
     ]
    },
    {
     "cell_type": "code",
     "collapsed": false,
     "input": [
      "def meine_funktion(x, b):\n",
      "    y = x + b\n",
      "    z = 2*y + x\n",
      "    return z * y"
     ],
     "language": "python",
     "metadata": {},
     "outputs": [],
     "prompt_number": 1
    },
    {
     "cell_type": "markdown",
     "metadata": {},
     "source": [
      "Die Variable `meine_funktion` beinhaltet das Funktionsobjekt, obwi die Hexadezimalzahl die (wenig informative) Speichadresse ist:"
     ]
    },
    {
     "cell_type": "code",
     "collapsed": false,
     "input": [
      "print(meine_funktion)"
     ],
     "language": "python",
     "metadata": {},
     "outputs": [
      {
       "output_type": "stream",
       "stream": "stdout",
       "text": [
        "<function meine_funktion at 0x253ec80>\n"
       ]
      }
     ],
     "prompt_number": 2
    },
    {
     "cell_type": "markdown",
     "metadata": {},
     "source": [
      "Aufruf diese \"callable\" Funktion mittels Argumenten in runder Klammer:"
     ]
    },
    {
     "cell_type": "code",
     "collapsed": false,
     "input": [
      "meine_funktion(4.4, 11)"
     ],
     "language": "python",
     "metadata": {},
     "outputs": [
      {
       "metadata": {},
       "output_type": "pyout",
       "prompt_number": 3,
       "text": [
        "542.08"
       ]
      }
     ],
     "prompt_number": 3
    },
    {
     "cell_type": "code",
     "collapsed": false,
     "input": [
      "meine_funktion(-1, 2)"
     ],
     "language": "python",
     "metadata": {},
     "outputs": [
      {
       "metadata": {},
       "output_type": "pyout",
       "prompt_number": 4,
       "text": [
        "1"
       ]
      }
     ],
     "prompt_number": 4
    },
    {
     "cell_type": "markdown",
     "metadata": {},
     "source": [
      "Eine weitere Art eine Funktion zu definieren ist ein \"Lambda Ausdruck\".\n",
      "Dies ist ein Einzeiler, welcher \u00fcblicherweise an eine Funktion \u00fcbergeben wird und erspart, eine \"ganze\" Funktion schreiben zu m\u00fcssen.\n",
      "\n",
      "Beispiel:"
     ]
    },
    {
     "cell_type": "code",
     "collapsed": false,
     "input": [
      "f2 = lambda k : k**2 + 5"
     ],
     "language": "python",
     "metadata": {},
     "outputs": [],
     "prompt_number": 1
    },
    {
     "cell_type": "code",
     "collapsed": false,
     "input": [
      "f2(2)"
     ],
     "language": "python",
     "metadata": {},
     "outputs": [
      {
       "metadata": {},
       "output_type": "pyout",
       "prompt_number": 3,
       "text": [
        "9"
       ]
      }
     ],
     "prompt_number": 3
    },
    {
     "cell_type": "code",
     "collapsed": false,
     "input": [
      "f2(-10)"
     ],
     "language": "python",
     "metadata": {},
     "outputs": [
      {
       "metadata": {},
       "output_type": "pyout",
       "prompt_number": 4,
       "text": [
        "105"
       ]
      }
     ],
     "prompt_number": 4
    },
    {
     "cell_type": "markdown",
     "metadata": {},
     "source": [
      "**Zwischenbemerkung:** es gibt neben diesen Funktionen auch andere Objekte, welche wie Funktionen aufgerufen werden k\u00f6nnen.\n",
      "Der \u00dcberbegriff all dieser Objekte ist \"aufrufbar\" (engl. \"callable\"), und eine Funktion ist ein prominenter Vertreter. Sp\u00e4ter mehr ;-)"
     ]
    },
    {
     "cell_type": "markdown",
     "metadata": {},
     "source": [
      "Die **R\u00fcckgabe** einer Funktion kann auch **mehrstellig** sein.\n",
      "Dies wird dann verwendet, um die Ergebnisse mehr als nur einer Berechnung zur\u00fcckzugeben."
     ]
    },
    {
     "cell_type": "code",
     "collapsed": false,
     "input": [
      "def mehrstellig(x):\n",
      "    k = 2 * x - 1\n",
      "    l = 90 - x\n",
      "    return k, l"
     ],
     "language": "python",
     "metadata": {},
     "outputs": [],
     "prompt_number": 5
    },
    {
     "cell_type": "code",
     "collapsed": false,
     "input": [
      "mehrstellig(4)"
     ],
     "language": "python",
     "metadata": {},
     "outputs": [
      {
       "metadata": {},
       "output_type": "pyout",
       "prompt_number": 6,
       "text": [
        "(7, 86)"
       ]
      }
     ],
     "prompt_number": 6
    },
    {
     "cell_type": "code",
     "collapsed": false,
     "input": [
      "a, b = mehrstellig(10)\n",
      "print(a)\n",
      "print(b)"
     ],
     "language": "python",
     "metadata": {},
     "outputs": [
      {
       "output_type": "stream",
       "stream": "stdout",
       "text": [
        "19\n",
        "80\n"
       ]
      }
     ],
     "prompt_number": 7
    },
    {
     "cell_type": "markdown",
     "metadata": {},
     "source": [
      "## Aufrufsyntax (call syntax)\n",
      "\n",
      "Im Detail gibt es verschiedene Arten wie diese aufrufbaren Objekte (Funktionen, ...) aufgerufen werden k\u00f6nnen.\n",
      "Dabei unterscheidet man \n",
      "\n",
      "* positionsabh\u00e4ngige Argumente: die \u00dcbergabe an die Funktion erfolgt anhand der Position, und\n",
      "* Schl\u00fcsselwortargumente: die Variablen in der Funktionsdefinition werden explizite Werte \u00fcbergeben.\n",
      "\n",
      "Des weiteren gibt es optional Argumente, die einen Standardwert vorgegeben bekommen (engl. \"default value\").\n",
      "Dieser wird dann \u00fcbernommen, wenn beim Aufruf dieses Argument nicht \u00fcbergeben wird.\n",
      "\n",
      "Im folgenden Beispiel wird eine Funktion mit den Argumenten \"x\", \"y\", \"name\" und \"color\" defininiert\n",
      "und anschlie\u00dfend auf unterschiedliche Arten aufgerufen."
     ]
    },
    {
     "cell_type": "code",
     "collapsed": false,
     "input": [
      "def func(x, y, name, color=\"red\"):\n",
      "    print \"%s's position is %d.%d with color %s\" % (name, x, y, color)"
     ],
     "language": "python",
     "metadata": {},
     "outputs": [],
     "prompt_number": 8
    },
    {
     "cell_type": "code",
     "collapsed": false,
     "input": [
      "# 4-tes Argument ist die Farbe (position)\n",
      "func(9, 0, \"julia\", \"pink\")"
     ],
     "language": "python",
     "metadata": {},
     "outputs": [
      {
       "output_type": "stream",
       "stream": "stdout",
       "text": [
        "julia's position is 9.0 with color pink\n"
       ]
      }
     ],
     "prompt_number": 9
    },
    {
     "cell_type": "code",
     "collapsed": false,
     "input": [
      "# default color = red\n",
      "func(4, 5, \"joe\")"
     ],
     "language": "python",
     "metadata": {},
     "outputs": [
      {
       "output_type": "stream",
       "stream": "stdout",
       "text": [
        "joe's position is 4.5 with color red\n"
       ]
      }
     ],
     "prompt_number": 10
    },
    {
     "cell_type": "code",
     "collapsed": false,
     "input": [
      "func(1, 7, \"jane\", color=\"yellow\")"
     ],
     "language": "python",
     "metadata": {},
     "outputs": [
      {
       "output_type": "stream",
       "stream": "stdout",
       "text": [
        "jane's position is 1.7 with color yellow\n"
       ]
      }
     ],
     "prompt_number": 11
    },
    {
     "cell_type": "code",
     "collapsed": false,
     "input": [
      "# gemischte Reihenfolge\n",
      "func(y = 11, x = 3, color=\"grey\", name=\"jim\")"
     ],
     "language": "python",
     "metadata": {},
     "outputs": [
      {
       "output_type": "stream",
       "stream": "stdout",
       "text": [
        "jim's position is 3.11 with color grey\n"
       ]
      }
     ],
     "prompt_number": 12
    },
    {
     "cell_type": "markdown",
     "metadata": {},
     "source": [
      "## Indirekte Wert\u00fcbergabe\n",
      "\n",
      "Dar\u00fcber hinaus gibt es die M\u00f6glichkeit, die Argumente vorher in einer Liste oder Map abzuspeichern.\n",
      "Diese Objekte werden erst sp\u00e4ter im Kapitel \u00fcber Datenstrukturen behandelt,\n",
      "werden aber zur Vollst\u00e4ndigkeit hier erw\u00e4hnt.\n",
      "\n",
      "Je Zelle werden Variablen definiert, die die Werte f\u00fcr den Funktionsaufruf beinhalten.\n",
      "Dann gibt der Stern \"`*`\" bzw. Doppelstern \"`**`\" an,\n",
      "die Werte der jeweiligen Variablen als Argumente im Funktionsaufruf einzubauen."
     ]
    },
    {
     "cell_type": "code",
     "collapsed": false,
     "input": [
      "argumentliste = [5, 9, \"jack\"]\n",
      "func(*argumentliste)"
     ],
     "language": "python",
     "metadata": {},
     "outputs": [
      {
       "output_type": "stream",
       "stream": "stdout",
       "text": [
        "jack's position is 5.9 with color red\n"
       ]
      }
     ],
     "prompt_number": 13
    },
    {
     "cell_type": "code",
     "collapsed": false,
     "input": [
      "schluesselwoerter = {\"name\" : \"jenny\", \"color\" : \"black\" }\n",
      "func(9, 2, **schluesselwoerter)"
     ],
     "language": "python",
     "metadata": {},
     "outputs": [
      {
       "output_type": "stream",
       "stream": "stdout",
       "text": [
        "jenny's position is 9.2 with color black\n"
       ]
      }
     ],
     "prompt_number": 14
    },
    {
     "cell_type": "markdown",
     "metadata": {},
     "source": [
      "**ACHTUNG:** es muss alles eindeutig bleiben"
     ]
    },
    {
     "cell_type": "code",
     "collapsed": false,
     "input": [
      "func(*argumentliste, **schluesselwoerter)"
     ],
     "language": "python",
     "metadata": {},
     "outputs": [
      {
       "ename": "TypeError",
       "evalue": "func() got multiple values for keyword argument 'name'",
       "output_type": "pyerr",
       "traceback": [
        "\u001b[1;31m---------------------------------------------------------------------------\u001b[0m\n\u001b[1;31mTypeError\u001b[0m                                 Traceback (most recent call last)",
        "\u001b[1;32m<ipython-input-15-19535a24702b>\u001b[0m in \u001b[0;36m<module>\u001b[1;34m()\u001b[0m\n\u001b[1;32m----> 1\u001b[1;33m \u001b[0mfunc\u001b[0m\u001b[1;33m(\u001b[0m\u001b[1;33m*\u001b[0m\u001b[0margumentliste\u001b[0m\u001b[1;33m,\u001b[0m \u001b[1;33m**\u001b[0m\u001b[0mschluesselwoerter\u001b[0m\u001b[1;33m)\u001b[0m\u001b[1;33m\u001b[0m\u001b[0m\n\u001b[0m",
        "\u001b[1;31mTypeError\u001b[0m: func() got multiple values for keyword argument 'name'"
       ]
      }
     ],
     "prompt_number": 15
    },
    {
     "cell_type": "code",
     "collapsed": false,
     "input": [
      "# KORREKTUR: weglassen des letzten Arguments in der liste \"argumentliste\"\n",
      "func(*argumentliste[:-1], **schluesselwoerter)"
     ],
     "language": "python",
     "metadata": {},
     "outputs": [
      {
       "output_type": "stream",
       "stream": "stdout",
       "text": [
        "jenny's position is 5.9 with color black\n"
       ]
      }
     ],
     "prompt_number": 16
    },
    {
     "cell_type": "markdown",
     "metadata": {},
     "source": [
      "Diese Varianten des Funktionsaufrufs m\u00f6gen eventuell etwas verwirren,\n",
      "sind jedoch dann sehr n\u00fctzlich, wenn Argumente von Funktionen weitergereicht oder (leicht abgewandelt) wiederverwendet werden."
     ]
    },
    {
     "cell_type": "code",
     "collapsed": false,
     "input": [],
     "language": "python",
     "metadata": {},
     "outputs": [],
     "prompt_number": 16
    },
    {
     "cell_type": "markdown",
     "metadata": {},
     "source": [
      "## Bonus: Verschachtelte Funktionen\n",
      "\n",
      "Funktionen k\u00f6nnen an Funktionen \u00fcbergeben werden."
     ]
    },
    {
     "cell_type": "code",
     "collapsed": false,
     "input": [
      "def f_inner(x):\n",
      "    k = 2 * x\n",
      "    return k + 1\n",
      "\n",
      "def f_outer(func, v):\n",
      "    p = func(v + 1) - v\n",
      "    return p - 5"
     ],
     "language": "python",
     "metadata": {},
     "outputs": [],
     "prompt_number": 25
    },
    {
     "cell_type": "code",
     "collapsed": false,
     "input": [
      "f_outer(f_inner, 10)"
     ],
     "language": "python",
     "metadata": {},
     "outputs": [
      {
       "metadata": {},
       "output_type": "pyout",
       "prompt_number": 26,
       "text": [
        "8"
       ]
      }
     ],
     "prompt_number": 26
    },
    {
     "cell_type": "code",
     "collapsed": false,
     "input": [],
     "language": "python",
     "metadata": {},
     "outputs": []
    }
   ],
   "metadata": {}
  }
 ]
}
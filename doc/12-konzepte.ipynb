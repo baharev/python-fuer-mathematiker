{
 "metadata": {
  "name": "",
  "signature": "sha256:87dd1467a44f3f135dad6e3bf492edf8c324bd4c8f7f90a374eaa8116ab123f6"
 },
 "nbformat": 3,
 "nbformat_minor": 0,
 "worksheets": [
  {
   "cells": [
    {
     "cell_type": "markdown",
     "metadata": {},
     "source": [
      "[INDEX](00-index.ipynb)"
     ]
    },
    {
     "cell_type": "markdown",
     "metadata": {
      "slideshow": {
       "slide_type": "subslide"
      }
     },
     "source": [
      "## Konzepte\n",
      "\n",
      "Es folgen nun die wichtigsten Konzepte.\n",
      "Jedes Programm, sei es auch noch so klein, beinhaltet sie.\n",
      "\n",
      "Grundlegend ist Python eine imperative Programmiersprache.\n",
      "Das hei\u00dft, der [Quellcode](glossar.ipynb#quellcode) setzt sich aus Listen von sogenannten \"Ausdr\u00fccken\" (\"expressions\") und dazugeh\u00f6rigen Steuerungsanweisungen zusammen.\n",
      "Diese Ausdr\u00fccke werden in jedem Block Zeile f\u00fcr Zeile abgearbeitet,\n",
      "und der alles umfassende Ablauf der Bl\u00f6cke mittels [Kontrollstrukturen](glossar.ipynb#kontrollstrukturen) festgelegt.\n",
      "Es gibt mehrere verschiedene Arten von Ausdr\u00fccken,\n",
      "insbesondere sind Zuweisungen und der Aufruf von Funktionen wichtig."
     ]
    },
    {
     "cell_type": "markdown",
     "metadata": {
      "slideshow": {
       "slide_type": "slide"
      }
     },
     "source": [
      "## Konzept 0: Ausdr\u00fccke\n",
      "\n",
      "Eine ganz einfache Variante sind einfache Rechnungen.\n",
      "In jeder Zelle stehen in oder mehrere Zeilen Programmcode, die mittels `Shift+Return` ausgewertet werden.\n",
      "(`Ctrl+Return` gibt es auch, es wird hierbei nicht zur n\u00e4chsten Zelle vorw\u00e4rts gesprungen)\n",
      "z.B.:"
     ]
    },
    {
     "cell_type": "code",
     "collapsed": false,
     "input": [
      "3+8"
     ],
     "language": "python",
     "metadata": {
      "slideshow": {
       "slide_type": "fragment"
      }
     },
     "outputs": [
      {
       "metadata": {},
       "output_type": "pyout",
       "prompt_number": 1,
       "text": [
        "11"
       ]
      }
     ],
     "prompt_number": 1
    },
    {
     "cell_type": "code",
     "collapsed": false,
     "input": [
      "5 + (1 + 5) / 2"
     ],
     "language": "python",
     "metadata": {
      "slideshow": {
       "slide_type": "fragment"
      }
     },
     "outputs": [
      {
       "metadata": {},
       "output_type": "pyout",
       "prompt_number": 20,
       "text": [
        "8"
       ]
      }
     ],
     "prompt_number": 20
    },
    {
     "cell_type": "markdown",
     "metadata": {},
     "source": [
      "## Konzept 1: Variablen\n",
      "\n",
      "Die Quintessenz eines Programmes ist dessen Flexibilit\u00e4t gegen\u00fcber Eingaben.\n",
      "W\u00e4re die Eingabe fest vorgegeben,\n",
      "g\u00e4be es nur wenig Gr\u00fcnde das Programm mehr als nur einmal aufzurufen!"
     ]
    },
    {
     "cell_type": "markdown",
     "metadata": {
      "slideshow": {
       "slide_type": "slide"
      }
     },
     "source": [
      "_Quiz:_ Gib einen Grund an, warum ein Programm ohne Dateneingabe mehrmals aufgerufen werden k\u00f6nnte?"
     ]
    },
    {
     "cell_type": "markdown",
     "metadata": {},
     "source": [
      "Antwort: "
     ]
    },
    {
     "cell_type": "markdown",
     "metadata": {
      "slideshow": {
       "slide_type": "-"
      }
     },
     "source": [
      "Zuweisungen passieren so, dass in der Zeile zuerst eine Variable steht,\n",
      "dann ein Gleichzeitszeichen, und dann ein Ausdruck der Ausgewertet wird."
     ]
    },
    {
     "cell_type": "code",
     "collapsed": false,
     "input": [
      "x = 4\n",
      "5 * x + 1"
     ],
     "language": "python",
     "metadata": {
      "slideshow": {
       "slide_type": "fragment"
      }
     },
     "outputs": [
      {
       "metadata": {},
       "output_type": "pyout",
       "prompt_number": 3,
       "text": [
        "21"
       ]
      }
     ],
     "prompt_number": 3
    },
    {
     "cell_type": "code",
     "collapsed": false,
     "input": [
      "y = 2 * x + 1\n",
      "9 - y - x"
     ],
     "language": "python",
     "metadata": {
      "slideshow": {
       "slide_type": "fragment"
      }
     },
     "outputs": [
      {
       "metadata": {},
       "output_type": "pyout",
       "prompt_number": 4,
       "text": [
        "-4"
       ]
      }
     ],
     "prompt_number": 4
    },
    {
     "cell_type": "markdown",
     "metadata": {
      "slideshow": {
       "slide_type": "subslide"
      }
     },
     "source": [
      "Wichtig ist, dass die Zuweisung an `x` vor dessen Verwendung in der zweiten Zelle passiert.\n",
      "Eine Variable ohne vorheriger Zuweisung erzeugt einen Fehler:"
     ]
    },
    {
     "cell_type": "code",
     "collapsed": false,
     "input": [
      "p + 23"
     ],
     "language": "python",
     "metadata": {
      "slideshow": {
       "slide_type": "notes"
      }
     },
     "outputs": [
      {
       "ename": "NameError",
       "evalue": "name 'p' is not defined",
       "output_type": "pyerr",
       "traceback": [
        "\u001b[1;31m---------------------------------------------------------------------------\u001b[0m\n\u001b[1;31mNameError\u001b[0m                                 Traceback (most recent call last)",
        "\u001b[1;32m<ipython-input-5-2fe5b48a1d33>\u001b[0m in \u001b[0;36m<module>\u001b[1;34m()\u001b[0m\n\u001b[1;32m----> 1\u001b[1;33m \u001b[0mp\u001b[0m \u001b[1;33m+\u001b[0m \u001b[1;36m23\u001b[0m\u001b[1;33m\u001b[0m\u001b[0m\n\u001b[0m",
        "\u001b[1;31mNameError\u001b[0m: name 'p' is not defined"
       ]
      }
     ],
     "prompt_number": 5
    },
    {
     "cell_type": "markdown",
     "metadata": {
      "slideshow": {
       "slide_type": "subslide"
      }
     },
     "source": [
      "Variablen k\u00f6nnen (und sollen meistens) mehr als einen Buchstaben haben.\n",
      "Dabei sind Gro\u00df- und Kleinbuchstaben und Zahlen ab dem zweiten Zeichen erlaubt.\n",
      "Als einziges Sonderzeichen gibt es den `_` Unterstrich.\n",
      "(das gilt f\u00fcr Python in der Sprachversion 2, Version 3 erlaubt mehr Zeichen.)"
     ]
    },
    {
     "cell_type": "code",
     "collapsed": false,
     "input": [
      "apfel_preis = 0.99\n",
      "stueck = 13\n",
      "preis = stueck * apfel_preis\n",
      "print(preis)"
     ],
     "language": "python",
     "metadata": {},
     "outputs": [
      {
       "output_type": "stream",
       "stream": "stdout",
       "text": [
        "12.87\n"
       ]
      }
     ],
     "prompt_number": 6
    },
    {
     "cell_type": "markdown",
     "metadata": {},
     "source": [
      "Die vorhergehende Zelle definiert mehrere Variablen und berechnet den Preis des Einkaufs.\n",
      "Das Wort `print` mit anschlie\u00dfenden Klammern gibt den Inhalt der Variablen `preis` aus\n",
      "und ist ein Beispiel f\u00fcr den Aufruf einer Funktion."
     ]
    },
    {
     "cell_type": "markdown",
     "metadata": {},
     "source": [
      "Apropos Sprachversionen: aus \"mathematischer\" Sicht gibt es bei Divisionen einen entscheidenden Unterschied. In Version 2 ist die Division mit \"`/`\" abrundend auf die n\u00e4chste Ganzzahl, w\u00e4hrend in Verion 3 die handels\u00fcbliche Interpretation einer Division verwendet wird (abrundend ist \"`//`\").\n",
      "\n",
      "Mittels \"`from __future__ import division`\" kann in Version 2 das Verhalten von Version 3 erzwungen werden:"
     ]
    },
    {
     "cell_type": "code",
     "collapsed": false,
     "input": [
      "9 / 4"
     ],
     "language": "python",
     "metadata": {},
     "outputs": [
      {
       "metadata": {},
       "output_type": "pyout",
       "prompt_number": 21,
       "text": [
        "2"
       ]
      }
     ],
     "prompt_number": 21
    },
    {
     "cell_type": "code",
     "collapsed": false,
     "input": [
      "from __future__ import division\n",
      "9 / 4"
     ],
     "language": "python",
     "metadata": {},
     "outputs": [
      {
       "metadata": {},
       "output_type": "pyout",
       "prompt_number": 22,
       "text": [
        "2.25"
       ]
      }
     ],
     "prompt_number": 22
    },
    {
     "cell_type": "markdown",
     "metadata": {},
     "source": [
      "Im Allgmeinen ist es eine gute Idee, diesen Import immer zu aktivieren."
     ]
    },
    {
     "cell_type": "markdown",
     "metadata": {
      "slideshow": {
       "slide_type": "slide"
      }
     },
     "source": [
      "## Konzept 2: Funktionsaufruf\n",
      "\n",
      "Kann das `Objekt`, auf das eine Variable verweist, aufgerufen werden (engl. \"callable\"),\n",
      "so kennzeichnen die daran anschlie\u00dfenden geschwungenen Klammern \"`( ... )`\",\n",
      "dass so ein Funktionsaufruf passieren soll.\n",
      "In den Klammern sind die sogenannten \"Argumente\" dieser Funktion,\n",
      "welche f\u00fcr die Auswertung \u00fcbergeben werden.\n",
      "Zur\u00fcckgegeben wird das Ergebnis, welches f\u00fcr weitere Berechnungen verwendet werden kann."
     ]
    },
    {
     "cell_type": "markdown",
     "metadata": {},
     "source": [
      "Definiert werden Funktionen \u00fcbrigens mittels \"`def name(argumente...)`\" und \"`return ...`\" gibt an, was zur\u00fcckgegeben wird:"
     ]
    },
    {
     "cell_type": "code",
     "collapsed": false,
     "input": [
      "def meine_funktion(x, b):\n",
      "    y = x + b\n",
      "    z = 2*y + x\n",
      "    return z * y"
     ],
     "language": "python",
     "metadata": {},
     "outputs": [],
     "prompt_number": 24
    },
    {
     "cell_type": "code",
     "collapsed": false,
     "input": [
      "meine_funktion(4.4, 11)"
     ],
     "language": "python",
     "metadata": {},
     "outputs": [
      {
       "metadata": {},
       "output_type": "pyout",
       "prompt_number": 25,
       "text": [
        "542.08"
       ]
      }
     ],
     "prompt_number": 25
    },
    {
     "cell_type": "markdown",
     "metadata": {},
     "source": [
      "## Konzept 3: Kontrollstrukturen\n",
      "\n",
      "Ein Programm ist mehr als eine lineare Abfolge von Befehlen."
     ]
    },
    {
     "cell_type": "code",
     "collapsed": false,
     "input": [],
     "language": "python",
     "metadata": {},
     "outputs": [],
     "prompt_number": 6
    },
    {
     "cell_type": "markdown",
     "metadata": {},
     "source": [
      "## Konzept 4: Syntax\n",
      "\n",
      "Jedes Computerprogramm ist eine formalisierte Sprache.\n",
      "Das hei\u00dft, jeder Buchstabe und jedes Zeichen muss strengen formalen Regeln gen\u00fcgen,\n",
      "um korrekt verstanden zu werden.\n",
      "\n",
      "Python's wichtisten Regeln:\n",
      "\n",
      "* *Ausdruck (expression):* ein Einzeiler, der aus Rechenzeichen, Variablen, eingebauten Befehlen, Klammern und sonstigen Zeichen wie einem Punkt besteht. \n",
      "\n",
      "```\n",
      "    f(5.5)\n",
      "    max(1,4,11)\n",
      "    min(max(4,1000) - max(-60, x))\n",
      "    geschwindigkeit.diff(x)\n",
      "```\n",
      "    "
     ]
    },
    {
     "cell_type": "markdown",
     "metadata": {},
     "source": [
      "* *Zuweisung (assignment):* `variable = <Ausdruck>`\n",
      "\n",
      "```\n",
      "    apfel = 11 + 7\n",
      "    birne = 2 * apfel + 1\n",
      "    y = max(2, min(99, x))\n",
      "    v = geschwindigkeit(t = 1.4)\n",
      "```"
     ]
    },
    {
     "cell_type": "markdown",
     "metadata": {},
     "source": [
      "* *Bl\u00f6cke (blocks)*: Ein Block Code ist eine zeilenweise Liste von Ausdr\u00fccken, welche gleich weit einger\u00fcckt sind.\n",
      "In der Zeile vor so einem Block steht immer eine Funktions oder Klassendefinition, bzw. eine Kontrollstruktur.\n",
      "\n",
      "```\n",
      "if x > 0:\n",
      "    y = 2*x + 1\n",
      "    birne = apfel - x\n",
      "    \n",
      "```\n",
      "Verschachtelung von einger\u00fcckten Bl\u00f6cken:\n",
      "\n",
      "```\n",
      "def f(x):\n",
      "    k = 0\n",
      "    if x > 0:\n",
      "        k = k + 2*x\n",
      "        \n",
      "    elif x < 0:\n",
      "        for i in range(-x):\n",
      "            k = k - i**2\n",
      "            x = x + (2*i + x)\n",
      "```\n",
      "\n",
      "Wichtig ist, dass die Einr\u00fcckungen konsistent sind und am Ende eines verschachtelten Blocks wieder auf das Niveau des umschlie\u00dfenden Blocks zur\u00fcckger\u00fcckt wird."
     ]
    },
    {
     "cell_type": "markdown",
     "metadata": {},
     "source": [
      "## Konzept 5: Datentypen\n",
      "    \n",
      "Ein Datentyp (engl. \"type\")  ist "
     ]
    },
    {
     "cell_type": "code",
     "collapsed": false,
     "input": [],
     "language": "python",
     "metadata": {},
     "outputs": []
    },
    {
     "cell_type": "markdown",
     "metadata": {},
     "source": [
      "## Konzept 6: Modularisierung\n",
      "\n",
      "Die Sprache \"Python\" f\u00fcr sich bietet nur sehr wenige Funktionen.\n",
      "Alles beschr\u00e4nkt sich auf elementare Elemente der Sprache.\n",
      "\n",
      "Ein \"Module\" (engl. \"module\") ist hingegen eine Sammlung von Funktionen und Datenstrukturen,\n",
      "um von einem Programm aus komplexere Abl\u00e4ufe aufrufen zu k\u00f6nnen."
     ]
    },
    {
     "cell_type": "code",
     "collapsed": false,
     "input": [
      "from math import sqrt, sin\n",
      "print(sin(3.1415))\n",
      "print(sqrt(2))"
     ],
     "language": "python",
     "metadata": {},
     "outputs": [
      {
       "output_type": "stream",
       "stream": "stdout",
       "text": [
        "9.26535896605e-05\n",
        "1.41421356237\n"
       ]
      }
     ],
     "prompt_number": 7
    },
    {
     "cell_type": "markdown",
     "metadata": {},
     "source": [
      "In der vorhergehenden Zelle werden die Funktionen `sqrt` und `sin` aus dem Modul `math` importiert."
     ]
    },
    {
     "cell_type": "markdown",
     "metadata": {},
     "source": [
      "Alternativ kann das gesamte Modul importiert werden,\n",
      "wobei die Funktionen dann Attribute dieses Moduls sind:"
     ]
    },
    {
     "cell_type": "code",
     "collapsed": false,
     "input": [
      "import math\n",
      "print(math.sqrt(4))"
     ],
     "language": "python",
     "metadata": {},
     "outputs": [
      {
       "output_type": "stream",
       "stream": "stdout",
       "text": [
        "2.0\n"
       ]
      }
     ],
     "prompt_number": 8
    },
    {
     "cell_type": "code",
     "collapsed": false,
     "input": [],
     "language": "python",
     "metadata": {},
     "outputs": [],
     "prompt_number": 9
    }
   ],
   "metadata": {}
  }
 ]
}
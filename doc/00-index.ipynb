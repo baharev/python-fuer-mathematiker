{
 "metadata": {
  "name": "",
  "signature": "sha256:9a7016f2e1b1db23c740f50b559a8119ca7170ab31dd4d169441b2d2f8f0fc10"
 },
 "nbformat": 3,
 "nbformat_minor": 0,
 "worksheets": [
  {
   "cells": [
    {
     "cell_type": "markdown",
     "metadata": {},
     "source": [
      "# Index"
     ]
    },
    {
     "cell_type": "code",
     "collapsed": false,
     "input": [
      "mk_index()"
     ],
     "language": "python",
     "metadata": {},
     "outputs": [
      {
       "html": [
        "<ol class='idx'><li><a href='00-index.ipynb'>Index</a></li><li><a href='01-einf\u00fchrung.ipynb'>Python Kurzeinf\u00fchrung</a></li><li><a href='02-kontrollstrukturen.ipynb'>Kontrollstrukturen</a></li><li><a href='03-datenstrukturen.ipynb'>Datenstrukturen</a></li><li><a href='04-dokumentation.ipynb'>Dokumentation eines Programmes</a></li><li><a href='05-qualit\u00e4tskontrolle.ipynb'>Qualit\u00e4tskontrolle</a></li><li><a href='06-plotten.ipynb'>Plotten und grafische Darstellungen</a></li><li><a href='07-symbolisch_rechnen.ipynb'>Symbolisches Rechnen mit SymPy</a></li><li><a href='08-numerik.ipynb'>Numerik</a></li><li><a href='09-typen_und_objekte.ipynb'>Typen und Objekte</a></li></ol>"
       ],
       "metadata": {},
       "output_type": "pyout",
       "prompt_number": 3,
       "text": [
        "<IPython.core.display.HTML at 0x1edee10>"
       ]
      }
     ],
     "prompt_number": 3
    },
    {
     "cell_type": "code",
     "collapsed": false,
     "input": [],
     "language": "python",
     "metadata": {},
     "outputs": []
    },
    {
     "cell_type": "code",
     "collapsed": false,
     "input": [],
     "language": "python",
     "metadata": {},
     "outputs": []
    },
    {
     "cell_type": "code",
     "collapsed": false,
     "input": [],
     "language": "python",
     "metadata": {},
     "outputs": []
    },
    {
     "cell_type": "code",
     "collapsed": false,
     "input": [],
     "language": "python",
     "metadata": {},
     "outputs": []
    },
    {
     "cell_type": "code",
     "collapsed": false,
     "input": [
      "from glob import glob\n",
      "from IPython.nbformat import current\n",
      "from IPython.display import HTML\n",
      "\n",
      "def mk_index():\n",
      "    out=u\"<ol class='idx'>\"\n",
      "    for fn in sorted(glob(\"??-*.ipynb\")):\n",
      "        with open(fn) as f:\n",
      "            nb = current.read(f, \"ipynb\")\n",
      "            for cell in nb[\"worksheets\"][0][\"cells\"]:\n",
      "                title = None\n",
      "                if cell[\"cell_type\"] == \"markdown\":\n",
      "                    for line in cell[\"source\"].splitlines():\n",
      "                        if line.startswith(\"# \"):\n",
      "                            title = line[2:]\n",
      "                            break\n",
      "                if title:\n",
      "                    break\n",
      "            out += u\"<li><a href='{}'>{}</a></li>\".format(fn.decode(\"utf8\"), title or fn[3:-6].title())\n",
      "    return HTML(out + u\"</ol>\")"
     ],
     "language": "python",
     "metadata": {},
     "outputs": [],
     "prompt_number": 1
    },
    {
     "cell_type": "code",
     "collapsed": false,
     "input": [
      "HTML(\"\"\"\n",
      "<style>\n",
      "ol.idx > li {\n",
      "font-size: 150%;\n",
      "}\n",
      "\"\"\")"
     ],
     "language": "python",
     "metadata": {},
     "outputs": [
      {
       "html": [
        "\n",
        "<style>\n",
        "ol.idx > li {\n",
        "font-size: 150%;\n",
        "}\n"
       ],
       "metadata": {},
       "output_type": "pyout",
       "prompt_number": 2,
       "text": [
        "<IPython.core.display.HTML at 0x1edee50>"
       ]
      }
     ],
     "prompt_number": 2
    },
    {
     "cell_type": "code",
     "collapsed": false,
     "input": [],
     "language": "python",
     "metadata": {},
     "outputs": []
    }
   ],
   "metadata": {}
  }
 ]
}
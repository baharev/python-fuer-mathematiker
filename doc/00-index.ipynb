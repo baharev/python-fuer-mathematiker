{
 "metadata": {
  "name": "",
  "signature": "sha256:87571c2f2828fdd5507c26d75e1f44f1b526da01ddeca591577d04ba7082771a"
 },
 "nbformat": 3,
 "nbformat_minor": 0,
 "worksheets": [
  {
   "cells": [
    {
     "cell_type": "markdown",
     "metadata": {},
     "source": [
      "# Index"
     ]
    },
    {
     "cell_type": "code",
     "collapsed": false,
     "input": [
      "mk_index()"
     ],
     "language": "python",
     "metadata": {},
     "outputs": [
      {
       "html": [
        "<div class='index'><div class='major'>\u00a70 <a href='00-index.ipynb'>Index</a></div><div class='major'>\u00a71 <a href='10-einfuehrung.ipynb'>Python Kurzeinf\u00fchrung</a></div><div class='minor'>\u00a71.1 <a href='11-programmieren.ipynb'>Was ist Programmieren?</a></div><div class='minor'>\u00a71.2 <a href='12-ipython.ipynb'>IPython Notebook</a></div><div class='major'>\u00a72 <a href='20-konzepte.ipynb'>Konzepte</a></div><div class='minor'>\u00a72.1 <a href='21-ausdruecke_und_variablen.ipynb'>Konzept 1: Ausdr\u00fccke und Variablen</a></div><div class='minor'>\u00a72.2 <a href='22-funktionsaufruf.ipynb'>Konzept 2: Funktionsaufruf</a></div><div class='minor'>\u00a72.3 <a href='23-kontrollstrukturen.ipynb'>Konzept 3: Kontrollstrukturen</a></div><div class='minor'>\u00a72.4 <a href='24-syntax.ipynb'>Konzept 4: Syntax</a></div><div class='minor'>\u00a72.5 <a href='25-datenstrukturen.ipynb'>Konzept 5: Datenstrukturen</a></div><div class='minor'>\u00a72.6 <a href='26-datentypen_und_objekte.ipynb'>Konzept 6: Typen und Objekte</a></div><div class='minor'>\u00a72.7 <a href='27-modularisierung.ipynb'>Konzept 7: Modularisierung</a></div><div class='major'>\u00a73 <a href='30-mathematik.ipynb'>Mathematisches Rechnen</a></div><div class='minor'>\u00a73.1 <a href='31-symbolisch_rechnen.ipynb'>Symbolisches Rechnen mit SymPy</a></div><div class='minor'>\u00a73.2 <a href='32-numerik.ipynb'>Numerisches Rechnen mit NumPy</a></div><div class='minor'>\u00a73.4 <a href='34-diskrete_mathematik.ipynb'>Diskrete Mathematik</a></div><div class='minor'>\u00a73.5 <a href='35-grafische_darstellung.ipynb'>Plotten und grafische Darstellungen</a></div><div class='minor'>\u00a73.6 <a href='36-statistik.ipynb'>Statistik</a></div><div class='minor'>\u00a73.7 <a href='37-geometrie.ipynb'>Geometrie</a></div><div class='major'>\u00a74 <a href='40-python_programmdateien.ipynb'>Eigenst\u00e4ndige Pythonprogramme</a></div><div class='major'>\u00a75 <a href='50-dokumentation.ipynb'>Dokumentation eines Programmes</a></div><div class='major'>\u00a76 <a href='60-qualitaetskontrolle.ipynb'>Qualit\u00e4tskontrolle</a></div><div class='major'>\u00a77 <a href='70-links.ipynb'>Weiterf\u00fchrende Literatur und Links</a></div></div>"
       ],
       "metadata": {},
       "output_type": "pyout",
       "prompt_number": 3,
       "text": [
        "<IPython.core.display.HTML at 0x2aaf110>"
       ]
      }
     ],
     "prompt_number": 3
    },
    {
     "cell_type": "code",
     "collapsed": false,
     "input": [],
     "language": "python",
     "metadata": {},
     "outputs": []
    },
    {
     "cell_type": "code",
     "collapsed": false,
     "input": [],
     "language": "python",
     "metadata": {},
     "outputs": []
    },
    {
     "cell_type": "code",
     "collapsed": false,
     "input": [],
     "language": "python",
     "metadata": {},
     "outputs": []
    },
    {
     "cell_type": "code",
     "collapsed": false,
     "input": [],
     "language": "python",
     "metadata": {},
     "outputs": []
    },
    {
     "cell_type": "code",
     "collapsed": false,
     "input": [
      "from glob import glob\n",
      "from IPython.nbformat import current\n",
      "from IPython.display import HTML\n",
      "\n",
      "def extract_title(cell):\n",
      "    \"\"\"\n",
      "    Extracts from a given cell in a notebook the <h1> title in a markdown content, if available,\n",
      "    or the explicitly set heading of level 1 - otherwise None.\n",
      "    \"\"\"\n",
      "    if cell[\"cell_type\"] == \"markdown\":\n",
      "        for line in cell[\"source\"].splitlines():\n",
      "            if line.startswith(\"# \"):\n",
      "                return line[2:]\n",
      "    elif cell[\"cell_type\"] == \"heading\" and cell[\"level\"] == 1:\n",
      "        return cell[\"source\"]\n",
      "    return None\n",
      "\n",
      "def mk_index():\n",
      "    out=u\"<div class='index'>\"\n",
      "    for fn in sorted(glob(\"??-*.ipynb\")):\n",
      "        with open(fn) as f:\n",
      "            nb = current.read(f, \"ipynb\")\n",
      "            for cell in nb[\"worksheets\"][0][\"cells\"]:\n",
      "                title = extract_title(cell)\n",
      "                if title:\n",
      "                    break\n",
      "                    \n",
      "            t = title or fn[3:-6].title()\n",
      "            major, minor = fn[:2]\n",
      "            if int(minor) == 0:\n",
      "                minor = \"\"\n",
      "                cls = \"major\"\n",
      "            else:\n",
      "                minor = \".\" + minor\n",
      "                cls = \"minor\"\n",
      "            out += u\"<div class='{}'>\u00a7{}{} <a href='{}'>{}</a></div>\"\\\n",
      "                   .format(cls, major, minor, fn.decode(\"utf8\"), t)\n",
      "    return HTML(out + u\"</div>\")"
     ],
     "language": "python",
     "metadata": {},
     "outputs": [],
     "prompt_number": 2
    },
    {
     "cell_type": "code",
     "collapsed": false,
     "input": [
      "HTML(\"\"\"\n",
      "<style>\n",
      "div.index > div {\n",
      "display: block;\n",
      "font-size: 150%;\n",
      "line-height: 30px;\n",
      "}\n",
      "div.index > div.minor {\n",
      "font-size: 135%;\n",
      "padding-left: 2em;\n",
      "\"\"\")"
     ],
     "language": "python",
     "metadata": {},
     "outputs": [
      {
       "html": [
        "\n",
        "<style>\n",
        "div.index > div {\n",
        "display: block;\n",
        "font-size: 150%;\n",
        "line-height: 30px;\n",
        "}\n",
        "div.index > div.minor {\n",
        "font-size: 135%;\n",
        "padding-left: 2em;\n"
       ],
       "metadata": {},
       "output_type": "pyout",
       "prompt_number": 30,
       "text": [
        "<IPython.core.display.HTML at 0x2c324d0>"
       ]
      }
     ],
     "prompt_number": 30
    },
    {
     "cell_type": "code",
     "collapsed": false,
     "input": [],
     "language": "python",
     "metadata": {},
     "outputs": []
    }
   ],
   "metadata": {}
  }
 ]
}
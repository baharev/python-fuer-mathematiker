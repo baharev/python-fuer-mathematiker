{
 "metadata": {
  "name": "",
  "signature": "sha256:cdb4563f8bbad89c990fa7b220074c6a1eeb691bd5d906beeb39ae5ca2d9b24c"
 },
 "nbformat": 3,
 "nbformat_minor": 0,
 "worksheets": [
  {
   "cells": [
    {
     "cell_type": "markdown",
     "metadata": {},
     "source": [
      "# Index"
     ]
    },
    {
     "cell_type": "code",
     "collapsed": false,
     "input": [
      "mk_index()"
     ],
     "language": "python",
     "metadata": {},
     "outputs": [
      {
       "html": [
        "<ul class='idx'><li><a href='00-index.ipynb'>00: Index</a></li><li><a href='10-einfuehrung.ipynb'>10: Python Kurzeinf\u00fchrung</a></li><li><a href='11-programmieren.ipynb'>11: Was ist Programmieren?</a></li><li><a href='20-konzepte.ipynb'>20: Konzepte</a></li><li><a href='21-ausdruecke_und_variablen.ipynb'>21: Ausdruecke_Und_Variablen</a></li><li><a href='22-funktionsaufruf.ipynb'>22: Konzept 2: Funktionsaufruf</a></li><li><a href='23-kontrollstrukturen.ipynb'>23: Konzept 3: Kontrollstrukturen</a></li><li><a href='24-syntax.ipynb'>24: Konzept 4: Syntax</a></li><li><a href='25-datenstrukturen.ipynb'>25: Konzept 5: Datenstrukturen</a></li><li><a href='26-datentypen_und_objekte.ipynb'>26: Konzept 6: Typen und Objekte</a></li><li><a href='27-modularisierung.ipynb'>27: Konzept 6: Modularisierung</a></li><li><a href='30-mathematik.ipynb'>30: Mathematisches Rechnen</a></li><li><a href='31-symbolisch_rechnen.ipynb'>31: Symbolisches Rechnen mit SymPy</a></li><li><a href='32-numerik.ipynb'>32: Numerisches Rechnen mit NumPy</a></li><li><a href='34-diskrete_mathematik.ipynb'>34: Diskrete Mathematik</a></li><li><a href='35-grafische_darstellung.ipynb'>35: Plotten und grafische Darstellungen</a></li><li><a href='36-statistik.ipynb'>36: Statistik</a></li><li><a href='40-python_programmdateien.ipynb'>40: Eigenst\u00e4ndige Pythonprogramme</a></li><li><a href='50-dokumentation.ipynb'>50: Dokumentation eines Programmes</a></li><li><a href='60-qualitaetskontrolle.ipynb'>60: Qualit\u00e4tskontrolle</a></li><li><a href='70-links.ipynb'>70: Weiterf\u00fchrende Literatur und Links</a></li></ul>"
       ],
       "metadata": {},
       "output_type": "pyout",
       "prompt_number": 4,
       "text": [
        "<IPython.core.display.HTML at 0x2c2f6d0>"
       ]
      }
     ],
     "prompt_number": 4
    },
    {
     "cell_type": "code",
     "collapsed": false,
     "input": [],
     "language": "python",
     "metadata": {},
     "outputs": []
    },
    {
     "cell_type": "code",
     "collapsed": false,
     "input": [],
     "language": "python",
     "metadata": {},
     "outputs": []
    },
    {
     "cell_type": "code",
     "collapsed": false,
     "input": [],
     "language": "python",
     "metadata": {},
     "outputs": []
    },
    {
     "cell_type": "code",
     "collapsed": false,
     "input": [],
     "language": "python",
     "metadata": {},
     "outputs": []
    },
    {
     "cell_type": "code",
     "collapsed": false,
     "input": [
      "from glob import glob\n",
      "from IPython.nbformat import current\n",
      "from IPython.display import HTML\n",
      "\n",
      "def extract_title(cell):\n",
      "    \"\"\"\n",
      "    Extracts from a given cell in a notebook the <h1> title in a markdown content, if available,\n",
      "    or the explicitly set heading of level 1 - otherwise None.\n",
      "    \"\"\"\n",
      "    if cell[\"cell_type\"] == \"markdown\":\n",
      "        for line in cell[\"source\"].splitlines():\n",
      "            if line.startswith(\"# \"):\n",
      "                return line[2:]\n",
      "    elif cell[\"cell_type\"] == \"heading\" and cell[\"level\"] == 1:\n",
      "        return cell[\"source\"]\n",
      "    return None\n",
      "\n",
      "def mk_index():\n",
      "    out=u\"<div class='index'>\"\n",
      "    for fn in sorted(glob(\"??-*.ipynb\")):\n",
      "        with open(fn) as f:\n",
      "            nb = current.read(f, \"ipynb\")\n",
      "            for cell in nb[\"worksheets\"][0][\"cells\"]:\n",
      "                title = extract_title(cell)\n",
      "                if title:\n",
      "                    break\n",
      "                    \n",
      "            t = title or fn[3:-6].title()\n",
      "            n = fn[:2]\n",
      "            out += u\"<li><a href='{}'>{}: {}</a></li>\".format(fn.decode(\"utf8\"), n, t)\n",
      "    return HTML(out + u\"</ul>\")"
     ],
     "language": "python",
     "metadata": {},
     "outputs": [],
     "prompt_number": 2
    },
    {
     "cell_type": "code",
     "collapsed": false,
     "input": [
      "HTML(\"\"\"\n",
      "<style>\n",
      "ul.idx > li {\n",
      "font-size: 150%;\n",
      "line-height: 30px;\n",
      "}\n",
      "\"\"\")"
     ],
     "language": "python",
     "metadata": {},
     "outputs": [
      {
       "html": [
        "\n",
        "<style>\n",
        "ul.idx > li {\n",
        "font-size: 150%;\n",
        "line-height: 30px;\n",
        "}\n"
       ],
       "metadata": {},
       "output_type": "pyout",
       "prompt_number": 3,
       "text": [
        "<IPython.core.display.HTML at 0x2d3b210>"
       ]
      }
     ],
     "prompt_number": 3
    },
    {
     "cell_type": "code",
     "collapsed": false,
     "input": [],
     "language": "python",
     "metadata": {},
     "outputs": []
    }
   ],
   "metadata": {}
  }
 ]
}
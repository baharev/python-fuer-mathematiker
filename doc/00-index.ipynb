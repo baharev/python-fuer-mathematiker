{
 "metadata": {
  "name": "",
  "signature": "sha256:9875c6f9f903b82fe63a8eee5374f56ae6dfe8d85a330ebb6de178ba84001ad7"
 },
 "nbformat": 3,
 "nbformat_minor": 0,
 "worksheets": [
  {
   "cells": [
    {
     "cell_type": "markdown",
     "metadata": {},
     "source": [
      "# Index"
     ]
    },
    {
     "cell_type": "code",
     "collapsed": false,
     "input": [
      "mk_index()"
     ],
     "language": "python",
     "metadata": {},
     "outputs": [
      {
       "html": [
        "<ul class='idx'><li><a href='00-index.ipynb'>00: Index</a></li><li><a href='10-einfuehrung.ipynb'>10: Python Kurzeinf\u00fchrung</a></li><li><a href='11-programmieren.ipynb'>11: Was ist Programmieren?</a></li><li><a href='12-konzepte.ipynb'>12: Konzepte</a></li><li><a href='20-kontrollstrukturen.ipynb'>20: Kontrollstrukturen</a></li><li><a href='30-datenstrukturen.ipynb'>30: Datenstrukturen</a></li><li><a href='40-datentypen_und_objekte.ipynb'>40: Typen und Objekte</a></li><li><a href='50-dokumentation.ipynb'>50: Dokumentation eines Programmes</a></li><li><a href='60-qualitaetskontrolle.ipynb'>60: Qualit\u00e4tskontrolle</a></li><li><a href='70-symbolisch_rechnen.ipynb'>70: Symbolisches Rechnen mit SymPy</a></li><li><a href='80-numerik.ipynb'>80: Numerisches Rechnen mit NumPy</a></li><li><a href='90-grafische_darstellung.ipynb'>90: Plotten und grafische Darstellungen</a></li></ul>"
       ],
       "metadata": {},
       "output_type": "pyout",
       "prompt_number": 12,
       "text": [
        "<IPython.core.display.HTML at 0x20d74d0>"
       ]
      }
     ],
     "prompt_number": 12
    },
    {
     "cell_type": "code",
     "collapsed": false,
     "input": [],
     "language": "python",
     "metadata": {},
     "outputs": []
    },
    {
     "cell_type": "code",
     "collapsed": false,
     "input": [],
     "language": "python",
     "metadata": {},
     "outputs": []
    },
    {
     "cell_type": "code",
     "collapsed": false,
     "input": [],
     "language": "python",
     "metadata": {},
     "outputs": []
    },
    {
     "cell_type": "code",
     "collapsed": false,
     "input": [],
     "language": "python",
     "metadata": {},
     "outputs": []
    },
    {
     "cell_type": "code",
     "collapsed": false,
     "input": [
      "from glob import glob\n",
      "from IPython.nbformat import current\n",
      "from IPython.display import HTML\n",
      "\n",
      "def extract_title(cell):\n",
      "    \"\"\"\n",
      "    Extracts from a given cell in a notebook the <h1> title in a markdown content, if available,\n",
      "    or the explicitly set heading of level 1 - otherwise None.\n",
      "    \"\"\"\n",
      "    if cell[\"cell_type\"] == \"markdown\":\n",
      "        for line in cell[\"source\"].splitlines():\n",
      "            if line.startswith(\"# \"):\n",
      "                return line[2:]\n",
      "    elif cell[\"cell_type\"] == \"heading\" and cell[\"level\"] == 1:\n",
      "        return cell[\"source\"]\n",
      "    return None\n",
      "\n",
      "def mk_index():\n",
      "    out=u\"<ul class='idx'>\"\n",
      "    for fn in sorted(glob(\"??-*.ipynb\")):\n",
      "        with open(fn) as f:\n",
      "            nb = current.read(f, \"ipynb\")\n",
      "            for cell in nb[\"worksheets\"][0][\"cells\"]:\n",
      "                title = extract_title(cell)\n",
      "                if title:\n",
      "                    break\n",
      "                    \n",
      "            t = title or fn[3:-6].title()\n",
      "            n = fn[:2]\n",
      "            out += u\"<li><a href='{}'>{}: {}</a></li>\".format(fn.decode(\"utf8\"), n, t)\n",
      "    return HTML(out + u\"</ul>\")"
     ],
     "language": "python",
     "metadata": {},
     "outputs": [],
     "prompt_number": 10
    },
    {
     "cell_type": "code",
     "collapsed": false,
     "input": [
      "HTML(\"\"\"\n",
      "<style>\n",
      "ul.idx > li {\n",
      "font-size: 150%;\n",
      "line-height: 30px;\n",
      "}\n",
      "\"\"\")"
     ],
     "language": "python",
     "metadata": {},
     "outputs": [
      {
       "html": [
        "\n",
        "<style>\n",
        "ul.idx > li {\n",
        "font-size: 150%;\n",
        "line-height: 30px;\n",
        "}\n"
       ],
       "metadata": {},
       "output_type": "pyout",
       "prompt_number": 2,
       "text": [
        "<IPython.core.display.HTML at 0x20c6f10>"
       ]
      }
     ],
     "prompt_number": 2
    },
    {
     "cell_type": "code",
     "collapsed": false,
     "input": [],
     "language": "python",
     "metadata": {},
     "outputs": []
    }
   ],
   "metadata": {}
  }
 ]
}
{
 "metadata": {
  "name": "",
  "signature": "sha256:2bc83cb94bd125c0f87e6dde48aefed2d0b1f0e1516425a40251faf18f61ee9c"
 },
 "nbformat": 3,
 "nbformat_minor": 0,
 "worksheets": [
  {
   "cells": [
    {
     "cell_type": "markdown",
     "metadata": {},
     "source": [
      "# Index"
     ]
    },
    {
     "cell_type": "code",
     "collapsed": false,
     "input": [
      "mk_index()"
     ],
     "language": "python",
     "metadata": {},
     "outputs": [
      {
       "html": [
        "<ol class='idx'><li><a href='00-index.ipynb'>Index</a></li><li><a href='01-einf\u00fchrung.ipynb'>Python Kurzeinf\u00fchrung</a></li><li><a href='02-kontrollstrukturen.ipynb'>Kontrollstrukturen</a></li><li><a href='03-datenstrukturen.ipynb'>Datenstrukturen</a></li><li><a href='04-datentypen_und_objekte.ipynb'>Typen und Objekte</a></li><li><a href='05-dokumentation.ipynb'>Dokumentation eines Programmes</a></li><li><a href='06-qualitaetskontrolle.ipynb'>Qualit\u00e4tskontrolle</a></li><li><a href='07-symbolisch_rechnen.ipynb'>Symbolisches Rechnen mit SymPy</a></li><li><a href='08-numerik.ipynb'>Numerisches Rechnen mit NumPy</a></li><li><a href='09-grafische_darstellung.ipynb'>Plotten und grafische Darstellungen</a></li></ol>"
       ],
       "metadata": {},
       "output_type": "pyout",
       "prompt_number": 5,
       "text": [
        "<IPython.core.display.HTML at 0x1aa2510>"
       ]
      }
     ],
     "prompt_number": 5
    },
    {
     "cell_type": "code",
     "collapsed": false,
     "input": [],
     "language": "python",
     "metadata": {},
     "outputs": []
    },
    {
     "cell_type": "code",
     "collapsed": false,
     "input": [],
     "language": "python",
     "metadata": {},
     "outputs": []
    },
    {
     "cell_type": "code",
     "collapsed": false,
     "input": [],
     "language": "python",
     "metadata": {},
     "outputs": []
    },
    {
     "cell_type": "code",
     "collapsed": false,
     "input": [],
     "language": "python",
     "metadata": {},
     "outputs": []
    },
    {
     "cell_type": "code",
     "collapsed": false,
     "input": [
      "from glob import glob\n",
      "from IPython.nbformat import current\n",
      "from IPython.display import HTML\n",
      "\n",
      "def extract_title(cell):\n",
      "    if cell[\"cell_type\"] == \"markdown\":\n",
      "        for line in cell[\"source\"].splitlines():\n",
      "            if line.startswith(\"# \"):\n",
      "                return line[2:]\n",
      "\n",
      "def mk_index():\n",
      "    out=u\"<ol class='idx'>\"\n",
      "    for fn in sorted(glob(\"??-*.ipynb\")):\n",
      "        with open(fn) as f:\n",
      "            nb = current.read(f, \"ipynb\")\n",
      "            for cell in nb[\"worksheets\"][0][\"cells\"]:\n",
      "                title = extract_title(cell)\n",
      "                if title:\n",
      "                    break\n",
      "            out += u\"<li><a href='{}'>{}</a></li>\".format(fn.decode(\"utf8\"), title or fn[3:-6].title())\n",
      "    return HTML(out + u\"</ol>\")"
     ],
     "language": "python",
     "metadata": {},
     "outputs": [],
     "prompt_number": 4
    },
    {
     "cell_type": "code",
     "collapsed": false,
     "input": [
      "HTML(\"\"\"\n",
      "<style>\n",
      "ol.idx > li {\n",
      "font-size: 150%;\n",
      "}\n",
      "\"\"\")"
     ],
     "language": "python",
     "metadata": {},
     "outputs": [
      {
       "html": [
        "\n",
        "<style>\n",
        "ol.idx > li {\n",
        "font-size: 150%;\n",
        "}\n"
       ],
       "metadata": {},
       "output_type": "pyout",
       "prompt_number": 2,
       "text": [
        "<IPython.core.display.HTML at 0x1a9cdd0>"
       ]
      }
     ],
     "prompt_number": 2
    },
    {
     "cell_type": "code",
     "collapsed": false,
     "input": [],
     "language": "python",
     "metadata": {},
     "outputs": []
    }
   ],
   "metadata": {}
  }
 ]
}
{
 "metadata": {
  "name": "",
  "signature": "sha256:3fefa0c9d0c2f8edebebaf0336fb6bc4e76d33ab4141f1cdaa5e210a1bb659df"
 },
 "nbformat": 3,
 "nbformat_minor": 0,
 "worksheets": [
  {
   "cells": [
    {
     "cell_type": "markdown",
     "metadata": {},
     "source": [
      "# Suche nach Plagiaten mit Python's `SequenceMatcher`\n",
      "\n",
      "`test/test1` und `test/test2` sind m\u00f6gliche Plagiate, w\u00e4hrend `test/test3` g\u00e4nzlich anders ist.\n",
      "Der Parameter `threshold` muss so eingestellt werden, damit es richtig erkannt wird!"
     ]
    },
    {
     "cell_type": "code",
     "collapsed": false,
     "input": [
      "from difflib import SequenceMatcher, HtmlDiff"
     ],
     "language": "python",
     "metadata": {},
     "outputs": [],
     "prompt_number": 21
    },
    {
     "cell_type": "code",
     "collapsed": false,
     "input": [
      "text1 = \"\"\"\\\n",
      "First-order methods can significantly benefit from parallel computing. These computing systems are\n",
      "typified by uniform processing nodes that are in close proximity and have reliable communications.\n",
      "Indeed, the expression embarrassingly parallel refers to an ideal scenario for parallelization where\n",
      "we split the job into independent calculations that can be simultaneously performed in a predictable\n",
      "fashion.\n",
      "\"\"\""
     ],
     "language": "python",
     "metadata": {},
     "outputs": [],
     "prompt_number": 22
    },
    {
     "cell_type": "code",
     "collapsed": false,
     "input": [
      "text2 = \"\"\"\\\n",
      "First-order methods can significantly benefit from parallel computing. These computing systems are\n",
      "typified by uniform processing nodes that are in close proximity and have reliable communications.\n",
      "Indeed, the expression parallel as embarrassingly refers to an ideal scenario for parallelization where\n",
      "we split the job into independent calculations thit can be simultaneously performed in a predictable\n",
      "fashion.\n",
      "\"\"\""
     ],
     "language": "python",
     "metadata": {},
     "outputs": [],
     "prompt_number": 23
    },
    {
     "cell_type": "code",
     "collapsed": false,
     "input": [
      "sm = SequenceMatcher(a=text1, b=text2)\n",
      "print sm.real_quick_ratio()\n",
      "print sm.quick_ratio()\n",
      "print sm.ratio()"
     ],
     "language": "python",
     "metadata": {},
     "outputs": [
      {
       "output_type": "stream",
       "stream": "stdout",
       "text": [
        "0.99634591961\n",
        "0.99634591961\n",
        "0.971985383678\n"
       ]
      }
     ],
     "prompt_number": 24
    },
    {
     "cell_type": "markdown",
     "metadata": {},
     "source": [
      "## Iteriere \u00fcber alle IPython Dateien in einem gegeneben Verzeichnis (mit Unterverzeichnissen)"
     ]
    },
    {
     "cell_type": "code",
     "collapsed": false,
     "input": [
      "import os\n",
      "import itertools as it\n",
      "from IPython.nbformat import current\n",
      "from difflib import SequenceMatcher\n",
      "from IPython.display import display, HTML"
     ],
     "language": "python",
     "metadata": {},
     "outputs": [],
     "prompt_number": 25
    },
    {
     "cell_type": "code",
     "collapsed": false,
     "input": [
      "def extract(fn):\n",
      "    with open(fn, \"r\") as f:\n",
      "        nb = current.read(f, \"ipynb\")\n",
      "        code = []\n",
      "        text = []\n",
      "        for cell in nb[\"worksheets\"][0][\"cells\"]:\n",
      "            if cell[\"cell_type\"] == \"code\":\n",
      "                code.append(cell[\"input\"] + \"\\n\")\n",
      "            elif cell[\"cell_type\"] == \"markdown\":\n",
      "                text.append(cell[\"source\"])\n",
      "        return \"\\n\".join(code), \"\\n\".join(text)"
     ],
     "language": "python",
     "metadata": {},
     "outputs": [],
     "prompt_number": 56
    },
    {
     "cell_type": "code",
     "collapsed": false,
     "input": [
      "print extract(\"./test/test1.ipynb\")"
     ],
     "language": "python",
     "metadata": {},
     "outputs": [
      {
       "output_type": "stream",
       "stream": "stdout",
       "text": [
        "(u'def f(x):\\n    y = 2 * x\\n    y2 = 3 * x\\n    return y + y2\\n\\nprint f(22)\\n\\ndef f2(x):\\n    k = 2 * x\\n    k = 3 * k\\n    return k**3\\n\\nf2(111)\\n\\nf(42) + f2(42)\\n\\n\\n', u'# some bla\\n\\nblabla\\n## more bla\\n\\nblabla')\n"
       ]
      }
     ],
     "prompt_number": 57
    },
    {
     "cell_type": "code",
     "collapsed": false,
     "input": [
      "def distance(x1, x2, threshold=0.8):\n",
      "    sm = SequenceMatcher(a=x1, b=x2)\n",
      "    # quick and real_quick are *upper* bounds, hence threshold check from below\n",
      "    rqr = sm.real_quick_ratio()\n",
      "    if rqr > threshold:\n",
      "        qr = sm.quick_ratio()\n",
      "        if qr > threshold:\n",
      "            return sm.ratio()\n",
      "        return qr\n",
      "    return rqr"
     ],
     "language": "python",
     "metadata": {},
     "outputs": [],
     "prompt_number": 28
    },
    {
     "cell_type": "code",
     "collapsed": false,
     "input": [
      "distance(text1, text2)"
     ],
     "language": "python",
     "metadata": {},
     "outputs": [
      {
       "metadata": {},
       "output_type": "pyout",
       "prompt_number": 29,
       "text": [
        "0.9719853836784409"
       ]
      }
     ],
     "prompt_number": 29
    },
    {
     "cell_type": "code",
     "collapsed": false,
     "input": [
      "HTML(\"\"\"\\\n",
      "<style>\n",
      "table.plagiate tr td {\n",
      "    font-size: 70%;\n",
      "    color: #444;\n",
      "}\n",
      "table.plagiate tr.hit {\n",
      "    font-weight: bold;\n",
      "}\n",
      "table.plagiate tr.hit td { \n",
      "    background: red;\n",
      "    color: white;\n",
      "    font-size: 100%;\n",
      "    padding: 4px;\n",
      "}\n",
      ".rendered_html table.plagiate tr td:nth-child(3) {\n",
      "   text-align: right;\n",
      "}\n",
      ".rendered_html table.plagiate td {\n",
      "   padding: 1px 4px;\n",
      "   border-color: #888;\n",
      "}\n",
      "</style>\n",
      "\"\"\")"
     ],
     "language": "python",
     "metadata": {},
     "outputs": [
      {
       "html": [
        "<style>\n",
        "table.plagiate tr td {\n",
        "    font-size: 70%;\n",
        "    color: #444;\n",
        "}\n",
        "table.plagiate tr.hit {\n",
        "    font-weight: bold;\n",
        "}\n",
        "table.plagiate tr.hit td { \n",
        "    background: red;\n",
        "    color: white;\n",
        "    font-size: 100%;\n",
        "    padding: 4px;\n",
        "}\n",
        ".rendered_html table.plagiate tr td:nth-child(3) {\n",
        "   text-align: right;\n",
        "}\n",
        ".rendered_html table.plagiate td {\n",
        "   padding: 1px 4px;\n",
        "   border-color: #888;\n",
        "}\n",
        "</style>\n"
       ],
       "metadata": {},
       "output_type": "pyout",
       "prompt_number": 30,
       "text": [
        "<IPython.core.display.HTML at 0x4028850>"
       ]
      }
     ],
     "prompt_number": 30
    },
    {
     "cell_type": "code",
     "collapsed": false,
     "input": [
      "from matplotlib.colors import rgb2hex\n",
      "%matplotlib inline\n",
      "import matplotlib.pyplot as plt\n",
      "from numpy import log1p, exp, linspace"
     ],
     "language": "python",
     "metadata": {},
     "outputs": [],
     "prompt_number": 31
    },
    {
     "cell_type": "code",
     "collapsed": false,
     "input": [
      "def color_mapping(x, k=3):\n",
      "    \"\"\"\n",
      "    logistic curve to map the distance metric [0, 1] to [0, 1] in the color space\n",
      "    \"\"\"\n",
      "    return x**k / exp(1-x**k)"
     ],
     "language": "python",
     "metadata": {},
     "outputs": [],
     "prompt_number": 32
    },
    {
     "cell_type": "code",
     "collapsed": false,
     "input": [
      "xx = linspace(0, 1, 100)\n",
      "plt.plot(xx, color_mapping(xx))"
     ],
     "language": "python",
     "metadata": {},
     "outputs": [
      {
       "metadata": {},
       "output_type": "pyout",
       "prompt_number": 33,
       "text": [
        "[<matplotlib.lines.Line2D at 0x4039590>]"
       ]
      },
      {
       "metadata": {},
       "output_type": "display_data",
       "png": "[encoded data removed]",
       "text": [
        "<matplotlib.figure.Figure at 0x3dfe190>"
       ]
      }
     ],
     "prompt_number": 33
    },
    {
     "cell_type": "code",
     "collapsed": false,
     "input": [
      "colors = plt.cm.Reds\n",
      "text_distances = []\n",
      "code_distances = []\n",
      "\n",
      "def plagiate(root, threshold = .7, show_all=False):\n",
      "    codes = {}\n",
      "    texts = {}\n",
      "    output = \"\"\n",
      "    for path, _, filenames in os.walk(root):\n",
      "        if \".ipynb_checkpoints\" in path:\n",
      "            continue\n",
      "        for filename in filenames:\n",
      "            if not filename.endswith(\".ipynb\"):\n",
      "                continue\n",
      "            fn = os.path.normpath(os.path.join(root, path, filename))\n",
      "            codes[fn] = extract(fn)\n",
      "    for (k1, (c1, t1)), (k2, (c2, t2)) in it.combinations(sorted(codes.iteritems()), 2):\n",
      "        #print levenshtein.ratio(c1, c2)\n",
      "        \n",
      "        d_code = distance(c1, c2, threshold)\n",
      "        d_text = distance(t1, t2, threshold)\n",
      "        \n",
      "        code_distances.append(d_code)\n",
      "        text_distances.append(d_text)\n",
      "        \n",
      "        d = min(d_code, d_text)\n",
      "        color = rgb2hex(colors(color_mapping(d)))\n",
      "        if not show_all and d < threshold:\n",
      "            continue\n",
      "        \n",
      "        cls = \"class='hit'\" if d > threshold else ''\n",
      "        output += \"<tr {} style='background:{}'>\\\n",
      "            <td>{}</td><td>{}</td><td>{:4f}</td><td>{:4f}</td></tr>\".format(cls, color, k1, k2, d_code, d_text)\n",
      "        \n",
      "    display(HTML(\"\"\"<table class='plagiate'>\n",
      "                 <tr><th>file1</th><th>file2</th><th>d(code)</th><th>d(text)</th></tr>\"\"\" \n",
      "                 + output + \"</table>\"))"
     ],
     "language": "python",
     "metadata": {},
     "outputs": [],
     "prompt_number": 89
    },
    {
     "cell_type": "code",
     "collapsed": false,
     "input": [
      "from IPython.html.widgets import interact, fixed\n",
      "interact(plagiate, root=fixed(\".\"), threshold=(0, 1, 0.01), show_all=False)"
     ],
     "language": "python",
     "metadata": {},
     "outputs": [
      {
       "html": [
        "<table class='plagiate'>\n",
        "                 <tr><th>file1</th><th>file2</th><th>d(code)</th><th>d(text)</th></tr><tr class='hit' style='background:#fdd0bc'>            <td>02-kontrollstrukturen.ipynb</td><td>03-datenstrukturen.ipynb</td><td>1.000000</td><td>0.702703</td></tr><tr class='hit' style='background:#fc8161'>            <td>test/test1.ipynb</td><td>test/test2.ipynb</td><td>0.854369</td><td>0.853933</td></tr></table>"
       ],
       "metadata": {},
       "output_type": "display_data",
       "text": [
        "<IPython.core.display.HTML at 0x4404d50>"
       ]
      },
      {
       "metadata": {},
       "output_type": "pyout",
       "prompt_number": 91,
       "text": [
        "<function __main__.plagiate>"
       ]
      }
     ],
     "prompt_number": 91
    },
    {
     "cell_type": "code",
     "collapsed": false,
     "input": [
      "%matplotlib inline\n",
      "import matplotlib.pyplot as plt\n",
      "_ = plt.hist(distances)"
     ],
     "language": "python",
     "metadata": {},
     "outputs": [
      {
       "metadata": {},
       "output_type": "display_data",
       "png": "[encoded data removed]",
       "text": [
        "<matplotlib.figure.Figure at 0x4404d90>"
       ]
      }
     ],
     "prompt_number": 92
    },
    {
     "cell_type": "code",
     "collapsed": false,
     "input": [
      "def showdiff(fn1, fn2):\n",
      "    htmldiff = HtmlDiff()\n",
      "    c1 = extract_code(fn1)\n",
      "    c2 = extract_code(fn2)\n",
      "    return HTML(htmldiff.make_table(c1.splitlines(), c2.splitlines(), fn1, fn2, context=True))"
     ],
     "language": "python",
     "metadata": {},
     "outputs": [],
     "prompt_number": 93
    },
    {
     "cell_type": "code",
     "collapsed": false,
     "input": [
      "# style for the table\n",
      "HTML(\"\"\"\\\n",
      "<style>\n",
      ".rendered_html > table.diff td,\n",
      ".rendered_html > table.diff tr {\n",
      "   border: none;\n",
      "   font-size: 12px;\n",
      "   padding: 1px 5px;\n",
      "   text-align: right;\n",
      "}\n",
      ".rendered_html > table.diff td:nth-child(3),\n",
      ".rendered_html > table.diff td:nth-child(6) {\n",
      "   text-align: left;\n",
      "   padding-right: 3em;\n",
      "}\n",
      ".rendered_html > table.diff tr:nth-child(even) td  {\n",
      "  background: #eee;\n",
      "}\n",
      "table.diff tr > td {\n",
      "  font-family: monospace;\n",
      "}\n",
      "</style>\n",
      "\"\"\")"
     ],
     "language": "python",
     "metadata": {},
     "outputs": [
      {
       "html": [
        "<style>\n",
        ".rendered_html > table.diff td,\n",
        ".rendered_html > table.diff tr {\n",
        "   border: none;\n",
        "   font-size: 12px;\n",
        "   padding: 1px 5px;\n",
        "   text-align: right;\n",
        "}\n",
        ".rendered_html > table.diff td:nth-child(3),\n",
        ".rendered_html > table.diff td:nth-child(6) {\n",
        "   text-align: left;\n",
        "   padding-right: 3em;\n",
        "}\n",
        ".rendered_html > table.diff tr:nth-child(even) td  {\n",
        "  background: #eee;\n",
        "}\n",
        "table.diff tr > td {\n",
        "  font-family: monospace;\n",
        "}\n",
        "</style>\n"
       ],
       "metadata": {},
       "output_type": "pyout",
       "prompt_number": 94,
       "text": [
        "<IPython.core.display.HTML at 0x4284e90>"
       ]
      }
     ],
     "prompt_number": 94
    },
    {
     "cell_type": "code",
     "collapsed": false,
     "input": [
      "showdiff(\"test/test1.ipynb\", \"test/test2.ipynb\")"
     ],
     "language": "python",
     "metadata": {},
     "outputs": [
      {
       "html": [
        "\n",
        "    <table class=\"diff\" id=\"difflib_chg_to2__top\"\n",
        "           cellspacing=\"0\" cellpadding=\"0\" rules=\"groups\" >\n",
        "        <colgroup></colgroup> <colgroup></colgroup> <colgroup></colgroup>\n",
        "        <colgroup></colgroup> <colgroup></colgroup> <colgroup></colgroup>\n",
        "        <thead><tr><th class=\"diff_next\"><br /></th><th colspan=\"2\" class=\"diff_header\">test/test1.ipynb</th><th class=\"diff_next\"><br /></th><th colspan=\"2\" class=\"diff_header\">test/test2.ipynb</th></tr></thead>\n",
        "        <tbody>\n",
        "            <tr><td class=\"diff_next\" id=\"difflib_chg_to2__0\"><a href=\"#difflib_chg_to2__1\">n</a></td><td class=\"diff_header\" id=\"from2_1\">1</td><td nowrap=\"nowrap\">def&nbsp;<span class=\"diff_chg\">f</span>(x):</td><td class=\"diff_next\"><a href=\"#difflib_chg_to2__1\">n</a></td><td class=\"diff_header\" id=\"to2_1\">1</td><td nowrap=\"nowrap\">def&nbsp;<span class=\"diff_chg\">z</span>(x):</td></tr>\n",
        "            <tr><td class=\"diff_next\" id=\"difflib_chg_to2__1\"></td><td class=\"diff_header\"></td><td nowrap=\"nowrap\"></td><td class=\"diff_next\"></td><td class=\"diff_header\" id=\"to2_2\">2</td><td nowrap=\"nowrap\"><span class=\"diff_add\">&nbsp;&nbsp;&nbsp;&nbsp;a3&nbsp;=&nbsp;3&nbsp;*&nbsp;x</span></td></tr>\n",
        "            <tr><td class=\"diff_next\"></td><td class=\"diff_header\" id=\"from2_2\">2</td><td nowrap=\"nowrap\">&nbsp;&nbsp;&nbsp;&nbsp;<span class=\"diff_chg\">y</span>&nbsp;=&nbsp;2&nbsp;*&nbsp;x</td><td class=\"diff_next\"></td><td class=\"diff_header\" id=\"to2_3\">3</td><td nowrap=\"nowrap\">&nbsp;&nbsp;&nbsp;&nbsp;<span class=\"diff_chg\">a</span>&nbsp;=&nbsp;2&nbsp;*&nbsp;x</td></tr>\n",
        "            <tr><td class=\"diff_next\" id=\"difflib_chg_to2__2\"></td><td class=\"diff_header\" id=\"from2_3\">3</td><td nowrap=\"nowrap\"><span class=\"diff_sub\">&nbsp;&nbsp;&nbsp;&nbsp;y2&nbsp;=&nbsp;3&nbsp;*&nbsp;x</span></td><td class=\"diff_next\"></td><td class=\"diff_header\"></td><td nowrap=\"nowrap\"></td></tr>\n",
        "            <tr><td class=\"diff_next\"></td><td class=\"diff_header\" id=\"from2_4\">4</td><td nowrap=\"nowrap\">&nbsp;&nbsp;&nbsp;&nbsp;return&nbsp;<span class=\"diff_chg\">y</span>&nbsp;+&nbsp;<span class=\"diff_chg\">y2</span></td><td class=\"diff_next\"></td><td class=\"diff_header\" id=\"to2_4\">4</td><td nowrap=\"nowrap\">&nbsp;&nbsp;&nbsp;&nbsp;return&nbsp;<span class=\"diff_chg\">a3</span>&nbsp;+&nbsp;<span class=\"diff_chg\">a</span></td></tr>\n",
        "            <tr><td class=\"diff_next\"></td><td class=\"diff_header\" id=\"from2_5\">5</td><td nowrap=\"nowrap\"></td><td class=\"diff_next\"></td><td class=\"diff_header\" id=\"to2_5\">5</td><td nowrap=\"nowrap\"></td></tr>\n",
        "            <tr><td class=\"diff_next\"><a href=\"#difflib_chg_to2__2\">n</a></td><td class=\"diff_header\" id=\"from2_6\">6</td><td nowrap=\"nowrap\">print&nbsp;<span class=\"diff_chg\">f</span>(22)</td><td class=\"diff_next\"><a href=\"#difflib_chg_to2__2\">n</a></td><td class=\"diff_header\" id=\"to2_6\">6</td><td nowrap=\"nowrap\">print&nbsp;<span class=\"diff_chg\">z</span>(22)</td></tr>\n",
        "            <tr><td class=\"diff_next\"></td><td class=\"diff_header\" id=\"from2_7\">7</td><td nowrap=\"nowrap\"></td><td class=\"diff_next\"></td><td class=\"diff_header\" id=\"to2_7\">7</td><td nowrap=\"nowrap\"></td></tr>\n",
        "            <tr><td class=\"diff_next\" id=\"difflib_chg_to2__3\"><a href=\"#difflib_chg_to2__3\">n</a></td><td class=\"diff_header\" id=\"from2_8\">8</td><td nowrap=\"nowrap\">def&nbsp;f<span class=\"diff_chg\">2</span>(x):</td><td class=\"diff_next\"><a href=\"#difflib_chg_to2__3\">n</a></td><td class=\"diff_header\" id=\"to2_8\">8</td><td nowrap=\"nowrap\">def&nbsp;f<span class=\"diff_chg\">3</span>(x):</td></tr>\n",
        "            <tr><td class=\"diff_next\"></td><td class=\"diff_header\" id=\"from2_9\">9</td><td nowrap=\"nowrap\">&nbsp;&nbsp;&nbsp;&nbsp;<span class=\"diff_chg\">k</span>&nbsp;=&nbsp;2&nbsp;*&nbsp;x</td><td class=\"diff_next\"></td><td class=\"diff_header\" id=\"to2_9\">9</td><td nowrap=\"nowrap\">&nbsp;&nbsp;&nbsp;&nbsp;<span class=\"diff_chg\">jj</span>&nbsp;=&nbsp;2&nbsp;*&nbsp;x</td></tr>\n",
        "            <tr><td class=\"diff_next\" id=\"difflib_chg_to2__4\"></td><td class=\"diff_header\" id=\"from2_10\">10</td><td nowrap=\"nowrap\">&nbsp;&nbsp;&nbsp;&nbsp;<span class=\"diff_chg\">k</span>&nbsp;=&nbsp;3&nbsp;*&nbsp;<span class=\"diff_chg\">k</span></td><td class=\"diff_next\"></td><td class=\"diff_header\" id=\"to2_10\">10</td><td nowrap=\"nowrap\">&nbsp;&nbsp;&nbsp;&nbsp;<span class=\"diff_chg\">jj</span>&nbsp;=&nbsp;3&nbsp;*&nbsp;<span class=\"diff_chg\">jj</span></td></tr>\n",
        "            <tr><td class=\"diff_next\"></td><td class=\"diff_header\" id=\"from2_11\">11</td><td nowrap=\"nowrap\">&nbsp;&nbsp;&nbsp;&nbsp;return&nbsp;<span class=\"diff_chg\">k</span>**3</td><td class=\"diff_next\"></td><td class=\"diff_header\" id=\"to2_11\">11</td><td nowrap=\"nowrap\">&nbsp;&nbsp;&nbsp;&nbsp;return&nbsp;<span class=\"diff_chg\">jj</span>**3</td></tr>\n",
        "            <tr><td class=\"diff_next\"></td><td class=\"diff_header\" id=\"from2_12\">12</td><td nowrap=\"nowrap\"></td><td class=\"diff_next\"></td><td class=\"diff_header\" id=\"to2_12\">12</td><td nowrap=\"nowrap\"></td></tr>\n",
        "            <tr><td class=\"diff_next\"><a href=\"#difflib_chg_to2__4\">n</a></td><td class=\"diff_header\" id=\"from2_13\">13</td><td nowrap=\"nowrap\">f<span class=\"diff_chg\">2</span>(11<span class=\"diff_sub\">1</span>)</td><td class=\"diff_next\"><a href=\"#difflib_chg_to2__4\">n</a></td><td class=\"diff_header\" id=\"to2_13\">13</td><td nowrap=\"nowrap\">f<span class=\"diff_chg\">3</span>(11)</td></tr>\n",
        "            <tr><td class=\"diff_next\"></td><td class=\"diff_header\" id=\"from2_14\">14</td><td nowrap=\"nowrap\"></td><td class=\"diff_next\"></td><td class=\"diff_header\" id=\"to2_14\">14</td><td nowrap=\"nowrap\"></td></tr>\n",
        "            <tr><td class=\"diff_next\"><a href=\"#difflib_chg_to2__top\">t</a></td><td class=\"diff_header\" id=\"from2_15\">15</td><td nowrap=\"nowrap\"><span class=\"diff_sub\">f(42)&nbsp;+&nbsp;f2(42)</span></td><td class=\"diff_next\"><a href=\"#difflib_chg_to2__top\">t</a></td><td class=\"diff_header\" id=\"to2_15\">15</td><td nowrap=\"nowrap\"><span class=\"diff_add\">z(24)&nbsp;+&nbsp;f3(24)</span></td></tr>\n",
        "            <tr><td class=\"diff_next\"></td><td class=\"diff_header\" id=\"from2_16\">16</td><td nowrap=\"nowrap\"></td><td class=\"diff_next\"></td><td class=\"diff_header\" id=\"to2_16\">16</td><td nowrap=\"nowrap\"></td></tr>\n",
        "            <tr><td class=\"diff_next\"></td><td class=\"diff_header\" id=\"from2_17\">17</td><td nowrap=\"nowrap\"></td><td class=\"diff_next\"></td><td class=\"diff_header\" id=\"to2_17\">17</td><td nowrap=\"nowrap\"></td></tr>\n",
        "        </tbody>\n",
        "    </table>"
       ],
       "metadata": {},
       "output_type": "pyout",
       "prompt_number": 95,
       "text": [
        "<IPython.core.display.HTML at 0x4284750>"
       ]
      }
     ],
     "prompt_number": 95
    },
    {
     "cell_type": "code",
     "collapsed": false,
     "input": [
      "showdiff(\"test/test1.ipynb\", \"test/test3.ipynb\")"
     ],
     "language": "python",
     "metadata": {},
     "outputs": [
      {
       "html": [
        "\n",
        "    <table class=\"diff\" id=\"difflib_chg_to3__top\"\n",
        "           cellspacing=\"0\" cellpadding=\"0\" rules=\"groups\" >\n",
        "        <colgroup></colgroup> <colgroup></colgroup> <colgroup></colgroup>\n",
        "        <colgroup></colgroup> <colgroup></colgroup> <colgroup></colgroup>\n",
        "        <thead><tr><th class=\"diff_next\"><br /></th><th colspan=\"2\" class=\"diff_header\">test/test1.ipynb</th><th class=\"diff_next\"><br /></th><th colspan=\"2\" class=\"diff_header\">test/test3.ipynb</th></tr></thead>\n",
        "        <tbody>\n",
        "            <tr><td class=\"diff_next\" id=\"difflib_chg_to3__1\"><a href=\"#difflib_chg_to3__1\">n</a></td><td class=\"diff_header\" id=\"from3_1\">1</td><td nowrap=\"nowrap\">def&nbsp;f(x):</td><td class=\"diff_next\"><a href=\"#difflib_chg_to3__1\">n</a></td><td class=\"diff_header\" id=\"to3_1\">1</td><td nowrap=\"nowrap\">def&nbsp;f<span class=\"diff_add\">1</span>(x):</td></tr>\n",
        "            <tr><td class=\"diff_next\"></td><td class=\"diff_header\" id=\"from3_2\">2</td><td nowrap=\"nowrap\"><span class=\"diff_sub\">&nbsp;&nbsp;&nbsp;&nbsp;y&nbsp;=&nbsp;2&nbsp;*&nbsp;x</span></td><td class=\"diff_next\"></td><td class=\"diff_header\" id=\"to3_2\">2</td><td nowrap=\"nowrap\"><span class=\"diff_add\">&nbsp;&nbsp;&nbsp;&nbsp;return&nbsp;5&nbsp;*&nbsp;x</span></td></tr>\n",
        "            <tr><td class=\"diff_next\"></td><td class=\"diff_header\" id=\"from3_3\">3</td><td nowrap=\"nowrap\"><span class=\"diff_sub\">&nbsp;&nbsp;&nbsp;&nbsp;y2&nbsp;=&nbsp;3&nbsp;*&nbsp;x</span></td><td class=\"diff_next\"></td><td class=\"diff_header\"></td><td nowrap=\"nowrap\"></td></tr>\n",
        "            <tr><td class=\"diff_next\" id=\"difflib_chg_to3__2\"></td><td class=\"diff_header\" id=\"from3_4\">4</td><td nowrap=\"nowrap\"><span class=\"diff_sub\">&nbsp;&nbsp;&nbsp;&nbsp;return&nbsp;y&nbsp;+&nbsp;y2</span></td><td class=\"diff_next\"></td><td class=\"diff_header\"></td><td nowrap=\"nowrap\"></td></tr>\n",
        "            <tr><td class=\"diff_next\"></td><td class=\"diff_header\" id=\"from3_5\">5</td><td nowrap=\"nowrap\"></td><td class=\"diff_next\"></td><td class=\"diff_header\" id=\"to3_3\">3</td><td nowrap=\"nowrap\"></td></tr>\n",
        "            <tr><td class=\"diff_next\"><a href=\"#difflib_chg_to3__2\">n</a></td><td class=\"diff_header\" id=\"from3_6\">6</td><td nowrap=\"nowrap\">print&nbsp;f(<span class=\"diff_chg\">2</span>2)</td><td class=\"diff_next\"><a href=\"#difflib_chg_to3__2\">n</a></td><td class=\"diff_header\" id=\"to3_4\">4</td><td nowrap=\"nowrap\">print&nbsp;f<span class=\"diff_add\">1</span>(<span class=\"diff_chg\">4</span>2)</td></tr>\n",
        "            <tr><td class=\"diff_next\"></td><td class=\"diff_header\" id=\"from3_7\">7</td><td nowrap=\"nowrap\"></td><td class=\"diff_next\"></td><td class=\"diff_header\" id=\"to3_5\">5</td><td nowrap=\"nowrap\"></td></tr>\n",
        "            <tr><td class=\"diff_next\" id=\"difflib_chg_to3__3\"></td><td class=\"diff_header\" id=\"from3_8\">8</td><td nowrap=\"nowrap\">def&nbsp;f2(x):</td><td class=\"diff_next\"></td><td class=\"diff_header\" id=\"to3_6\">6</td><td nowrap=\"nowrap\">def&nbsp;f2(x):</td></tr>\n",
        "            <tr><td class=\"diff_next\"><a href=\"#difflib_chg_to3__3\">n</a></td><td class=\"diff_header\" id=\"from3_9\">9</td><td nowrap=\"nowrap\"><span class=\"diff_sub\">&nbsp;&nbsp;&nbsp;&nbsp;k&nbsp;=&nbsp;2&nbsp;*&nbsp;x</span></td><td class=\"diff_next\"><a href=\"#difflib_chg_to3__3\">n</a></td><td class=\"diff_header\"></td><td nowrap=\"nowrap\"></td></tr>\n",
        "            <tr><td class=\"diff_next\" id=\"difflib_chg_to3__4\"></td><td class=\"diff_header\" id=\"from3_10\">10</td><td nowrap=\"nowrap\"><span class=\"diff_sub\">&nbsp;&nbsp;&nbsp;&nbsp;k&nbsp;=&nbsp;3&nbsp;*&nbsp;k</span></td><td class=\"diff_next\"></td><td class=\"diff_header\"></td><td nowrap=\"nowrap\"></td></tr>\n",
        "            <tr><td class=\"diff_next\"></td><td class=\"diff_header\" id=\"from3_11\">11</td><td nowrap=\"nowrap\">&nbsp;&nbsp;&nbsp;&nbsp;return&nbsp;<span class=\"diff_chg\">k</span>**3</td><td class=\"diff_next\"></td><td class=\"diff_header\" id=\"to3_7\">7</td><td nowrap=\"nowrap\">&nbsp;&nbsp;&nbsp;&nbsp;return&nbsp;<span class=\"diff_chg\">(6*x)</span>**3</td></tr>\n",
        "            <tr><td class=\"diff_next\"></td><td class=\"diff_header\" id=\"from3_12\">12</td><td nowrap=\"nowrap\"></td><td class=\"diff_next\"></td><td class=\"diff_header\" id=\"to3_8\">8</td><td nowrap=\"nowrap\"></td></tr>\n",
        "            <tr><td class=\"diff_next\" id=\"difflib_chg_to3__5\"><a href=\"#difflib_chg_to3__4\">n</a></td><td class=\"diff_header\" id=\"from3_13\">13</td><td nowrap=\"nowrap\">f2(11<span class=\"diff_sub\">1</span>)</td><td class=\"diff_next\"><a href=\"#difflib_chg_to3__4\">n</a></td><td class=\"diff_header\" id=\"to3_9\">9</td><td nowrap=\"nowrap\">f2(11)</td></tr>\n",
        "            <tr><td class=\"diff_next\"></td><td class=\"diff_header\" id=\"from3_14\">14</td><td nowrap=\"nowrap\"></td><td class=\"diff_next\"></td><td class=\"diff_header\" id=\"to3_10\">10</td><td nowrap=\"nowrap\"></td></tr>\n",
        "            <tr><td class=\"diff_next\"><a href=\"#difflib_chg_to3__5\">n</a></td><td class=\"diff_header\" id=\"from3_15\">15</td><td nowrap=\"nowrap\">f(4<span class=\"diff_sub\">2</span>)&nbsp;+&nbsp;f2(4<span class=\"diff_sub\">2</span>)</td><td class=\"diff_next\"><a href=\"#difflib_chg_to3__5\">n</a></td><td class=\"diff_header\" id=\"to3_11\">11</td><td nowrap=\"nowrap\">f<span class=\"diff_add\">1</span>(<span class=\"diff_add\">2</span>4)&nbsp;+&nbsp;f2(<span class=\"diff_add\">2</span>4)</td></tr>\n",
        "            <tr><td class=\"diff_next\"></td><td class=\"diff_header\" id=\"from3_16\">16</td><td nowrap=\"nowrap\"></td><td class=\"diff_next\"></td><td class=\"diff_header\" id=\"to3_12\">12</td><td nowrap=\"nowrap\"></td></tr>\n",
        "            <tr><td class=\"diff_next\"></td><td class=\"diff_header\" id=\"from3_17\">17</td><td nowrap=\"nowrap\"></td><td class=\"diff_next\"></td><td class=\"diff_header\" id=\"to3_13\">13</td><td nowrap=\"nowrap\"></td></tr>\n",
        "            <tr><td class=\"diff_next\"><a href=\"#difflib_chg_to3__top\">t</a></td><td class=\"diff_header\"></td><td nowrap=\"nowrap\"></td><td class=\"diff_next\"><a href=\"#difflib_chg_to3__top\">t</a></td><td class=\"diff_header\" id=\"to3_14\">14</td><td nowrap=\"nowrap\"><span class=\"diff_add\">&nbsp;</span></td></tr>\n",
        "            <tr><td class=\"diff_next\"></td><td class=\"diff_header\"></td><td nowrap=\"nowrap\"></td><td class=\"diff_next\"></td><td class=\"diff_header\" id=\"to3_15\">15</td><td nowrap=\"nowrap\"><span class=\"diff_add\">&nbsp;</span></td></tr>\n",
        "        </tbody>\n",
        "    </table>"
       ],
       "metadata": {},
       "output_type": "pyout",
       "prompt_number": 96,
       "text": [
        "<IPython.core.display.HTML at 0x4284b90>"
       ]
      }
     ],
     "prompt_number": 96
    },
    {
     "cell_type": "code",
     "collapsed": false,
     "input": [],
     "language": "python",
     "metadata": {},
     "outputs": []
    }
   ],
   "metadata": {}
  }
 ]
}
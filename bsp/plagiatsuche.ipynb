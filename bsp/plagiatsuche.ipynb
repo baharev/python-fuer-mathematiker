{
 "metadata": {
  "name": "",
  "signature": "sha256:b47759227b0762bb06a610bbc59de466ed53e9d78eef8bdde88110b120d3eba2"
 },
 "nbformat": 3,
 "nbformat_minor": 0,
 "worksheets": [
  {
   "cells": [
    {
     "cell_type": "markdown",
     "metadata": {},
     "source": [
      "# Suche nach Plagiaten mit Python's `SequenceMatcher`\n",
      "\n",
      "`test/test1` und `test/test2` sind m\u00f6gliche Plagiate, w\u00e4hrend `test/test3` g\u00e4nzlich anders ist.\n",
      "Der Parameter `threshold` muss so eingestellt werden, damit es richtig erkannt wird!"
     ]
    },
    {
     "cell_type": "code",
     "collapsed": false,
     "input": [
      "from difflib import SequenceMatcher, HtmlDiff"
     ],
     "language": "python",
     "metadata": {},
     "outputs": [],
     "prompt_number": 1
    },
    {
     "cell_type": "code",
     "collapsed": false,
     "input": [
      "text1 = \"\"\"\\\n",
      "First-order methods can significantly benefit from parallel computing. These computing systems are\n",
      "typified by uniform processing nodes that are in close proximity and have reliable communications.\n",
      "Indeed, the expression embarrassingly parallel refers to an ideal scenario for parallelization where\n",
      "we split the job into independent calculations that can be simultaneously performed in a predictable\n",
      "fashion.\n",
      "\"\"\""
     ],
     "language": "python",
     "metadata": {},
     "outputs": [],
     "prompt_number": 2
    },
    {
     "cell_type": "code",
     "collapsed": false,
     "input": [
      "text2 = \"\"\"\\\n",
      "First-order methods can significantly benefit from parallel computing. These computing systems are\n",
      "typified by uniform processing nodes that are in close proximity and have reliable communications.\n",
      "Indeed, the expression parallel as embarrassingly refers to an ideal scenario for parallelization where\n",
      "we split the job into independent calculations thit can be simultaneously performed in a predictable\n",
      "fashion.\n",
      "\"\"\""
     ],
     "language": "python",
     "metadata": {},
     "outputs": [],
     "prompt_number": 3
    },
    {
     "cell_type": "code",
     "collapsed": false,
     "input": [
      "sm = SequenceMatcher(a=text1, b=text2)\n",
      "print sm.real_quick_ratio()\n",
      "print sm.quick_ratio()\n",
      "print sm.ratio()"
     ],
     "language": "python",
     "metadata": {},
     "outputs": [
      {
       "output_type": "stream",
       "stream": "stdout",
       "text": [
        "0.99634591961\n",
        "0.99634591961\n",
        "0.971985383678\n"
       ]
      }
     ],
     "prompt_number": 4
    },
    {
     "cell_type": "markdown",
     "metadata": {},
     "source": [
      "## Iteriere \u00fcber alle IPython Dateien in einem gegeneben Verzeichnis (mit Unterverzeichnissen)"
     ]
    },
    {
     "cell_type": "code",
     "collapsed": false,
     "input": [
      "import os\n",
      "import itertools as it\n",
      "from IPython.nbformat import current\n",
      "from difflib import SequenceMatcher\n",
      "from IPython.display import display, HTML"
     ],
     "language": "python",
     "metadata": {},
     "outputs": [],
     "prompt_number": 5
    },
    {
     "cell_type": "code",
     "collapsed": false,
     "input": [
      "def extract(fn):\n",
      "    with open(fn, \"r\") as f:\n",
      "        nb = current.read(f, \"ipynb\")\n",
      "        code = []\n",
      "        text = []\n",
      "        for cell in nb[\"worksheets\"][0][\"cells\"]:\n",
      "            if cell[\"cell_type\"] == \"code\":\n",
      "                code.append(cell[\"input\"] + \"\\n\")\n",
      "            elif cell[\"cell_type\"] == \"markdown\":\n",
      "                text.append(cell[\"source\"])\n",
      "        return \"\\n\".join(code), \"\\n\".join(text)"
     ],
     "language": "python",
     "metadata": {},
     "outputs": [],
     "prompt_number": 6
    },
    {
     "cell_type": "code",
     "collapsed": false,
     "input": [
      "print extract(\"./test/test1.ipynb\")"
     ],
     "language": "python",
     "metadata": {},
     "outputs": [
      {
       "output_type": "stream",
       "stream": "stdout",
       "text": [
        "(u'def f(x):\\n    y = 2 * x\\n    y2 = 3 * x\\n    return y + y2\\n\\nprint f(22)\\n\\ndef f2(x):\\n    k = 2 * x\\n    k = 3 * k\\n    return k**3\\n\\nf2(111)\\n\\nf(42) + f2(42)\\n\\n\\n', u'# some bla\\n\\nblabla\\n## more bla\\n\\nblabla')\n"
       ]
      }
     ],
     "prompt_number": 7
    },
    {
     "cell_type": "code",
     "collapsed": false,
     "input": [
      "def distance(x1, x2, threshold=0.8):\n",
      "    sm = SequenceMatcher(a=x1, b=x2)\n",
      "    # quick and real_quick are *upper* bounds, hence threshold check from below\n",
      "    rqr = sm.real_quick_ratio()\n",
      "    if rqr > threshold:\n",
      "        qr = sm.quick_ratio()\n",
      "        if qr > threshold:\n",
      "            return sm.ratio()\n",
      "        return qr\n",
      "    return rqr"
     ],
     "language": "python",
     "metadata": {},
     "outputs": [],
     "prompt_number": 8
    },
    {
     "cell_type": "code",
     "collapsed": false,
     "input": [
      "distance(text1, text2)"
     ],
     "language": "python",
     "metadata": {},
     "outputs": [
      {
       "metadata": {},
       "output_type": "pyout",
       "prompt_number": 9,
       "text": [
        "0.9719853836784409"
       ]
      }
     ],
     "prompt_number": 9
    },
    {
     "cell_type": "code",
     "collapsed": false,
     "input": [
      "HTML(\"\"\"\\\n",
      "<style>\n",
      "table.plagiate tr td {\n",
      "    font-size: 70%;\n",
      "    color: #444;\n",
      "}\n",
      "table.plagiate tr.hit {\n",
      "    font-weight: bold;\n",
      "}\n",
      "table.plagiate tr.hit td { \n",
      "    background: red;\n",
      "    color: white;\n",
      "    font-size: 100%;\n",
      "    padding: 4px;\n",
      "}\n",
      ".rendered_html table.plagiate tr td:nth-child(3) {\n",
      "   text-align: right;\n",
      "}\n",
      ".rendered_html table.plagiate td {\n",
      "   padding: 1px 4px;\n",
      "   border-color: #888;\n",
      "}\n",
      "</style>\n",
      "\"\"\")"
     ],
     "language": "python",
     "metadata": {},
     "outputs": [
      {
       "html": [
        "<style>\n",
        "table.plagiate tr td {\n",
        "    font-size: 70%;\n",
        "    color: #444;\n",
        "}\n",
        "table.plagiate tr.hit {\n",
        "    font-weight: bold;\n",
        "}\n",
        "table.plagiate tr.hit td { \n",
        "    background: red;\n",
        "    color: white;\n",
        "    font-size: 100%;\n",
        "    padding: 4px;\n",
        "}\n",
        ".rendered_html table.plagiate tr td:nth-child(3) {\n",
        "   text-align: right;\n",
        "}\n",
        ".rendered_html table.plagiate td {\n",
        "   padding: 1px 4px;\n",
        "   border-color: #888;\n",
        "}\n",
        "</style>\n"
       ],
       "metadata": {},
       "output_type": "pyout",
       "prompt_number": 10,
       "text": [
        "<IPython.core.display.HTML at 0x3310710>"
       ]
      }
     ],
     "prompt_number": 10
    },
    {
     "cell_type": "code",
     "collapsed": false,
     "input": [
      "from matplotlib.colors import rgb2hex\n",
      "%matplotlib inline\n",
      "import matplotlib.pyplot as plt\n",
      "from numpy import log1p, exp, linspace"
     ],
     "language": "python",
     "metadata": {},
     "outputs": [],
     "prompt_number": 11
    },
    {
     "cell_type": "code",
     "collapsed": false,
     "input": [
      "def color_mapping(x, k=3):\n",
      "    \"\"\"\n",
      "    logistic curve to map the distance metric [0, 1] to [0, 1] in the color space\n",
      "    \"\"\"\n",
      "    return x**k / exp(1-x**k)"
     ],
     "language": "python",
     "metadata": {},
     "outputs": [],
     "prompt_number": 12
    },
    {
     "cell_type": "code",
     "collapsed": false,
     "input": [
      "xx = linspace(0, 1, 100)\n",
      "plt.plot(xx, color_mapping(xx))"
     ],
     "language": "python",
     "metadata": {},
     "outputs": [
      {
       "metadata": {},
       "output_type": "pyout",
       "prompt_number": 13,
       "text": [
        "[<matplotlib.lines.Line2D at 0x45f6410>]"
       ]
      },
      {
       "metadata": {},
       "output_type": "display_data",
       "png": "[encoded data removed]",
       "text": [
        "<matplotlib.figure.Figure at 0x448ee10>"
       ]
      }
     ],
     "prompt_number": 13
    },
    {
     "cell_type": "code",
     "collapsed": false,
     "input": [
      "colors = plt.cm.Reds\n",
      "text_distances = []\n",
      "code_distances = []\n",
      "\n",
      "def plagiate(root, threshold = .7, show_all=False):\n",
      "    root = os.path.abspath(root)\n",
      "    codes = {}\n",
      "    texts = {}\n",
      "    output = \"\"\n",
      "    for path, _, filenames in os.walk(root):\n",
      "        if \".ipynb_checkpoints\" in path:\n",
      "            continue\n",
      "        for filename in filenames:\n",
      "            if not filename.endswith(\".ipynb\"):\n",
      "                continue\n",
      "            fn = os.path.normpath(os.path.join(root, path, filename))\n",
      "            codes[fn[len(root):]] = extract(fn)\n",
      "    for (k1, (c1, t1)), (k2, (c2, t2)) in it.combinations(sorted(codes.iteritems()), 2):\n",
      "        #print levenshtein.ratio(c1, c2)\n",
      "        \n",
      "        d_code = distance(c1, c2, threshold)\n",
      "        d_text = distance(t1, t2, threshold)\n",
      "        \n",
      "        code_distances.append(d_code)\n",
      "        text_distances.append(d_text)\n",
      "        \n",
      "        d = min(d_code, d_text)\n",
      "        color = rgb2hex(colors(color_mapping(d)))\n",
      "        if not show_all and d < threshold:\n",
      "            continue\n",
      "        \n",
      "        cls = \"class='hit'\" if d >= threshold else ''\n",
      "        output += \"<tr {} style='background:{}'>\\\n",
      "            <td>{}</td><td>{}</td><td>{:4f}</td><td>{:4f}</td></tr>\".format(cls, color, k1, k2, d_code, d_text)\n",
      "        \n",
      "    display(HTML(\"\"\"<table class='plagiate'>\n",
      "                 <tr><th>file1</th><th>file2</th><th>d(code)</th><th>d(text)</th></tr>\"\"\" \n",
      "                 + output + \"</table>\"))\n",
      "    \n",
      "    fig = plt.figure()\n",
      "    f1 = fig.add_subplot(2,1,1)\n",
      "    f2 = fig.add_subplot(2,1,2)\n",
      "    _ = f1.hist(code_distances)\n",
      "    _ = f2.hist(text_distances)"
     ],
     "language": "python",
     "metadata": {},
     "outputs": [],
     "prompt_number": 58
    },
    {
     "cell_type": "code",
     "collapsed": false,
     "input": [
      "from IPython.html.widgets import interact, fixed\n",
      "interact(plagiate, root=fixed(\"..\"), threshold=(0, 1, 0.01), show_all=False)"
     ],
     "language": "python",
     "metadata": {},
     "outputs": [
      {
       "html": [
        "<table class='plagiate'>\n",
        "                 <tr><th>file1</th><th>file2</th><th>d(code)</th><th>d(text)</th></tr><tr class='hit' style='background:#fc8161'>            <td>/bsp/test/test1.ipynb</td><td>/bsp/test/test2.ipynb</td><td>0.854369</td><td>0.853933</td></tr></table>"
       ],
       "metadata": {},
       "output_type": "display_data",
       "text": [
        "<IPython.core.display.HTML at 0x577ee10>"
       ]
      },
      {
       "metadata": {},
       "output_type": "display_data",
       "png": "[encoded data removed]",
       "text": [
        "<matplotlib.figure.Figure at 0x577ea50>"
       ]
      }
     ],
     "prompt_number": 59
    },
    {
     "cell_type": "code",
     "collapsed": false,
     "input": [
      "def showdiff(fn1, fn2):\n",
      "    htmldiff = HtmlDiff()\n",
      "    c1, _ = extract(fn1)\n",
      "    c2, _ = extract(fn2)\n",
      "    return HTML(htmldiff.make_table(c1.splitlines(), c2.splitlines(), fn1, fn2, context=True))"
     ],
     "language": "python",
     "metadata": {},
     "outputs": [],
     "prompt_number": 17
    },
    {
     "cell_type": "code",
     "collapsed": false,
     "input": [
      "# style for the table\n",
      "HTML(\"\"\"\\\n",
      "<style>\n",
      ".rendered_html > table.diff td,\n",
      ".rendered_html > table.diff tr {\n",
      "   border: none;\n",
      "   font-size: 12px;\n",
      "   padding: 1px 5px;\n",
      "   text-align: right;\n",
      "}\n",
      ".rendered_html > table.diff td:nth-child(3),\n",
      ".rendered_html > table.diff td:nth-child(6) {\n",
      "   text-align: left;\n",
      "   padding-right: 3em;\n",
      "}\n",
      ".rendered_html > table.diff tr:nth-child(even) td  {\n",
      "  background: #eee;\n",
      "}\n",
      "table.diff tr > td {\n",
      "  font-family: monospace;\n",
      "}\n",
      "</style>\n",
      "\"\"\")"
     ],
     "language": "python",
     "metadata": {},
     "outputs": [
      {
       "html": [
        "<style>\n",
        ".rendered_html > table.diff td,\n",
        ".rendered_html > table.diff tr {\n",
        "   border: none;\n",
        "   font-size: 12px;\n",
        "   padding: 1px 5px;\n",
        "   text-align: right;\n",
        "}\n",
        ".rendered_html > table.diff td:nth-child(3),\n",
        ".rendered_html > table.diff td:nth-child(6) {\n",
        "   text-align: left;\n",
        "   padding-right: 3em;\n",
        "}\n",
        ".rendered_html > table.diff tr:nth-child(even) td  {\n",
        "  background: #eee;\n",
        "}\n",
        "table.diff tr > td {\n",
        "  font-family: monospace;\n",
        "}\n",
        "</style>\n"
       ],
       "metadata": {},
       "output_type": "pyout",
       "prompt_number": 18,
       "text": [
        "<IPython.core.display.HTML at 0x44ab790>"
       ]
      }
     ],
     "prompt_number": 18
    },
    {
     "cell_type": "code",
     "collapsed": false,
     "input": [
      "showdiff(\"test/test1.ipynb\", \"test/test2.ipynb\")"
     ],
     "language": "python",
     "metadata": {},
     "outputs": [
      {
       "html": [
        "\n",
        "    <table class=\"diff\" id=\"difflib_chg_to0__top\"\n",
        "           cellspacing=\"0\" cellpadding=\"0\" rules=\"groups\" >\n",
        "        <colgroup></colgroup> <colgroup></colgroup> <colgroup></colgroup>\n",
        "        <colgroup></colgroup> <colgroup></colgroup> <colgroup></colgroup>\n",
        "        <thead><tr><th class=\"diff_next\"><br /></th><th colspan=\"2\" class=\"diff_header\">test/test1.ipynb</th><th class=\"diff_next\"><br /></th><th colspan=\"2\" class=\"diff_header\">test/test2.ipynb</th></tr></thead>\n",
        "        <tbody>\n",
        "            <tr><td class=\"diff_next\" id=\"difflib_chg_to0__0\"><a href=\"#difflib_chg_to0__1\">n</a></td><td class=\"diff_header\" id=\"from0_1\">1</td><td nowrap=\"nowrap\">def&nbsp;<span class=\"diff_chg\">f</span>(x):</td><td class=\"diff_next\"><a href=\"#difflib_chg_to0__1\">n</a></td><td class=\"diff_header\" id=\"to0_1\">1</td><td nowrap=\"nowrap\">def&nbsp;<span class=\"diff_chg\">z</span>(x):</td></tr>\n",
        "            <tr><td class=\"diff_next\" id=\"difflib_chg_to0__1\"></td><td class=\"diff_header\"></td><td nowrap=\"nowrap\"></td><td class=\"diff_next\"></td><td class=\"diff_header\" id=\"to0_2\">2</td><td nowrap=\"nowrap\"><span class=\"diff_add\">&nbsp;&nbsp;&nbsp;&nbsp;a3&nbsp;=&nbsp;3&nbsp;*&nbsp;x</span></td></tr>\n",
        "            <tr><td class=\"diff_next\"></td><td class=\"diff_header\" id=\"from0_2\">2</td><td nowrap=\"nowrap\">&nbsp;&nbsp;&nbsp;&nbsp;<span class=\"diff_chg\">y</span>&nbsp;=&nbsp;2&nbsp;*&nbsp;x</td><td class=\"diff_next\"></td><td class=\"diff_header\" id=\"to0_3\">3</td><td nowrap=\"nowrap\">&nbsp;&nbsp;&nbsp;&nbsp;<span class=\"diff_chg\">a</span>&nbsp;=&nbsp;2&nbsp;*&nbsp;x</td></tr>\n",
        "            <tr><td class=\"diff_next\" id=\"difflib_chg_to0__2\"></td><td class=\"diff_header\" id=\"from0_3\">3</td><td nowrap=\"nowrap\"><span class=\"diff_sub\">&nbsp;&nbsp;&nbsp;&nbsp;y2&nbsp;=&nbsp;3&nbsp;*&nbsp;x</span></td><td class=\"diff_next\"></td><td class=\"diff_header\"></td><td nowrap=\"nowrap\"></td></tr>\n",
        "            <tr><td class=\"diff_next\"></td><td class=\"diff_header\" id=\"from0_4\">4</td><td nowrap=\"nowrap\">&nbsp;&nbsp;&nbsp;&nbsp;return&nbsp;<span class=\"diff_chg\">y</span>&nbsp;+&nbsp;<span class=\"diff_chg\">y2</span></td><td class=\"diff_next\"></td><td class=\"diff_header\" id=\"to0_4\">4</td><td nowrap=\"nowrap\">&nbsp;&nbsp;&nbsp;&nbsp;return&nbsp;<span class=\"diff_chg\">a3</span>&nbsp;+&nbsp;<span class=\"diff_chg\">a</span></td></tr>\n",
        "            <tr><td class=\"diff_next\"></td><td class=\"diff_header\" id=\"from0_5\">5</td><td nowrap=\"nowrap\"></td><td class=\"diff_next\"></td><td class=\"diff_header\" id=\"to0_5\">5</td><td nowrap=\"nowrap\"></td></tr>\n",
        "            <tr><td class=\"diff_next\"><a href=\"#difflib_chg_to0__2\">n</a></td><td class=\"diff_header\" id=\"from0_6\">6</td><td nowrap=\"nowrap\">print&nbsp;<span class=\"diff_chg\">f</span>(22)</td><td class=\"diff_next\"><a href=\"#difflib_chg_to0__2\">n</a></td><td class=\"diff_header\" id=\"to0_6\">6</td><td nowrap=\"nowrap\">print&nbsp;<span class=\"diff_chg\">z</span>(22)</td></tr>\n",
        "            <tr><td class=\"diff_next\"></td><td class=\"diff_header\" id=\"from0_7\">7</td><td nowrap=\"nowrap\"></td><td class=\"diff_next\"></td><td class=\"diff_header\" id=\"to0_7\">7</td><td nowrap=\"nowrap\"></td></tr>\n",
        "            <tr><td class=\"diff_next\" id=\"difflib_chg_to0__3\"><a href=\"#difflib_chg_to0__3\">n</a></td><td class=\"diff_header\" id=\"from0_8\">8</td><td nowrap=\"nowrap\">def&nbsp;f<span class=\"diff_chg\">2</span>(x):</td><td class=\"diff_next\"><a href=\"#difflib_chg_to0__3\">n</a></td><td class=\"diff_header\" id=\"to0_8\">8</td><td nowrap=\"nowrap\">def&nbsp;f<span class=\"diff_chg\">3</span>(x):</td></tr>\n",
        "            <tr><td class=\"diff_next\"></td><td class=\"diff_header\" id=\"from0_9\">9</td><td nowrap=\"nowrap\">&nbsp;&nbsp;&nbsp;&nbsp;<span class=\"diff_chg\">k</span>&nbsp;=&nbsp;2&nbsp;*&nbsp;x</td><td class=\"diff_next\"></td><td class=\"diff_header\" id=\"to0_9\">9</td><td nowrap=\"nowrap\">&nbsp;&nbsp;&nbsp;&nbsp;<span class=\"diff_chg\">jj</span>&nbsp;=&nbsp;2&nbsp;*&nbsp;x</td></tr>\n",
        "            <tr><td class=\"diff_next\" id=\"difflib_chg_to0__4\"></td><td class=\"diff_header\" id=\"from0_10\">10</td><td nowrap=\"nowrap\">&nbsp;&nbsp;&nbsp;&nbsp;<span class=\"diff_chg\">k</span>&nbsp;=&nbsp;3&nbsp;*&nbsp;<span class=\"diff_chg\">k</span></td><td class=\"diff_next\"></td><td class=\"diff_header\" id=\"to0_10\">10</td><td nowrap=\"nowrap\">&nbsp;&nbsp;&nbsp;&nbsp;<span class=\"diff_chg\">jj</span>&nbsp;=&nbsp;3&nbsp;*&nbsp;<span class=\"diff_chg\">jj</span></td></tr>\n",
        "            <tr><td class=\"diff_next\"></td><td class=\"diff_header\" id=\"from0_11\">11</td><td nowrap=\"nowrap\">&nbsp;&nbsp;&nbsp;&nbsp;return&nbsp;<span class=\"diff_chg\">k</span>**3</td><td class=\"diff_next\"></td><td class=\"diff_header\" id=\"to0_11\">11</td><td nowrap=\"nowrap\">&nbsp;&nbsp;&nbsp;&nbsp;return&nbsp;<span class=\"diff_chg\">jj</span>**3</td></tr>\n",
        "            <tr><td class=\"diff_next\"></td><td class=\"diff_header\" id=\"from0_12\">12</td><td nowrap=\"nowrap\"></td><td class=\"diff_next\"></td><td class=\"diff_header\" id=\"to0_12\">12</td><td nowrap=\"nowrap\"></td></tr>\n",
        "            <tr><td class=\"diff_next\"><a href=\"#difflib_chg_to0__4\">n</a></td><td class=\"diff_header\" id=\"from0_13\">13</td><td nowrap=\"nowrap\">f<span class=\"diff_chg\">2</span>(11<span class=\"diff_sub\">1</span>)</td><td class=\"diff_next\"><a href=\"#difflib_chg_to0__4\">n</a></td><td class=\"diff_header\" id=\"to0_13\">13</td><td nowrap=\"nowrap\">f<span class=\"diff_chg\">3</span>(11)</td></tr>\n",
        "            <tr><td class=\"diff_next\"></td><td class=\"diff_header\" id=\"from0_14\">14</td><td nowrap=\"nowrap\"></td><td class=\"diff_next\"></td><td class=\"diff_header\" id=\"to0_14\">14</td><td nowrap=\"nowrap\"></td></tr>\n",
        "            <tr><td class=\"diff_next\"><a href=\"#difflib_chg_to0__top\">t</a></td><td class=\"diff_header\" id=\"from0_15\">15</td><td nowrap=\"nowrap\"><span class=\"diff_sub\">f(42)&nbsp;+&nbsp;f2(42)</span></td><td class=\"diff_next\"><a href=\"#difflib_chg_to0__top\">t</a></td><td class=\"diff_header\" id=\"to0_15\">15</td><td nowrap=\"nowrap\"><span class=\"diff_add\">z(24)&nbsp;+&nbsp;f3(24)</span></td></tr>\n",
        "            <tr><td class=\"diff_next\"></td><td class=\"diff_header\" id=\"from0_16\">16</td><td nowrap=\"nowrap\"></td><td class=\"diff_next\"></td><td class=\"diff_header\" id=\"to0_16\">16</td><td nowrap=\"nowrap\"></td></tr>\n",
        "            <tr><td class=\"diff_next\"></td><td class=\"diff_header\" id=\"from0_17\">17</td><td nowrap=\"nowrap\"></td><td class=\"diff_next\"></td><td class=\"diff_header\" id=\"to0_17\">17</td><td nowrap=\"nowrap\"></td></tr>\n",
        "        </tbody>\n",
        "    </table>"
       ],
       "metadata": {},
       "output_type": "pyout",
       "prompt_number": 19,
       "text": [
        "<IPython.core.display.HTML at 0x44a8290>"
       ]
      }
     ],
     "prompt_number": 19
    },
    {
     "cell_type": "code",
     "collapsed": false,
     "input": [
      "showdiff(\"test/test1.ipynb\", \"test/test3.ipynb\")"
     ],
     "language": "python",
     "metadata": {},
     "outputs": [
      {
       "html": [
        "\n",
        "    <table class=\"diff\" id=\"difflib_chg_to1__top\"\n",
        "           cellspacing=\"0\" cellpadding=\"0\" rules=\"groups\" >\n",
        "        <colgroup></colgroup> <colgroup></colgroup> <colgroup></colgroup>\n",
        "        <colgroup></colgroup> <colgroup></colgroup> <colgroup></colgroup>\n",
        "        <thead><tr><th class=\"diff_next\"><br /></th><th colspan=\"2\" class=\"diff_header\">test/test1.ipynb</th><th class=\"diff_next\"><br /></th><th colspan=\"2\" class=\"diff_header\">test/test3.ipynb</th></tr></thead>\n",
        "        <tbody>\n",
        "            <tr><td class=\"diff_next\" id=\"difflib_chg_to1__1\"><a href=\"#difflib_chg_to1__1\">n</a></td><td class=\"diff_header\" id=\"from1_1\">1</td><td nowrap=\"nowrap\">def&nbsp;f(x):</td><td class=\"diff_next\"><a href=\"#difflib_chg_to1__1\">n</a></td><td class=\"diff_header\" id=\"to1_1\">1</td><td nowrap=\"nowrap\">def&nbsp;f<span class=\"diff_add\">1</span>(x):</td></tr>\n",
        "            <tr><td class=\"diff_next\"></td><td class=\"diff_header\" id=\"from1_2\">2</td><td nowrap=\"nowrap\"><span class=\"diff_sub\">&nbsp;&nbsp;&nbsp;&nbsp;y&nbsp;=&nbsp;2&nbsp;*&nbsp;x</span></td><td class=\"diff_next\"></td><td class=\"diff_header\" id=\"to1_2\">2</td><td nowrap=\"nowrap\"><span class=\"diff_add\">&nbsp;&nbsp;&nbsp;&nbsp;return&nbsp;5&nbsp;*&nbsp;x</span></td></tr>\n",
        "            <tr><td class=\"diff_next\"></td><td class=\"diff_header\" id=\"from1_3\">3</td><td nowrap=\"nowrap\"><span class=\"diff_sub\">&nbsp;&nbsp;&nbsp;&nbsp;y2&nbsp;=&nbsp;3&nbsp;*&nbsp;x</span></td><td class=\"diff_next\"></td><td class=\"diff_header\"></td><td nowrap=\"nowrap\"></td></tr>\n",
        "            <tr><td class=\"diff_next\" id=\"difflib_chg_to1__2\"></td><td class=\"diff_header\" id=\"from1_4\">4</td><td nowrap=\"nowrap\"><span class=\"diff_sub\">&nbsp;&nbsp;&nbsp;&nbsp;return&nbsp;y&nbsp;+&nbsp;y2</span></td><td class=\"diff_next\"></td><td class=\"diff_header\"></td><td nowrap=\"nowrap\"></td></tr>\n",
        "            <tr><td class=\"diff_next\"></td><td class=\"diff_header\" id=\"from1_5\">5</td><td nowrap=\"nowrap\"></td><td class=\"diff_next\"></td><td class=\"diff_header\" id=\"to1_3\">3</td><td nowrap=\"nowrap\"></td></tr>\n",
        "            <tr><td class=\"diff_next\"><a href=\"#difflib_chg_to1__2\">n</a></td><td class=\"diff_header\" id=\"from1_6\">6</td><td nowrap=\"nowrap\">print&nbsp;f(<span class=\"diff_chg\">2</span>2)</td><td class=\"diff_next\"><a href=\"#difflib_chg_to1__2\">n</a></td><td class=\"diff_header\" id=\"to1_4\">4</td><td nowrap=\"nowrap\">print&nbsp;f<span class=\"diff_add\">1</span>(<span class=\"diff_chg\">4</span>2)</td></tr>\n",
        "            <tr><td class=\"diff_next\"></td><td class=\"diff_header\" id=\"from1_7\">7</td><td nowrap=\"nowrap\"></td><td class=\"diff_next\"></td><td class=\"diff_header\" id=\"to1_5\">5</td><td nowrap=\"nowrap\"></td></tr>\n",
        "            <tr><td class=\"diff_next\" id=\"difflib_chg_to1__3\"></td><td class=\"diff_header\" id=\"from1_8\">8</td><td nowrap=\"nowrap\">def&nbsp;f2(x):</td><td class=\"diff_next\"></td><td class=\"diff_header\" id=\"to1_6\">6</td><td nowrap=\"nowrap\">def&nbsp;f2(x):</td></tr>\n",
        "            <tr><td class=\"diff_next\"><a href=\"#difflib_chg_to1__3\">n</a></td><td class=\"diff_header\" id=\"from1_9\">9</td><td nowrap=\"nowrap\"><span class=\"diff_sub\">&nbsp;&nbsp;&nbsp;&nbsp;k&nbsp;=&nbsp;2&nbsp;*&nbsp;x</span></td><td class=\"diff_next\"><a href=\"#difflib_chg_to1__3\">n</a></td><td class=\"diff_header\"></td><td nowrap=\"nowrap\"></td></tr>\n",
        "            <tr><td class=\"diff_next\" id=\"difflib_chg_to1__4\"></td><td class=\"diff_header\" id=\"from1_10\">10</td><td nowrap=\"nowrap\"><span class=\"diff_sub\">&nbsp;&nbsp;&nbsp;&nbsp;k&nbsp;=&nbsp;3&nbsp;*&nbsp;k</span></td><td class=\"diff_next\"></td><td class=\"diff_header\"></td><td nowrap=\"nowrap\"></td></tr>\n",
        "            <tr><td class=\"diff_next\"></td><td class=\"diff_header\" id=\"from1_11\">11</td><td nowrap=\"nowrap\">&nbsp;&nbsp;&nbsp;&nbsp;return&nbsp;<span class=\"diff_chg\">k</span>**3</td><td class=\"diff_next\"></td><td class=\"diff_header\" id=\"to1_7\">7</td><td nowrap=\"nowrap\">&nbsp;&nbsp;&nbsp;&nbsp;return&nbsp;<span class=\"diff_chg\">(6*x)</span>**3</td></tr>\n",
        "            <tr><td class=\"diff_next\"></td><td class=\"diff_header\" id=\"from1_12\">12</td><td nowrap=\"nowrap\"></td><td class=\"diff_next\"></td><td class=\"diff_header\" id=\"to1_8\">8</td><td nowrap=\"nowrap\"></td></tr>\n",
        "            <tr><td class=\"diff_next\" id=\"difflib_chg_to1__5\"><a href=\"#difflib_chg_to1__4\">n</a></td><td class=\"diff_header\" id=\"from1_13\">13</td><td nowrap=\"nowrap\">f2(11<span class=\"diff_sub\">1</span>)</td><td class=\"diff_next\"><a href=\"#difflib_chg_to1__4\">n</a></td><td class=\"diff_header\" id=\"to1_9\">9</td><td nowrap=\"nowrap\">f2(11)</td></tr>\n",
        "            <tr><td class=\"diff_next\"></td><td class=\"diff_header\" id=\"from1_14\">14</td><td nowrap=\"nowrap\"></td><td class=\"diff_next\"></td><td class=\"diff_header\" id=\"to1_10\">10</td><td nowrap=\"nowrap\"></td></tr>\n",
        "            <tr><td class=\"diff_next\"><a href=\"#difflib_chg_to1__5\">n</a></td><td class=\"diff_header\" id=\"from1_15\">15</td><td nowrap=\"nowrap\">f(4<span class=\"diff_sub\">2</span>)&nbsp;+&nbsp;f2(4<span class=\"diff_sub\">2</span>)</td><td class=\"diff_next\"><a href=\"#difflib_chg_to1__5\">n</a></td><td class=\"diff_header\" id=\"to1_11\">11</td><td nowrap=\"nowrap\">f<span class=\"diff_add\">1</span>(<span class=\"diff_add\">2</span>4)&nbsp;+&nbsp;f2(<span class=\"diff_add\">2</span>4)</td></tr>\n",
        "            <tr><td class=\"diff_next\"></td><td class=\"diff_header\" id=\"from1_16\">16</td><td nowrap=\"nowrap\"></td><td class=\"diff_next\"></td><td class=\"diff_header\" id=\"to1_12\">12</td><td nowrap=\"nowrap\"></td></tr>\n",
        "            <tr><td class=\"diff_next\"></td><td class=\"diff_header\" id=\"from1_17\">17</td><td nowrap=\"nowrap\"></td><td class=\"diff_next\"></td><td class=\"diff_header\" id=\"to1_13\">13</td><td nowrap=\"nowrap\"></td></tr>\n",
        "            <tr><td class=\"diff_next\"><a href=\"#difflib_chg_to1__top\">t</a></td><td class=\"diff_header\"></td><td nowrap=\"nowrap\"></td><td class=\"diff_next\"><a href=\"#difflib_chg_to1__top\">t</a></td><td class=\"diff_header\" id=\"to1_14\">14</td><td nowrap=\"nowrap\"><span class=\"diff_add\">&nbsp;</span></td></tr>\n",
        "            <tr><td class=\"diff_next\"></td><td class=\"diff_header\"></td><td nowrap=\"nowrap\"></td><td class=\"diff_next\"></td><td class=\"diff_header\" id=\"to1_15\">15</td><td nowrap=\"nowrap\"><span class=\"diff_add\">&nbsp;</span></td></tr>\n",
        "        </tbody>\n",
        "    </table>"
       ],
       "metadata": {},
       "output_type": "pyout",
       "prompt_number": 20,
       "text": [
        "<IPython.core.display.HTML at 0x4620f50>"
       ]
      }
     ],
     "prompt_number": 20
    },
    {
     "cell_type": "code",
     "collapsed": false,
     "input": [],
     "language": "python",
     "metadata": {},
     "outputs": [],
     "prompt_number": 20
    },
    {
     "cell_type": "code",
     "collapsed": false,
     "input": [],
     "language": "python",
     "metadata": {},
     "outputs": [],
     "prompt_number": 20
    }
   ],
   "metadata": {}
  }
 ]
}
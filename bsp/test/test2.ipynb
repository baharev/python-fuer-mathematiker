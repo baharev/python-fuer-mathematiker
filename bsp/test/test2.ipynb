{
 "metadata": {
  "name": "",
  "signature": "sha256:7f9b3ea3a56d94e84f52a90a7758895f0c961f1566b7727821ad14a0f2950ff9"
 },
 "nbformat": 3,
 "nbformat_minor": 0,
 "worksheets": [
  {
   "cells": [
    {
     "cell_type": "markdown",
     "metadata": {},
     "source": [
      "# some bla\n",
      "\n",
      "blabla"
     ]
    },
    {
     "cell_type": "code",
     "collapsed": false,
     "input": [
      "def z(x):\n",
      "    a3 = 3 * x\n",
      "    a = 2 * x\n",
      "    return a3 + a"
     ],
     "language": "python",
     "metadata": {},
     "outputs": [],
     "prompt_number": 1
    },
    {
     "cell_type": "code",
     "collapsed": false,
     "input": [
      "print z(22)"
     ],
     "language": "python",
     "metadata": {},
     "outputs": [
      {
       "output_type": "stream",
       "stream": "stdout",
       "text": [
        "110\n"
       ]
      }
     ],
     "prompt_number": 2
    },
    {
     "cell_type": "markdown",
     "metadata": {},
     "source": [
      "## more bla\n",
      "\n",
      "blabla\n",
      "\n",
      "ignore this"
     ]
    },
    {
     "cell_type": "code",
     "collapsed": false,
     "input": [
      "def f3(x):\n",
      "    jj = 2 * x\n",
      "    jj = 3 * jj\n",
      "    return jj**3"
     ],
     "language": "python",
     "metadata": {},
     "outputs": [],
     "prompt_number": 3
    },
    {
     "cell_type": "code",
     "collapsed": false,
     "input": [
      "f3(11)"
     ],
     "language": "python",
     "metadata": {},
     "outputs": [
      {
       "metadata": {},
       "output_type": "pyout",
       "prompt_number": 6,
       "text": [
        "287496"
       ]
      }
     ],
     "prompt_number": 6
    },
    {
     "cell_type": "code",
     "collapsed": false,
     "input": [
      "z(24) + f3(24)"
     ],
     "language": "python",
     "metadata": {},
     "outputs": [
      {
       "metadata": {},
       "output_type": "pyout",
       "prompt_number": 9,
       "text": [
        "2986104"
       ]
      }
     ],
     "prompt_number": 9
    },
    {
     "cell_type": "code",
     "collapsed": false,
     "input": [],
     "language": "python",
     "metadata": {},
     "outputs": []
    }
   ],
   "metadata": {}
  }
 ]
}